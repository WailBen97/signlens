{
 "cells": [
  {
   "cell_type": "markdown",
   "id": "ec810a73-ca9c-46aa-8e9d-57e438858f79",
   "metadata": {},
   "source": [
    "## Imports"
   ]
  },
  {
   "cell_type": "code",
   "execution_count": 6,
   "id": "071acfd0-88a8-4a6c-ad6c-43a45b2855e4",
   "metadata": {
    "execution": {
     "iopub.execute_input": "2024-03-26T11:01:57.723287Z",
     "iopub.status.busy": "2024-03-26T11:01:57.722430Z",
     "iopub.status.idle": "2024-03-26T11:01:57.851783Z",
     "shell.execute_reply": "2024-03-26T11:01:57.849031Z",
     "shell.execute_reply.started": "2024-03-26T11:01:57.723234Z"
    },
    "tags": []
   },
   "outputs": [
    {
     "name": "stdout",
     "output_type": "stream",
     "text": [
      "The autoreload extension is already loaded. To reload it, use:\n",
      "  %reload_ext autoreload\n"
     ]
    }
   ],
   "source": [
    "import pandas as pd\n",
    "import numpy as np\n",
    "import seaborn as sns\n",
    "import os\n",
    "import sklearn\n",
    "\n",
    "import matplotlib.pyplot as plt\n",
    "from matplotlib.animation import FuncAnimation\n",
    "\n",
    "from pathlib import Path\n",
    "from IPython.display import Image, display, Video, HTML\n",
    "from ipywidgets import interact, widgets\n",
    "\n",
    "from signlens.params import *\n",
    "from signlens.preprocessing import data, preprocess\n",
    "from signlens.model import workflow\n",
    "from signlens.model.model_architecture import initialize_model, compile_model, train_model, evaluate_model\n",
    "from signlens.model import model_utils\n",
    "\n",
    "from utils import plot_landmarks\n",
    "\n",
    "# reload automatically python functions outside notebook\n",
    "%load_ext autoreload\n",
    "%autoreload 2"
   ]
  },
  {
   "cell_type": "markdown",
   "id": "2cdbc4f1-1997-41e9-b2e5-1cd528ae3b4e",
   "metadata": {},
   "source": [
    "## Fetch data"
   ]
  },
  {
   "cell_type": "code",
   "execution_count": 14,
   "id": "accaff0b-5973-46d4-887d-47ca07b0bb3f",
   "metadata": {
    "execution": {
     "iopub.execute_input": "2024-03-26T11:02:27.776259Z",
     "iopub.status.busy": "2024-03-26T11:02:27.775261Z",
     "iopub.status.idle": "2024-03-26T11:02:27.869481Z",
     "shell.execute_reply": "2024-03-26T11:02:27.865898Z",
     "shell.execute_reply.started": "2024-03-26T11:02:27.776214Z"
    },
    "tags": []
   },
   "outputs": [
    {
     "name": "stdout",
     "output_type": "stream",
     "text": [
      "DATA_FRAC : 0.1\n",
      "NUM_CLASSES : 10\n",
      "MAX_SEQ_LEN : 100\n"
     ]
    }
   ],
   "source": [
    "# variables loaded from .env\n",
    "print(f\"DATA_FRAC : {DATA_FRAC}\")\n",
    "print(f\"NUM_CLASSES : {NUM_CLASSES}\")\n",
    "print(f\"MAX_SEQ_LEN : {MAX_SEQ_LEN}\")\n",
    "\n",
    "n_frames=MAX_SEQ_LEN\n",
    "n_landmarks=N_LANDMARKS_NO_FACE\n",
    "num_classes=NUM_CLASSES"
   ]
  },
  {
   "cell_type": "code",
   "execution_count": 7,
   "id": "059bc795-4821-4c70-a1a7-7b313d70d680",
   "metadata": {
    "execution": {
     "iopub.execute_input": "2024-03-26T11:02:00.110287Z",
     "iopub.status.busy": "2024-03-26T11:02:00.109355Z",
     "iopub.status.idle": "2024-03-26T11:02:09.289409Z",
     "shell.execute_reply": "2024-03-26T11:02:09.287046Z",
     "shell.execute_reply.started": "2024-03-26T11:02:00.110241Z"
    },
    "tags": []
   },
   "outputs": [
    {
     "name": "stdout",
     "output_type": "stream",
     "text": [
      "\u001b[35m\u001b[1m\n",
      "⭐️ Use case: preprocess\u001b[0m\n",
      "\u001b[34mLoading data subset from train_train.csv\u001b[0m\n",
      "    ℹ️ Random state set for data loading : 42\n",
      "    ℹ️ Filtered sequences with missing frames. Size reduced from 77228 to 77228 (100.00%)\n",
      "    ℹ️ Filtered on n_frames = 100. Size reduced from 77228 to 68935 (89.26%)\n",
      "    ℹ️ Filtered on n_classes = 10. Size reduced from 68935 to 2801 (4.06%)\n",
      "    ℹ️ Balanced data, with average of 28.0 elements per class. Size reduced from 2801 to 280 (10.00%)\n",
      "✅ Loaded 280 rows (0.36% of the original 77228 rows) from the dataset.\n",
      "\u001b[34m\n",
      "Preprocessing 224 training files...\u001b[0m\n"
     ]
    },
    {
     "name": "stderr",
     "output_type": "stream",
     "text": [
      "/home/bfrisque/.pyenv/versions/3.10.6/lib/python3.10/multiprocessing/popen_fork.py:66: RuntimeWarning: os.fork() was called. os.fork() is incompatible with multithreaded code, and JAX is multithreaded, so this will likely lead to a deadlock.\n",
      "  self.pid = os.fork()\n",
      "100%|████████████████████████████████████████████████████████████████████████████████████████████| 224/224 [00:03<00:00, 61.02it/s]\n"
     ]
    },
    {
     "name": "stdout",
     "output_type": "stream",
     "text": [
      "\u001b[34m\n",
      "Preprocessing 56 validation files...\u001b[0m\n"
     ]
    },
    {
     "name": "stderr",
     "output_type": "stream",
     "text": [
      "2024-03-26 12:02:06.991760: I external/local_xla/xla/stream_executor/cuda/cuda_executor.cc:984] could not open file to read NUMA node: /sys/bus/pci/devices/0000:01:00.0/numa_node\n",
      "Your kernel may have been built without NUMA support.\n",
      "2024-03-26 12:02:06.992884: W tensorflow/core/common_runtime/gpu/gpu_device.cc:2251] Cannot dlopen some GPU libraries. Please make sure the missing libraries mentioned above are installed properly if you would like to use GPU. Follow the guide at https://www.tensorflow.org/install/gpu for how to download and setup the required libraries for your platform.\n",
      "Skipping registering GPU devices...\n",
      "100%|██████████████████████████████████████████████████████████████████████████████████████████████| 56/56 [00:01<00:00, 32.13it/s]\n"
     ]
    }
   ],
   "source": [
    "random_state = 42\n",
    "X_train, X_val, y_train, y_val = workflow.preprocess(random_state=random_state)"
   ]
  },
  {
   "cell_type": "code",
   "execution_count": 9,
   "id": "84e5de04-3ee7-49bd-9484-dea8a6c4a2c5",
   "metadata": {
    "execution": {
     "iopub.execute_input": "2024-03-26T11:02:10.492456Z",
     "iopub.status.busy": "2024-03-26T11:02:10.491438Z",
     "iopub.status.idle": "2024-03-26T11:02:10.594266Z",
     "shell.execute_reply": "2024-03-26T11:02:10.591251Z",
     "shell.execute_reply.started": "2024-03-26T11:02:10.492408Z"
    },
    "tags": []
   },
   "outputs": [
    {
     "data": {
      "text/plain": [
       "array([22., 23., 22., 22., 23., 22., 22., 22., 23., 23.])"
      ]
     },
     "execution_count": 9,
     "metadata": {},
     "output_type": "execute_result"
    }
   ],
   "source": [
    "y_train.sum(axis=0)"
   ]
  },
  {
   "cell_type": "code",
   "execution_count": 10,
   "id": "93669e7d-c652-44a3-9b0d-eff04674c082",
   "metadata": {
    "execution": {
     "iopub.execute_input": "2024-03-26T11:02:12.133051Z",
     "iopub.status.busy": "2024-03-26T11:02:12.132283Z",
     "iopub.status.idle": "2024-03-26T11:02:12.250514Z",
     "shell.execute_reply": "2024-03-26T11:02:12.247299Z",
     "shell.execute_reply.started": "2024-03-26T11:02:12.133013Z"
    },
    "tags": []
   },
   "outputs": [
    {
     "data": {
      "text/plain": [
       "array([6., 5., 6., 6., 5., 6., 6., 6., 5., 5.])"
      ]
     },
     "execution_count": 10,
     "metadata": {},
     "output_type": "execute_result"
    }
   ],
   "source": [
    "y_val.sum(axis=0)"
   ]
  },
  {
   "cell_type": "markdown",
   "id": "93685323-13ec-4986-92ba-f9c1ac31c44e",
   "metadata": {},
   "source": [
    "## Model"
   ]
  },
  {
   "cell_type": "code",
   "execution_count": 11,
   "id": "ca62629a-d3f6-48a7-bb9c-cdc03b1d6cfa",
   "metadata": {
    "execution": {
     "iopub.execute_input": "2024-03-26T11:02:13.015255Z",
     "iopub.status.busy": "2024-03-26T11:02:13.012891Z",
     "iopub.status.idle": "2024-03-26T11:02:13.125565Z",
     "shell.execute_reply": "2024-03-26T11:02:13.122814Z",
     "shell.execute_reply.started": "2024-03-26T11:02:13.015187Z"
    },
    "tags": []
   },
   "outputs": [],
   "source": [
    "from tensorflow.keras import Model, Sequential\n",
    "from tensorflow.keras.layers import TimeDistributed, LSTM, Dense, Masking, Flatten, Dropout, SimpleRNN, Reshape, Bidirectional, Input, Conv1D\n",
    "from tensorflow.keras.callbacks import EarlyStopping, ModelCheckpoint, ReduceLROnPlateau\n",
    "from tensorflow.keras.optimizers import Adam"
   ]
  },
  {
   "cell_type": "code",
   "execution_count": 15,
   "id": "07986645-0a03-4df6-938a-447236fa22c0",
   "metadata": {
    "execution": {
     "iopub.execute_input": "2024-03-26T11:02:31.550399Z",
     "iopub.status.busy": "2024-03-26T11:02:31.548316Z",
     "iopub.status.idle": "2024-03-26T11:02:31.861035Z",
     "shell.execute_reply": "2024-03-26T11:02:31.858668Z",
     "shell.execute_reply.started": "2024-03-26T11:02:31.550334Z"
    },
    "tags": []
   },
   "outputs": [
    {
     "data": {
      "text/html": [
       "<pre style=\"white-space:pre;overflow-x:auto;line-height:normal;font-family:Menlo,'DejaVu Sans Mono',consolas,'Courier New',monospace\"><span style=\"font-weight: bold\">Model: \"sequential_1\"</span>\n",
       "</pre>\n"
      ],
      "text/plain": [
       "\u001b[1mModel: \"sequential_1\"\u001b[0m\n"
      ]
     },
     "metadata": {},
     "output_type": "display_data"
    },
    {
     "data": {
      "text/html": [
       "<pre style=\"white-space:pre;overflow-x:auto;line-height:normal;font-family:Menlo,'DejaVu Sans Mono',consolas,'Courier New',monospace\">┏━━━━━━━━━━━━━━━━━━━━━━━━━━━━━━━━━┳━━━━━━━━━━━━━━━━━━━━━━━━┳━━━━━━━━━━━━━━━┓\n",
       "┃<span style=\"font-weight: bold\"> Layer (type)                    </span>┃<span style=\"font-weight: bold\"> Output Shape           </span>┃<span style=\"font-weight: bold\">       Param # </span>┃\n",
       "┡━━━━━━━━━━━━━━━━━━━━━━━━━━━━━━━━━╇━━━━━━━━━━━━━━━━━━━━━━━━╇━━━━━━━━━━━━━━━┩\n",
       "│ masking_1 (<span style=\"color: #0087ff; text-decoration-color: #0087ff\">Masking</span>)             │ (<span style=\"color: #00d7ff; text-decoration-color: #00d7ff\">None</span>, <span style=\"color: #00af00; text-decoration-color: #00af00\">100</span>, <span style=\"color: #00af00; text-decoration-color: #00af00\">225</span>)       │             <span style=\"color: #00af00; text-decoration-color: #00af00\">0</span> │\n",
       "├─────────────────────────────────┼────────────────────────┼───────────────┤\n",
       "│ batch_normalization_1           │ (<span style=\"color: #00d7ff; text-decoration-color: #00d7ff\">None</span>, <span style=\"color: #00af00; text-decoration-color: #00af00\">100</span>, <span style=\"color: #00af00; text-decoration-color: #00af00\">225</span>)       │           <span style=\"color: #00af00; text-decoration-color: #00af00\">900</span> │\n",
       "│ (<span style=\"color: #0087ff; text-decoration-color: #0087ff\">BatchNormalization</span>)            │                        │               │\n",
       "├─────────────────────────────────┼────────────────────────┼───────────────┤\n",
       "│ simple_rnn_1 (<span style=\"color: #0087ff; text-decoration-color: #0087ff\">SimpleRNN</span>)        │ (<span style=\"color: #00d7ff; text-decoration-color: #00d7ff\">None</span>, <span style=\"color: #00af00; text-decoration-color: #00af00\">100</span>, <span style=\"color: #00af00; text-decoration-color: #00af00\">128</span>)       │        <span style=\"color: #00af00; text-decoration-color: #00af00\">45,312</span> │\n",
       "├─────────────────────────────────┼────────────────────────┼───────────────┤\n",
       "│ lstm_2 (<span style=\"color: #0087ff; text-decoration-color: #0087ff\">LSTM</span>)                   │ (<span style=\"color: #00d7ff; text-decoration-color: #00d7ff\">None</span>, <span style=\"color: #00af00; text-decoration-color: #00af00\">100</span>, <span style=\"color: #00af00; text-decoration-color: #00af00\">128</span>)       │       <span style=\"color: #00af00; text-decoration-color: #00af00\">131,584</span> │\n",
       "├─────────────────────────────────┼────────────────────────┼───────────────┤\n",
       "│ lstm_3 (<span style=\"color: #0087ff; text-decoration-color: #0087ff\">LSTM</span>)                   │ (<span style=\"color: #00d7ff; text-decoration-color: #00d7ff\">None</span>, <span style=\"color: #00af00; text-decoration-color: #00af00\">128</span>)            │       <span style=\"color: #00af00; text-decoration-color: #00af00\">131,584</span> │\n",
       "├─────────────────────────────────┼────────────────────────┼───────────────┤\n",
       "│ dense_2 (<span style=\"color: #0087ff; text-decoration-color: #0087ff\">Dense</span>)                 │ (<span style=\"color: #00d7ff; text-decoration-color: #00d7ff\">None</span>, <span style=\"color: #00af00; text-decoration-color: #00af00\">64</span>)             │         <span style=\"color: #00af00; text-decoration-color: #00af00\">8,256</span> │\n",
       "├─────────────────────────────────┼────────────────────────┼───────────────┤\n",
       "│ dropout_1 (<span style=\"color: #0087ff; text-decoration-color: #0087ff\">Dropout</span>)             │ (<span style=\"color: #00d7ff; text-decoration-color: #00d7ff\">None</span>, <span style=\"color: #00af00; text-decoration-color: #00af00\">64</span>)             │             <span style=\"color: #00af00; text-decoration-color: #00af00\">0</span> │\n",
       "├─────────────────────────────────┼────────────────────────┼───────────────┤\n",
       "│ dense_3 (<span style=\"color: #0087ff; text-decoration-color: #0087ff\">Dense</span>)                 │ (<span style=\"color: #00d7ff; text-decoration-color: #00d7ff\">None</span>, <span style=\"color: #00af00; text-decoration-color: #00af00\">10</span>)             │           <span style=\"color: #00af00; text-decoration-color: #00af00\">650</span> │\n",
       "└─────────────────────────────────┴────────────────────────┴───────────────┘\n",
       "</pre>\n"
      ],
      "text/plain": [
       "┏━━━━━━━━━━━━━━━━━━━━━━━━━━━━━━━━━┳━━━━━━━━━━━━━━━━━━━━━━━━┳━━━━━━━━━━━━━━━┓\n",
       "┃\u001b[1m \u001b[0m\u001b[1mLayer (type)                   \u001b[0m\u001b[1m \u001b[0m┃\u001b[1m \u001b[0m\u001b[1mOutput Shape          \u001b[0m\u001b[1m \u001b[0m┃\u001b[1m \u001b[0m\u001b[1m      Param #\u001b[0m\u001b[1m \u001b[0m┃\n",
       "┡━━━━━━━━━━━━━━━━━━━━━━━━━━━━━━━━━╇━━━━━━━━━━━━━━━━━━━━━━━━╇━━━━━━━━━━━━━━━┩\n",
       "│ masking_1 (\u001b[38;5;33mMasking\u001b[0m)             │ (\u001b[38;5;45mNone\u001b[0m, \u001b[38;5;34m100\u001b[0m, \u001b[38;5;34m225\u001b[0m)       │             \u001b[38;5;34m0\u001b[0m │\n",
       "├─────────────────────────────────┼────────────────────────┼───────────────┤\n",
       "│ batch_normalization_1           │ (\u001b[38;5;45mNone\u001b[0m, \u001b[38;5;34m100\u001b[0m, \u001b[38;5;34m225\u001b[0m)       │           \u001b[38;5;34m900\u001b[0m │\n",
       "│ (\u001b[38;5;33mBatchNormalization\u001b[0m)            │                        │               │\n",
       "├─────────────────────────────────┼────────────────────────┼───────────────┤\n",
       "│ simple_rnn_1 (\u001b[38;5;33mSimpleRNN\u001b[0m)        │ (\u001b[38;5;45mNone\u001b[0m, \u001b[38;5;34m100\u001b[0m, \u001b[38;5;34m128\u001b[0m)       │        \u001b[38;5;34m45,312\u001b[0m │\n",
       "├─────────────────────────────────┼────────────────────────┼───────────────┤\n",
       "│ lstm_2 (\u001b[38;5;33mLSTM\u001b[0m)                   │ (\u001b[38;5;45mNone\u001b[0m, \u001b[38;5;34m100\u001b[0m, \u001b[38;5;34m128\u001b[0m)       │       \u001b[38;5;34m131,584\u001b[0m │\n",
       "├─────────────────────────────────┼────────────────────────┼───────────────┤\n",
       "│ lstm_3 (\u001b[38;5;33mLSTM\u001b[0m)                   │ (\u001b[38;5;45mNone\u001b[0m, \u001b[38;5;34m128\u001b[0m)            │       \u001b[38;5;34m131,584\u001b[0m │\n",
       "├─────────────────────────────────┼────────────────────────┼───────────────┤\n",
       "│ dense_2 (\u001b[38;5;33mDense\u001b[0m)                 │ (\u001b[38;5;45mNone\u001b[0m, \u001b[38;5;34m64\u001b[0m)             │         \u001b[38;5;34m8,256\u001b[0m │\n",
       "├─────────────────────────────────┼────────────────────────┼───────────────┤\n",
       "│ dropout_1 (\u001b[38;5;33mDropout\u001b[0m)             │ (\u001b[38;5;45mNone\u001b[0m, \u001b[38;5;34m64\u001b[0m)             │             \u001b[38;5;34m0\u001b[0m │\n",
       "├─────────────────────────────────┼────────────────────────┼───────────────┤\n",
       "│ dense_3 (\u001b[38;5;33mDense\u001b[0m)                 │ (\u001b[38;5;45mNone\u001b[0m, \u001b[38;5;34m10\u001b[0m)             │           \u001b[38;5;34m650\u001b[0m │\n",
       "└─────────────────────────────────┴────────────────────────┴───────────────┘\n"
      ]
     },
     "metadata": {},
     "output_type": "display_data"
    },
    {
     "data": {
      "text/html": [
       "<pre style=\"white-space:pre;overflow-x:auto;line-height:normal;font-family:Menlo,'DejaVu Sans Mono',consolas,'Courier New',monospace\"><span style=\"font-weight: bold\"> Total params: </span><span style=\"color: #00af00; text-decoration-color: #00af00\">318,286</span> (1.21 MB)\n",
       "</pre>\n"
      ],
      "text/plain": [
       "\u001b[1m Total params: \u001b[0m\u001b[38;5;34m318,286\u001b[0m (1.21 MB)\n"
      ]
     },
     "metadata": {},
     "output_type": "display_data"
    },
    {
     "data": {
      "text/html": [
       "<pre style=\"white-space:pre;overflow-x:auto;line-height:normal;font-family:Menlo,'DejaVu Sans Mono',consolas,'Courier New',monospace\"><span style=\"font-weight: bold\"> Trainable params: </span><span style=\"color: #00af00; text-decoration-color: #00af00\">317,836</span> (1.21 MB)\n",
       "</pre>\n"
      ],
      "text/plain": [
       "\u001b[1m Trainable params: \u001b[0m\u001b[38;5;34m317,836\u001b[0m (1.21 MB)\n"
      ]
     },
     "metadata": {},
     "output_type": "display_data"
    },
    {
     "data": {
      "text/html": [
       "<pre style=\"white-space:pre;overflow-x:auto;line-height:normal;font-family:Menlo,'DejaVu Sans Mono',consolas,'Courier New',monospace\"><span style=\"font-weight: bold\"> Non-trainable params: </span><span style=\"color: #00af00; text-decoration-color: #00af00\">450</span> (1.76 KB)\n",
       "</pre>\n"
      ],
      "text/plain": [
       "\u001b[1m Non-trainable params: \u001b[0m\u001b[38;5;34m450\u001b[0m (1.76 KB)\n"
      ]
     },
     "metadata": {},
     "output_type": "display_data"
    }
   ],
   "source": [
    "from tensorflow.keras.models import Sequential\n",
    "from tensorflow.keras.layers import Input, Conv1D, SimpleRNN, LSTM, Dense, Dropout, Masking, BatchNormalization\n",
    "\n",
    "# Define model\n",
    "model = Sequential()\n",
    "\n",
    "# Input layer with masking\n",
    "model.add(Input(shape=(n_frames, n_landmarks * 3)))\n",
    "model.add(Masking(mask_value=MASK_VALUE))\n",
    "\n",
    "model.add(BatchNormalization())\n",
    "\n",
    "# Recurrent layers\n",
    "model.add(SimpleRNN(units=128, return_sequences=True))\n",
    "model.add(LSTM(units=128, return_sequences=True))\n",
    "model.add(LSTM(units=128))\n",
    "model.add(Dense(64, activation='relu'))\n",
    "model.add(Dropout(0.2))\n",
    "\n",
    "# Output layer\n",
    "model.add(Dense(num_classes, activation='softmax'))\n",
    "\n",
    "# Print model summary\n",
    "model.summary()\n"
   ]
  },
  {
   "cell_type": "code",
   "execution_count": 17,
   "id": "3687d3a5-5322-46ae-8873-e591029b74f9",
   "metadata": {
    "execution": {
     "iopub.execute_input": "2024-03-26T12:23:54.786384Z",
     "iopub.status.busy": "2024-03-26T12:23:54.779820Z",
     "iopub.status.idle": "2024-03-26T12:24:10.897418Z",
     "shell.execute_reply": "2024-03-26T12:24:10.894169Z",
     "shell.execute_reply.started": "2024-03-26T12:23:54.785653Z"
    },
    "tags": []
   },
   "outputs": [
    {
     "name": "stdout",
     "output_type": "stream",
     "text": [
      "\u001b[34m\n",
      "Training model...\u001b[0m\n",
      "Epoch 1/100\n"
     ]
    },
    {
     "name": "stderr",
     "output_type": "stream",
     "text": [
      "\n",
      "KeyboardInterrupt\n",
      "\n"
     ]
    }
   ],
   "source": [
    "# Compilation\n",
    "model = compile_model(model)\n",
    "\n",
    "# Fitting\n",
    "paths = model_utils.create_model_folder()\n",
    "patience = 15\n",
    "epochs=100\n",
    "verbose=1\n",
    "batch_size=32\n",
    "validation_data=(X_val, y_val)\n",
    "shuffle=False\n",
    "\n",
    "model, history = train_model(model, X_train, y_train,\n",
    "                                 patience=patience,\n",
    "                                 epochs=epochs,\n",
    "                                 verbose=verbose,\n",
    "                                 batch_size=batch_size,\n",
    "                                 validation_data=validation_data,\n",
    "                                 shuffle=shuffle,\n",
    "                                 model_save_epoch_path=paths['iter']\n",
    "                                 )"
   ]
  },
  {
   "cell_type": "code",
   "execution_count": 32,
   "id": "ffda7ebc-22e1-4d39-833c-6415ba2c53d8",
   "metadata": {
    "execution": {
     "iopub.execute_input": "2024-03-26T09:24:29.344292Z",
     "iopub.status.busy": "2024-03-26T09:24:29.342791Z",
     "iopub.status.idle": "2024-03-26T09:24:41.108365Z",
     "shell.execute_reply": "2024-03-26T09:24:41.104820Z",
     "shell.execute_reply.started": "2024-03-26T09:24:29.344194Z"
    },
    "tags": []
   },
   "outputs": [
    {
     "data": {
      "image/png": "[encoded data removed]",
      "text/plain": [
       "<Figure size 1300x400 with 2 Axes>"
      ]
     },
     "metadata": {},
     "output_type": "display_data"
    }
   ],
   "source": [
    "model_utils.plot_history(history)"
   ]
  },
  {
   "cell_type": "markdown",
   "id": "4757fcf5-4733-4fbd-a010-0d06cea1a2e1",
   "metadata": {},
   "source": [
    "## V2"
   ]
  },
  {
   "cell_type": "code",
   "execution_count": 25,
   "id": "29abcbab-83db-4195-9142-e8604c840f7b",
   "metadata": {
    "execution": {
     "iopub.execute_input": "2024-03-26T12:27:02.378723Z",
     "iopub.status.busy": "2024-03-26T12:27:02.377746Z",
     "iopub.status.idle": "2024-03-26T12:27:02.827652Z",
     "shell.execute_reply": "2024-03-26T12:27:02.825499Z",
     "shell.execute_reply.started": "2024-03-26T12:27:02.378679Z"
    },
    "tags": []
   },
   "outputs": [
    {
     "data": {
      "text/html": [
       "<pre style=\"white-space:pre;overflow-x:auto;line-height:normal;font-family:Menlo,'DejaVu Sans Mono',consolas,'Courier New',monospace\"><span style=\"font-weight: bold\">Model: \"sequential_6\"</span>\n",
       "</pre>\n"
      ],
      "text/plain": [
       "\u001b[1mModel: \"sequential_6\"\u001b[0m\n"
      ]
     },
     "metadata": {},
     "output_type": "display_data"
    },
    {
     "data": {
      "text/html": [
       "<pre style=\"white-space:pre;overflow-x:auto;line-height:normal;font-family:Menlo,'DejaVu Sans Mono',consolas,'Courier New',monospace\">┏━━━━━━━━━━━━━━━━━━━━━━━━━━━━━━━━━┳━━━━━━━━━━━━━━━━━━━━━━━━┳━━━━━━━━━━━━━━━┓\n",
       "┃<span style=\"font-weight: bold\"> Layer (type)                    </span>┃<span style=\"font-weight: bold\"> Output Shape           </span>┃<span style=\"font-weight: bold\">       Param # </span>┃\n",
       "┡━━━━━━━━━━━━━━━━━━━━━━━━━━━━━━━━━╇━━━━━━━━━━━━━━━━━━━━━━━━╇━━━━━━━━━━━━━━━┩\n",
       "│ masking_6 (<span style=\"color: #0087ff; text-decoration-color: #0087ff\">Masking</span>)             │ (<span style=\"color: #00d7ff; text-decoration-color: #00d7ff\">None</span>, <span style=\"color: #00af00; text-decoration-color: #00af00\">100</span>, <span style=\"color: #00af00; text-decoration-color: #00af00\">225</span>)       │             <span style=\"color: #00af00; text-decoration-color: #00af00\">0</span> │\n",
       "├─────────────────────────────────┼────────────────────────┼───────────────┤\n",
       "│ batch_normalization_6           │ (<span style=\"color: #00d7ff; text-decoration-color: #00d7ff\">None</span>, <span style=\"color: #00af00; text-decoration-color: #00af00\">100</span>, <span style=\"color: #00af00; text-decoration-color: #00af00\">225</span>)       │           <span style=\"color: #00af00; text-decoration-color: #00af00\">900</span> │\n",
       "│ (<span style=\"color: #0087ff; text-decoration-color: #0087ff\">BatchNormalization</span>)            │                        │               │\n",
       "├─────────────────────────────────┼────────────────────────┼───────────────┤\n",
       "│ bidirectional_6 (<span style=\"color: #0087ff; text-decoration-color: #0087ff\">Bidirectional</span>) │ (<span style=\"color: #00d7ff; text-decoration-color: #00d7ff\">None</span>, <span style=\"color: #00af00; text-decoration-color: #00af00\">100</span>, <span style=\"color: #00af00; text-decoration-color: #00af00\">512</span>)       │       <span style=\"color: #00af00; text-decoration-color: #00af00\">246,784</span> │\n",
       "├─────────────────────────────────┼────────────────────────┼───────────────┤\n",
       "│ bidirectional_7 (<span style=\"color: #0087ff; text-decoration-color: #0087ff\">Bidirectional</span>) │ (<span style=\"color: #00d7ff; text-decoration-color: #00d7ff\">None</span>, <span style=\"color: #00af00; text-decoration-color: #00af00\">100</span>, <span style=\"color: #00af00; text-decoration-color: #00af00\">512</span>)       │     <span style=\"color: #00af00; text-decoration-color: #00af00\">1,574,912</span> │\n",
       "├─────────────────────────────────┼────────────────────────┼───────────────┤\n",
       "│ gru_3 (<span style=\"color: #0087ff; text-decoration-color: #0087ff\">GRU</span>)                     │ (<span style=\"color: #00d7ff; text-decoration-color: #00d7ff\">None</span>, <span style=\"color: #00af00; text-decoration-color: #00af00\">256</span>)            │       <span style=\"color: #00af00; text-decoration-color: #00af00\">591,360</span> │\n",
       "├─────────────────────────────────┼────────────────────────┼───────────────┤\n",
       "│ dense_12 (<span style=\"color: #0087ff; text-decoration-color: #0087ff\">Dense</span>)                │ (<span style=\"color: #00d7ff; text-decoration-color: #00d7ff\">None</span>, <span style=\"color: #00af00; text-decoration-color: #00af00\">128</span>)            │        <span style=\"color: #00af00; text-decoration-color: #00af00\">32,896</span> │\n",
       "├─────────────────────────────────┼────────────────────────┼───────────────┤\n",
       "│ dropout_6 (<span style=\"color: #0087ff; text-decoration-color: #0087ff\">Dropout</span>)             │ (<span style=\"color: #00d7ff; text-decoration-color: #00d7ff\">None</span>, <span style=\"color: #00af00; text-decoration-color: #00af00\">128</span>)            │             <span style=\"color: #00af00; text-decoration-color: #00af00\">0</span> │\n",
       "├─────────────────────────────────┼────────────────────────┼───────────────┤\n",
       "│ dense_13 (<span style=\"color: #0087ff; text-decoration-color: #0087ff\">Dense</span>)                │ (<span style=\"color: #00d7ff; text-decoration-color: #00d7ff\">None</span>, <span style=\"color: #00af00; text-decoration-color: #00af00\">10</span>)             │         <span style=\"color: #00af00; text-decoration-color: #00af00\">1,290</span> │\n",
       "└─────────────────────────────────┴────────────────────────┴───────────────┘\n",
       "</pre>\n"
      ],
      "text/plain": [
       "┏━━━━━━━━━━━━━━━━━━━━━━━━━━━━━━━━━┳━━━━━━━━━━━━━━━━━━━━━━━━┳━━━━━━━━━━━━━━━┓\n",
       "┃\u001b[1m \u001b[0m\u001b[1mLayer (type)                   \u001b[0m\u001b[1m \u001b[0m┃\u001b[1m \u001b[0m\u001b[1mOutput Shape          \u001b[0m\u001b[1m \u001b[0m┃\u001b[1m \u001b[0m\u001b[1m      Param #\u001b[0m\u001b[1m \u001b[0m┃\n",
       "┡━━━━━━━━━━━━━━━━━━━━━━━━━━━━━━━━━╇━━━━━━━━━━━━━━━━━━━━━━━━╇━━━━━━━━━━━━━━━┩\n",
       "│ masking_6 (\u001b[38;5;33mMasking\u001b[0m)             │ (\u001b[38;5;45mNone\u001b[0m, \u001b[38;5;34m100\u001b[0m, \u001b[38;5;34m225\u001b[0m)       │             \u001b[38;5;34m0\u001b[0m │\n",
       "├─────────────────────────────────┼────────────────────────┼───────────────┤\n",
       "│ batch_normalization_6           │ (\u001b[38;5;45mNone\u001b[0m, \u001b[38;5;34m100\u001b[0m, \u001b[38;5;34m225\u001b[0m)       │           \u001b[38;5;34m900\u001b[0m │\n",
       "│ (\u001b[38;5;33mBatchNormalization\u001b[0m)            │                        │               │\n",
       "├─────────────────────────────────┼────────────────────────┼───────────────┤\n",
       "│ bidirectional_6 (\u001b[38;5;33mBidirectional\u001b[0m) │ (\u001b[38;5;45mNone\u001b[0m, \u001b[38;5;34m100\u001b[0m, \u001b[38;5;34m512\u001b[0m)       │       \u001b[38;5;34m246,784\u001b[0m │\n",
       "├─────────────────────────────────┼────────────────────────┼───────────────┤\n",
       "│ bidirectional_7 (\u001b[38;5;33mBidirectional\u001b[0m) │ (\u001b[38;5;45mNone\u001b[0m, \u001b[38;5;34m100\u001b[0m, \u001b[38;5;34m512\u001b[0m)       │     \u001b[38;5;34m1,574,912\u001b[0m │\n",
       "├─────────────────────────────────┼────────────────────────┼───────────────┤\n",
       "│ gru_3 (\u001b[38;5;33mGRU\u001b[0m)                     │ (\u001b[38;5;45mNone\u001b[0m, \u001b[38;5;34m256\u001b[0m)            │       \u001b[38;5;34m591,360\u001b[0m │\n",
       "├─────────────────────────────────┼────────────────────────┼───────────────┤\n",
       "│ dense_12 (\u001b[38;5;33mDense\u001b[0m)                │ (\u001b[38;5;45mNone\u001b[0m, \u001b[38;5;34m128\u001b[0m)            │        \u001b[38;5;34m32,896\u001b[0m │\n",
       "├─────────────────────────────────┼────────────────────────┼───────────────┤\n",
       "│ dropout_6 (\u001b[38;5;33mDropout\u001b[0m)             │ (\u001b[38;5;45mNone\u001b[0m, \u001b[38;5;34m128\u001b[0m)            │             \u001b[38;5;34m0\u001b[0m │\n",
       "├─────────────────────────────────┼────────────────────────┼───────────────┤\n",
       "│ dense_13 (\u001b[38;5;33mDense\u001b[0m)                │ (\u001b[38;5;45mNone\u001b[0m, \u001b[38;5;34m10\u001b[0m)             │         \u001b[38;5;34m1,290\u001b[0m │\n",
       "└─────────────────────────────────┴────────────────────────┴───────────────┘\n"
      ]
     },
     "metadata": {},
     "output_type": "display_data"
    },
    {
     "data": {
      "text/html": [
       "<pre style=\"white-space:pre;overflow-x:auto;line-height:normal;font-family:Menlo,'DejaVu Sans Mono',consolas,'Courier New',monospace\"><span style=\"font-weight: bold\"> Total params: </span><span style=\"color: #00af00; text-decoration-color: #00af00\">2,448,142</span> (9.34 MB)\n",
       "</pre>\n"
      ],
      "text/plain": [
       "\u001b[1m Total params: \u001b[0m\u001b[38;5;34m2,448,142\u001b[0m (9.34 MB)\n"
      ]
     },
     "metadata": {},
     "output_type": "display_data"
    },
    {
     "data": {
      "text/html": [
       "<pre style=\"white-space:pre;overflow-x:auto;line-height:normal;font-family:Menlo,'DejaVu Sans Mono',consolas,'Courier New',monospace\"><span style=\"font-weight: bold\"> Trainable params: </span><span style=\"color: #00af00; text-decoration-color: #00af00\">2,447,692</span> (9.34 MB)\n",
       "</pre>\n"
      ],
      "text/plain": [
       "\u001b[1m Trainable params: \u001b[0m\u001b[38;5;34m2,447,692\u001b[0m (9.34 MB)\n"
      ]
     },
     "metadata": {},
     "output_type": "display_data"
    },
    {
     "data": {
      "text/html": [
       "<pre style=\"white-space:pre;overflow-x:auto;line-height:normal;font-family:Menlo,'DejaVu Sans Mono',consolas,'Courier New',monospace\"><span style=\"font-weight: bold\"> Non-trainable params: </span><span style=\"color: #00af00; text-decoration-color: #00af00\">450</span> (1.76 KB)\n",
       "</pre>\n"
      ],
      "text/plain": [
       "\u001b[1m Non-trainable params: \u001b[0m\u001b[38;5;34m450\u001b[0m (1.76 KB)\n"
      ]
     },
     "metadata": {},
     "output_type": "display_data"
    }
   ],
   "source": [
    "from tensorflow.keras.models import Sequential\n",
    "from tensorflow.keras.layers import Input, Conv1D, SimpleRNN, LSTM, Dense, Dropout, Masking, BatchNormalization, Bidirectional, GRU\n",
    "from tensorflow.keras.optimizers import Adam\n",
    "from tensorflow.keras.constraints import max_norm\n",
    "\n",
    "# Define model\n",
    "model = Sequential()\n",
    "\n",
    "# Input layer with masking\n",
    "model.add(Input(shape=(n_frames, n_landmarks * 3)))\n",
    "model.add(Masking(mask_value=MASK_VALUE))\n",
    "\n",
    "# Batch normalization\n",
    "model.add(BatchNormalization())\n",
    "\n",
    "\n",
    "\n",
    "# Recurrent layers\n",
    "model.add(Bidirectional(SimpleRNN(units=256, return_sequences=True)))\n",
    "model.add(Bidirectional(LSTM(units=256, return_sequences=True)))\n",
    "model.add(GRU(units=256, return_sequences=False))\n",
    "model.add(Dense(128, activation='relu'))\n",
    "model.add(Dropout(0.3))\n",
    "\n",
    "# Output layer\n",
    "model.add(Dense(num_classes, activation='softmax'))\n",
    "\n",
    "\n",
    "\n",
    "# Print model summary\n",
    "model.summary()\n"
   ]
  },
  {
   "cell_type": "code",
   "execution_count": 26,
   "id": "28efb5c1-56a6-49ed-bbe9-1e5244c17276",
   "metadata": {
    "execution": {
     "iopub.execute_input": "2024-03-26T12:27:04.610729Z",
     "iopub.status.busy": "2024-03-26T12:27:04.609365Z",
     "iopub.status.idle": "2024-03-26T12:29:45.053866Z",
     "shell.execute_reply": "2024-03-26T12:29:45.048031Z",
     "shell.execute_reply.started": "2024-03-26T12:27:04.610688Z"
    },
    "tags": []
   },
   "outputs": [
    {
     "name": "stdout",
     "output_type": "stream",
     "text": [
      "\u001b[34m\n",
      "Training model...\u001b[0m\n",
      "Epoch 1/100\n",
      "\u001b[1m7/7\u001b[0m \u001b[32m━━━━━━━━━━━━━━━━━━━━\u001b[0m\u001b[37m\u001b[0m \u001b[1m23s\u001b[0m 2s/step - accuracy: 0.1666 - loss: 2.3771 - val_accuracy: 0.1429 - val_loss: 2.4291 - learning_rate: 0.0010\n",
      "Epoch 2/100\n",
      "\u001b[1m7/7\u001b[0m \u001b[32m━━━━━━━━━━━━━━━━━━━━\u001b[0m\u001b[37m\u001b[0m \u001b[1m10s\u001b[0m 1s/step - accuracy: 0.3325 - loss: 1.9536 - val_accuracy: 0.1786 - val_loss: 2.4510 - learning_rate: 0.0010\n",
      "Epoch 3/100\n",
      "\u001b[1m7/7\u001b[0m \u001b[32m━━━━━━━━━━━━━━━━━━━━\u001b[0m\u001b[37m\u001b[0m \u001b[1m10s\u001b[0m 1s/step - accuracy: 0.5611 - loss: 1.5074 - val_accuracy: 0.1786 - val_loss: 2.3394 - learning_rate: 0.0010\n",
      "Epoch 4/100\n",
      "\u001b[1m7/7\u001b[0m \u001b[32m━━━━━━━━━━━━━━━━━━━━\u001b[0m\u001b[37m\u001b[0m \u001b[1m10s\u001b[0m 1s/step - accuracy: 0.7062 - loss: 1.0415 - val_accuracy: 0.1964 - val_loss: 2.3413 - learning_rate: 0.0010\n",
      "Epoch 5/100\n",
      "\u001b[1m7/7\u001b[0m \u001b[32m━━━━━━━━━━━━━━━━━━━━\u001b[0m\u001b[37m\u001b[0m \u001b[1m10s\u001b[0m 1s/step - accuracy: 0.8062 - loss: 0.7019 - val_accuracy: 0.1071 - val_loss: 2.5647 - learning_rate: 0.0010\n",
      "Epoch 6/100\n",
      "\u001b[1m7/7\u001b[0m \u001b[32m━━━━━━━━━━━━━━━━━━━━\u001b[0m\u001b[37m\u001b[0m \u001b[1m10s\u001b[0m 1s/step - accuracy: 0.8354 - loss: 0.6054 - val_accuracy: 0.1429 - val_loss: 2.5910 - learning_rate: 0.0010\n",
      "Epoch 7/100\n",
      "\u001b[1m7/7\u001b[0m \u001b[32m━━━━━━━━━━━━━━━━━━━━\u001b[0m\u001b[37m\u001b[0m \u001b[1m12s\u001b[0m 2s/step - accuracy: 0.8578 - loss: 0.4611 - val_accuracy: 0.1250 - val_loss: 2.9703 - learning_rate: 0.0010\n",
      "Epoch 8/100\n",
      "\u001b[1m7/7\u001b[0m \u001b[32m━━━━━━━━━━━━━━━━━━━━\u001b[0m\u001b[37m\u001b[0m \u001b[1m14s\u001b[0m 2s/step - accuracy: 0.9223 - loss: 0.2903 - val_accuracy: 0.0893 - val_loss: 3.0027 - learning_rate: 0.0010\n",
      "Epoch 9/100\n",
      "\u001b[1m7/7\u001b[0m \u001b[32m━━━━━━━━━━━━━━━━━━━━\u001b[0m\u001b[37m\u001b[0m \u001b[1m12s\u001b[0m 2s/step - accuracy: 0.9746 - loss: 0.1598 - val_accuracy: 0.1786 - val_loss: 3.4896 - learning_rate: 0.0010\n",
      "Epoch 10/100\n",
      "\u001b[1m7/7\u001b[0m \u001b[32m━━━━━━━━━━━━━━━━━━━━\u001b[0m\u001b[37m\u001b[0m \u001b[1m11s\u001b[0m 2s/step - accuracy: 0.9720 - loss: 0.1238 - val_accuracy: 0.1250 - val_loss: 3.7169 - learning_rate: 0.0010\n",
      "Epoch 11/100\n",
      "\u001b[1m7/7\u001b[0m \u001b[32m━━━━━━━━━━━━━━━━━━━━\u001b[0m\u001b[37m\u001b[0m \u001b[1m12s\u001b[0m 2s/step - accuracy: 0.9739 - loss: 0.0979 - val_accuracy: 0.1607 - val_loss: 3.6595 - learning_rate: 0.0010\n",
      "Epoch 12/100\n",
      "\u001b[1m7/7\u001b[0m \u001b[32m━━━━━━━━━━━━━━━━━━━━\u001b[0m\u001b[37m\u001b[0m \u001b[1m12s\u001b[0m 2s/step - accuracy: 0.9685 - loss: 0.0839 - val_accuracy: 0.1250 - val_loss: 3.9214 - learning_rate: 0.0010\n",
      "Epoch 13/100\n",
      "\u001b[1m7/7\u001b[0m \u001b[32m━━━━━━━━━━━━━━━━━━━━\u001b[0m\u001b[37m\u001b[0m \u001b[1m0s\u001b[0m 2s/step - accuracy: 0.9872 - loss: 0.0658\n",
      "Epoch 13: ReduceLROnPlateau reducing learning rate to 0.0005000000237487257.\n",
      "\u001b[1m7/7\u001b[0m \u001b[32m━━━━━━━━━━━━━━━━━━━━\u001b[0m\u001b[37m\u001b[0m \u001b[1m15s\u001b[0m 2s/step - accuracy: 0.9871 - loss: 0.0657 - val_accuracy: 0.1429 - val_loss: 3.7810 - learning_rate: 0.0010\n",
      "Epoch 13: early stopping\n",
      "Restoring model weights from the end of the best epoch: 3.\n",
      "✅ Model trained on 224 rows\n"
     ]
    }
   ],
   "source": [
    "# Optimizer with gradient clipping\n",
    "optimizer = Adam(clipnorm=1.0)\n",
    "\n",
    "# Compile the model\n",
    "model.compile(optimizer=optimizer, loss='categorical_crossentropy', metrics=['accuracy'])\n",
    "\n",
    "\n",
    "# Fitting\n",
    "\n",
    "paths = model_utils.create_model_folder()\n",
    "patience=10\n",
    "epochs=100\n",
    "verbose=1\n",
    "batch_size=32\n",
    "validation_data=(X_val, y_val)\n",
    "shuffle=False\n",
    "\n",
    "model, history = train_model(model, X_train, y_train,\n",
    "                                 patience=patience,\n",
    "                                 epochs=epochs,\n",
    "                                 verbose=verbose,\n",
    "                                 batch_size=batch_size,\n",
    "                                 validation_data=validation_data,\n",
    "                                 shuffle=shuffle,\n",
    "                                 model_save_epoch_path=paths['iter']\n",
    "                                 )"
   ]
  },
  {
   "cell_type": "code",
   "execution_count": null,
   "id": "553045e2-8332-4c3d-a6ce-c2b58746b9e5",
   "metadata": {},
   "outputs": [],
   "source": []
  },
  {
   "cell_type": "markdown",
   "id": "dfff1d3a-e4d3-44e9-84ea-d1fd2787cfb0",
   "metadata": {},
   "source": [
    "## Model 3"
   ]
  },
  {
   "cell_type": "code",
   "execution_count": null,
   "id": "3b70d059-a838-4011-a023-46b93f974cd6",
   "metadata": {},
   "outputs": [],
   "source": [
    "from tensorflow.keras.models import Model\n",
    "from tensorflow.keras.layers import Input, Conv1D, SimpleRNN, LSTM, Dense, Dropout, BatchNormalization, Bidirectional, GRU, Concatenate\n",
    "\n",
    "# Define input layer\n",
    "input_layer = Input(shape=(n_frames, n_landmarks * 3))\n",
    "\n",
    "# Branch 1: Convolutional layers\n",
    "conv_branch = Conv1D(filters=64, kernel_size=3, activation='relu', padding='same')(input_layer)\n",
    "conv_branch = Conv1D(filters=64, kernel_size=3, activation='relu', padding='same')(conv_branch)\n",
    "conv_branch = BatchNormalization()(conv_branch)\n",
    "conv_branch = Dropout(0.3)(conv_branch)\n",
    "\n",
    "# Branch 2: Recurrent layers\n",
    "rnn_branch = Bidirectional(SimpleRNN(units=256, return_sequences=True))(input_layer)\n",
    "rnn_branch = Bidirectional(LSTM(units=256, return_sequences=True))(rnn_branch)\n",
    "rnn_branch = GRU(units=256, return_sequences=True)(rnn_branch)\n",
    "rnn_branch = Dense(128, activation='relu')(rnn_branch)\n",
    "rnn_branch = Dropout(0.3)(rnn_branch)\n",
    "\n",
    "# Merge branches\n",
    "merged = Concatenate()([conv_branch, rnn_branch])\n",
    "\n",
    "# Fully connected layers\n",
    "output = Dense(128, activation='relu')(merged)\n",
    "output = Dropout(0.5)(output)\n",
    "output = Dense(num_classes, activation='softmax')(output)\n",
    "\n",
    "# Define model\n",
    "model = Model(inputs=input_layer, outputs=output)\n",
    "\n",
    "# Print model summary\n",
    "model.summary()\n"
   ]
  },
  {
   "cell_type": "code",
   "execution_count": null,
   "id": "3b72bf51-a801-4280-992f-86c8951d4718",
   "metadata": {},
   "outputs": [],
   "source": []
  }
 ],
 "metadata": {
  "kernelspec": {
   "display_name": "Python 3 (ipykernel)",
   "language": "python",
   "name": "python3"
  },
  "language_info": {
   "codemirror_mode": {
    "name": "ipython",
    "version": 3
   },
   "file_extension": ".py",
   "mimetype": "text/x-python",
   "name": "python",
   "nbconvert_exporter": "python",
   "pygments_lexer": "ipython3",
   "version": "3.10.6"
  }
 },
 "nbformat": 4,
 "nbformat_minor": 5
}

{
 "cells": [
  {
   "cell_type": "code",
   "execution_count": 12,
   "id": "fe29fa0a-2bf6-4973-ac6c-1cf8eece8861",
   "metadata": {},
   "outputs": [],
   "source": [
    "import pandas as pd\n",
    "from pathlib import Path\n",
    "from signlens.preprocessing.preprocess_files import write_light_parquet_files"
   ]
  },
  {
   "cell_type": "code",
   "execution_count": 6,
   "id": "ba3278ab-e857-4311-8695-f3141ae1f380",
   "metadata": {},
   "outputs": [],
   "source": [
    "DATA_DIR         = Path('../../raw_data/asl-signs')\n",
    "TRAIN_CSV_PATH   = DATA_DIR/'train.csv'\n",
    "LANDMARK_DIR     = DATA_DIR/'train_landmark_files'\n",
    "LABEL_MAP_PATH   = DATA_DIR/'sign_to_prediction_index_map.json'"
   ]
  },
  {
   "cell_type": "code",
   "execution_count": 10,
   "id": "fdda9ecc-ad2d-4d85-b790-1c2c336bc49a",
   "metadata": {},
   "outputs": [
    {
     "data": {
      "text/html": [
       "<div>\n",
       "<style scoped>\n",
       "    .dataframe tbody tr th:only-of-type {\n",
       "        vertical-align: middle;\n",
       "    }\n",
       "\n",
       "    .dataframe tbody tr th {\n",
       "        vertical-align: top;\n",
       "    }\n",
       "\n",
       "    .dataframe thead th {\n",
       "        text-align: right;\n",
       "    }\n",
       "</style>\n",
       "<table border=\"1\" class=\"dataframe\">\n",
       "  <thead>\n",
       "    <tr style=\"text-align: right;\">\n",
       "      <th></th>\n",
       "      <th>path</th>\n",
       "      <th>participant_id</th>\n",
       "      <th>sequence_id</th>\n",
       "      <th>sign</th>\n",
       "      <th>file_path</th>\n",
       "    </tr>\n",
       "  </thead>\n",
       "  <tbody>\n",
       "    <tr>\n",
       "      <th>0</th>\n",
       "      <td>train_landmark_files/26734/1000035562.parquet</td>\n",
       "      <td>26734</td>\n",
       "      <td>1000035562</td>\n",
       "      <td>blow</td>\n",
       "      <td>../../raw_data/asl-signs/train_landmark_files/...</td>\n",
       "    </tr>\n",
       "    <tr>\n",
       "      <th>1</th>\n",
       "      <td>train_landmark_files/28656/1000106739.parquet</td>\n",
       "      <td>28656</td>\n",
       "      <td>1000106739</td>\n",
       "      <td>wait</td>\n",
       "      <td>../../raw_data/asl-signs/train_landmark_files/...</td>\n",
       "    </tr>\n",
       "    <tr>\n",
       "      <th>2</th>\n",
       "      <td>train_landmark_files/16069/100015657.parquet</td>\n",
       "      <td>16069</td>\n",
       "      <td>100015657</td>\n",
       "      <td>cloud</td>\n",
       "      <td>../../raw_data/asl-signs/train_landmark_files/...</td>\n",
       "    </tr>\n",
       "    <tr>\n",
       "      <th>3</th>\n",
       "      <td>train_landmark_files/25571/1000210073.parquet</td>\n",
       "      <td>25571</td>\n",
       "      <td>1000210073</td>\n",
       "      <td>bird</td>\n",
       "      <td>../../raw_data/asl-signs/train_landmark_files/...</td>\n",
       "    </tr>\n",
       "    <tr>\n",
       "      <th>4</th>\n",
       "      <td>train_landmark_files/62590/1000240708.parquet</td>\n",
       "      <td>62590</td>\n",
       "      <td>1000240708</td>\n",
       "      <td>owie</td>\n",
       "      <td>../../raw_data/asl-signs/train_landmark_files/...</td>\n",
       "    </tr>\n",
       "  </tbody>\n",
       "</table>\n",
       "</div>"
      ],
      "text/plain": [
       "                                            path  participant_id  sequence_id  \\\n",
       "0  train_landmark_files/26734/1000035562.parquet           26734   1000035562   \n",
       "1  train_landmark_files/28656/1000106739.parquet           28656   1000106739   \n",
       "2   train_landmark_files/16069/100015657.parquet           16069    100015657   \n",
       "3  train_landmark_files/25571/1000210073.parquet           25571   1000210073   \n",
       "4  train_landmark_files/62590/1000240708.parquet           62590   1000240708   \n",
       "\n",
       "    sign                                          file_path  \n",
       "0   blow  ../../raw_data/asl-signs/train_landmark_files/...  \n",
       "1   wait  ../../raw_data/asl-signs/train_landmark_files/...  \n",
       "2  cloud  ../../raw_data/asl-signs/train_landmark_files/...  \n",
       "3   bird  ../../raw_data/asl-signs/train_landmark_files/...  \n",
       "4   owie  ../../raw_data/asl-signs/train_landmark_files/...  "
      ]
     },
     "execution_count": 10,
     "metadata": {},
     "output_type": "execute_result"
    }
   ],
   "source": [
    "train = pd.read_csv(TRAIN_CSV_PATH)\n",
    "train['file_path'] = str(DATA_DIR) + '/' + train['path']\n",
    "train.head()"
   ]
  },
  {
   "cell_type": "code",
   "execution_count": 13,
   "id": "8e5346e5-563a-470f-8798-6851809d4ac3",
   "metadata": {},
   "outputs": [
    {
     "name": "stderr",
     "output_type": "stream",
     "text": [
      "Writing files: 100%|████████████████████████████████████████████████████████████████████| 10/10 [00:00<00:00, 27.98it/s]\n"
     ]
    }
   ],
   "source": [
    "write_light_parquet_files(train['file_path'], dirname_suffix=\"_light\", filename_suffix=\"\")\n"
   ]
  }
 ],
 "metadata": {
  "kernelspec": {
   "display_name": "Python 3 (ipykernel)",
   "language": "python",
   "name": "python3"
  },
  "language_info": {
   "codemirror_mode": {
    "name": "ipython",
    "version": 3
   },
   "file_extension": ".py",
   "mimetype": "text/x-python",
   "name": "python",
   "nbconvert_exporter": "python",
   "pygments_lexer": "ipython3",
   "version": "3.10.6"
  }
 },
 "nbformat": 4,
 "nbformat_minor": 5
}

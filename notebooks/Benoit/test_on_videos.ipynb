{
 "cells": [
  {
   "cell_type": "code",
   "execution_count": 1,
   "id": "35e25198-78a1-478e-bc7e-188e1d7c7401",
   "metadata": {
    "execution": {
     "iopub.execute_input": "2024-03-27T21:10:59.313386Z",
     "iopub.status.busy": "2024-03-27T21:10:59.312847Z",
     "iopub.status.idle": "2024-03-27T21:11:03.615132Z",
     "shell.execute_reply": "2024-03-27T21:11:03.613754Z",
     "shell.execute_reply.started": "2024-03-27T21:10:59.313354Z"
    },
    "tags": []
   },
   "outputs": [
    {
     "name": "stderr",
     "output_type": "stream",
     "text": [
      "2024-03-27 22:11:00.219628: I tensorflow/core/platform/cpu_feature_guard.cc:210] This TensorFlow binary is optimized to use available CPU instructions in performance-critical operations.\n",
      "To enable the following instructions: AVX2 FMA, in other operations, rebuild TensorFlow with the appropriate compiler flags.\n",
      "2024-03-27 22:11:01.249440: W tensorflow/compiler/tf2tensorrt/utils/py_utils.cc:38] TF-TRT Warning: Could not find TensorRT\n"
     ]
    }
   ],
   "source": [
    "import os\n",
    "import numpy as np\n",
    "import pandas as pd\n",
    "from tqdm import tqdm\n",
    "import json\n",
    "import tensorflow as tf\n",
    "\n",
    "import matplotlib.pyplot as plt\n",
    "\n",
    "from signlens.params import *\n",
    "from signlens.preprocessing.glossary import load_glossary, write_glossary\n",
    "from signlens.preprocessing.data import load_data_subset_csv , load_video_list_json\n",
    "from signlens.preprocessing.preprocess import encode_labels, decode_labels, pad_and_preprocess_sequences_from_pq_file_path_df, preprocess_data_from_json_data, pad_and_preprocess_landmarks_array, reshape_processed_data_to_tf, convert_landmarks_json_data_to_df, filter_relevant_landmarks_and_coordinates\n",
    "from signlens.model.model_utils import load_model\n",
    "from signlens.model.model_architecture import evaluate_model\n",
    "from utils.video_utils import process_video_to_landmarks_json, draw_landmarks_on_image\n",
    "\n",
    "from colorama import Fore, Style\n",
    "\n",
    "%load_ext autoreload\n",
    "\n",
    "%autoreload 2\n"
   ]
  },
  {
   "cell_type": "markdown",
   "id": "d1fcd45f-0bb6-41d0-90f8-b772472718eb",
   "metadata": {},
   "source": [
    "## Glossary check"
   ]
  },
  {
   "cell_type": "code",
   "execution_count": 4,
   "id": "f80fb549-c301-46f8-90ae-9651dc7cd640",
   "metadata": {
    "execution": {
     "iopub.execute_input": "2024-03-27T20:46:38.306304Z",
     "iopub.status.busy": "2024-03-27T20:46:38.305269Z",
     "iopub.status.idle": "2024-03-27T20:46:38.361106Z",
     "shell.execute_reply": "2024-03-27T20:46:38.359411Z",
     "shell.execute_reply.started": "2024-03-27T20:46:38.306265Z"
    },
    "tags": []
   },
   "outputs": [],
   "source": [
    "#write_glossary()"
   ]
  },
  {
   "cell_type": "code",
   "execution_count": 2,
   "id": "7f33c045-0941-45cd-b799-e0b60db72f9c",
   "metadata": {
    "execution": {
     "iopub.execute_input": "2024-03-27T21:11:06.488478Z",
     "iopub.status.busy": "2024-03-27T21:11:06.487673Z",
     "iopub.status.idle": "2024-03-27T21:11:06.546207Z",
     "shell.execute_reply": "2024-03-27T21:11:06.542516Z",
     "shell.execute_reply.started": "2024-03-27T21:11:06.488446Z"
    },
    "tags": []
   },
   "outputs": [],
   "source": [
    "glossary = load_glossary()"
   ]
  },
  {
   "cell_type": "code",
   "execution_count": 3,
   "id": "891bc065-8518-4dd8-b96f-2812c7e4bd8a",
   "metadata": {
    "execution": {
     "iopub.execute_input": "2024-03-27T21:11:08.713898Z",
     "iopub.status.busy": "2024-03-27T21:11:08.712769Z",
     "iopub.status.idle": "2024-03-27T21:11:08.781080Z",
     "shell.execute_reply": "2024-03-27T21:11:08.778238Z",
     "shell.execute_reply.started": "2024-03-27T21:11:08.713853Z"
    },
    "tags": []
   },
   "outputs": [
    {
     "data": {
      "text/plain": [
       "250"
      ]
     },
     "execution_count": 3,
     "metadata": {},
     "output_type": "execute_result"
    }
   ],
   "source": [
    "len(glossary.index.unique())"
   ]
  },
  {
   "cell_type": "markdown",
   "id": "f5b6c25e-0bd0-4293-a8df-3686e57de175",
   "metadata": {},
   "source": [
    "## Prediction on parquet files"
   ]
  },
  {
   "cell_type": "code",
   "execution_count": 4,
   "id": "9b7067ce-7b65-4064-a64e-54d040483446",
   "metadata": {
    "execution": {
     "iopub.execute_input": "2024-03-27T21:11:10.503501Z",
     "iopub.status.busy": "2024-03-27T21:11:10.503083Z",
     "iopub.status.idle": "2024-03-27T21:11:12.460583Z",
     "shell.execute_reply": "2024-03-27T21:11:12.458646Z",
     "shell.execute_reply.started": "2024-03-27T21:11:10.503473Z"
    },
    "tags": []
   },
   "outputs": [
    {
     "name": "stderr",
     "output_type": "stream",
     "text": [
      "2024-03-27 22:11:11.812610: I external/local_xla/xla/stream_executor/cuda/cuda_executor.cc:984] could not open file to read NUMA node: /sys/bus/pci/devices/0000:01:00.0/numa_node\n",
      "Your kernel may have been built without NUMA support.\n",
      "2024-03-27 22:11:11.813126: W tensorflow/core/common_runtime/gpu/gpu_device.cc:2251] Cannot dlopen some GPU libraries. Please make sure the missing libraries mentioned above are installed properly if you would like to use GPU. Follow the guide at https://www.tensorflow.org/install/gpu for how to download and setup the required libraries for your platform.\n",
      "Skipping registering GPU devices...\n"
     ]
    }
   ],
   "source": [
    "# Load model\n",
    "model_file = \"model_20240327-2145epoch_10.keras\"\n",
    "model_path = os.path.join('/home/bfrisque/code/benoitfrisque/signlens/', 'models_api', model_file)\n",
    "model = load_model(mode='from_path', model_path=model_path)\n"
   ]
  },
  {
   "cell_type": "code",
   "execution_count": 5,
   "id": "6a98b8b0-1ec5-4c98-b4c8-9d5bce707883",
   "metadata": {
    "execution": {
     "iopub.execute_input": "2024-03-27T21:11:14.281894Z",
     "iopub.status.busy": "2024-03-27T21:11:14.281554Z",
     "iopub.status.idle": "2024-03-27T21:11:30.368220Z",
     "shell.execute_reply": "2024-03-27T21:11:30.365854Z",
     "shell.execute_reply.started": "2024-03-27T21:11:14.281866Z"
    },
    "tags": []
   },
   "outputs": [
    {
     "name": "stdout",
     "output_type": "stream",
     "text": [
      "\u001b[34mLoading data subset from train_test.csv\u001b[0m\n",
      "    ℹ️ Random state set for data loading : 42\n",
      "    ℹ️ Filtered sequences with missing frames. Size reduced from 17233 to 17233 (100.00%)\n",
      "    ℹ️ Filtered on n_frames = 100. Size reduced from 17233 to 17233 (100.00%)\n",
      "    ℹ️ Filtered on n_classes = 250. Size reduced from 17233 to 17233 (100.00%)\n",
      "    ℹ️ Balanced data, with average of 6.9 elements per class. Size reduced from 17233 to 1723 (10.00%)\n",
      "✅ Loaded 1723 rows (10.00% of the original 17233 rows) from the dataset.\n",
      "\u001b[34m\n",
      "Preprocessing 1723 testing files...\u001b[0m\n"
     ]
    },
    {
     "name": "stderr",
     "output_type": "stream",
     "text": [
      "/home/bfrisque/.pyenv/versions/3.10.6/lib/python3.10/multiprocessing/popen_fork.py:66: RuntimeWarning: os.fork() was called. os.fork() is incompatible with multithreaded code, and JAX is multithreaded, so this will likely lead to a deadlock.\n",
      "  self.pid = os.fork()\n",
      "100%|█████████████████████████████████████████████████████████████████████████████████████████████| 1723/1723 [00:03<00:00, 455.09it/s]\n"
     ]
    },
    {
     "name": "stdout",
     "output_type": "stream",
     "text": [
      "\u001b[34m\n",
      "Evaluating model on 1723 rows...\u001b[0m\n",
      "✅ Model evaluated, accuracy: 32.0%\n"
     ]
    }
   ],
   "source": [
    "test_data = load_data_subset_csv(balanced=True, csv_path=TRAIN_TEST_CSV_PATH, random_state=42, frac=0.1)\n",
    "X_test_files = test_data.file_path\n",
    "\n",
    "# Preprocessing\n",
    "print(Fore.BLUE + f\"\\nPreprocessing {len(X_test_files)} testing files...\" + Style.RESET_ALL)\n",
    "X_test = pad_and_preprocess_sequences_from_pq_file_path_df(X_test_files)\n",
    "y_test = encode_labels(test_data.sign)\n",
    "\n",
    "\n",
    "metrics_dict = evaluate_model(model, X_test, y_test)\n",
    "accuracy = metrics_dict['accuracy']\n"
   ]
  },
  {
   "cell_type": "markdown",
   "id": "88300cd4-a2cd-4289-a725-6e534ef24f9e",
   "metadata": {},
   "source": [
    "## Prediction on json from videos"
   ]
  },
  {
   "cell_type": "markdown",
   "id": "9a045f14-fa7a-4ac3-a58e-0c252d121a58",
   "metadata": {
    "tags": []
   },
   "source": [
    "### Select test set"
   ]
  },
  {
   "cell_type": "code",
   "execution_count": 9,
   "id": "3e665a18-a5f7-4b29-b83e-bc6aae5d9514",
   "metadata": {
    "execution": {
     "iopub.execute_input": "2024-03-27T20:46:58.321781Z",
     "iopub.status.busy": "2024-03-27T20:46:58.320143Z",
     "iopub.status.idle": "2024-03-27T20:46:59.546233Z",
     "shell.execute_reply": "2024-03-27T20:46:59.544963Z",
     "shell.execute_reply.started": "2024-03-27T20:46:58.321725Z"
    },
    "tags": []
   },
   "outputs": [],
   "source": [
    "videos = load_video_list_json(filter_glossary=True)"
   ]
  },
  {
   "cell_type": "code",
   "execution_count": 42,
   "id": "5fb1c130-2c6d-4573-bb32-4c05791d863e",
   "metadata": {
    "execution": {
     "iopub.execute_input": "2024-03-27T21:00:27.372143Z",
     "iopub.status.busy": "2024-03-27T21:00:27.370954Z",
     "iopub.status.idle": "2024-03-27T21:00:27.462808Z",
     "shell.execute_reply": "2024-03-27T21:00:27.461139Z",
     "shell.execute_reply.started": "2024-03-27T21:00:27.372068Z"
    },
    "tags": []
   },
   "outputs": [],
   "source": [
    "# test_videos = videos.sample(n=500, random_state=42)\n",
    "test_videos = videos.sample(n=400, random_state=42)"
   ]
  },
  {
   "cell_type": "code",
   "execution_count": 43,
   "id": "cfebc2dc-f908-4e11-b5ad-9ea4bd4e371e",
   "metadata": {
    "execution": {
     "iopub.execute_input": "2024-03-27T21:00:27.992086Z",
     "iopub.status.busy": "2024-03-27T21:00:27.991648Z",
     "iopub.status.idle": "2024-03-27T21:00:28.071782Z",
     "shell.execute_reply": "2024-03-27T21:00:28.069488Z",
     "shell.execute_reply.started": "2024-03-27T21:00:27.992057Z"
    },
    "tags": []
   },
   "outputs": [
    {
     "data": {
      "text/html": [
       "<div>\n",
       "<style scoped>\n",
       "    .dataframe tbody tr th:only-of-type {\n",
       "        vertical-align: middle;\n",
       "    }\n",
       "\n",
       "    .dataframe tbody tr th {\n",
       "        vertical-align: top;\n",
       "    }\n",
       "\n",
       "    .dataframe thead th {\n",
       "        text-align: right;\n",
       "    }\n",
       "</style>\n",
       "<table border=\"1\" class=\"dataframe\">\n",
       "  <thead>\n",
       "    <tr style=\"text-align: right;\">\n",
       "      <th></th>\n",
       "      <th>sign</th>\n",
       "      <th>bbox</th>\n",
       "      <th>fps</th>\n",
       "      <th>frame_end</th>\n",
       "      <th>frame_start</th>\n",
       "      <th>instance_id</th>\n",
       "      <th>signer_id</th>\n",
       "      <th>source</th>\n",
       "      <th>split</th>\n",
       "      <th>url</th>\n",
       "      <th>variation_id</th>\n",
       "      <th>video_id</th>\n",
       "      <th>video_path</th>\n",
       "    </tr>\n",
       "  </thead>\n",
       "  <tbody>\n",
       "    <tr>\n",
       "      <th>1125</th>\n",
       "      <td>on</td>\n",
       "      <td>[29, 0, 267, 240]</td>\n",
       "      <td>25</td>\n",
       "      <td>-1</td>\n",
       "      <td>1</td>\n",
       "      <td>3</td>\n",
       "      <td>37</td>\n",
       "      <td>spreadthesign</td>\n",
       "      <td>train</td>\n",
       "      <td>https://media.spreadthesign.com/video/mp4/13/4...</td>\n",
       "      <td>0</td>\n",
       "      <td>39839</td>\n",
       "      <td>/home/bfrisque/code/benoitfrisque/signlens/raw...</td>\n",
       "    </tr>\n",
       "    <tr>\n",
       "      <th>184</th>\n",
       "      <td>white</td>\n",
       "      <td>[183, 52, 544, 400]</td>\n",
       "      <td>25</td>\n",
       "      <td>-1</td>\n",
       "      <td>1</td>\n",
       "      <td>16</td>\n",
       "      <td>12</td>\n",
       "      <td>aslsearch</td>\n",
       "      <td>train</td>\n",
       "      <td>http://www.aslsearch.com/signs/videos/white.mp4</td>\n",
       "      <td>0</td>\n",
       "      <td>63214</td>\n",
       "      <td>/home/bfrisque/code/benoitfrisque/signlens/raw...</td>\n",
       "    </tr>\n",
       "    <tr>\n",
       "      <th>1226</th>\n",
       "      <td>water</td>\n",
       "      <td>[89, 22, 204, 192]</td>\n",
       "      <td>25</td>\n",
       "      <td>-1</td>\n",
       "      <td>1</td>\n",
       "      <td>6</td>\n",
       "      <td>10</td>\n",
       "      <td>signingsavvy</td>\n",
       "      <td>train</td>\n",
       "      <td>https://www.signingsavvy.com/signs/mp4/22/2297...</td>\n",
       "      <td>0</td>\n",
       "      <td>62506</td>\n",
       "      <td>/home/bfrisque/code/benoitfrisque/signlens/raw...</td>\n",
       "    </tr>\n",
       "    <tr>\n",
       "      <th>67</th>\n",
       "      <td>jump</td>\n",
       "      <td>[167, 16, 480, 370]</td>\n",
       "      <td>25</td>\n",
       "      <td>-1</td>\n",
       "      <td>1</td>\n",
       "      <td>1</td>\n",
       "      <td>90</td>\n",
       "      <td>aslsignbank</td>\n",
       "      <td>train</td>\n",
       "      <td>https://aslsignbank.haskins.yale.edu/dictionar...</td>\n",
       "      <td>0</td>\n",
       "      <td>65983</td>\n",
       "      <td>/home/bfrisque/code/benoitfrisque/signlens/raw...</td>\n",
       "    </tr>\n",
       "    <tr>\n",
       "      <th>220</th>\n",
       "      <td>yes</td>\n",
       "      <td>[168, 14, 461, 370]</td>\n",
       "      <td>25</td>\n",
       "      <td>-1</td>\n",
       "      <td>1</td>\n",
       "      <td>13</td>\n",
       "      <td>88</td>\n",
       "      <td>aslsignbank</td>\n",
       "      <td>train</td>\n",
       "      <td>https://aslsignbank.haskins.yale.edu/dictionar...</td>\n",
       "      <td>0</td>\n",
       "      <td>66820</td>\n",
       "      <td>/home/bfrisque/code/benoitfrisque/signlens/raw...</td>\n",
       "    </tr>\n",
       "    <tr>\n",
       "      <th>...</th>\n",
       "      <td>...</td>\n",
       "      <td>...</td>\n",
       "      <td>...</td>\n",
       "      <td>...</td>\n",
       "      <td>...</td>\n",
       "      <td>...</td>\n",
       "      <td>...</td>\n",
       "      <td>...</td>\n",
       "      <td>...</td>\n",
       "      <td>...</td>\n",
       "      <td>...</td>\n",
       "      <td>...</td>\n",
       "      <td>...</td>\n",
       "    </tr>\n",
       "    <tr>\n",
       "      <th>704</th>\n",
       "      <td>all</td>\n",
       "      <td>[439, 68, 1366, 1080]</td>\n",
       "      <td>25</td>\n",
       "      <td>-1</td>\n",
       "      <td>1</td>\n",
       "      <td>1</td>\n",
       "      <td>115</td>\n",
       "      <td>aslbrick</td>\n",
       "      <td>train</td>\n",
       "      <td>http://aslbricks.org/New/ASL-Videos/all.mp4</td>\n",
       "      <td>0</td>\n",
       "      <td>69206</td>\n",
       "      <td>/home/bfrisque/code/benoitfrisque/signlens/raw...</td>\n",
       "    </tr>\n",
       "    <tr>\n",
       "      <th>126</th>\n",
       "      <td>find</td>\n",
       "      <td>[187, 52, 572, 400]</td>\n",
       "      <td>25</td>\n",
       "      <td>-1</td>\n",
       "      <td>1</td>\n",
       "      <td>11</td>\n",
       "      <td>12</td>\n",
       "      <td>aslsearch</td>\n",
       "      <td>train</td>\n",
       "      <td>http://www.aslsearch.com/signs/videos/pick.mp4</td>\n",
       "      <td>0</td>\n",
       "      <td>21863</td>\n",
       "      <td>/home/bfrisque/code/benoitfrisque/signlens/raw...</td>\n",
       "    </tr>\n",
       "    <tr>\n",
       "      <th>660</th>\n",
       "      <td>chocolate</td>\n",
       "      <td>[154, 16, 478, 370]</td>\n",
       "      <td>25</td>\n",
       "      <td>-1</td>\n",
       "      <td>1</td>\n",
       "      <td>3</td>\n",
       "      <td>90</td>\n",
       "      <td>aslsignbank</td>\n",
       "      <td>val</td>\n",
       "      <td>https://aslsignbank.haskins.yale.edu/dictionar...</td>\n",
       "      <td>0</td>\n",
       "      <td>65354</td>\n",
       "      <td>/home/bfrisque/code/benoitfrisque/signlens/raw...</td>\n",
       "    </tr>\n",
       "    <tr>\n",
       "      <th>292</th>\n",
       "      <td>clean</td>\n",
       "      <td>[177, 16, 533, 414]</td>\n",
       "      <td>25</td>\n",
       "      <td>-1</td>\n",
       "      <td>1</td>\n",
       "      <td>4</td>\n",
       "      <td>36</td>\n",
       "      <td>startasl</td>\n",
       "      <td>train</td>\n",
       "      <td>https://s3-us-west-1.amazonaws.com/files.start...</td>\n",
       "      <td>0</td>\n",
       "      <td>11034</td>\n",
       "      <td>/home/bfrisque/code/benoitfrisque/signlens/raw...</td>\n",
       "    </tr>\n",
       "    <tr>\n",
       "      <th>982</th>\n",
       "      <td>up</td>\n",
       "      <td>[35, 0, 262, 240]</td>\n",
       "      <td>25</td>\n",
       "      <td>-1</td>\n",
       "      <td>1</td>\n",
       "      <td>4</td>\n",
       "      <td>26</td>\n",
       "      <td>spreadthesign</td>\n",
       "      <td>train</td>\n",
       "      <td>https://media.spreadthesign.com/video/mp4/13/4...</td>\n",
       "      <td>0</td>\n",
       "      <td>60907</td>\n",
       "      <td>/home/bfrisque/code/benoitfrisque/signlens/raw...</td>\n",
       "    </tr>\n",
       "  </tbody>\n",
       "</table>\n",
       "<p>400 rows × 13 columns</p>\n",
       "</div>"
      ],
      "text/plain": [
       "           sign                   bbox  fps  frame_end  frame_start  \\\n",
       "1125         on      [29, 0, 267, 240]   25         -1            1   \n",
       "184       white    [183, 52, 544, 400]   25         -1            1   \n",
       "1226      water     [89, 22, 204, 192]   25         -1            1   \n",
       "67         jump    [167, 16, 480, 370]   25         -1            1   \n",
       "220         yes    [168, 14, 461, 370]   25         -1            1   \n",
       "...         ...                    ...  ...        ...          ...   \n",
       "704         all  [439, 68, 1366, 1080]   25         -1            1   \n",
       "126        find    [187, 52, 572, 400]   25         -1            1   \n",
       "660   chocolate    [154, 16, 478, 370]   25         -1            1   \n",
       "292       clean    [177, 16, 533, 414]   25         -1            1   \n",
       "982          up      [35, 0, 262, 240]   25         -1            1   \n",
       "\n",
       "      instance_id  signer_id         source  split  \\\n",
       "1125            3         37  spreadthesign  train   \n",
       "184            16         12      aslsearch  train   \n",
       "1226            6         10   signingsavvy  train   \n",
       "67              1         90    aslsignbank  train   \n",
       "220            13         88    aslsignbank  train   \n",
       "...           ...        ...            ...    ...   \n",
       "704             1        115       aslbrick  train   \n",
       "126            11         12      aslsearch  train   \n",
       "660             3         90    aslsignbank    val   \n",
       "292             4         36       startasl  train   \n",
       "982             4         26  spreadthesign  train   \n",
       "\n",
       "                                                    url  variation_id  \\\n",
       "1125  https://media.spreadthesign.com/video/mp4/13/4...             0   \n",
       "184     http://www.aslsearch.com/signs/videos/white.mp4             0   \n",
       "1226  https://www.signingsavvy.com/signs/mp4/22/2297...             0   \n",
       "67    https://aslsignbank.haskins.yale.edu/dictionar...             0   \n",
       "220   https://aslsignbank.haskins.yale.edu/dictionar...             0   \n",
       "...                                                 ...           ...   \n",
       "704         http://aslbricks.org/New/ASL-Videos/all.mp4             0   \n",
       "126      http://www.aslsearch.com/signs/videos/pick.mp4             0   \n",
       "660   https://aslsignbank.haskins.yale.edu/dictionar...             0   \n",
       "292   https://s3-us-west-1.amazonaws.com/files.start...             0   \n",
       "982   https://media.spreadthesign.com/video/mp4/13/4...             0   \n",
       "\n",
       "     video_id                                         video_path  \n",
       "1125    39839  /home/bfrisque/code/benoitfrisque/signlens/raw...  \n",
       "184     63214  /home/bfrisque/code/benoitfrisque/signlens/raw...  \n",
       "1226    62506  /home/bfrisque/code/benoitfrisque/signlens/raw...  \n",
       "67      65983  /home/bfrisque/code/benoitfrisque/signlens/raw...  \n",
       "220     66820  /home/bfrisque/code/benoitfrisque/signlens/raw...  \n",
       "...       ...                                                ...  \n",
       "704     69206  /home/bfrisque/code/benoitfrisque/signlens/raw...  \n",
       "126     21863  /home/bfrisque/code/benoitfrisque/signlens/raw...  \n",
       "660     65354  /home/bfrisque/code/benoitfrisque/signlens/raw...  \n",
       "292     11034  /home/bfrisque/code/benoitfrisque/signlens/raw...  \n",
       "982     60907  /home/bfrisque/code/benoitfrisque/signlens/raw...  \n",
       "\n",
       "[400 rows x 13 columns]"
      ]
     },
     "execution_count": 43,
     "metadata": {},
     "output_type": "execute_result"
    }
   ],
   "source": [
    "test_videos "
   ]
  },
  {
   "cell_type": "code",
   "execution_count": 44,
   "id": "b686b3ca-5d71-44b9-977c-2c39a91087a8",
   "metadata": {
    "execution": {
     "iopub.execute_input": "2024-03-27T21:00:28.519536Z",
     "iopub.status.busy": "2024-03-27T21:00:28.518643Z",
     "iopub.status.idle": "2024-03-27T21:00:28.581247Z",
     "shell.execute_reply": "2024-03-27T21:00:28.578994Z",
     "shell.execute_reply.started": "2024-03-27T21:00:28.519498Z"
    },
    "tags": []
   },
   "outputs": [
    {
     "data": {
      "text/plain": [
       "1125           on\n",
       "184         white\n",
       "1226        water\n",
       "67           jump\n",
       "220           yes\n",
       "          ...    \n",
       "704           all\n",
       "126          find\n",
       "660     chocolate\n",
       "292         clean\n",
       "982            up\n",
       "Name: sign, Length: 400, dtype: object"
      ]
     },
     "execution_count": 44,
     "metadata": {},
     "output_type": "execute_result"
    }
   ],
   "source": [
    "test_videos['sign']"
   ]
  },
  {
   "cell_type": "code",
   "execution_count": 45,
   "id": "34628ace-3b6a-46bb-b69c-57d1707c105f",
   "metadata": {
    "execution": {
     "iopub.execute_input": "2024-03-27T21:00:29.241110Z",
     "iopub.status.busy": "2024-03-27T21:00:29.240729Z",
     "iopub.status.idle": "2024-03-27T21:00:29.295760Z",
     "shell.execute_reply": "2024-03-27T21:00:29.294361Z",
     "shell.execute_reply.started": "2024-03-27T21:00:29.241071Z"
    },
    "tags": []
   },
   "outputs": [
    {
     "data": {
      "text/plain": [
       "182"
      ]
     },
     "execution_count": 45,
     "metadata": {},
     "output_type": "execute_result"
    }
   ],
   "source": [
    "test_videos['sign'].nunique()"
   ]
  },
  {
   "cell_type": "code",
   "execution_count": 46,
   "id": "d42b8404-3cbe-4e31-afae-8827a84e1c85",
   "metadata": {
    "execution": {
     "iopub.execute_input": "2024-03-27T21:00:29.897086Z",
     "iopub.status.busy": "2024-03-27T21:00:29.895752Z",
     "iopub.status.idle": "2024-03-27T21:00:29.950900Z",
     "shell.execute_reply": "2024-03-27T21:00:29.949635Z",
     "shell.execute_reply.started": "2024-03-27T21:00:29.896983Z"
    },
    "tags": []
   },
   "outputs": [
    {
     "data": {
      "text/plain": [
       "sign\n",
       "drink     6\n",
       "why       6\n",
       "many      6\n",
       "find      5\n",
       "later     5\n",
       "         ..\n",
       "closet    1\n",
       "bath      1\n",
       "after     1\n",
       "will      1\n",
       "milk      1\n",
       "Name: count, Length: 182, dtype: int64"
      ]
     },
     "execution_count": 46,
     "metadata": {},
     "output_type": "execute_result"
    }
   ],
   "source": [
    "test_videos['sign'].value_counts()"
   ]
  },
  {
   "cell_type": "code",
   "execution_count": 47,
   "id": "07acd375-f681-4e72-808d-34053278d8f3",
   "metadata": {
    "execution": {
     "iopub.execute_input": "2024-03-27T21:00:30.321626Z",
     "iopub.status.busy": "2024-03-27T21:00:30.321279Z",
     "iopub.status.idle": "2024-03-27T21:00:30.546761Z",
     "shell.execute_reply": "2024-03-27T21:00:30.545774Z",
     "shell.execute_reply.started": "2024-03-27T21:00:30.321597Z"
    },
    "tags": []
   },
   "outputs": [
    {
     "data": {
      "image/png": "[encoded data removed]",
      "text/plain": [
       "<Figure size 640x480 with 1 Axes>"
      ]
     },
     "metadata": {},
     "output_type": "display_data"
    }
   ],
   "source": [
    "plt.hist(test_videos['sign'].value_counts());"
   ]
  },
  {
   "cell_type": "markdown",
   "id": "2767d956-2b31-4323-820e-e36cc4b9324f",
   "metadata": {
    "tags": []
   },
   "source": [
    "### Convert videos to json"
   ]
  },
  {
   "cell_type": "code",
   "execution_count": 48,
   "id": "894624f0-80d0-424c-90e3-8a169bb2dd1b",
   "metadata": {
    "execution": {
     "iopub.execute_input": "2024-03-27T21:00:31.889608Z",
     "iopub.status.busy": "2024-03-27T21:00:31.889303Z",
     "iopub.status.idle": "2024-03-27T21:00:31.931076Z",
     "shell.execute_reply": "2024-03-27T21:00:31.929756Z",
     "shell.execute_reply.started": "2024-03-27T21:00:31.889581Z"
    },
    "tags": []
   },
   "outputs": [],
   "source": [
    "def process_video_sequential(video_path_df):\n",
    "    # Initialize a list to store the results\n",
    "    results = []\n",
    "\n",
    "    # Create a progress bar\n",
    "    progress_bar = tqdm(total=len(video_path_df), desc=\"Processing videos\")\n",
    "\n",
    "    # Iterate over the video paths\n",
    "    for video_path in video_path_df:\n",
    "        # Process the video and store the result\n",
    "        process_video_to_landmarks_json(video_path, json_output=True, show_preview=False, save_annotated_video=False, frame_interval=1, rear_camera=True, skip_existing=True)\n",
    "\n",
    "        # Update the progress bar\n",
    "        progress_bar.update(1)\n"
   ]
  },
  {
   "cell_type": "code",
   "execution_count": 49,
   "id": "1e787f97-1b33-42f6-974a-f0bf31d974ee",
   "metadata": {
    "execution": {
     "iopub.execute_input": "2024-03-27T21:00:32.438608Z",
     "iopub.status.busy": "2024-03-27T21:00:32.438316Z",
     "iopub.status.idle": "2024-03-27T21:00:35.645162Z",
     "shell.execute_reply": "2024-03-27T21:00:35.644082Z",
     "shell.execute_reply.started": "2024-03-27T21:00:32.438584Z"
    },
    "tags": []
   },
   "outputs": [
    {
     "name": "stderr",
     "output_type": "stream",
     "text": [
      "Processing videos:   7%|█████▌                                                                       | 29/400 [00:00<00:02, 144.78it/s]"
     ]
    },
    {
     "name": "stdout",
     "output_type": "stream",
     "text": [
      "Skipping video '39839' as landmarks file already exists.\n",
      "Skipping video '63214' as landmarks file already exists.\n",
      "Skipping video '62506' as landmarks file already exists.\n",
      "Skipping video '65983' as landmarks file already exists.\n",
      "Skipping video '66820' as landmarks file already exists.\n",
      "Skipping video '69470' as landmarks file already exists.\n",
      "Skipping video '46266' as landmarks file already exists.\n",
      "Skipping video '22113' as landmarks file already exists.\n",
      "Skipping video '03002' as landmarks file already exists.\n",
      "Skipping video '27173' as landmarks file already exists.\n",
      "Skipping video '34580' as landmarks file already exists.\n",
      "Skipping video '08937' as landmarks file already exists.\n",
      "Skipping video '17832' as landmarks file already exists.\n",
      "Skipping video '25686' as landmarks file already exists.\n",
      "Skipping video '17724' as landmarks file already exists.\n",
      "Skipping video '39951' as landmarks file already exists.\n",
      "Skipping video '05661' as landmarks file already exists.\n",
      "Skipping video '26174' as landmarks file already exists.\n",
      "Skipping video '58908' as landmarks file already exists.\n",
      "Skipping video '04358' as landmarks file already exists.\n",
      "Skipping video '33466' as landmarks file already exists.\n",
      "Skipping video '66306' as landmarks file already exists.\n",
      "Skipping video '05598' as landmarks file already exists.\n",
      "Skipping video '65158' as landmarks file already exists.\n",
      "Skipping video '46001' as landmarks file already exists.\n",
      "Skipping video '07074' as landmarks file already exists.\n",
      "Skipping video '52691' as landmarks file already exists.\n",
      "Skipping video '11358' as landmarks file already exists.\n",
      "Skipping video '14623' as landmarks file already exists.\n"
     ]
    },
    {
     "name": "stderr",
     "output_type": "stream",
     "text": [
      "Processing videos:  11%|████████▍                                                                    | 44/400 [00:00<00:02, 132.06it/s]"
     ]
    },
    {
     "name": "stdout",
     "output_type": "stream",
     "text": [
      "Skipping video '03338' as landmarks file already exists.\n",
      "Skipping video '69257' as landmarks file already exists.\n",
      "Skipping video '10583' as landmarks file already exists.\n",
      "Skipping video '59547' as landmarks file already exists.\n",
      "Skipping video '06007' as landmarks file already exists.\n",
      "Skipping video '11252' as landmarks file already exists.\n",
      "Skipping video '48983' as landmarks file already exists.\n",
      "Skipping video '06845' as landmarks file already exists.\n",
      "Skipping video '54998' as landmarks file already exists.\n",
      "Skipping video '03001' as landmarks file already exists.\n",
      "Skipping video '04873' as landmarks file already exists.\n",
      "Skipping video '07943' as landmarks file already exists.\n",
      "Skipping video '34746' as landmarks file already exists.\n",
      "Skipping video '17083' as landmarks file already exists.\n",
      "Skipping video '60460' as landmarks file already exists.\n",
      "Skipping video '14452' as landmarks file already exists.\n",
      "Skipping video '62930' as landmarks file already exists.\n",
      "Skipping video '26779' as landmarks file already exists.\n",
      "Skipping video '66781' as landmarks file already exists.\n",
      "Skipping video '26158' as landmarks file already exists.\n",
      "Skipping video '63203' as landmarks file already exists.\n",
      "Skipping video '69533' as landmarks file already exists.\n"
     ]
    },
    {
     "name": "stderr",
     "output_type": "stream",
     "text": [
      "Processing videos:  18%|█████████████▍                                                               | 70/400 [00:00<00:03, 105.85it/s]"
     ]
    },
    {
     "name": "stdout",
     "output_type": "stream",
     "text": [
      "Skipping video '42231' as landmarks file already exists.\n",
      "Skipping video '27153' as landmarks file already exists.\n",
      "Skipping video '32326' as landmarks file already exists.\n",
      "Skipping video '66561' as landmarks file already exists.\n",
      "Skipping video '20636' as landmarks file already exists.\n",
      "Skipping video '08514' as landmarks file already exists.\n",
      "Skipping video '43220' as landmarks file already exists.\n",
      "Skipping video '27406' as landmarks file already exists.\n",
      "Skipping video '03342' as landmarks file already exists.\n",
      "Skipping video '24614' as landmarks file already exists.\n",
      "Skipping video '23628' as landmarks file already exists.\n",
      "Skipping video '51504' as landmarks file already exists.\n",
      "Skipping video '14177' as landmarks file already exists.\n",
      "Skipping video '48043' as landmarks file already exists.\n",
      "Skipping video '34584' as landmarks file already exists.\n",
      "Skipping video '38525' as landmarks file already exists.\n",
      "Skipping video '49182' as landmarks file already exists.\n",
      "Skipping video '59555' as landmarks file already exists.\n",
      "Skipping video '38737' as landmarks file already exists.\n",
      "Skipping video '28108' as landmarks file already exists.\n"
     ]
    },
    {
     "name": "stderr",
     "output_type": "stream",
     "text": [
      "Processing videos:  24%|██████████████████▊                                                          | 98/400 [00:00<00:02, 119.96it/s]"
     ]
    },
    {
     "name": "stdout",
     "output_type": "stream",
     "text": [
      "Skipping video '31750' as landmarks file already exists.\n",
      "Skipping video '26003' as landmarks file already exists.\n",
      "Skipping video '69305' as landmarks file already exists.\n",
      "Skipping video '69343' as landmarks file already exists.\n",
      "Skipping video '05634' as landmarks file already exists.\n",
      "Skipping video '34824' as landmarks file already exists.\n",
      "Skipping video '51340' as landmarks file already exists.\n",
      "Skipping video '06794' as landmarks file already exists.\n",
      "Skipping video '65125' as landmarks file already exists.\n",
      "Skipping video '40465' as landmarks file already exists.\n",
      "Skipping video '05654' as landmarks file already exists.\n",
      "Skipping video '06789' as landmarks file already exists.\n",
      "Skipping video '14174' as landmarks file already exists.\n",
      "Skipping video '52354' as landmarks file already exists.\n",
      "Skipping video '24581' as landmarks file already exists.\n",
      "Skipping video '66774' as landmarks file already exists.\n",
      "Skipping video '58807' as landmarks file already exists.\n",
      "Skipping video '07068' as landmarks file already exists.\n",
      "Skipping video '66644' as landmarks file already exists.\n",
      "Skipping video '04715' as landmarks file already exists.\n",
      "Skipping video '34732' as landmarks file already exists.\n",
      "Skipping video '06833' as landmarks file already exists.\n",
      "Skipping video '01991' as landmarks file already exists.\n",
      "Skipping video '28107' as landmarks file already exists.\n",
      "Skipping video '34825' as landmarks file already exists.\n",
      "Skipping video '45760' as landmarks file already exists.\n",
      "Skipping video '63204' as landmarks file already exists.\n",
      "Skipping video '40470' as landmarks file already exists.\n"
     ]
    },
    {
     "name": "stderr",
     "output_type": "stream",
     "text": [
      "Processing videos:  28%|█████████████████████▍                                                      | 113/400 [00:00<00:02, 128.25it/s]"
     ]
    },
    {
     "name": "stdout",
     "output_type": "stream",
     "text": [
      "Skipping video '69219' as landmarks file already exists.\n",
      "Skipping video '21883' as landmarks file already exists.\n",
      "Skipping video '38534' as landmarks file already exists.\n",
      "Skipping video '52316' as landmarks file already exists.\n",
      "Skipping video '22993' as landmarks file already exists.\n",
      "Skipping video '66142' as landmarks file already exists.\n",
      "Skipping video '24941' as landmarks file already exists.\n",
      "Skipping video '26715' as landmarks file already exists.\n",
      "Skipping video '04708' as landmarks file already exists.\n",
      "Skipping video '25515' as landmarks file already exists.\n",
      "Skipping video '60576' as landmarks file already exists.\n",
      "Skipping video '26006' as landmarks file already exists.\n",
      "Skipping video '26719' as landmarks file already exists.\n",
      "Skipping video '56971' as landmarks file already exists.\n",
      "Skipping video '57974' as landmarks file already exists.\n",
      "Skipping video '58902' as landmarks file already exists.\n",
      "Skipping video '25685' as landmarks file already exists.\n",
      "Skipping video '21100' as landmarks file already exists.\n",
      "Skipping video '18773' as landmarks file already exists.\n",
      "Skipping video '06788' as landmarks file already exists.\n",
      "Skipping video '65728' as landmarks file already exists.\n",
      "Skipping video '64263' as landmarks file already exists.\n",
      "Skipping video '52862' as landmarks file already exists.\n",
      "Skipping video '69413' as landmarks file already exists.\n",
      "Skipping video '52324' as landmarks file already exists.\n",
      "Skipping video '39625' as landmarks file already exists.\n"
     ]
    },
    {
     "name": "stderr",
     "output_type": "stream",
     "text": [
      "Processing videos:  36%|███████████████████████████▏                                                | 143/400 [00:01<00:02, 125.37it/s]"
     ]
    },
    {
     "name": "stdout",
     "output_type": "stream",
     "text": [
      "Skipping video '28737' as landmarks file already exists.\n",
      "Skipping video '04169' as landmarks file already exists.\n",
      "Skipping video '37043' as landmarks file already exists.\n",
      "Skipping video '38532' as landmarks file already exists.\n",
      "Skipping video '08114' as landmarks file already exists.\n",
      "Skipping video '27408' as landmarks file already exists.\n",
      "Skipping video '22085' as landmarks file already exists.\n",
      "Skipping video '63201' as landmarks file already exists.\n",
      "Skipping video '22746' as landmarks file already exists.\n",
      "Skipping video '21874' as landmarks file already exists.\n",
      "Skipping video '34091' as landmarks file already exists.\n",
      "Skipping video '26009' as landmarks file already exists.\n",
      "Skipping video '36858' as landmarks file already exists.\n",
      "Skipping video '48510' as landmarks file already exists.\n",
      "Skipping video '33465' as landmarks file already exists.\n",
      "Skipping video '21870' as landmarks file already exists.\n",
      "Skipping video '34830' as landmarks file already exists.\n",
      "Skipping video '69536' as landmarks file already exists.\n",
      "Skipping video '69479' as landmarks file already exists.\n",
      "Skipping video '01422' as landmarks file already exists.\n",
      "Skipping video '14568' as landmarks file already exists.\n",
      "Skipping video '51329' as landmarks file already exists.\n",
      "Skipping video '40116' as landmarks file already exists.\n",
      "Skipping video '43219' as landmarks file already exists.\n",
      "Skipping video '05275' as landmarks file already exists.\n",
      "Skipping video '11285' as landmarks file already exists.\n",
      "Skipping video '25422' as landmarks file already exists.\n",
      "Skipping video '64451' as landmarks file already exists.\n",
      "Skipping video '22748' as landmarks file already exists.\n",
      "Skipping video '34742' as landmarks file already exists.\n"
     ]
    },
    {
     "name": "stderr",
     "output_type": "stream",
     "text": [
      "Processing videos:  43%|████████████████████████████████▍                                           | 171/400 [00:01<00:01, 121.95it/s]"
     ]
    },
    {
     "name": "stdout",
     "output_type": "stream",
     "text": [
      "Skipping video '21175' as landmarks file already exists.\n",
      "Skipping video '54762' as landmarks file already exists.\n",
      "Skipping video '63283' as landmarks file already exists.\n",
      "Skipping video '24582' as landmarks file already exists.\n",
      "Skipping video '40129' as landmarks file already exists.\n",
      "Skipping video '27999' as landmarks file already exists.\n",
      "Skipping video '20700' as landmarks file already exists.\n",
      "Skipping video '09307' as landmarks file already exists.\n",
      "Skipping video '32320' as landmarks file already exists.\n",
      "Skipping video '14572' as landmarks file already exists.\n",
      "Skipping video '54557' as landmarks file already exists.\n",
      "Skipping video '48973' as landmarks file already exists.\n",
      "Skipping video '17823' as landmarks file already exists.\n",
      "Skipping video '69211' as landmarks file already exists.\n",
      "Skipping video '23630' as landmarks file already exists.\n",
      "Skipping video '50122' as landmarks file already exists.\n",
      "Skipping video '62510' as landmarks file already exists.\n",
      "Skipping video '54955' as landmarks file already exists.\n",
      "Skipping video '37065' as landmarks file already exists.\n",
      "Skipping video '36863' as landmarks file already exists.\n",
      "Skipping video '36781' as landmarks file already exists.\n",
      "Skipping video '06333' as landmarks file already exists.\n"
     ]
    },
    {
     "name": "stderr",
     "output_type": "stream",
     "text": [
      "Processing videos:  50%|██████████████████████████████████████                                      | 200/400 [00:01<00:01, 124.95it/s]"
     ]
    },
    {
     "name": "stdout",
     "output_type": "stream",
     "text": [
      "Skipping video '24584' as landmarks file already exists.\n",
      "Skipping video '05644' as landmarks file already exists.\n",
      "Skipping video '09528' as landmarks file already exists.\n",
      "Skipping video '69395' as landmarks file already exists.\n",
      "Skipping video '17428' as landmarks file already exists.\n",
      "Skipping video '46733' as landmarks file already exists.\n",
      "Skipping video '54764' as landmarks file already exists.\n",
      "Skipping video '58031' as landmarks file already exists.\n",
      "Skipping video '09305' as landmarks file already exists.\n",
      "Skipping video '40130' as landmarks file already exists.\n",
      "Skipping video '27417' as landmarks file already exists.\n",
      "Skipping video '02003' as landmarks file already exists.\n",
      "Skipping video '66766' as landmarks file already exists.\n",
      "Skipping video '65427' as landmarks file already exists.\n",
      "Skipping video '43528' as landmarks file already exists.\n",
      "Skipping video '24955' as landmarks file already exists.\n",
      "Skipping video '49181' as landmarks file already exists.\n",
      "Skipping video '04361' as landmarks file already exists.\n",
      "Skipping video '49178' as landmarks file already exists.\n",
      "Skipping video '26698' as landmarks file already exists.\n",
      "Skipping video '49658' as landmarks file already exists.\n",
      "Skipping video '28111' as landmarks file already exists.\n",
      "Skipping video '02585' as landmarks file already exists.\n",
      "Skipping video '22272' as landmarks file already exists.\n",
      "Skipping video '10445' as landmarks file already exists.\n",
      "Skipping video '45996' as landmarks file already exists.\n"
     ]
    },
    {
     "name": "stderr",
     "output_type": "stream",
     "text": [
      "Processing videos:  57%|███████████████████████████████████████████▌                                | 229/400 [00:01<00:01, 131.41it/s]"
     ]
    },
    {
     "name": "stdout",
     "output_type": "stream",
     "text": [
      "Skipping video '06075' as landmarks file already exists.\n",
      "Skipping video '27375' as landmarks file already exists.\n",
      "Skipping video '66705' as landmarks file already exists.\n",
      "Skipping video '06832' as landmarks file already exists.\n",
      "Skipping video '65167' as landmarks file already exists.\n",
      "Skipping video '52348' as landmarks file already exists.\n",
      "Skipping video '60459' as landmarks file already exists.\n",
      "Skipping video '07963' as landmarks file already exists.\n",
      "Skipping video '66328' as landmarks file already exists.\n",
      "Skipping video '21891' as landmarks file already exists.\n",
      "Skipping video '32094' as landmarks file already exists.\n",
      "Skipping video '08510' as landmarks file already exists.\n",
      "Skipping video '51058' as landmarks file already exists.\n",
      "Skipping video '28003' as landmarks file already exists.\n",
      "Skipping video '36780' as landmarks file already exists.\n",
      "Skipping video '37040' as landmarks file already exists.\n",
      "Skipping video '04870' as landmarks file already exists.\n",
      "Skipping video '09533' as landmarks file already exists.\n",
      "Skipping video '63284' as landmarks file already exists.\n",
      "Skipping video '57832' as landmarks file already exists.\n",
      "Skipping video '60579' as landmarks file already exists.\n",
      "Skipping video '56820' as landmarks file already exists.\n",
      "Skipping video '21855' as landmarks file already exists.\n",
      "Skipping video '58899' as landmarks file already exists.\n",
      "Skipping video '05743' as landmarks file already exists.\n",
      "Skipping video '21854' as landmarks file already exists.\n",
      "Skipping video '64292' as landmarks file already exists.\n",
      "Skipping video '54556' as landmarks file already exists.\n"
     ]
    },
    {
     "name": "stderr",
     "output_type": "stream",
     "text": [
      "Processing videos:  65%|█████████████████████████████████████████████████▍                          | 260/400 [00:02<00:01, 136.95it/s]"
     ]
    },
    {
     "name": "stdout",
     "output_type": "stream",
     "text": [
      "Skipping video '49188' as landmarks file already exists.\n",
      "Skipping video '56563' as landmarks file already exists.\n",
      "Skipping video '69429' as landmarks file already exists.\n",
      "Skipping video '07070' as landmarks file already exists.\n",
      "Skipping video '66643' as landmarks file already exists.\n",
      "Skipping video '05728' as landmarks file already exists.\n",
      "Skipping video '69317' as landmarks file already exists.\n",
      "Skipping video '64281' as landmarks file already exists.\n",
      "Skipping video '51503' as landmarks file already exists.\n",
      "Skipping video '06002' as landmarks file already exists.\n",
      "Skipping video '06334' as landmarks file already exists.\n",
      "Skipping video '01724' as landmarks file already exists.\n",
      "Skipping video '60574' as landmarks file already exists.\n",
      "Skipping video '56978' as landmarks file already exists.\n",
      "Skipping video '52867' as landmarks file already exists.\n",
      "Skipping video '20634' as landmarks file already exists.\n",
      "Skipping video '66740' as landmarks file already exists.\n",
      "Skipping video '65668' as landmarks file already exists.\n",
      "Skipping video '13696' as landmarks file already exists.\n",
      "Skipping video '42966' as landmarks file already exists.\n",
      "Skipping video '05682' as landmarks file already exists.\n",
      "Skipping video '65132' as landmarks file already exists.\n",
      "Skipping video '36783' as landmarks file already exists.\n",
      "Skipping video '51059' as landmarks file already exists.\n",
      "Skipping video '26860' as landmarks file already exists.\n",
      "Skipping video '65267' as landmarks file already exists.\n",
      "Skipping video '02587' as landmarks file already exists.\n",
      "Skipping video '24973' as landmarks file already exists.\n",
      "Skipping video '65507' as landmarks file already exists.\n"
     ]
    },
    {
     "name": "stderr",
     "output_type": "stream",
     "text": [
      "Processing videos:  68%|████████████████████████████████████████████████████                        | 274/400 [00:02<00:00, 137.34it/s]"
     ]
    },
    {
     "name": "stdout",
     "output_type": "stream",
     "text": [
      "Skipping video '03003' as landmarks file already exists.\n",
      "Skipping video '32337' as landmarks file already exists.\n",
      "Skipping video '49432' as landmarks file already exists.\n",
      "Skipping video '69239' as landmarks file already exists.\n",
      "Skipping video '06477' as landmarks file already exists.\n",
      "Skipping video '48050' as landmarks file already exists.\n",
      "Skipping video '39635' as landmarks file already exists.\n",
      "Skipping video '65540' as landmarks file already exists.\n",
      "Skipping video '24583' as landmarks file already exists.\n",
      "Skipping video '66709' as landmarks file already exists.\n",
      "Skipping video '64305' as landmarks file already exists.\n",
      "Skipping video '05629' as landmarks file already exists.\n",
      "Skipping video '05742' as landmarks file already exists.\n",
      "Skipping video '17582' as landmarks file already exists.\n",
      "Skipping video '33286' as landmarks file already exists.\n",
      "Skipping video '45759' as landmarks file already exists.\n",
      "Skipping video '14566' as landmarks file already exists.\n",
      "Skipping video '10587' as landmarks file already exists.\n",
      "Skipping video '32325' as landmarks file already exists.\n",
      "Skipping video '69302' as landmarks file already exists.\n",
      "Skipping video '66562' as landmarks file already exists.\n",
      "Skipping video '30834' as landmarks file already exists.\n",
      "Skipping video '63292' as landmarks file already exists.\n",
      "Skipping video '06478' as landmarks file already exists.\n",
      "Skipping video '27377' as landmarks file already exists.\n",
      "Skipping video '38530' as landmarks file already exists.\n"
     ]
    },
    {
     "name": "stderr",
     "output_type": "stream",
     "text": [
      "Processing videos:  76%|█████████████████████████████████████████████████████████▍                  | 302/400 [00:02<00:00, 129.11it/s]"
     ]
    },
    {
     "name": "stdout",
     "output_type": "stream",
     "text": [
      "Skipping video '11035' as landmarks file already exists.\n",
      "Skipping video '41902' as landmarks file already exists.\n",
      "Skipping video '25508' as landmarks file already exists.\n",
      "Skipping video '69366' as landmarks file already exists.\n",
      "Skipping video '40659' as landmarks file already exists.\n",
      "Skipping video '59548' as landmarks file already exists.\n",
      "Skipping video '66552' as landmarks file already exists.\n",
      "Skipping video '26942' as landmarks file already exists.\n",
      "Skipping video '69510' as landmarks file already exists.\n",
      "Skipping video '08107' as landmarks file already exists.\n",
      "Skipping video '33454' as landmarks file already exists.\n",
      "Skipping video '37612' as landmarks file already exists.\n",
      "Skipping video '28379' as landmarks file already exists.\n",
      "Skipping video '40121' as landmarks file already exists.\n",
      "Skipping video '02826' as landmarks file already exists.\n",
      "Skipping video '02999' as landmarks file already exists.\n",
      "Skipping video '24589' as landmarks file already exists.\n",
      "Skipping video '34839' as landmarks file already exists.\n",
      "Skipping video '43222' as landmarks file already exists.\n",
      "Skipping video '51064' as landmarks file already exists.\n",
      "Skipping video '21941' as landmarks file already exists.\n",
      "Skipping video '42239' as landmarks file already exists.\n",
      "Skipping video '66015' as landmarks file already exists.\n",
      "Skipping video '39627' as landmarks file already exists.\n",
      "Skipping video '19049' as landmarks file already exists.\n",
      "Skipping video '46731' as landmarks file already exists.\n",
      "Skipping video '17585' as landmarks file already exists.\n",
      "Skipping video '39953' as landmarks file already exists.\n",
      "Skipping video '09774' as landmarks file already exists.\n"
     ]
    },
    {
     "name": "stderr",
     "output_type": "stream",
     "text": [
      "Processing videos:  83%|███████████████████████████████████████████████████████████████             | 332/400 [00:02<00:00, 135.39it/s]"
     ]
    },
    {
     "name": "stdout",
     "output_type": "stream",
     "text": [
      "Skipping video '69283' as landmarks file already exists.\n",
      "Skipping video '43522' as landmarks file already exists.\n",
      "Skipping video '33456' as landmarks file already exists.\n",
      "Skipping video '17721' as landmarks file already exists.\n",
      "Skipping video '17722' as landmarks file already exists.\n",
      "Skipping video '22994' as landmarks file already exists.\n",
      "Skipping video '24548' as landmarks file already exists.\n",
      "Skipping video '14481' as landmarks file already exists.\n",
      "Skipping video '66405' as landmarks file already exists.\n",
      "Skipping video '34827' as landmarks file already exists.\n",
      "Skipping video '10453' as landmarks file already exists.\n",
      "Skipping video '64306' as landmarks file already exists.\n",
      "Skipping video '52617' as landmarks file already exists.\n",
      "Skipping video '08942' as landmarks file already exists.\n",
      "Skipping video '63287' as landmarks file already exists.\n",
      "Skipping video '17091' as landmarks file already exists.\n",
      "Skipping video '28377' as landmarks file already exists.\n",
      "Skipping video '52623' as landmarks file already exists.\n",
      "Skipping video '11037' as landmarks file already exists.\n",
      "Skipping video '26946' as landmarks file already exists.\n",
      "Skipping video '14477' as landmarks file already exists.\n",
      "Skipping video '25687' as landmarks file already exists.\n",
      "Skipping video '66767' as landmarks file already exists.\n",
      "Skipping video '36791' as landmarks file already exists.\n",
      "Skipping video '46737' as landmarks file already exists.\n",
      "Skipping video '38337' as landmarks file already exists.\n",
      "Skipping video '66822' as landmarks file already exists.\n",
      "Skipping video '62499' as landmarks file already exists.\n"
     ]
    },
    {
     "name": "stderr",
     "output_type": "stream",
     "text": [
      "Processing videos:  90%|████████████████████████████████████████████████████████████████████▊       | 362/400 [00:02<00:00, 137.22it/s]"
     ]
    },
    {
     "name": "stdout",
     "output_type": "stream",
     "text": [
      "Skipping video '17935' as landmarks file already exists.\n",
      "Skipping video '60571' as landmarks file already exists.\n",
      "Skipping video '28381' as landmarks file already exists.\n",
      "Skipping video '21101' as landmarks file already exists.\n",
      "Skipping video '25423' as landmarks file already exists.\n",
      "Skipping video '34832' as landmarks file already exists.\n",
      "Skipping video '24641' as landmarks file already exists.\n",
      "Skipping video '34375' as landmarks file already exists.\n",
      "Skipping video '27412' as landmarks file already exists.\n",
      "Skipping video '14188' as landmarks file already exists.\n",
      "Skipping video '33274' as landmarks file already exists.\n",
      "Skipping video '21858' as landmarks file already exists.\n",
      "Skipping video '65372' as landmarks file already exists.\n",
      "Skipping video '57973' as landmarks file already exists.\n",
      "Skipping video '19843' as landmarks file already exists.\n",
      "Skipping video '17720' as landmarks file already exists.\n",
      "Skipping video '55804' as landmarks file already exists.\n",
      "Skipping video '06933' as landmarks file already exists.\n",
      "Skipping video '34370' as landmarks file already exists.\n",
      "Skipping video '22548' as landmarks file already exists.\n",
      "Skipping video '69258' as landmarks file already exists.\n",
      "Skipping video '34087' as landmarks file already exists.\n",
      "Skipping video '57827' as landmarks file already exists.\n",
      "Skipping video '20699' as landmarks file already exists.\n",
      "Skipping video '63280' as landmarks file already exists.\n",
      "Skipping video '40477' as landmarks file already exists.\n",
      "Skipping video '51331' as landmarks file already exists.\n",
      "Skipping video '52349' as landmarks file already exists.\n"
     ]
    },
    {
     "name": "stderr",
     "output_type": "stream",
     "text": [
      "Processing videos:  98%|██████████████████████████████████████████████████████████████████████████  | 390/400 [00:03<00:00, 128.54it/s]"
     ]
    },
    {
     "name": "stdout",
     "output_type": "stream",
     "text": [
      "Skipping video '06839' as landmarks file already exists.\n",
      "Skipping video '22558' as landmarks file already exists.\n",
      "Skipping video '66415' as landmarks file already exists.\n",
      "Skipping video '33269' as landmarks file already exists.\n",
      "Skipping video '22996' as landmarks file already exists.\n",
      "Skipping video '10447' as landmarks file already exists.\n",
      "Skipping video '17589' as landmarks file already exists.\n",
      "Skipping video '59058' as landmarks file already exists.\n",
      "Skipping video '69236' as landmarks file already exists.\n",
      "Skipping video '56557' as landmarks file already exists.\n",
      "Skipping video '26717' as landmarks file already exists.\n",
      "Skipping video '21853' as landmarks file already exists.\n",
      "Skipping video '34734' as landmarks file already exists.\n",
      "Skipping video '26710' as landmarks file already exists.\n",
      "Skipping video '24606' as landmarks file already exists.\n",
      "Skipping video '22120' as landmarks file already exists.\n",
      "Skipping video '08938' as landmarks file already exists.\n",
      "Skipping video '31749' as landmarks file already exists.\n",
      "Skipping video '52859' as landmarks file already exists.\n",
      "Skipping video '05732' as landmarks file already exists.\n",
      "Skipping video '36046' as landmarks file already exists.\n",
      "Skipping video '69460' as landmarks file already exists.\n",
      "Skipping video '11036' as landmarks file already exists.\n",
      "Skipping video '38524' as landmarks file already exists.\n"
     ]
    },
    {
     "name": "stderr",
     "output_type": "stream",
     "text": [
      "Processing videos: 100%|████████████████████████████████████████████████████████████████████████████| 400/400 [00:03<00:00, 126.47it/s]"
     ]
    },
    {
     "name": "stdout",
     "output_type": "stream",
     "text": [
      "Skipping video '69206' as landmarks file already exists.\n",
      "Skipping video '21863' as landmarks file already exists.\n",
      "Skipping video '65354' as landmarks file already exists.\n",
      "Skipping video '11034' as landmarks file already exists.\n",
      "Skipping video '60907' as landmarks file already exists.\n"
     ]
    },
    {
     "name": "stderr",
     "output_type": "stream",
     "text": [
      "\n"
     ]
    }
   ],
   "source": [
    "process_video_sequential(test_videos.video_path)"
   ]
  },
  {
   "cell_type": "code",
   "execution_count": 50,
   "id": "3357d085-aebc-4704-9bdf-2d71704742e1",
   "metadata": {
    "execution": {
     "iopub.execute_input": "2024-03-27T21:01:01.692156Z",
     "iopub.status.busy": "2024-03-27T21:01:01.691557Z",
     "iopub.status.idle": "2024-03-27T21:01:01.747590Z",
     "shell.execute_reply": "2024-03-27T21:01:01.746416Z",
     "shell.execute_reply.started": "2024-03-27T21:01:01.692127Z"
    },
    "tags": []
   },
   "outputs": [
    {
     "data": {
      "text/html": [
       "<div>\n",
       "<style scoped>\n",
       "    .dataframe tbody tr th:only-of-type {\n",
       "        vertical-align: middle;\n",
       "    }\n",
       "\n",
       "    .dataframe tbody tr th {\n",
       "        vertical-align: top;\n",
       "    }\n",
       "\n",
       "    .dataframe thead th {\n",
       "        text-align: right;\n",
       "    }\n",
       "</style>\n",
       "<table border=\"1\" class=\"dataframe\">\n",
       "  <thead>\n",
       "    <tr style=\"text-align: right;\">\n",
       "      <th></th>\n",
       "      <th>sign</th>\n",
       "      <th>bbox</th>\n",
       "      <th>fps</th>\n",
       "      <th>frame_end</th>\n",
       "      <th>frame_start</th>\n",
       "      <th>instance_id</th>\n",
       "      <th>signer_id</th>\n",
       "      <th>source</th>\n",
       "      <th>split</th>\n",
       "      <th>url</th>\n",
       "      <th>variation_id</th>\n",
       "      <th>video_id</th>\n",
       "      <th>video_path</th>\n",
       "      <th>json_path</th>\n",
       "    </tr>\n",
       "  </thead>\n",
       "  <tbody>\n",
       "    <tr>\n",
       "      <th>1125</th>\n",
       "      <td>on</td>\n",
       "      <td>[29, 0, 267, 240]</td>\n",
       "      <td>25</td>\n",
       "      <td>-1</td>\n",
       "      <td>1</td>\n",
       "      <td>3</td>\n",
       "      <td>37</td>\n",
       "      <td>spreadthesign</td>\n",
       "      <td>train</td>\n",
       "      <td>https://media.spreadthesign.com/video/mp4/13/4...</td>\n",
       "      <td>0</td>\n",
       "      <td>39839</td>\n",
       "      <td>/home/bfrisque/code/benoitfrisque/signlens/raw...</td>\n",
       "      <td>/home/bfrisque/code/benoitfrisque/signlens/pro...</td>\n",
       "    </tr>\n",
       "    <tr>\n",
       "      <th>184</th>\n",
       "      <td>white</td>\n",
       "      <td>[183, 52, 544, 400]</td>\n",
       "      <td>25</td>\n",
       "      <td>-1</td>\n",
       "      <td>1</td>\n",
       "      <td>16</td>\n",
       "      <td>12</td>\n",
       "      <td>aslsearch</td>\n",
       "      <td>train</td>\n",
       "      <td>http://www.aslsearch.com/signs/videos/white.mp4</td>\n",
       "      <td>0</td>\n",
       "      <td>63214</td>\n",
       "      <td>/home/bfrisque/code/benoitfrisque/signlens/raw...</td>\n",
       "      <td>/home/bfrisque/code/benoitfrisque/signlens/pro...</td>\n",
       "    </tr>\n",
       "    <tr>\n",
       "      <th>1226</th>\n",
       "      <td>water</td>\n",
       "      <td>[89, 22, 204, 192]</td>\n",
       "      <td>25</td>\n",
       "      <td>-1</td>\n",
       "      <td>1</td>\n",
       "      <td>6</td>\n",
       "      <td>10</td>\n",
       "      <td>signingsavvy</td>\n",
       "      <td>train</td>\n",
       "      <td>https://www.signingsavvy.com/signs/mp4/22/2297...</td>\n",
       "      <td>0</td>\n",
       "      <td>62506</td>\n",
       "      <td>/home/bfrisque/code/benoitfrisque/signlens/raw...</td>\n",
       "      <td>/home/bfrisque/code/benoitfrisque/signlens/pro...</td>\n",
       "    </tr>\n",
       "    <tr>\n",
       "      <th>67</th>\n",
       "      <td>jump</td>\n",
       "      <td>[167, 16, 480, 370]</td>\n",
       "      <td>25</td>\n",
       "      <td>-1</td>\n",
       "      <td>1</td>\n",
       "      <td>1</td>\n",
       "      <td>90</td>\n",
       "      <td>aslsignbank</td>\n",
       "      <td>train</td>\n",
       "      <td>https://aslsignbank.haskins.yale.edu/dictionar...</td>\n",
       "      <td>0</td>\n",
       "      <td>65983</td>\n",
       "      <td>/home/bfrisque/code/benoitfrisque/signlens/raw...</td>\n",
       "      <td>/home/bfrisque/code/benoitfrisque/signlens/pro...</td>\n",
       "    </tr>\n",
       "    <tr>\n",
       "      <th>220</th>\n",
       "      <td>yes</td>\n",
       "      <td>[168, 14, 461, 370]</td>\n",
       "      <td>25</td>\n",
       "      <td>-1</td>\n",
       "      <td>1</td>\n",
       "      <td>13</td>\n",
       "      <td>88</td>\n",
       "      <td>aslsignbank</td>\n",
       "      <td>train</td>\n",
       "      <td>https://aslsignbank.haskins.yale.edu/dictionar...</td>\n",
       "      <td>0</td>\n",
       "      <td>66820</td>\n",
       "      <td>/home/bfrisque/code/benoitfrisque/signlens/raw...</td>\n",
       "      <td>/home/bfrisque/code/benoitfrisque/signlens/pro...</td>\n",
       "    </tr>\n",
       "  </tbody>\n",
       "</table>\n",
       "</div>"
      ],
      "text/plain": [
       "       sign                 bbox  fps  frame_end  frame_start  instance_id  \\\n",
       "1125     on    [29, 0, 267, 240]   25         -1            1            3   \n",
       "184   white  [183, 52, 544, 400]   25         -1            1           16   \n",
       "1226  water   [89, 22, 204, 192]   25         -1            1            6   \n",
       "67     jump  [167, 16, 480, 370]   25         -1            1            1   \n",
       "220     yes  [168, 14, 461, 370]   25         -1            1           13   \n",
       "\n",
       "      signer_id         source  split  \\\n",
       "1125         37  spreadthesign  train   \n",
       "184          12      aslsearch  train   \n",
       "1226         10   signingsavvy  train   \n",
       "67           90    aslsignbank  train   \n",
       "220          88    aslsignbank  train   \n",
       "\n",
       "                                                    url  variation_id  \\\n",
       "1125  https://media.spreadthesign.com/video/mp4/13/4...             0   \n",
       "184     http://www.aslsearch.com/signs/videos/white.mp4             0   \n",
       "1226  https://www.signingsavvy.com/signs/mp4/22/2297...             0   \n",
       "67    https://aslsignbank.haskins.yale.edu/dictionar...             0   \n",
       "220   https://aslsignbank.haskins.yale.edu/dictionar...             0   \n",
       "\n",
       "     video_id                                         video_path  \\\n",
       "1125    39839  /home/bfrisque/code/benoitfrisque/signlens/raw...   \n",
       "184     63214  /home/bfrisque/code/benoitfrisque/signlens/raw...   \n",
       "1226    62506  /home/bfrisque/code/benoitfrisque/signlens/raw...   \n",
       "67      65983  /home/bfrisque/code/benoitfrisque/signlens/raw...   \n",
       "220     66820  /home/bfrisque/code/benoitfrisque/signlens/raw...   \n",
       "\n",
       "                                              json_path  \n",
       "1125  /home/bfrisque/code/benoitfrisque/signlens/pro...  \n",
       "184   /home/bfrisque/code/benoitfrisque/signlens/pro...  \n",
       "1226  /home/bfrisque/code/benoitfrisque/signlens/pro...  \n",
       "67    /home/bfrisque/code/benoitfrisque/signlens/pro...  \n",
       "220   /home/bfrisque/code/benoitfrisque/signlens/pro...  "
      ]
     },
     "execution_count": 50,
     "metadata": {},
     "output_type": "execute_result"
    }
   ],
   "source": [
    "# create json_path column\n",
    "test_videos['json_path'] = test_videos['video_path'].apply(lambda x: os.path.join(LANDMARKS_VIDEO_DIR, f'{os.path.splitext(os.path.basename(x))[0]}_landmarks.json'))\n",
    "test_videos.head()"
   ]
  },
  {
   "cell_type": "markdown",
   "id": "e3e145d4-7d3f-4bab-b232-09880312f456",
   "metadata": {},
   "source": [
    "### Preprocess json"
   ]
  },
  {
   "cell_type": "code",
   "execution_count": 51,
   "id": "239532d4-2b96-40fe-a29d-ea8c46d6e7e8",
   "metadata": {
    "execution": {
     "iopub.execute_input": "2024-03-27T21:01:02.140921Z",
     "iopub.status.busy": "2024-03-27T21:01:02.140198Z",
     "iopub.status.idle": "2024-03-27T21:01:02.216330Z",
     "shell.execute_reply": "2024-03-27T21:01:02.215486Z",
     "shell.execute_reply.started": "2024-03-27T21:01:02.140889Z"
    },
    "tags": []
   },
   "outputs": [],
   "source": [
    "json_path = test_videos.json_path.iloc[0]\n",
    "\n",
    "with open(json_path) as f:\n",
    "    json_data = json.load(f)\n",
    "\n",
    "data_processed_tf = preprocess_data_from_json_data(json_data)"
   ]
  },
  {
   "cell_type": "code",
   "execution_count": 52,
   "id": "5c9a17e9-16ba-4aec-bc24-5ed1a815d0d2",
   "metadata": {
    "execution": {
     "iopub.execute_input": "2024-03-27T21:01:02.331307Z",
     "iopub.status.busy": "2024-03-27T21:01:02.330227Z",
     "iopub.status.idle": "2024-03-27T21:01:11.432789Z",
     "shell.execute_reply": "2024-03-27T21:01:11.431711Z",
     "shell.execute_reply.started": "2024-03-27T21:01:02.331251Z"
    },
    "tags": []
   },
   "outputs": [
    {
     "name": "stderr",
     "output_type": "stream",
     "text": [
      "100%|████████████████████████████████████████████████████████████████████████████████████████████████| 400/400 [00:09<00:00, 44.36it/s]\n"
     ]
    }
   ],
   "source": [
    "# Initialize an empty list to store processed data\n",
    "processed_data_list = []\n",
    "\n",
    "# Assuming test_videos is a DataFrame with column json_path\n",
    "for json_path in tqdm(test_videos['json_path']):\n",
    "    with open(json_path) as f:\n",
    "        json_data = json.load(f)\n",
    "\n",
    "    data_processed_tf = preprocess_data_from_json_data(json_data)\n",
    "    processed_data_list.append(data_processed_tf)\n",
    "\n",
    "X_test_videos = tf.concat(processed_data_list, axis=0)\n"
   ]
  },
  {
   "cell_type": "code",
   "execution_count": 53,
   "id": "b1357ae8-4608-4ade-92bb-ca791d060129",
   "metadata": {
    "execution": {
     "iopub.execute_input": "2024-03-27T21:01:11.434524Z",
     "iopub.status.busy": "2024-03-27T21:01:11.434244Z",
     "iopub.status.idle": "2024-03-27T21:01:20.195956Z",
     "shell.execute_reply": "2024-03-27T21:01:20.194926Z",
     "shell.execute_reply.started": "2024-03-27T21:01:11.434499Z"
    },
    "tags": []
   },
   "outputs": [
    {
     "name": "stderr",
     "output_type": "stream",
     "text": [
      "100%|████████████████████████████████████████████████████████████████████████████████████████████████| 400/400 [00:08<00:00, 46.03it/s]\n"
     ]
    }
   ],
   "source": [
    "noface=True\n",
    "n_coordinates = 2\n",
    "n_frames = 100\n",
    "\n",
    "\n",
    "# Initialize an empty list to store processed data\n",
    "processed_data_list = []\n",
    "\n",
    "# Assuming test_videos is a DataFrame with column json_path\n",
    "for json_path in tqdm(test_videos['json_path']):\n",
    "    with open(json_path) as f:\n",
    "        json_data = json.load(f)\n",
    "    \n",
    "    landmarks_df = convert_landmarks_json_data_to_df(json_data)\n",
    "    filtered_landmarks_array = filter_relevant_landmarks_and_coordinates(landmarks_df, noface=noface, n_coordinates=n_coordinates)\n",
    "    data_processed = pad_and_preprocess_landmarks_array(filtered_landmarks_array, n_frames=n_frames)\n",
    "    processed_data_list.append(data_processed)\n",
    "\n",
    "processs_data_np = np.array(processed_data_list)\n",
    "X_test_videos2 = reshape_processed_data_to_tf(processs_data_np, noface=noface, n_frames=n_frames, n_coordinates=n_coordinates)\n"
   ]
  },
  {
   "cell_type": "code",
   "execution_count": 54,
   "id": "55791599-bf1a-4bb0-b57a-35b5048982e1",
   "metadata": {
    "execution": {
     "iopub.execute_input": "2024-03-27T21:01:20.197491Z",
     "iopub.status.busy": "2024-03-27T21:01:20.197198Z",
     "iopub.status.idle": "2024-03-27T21:01:20.246895Z",
     "shell.execute_reply": "2024-03-27T21:01:20.245690Z",
     "shell.execute_reply.started": "2024-03-27T21:01:20.197464Z"
    },
    "tags": []
   },
   "outputs": [
    {
     "data": {
      "text/plain": [
       "TensorShape([400, 100, 134])"
      ]
     },
     "execution_count": 54,
     "metadata": {},
     "output_type": "execute_result"
    }
   ],
   "source": [
    "X_test_videos2.shape"
   ]
  },
  {
   "cell_type": "markdown",
   "id": "729b81db-48ea-4b3f-9a45-c1b0de5c2a1a",
   "metadata": {},
   "source": [
    "### Model prediction"
   ]
  },
  {
   "cell_type": "code",
   "execution_count": 55,
   "id": "8112f056-0765-40c5-8263-a7a86e9c2a6d",
   "metadata": {
    "execution": {
     "iopub.execute_input": "2024-03-27T21:01:20.250668Z",
     "iopub.status.busy": "2024-03-27T21:01:20.250332Z",
     "iopub.status.idle": "2024-03-27T21:01:20.307720Z",
     "shell.execute_reply": "2024-03-27T21:01:20.306278Z",
     "shell.execute_reply.started": "2024-03-27T21:01:20.250637Z"
    },
    "tags": []
   },
   "outputs": [],
   "source": [
    "y_test_videos = encode_labels(test_videos.sign)"
   ]
  },
  {
   "cell_type": "code",
   "execution_count": 56,
   "id": "8b3bff35-6914-4bb2-b24a-9d575868a6e2",
   "metadata": {
    "execution": {
     "iopub.execute_input": "2024-03-27T21:01:20.310068Z",
     "iopub.status.busy": "2024-03-27T21:01:20.309464Z",
     "iopub.status.idle": "2024-03-27T21:01:20.367015Z",
     "shell.execute_reply": "2024-03-27T21:01:20.365685Z",
     "shell.execute_reply.started": "2024-03-27T21:01:20.310035Z"
    },
    "tags": []
   },
   "outputs": [
    {
     "data": {
      "text/plain": [
       "1125           on\n",
       "184         white\n",
       "1226        water\n",
       "67           jump\n",
       "220           yes\n",
       "          ...    \n",
       "704           all\n",
       "126          find\n",
       "660     chocolate\n",
       "292         clean\n",
       "982            up\n",
       "Name: sign, Length: 400, dtype: object"
      ]
     },
     "execution_count": 56,
     "metadata": {},
     "output_type": "execute_result"
    }
   ],
   "source": [
    "test_videos.sign"
   ]
  },
  {
   "cell_type": "code",
   "execution_count": 57,
   "id": "2b4a0e4f-1c85-4477-a9ae-6dc0756577d3",
   "metadata": {
    "execution": {
     "iopub.execute_input": "2024-03-27T21:01:20.368939Z",
     "iopub.status.busy": "2024-03-27T21:01:20.368584Z",
     "iopub.status.idle": "2024-03-27T21:01:20.421011Z",
     "shell.execute_reply": "2024-03-27T21:01:20.419187Z",
     "shell.execute_reply.started": "2024-03-27T21:01:20.368897Z"
    },
    "tags": []
   },
   "outputs": [
    {
     "data": {
      "text/plain": [
       "(400, 250)"
      ]
     },
     "execution_count": 57,
     "metadata": {},
     "output_type": "execute_result"
    }
   ],
   "source": [
    "y_test_videos.shape"
   ]
  },
  {
   "cell_type": "code",
   "execution_count": 58,
   "id": "850bba24-5bd5-40e2-84ec-91aa014a893a",
   "metadata": {
    "execution": {
     "iopub.execute_input": "2024-03-27T21:01:20.424459Z",
     "iopub.status.busy": "2024-03-27T21:01:20.423504Z",
     "iopub.status.idle": "2024-03-27T21:01:22.339884Z",
     "shell.execute_reply": "2024-03-27T21:01:22.338537Z",
     "shell.execute_reply.started": "2024-03-27T21:01:20.424420Z"
    },
    "tags": []
   },
   "outputs": [
    {
     "name": "stdout",
     "output_type": "stream",
     "text": [
      "\u001b[34m\n",
      "Evaluating model on 400 rows...\u001b[0m\n",
      "✅ Model evaluated, accuracy: 11.2%\n"
     ]
    },
    {
     "data": {
      "text/plain": [
       "{'accuracy': 0.11249999701976776, 'loss': 5.712578773498535}"
      ]
     },
     "execution_count": 58,
     "metadata": {},
     "output_type": "execute_result"
    }
   ],
   "source": [
    "evaluate_model(model, X_test_videos, y_test_videos)"
   ]
  },
  {
   "cell_type": "code",
   "execution_count": 59,
   "id": "8a03a255-e915-4a6d-87e9-dca65dce3550",
   "metadata": {
    "execution": {
     "iopub.execute_input": "2024-03-27T21:01:22.342564Z",
     "iopub.status.busy": "2024-03-27T21:01:22.341465Z",
     "iopub.status.idle": "2024-03-27T21:01:24.181146Z",
     "shell.execute_reply": "2024-03-27T21:01:24.179596Z",
     "shell.execute_reply.started": "2024-03-27T21:01:22.342528Z"
    },
    "tags": []
   },
   "outputs": [
    {
     "name": "stdout",
     "output_type": "stream",
     "text": [
      "\u001b[34m\n",
      "Evaluating model on 400 rows...\u001b[0m\n",
      "✅ Model evaluated, accuracy: 11.2%\n"
     ]
    },
    {
     "data": {
      "text/plain": [
       "{'accuracy': 0.11249999701976776, 'loss': 5.712578773498535}"
      ]
     },
     "execution_count": 59,
     "metadata": {},
     "output_type": "execute_result"
    }
   ],
   "source": [
    "evaluate_model(model, X_test_videos2, y_test_videos)"
   ]
  },
  {
   "cell_type": "markdown",
   "id": "61b8b162-3230-47ef-a400-758a045eb111",
   "metadata": {},
   "source": [
    "### Second trial of preprocessing\n"
   ]
  },
  {
   "cell_type": "markdown",
   "id": "6b4ba684-4f00-49b7-9da2-72810fca3095",
   "metadata": {
    "tags": []
   },
   "source": [
    "#### From parquet"
   ]
  },
  {
   "cell_type": "code",
   "execution_count": 28,
   "id": "cf71d6d2-ffac-476a-b9e1-fde54944e1c6",
   "metadata": {
    "execution": {
     "iopub.execute_input": "2024-03-27T20:47:42.577645Z",
     "iopub.status.busy": "2024-03-27T20:47:42.576281Z",
     "iopub.status.idle": "2024-03-27T20:47:42.651894Z",
     "shell.execute_reply": "2024-03-27T20:47:42.650106Z",
     "shell.execute_reply.started": "2024-03-27T20:47:42.577603Z"
    },
    "tags": []
   },
   "outputs": [
    {
     "data": {
      "text/plain": [
       "'/home/bfrisque/code/benoitfrisque/signlens/raw_data/asl-signs/train_landmark_files_noface/55372/964553686.parquet'"
      ]
     },
     "execution_count": 28,
     "metadata": {},
     "output_type": "execute_result"
    }
   ],
   "source": [
    "X_test_files.loc[0]"
   ]
  },
  {
   "cell_type": "code",
   "execution_count": 29,
   "id": "eff6057c-5378-4888-b21d-8f313529a85b",
   "metadata": {
    "execution": {
     "iopub.execute_input": "2024-03-27T20:47:42.655821Z",
     "iopub.status.busy": "2024-03-27T20:47:42.654142Z",
     "iopub.status.idle": "2024-03-27T20:47:42.758995Z",
     "shell.execute_reply": "2024-03-27T20:47:42.757508Z",
     "shell.execute_reply.started": "2024-03-27T20:47:42.655776Z"
    },
    "tags": []
   },
   "outputs": [
    {
     "data": {
      "text/html": [
       "<div>\n",
       "<style scoped>\n",
       "    .dataframe tbody tr th:only-of-type {\n",
       "        vertical-align: middle;\n",
       "    }\n",
       "\n",
       "    .dataframe tbody tr th {\n",
       "        vertical-align: top;\n",
       "    }\n",
       "\n",
       "    .dataframe thead th {\n",
       "        text-align: right;\n",
       "    }\n",
       "</style>\n",
       "<table border=\"1\" class=\"dataframe\">\n",
       "  <thead>\n",
       "    <tr style=\"text-align: right;\">\n",
       "      <th></th>\n",
       "      <th>frame</th>\n",
       "      <th>row_id</th>\n",
       "      <th>type</th>\n",
       "      <th>landmark_index</th>\n",
       "      <th>x</th>\n",
       "      <th>y</th>\n",
       "      <th>z</th>\n",
       "    </tr>\n",
       "  </thead>\n",
       "  <tbody>\n",
       "    <tr>\n",
       "      <th>468</th>\n",
       "      <td>97</td>\n",
       "      <td>97-left_hand-0</td>\n",
       "      <td>left_hand</td>\n",
       "      <td>0</td>\n",
       "      <td>0.753712</td>\n",
       "      <td>0.440771</td>\n",
       "      <td>-3.072535e-07</td>\n",
       "    </tr>\n",
       "    <tr>\n",
       "      <th>469</th>\n",
       "      <td>97</td>\n",
       "      <td>97-left_hand-1</td>\n",
       "      <td>left_hand</td>\n",
       "      <td>1</td>\n",
       "      <td>0.710808</td>\n",
       "      <td>0.387376</td>\n",
       "      <td>1.541814e-02</td>\n",
       "    </tr>\n",
       "    <tr>\n",
       "      <th>470</th>\n",
       "      <td>97</td>\n",
       "      <td>97-left_hand-2</td>\n",
       "      <td>left_hand</td>\n",
       "      <td>2</td>\n",
       "      <td>0.684510</td>\n",
       "      <td>0.326742</td>\n",
       "      <td>5.668570e-03</td>\n",
       "    </tr>\n",
       "    <tr>\n",
       "      <th>471</th>\n",
       "      <td>97</td>\n",
       "      <td>97-left_hand-3</td>\n",
       "      <td>left_hand</td>\n",
       "      <td>3</td>\n",
       "      <td>0.661984</td>\n",
       "      <td>0.284918</td>\n",
       "      <td>-9.025068e-03</td>\n",
       "    </tr>\n",
       "    <tr>\n",
       "      <th>472</th>\n",
       "      <td>97</td>\n",
       "      <td>97-left_hand-4</td>\n",
       "      <td>left_hand</td>\n",
       "      <td>4</td>\n",
       "      <td>0.633150</td>\n",
       "      <td>0.261813</td>\n",
       "      <td>-2.736259e-02</td>\n",
       "    </tr>\n",
       "    <tr>\n",
       "      <th>...</th>\n",
       "      <td>...</td>\n",
       "      <td>...</td>\n",
       "      <td>...</td>\n",
       "      <td>...</td>\n",
       "      <td>...</td>\n",
       "      <td>...</td>\n",
       "      <td>...</td>\n",
       "    </tr>\n",
       "    <tr>\n",
       "      <th>15199</th>\n",
       "      <td>124</td>\n",
       "      <td>124-right_hand-16</td>\n",
       "      <td>right_hand</td>\n",
       "      <td>16</td>\n",
       "      <td>NaN</td>\n",
       "      <td>NaN</td>\n",
       "      <td>NaN</td>\n",
       "    </tr>\n",
       "    <tr>\n",
       "      <th>15200</th>\n",
       "      <td>124</td>\n",
       "      <td>124-right_hand-17</td>\n",
       "      <td>right_hand</td>\n",
       "      <td>17</td>\n",
       "      <td>NaN</td>\n",
       "      <td>NaN</td>\n",
       "      <td>NaN</td>\n",
       "    </tr>\n",
       "    <tr>\n",
       "      <th>15201</th>\n",
       "      <td>124</td>\n",
       "      <td>124-right_hand-18</td>\n",
       "      <td>right_hand</td>\n",
       "      <td>18</td>\n",
       "      <td>NaN</td>\n",
       "      <td>NaN</td>\n",
       "      <td>NaN</td>\n",
       "    </tr>\n",
       "    <tr>\n",
       "      <th>15202</th>\n",
       "      <td>124</td>\n",
       "      <td>124-right_hand-19</td>\n",
       "      <td>right_hand</td>\n",
       "      <td>19</td>\n",
       "      <td>NaN</td>\n",
       "      <td>NaN</td>\n",
       "      <td>NaN</td>\n",
       "    </tr>\n",
       "    <tr>\n",
       "      <th>15203</th>\n",
       "      <td>124</td>\n",
       "      <td>124-right_hand-20</td>\n",
       "      <td>right_hand</td>\n",
       "      <td>20</td>\n",
       "      <td>NaN</td>\n",
       "      <td>NaN</td>\n",
       "      <td>NaN</td>\n",
       "    </tr>\n",
       "  </tbody>\n",
       "</table>\n",
       "<p>2100 rows × 7 columns</p>\n",
       "</div>"
      ],
      "text/plain": [
       "       frame             row_id        type  landmark_index         x  \\\n",
       "468       97     97-left_hand-0   left_hand               0  0.753712   \n",
       "469       97     97-left_hand-1   left_hand               1  0.710808   \n",
       "470       97     97-left_hand-2   left_hand               2  0.684510   \n",
       "471       97     97-left_hand-3   left_hand               3  0.661984   \n",
       "472       97     97-left_hand-4   left_hand               4  0.633150   \n",
       "...      ...                ...         ...             ...       ...   \n",
       "15199    124  124-right_hand-16  right_hand              16       NaN   \n",
       "15200    124  124-right_hand-17  right_hand              17       NaN   \n",
       "15201    124  124-right_hand-18  right_hand              18       NaN   \n",
       "15202    124  124-right_hand-19  right_hand              19       NaN   \n",
       "15203    124  124-right_hand-20  right_hand              20       NaN   \n",
       "\n",
       "              y             z  \n",
       "468    0.440771 -3.072535e-07  \n",
       "469    0.387376  1.541814e-02  \n",
       "470    0.326742  5.668570e-03  \n",
       "471    0.284918 -9.025068e-03  \n",
       "472    0.261813 -2.736259e-02  \n",
       "...         ...           ...  \n",
       "15199       NaN           NaN  \n",
       "15200       NaN           NaN  \n",
       "15201       NaN           NaN  \n",
       "15202       NaN           NaN  \n",
       "15203       NaN           NaN  \n",
       "\n",
       "[2100 rows x 7 columns]"
      ]
     },
     "execution_count": 29,
     "metadata": {},
     "output_type": "execute_result"
    }
   ],
   "source": [
    "pq_df = pd.read_parquet(X_test_files.loc[0])\n",
    "pq_df"
   ]
  },
  {
   "cell_type": "code",
   "execution_count": 30,
   "id": "cb74999a-8ce7-4bdf-b4aa-efd9b482dd55",
   "metadata": {
    "execution": {
     "iopub.execute_input": "2024-03-27T20:47:42.761610Z",
     "iopub.status.busy": "2024-03-27T20:47:42.760783Z",
     "iopub.status.idle": "2024-03-27T20:47:42.839290Z",
     "shell.execute_reply": "2024-03-27T20:47:42.837697Z",
     "shell.execute_reply.started": "2024-03-27T20:47:42.761571Z"
    }
   },
   "outputs": [
    {
     "data": {
      "text/html": [
       "<div>\n",
       "<style scoped>\n",
       "    .dataframe tbody tr th:only-of-type {\n",
       "        vertical-align: middle;\n",
       "    }\n",
       "\n",
       "    .dataframe tbody tr th {\n",
       "        vertical-align: top;\n",
       "    }\n",
       "\n",
       "    .dataframe thead th {\n",
       "        text-align: right;\n",
       "    }\n",
       "</style>\n",
       "<table border=\"1\" class=\"dataframe\">\n",
       "  <thead>\n",
       "    <tr style=\"text-align: right;\">\n",
       "      <th></th>\n",
       "      <th>frame</th>\n",
       "      <th>row_id</th>\n",
       "      <th>type</th>\n",
       "      <th>landmark_index</th>\n",
       "      <th>x</th>\n",
       "      <th>y</th>\n",
       "      <th>z</th>\n",
       "    </tr>\n",
       "  </thead>\n",
       "  <tbody>\n",
       "    <tr>\n",
       "      <th>489</th>\n",
       "      <td>97</td>\n",
       "      <td>97-pose-0</td>\n",
       "      <td>pose</td>\n",
       "      <td>0</td>\n",
       "      <td>0.486289</td>\n",
       "      <td>0.378977</td>\n",
       "      <td>-1.222383</td>\n",
       "    </tr>\n",
       "    <tr>\n",
       "      <th>490</th>\n",
       "      <td>97</td>\n",
       "      <td>97-pose-1</td>\n",
       "      <td>pose</td>\n",
       "      <td>1</td>\n",
       "      <td>0.515095</td>\n",
       "      <td>0.311778</td>\n",
       "      <td>-1.133345</td>\n",
       "    </tr>\n",
       "    <tr>\n",
       "      <th>491</th>\n",
       "      <td>97</td>\n",
       "      <td>97-pose-2</td>\n",
       "      <td>pose</td>\n",
       "      <td>2</td>\n",
       "      <td>0.539201</td>\n",
       "      <td>0.312966</td>\n",
       "      <td>-1.132728</td>\n",
       "    </tr>\n",
       "    <tr>\n",
       "      <th>492</th>\n",
       "      <td>97</td>\n",
       "      <td>97-pose-3</td>\n",
       "      <td>pose</td>\n",
       "      <td>3</td>\n",
       "      <td>0.562195</td>\n",
       "      <td>0.314196</td>\n",
       "      <td>-1.132530</td>\n",
       "    </tr>\n",
       "    <tr>\n",
       "      <th>493</th>\n",
       "      <td>97</td>\n",
       "      <td>97-pose-4</td>\n",
       "      <td>pose</td>\n",
       "      <td>4</td>\n",
       "      <td>0.438257</td>\n",
       "      <td>0.307604</td>\n",
       "      <td>-1.181726</td>\n",
       "    </tr>\n",
       "    <tr>\n",
       "      <th>...</th>\n",
       "      <td>...</td>\n",
       "      <td>...</td>\n",
       "      <td>...</td>\n",
       "      <td>...</td>\n",
       "      <td>...</td>\n",
       "      <td>...</td>\n",
       "      <td>...</td>\n",
       "    </tr>\n",
       "    <tr>\n",
       "      <th>15178</th>\n",
       "      <td>124</td>\n",
       "      <td>124-pose-28</td>\n",
       "      <td>pose</td>\n",
       "      <td>28</td>\n",
       "      <td>0.274367</td>\n",
       "      <td>2.496219</td>\n",
       "      <td>1.476208</td>\n",
       "    </tr>\n",
       "    <tr>\n",
       "      <th>15179</th>\n",
       "      <td>124</td>\n",
       "      <td>124-pose-29</td>\n",
       "      <td>pose</td>\n",
       "      <td>29</td>\n",
       "      <td>0.690214</td>\n",
       "      <td>2.568291</td>\n",
       "      <td>1.342841</td>\n",
       "    </tr>\n",
       "    <tr>\n",
       "      <th>15180</th>\n",
       "      <td>124</td>\n",
       "      <td>124-pose-30</td>\n",
       "      <td>pose</td>\n",
       "      <td>30</td>\n",
       "      <td>0.257715</td>\n",
       "      <td>2.570974</td>\n",
       "      <td>1.555213</td>\n",
       "    </tr>\n",
       "    <tr>\n",
       "      <th>15181</th>\n",
       "      <td>124</td>\n",
       "      <td>124-pose-31</td>\n",
       "      <td>pose</td>\n",
       "      <td>31</td>\n",
       "      <td>0.662896</td>\n",
       "      <td>2.661493</td>\n",
       "      <td>0.384620</td>\n",
       "    </tr>\n",
       "    <tr>\n",
       "      <th>15182</th>\n",
       "      <td>124</td>\n",
       "      <td>124-pose-32</td>\n",
       "      <td>pose</td>\n",
       "      <td>32</td>\n",
       "      <td>0.385328</td>\n",
       "      <td>2.658655</td>\n",
       "      <td>0.532984</td>\n",
       "    </tr>\n",
       "  </tbody>\n",
       "</table>\n",
       "<p>924 rows × 7 columns</p>\n",
       "</div>"
      ],
      "text/plain": [
       "       frame       row_id  type  landmark_index         x         y         z\n",
       "489       97    97-pose-0  pose               0  0.486289  0.378977 -1.222383\n",
       "490       97    97-pose-1  pose               1  0.515095  0.311778 -1.133345\n",
       "491       97    97-pose-2  pose               2  0.539201  0.312966 -1.132728\n",
       "492       97    97-pose-3  pose               3  0.562195  0.314196 -1.132530\n",
       "493       97    97-pose-4  pose               4  0.438257  0.307604 -1.181726\n",
       "...      ...          ...   ...             ...       ...       ...       ...\n",
       "15178    124  124-pose-28  pose              28  0.274367  2.496219  1.476208\n",
       "15179    124  124-pose-29  pose              29  0.690214  2.568291  1.342841\n",
       "15180    124  124-pose-30  pose              30  0.257715  2.570974  1.555213\n",
       "15181    124  124-pose-31  pose              31  0.662896  2.661493  0.384620\n",
       "15182    124  124-pose-32  pose              32  0.385328  2.658655  0.532984\n",
       "\n",
       "[924 rows x 7 columns]"
      ]
     },
     "execution_count": 30,
     "metadata": {},
     "output_type": "execute_result"
    }
   ],
   "source": [
    "pq_df[pq_df.type=='pose']"
   ]
  },
  {
   "cell_type": "code",
   "execution_count": 31,
   "id": "c83dbd35-c3ee-4489-a1ec-1c71be6f9ca1",
   "metadata": {
    "execution": {
     "iopub.execute_input": "2024-03-27T20:47:42.841278Z",
     "iopub.status.busy": "2024-03-27T20:47:42.840890Z",
     "iopub.status.idle": "2024-03-27T20:47:42.926480Z",
     "shell.execute_reply": "2024-03-27T20:47:42.925055Z",
     "shell.execute_reply.started": "2024-03-27T20:47:42.841244Z"
    }
   },
   "outputs": [
    {
     "data": {
      "text/html": [
       "<div>\n",
       "<style scoped>\n",
       "    .dataframe tbody tr th:only-of-type {\n",
       "        vertical-align: middle;\n",
       "    }\n",
       "\n",
       "    .dataframe tbody tr th {\n",
       "        vertical-align: top;\n",
       "    }\n",
       "\n",
       "    .dataframe thead th {\n",
       "        text-align: right;\n",
       "    }\n",
       "</style>\n",
       "<table border=\"1\" class=\"dataframe\">\n",
       "  <thead>\n",
       "    <tr style=\"text-align: right;\">\n",
       "      <th></th>\n",
       "      <th>frame</th>\n",
       "      <th>landmark_index</th>\n",
       "      <th>x</th>\n",
       "      <th>y</th>\n",
       "      <th>z</th>\n",
       "    </tr>\n",
       "  </thead>\n",
       "  <tbody>\n",
       "    <tr>\n",
       "      <th>count</th>\n",
       "      <td>2100.000000</td>\n",
       "      <td>2100.000000</td>\n",
       "      <td>1449.000000</td>\n",
       "      <td>1449.000000</td>\n",
       "      <td>1449.000000</td>\n",
       "    </tr>\n",
       "    <tr>\n",
       "      <th>mean</th>\n",
       "      <td>110.500000</td>\n",
       "      <td>12.640000</td>\n",
       "      <td>0.520995</td>\n",
       "      <td>0.810090</td>\n",
       "      <td>-0.323313</td>\n",
       "    </tr>\n",
       "    <tr>\n",
       "      <th>std</th>\n",
       "      <td>8.079671</td>\n",
       "      <td>8.326469</td>\n",
       "      <td>0.242960</td>\n",
       "      <td>0.778027</td>\n",
       "      <td>0.668098</td>\n",
       "    </tr>\n",
       "    <tr>\n",
       "      <th>min</th>\n",
       "      <td>97.000000</td>\n",
       "      <td>0.000000</td>\n",
       "      <td>-0.125702</td>\n",
       "      <td>0.097004</td>\n",
       "      <td>-1.879110</td>\n",
       "    </tr>\n",
       "    <tr>\n",
       "      <th>25%</th>\n",
       "      <td>103.750000</td>\n",
       "      <td>6.000000</td>\n",
       "      <td>0.406232</td>\n",
       "      <td>0.306133</td>\n",
       "      <td>-0.963419</td>\n",
       "    </tr>\n",
       "    <tr>\n",
       "      <th>50%</th>\n",
       "      <td>110.500000</td>\n",
       "      <td>12.000000</td>\n",
       "      <td>0.615779</td>\n",
       "      <td>0.369245</td>\n",
       "      <td>-0.089416</td>\n",
       "    </tr>\n",
       "    <tr>\n",
       "      <th>75%</th>\n",
       "      <td>117.250000</td>\n",
       "      <td>18.000000</td>\n",
       "      <td>0.685205</td>\n",
       "      <td>1.357148</td>\n",
       "      <td>-0.003270</td>\n",
       "    </tr>\n",
       "    <tr>\n",
       "      <th>max</th>\n",
       "      <td>124.000000</td>\n",
       "      <td>32.000000</td>\n",
       "      <td>0.980260</td>\n",
       "      <td>2.663223</td>\n",
       "      <td>1.594750</td>\n",
       "    </tr>\n",
       "  </tbody>\n",
       "</table>\n",
       "</div>"
      ],
      "text/plain": [
       "             frame  landmark_index            x            y            z\n",
       "count  2100.000000     2100.000000  1449.000000  1449.000000  1449.000000\n",
       "mean    110.500000       12.640000     0.520995     0.810090    -0.323313\n",
       "std       8.079671        8.326469     0.242960     0.778027     0.668098\n",
       "min      97.000000        0.000000    -0.125702     0.097004    -1.879110\n",
       "25%     103.750000        6.000000     0.406232     0.306133    -0.963419\n",
       "50%     110.500000       12.000000     0.615779     0.369245    -0.089416\n",
       "75%     117.250000       18.000000     0.685205     1.357148    -0.003270\n",
       "max     124.000000       32.000000     0.980260     2.663223     1.594750"
      ]
     },
     "execution_count": 31,
     "metadata": {},
     "output_type": "execute_result"
    }
   ],
   "source": [
    "pq_df.describe()"
   ]
  },
  {
   "cell_type": "code",
   "execution_count": 32,
   "id": "3af37e72-1e45-4d8e-95c1-23289c371553",
   "metadata": {
    "execution": {
     "iopub.execute_input": "2024-03-27T20:47:42.928955Z",
     "iopub.status.busy": "2024-03-27T20:47:42.928373Z",
     "iopub.status.idle": "2024-03-27T20:47:43.051567Z",
     "shell.execute_reply": "2024-03-27T20:47:43.048393Z",
     "shell.execute_reply.started": "2024-03-27T20:47:42.928897Z"
    }
   },
   "outputs": [
    {
     "name": "stderr",
     "output_type": "stream",
     "text": [
      "/tmp/ipykernel_32672/1063850012.py:13: SettingWithCopyWarning: \n",
      "A value is trying to be set on a copy of a slice from a DataFrame.\n",
      "Try using .loc[row_indexer,col_indexer] = value instead\n",
      "\n",
      "See the caveats in the documentation: https://pandas.pydata.org/pandas-docs/stable/user_guide/indexing.html#returning-a-view-versus-a-copy\n",
      "  landmarks_df['type'] = pd.Categorical(landmarks_df['type'], categories=type_order, ordered=True)\n",
      "/tmp/ipykernel_32672/1063850012.py:16: SettingWithCopyWarning: \n",
      "A value is trying to be set on a copy of a slice from a DataFrame\n",
      "\n",
      "See the caveats in the documentation: https://pandas.pydata.org/pandas-docs/stable/user_guide/indexing.html#returning-a-view-versus-a-copy\n",
      "  landmarks_df.sort_values(by=['frame', 'type', 'landmark_index'], inplace=True)\n"
     ]
    },
    {
     "data": {
      "text/html": [
       "<div>\n",
       "<style scoped>\n",
       "    .dataframe tbody tr th:only-of-type {\n",
       "        vertical-align: middle;\n",
       "    }\n",
       "\n",
       "    .dataframe tbody tr th {\n",
       "        vertical-align: top;\n",
       "    }\n",
       "\n",
       "    .dataframe thead th {\n",
       "        text-align: right;\n",
       "    }\n",
       "</style>\n",
       "<table border=\"1\" class=\"dataframe\">\n",
       "  <thead>\n",
       "    <tr style=\"text-align: right;\">\n",
       "      <th></th>\n",
       "      <th>frame</th>\n",
       "      <th>type</th>\n",
       "      <th>landmark_index</th>\n",
       "      <th>x</th>\n",
       "      <th>y</th>\n",
       "      <th>z</th>\n",
       "    </tr>\n",
       "  </thead>\n",
       "  <tbody>\n",
       "    <tr>\n",
       "      <th>489</th>\n",
       "      <td>97</td>\n",
       "      <td>pose</td>\n",
       "      <td>0</td>\n",
       "      <td>0.486289</td>\n",
       "      <td>0.378977</td>\n",
       "      <td>-1.222383</td>\n",
       "    </tr>\n",
       "    <tr>\n",
       "      <th>490</th>\n",
       "      <td>97</td>\n",
       "      <td>pose</td>\n",
       "      <td>1</td>\n",
       "      <td>0.515095</td>\n",
       "      <td>0.311778</td>\n",
       "      <td>-1.133345</td>\n",
       "    </tr>\n",
       "    <tr>\n",
       "      <th>491</th>\n",
       "      <td>97</td>\n",
       "      <td>pose</td>\n",
       "      <td>2</td>\n",
       "      <td>0.539201</td>\n",
       "      <td>0.312966</td>\n",
       "      <td>-1.132728</td>\n",
       "    </tr>\n",
       "    <tr>\n",
       "      <th>492</th>\n",
       "      <td>97</td>\n",
       "      <td>pose</td>\n",
       "      <td>3</td>\n",
       "      <td>0.562195</td>\n",
       "      <td>0.314196</td>\n",
       "      <td>-1.132530</td>\n",
       "    </tr>\n",
       "    <tr>\n",
       "      <th>493</th>\n",
       "      <td>97</td>\n",
       "      <td>pose</td>\n",
       "      <td>4</td>\n",
       "      <td>0.438257</td>\n",
       "      <td>0.307604</td>\n",
       "      <td>-1.181726</td>\n",
       "    </tr>\n",
       "    <tr>\n",
       "      <th>...</th>\n",
       "      <td>...</td>\n",
       "      <td>...</td>\n",
       "      <td>...</td>\n",
       "      <td>...</td>\n",
       "      <td>...</td>\n",
       "      <td>...</td>\n",
       "    </tr>\n",
       "    <tr>\n",
       "      <th>15199</th>\n",
       "      <td>124</td>\n",
       "      <td>right_hand</td>\n",
       "      <td>16</td>\n",
       "      <td>NaN</td>\n",
       "      <td>NaN</td>\n",
       "      <td>NaN</td>\n",
       "    </tr>\n",
       "    <tr>\n",
       "      <th>15200</th>\n",
       "      <td>124</td>\n",
       "      <td>right_hand</td>\n",
       "      <td>17</td>\n",
       "      <td>NaN</td>\n",
       "      <td>NaN</td>\n",
       "      <td>NaN</td>\n",
       "    </tr>\n",
       "    <tr>\n",
       "      <th>15201</th>\n",
       "      <td>124</td>\n",
       "      <td>right_hand</td>\n",
       "      <td>18</td>\n",
       "      <td>NaN</td>\n",
       "      <td>NaN</td>\n",
       "      <td>NaN</td>\n",
       "    </tr>\n",
       "    <tr>\n",
       "      <th>15202</th>\n",
       "      <td>124</td>\n",
       "      <td>right_hand</td>\n",
       "      <td>19</td>\n",
       "      <td>NaN</td>\n",
       "      <td>NaN</td>\n",
       "      <td>NaN</td>\n",
       "    </tr>\n",
       "    <tr>\n",
       "      <th>15203</th>\n",
       "      <td>124</td>\n",
       "      <td>right_hand</td>\n",
       "      <td>20</td>\n",
       "      <td>NaN</td>\n",
       "      <td>NaN</td>\n",
       "      <td>NaN</td>\n",
       "    </tr>\n",
       "  </tbody>\n",
       "</table>\n",
       "<p>1876 rows × 6 columns</p>\n",
       "</div>"
      ],
      "text/plain": [
       "       frame        type  landmark_index         x         y         z\n",
       "489       97        pose               0  0.486289  0.378977 -1.222383\n",
       "490       97        pose               1  0.515095  0.311778 -1.133345\n",
       "491       97        pose               2  0.539201  0.312966 -1.132728\n",
       "492       97        pose               3  0.562195  0.314196 -1.132530\n",
       "493       97        pose               4  0.438257  0.307604 -1.181726\n",
       "...      ...         ...             ...       ...       ...       ...\n",
       "15199    124  right_hand              16       NaN       NaN       NaN\n",
       "15200    124  right_hand              17       NaN       NaN       NaN\n",
       "15201    124  right_hand              18       NaN       NaN       NaN\n",
       "15202    124  right_hand              19       NaN       NaN       NaN\n",
       "15203    124  right_hand              20       NaN       NaN       NaN\n",
       "\n",
       "[1876 rows x 6 columns]"
      ]
     },
     "execution_count": 32,
     "metadata": {},
     "output_type": "execute_result"
    }
   ],
   "source": [
    "landmarks_df = pq_df\n",
    "\n",
    "noface = True\n",
    "n_coordinates = 2\n",
    "\n",
    "# Keep only the defined columns\n",
    "landmarks_df = landmarks_df[['frame', 'type','landmark_index', 'x', 'y', 'z']]\n",
    "\n",
    "# Define the order of the 'type' column\n",
    "type_order = ['face', 'pose', 'left_hand', 'right_hand']\n",
    "\n",
    "# Convert the 'type' column to a categorical type with the specified order\n",
    "landmarks_df['type'] = pd.Categorical(landmarks_df['type'], categories=type_order, ordered=True)\n",
    "\n",
    "# Sort the DataFrame by 'frame', 'type' and 'landmark_index', to ensure the correct order of landmarks\n",
    "landmarks_df.sort_values(by=['frame', 'type', 'landmark_index'], inplace=True)\n",
    "\n",
    "n_landmarks_per_frame = N_LANDMARKS_ALL\n",
    "\n",
    "landmark_types_to_remove = []\n",
    "\n",
    "if noface:\n",
    "    # Exclude rows where 'type' is 'face' and some portion of 'pose'\n",
    "    landmark_types_to_remove.append('face')\n",
    "\n",
    "    # Calculate the number of rows per frame after removing 'face' landmarks\n",
    "    n_landmarks_per_frame -= N_LANDMARKS_FACE\n",
    "\n",
    "if N_LANDMARKS_POSE_TO_TAKE_OFF > 0:\n",
    "    landmark_types_to_remove.append('pose')\n",
    "\n",
    "    # Calculate the number of rows per frame after removing 'pose' landmarks\n",
    "    n_landmarks_per_frame -= N_LANDMARKS_POSE_TO_TAKE_OFF\n",
    "\n",
    "for landmark_type in landmark_types_to_remove:\n",
    "    if landmark_type == 'pose' and N_LANDMARKS_POSE_TO_TAKE_OFF > 0:\n",
    "        landmarks_df = landmarks_df[~((landmarks_df['type'] == 'pose') &\n",
    "                                      (landmarks_df['landmark_index'].\\\n",
    "                                          between(N_LANDMARKS_MIN_POSE_TO_TAKE_OFF, N_LANDMARKS_MAX_POSE_TO_TAKE_OFF)))\n",
    "                                    ]\n",
    "    else:\n",
    "        landmarks_df = landmarks_df[landmarks_df['type'] != landmark_type]\n",
    "\n",
    "# If the model uses 2D data, drop the 'z' dimension\n",
    "if n_coordinates == 2:\n",
    "    data_columns = ['x', 'y']\n",
    "else:\n",
    "    # If the model uses 3D data, keep the 'z' dimension\n",
    "    data_columns = ['x', 'y', 'z']\n",
    "\n",
    "pq_df_filtered = landmarks_df\n",
    "pq_df_filtered"
   ]
  },
  {
   "cell_type": "code",
   "execution_count": 33,
   "id": "fb3c06b3-3091-47c3-a728-b7e9f29367b2",
   "metadata": {
    "execution": {
     "iopub.execute_input": "2024-03-27T20:47:43.055489Z",
     "iopub.status.busy": "2024-03-27T20:47:43.054203Z",
     "iopub.status.idle": "2024-03-27T20:47:43.143670Z",
     "shell.execute_reply": "2024-03-27T20:47:43.141504Z",
     "shell.execute_reply.started": "2024-03-27T20:47:43.055414Z"
    },
    "tags": []
   },
   "outputs": [
    {
     "name": "stderr",
     "output_type": "stream",
     "text": [
      "/home/bfrisque/code/benoitfrisque/signlens/signlens/preprocessing/preprocess.py:210: SettingWithCopyWarning: \n",
      "A value is trying to be set on a copy of a slice from a DataFrame.\n",
      "Try using .loc[row_indexer,col_indexer] = value instead\n",
      "\n",
      "See the caveats in the documentation: https://pandas.pydata.org/pandas-docs/stable/user_guide/indexing.html#returning-a-view-versus-a-copy\n",
      "  landmarks_df['type'] = pd.Categorical(landmarks_df['type'], categories=type_order, ordered=True)\n",
      "/home/bfrisque/code/benoitfrisque/signlens/signlens/preprocessing/preprocess.py:213: SettingWithCopyWarning: \n",
      "A value is trying to be set on a copy of a slice from a DataFrame\n",
      "\n",
      "See the caveats in the documentation: https://pandas.pydata.org/pandas-docs/stable/user_guide/indexing.html#returning-a-view-versus-a-copy\n",
      "  landmarks_df.sort_values(by=['frame', 'type', 'landmark_index'], inplace=True)\n"
     ]
    },
    {
     "data": {
      "text/plain": [
       "(28, 67, 2)"
      ]
     },
     "execution_count": 33,
     "metadata": {},
     "output_type": "execute_result"
    }
   ],
   "source": [
    "landmarks_array = filter_relevant_landmarks_and_coordinates(pq_df)\n",
    "landmarks_array.shape"
   ]
  },
  {
   "cell_type": "markdown",
   "id": "f7ca3d3b-29f4-4534-bcbe-fddcf7629b7a",
   "metadata": {},
   "source": [
    "### From json"
   ]
  },
  {
   "cell_type": "code",
   "execution_count": 34,
   "id": "2c450a92-c492-4e93-bcc1-0f4bb9b85e34",
   "metadata": {
    "execution": {
     "iopub.execute_input": "2024-03-27T20:47:43.149181Z",
     "iopub.status.busy": "2024-03-27T20:47:43.147937Z",
     "iopub.status.idle": "2024-03-27T20:47:43.229535Z",
     "shell.execute_reply": "2024-03-27T20:47:43.227324Z",
     "shell.execute_reply.started": "2024-03-27T20:47:43.149109Z"
    },
    "tags": []
   },
   "outputs": [],
   "source": [
    "from signlens.preprocessing.preprocess import convert_landmarks_json_data_to_df"
   ]
  },
  {
   "cell_type": "code",
   "execution_count": 35,
   "id": "58792228-0b10-40c0-83a8-b4861658b4ce",
   "metadata": {
    "execution": {
     "iopub.execute_input": "2024-03-27T20:47:43.234439Z",
     "iopub.status.busy": "2024-03-27T20:47:43.233356Z",
     "iopub.status.idle": "2024-03-27T20:47:43.378171Z",
     "shell.execute_reply": "2024-03-27T20:47:43.376125Z",
     "shell.execute_reply.started": "2024-03-27T20:47:43.234356Z"
    },
    "tags": []
   },
   "outputs": [
    {
     "data": {
      "text/html": [
       "<div>\n",
       "<style scoped>\n",
       "    .dataframe tbody tr th:only-of-type {\n",
       "        vertical-align: middle;\n",
       "    }\n",
       "\n",
       "    .dataframe tbody tr th {\n",
       "        vertical-align: top;\n",
       "    }\n",
       "\n",
       "    .dataframe thead th {\n",
       "        text-align: right;\n",
       "    }\n",
       "</style>\n",
       "<table border=\"1\" class=\"dataframe\">\n",
       "  <thead>\n",
       "    <tr style=\"text-align: right;\">\n",
       "      <th></th>\n",
       "      <th>frame</th>\n",
       "      <th>type</th>\n",
       "      <th>landmark_index</th>\n",
       "      <th>x</th>\n",
       "      <th>y</th>\n",
       "      <th>z</th>\n",
       "    </tr>\n",
       "  </thead>\n",
       "  <tbody>\n",
       "    <tr>\n",
       "      <th>0</th>\n",
       "      <td>0</td>\n",
       "      <td>pose</td>\n",
       "      <td>0</td>\n",
       "      <td>0.500277</td>\n",
       "      <td>0.241630</td>\n",
       "      <td>-0.819381</td>\n",
       "    </tr>\n",
       "    <tr>\n",
       "      <th>1</th>\n",
       "      <td>0</td>\n",
       "      <td>pose</td>\n",
       "      <td>1</td>\n",
       "      <td>0.523893</td>\n",
       "      <td>0.202014</td>\n",
       "      <td>-0.776747</td>\n",
       "    </tr>\n",
       "    <tr>\n",
       "      <th>2</th>\n",
       "      <td>0</td>\n",
       "      <td>pose</td>\n",
       "      <td>2</td>\n",
       "      <td>0.536773</td>\n",
       "      <td>0.200921</td>\n",
       "      <td>-0.776917</td>\n",
       "    </tr>\n",
       "    <tr>\n",
       "      <th>3</th>\n",
       "      <td>0</td>\n",
       "      <td>pose</td>\n",
       "      <td>3</td>\n",
       "      <td>0.550744</td>\n",
       "      <td>0.200229</td>\n",
       "      <td>-0.776974</td>\n",
       "    </tr>\n",
       "    <tr>\n",
       "      <th>4</th>\n",
       "      <td>0</td>\n",
       "      <td>pose</td>\n",
       "      <td>4</td>\n",
       "      <td>0.477402</td>\n",
       "      <td>0.203587</td>\n",
       "      <td>-0.779479</td>\n",
       "    </tr>\n",
       "    <tr>\n",
       "      <th>...</th>\n",
       "      <td>...</td>\n",
       "      <td>...</td>\n",
       "      <td>...</td>\n",
       "      <td>...</td>\n",
       "      <td>...</td>\n",
       "      <td>...</td>\n",
       "    </tr>\n",
       "    <tr>\n",
       "      <th>6587</th>\n",
       "      <td>87</td>\n",
       "      <td>right_hand</td>\n",
       "      <td>16</td>\n",
       "      <td>NaN</td>\n",
       "      <td>NaN</td>\n",
       "      <td>NaN</td>\n",
       "    </tr>\n",
       "    <tr>\n",
       "      <th>6588</th>\n",
       "      <td>87</td>\n",
       "      <td>right_hand</td>\n",
       "      <td>17</td>\n",
       "      <td>NaN</td>\n",
       "      <td>NaN</td>\n",
       "      <td>NaN</td>\n",
       "    </tr>\n",
       "    <tr>\n",
       "      <th>6589</th>\n",
       "      <td>87</td>\n",
       "      <td>right_hand</td>\n",
       "      <td>18</td>\n",
       "      <td>NaN</td>\n",
       "      <td>NaN</td>\n",
       "      <td>NaN</td>\n",
       "    </tr>\n",
       "    <tr>\n",
       "      <th>6590</th>\n",
       "      <td>87</td>\n",
       "      <td>right_hand</td>\n",
       "      <td>19</td>\n",
       "      <td>NaN</td>\n",
       "      <td>NaN</td>\n",
       "      <td>NaN</td>\n",
       "    </tr>\n",
       "    <tr>\n",
       "      <th>6591</th>\n",
       "      <td>87</td>\n",
       "      <td>right_hand</td>\n",
       "      <td>20</td>\n",
       "      <td>NaN</td>\n",
       "      <td>NaN</td>\n",
       "      <td>NaN</td>\n",
       "    </tr>\n",
       "  </tbody>\n",
       "</table>\n",
       "<p>6592 rows × 6 columns</p>\n",
       "</div>"
      ],
      "text/plain": [
       "      frame        type  landmark_index         x         y         z\n",
       "0         0        pose               0  0.500277  0.241630 -0.819381\n",
       "1         0        pose               1  0.523893  0.202014 -0.776747\n",
       "2         0        pose               2  0.536773  0.200921 -0.776917\n",
       "3         0        pose               3  0.550744  0.200229 -0.776974\n",
       "4         0        pose               4  0.477402  0.203587 -0.779479\n",
       "...     ...         ...             ...       ...       ...       ...\n",
       "6587     87  right_hand              16       NaN       NaN       NaN\n",
       "6588     87  right_hand              17       NaN       NaN       NaN\n",
       "6589     87  right_hand              18       NaN       NaN       NaN\n",
       "6590     87  right_hand              19       NaN       NaN       NaN\n",
       "6591     87  right_hand              20       NaN       NaN       NaN\n",
       "\n",
       "[6592 rows x 6 columns]"
      ]
     },
     "execution_count": 35,
     "metadata": {},
     "output_type": "execute_result"
    }
   ],
   "source": [
    "json_df = convert_landmarks_json_data_to_df(json_data)\n",
    "json_df"
   ]
  },
  {
   "cell_type": "code",
   "execution_count": 36,
   "id": "612bd989-295a-4e91-9a64-a89ae4008414",
   "metadata": {
    "execution": {
     "iopub.execute_input": "2024-03-27T20:47:43.382889Z",
     "iopub.status.busy": "2024-03-27T20:47:43.381061Z",
     "iopub.status.idle": "2024-03-27T20:47:43.502041Z",
     "shell.execute_reply": "2024-03-27T20:47:43.499632Z",
     "shell.execute_reply.started": "2024-03-27T20:47:43.382814Z"
    }
   },
   "outputs": [
    {
     "data": {
      "text/html": [
       "<div>\n",
       "<style scoped>\n",
       "    .dataframe tbody tr th:only-of-type {\n",
       "        vertical-align: middle;\n",
       "    }\n",
       "\n",
       "    .dataframe tbody tr th {\n",
       "        vertical-align: top;\n",
       "    }\n",
       "\n",
       "    .dataframe thead th {\n",
       "        text-align: right;\n",
       "    }\n",
       "</style>\n",
       "<table border=\"1\" class=\"dataframe\">\n",
       "  <thead>\n",
       "    <tr style=\"text-align: right;\">\n",
       "      <th></th>\n",
       "      <th>frame</th>\n",
       "      <th>landmark_index</th>\n",
       "      <th>x</th>\n",
       "      <th>y</th>\n",
       "      <th>z</th>\n",
       "    </tr>\n",
       "  </thead>\n",
       "  <tbody>\n",
       "    <tr>\n",
       "      <th>count</th>\n",
       "      <td>6592.000000</td>\n",
       "      <td>6592.000000</td>\n",
       "      <td>4257.000000</td>\n",
       "      <td>4257.000000</td>\n",
       "      <td>4257.000000</td>\n",
       "    </tr>\n",
       "    <tr>\n",
       "      <th>mean</th>\n",
       "      <td>43.447209</td>\n",
       "      <td>12.620752</td>\n",
       "      <td>0.496357</td>\n",
       "      <td>0.754882</td>\n",
       "      <td>-0.313627</td>\n",
       "    </tr>\n",
       "    <tr>\n",
       "      <th>std</th>\n",
       "      <td>25.373836</td>\n",
       "      <td>8.311416</td>\n",
       "      <td>0.095192</td>\n",
       "      <td>0.633905</td>\n",
       "      <td>0.551877</td>\n",
       "    </tr>\n",
       "    <tr>\n",
       "      <th>min</th>\n",
       "      <td>0.000000</td>\n",
       "      <td>0.000000</td>\n",
       "      <td>0.277233</td>\n",
       "      <td>0.073954</td>\n",
       "      <td>-1.978260</td>\n",
       "    </tr>\n",
       "    <tr>\n",
       "      <th>25%</th>\n",
       "      <td>21.000000</td>\n",
       "      <td>6.000000</td>\n",
       "      <td>0.427348</td>\n",
       "      <td>0.258638</td>\n",
       "      <td>-0.637832</td>\n",
       "    </tr>\n",
       "    <tr>\n",
       "      <th>50%</th>\n",
       "      <td>43.000000</td>\n",
       "      <td>12.000000</td>\n",
       "      <td>0.473865</td>\n",
       "      <td>0.456491</td>\n",
       "      <td>-0.062060</td>\n",
       "    </tr>\n",
       "    <tr>\n",
       "      <th>75%</th>\n",
       "      <td>65.000000</td>\n",
       "      <td>18.000000</td>\n",
       "      <td>0.554626</td>\n",
       "      <td>1.199271</td>\n",
       "      <td>-0.006266</td>\n",
       "    </tr>\n",
       "    <tr>\n",
       "      <th>max</th>\n",
       "      <td>87.000000</td>\n",
       "      <td>32.000000</td>\n",
       "      <td>0.720620</td>\n",
       "      <td>2.234679</td>\n",
       "      <td>0.978589</td>\n",
       "    </tr>\n",
       "  </tbody>\n",
       "</table>\n",
       "</div>"
      ],
      "text/plain": [
       "             frame  landmark_index            x            y            z\n",
       "count  6592.000000     6592.000000  4257.000000  4257.000000  4257.000000\n",
       "mean     43.447209       12.620752     0.496357     0.754882    -0.313627\n",
       "std      25.373836        8.311416     0.095192     0.633905     0.551877\n",
       "min       0.000000        0.000000     0.277233     0.073954    -1.978260\n",
       "25%      21.000000        6.000000     0.427348     0.258638    -0.637832\n",
       "50%      43.000000       12.000000     0.473865     0.456491    -0.062060\n",
       "75%      65.000000       18.000000     0.554626     1.199271    -0.006266\n",
       "max      87.000000       32.000000     0.720620     2.234679     0.978589"
      ]
     },
     "execution_count": 36,
     "metadata": {},
     "output_type": "execute_result"
    }
   ],
   "source": [
    "json_df.describe()"
   ]
  },
  {
   "cell_type": "code",
   "execution_count": 37,
   "id": "6c9fbb70-e367-4b6d-a611-945544e6eaa1",
   "metadata": {
    "execution": {
     "iopub.execute_input": "2024-03-27T20:47:43.508228Z",
     "iopub.status.busy": "2024-03-27T20:47:43.507354Z",
     "iopub.status.idle": "2024-03-27T20:47:43.633865Z",
     "shell.execute_reply": "2024-03-27T20:47:43.631275Z",
     "shell.execute_reply.started": "2024-03-27T20:47:43.508183Z"
    },
    "tags": []
   },
   "outputs": [
    {
     "data": {
      "text/html": [
       "<div>\n",
       "<style scoped>\n",
       "    .dataframe tbody tr th:only-of-type {\n",
       "        vertical-align: middle;\n",
       "    }\n",
       "\n",
       "    .dataframe tbody tr th {\n",
       "        vertical-align: top;\n",
       "    }\n",
       "\n",
       "    .dataframe thead th {\n",
       "        text-align: right;\n",
       "    }\n",
       "</style>\n",
       "<table border=\"1\" class=\"dataframe\">\n",
       "  <thead>\n",
       "    <tr style=\"text-align: right;\">\n",
       "      <th></th>\n",
       "      <th>frame</th>\n",
       "      <th>type</th>\n",
       "      <th>landmark_index</th>\n",
       "      <th>x</th>\n",
       "      <th>y</th>\n",
       "      <th>z</th>\n",
       "    </tr>\n",
       "  </thead>\n",
       "  <tbody>\n",
       "    <tr>\n",
       "      <th>0</th>\n",
       "      <td>0</td>\n",
       "      <td>pose</td>\n",
       "      <td>0</td>\n",
       "      <td>0.500277</td>\n",
       "      <td>0.241630</td>\n",
       "      <td>-0.819381</td>\n",
       "    </tr>\n",
       "    <tr>\n",
       "      <th>1</th>\n",
       "      <td>0</td>\n",
       "      <td>pose</td>\n",
       "      <td>1</td>\n",
       "      <td>0.523893</td>\n",
       "      <td>0.202014</td>\n",
       "      <td>-0.776747</td>\n",
       "    </tr>\n",
       "    <tr>\n",
       "      <th>2</th>\n",
       "      <td>0</td>\n",
       "      <td>pose</td>\n",
       "      <td>2</td>\n",
       "      <td>0.536773</td>\n",
       "      <td>0.200921</td>\n",
       "      <td>-0.776917</td>\n",
       "    </tr>\n",
       "    <tr>\n",
       "      <th>3</th>\n",
       "      <td>0</td>\n",
       "      <td>pose</td>\n",
       "      <td>3</td>\n",
       "      <td>0.550744</td>\n",
       "      <td>0.200229</td>\n",
       "      <td>-0.776974</td>\n",
       "    </tr>\n",
       "    <tr>\n",
       "      <th>4</th>\n",
       "      <td>0</td>\n",
       "      <td>pose</td>\n",
       "      <td>4</td>\n",
       "      <td>0.477402</td>\n",
       "      <td>0.203587</td>\n",
       "      <td>-0.779479</td>\n",
       "    </tr>\n",
       "    <tr>\n",
       "      <th>...</th>\n",
       "      <td>...</td>\n",
       "      <td>...</td>\n",
       "      <td>...</td>\n",
       "      <td>...</td>\n",
       "      <td>...</td>\n",
       "      <td>...</td>\n",
       "    </tr>\n",
       "    <tr>\n",
       "      <th>6587</th>\n",
       "      <td>87</td>\n",
       "      <td>right_hand</td>\n",
       "      <td>16</td>\n",
       "      <td>NaN</td>\n",
       "      <td>NaN</td>\n",
       "      <td>NaN</td>\n",
       "    </tr>\n",
       "    <tr>\n",
       "      <th>6588</th>\n",
       "      <td>87</td>\n",
       "      <td>right_hand</td>\n",
       "      <td>17</td>\n",
       "      <td>NaN</td>\n",
       "      <td>NaN</td>\n",
       "      <td>NaN</td>\n",
       "    </tr>\n",
       "    <tr>\n",
       "      <th>6589</th>\n",
       "      <td>87</td>\n",
       "      <td>right_hand</td>\n",
       "      <td>18</td>\n",
       "      <td>NaN</td>\n",
       "      <td>NaN</td>\n",
       "      <td>NaN</td>\n",
       "    </tr>\n",
       "    <tr>\n",
       "      <th>6590</th>\n",
       "      <td>87</td>\n",
       "      <td>right_hand</td>\n",
       "      <td>19</td>\n",
       "      <td>NaN</td>\n",
       "      <td>NaN</td>\n",
       "      <td>NaN</td>\n",
       "    </tr>\n",
       "    <tr>\n",
       "      <th>6591</th>\n",
       "      <td>87</td>\n",
       "      <td>right_hand</td>\n",
       "      <td>20</td>\n",
       "      <td>NaN</td>\n",
       "      <td>NaN</td>\n",
       "      <td>NaN</td>\n",
       "    </tr>\n",
       "  </tbody>\n",
       "</table>\n",
       "<p>5896 rows × 6 columns</p>\n",
       "</div>"
      ],
      "text/plain": [
       "      frame        type  landmark_index         x         y         z\n",
       "0         0        pose               0  0.500277  0.241630 -0.819381\n",
       "1         0        pose               1  0.523893  0.202014 -0.776747\n",
       "2         0        pose               2  0.536773  0.200921 -0.776917\n",
       "3         0        pose               3  0.550744  0.200229 -0.776974\n",
       "4         0        pose               4  0.477402  0.203587 -0.779479\n",
       "...     ...         ...             ...       ...       ...       ...\n",
       "6587     87  right_hand              16       NaN       NaN       NaN\n",
       "6588     87  right_hand              17       NaN       NaN       NaN\n",
       "6589     87  right_hand              18       NaN       NaN       NaN\n",
       "6590     87  right_hand              19       NaN       NaN       NaN\n",
       "6591     87  right_hand              20       NaN       NaN       NaN\n",
       "\n",
       "[5896 rows x 6 columns]"
      ]
     },
     "execution_count": 37,
     "metadata": {},
     "output_type": "execute_result"
    }
   ],
   "source": [
    "landmarks_df = json_df\n",
    "\n",
    "noface = True\n",
    "n_coordinates = 2\n",
    "\n",
    "# Keep only the defined columns\n",
    "landmarks_df = landmarks_df[['frame', 'type','landmark_index', 'x', 'y', 'z']]\n",
    "\n",
    "# Define the order of the 'type' column\n",
    "type_order = ['face', 'pose', 'left_hand', 'right_hand']\n",
    "\n",
    "# Convert the 'type' column to a categorical type with the specified order\n",
    "landmarks_df['type'] = pd.Categorical(landmarks_df['type'], categories=type_order, ordered=True)\n",
    "\n",
    "# Sort the DataFrame by 'frame', 'type' and 'landmark_index', to ensure the correct order of landmarks\n",
    "landmarks_df.sort_values(by=['frame', 'type', 'landmark_index'], inplace=True)\n",
    "\n",
    "n_landmarks_per_frame = N_LANDMARKS_ALL\n",
    "\n",
    "landmark_types_to_remove = []\n",
    "\n",
    "if noface:\n",
    "    # Exclude rows where 'type' is 'face' and some portion of 'pose'\n",
    "    landmark_types_to_remove.append('face')\n",
    "\n",
    "    # Calculate the number of rows per frame after removing 'face' landmarks\n",
    "    n_landmarks_per_frame -= N_LANDMARKS_FACE\n",
    "\n",
    "if N_LANDMARKS_POSE_TO_TAKE_OFF > 0:\n",
    "    landmark_types_to_remove.append('pose')\n",
    "\n",
    "    # Calculate the number of rows per frame after removing 'pose' landmarks\n",
    "    n_landmarks_per_frame -= N_LANDMARKS_POSE_TO_TAKE_OFF\n",
    "\n",
    "for landmark_type in landmark_types_to_remove:\n",
    "    if landmark_type == 'pose' and N_LANDMARKS_POSE_TO_TAKE_OFF > 0:\n",
    "        landmarks_df = landmarks_df[~((landmarks_df['type'] == 'pose') &\n",
    "                                      (landmarks_df['landmark_index'].\\\n",
    "                                          between(N_LANDMARKS_MIN_POSE_TO_TAKE_OFF, N_LANDMARKS_MAX_POSE_TO_TAKE_OFF)))\n",
    "                                    ]\n",
    "    else:\n",
    "        landmarks_df = landmarks_df[landmarks_df['type'] != landmark_type]\n",
    "\n",
    "# If the model uses 2D data, drop the 'z' dimension\n",
    "if n_coordinates == 2:\n",
    "    data_columns = ['x', 'y']\n",
    "else:\n",
    "    # If the model uses 3D data, keep the 'z' dimension\n",
    "    data_columns = ['x', 'y', 'z']\n",
    "\n",
    "json_df_filtered = landmarks_df\n",
    "json_df_filtered"
   ]
  },
  {
   "cell_type": "code",
   "execution_count": 38,
   "id": "7fbcb7ae-5c07-47e5-8bf8-9257b7c77e57",
   "metadata": {
    "execution": {
     "iopub.execute_input": "2024-03-27T20:47:43.638554Z",
     "iopub.status.busy": "2024-03-27T20:47:43.636678Z",
     "iopub.status.idle": "2024-03-27T20:47:43.715360Z",
     "shell.execute_reply": "2024-03-27T20:47:43.713028Z",
     "shell.execute_reply.started": "2024-03-27T20:47:43.638478Z"
    },
    "tags": []
   },
   "outputs": [
    {
     "data": {
      "text/plain": [
       "array([[[0.5002772 , 0.24163002],\n",
       "        [0.52389276, 0.20201373],\n",
       "        [0.5367728 , 0.20092052],\n",
       "        ...,\n",
       "        [       nan,        nan],\n",
       "        [       nan,        nan],\n",
       "        [       nan,        nan]],\n",
       "\n",
       "       [[0.5002266 , 0.24465053],\n",
       "        [0.52411956, 0.20562889],\n",
       "        [0.53825974, 0.20565483],\n",
       "        ...,\n",
       "        [       nan,        nan],\n",
       "        [       nan,        nan],\n",
       "        [       nan,        nan]],\n",
       "\n",
       "       [[0.49976858, 0.24701318],\n",
       "        [0.5241101 , 0.20794415],\n",
       "        [0.53887725, 0.2082071 ],\n",
       "        ...,\n",
       "        [       nan,        nan],\n",
       "        [       nan,        nan],\n",
       "        [       nan,        nan]],\n",
       "\n",
       "       ...,\n",
       "\n",
       "       [[0.51805407, 0.24005097],\n",
       "        [0.54111457, 0.20181601],\n",
       "        [0.5575814 , 0.20250034],\n",
       "        ...,\n",
       "        [       nan,        nan],\n",
       "        [       nan,        nan],\n",
       "        [       nan,        nan]],\n",
       "\n",
       "       [[0.5178125 , 0.24015513],\n",
       "        [0.54079664, 0.20201138],\n",
       "        [0.55711925, 0.2028787 ],\n",
       "        ...,\n",
       "        [       nan,        nan],\n",
       "        [       nan,        nan],\n",
       "        [       nan,        nan]],\n",
       "\n",
       "       [[       nan,        nan],\n",
       "        [       nan,        nan],\n",
       "        [       nan,        nan],\n",
       "        ...,\n",
       "        [       nan,        nan],\n",
       "        [       nan,        nan],\n",
       "        [       nan,        nan]]], dtype=float32)"
      ]
     },
     "execution_count": 38,
     "metadata": {},
     "output_type": "execute_result"
    }
   ],
   "source": [
    "filtered_json_landmarks = filter_relevant_landmarks_and_coordinates(json_df)\n",
    "filtered_json_landmarks"
   ]
  },
  {
   "cell_type": "markdown",
   "id": "e5368d7a-6719-4d60-bfbf-3f7b63787a1d",
   "metadata": {},
   "source": [
    "### Compare filtering and sorting"
   ]
  },
  {
   "cell_type": "code",
   "execution_count": 39,
   "id": "6cf6f297-76d4-4df2-a6f1-e4456469dc38",
   "metadata": {
    "execution": {
     "iopub.execute_input": "2024-03-27T20:47:43.719142Z",
     "iopub.status.busy": "2024-03-27T20:47:43.718170Z",
     "iopub.status.idle": "2024-03-27T20:47:43.812789Z",
     "shell.execute_reply": "2024-03-27T20:47:43.810955Z",
     "shell.execute_reply.started": "2024-03-27T20:47:43.719079Z"
    },
    "tags": []
   },
   "outputs": [
    {
     "data": {
      "text/html": [
       "<div>\n",
       "<style scoped>\n",
       "    .dataframe tbody tr th:only-of-type {\n",
       "        vertical-align: middle;\n",
       "    }\n",
       "\n",
       "    .dataframe tbody tr th {\n",
       "        vertical-align: top;\n",
       "    }\n",
       "\n",
       "    .dataframe thead th {\n",
       "        text-align: right;\n",
       "    }\n",
       "</style>\n",
       "<table border=\"1\" class=\"dataframe\">\n",
       "  <thead>\n",
       "    <tr style=\"text-align: right;\">\n",
       "      <th></th>\n",
       "      <th>type</th>\n",
       "      <th>landmark_index</th>\n",
       "    </tr>\n",
       "  </thead>\n",
       "  <tbody>\n",
       "    <tr>\n",
       "      <th>0</th>\n",
       "      <td>pose</td>\n",
       "      <td>0</td>\n",
       "    </tr>\n",
       "    <tr>\n",
       "      <th>1</th>\n",
       "      <td>pose</td>\n",
       "      <td>1</td>\n",
       "    </tr>\n",
       "    <tr>\n",
       "      <th>2</th>\n",
       "      <td>pose</td>\n",
       "      <td>2</td>\n",
       "    </tr>\n",
       "    <tr>\n",
       "      <th>3</th>\n",
       "      <td>pose</td>\n",
       "      <td>3</td>\n",
       "    </tr>\n",
       "    <tr>\n",
       "      <th>4</th>\n",
       "      <td>pose</td>\n",
       "      <td>4</td>\n",
       "    </tr>\n",
       "    <tr>\n",
       "      <th>...</th>\n",
       "      <td>...</td>\n",
       "      <td>...</td>\n",
       "    </tr>\n",
       "    <tr>\n",
       "      <th>62</th>\n",
       "      <td>right_hand</td>\n",
       "      <td>16</td>\n",
       "    </tr>\n",
       "    <tr>\n",
       "      <th>63</th>\n",
       "      <td>right_hand</td>\n",
       "      <td>17</td>\n",
       "    </tr>\n",
       "    <tr>\n",
       "      <th>64</th>\n",
       "      <td>right_hand</td>\n",
       "      <td>18</td>\n",
       "    </tr>\n",
       "    <tr>\n",
       "      <th>65</th>\n",
       "      <td>right_hand</td>\n",
       "      <td>19</td>\n",
       "    </tr>\n",
       "    <tr>\n",
       "      <th>66</th>\n",
       "      <td>right_hand</td>\n",
       "      <td>20</td>\n",
       "    </tr>\n",
       "  </tbody>\n",
       "</table>\n",
       "<p>67 rows × 2 columns</p>\n",
       "</div>"
      ],
      "text/plain": [
       "          type  landmark_index\n",
       "0         pose               0\n",
       "1         pose               1\n",
       "2         pose               2\n",
       "3         pose               3\n",
       "4         pose               4\n",
       "..         ...             ...\n",
       "62  right_hand              16\n",
       "63  right_hand              17\n",
       "64  right_hand              18\n",
       "65  right_hand              19\n",
       "66  right_hand              20\n",
       "\n",
       "[67 rows x 2 columns]"
      ]
     },
     "execution_count": 39,
     "metadata": {},
     "output_type": "execute_result"
    }
   ],
   "source": [
    "order_pq = pq_df_filtered[pq_df_filtered.frame==97][['type', 'landmark_index']].reset_index(drop=True)\n",
    "order_pq"
   ]
  },
  {
   "cell_type": "code",
   "execution_count": 40,
   "id": "0fc1c50c-c8a3-498a-90d8-50d836f06b7a",
   "metadata": {
    "execution": {
     "iopub.execute_input": "2024-03-27T20:47:43.817177Z",
     "iopub.status.busy": "2024-03-27T20:47:43.815448Z",
     "iopub.status.idle": "2024-03-27T20:47:43.911059Z",
     "shell.execute_reply": "2024-03-27T20:47:43.908963Z",
     "shell.execute_reply.started": "2024-03-27T20:47:43.817107Z"
    },
    "tags": []
   },
   "outputs": [
    {
     "data": {
      "text/html": [
       "<div>\n",
       "<style scoped>\n",
       "    .dataframe tbody tr th:only-of-type {\n",
       "        vertical-align: middle;\n",
       "    }\n",
       "\n",
       "    .dataframe tbody tr th {\n",
       "        vertical-align: top;\n",
       "    }\n",
       "\n",
       "    .dataframe thead th {\n",
       "        text-align: right;\n",
       "    }\n",
       "</style>\n",
       "<table border=\"1\" class=\"dataframe\">\n",
       "  <thead>\n",
       "    <tr style=\"text-align: right;\">\n",
       "      <th></th>\n",
       "      <th>type</th>\n",
       "      <th>landmark_index</th>\n",
       "    </tr>\n",
       "  </thead>\n",
       "  <tbody>\n",
       "    <tr>\n",
       "      <th>0</th>\n",
       "      <td>pose</td>\n",
       "      <td>0</td>\n",
       "    </tr>\n",
       "    <tr>\n",
       "      <th>1</th>\n",
       "      <td>pose</td>\n",
       "      <td>1</td>\n",
       "    </tr>\n",
       "    <tr>\n",
       "      <th>2</th>\n",
       "      <td>pose</td>\n",
       "      <td>2</td>\n",
       "    </tr>\n",
       "    <tr>\n",
       "      <th>3</th>\n",
       "      <td>pose</td>\n",
       "      <td>3</td>\n",
       "    </tr>\n",
       "    <tr>\n",
       "      <th>4</th>\n",
       "      <td>pose</td>\n",
       "      <td>4</td>\n",
       "    </tr>\n",
       "    <tr>\n",
       "      <th>...</th>\n",
       "      <td>...</td>\n",
       "      <td>...</td>\n",
       "    </tr>\n",
       "    <tr>\n",
       "      <th>62</th>\n",
       "      <td>right_hand</td>\n",
       "      <td>16</td>\n",
       "    </tr>\n",
       "    <tr>\n",
       "      <th>63</th>\n",
       "      <td>right_hand</td>\n",
       "      <td>17</td>\n",
       "    </tr>\n",
       "    <tr>\n",
       "      <th>64</th>\n",
       "      <td>right_hand</td>\n",
       "      <td>18</td>\n",
       "    </tr>\n",
       "    <tr>\n",
       "      <th>65</th>\n",
       "      <td>right_hand</td>\n",
       "      <td>19</td>\n",
       "    </tr>\n",
       "    <tr>\n",
       "      <th>66</th>\n",
       "      <td>right_hand</td>\n",
       "      <td>20</td>\n",
       "    </tr>\n",
       "  </tbody>\n",
       "</table>\n",
       "<p>67 rows × 2 columns</p>\n",
       "</div>"
      ],
      "text/plain": [
       "          type  landmark_index\n",
       "0         pose               0\n",
       "1         pose               1\n",
       "2         pose               2\n",
       "3         pose               3\n",
       "4         pose               4\n",
       "..         ...             ...\n",
       "62  right_hand              16\n",
       "63  right_hand              17\n",
       "64  right_hand              18\n",
       "65  right_hand              19\n",
       "66  right_hand              20\n",
       "\n",
       "[67 rows x 2 columns]"
      ]
     },
     "execution_count": 40,
     "metadata": {},
     "output_type": "execute_result"
    }
   ],
   "source": [
    "order_json = json_df_filtered[json_df_filtered.frame==0][['type', 'landmark_index']].reset_index(drop=True)\n",
    "order_json "
   ]
  },
  {
   "cell_type": "code",
   "execution_count": 41,
   "id": "2069f8a1-b40a-4d1a-a788-9201f2409e66",
   "metadata": {
    "execution": {
     "iopub.execute_input": "2024-03-27T20:47:43.913869Z",
     "iopub.status.busy": "2024-03-27T20:47:43.913171Z",
     "iopub.status.idle": "2024-03-27T20:47:44.009957Z",
     "shell.execute_reply": "2024-03-27T20:47:44.007637Z",
     "shell.execute_reply.started": "2024-03-27T20:47:43.913805Z"
    },
    "tags": []
   },
   "outputs": [
    {
     "data": {
      "text/plain": [
       "type              67\n",
       "landmark_index    67\n",
       "dtype: int64"
      ]
     },
     "execution_count": 41,
     "metadata": {},
     "output_type": "execute_result"
    }
   ],
   "source": [
    "(order_pq == order_json).sum()"
   ]
  }
 ],
 "metadata": {
  "kernelspec": {
   "display_name": "Python 3 (ipykernel)",
   "language": "python",
   "name": "python3"
  },
  "language_info": {
   "codemirror_mode": {
    "name": "ipython",
    "version": 3
   },
   "file_extension": ".py",
   "mimetype": "text/x-python",
   "name": "python",
   "nbconvert_exporter": "python",
   "pygments_lexer": "ipython3",
   "version": "3.10.6"
  }
 },
 "nbformat": 4,
 "nbformat_minor": 5
}

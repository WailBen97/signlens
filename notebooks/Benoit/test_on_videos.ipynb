{
 "cells": [
  {
   "cell_type": "code",
   "execution_count": 1,
   "id": "35e25198-78a1-478e-bc7e-188e1d7c7401",
   "metadata": {
    "execution": {
     "iopub.execute_input": "2024-03-28T08:17:21.644720Z",
     "iopub.status.busy": "2024-03-28T08:17:21.643915Z",
     "iopub.status.idle": "2024-03-28T08:17:30.232365Z",
     "shell.execute_reply": "2024-03-28T08:17:30.230205Z",
     "shell.execute_reply.started": "2024-03-28T08:17:21.644585Z"
    },
    "tags": []
   },
   "outputs": [
    {
     "name": "stderr",
     "output_type": "stream",
     "text": [
      "2024-03-28 09:17:23.461040: I tensorflow/core/platform/cpu_feature_guard.cc:210] This TensorFlow binary is optimized to use available CPU instructions in performance-critical operations.\n",
      "To enable the following instructions: AVX2 FMA, in other operations, rebuild TensorFlow with the appropriate compiler flags.\n",
      "2024-03-28 09:17:25.889847: W tensorflow/compiler/tf2tensorrt/utils/py_utils.cc:38] TF-TRT Warning: Could not find TensorRT\n"
     ]
    }
   ],
   "source": [
    "import os\n",
    "import numpy as np\n",
    "import pandas as pd\n",
    "from tqdm import tqdm\n",
    "import json\n",
    "import tensorflow as tf\n",
    "\n",
    "import matplotlib.pyplot as plt\n",
    "\n",
    "from signlens.params import *\n",
    "from signlens.preprocessing.glossary import load_glossary, write_glossary\n",
    "from signlens.preprocessing.data import load_data_subset_csv , load_video_list_json\n",
    "from signlens.preprocessing.preprocess import encode_labels, decode_labels, pad_and_preprocess_sequences_from_pq_file_path_df, preprocess_data_from_json_data, pad_and_preprocess_landmarks_array, reshape_processed_data_to_tf, convert_landmarks_json_data_to_df, filter_relevant_landmarks_and_coordinates\n",
    "from signlens.model.model_utils import load_model\n",
    "from signlens.model.model_architecture import evaluate_model\n",
    "from utils.video_utils import process_video_to_landmarks_json, draw_landmarks_on_image\n",
    "\n",
    "from colorama import Fore, Style\n",
    "\n",
    "%load_ext autoreload\n",
    "\n",
    "%autoreload 2\n"
   ]
  },
  {
   "cell_type": "markdown",
   "id": "d1fcd45f-0bb6-41d0-90f8-b772472718eb",
   "metadata": {},
   "source": [
    "## Glossary check"
   ]
  },
  {
   "cell_type": "code",
   "execution_count": 2,
   "id": "f80fb549-c301-46f8-90ae-9651dc7cd640",
   "metadata": {
    "execution": {
     "iopub.execute_input": "2024-03-28T08:17:30.239136Z",
     "iopub.status.busy": "2024-03-28T08:17:30.236486Z",
     "iopub.status.idle": "2024-03-28T08:17:30.308358Z",
     "shell.execute_reply": "2024-03-28T08:17:30.305150Z",
     "shell.execute_reply.started": "2024-03-28T08:17:30.239068Z"
    },
    "tags": []
   },
   "outputs": [],
   "source": [
    "#write_glossary()"
   ]
  },
  {
   "cell_type": "code",
   "execution_count": 3,
   "id": "7f33c045-0941-45cd-b799-e0b60db72f9c",
   "metadata": {
    "execution": {
     "iopub.execute_input": "2024-03-28T08:17:30.311274Z",
     "iopub.status.busy": "2024-03-28T08:17:30.310653Z",
     "iopub.status.idle": "2024-03-28T08:17:30.391400Z",
     "shell.execute_reply": "2024-03-28T08:17:30.389415Z",
     "shell.execute_reply.started": "2024-03-28T08:17:30.311225Z"
    },
    "tags": []
   },
   "outputs": [],
   "source": [
    "glossary = load_glossary()"
   ]
  },
  {
   "cell_type": "code",
   "execution_count": 4,
   "id": "891bc065-8518-4dd8-b96f-2812c7e4bd8a",
   "metadata": {
    "execution": {
     "iopub.execute_input": "2024-03-28T08:17:30.393853Z",
     "iopub.status.busy": "2024-03-28T08:17:30.393302Z",
     "iopub.status.idle": "2024-03-28T08:17:30.479541Z",
     "shell.execute_reply": "2024-03-28T08:17:30.474567Z",
     "shell.execute_reply.started": "2024-03-28T08:17:30.393804Z"
    },
    "tags": []
   },
   "outputs": [
    {
     "data": {
      "text/plain": [
       "250"
      ]
     },
     "execution_count": 4,
     "metadata": {},
     "output_type": "execute_result"
    }
   ],
   "source": [
    "len(glossary.index.unique())"
   ]
  },
  {
   "cell_type": "markdown",
   "id": "f5b6c25e-0bd0-4293-a8df-3686e57de175",
   "metadata": {},
   "source": [
    "## Prediction on parquet files"
   ]
  },
  {
   "cell_type": "code",
   "execution_count": 5,
   "id": "9b7067ce-7b65-4064-a64e-54d040483446",
   "metadata": {
    "execution": {
     "iopub.execute_input": "2024-03-28T08:17:30.482245Z",
     "iopub.status.busy": "2024-03-28T08:17:30.481739Z",
     "iopub.status.idle": "2024-03-28T08:17:31.692863Z",
     "shell.execute_reply": "2024-03-28T08:17:31.690852Z",
     "shell.execute_reply.started": "2024-03-28T08:17:30.482200Z"
    },
    "tags": []
   },
   "outputs": [
    {
     "name": "stderr",
     "output_type": "stream",
     "text": [
      "2024-03-28 09:17:30.637421: I external/local_xla/xla/stream_executor/cuda/cuda_executor.cc:984] could not open file to read NUMA node: /sys/bus/pci/devices/0000:01:00.0/numa_node\n",
      "Your kernel may have been built without NUMA support.\n",
      "2024-03-28 09:17:30.638245: W tensorflow/core/common_runtime/gpu/gpu_device.cc:2251] Cannot dlopen some GPU libraries. Please make sure the missing libraries mentioned above are installed properly if you would like to use GPU. Follow the guide at https://www.tensorflow.org/install/gpu for how to download and setup the required libraries for your platform.\n",
      "Skipping registering GPU devices...\n"
     ]
    }
   ],
   "source": [
    "# Load model\n",
    "model_file = \"model_v6_250signs_filtered_pose_epoch_60.keras\"\n",
    "model_path = os.path.join('/home/bfrisque/code/benoitfrisque/signlens/', 'models_api', model_file)\n",
    "model = load_model(mode='from_path', model_path=model_path)\n"
   ]
  },
  {
   "cell_type": "code",
   "execution_count": 6,
   "id": "6a98b8b0-1ec5-4c98-b4c8-9d5bce707883",
   "metadata": {
    "execution": {
     "iopub.execute_input": "2024-03-28T08:17:31.697819Z",
     "iopub.status.busy": "2024-03-28T08:17:31.695612Z",
     "iopub.status.idle": "2024-03-28T08:17:58.375186Z",
     "shell.execute_reply": "2024-03-28T08:17:58.372372Z",
     "shell.execute_reply.started": "2024-03-28T08:17:31.697734Z"
    },
    "tags": []
   },
   "outputs": [
    {
     "name": "stdout",
     "output_type": "stream",
     "text": [
      "\u001b[34mLoading data subset from train_test.csv\u001b[0m\n",
      "    ℹ️ Random state set for data loading : 42\n",
      "    ℹ️ Filtered sequences with missing frames. Size reduced from 17233 to 17233 (100.00%)\n",
      "    ℹ️ Filtered on n_frames = 100. Size reduced from 17233 to 17233 (100.00%)\n",
      "    ℹ️ Filtered on n_classes = 250. Size reduced from 17233 to 17233 (100.00%)\n",
      "    ℹ️ Balanced data, with average of 6.9 elements per class. Size reduced from 17233 to 1723 (10.00%)\n",
      "✅ Loaded 1723 rows (10.00% of the original 17233 rows) from the dataset.\n",
      "\u001b[34m\n",
      "Preprocessing 1723 testing files...\u001b[0m\n"
     ]
    },
    {
     "name": "stderr",
     "output_type": "stream",
     "text": [
      "/home/bfrisque/.pyenv/versions/3.10.6/lib/python3.10/multiprocessing/popen_fork.py:66: RuntimeWarning: os.fork() was called. os.fork() is incompatible with multithreaded code, and JAX is multithreaded, so this will likely lead to a deadlock.\n",
      "  self.pid = os.fork()\n",
      "100%|███████████████████████████████████████████████████████████████████████████| 1723/1723 [00:07<00:00, 229.41it/s]/home/bfrisque/.pyenv/versions/3.10.6/lib/python3.10/multiprocessing/popen_fork.py:66: RuntimeWarning: os.fork() was called. os.fork() is incompatible with multithreaded code, and JAX is multithreaded, so this will likely lead to a deadlock.\n",
      "  self.pid = os.fork()\n",
      "\n",
      "2024-03-28 09:17:40.836533: W external/local_tsl/tsl/framework/cpu_allocator_impl.cc:83] Allocation of 92352800 exceeds 10% of free system memory.\n"
     ]
    },
    {
     "name": "stdout",
     "output_type": "stream",
     "text": [
      "\u001b[34m\n",
      "Evaluating model on 1723 rows...\u001b[0m\n"
     ]
    },
    {
     "name": "stderr",
     "output_type": "stream",
     "text": [
      "2024-03-28 09:17:41.027167: W external/local_tsl/tsl/framework/cpu_allocator_impl.cc:83] Allocation of 92352800 exceeds 10% of free system memory.\n"
     ]
    },
    {
     "name": "stdout",
     "output_type": "stream",
     "text": [
      "✅ Model evaluated, accuracy: 55.7%\n"
     ]
    }
   ],
   "source": [
    "test_data = load_data_subset_csv(balanced=True, csv_path=TRAIN_TEST_CSV_PATH, random_state=42, frac=0.1)\n",
    "X_test_files = test_data.file_path\n",
    "\n",
    "# Preprocessing\n",
    "print(Fore.BLUE + f\"\\nPreprocessing {len(X_test_files)} testing files...\" + Style.RESET_ALL)\n",
    "X_test = pad_and_preprocess_sequences_from_pq_file_path_df(X_test_files)\n",
    "y_test = encode_labels(test_data.sign)\n",
    "\n",
    "\n",
    "metrics_dict = evaluate_model(model, X_test, y_test)\n",
    "accuracy = metrics_dict['accuracy']\n"
   ]
  },
  {
   "cell_type": "markdown",
   "id": "88300cd4-a2cd-4289-a725-6e534ef24f9e",
   "metadata": {},
   "source": [
    "## Prediction on json from videos"
   ]
  },
  {
   "cell_type": "markdown",
   "id": "9a045f14-fa7a-4ac3-a58e-0c252d121a58",
   "metadata": {
    "tags": []
   },
   "source": [
    "### Select test set"
   ]
  },
  {
   "cell_type": "code",
   "execution_count": 7,
   "id": "3e665a18-a5f7-4b29-b83e-bc6aae5d9514",
   "metadata": {
    "execution": {
     "iopub.execute_input": "2024-03-28T08:17:58.385120Z",
     "iopub.status.busy": "2024-03-28T08:17:58.383201Z",
     "iopub.status.idle": "2024-03-28T08:18:00.045518Z",
     "shell.execute_reply": "2024-03-28T08:18:00.043816Z",
     "shell.execute_reply.started": "2024-03-28T08:17:58.385041Z"
    },
    "tags": []
   },
   "outputs": [],
   "source": [
    "videos = load_video_list_json(filter_glossary=True)"
   ]
  },
  {
   "cell_type": "code",
   "execution_count": 8,
   "id": "5fb1c130-2c6d-4573-bb32-4c05791d863e",
   "metadata": {
    "execution": {
     "iopub.execute_input": "2024-03-28T08:18:00.047748Z",
     "iopub.status.busy": "2024-03-28T08:18:00.047292Z",
     "iopub.status.idle": "2024-03-28T08:18:00.117068Z",
     "shell.execute_reply": "2024-03-28T08:18:00.115270Z",
     "shell.execute_reply.started": "2024-03-28T08:18:00.047708Z"
    },
    "tags": []
   },
   "outputs": [],
   "source": [
    "# test_videos = videos.sample(n=500, random_state=42)\n",
    "test_videos = videos.sample(n=600, random_state=42)"
   ]
  },
  {
   "cell_type": "code",
   "execution_count": 9,
   "id": "cfebc2dc-f908-4e11-b5ad-9ea4bd4e371e",
   "metadata": {
    "execution": {
     "iopub.execute_input": "2024-03-28T08:18:00.120371Z",
     "iopub.status.busy": "2024-03-28T08:18:00.119322Z",
     "iopub.status.idle": "2024-03-28T08:18:00.214518Z",
     "shell.execute_reply": "2024-03-28T08:18:00.212518Z",
     "shell.execute_reply.started": "2024-03-28T08:18:00.120227Z"
    },
    "tags": []
   },
   "outputs": [
    {
     "data": {
      "text/html": [
       "<div>\n",
       "<style scoped>\n",
       "    .dataframe tbody tr th:only-of-type {\n",
       "        vertical-align: middle;\n",
       "    }\n",
       "\n",
       "    .dataframe tbody tr th {\n",
       "        vertical-align: top;\n",
       "    }\n",
       "\n",
       "    .dataframe thead th {\n",
       "        text-align: right;\n",
       "    }\n",
       "</style>\n",
       "<table border=\"1\" class=\"dataframe\">\n",
       "  <thead>\n",
       "    <tr style=\"text-align: right;\">\n",
       "      <th></th>\n",
       "      <th>sign</th>\n",
       "      <th>bbox</th>\n",
       "      <th>fps</th>\n",
       "      <th>frame_end</th>\n",
       "      <th>frame_start</th>\n",
       "      <th>instance_id</th>\n",
       "      <th>signer_id</th>\n",
       "      <th>source</th>\n",
       "      <th>split</th>\n",
       "      <th>url</th>\n",
       "      <th>variation_id</th>\n",
       "      <th>video_id</th>\n",
       "      <th>video_path</th>\n",
       "    </tr>\n",
       "  </thead>\n",
       "  <tbody>\n",
       "    <tr>\n",
       "      <th>1125</th>\n",
       "      <td>on</td>\n",
       "      <td>[29, 0, 267, 240]</td>\n",
       "      <td>25</td>\n",
       "      <td>-1</td>\n",
       "      <td>1</td>\n",
       "      <td>3</td>\n",
       "      <td>37</td>\n",
       "      <td>spreadthesign</td>\n",
       "      <td>train</td>\n",
       "      <td>https://media.spreadthesign.com/video/mp4/13/4...</td>\n",
       "      <td>0</td>\n",
       "      <td>39839</td>\n",
       "      <td>/home/bfrisque/code/benoitfrisque/signlens/raw...</td>\n",
       "    </tr>\n",
       "    <tr>\n",
       "      <th>184</th>\n",
       "      <td>white</td>\n",
       "      <td>[183, 52, 544, 400]</td>\n",
       "      <td>25</td>\n",
       "      <td>-1</td>\n",
       "      <td>1</td>\n",
       "      <td>16</td>\n",
       "      <td>12</td>\n",
       "      <td>aslsearch</td>\n",
       "      <td>train</td>\n",
       "      <td>http://www.aslsearch.com/signs/videos/white.mp4</td>\n",
       "      <td>0</td>\n",
       "      <td>63214</td>\n",
       "      <td>/home/bfrisque/code/benoitfrisque/signlens/raw...</td>\n",
       "    </tr>\n",
       "    <tr>\n",
       "      <th>1226</th>\n",
       "      <td>water</td>\n",
       "      <td>[89, 22, 204, 192]</td>\n",
       "      <td>25</td>\n",
       "      <td>-1</td>\n",
       "      <td>1</td>\n",
       "      <td>6</td>\n",
       "      <td>10</td>\n",
       "      <td>signingsavvy</td>\n",
       "      <td>train</td>\n",
       "      <td>https://www.signingsavvy.com/signs/mp4/22/2297...</td>\n",
       "      <td>0</td>\n",
       "      <td>62506</td>\n",
       "      <td>/home/bfrisque/code/benoitfrisque/signlens/raw...</td>\n",
       "    </tr>\n",
       "    <tr>\n",
       "      <th>67</th>\n",
       "      <td>jump</td>\n",
       "      <td>[167, 16, 480, 370]</td>\n",
       "      <td>25</td>\n",
       "      <td>-1</td>\n",
       "      <td>1</td>\n",
       "      <td>1</td>\n",
       "      <td>90</td>\n",
       "      <td>aslsignbank</td>\n",
       "      <td>train</td>\n",
       "      <td>https://aslsignbank.haskins.yale.edu/dictionar...</td>\n",
       "      <td>0</td>\n",
       "      <td>65983</td>\n",
       "      <td>/home/bfrisque/code/benoitfrisque/signlens/raw...</td>\n",
       "    </tr>\n",
       "    <tr>\n",
       "      <th>220</th>\n",
       "      <td>yes</td>\n",
       "      <td>[168, 14, 461, 370]</td>\n",
       "      <td>25</td>\n",
       "      <td>-1</td>\n",
       "      <td>1</td>\n",
       "      <td>13</td>\n",
       "      <td>88</td>\n",
       "      <td>aslsignbank</td>\n",
       "      <td>train</td>\n",
       "      <td>https://aslsignbank.haskins.yale.edu/dictionar...</td>\n",
       "      <td>0</td>\n",
       "      <td>66820</td>\n",
       "      <td>/home/bfrisque/code/benoitfrisque/signlens/raw...</td>\n",
       "    </tr>\n",
       "    <tr>\n",
       "      <th>...</th>\n",
       "      <td>...</td>\n",
       "      <td>...</td>\n",
       "      <td>...</td>\n",
       "      <td>...</td>\n",
       "      <td>...</td>\n",
       "      <td>...</td>\n",
       "      <td>...</td>\n",
       "      <td>...</td>\n",
       "      <td>...</td>\n",
       "      <td>...</td>\n",
       "      <td>...</td>\n",
       "      <td>...</td>\n",
       "      <td>...</td>\n",
       "    </tr>\n",
       "    <tr>\n",
       "      <th>594</th>\n",
       "      <td>first</td>\n",
       "      <td>[77, 16, 223, 192]</td>\n",
       "      <td>25</td>\n",
       "      <td>-1</td>\n",
       "      <td>1</td>\n",
       "      <td>10</td>\n",
       "      <td>11</td>\n",
       "      <td>signingsavvy</td>\n",
       "      <td>val</td>\n",
       "      <td>https://www.signingsavvy.com/signs/mp4/7/7760.mp4</td>\n",
       "      <td>1</td>\n",
       "      <td>22094</td>\n",
       "      <td>/home/bfrisque/code/benoitfrisque/signlens/raw...</td>\n",
       "    </tr>\n",
       "    <tr>\n",
       "      <th>858</th>\n",
       "      <td>that</td>\n",
       "      <td>[21, 11, 224, 192]</td>\n",
       "      <td>25</td>\n",
       "      <td>-1</td>\n",
       "      <td>1</td>\n",
       "      <td>1</td>\n",
       "      <td>11</td>\n",
       "      <td>signingsavvy</td>\n",
       "      <td>train</td>\n",
       "      <td>https://www.signingsavvy.com/signs/mp4/14/1436...</td>\n",
       "      <td>0</td>\n",
       "      <td>57677</td>\n",
       "      <td>/home/bfrisque/code/benoitfrisque/signlens/raw...</td>\n",
       "    </tr>\n",
       "    <tr>\n",
       "      <th>741</th>\n",
       "      <td>before</td>\n",
       "      <td>[90, 22, 203, 192]</td>\n",
       "      <td>25</td>\n",
       "      <td>-1</td>\n",
       "      <td>1</td>\n",
       "      <td>24</td>\n",
       "      <td>10</td>\n",
       "      <td>signingsavvy</td>\n",
       "      <td>train</td>\n",
       "      <td>https://www.signingsavvy.com/signs/mp4/22/2283...</td>\n",
       "      <td>1</td>\n",
       "      <td>05740</td>\n",
       "      <td>/home/bfrisque/code/benoitfrisque/signlens/raw...</td>\n",
       "    </tr>\n",
       "    <tr>\n",
       "      <th>1197</th>\n",
       "      <td>have</td>\n",
       "      <td>[589, 41, 1660, 1080]</td>\n",
       "      <td>25</td>\n",
       "      <td>-1</td>\n",
       "      <td>1</td>\n",
       "      <td>17</td>\n",
       "      <td>31</td>\n",
       "      <td>signschool</td>\n",
       "      <td>train</td>\n",
       "      <td>https://signstock.blob.core.windows.net/signsc...</td>\n",
       "      <td>0</td>\n",
       "      <td>26767</td>\n",
       "      <td>/home/bfrisque/code/benoitfrisque/signlens/raw...</td>\n",
       "    </tr>\n",
       "    <tr>\n",
       "      <th>601</th>\n",
       "      <td>sleep</td>\n",
       "      <td>[150, 0, 518, 480]</td>\n",
       "      <td>25</td>\n",
       "      <td>-1</td>\n",
       "      <td>1</td>\n",
       "      <td>8</td>\n",
       "      <td>13</td>\n",
       "      <td>asldeafined</td>\n",
       "      <td>train</td>\n",
       "      <td>https://media.asldeafined.com/vocabulary/14687...</td>\n",
       "      <td>0</td>\n",
       "      <td>52318</td>\n",
       "      <td>/home/bfrisque/code/benoitfrisque/signlens/raw...</td>\n",
       "    </tr>\n",
       "  </tbody>\n",
       "</table>\n",
       "<p>600 rows × 13 columns</p>\n",
       "</div>"
      ],
      "text/plain": [
       "        sign                   bbox  fps  frame_end  frame_start  instance_id  \\\n",
       "1125      on      [29, 0, 267, 240]   25         -1            1            3   \n",
       "184    white    [183, 52, 544, 400]   25         -1            1           16   \n",
       "1226   water     [89, 22, 204, 192]   25         -1            1            6   \n",
       "67      jump    [167, 16, 480, 370]   25         -1            1            1   \n",
       "220      yes    [168, 14, 461, 370]   25         -1            1           13   \n",
       "...      ...                    ...  ...        ...          ...          ...   \n",
       "594    first     [77, 16, 223, 192]   25         -1            1           10   \n",
       "858     that     [21, 11, 224, 192]   25         -1            1            1   \n",
       "741   before     [90, 22, 203, 192]   25         -1            1           24   \n",
       "1197    have  [589, 41, 1660, 1080]   25         -1            1           17   \n",
       "601    sleep     [150, 0, 518, 480]   25         -1            1            8   \n",
       "\n",
       "      signer_id         source  split  \\\n",
       "1125         37  spreadthesign  train   \n",
       "184          12      aslsearch  train   \n",
       "1226         10   signingsavvy  train   \n",
       "67           90    aslsignbank  train   \n",
       "220          88    aslsignbank  train   \n",
       "...         ...            ...    ...   \n",
       "594          11   signingsavvy    val   \n",
       "858          11   signingsavvy  train   \n",
       "741          10   signingsavvy  train   \n",
       "1197         31     signschool  train   \n",
       "601          13    asldeafined  train   \n",
       "\n",
       "                                                    url  variation_id  \\\n",
       "1125  https://media.spreadthesign.com/video/mp4/13/4...             0   \n",
       "184     http://www.aslsearch.com/signs/videos/white.mp4             0   \n",
       "1226  https://www.signingsavvy.com/signs/mp4/22/2297...             0   \n",
       "67    https://aslsignbank.haskins.yale.edu/dictionar...             0   \n",
       "220   https://aslsignbank.haskins.yale.edu/dictionar...             0   \n",
       "...                                                 ...           ...   \n",
       "594   https://www.signingsavvy.com/signs/mp4/7/7760.mp4             1   \n",
       "858   https://www.signingsavvy.com/signs/mp4/14/1436...             0   \n",
       "741   https://www.signingsavvy.com/signs/mp4/22/2283...             1   \n",
       "1197  https://signstock.blob.core.windows.net/signsc...             0   \n",
       "601   https://media.asldeafined.com/vocabulary/14687...             0   \n",
       "\n",
       "     video_id                                         video_path  \n",
       "1125    39839  /home/bfrisque/code/benoitfrisque/signlens/raw...  \n",
       "184     63214  /home/bfrisque/code/benoitfrisque/signlens/raw...  \n",
       "1226    62506  /home/bfrisque/code/benoitfrisque/signlens/raw...  \n",
       "67      65983  /home/bfrisque/code/benoitfrisque/signlens/raw...  \n",
       "220     66820  /home/bfrisque/code/benoitfrisque/signlens/raw...  \n",
       "...       ...                                                ...  \n",
       "594     22094  /home/bfrisque/code/benoitfrisque/signlens/raw...  \n",
       "858     57677  /home/bfrisque/code/benoitfrisque/signlens/raw...  \n",
       "741     05740  /home/bfrisque/code/benoitfrisque/signlens/raw...  \n",
       "1197    26767  /home/bfrisque/code/benoitfrisque/signlens/raw...  \n",
       "601     52318  /home/bfrisque/code/benoitfrisque/signlens/raw...  \n",
       "\n",
       "[600 rows x 13 columns]"
      ]
     },
     "execution_count": 9,
     "metadata": {},
     "output_type": "execute_result"
    }
   ],
   "source": [
    "test_videos "
   ]
  },
  {
   "cell_type": "code",
   "execution_count": 10,
   "id": "b686b3ca-5d71-44b9-977c-2c39a91087a8",
   "metadata": {
    "execution": {
     "iopub.execute_input": "2024-03-28T08:18:00.220032Z",
     "iopub.status.busy": "2024-03-28T08:18:00.218232Z",
     "iopub.status.idle": "2024-03-28T08:18:00.292307Z",
     "shell.execute_reply": "2024-03-28T08:18:00.289552Z",
     "shell.execute_reply.started": "2024-03-28T08:18:00.219977Z"
    },
    "tags": []
   },
   "outputs": [
    {
     "data": {
      "text/plain": [
       "1125        on\n",
       "184      white\n",
       "1226     water\n",
       "67        jump\n",
       "220        yes\n",
       "         ...  \n",
       "594      first\n",
       "858       that\n",
       "741     before\n",
       "1197      have\n",
       "601      sleep\n",
       "Name: sign, Length: 600, dtype: object"
      ]
     },
     "execution_count": 10,
     "metadata": {},
     "output_type": "execute_result"
    }
   ],
   "source": [
    "test_videos['sign']"
   ]
  },
  {
   "cell_type": "code",
   "execution_count": 11,
   "id": "34628ace-3b6a-46bb-b69c-57d1707c105f",
   "metadata": {
    "execution": {
     "iopub.execute_input": "2024-03-28T08:18:00.296000Z",
     "iopub.status.busy": "2024-03-28T08:18:00.294928Z",
     "iopub.status.idle": "2024-03-28T08:18:00.363963Z",
     "shell.execute_reply": "2024-03-28T08:18:00.361615Z",
     "shell.execute_reply.started": "2024-03-28T08:18:00.295949Z"
    },
    "tags": []
   },
   "outputs": [
    {
     "data": {
      "text/plain": [
       "196"
      ]
     },
     "execution_count": 11,
     "metadata": {},
     "output_type": "execute_result"
    }
   ],
   "source": [
    "test_videos['sign'].nunique()"
   ]
  },
  {
   "cell_type": "code",
   "execution_count": 12,
   "id": "d42b8404-3cbe-4e31-afae-8827a84e1c85",
   "metadata": {
    "execution": {
     "iopub.execute_input": "2024-03-28T08:18:00.366424Z",
     "iopub.status.busy": "2024-03-28T08:18:00.365936Z",
     "iopub.status.idle": "2024-03-28T08:18:00.448519Z",
     "shell.execute_reply": "2024-03-28T08:18:00.446493Z",
     "shell.execute_reply.started": "2024-03-28T08:18:00.366381Z"
    },
    "tags": []
   },
   "outputs": [
    {
     "data": {
      "text/plain": [
       "sign\n",
       "drink     8\n",
       "before    7\n",
       "bed       7\n",
       "white     7\n",
       "cry       7\n",
       "         ..\n",
       "bath      1\n",
       "owl       1\n",
       "home      1\n",
       "will      1\n",
       "brown     1\n",
       "Name: count, Length: 196, dtype: int64"
      ]
     },
     "execution_count": 12,
     "metadata": {},
     "output_type": "execute_result"
    }
   ],
   "source": [
    "test_videos['sign'].value_counts()"
   ]
  },
  {
   "cell_type": "code",
   "execution_count": 13,
   "id": "07acd375-f681-4e72-808d-34053278d8f3",
   "metadata": {
    "execution": {
     "iopub.execute_input": "2024-03-28T08:18:00.452237Z",
     "iopub.status.busy": "2024-03-28T08:18:00.450538Z",
     "iopub.status.idle": "2024-03-28T08:18:00.892810Z",
     "shell.execute_reply": "2024-03-28T08:18:00.890749Z",
     "shell.execute_reply.started": "2024-03-28T08:18:00.452136Z"
    },
    "tags": []
   },
   "outputs": [
    {
     "data": {
      "image/png": "[encoded data removed]",
      "text/plain": [
       "<Figure size 640x480 with 1 Axes>"
      ]
     },
     "metadata": {},
     "output_type": "display_data"
    }
   ],
   "source": [
    "plt.hist(test_videos['sign'].value_counts());"
   ]
  },
  {
   "cell_type": "markdown",
   "id": "2767d956-2b31-4323-820e-e36cc4b9324f",
   "metadata": {
    "tags": []
   },
   "source": [
    "### Convert videos to json"
   ]
  },
  {
   "cell_type": "code",
   "execution_count": 14,
   "id": "894624f0-80d0-424c-90e3-8a169bb2dd1b",
   "metadata": {
    "execution": {
     "iopub.execute_input": "2024-03-28T08:18:00.895635Z",
     "iopub.status.busy": "2024-03-28T08:18:00.895122Z",
     "iopub.status.idle": "2024-03-28T08:18:00.967964Z",
     "shell.execute_reply": "2024-03-28T08:18:00.965755Z",
     "shell.execute_reply.started": "2024-03-28T08:18:00.895589Z"
    },
    "tags": []
   },
   "outputs": [],
   "source": [
    "def process_video_sequential(video_path_df):\n",
    "    # Initialize a list to store the results\n",
    "    results = []\n",
    "\n",
    "    # Create a progress bar\n",
    "    progress_bar = tqdm(total=len(video_path_df), desc=\"Processing videos\")\n",
    "\n",
    "    # Iterate over the video paths\n",
    "    for video_path in video_path_df:\n",
    "        # Process the video and store the result\n",
    "        process_video_to_landmarks_json(video_path, json_output=True, show_preview=False, save_annotated_video=False, frame_interval=1, rear_camera=True, skip_existing=True)\n",
    "\n",
    "        # Update the progress bar\n",
    "        progress_bar.update(1)\n"
   ]
  },
  {
   "cell_type": "code",
   "execution_count": 15,
   "id": "1e787f97-1b33-42f6-974a-f0bf31d974ee",
   "metadata": {
    "execution": {
     "iopub.execute_input": "2024-03-28T08:18:00.972158Z",
     "iopub.status.busy": "2024-03-28T08:18:00.970990Z",
     "iopub.status.idle": "2024-03-28T08:18:09.247312Z",
     "shell.execute_reply": "2024-03-28T08:18:09.245354Z",
     "shell.execute_reply.started": "2024-03-28T08:18:00.972100Z"
    },
    "tags": []
   },
   "outputs": [
    {
     "name": "stderr",
     "output_type": "stream",
     "text": [
      "Processing videos:   3%|█▌                                                          | 16/600 [00:00<00:07, 77.75it/s]"
     ]
    },
    {
     "name": "stdout",
     "output_type": "stream",
     "text": [
      "Skipping video '39839' as landmarks file already exists.\n",
      "Skipping video '63214' as landmarks file already exists.\n",
      "Skipping video '62506' as landmarks file already exists.\n",
      "Skipping video '65983' as landmarks file already exists.\n",
      "Skipping video '66820' as landmarks file already exists.\n",
      "Skipping video '69470' as landmarks file already exists.\n",
      "Skipping video '46266' as landmarks file already exists.\n",
      "Skipping video '22113' as landmarks file already exists.\n",
      "Skipping video '03002' as landmarks file already exists.\n",
      "Skipping video '27173' as landmarks file already exists.\n",
      "Skipping video '34580' as landmarks file already exists.\n",
      "Skipping video '08937' as landmarks file already exists.\n",
      "Skipping video '17832' as landmarks file already exists.\n",
      "Skipping video '25686' as landmarks file already exists.\n",
      "Skipping video '17724' as landmarks file already exists.\n",
      "Skipping video '39951' as landmarks file already exists.\n",
      "Skipping video '05661' as landmarks file already exists.\n"
     ]
    },
    {
     "name": "stderr",
     "output_type": "stream",
     "text": [
      "Processing videos:   6%|███▎                                                        | 33/600 [00:00<00:07, 78.13it/s]"
     ]
    },
    {
     "name": "stdout",
     "output_type": "stream",
     "text": [
      "Skipping video '26174' as landmarks file already exists.\n",
      "Skipping video '58908' as landmarks file already exists.\n",
      "Skipping video '04358' as landmarks file already exists.\n",
      "Skipping video '33466' as landmarks file already exists.\n",
      "Skipping video '66306' as landmarks file already exists.\n",
      "Skipping video '05598' as landmarks file already exists.\n",
      "Skipping video '65158' as landmarks file already exists.\n",
      "Skipping video '46001' as landmarks file already exists.\n",
      "Skipping video '07074' as landmarks file already exists.\n",
      "Skipping video '52691' as landmarks file already exists.\n",
      "Skipping video '11358' as landmarks file already exists.\n",
      "Skipping video '14623' as landmarks file already exists.\n",
      "Skipping video '03338' as landmarks file already exists.\n",
      "Skipping video '69257' as landmarks file already exists.\n",
      "Skipping video '10583' as landmarks file already exists.\n",
      "Skipping video '59547' as landmarks file already exists.\n"
     ]
    },
    {
     "name": "stderr",
     "output_type": "stream",
     "text": [
      "Processing videos:   7%|████                                                        | 41/600 [00:00<00:07, 77.62it/s]"
     ]
    },
    {
     "name": "stdout",
     "output_type": "stream",
     "text": [
      "Skipping video '06007' as landmarks file already exists.\n",
      "Skipping video '11252' as landmarks file already exists.\n",
      "Skipping video '48983' as landmarks file already exists.\n",
      "Skipping video '06845' as landmarks file already exists.\n",
      "Skipping video '54998' as landmarks file already exists.\n",
      "Skipping video '03001' as landmarks file already exists.\n",
      "Skipping video '04873' as landmarks file already exists.\n",
      "Skipping video '07943' as landmarks file already exists.\n",
      "Skipping video '34746' as landmarks file already exists.\n",
      "Skipping video '17083' as landmarks file already exists.\n",
      "Skipping video '60460' as landmarks file already exists.\n",
      "Skipping video '14452' as landmarks file already exists.\n",
      "Skipping video '62930' as landmarks file already exists.\n",
      "Skipping video '26779' as landmarks file already exists.\n",
      "Skipping video '66781' as landmarks file already exists.\n",
      "Skipping video '26158' as landmarks file already exists.\n"
     ]
    },
    {
     "name": "stderr",
     "output_type": "stream",
     "text": [
      "Processing videos:  10%|█████▊                                                      | 58/600 [00:00<00:07, 73.98it/s]"
     ]
    },
    {
     "name": "stdout",
     "output_type": "stream",
     "text": [
      "Skipping video '63203' as landmarks file already exists.\n",
      "Skipping video '69533' as landmarks file already exists.\n",
      "Skipping video '42231' as landmarks file already exists.\n",
      "Skipping video '27153' as landmarks file already exists.\n",
      "Skipping video '32326' as landmarks file already exists.\n",
      "Skipping video '66561' as landmarks file already exists.\n",
      "Skipping video '20636' as landmarks file already exists.\n",
      "Skipping video '08514' as landmarks file already exists.\n",
      "Skipping video '43220' as landmarks file already exists.\n",
      "Skipping video '27406' as landmarks file already exists.\n",
      "Skipping video '03342' as landmarks file already exists.\n",
      "Skipping video '24614' as landmarks file already exists.\n",
      "Skipping video '23628' as landmarks file already exists.\n",
      "Skipping video '51504' as landmarks file already exists.\n",
      "Skipping video '14177' as landmarks file already exists.\n"
     ]
    },
    {
     "name": "stderr",
     "output_type": "stream",
     "text": [
      "Processing videos:  12%|███████▍                                                    | 74/600 [00:01<00:07, 68.80it/s]"
     ]
    },
    {
     "name": "stdout",
     "output_type": "stream",
     "text": [
      "Skipping video '48043' as landmarks file already exists.\n",
      "Skipping video '34584' as landmarks file already exists.\n",
      "Skipping video '38525' as landmarks file already exists.\n",
      "Skipping video '49182' as landmarks file already exists.\n",
      "Skipping video '59555' as landmarks file already exists.\n",
      "Skipping video '38737' as landmarks file already exists.\n",
      "Skipping video '28108' as landmarks file already exists.\n",
      "Skipping video '31750' as landmarks file already exists.\n",
      "Skipping video '26003' as landmarks file already exists.\n",
      "Skipping video '69305' as landmarks file already exists.\n",
      "Skipping video '69343' as landmarks file already exists.\n",
      "Skipping video '05634' as landmarks file already exists.\n",
      "Skipping video '34824' as landmarks file already exists.\n"
     ]
    },
    {
     "name": "stderr",
     "output_type": "stream",
     "text": [
      "Processing videos:  15%|████████▉                                                   | 89/600 [00:01<00:07, 69.70it/s]"
     ]
    },
    {
     "name": "stdout",
     "output_type": "stream",
     "text": [
      "Skipping video '51340' as landmarks file already exists.\n",
      "Skipping video '06794' as landmarks file already exists.\n",
      "Skipping video '65125' as landmarks file already exists.\n",
      "Skipping video '40465' as landmarks file already exists.\n",
      "Skipping video '05654' as landmarks file already exists.\n",
      "Skipping video '06789' as landmarks file already exists.\n",
      "Skipping video '14174' as landmarks file already exists.\n",
      "Skipping video '52354' as landmarks file already exists.\n",
      "Skipping video '24581' as landmarks file already exists.\n",
      "Skipping video '66774' as landmarks file already exists.\n",
      "Skipping video '58807' as landmarks file already exists.\n",
      "Skipping video '07068' as landmarks file already exists.\n",
      "Skipping video '66644' as landmarks file already exists.\n",
      "Skipping video '04715' as landmarks file already exists.\n",
      "Skipping video '34732' as landmarks file already exists.\n",
      "Skipping video '06833' as landmarks file already exists.\n",
      "Skipping video '01991' as landmarks file already exists.\n"
     ]
    },
    {
     "name": "stderr",
     "output_type": "stream",
     "text": [
      "Processing videos:  18%|██████████▎                                                | 105/600 [00:01<00:07, 65.53it/s]"
     ]
    },
    {
     "name": "stdout",
     "output_type": "stream",
     "text": [
      "Skipping video '28107' as landmarks file already exists.\n",
      "Skipping video '34825' as landmarks file already exists.\n",
      "Skipping video '45760' as landmarks file already exists.\n",
      "Skipping video '63204' as landmarks file already exists.\n",
      "Skipping video '40470' as landmarks file already exists.\n",
      "Skipping video '69219' as landmarks file already exists.\n",
      "Skipping video '21883' as landmarks file already exists.\n",
      "Skipping video '38534' as landmarks file already exists.\n",
      "Skipping video '52316' as landmarks file already exists.\n",
      "Skipping video '22993' as landmarks file already exists.\n",
      "Skipping video '66142' as landmarks file already exists.\n",
      "Skipping video '24941' as landmarks file already exists.\n"
     ]
    },
    {
     "name": "stderr",
     "output_type": "stream",
     "text": [
      "Processing videos:  19%|███████████▏                                               | 114/600 [00:01<00:07, 68.43it/s]"
     ]
    },
    {
     "name": "stdout",
     "output_type": "stream",
     "text": [
      "Skipping video '26715' as landmarks file already exists.\n",
      "Skipping video '04708' as landmarks file already exists.\n",
      "Skipping video '25515' as landmarks file already exists.\n",
      "Skipping video '60576' as landmarks file already exists.\n",
      "Skipping video '26006' as landmarks file already exists.\n",
      "Skipping video '26719' as landmarks file already exists.\n",
      "Skipping video '56971' as landmarks file already exists.\n",
      "Skipping video '57974' as landmarks file already exists.\n",
      "Skipping video '58902' as landmarks file already exists.\n",
      "Skipping video '25685' as landmarks file already exists.\n",
      "Skipping video '21100' as landmarks file already exists.\n",
      "Skipping video '18773' as landmarks file already exists.\n",
      "Skipping video '06788' as landmarks file already exists.\n",
      "Skipping video '65728' as landmarks file already exists.\n"
     ]
    },
    {
     "name": "stderr",
     "output_type": "stream",
     "text": [
      "Processing videos:  21%|████████████▌                                              | 128/600 [00:01<00:07, 62.58it/s]"
     ]
    },
    {
     "name": "stdout",
     "output_type": "stream",
     "text": [
      "Skipping video '64263' as landmarks file already exists.\n",
      "Skipping video '52862' as landmarks file already exists.\n",
      "Skipping video '69413' as landmarks file already exists.\n",
      "Skipping video '52324' as landmarks file already exists.\n",
      "Skipping video '39625' as landmarks file already exists.\n",
      "Skipping video '28737' as landmarks file already exists.\n",
      "Skipping video '04169' as landmarks file already exists.\n",
      "Skipping video '37043' as landmarks file already exists.\n",
      "Skipping video '38532' as landmarks file already exists.\n",
      "Skipping video '08114' as landmarks file already exists.\n",
      "Skipping video '27408' as landmarks file already exists.\n",
      "Skipping video '22085' as landmarks file already exists.\n",
      "Skipping video '63201' as landmarks file already exists.\n",
      "Skipping video '22746' as landmarks file already exists.\n",
      "Skipping video '21874' as landmarks file already exists.\n",
      "Skipping video '34091' as landmarks file already exists.\n"
     ]
    },
    {
     "name": "stderr",
     "output_type": "stream",
     "text": [
      "Processing videos:  24%|██████████████▎                                            | 146/600 [00:02<00:06, 66.80it/s]"
     ]
    },
    {
     "name": "stdout",
     "output_type": "stream",
     "text": [
      "Skipping video '26009' as landmarks file already exists.\n",
      "Skipping video '36858' as landmarks file already exists.\n",
      "Skipping video '48510' as landmarks file already exists.\n",
      "Skipping video '33465' as landmarks file already exists.\n",
      "Skipping video '21870' as landmarks file already exists.\n",
      "Skipping video '34830' as landmarks file already exists.\n",
      "Skipping video '69536' as landmarks file already exists.\n",
      "Skipping video '69479' as landmarks file already exists.\n",
      "Skipping video '01422' as landmarks file already exists.\n",
      "Skipping video '14568' as landmarks file already exists.\n",
      "Skipping video '51329' as landmarks file already exists.\n",
      "Skipping video '40116' as landmarks file already exists.\n",
      "Skipping video '43219' as landmarks file already exists.\n",
      "Skipping video '05275' as landmarks file already exists.\n"
     ]
    },
    {
     "name": "stderr",
     "output_type": "stream",
     "text": [
      "Processing videos:  27%|████████████████                                           | 163/600 [00:02<00:06, 69.21it/s]"
     ]
    },
    {
     "name": "stdout",
     "output_type": "stream",
     "text": [
      "Skipping video '11285' as landmarks file already exists.\n",
      "Skipping video '25422' as landmarks file already exists.\n",
      "Skipping video '64451' as landmarks file already exists.\n",
      "Skipping video '22748' as landmarks file already exists.\n",
      "Skipping video '34742' as landmarks file already exists.\n",
      "Skipping video '21175' as landmarks file already exists.\n",
      "Skipping video '54762' as landmarks file already exists.\n",
      "Skipping video '63283' as landmarks file already exists.\n",
      "Skipping video '24582' as landmarks file already exists.\n",
      "Skipping video '40129' as landmarks file already exists.\n",
      "Skipping video '27999' as landmarks file already exists.\n",
      "Skipping video '20700' as landmarks file already exists.\n",
      "Skipping video '09307' as landmarks file already exists.\n",
      "Skipping video '32320' as landmarks file already exists.\n",
      "Skipping video '14572' as landmarks file already exists.\n"
     ]
    },
    {
     "name": "stderr",
     "output_type": "stream",
     "text": [
      "Processing videos:  30%|█████████████████▌                                         | 179/600 [00:02<00:06, 68.50it/s]"
     ]
    },
    {
     "name": "stdout",
     "output_type": "stream",
     "text": [
      "Skipping video '54557' as landmarks file already exists.\n",
      "Skipping video '48973' as landmarks file already exists.\n",
      "Skipping video '17823' as landmarks file already exists.\n",
      "Skipping video '69211' as landmarks file already exists.\n",
      "Skipping video '23630' as landmarks file already exists.\n",
      "Skipping video '50122' as landmarks file already exists.\n",
      "Skipping video '62510' as landmarks file already exists.\n",
      "Skipping video '54955' as landmarks file already exists.\n",
      "Skipping video '37065' as landmarks file already exists.\n",
      "Skipping video '36863' as landmarks file already exists.\n",
      "Skipping video '36781' as landmarks file already exists.\n",
      "Skipping video '06333' as landmarks file already exists.\n",
      "Skipping video '24584' as landmarks file already exists.\n",
      "Skipping video '05644' as landmarks file already exists.\n"
     ]
    },
    {
     "name": "stderr",
     "output_type": "stream",
     "text": [
      "Processing videos:  31%|██████████████████▎                                        | 186/600 [00:02<00:06, 62.62it/s]"
     ]
    },
    {
     "name": "stdout",
     "output_type": "stream",
     "text": [
      "Skipping video '09528' as landmarks file already exists.\n",
      "Skipping video '69395' as landmarks file already exists.\n",
      "Skipping video '17428' as landmarks file already exists.\n",
      "Skipping video '46733' as landmarks file already exists.\n",
      "Skipping video '54764' as landmarks file already exists.\n",
      "Skipping video '58031' as landmarks file already exists.\n",
      "Skipping video '09305' as landmarks file already exists.\n",
      "Skipping video '40130' as landmarks file already exists.\n",
      "Skipping video '27417' as landmarks file already exists.\n",
      "Skipping video '02003' as landmarks file already exists.\n",
      "Skipping video '66766' as landmarks file already exists.\n",
      "Skipping video '65427' as landmarks file already exists.\n",
      "Skipping video '43528' as landmarks file already exists.\n",
      "Skipping video '24955' as landmarks file already exists.\n",
      "Skipping video '49181' as landmarks file already exists.\n"
     ]
    },
    {
     "name": "stderr",
     "output_type": "stream",
     "text": [
      "Processing videos:  34%|████████████████████                                       | 204/600 [00:02<00:05, 72.24it/s]"
     ]
    },
    {
     "name": "stdout",
     "output_type": "stream",
     "text": [
      "Skipping video '04361' as landmarks file already exists.\n",
      "Skipping video '49178' as landmarks file already exists.\n",
      "Skipping video '26698' as landmarks file already exists.\n",
      "Skipping video '49658' as landmarks file already exists.\n",
      "Skipping video '28111' as landmarks file already exists.\n",
      "Skipping video '02585' as landmarks file already exists.\n",
      "Skipping video '22272' as landmarks file already exists.\n",
      "Skipping video '10445' as landmarks file already exists.\n",
      "Skipping video '45996' as landmarks file already exists.\n",
      "Skipping video '06075' as landmarks file already exists.\n",
      "Skipping video '27375' as landmarks file already exists.\n",
      "Skipping video '66705' as landmarks file already exists.\n",
      "Skipping video '06832' as landmarks file already exists.\n",
      "Skipping video '65167' as landmarks file already exists.\n",
      "Skipping video '52348' as landmarks file already exists.\n",
      "Skipping video '60459' as landmarks file already exists.\n",
      "Skipping video '07963' as landmarks file already exists.\n",
      "Skipping video '66328' as landmarks file already exists.\n"
     ]
    },
    {
     "name": "stderr",
     "output_type": "stream",
     "text": [
      "Processing videos:  37%|██████████████████████                                     | 224/600 [00:03<00:04, 81.41it/s]"
     ]
    },
    {
     "name": "stdout",
     "output_type": "stream",
     "text": [
      "Skipping video '21891' as landmarks file already exists.\n",
      "Skipping video '32094' as landmarks file already exists.\n",
      "Skipping video '08510' as landmarks file already exists.\n",
      "Skipping video '51058' as landmarks file already exists.\n",
      "Skipping video '28003' as landmarks file already exists.\n",
      "Skipping video '36780' as landmarks file already exists.\n",
      "Skipping video '37040' as landmarks file already exists.\n",
      "Skipping video '04870' as landmarks file already exists.\n",
      "Skipping video '09533' as landmarks file already exists.\n",
      "Skipping video '63284' as landmarks file already exists.\n",
      "Skipping video '57832' as landmarks file already exists.\n",
      "Skipping video '60579' as landmarks file already exists.\n",
      "Skipping video '56820' as landmarks file already exists.\n",
      "Skipping video '21855' as landmarks file already exists.\n",
      "Skipping video '58899' as landmarks file already exists.\n",
      "Skipping video '05743' as landmarks file already exists.\n",
      "Skipping video '21854' as landmarks file already exists.\n",
      "Skipping video '64292' as landmarks file already exists.\n"
     ]
    },
    {
     "name": "stderr",
     "output_type": "stream",
     "text": [
      "Processing videos:  40%|███████████████████████▊                                   | 242/600 [00:03<00:04, 76.00it/s]"
     ]
    },
    {
     "name": "stdout",
     "output_type": "stream",
     "text": [
      "Skipping video '54556' as landmarks file already exists.\n",
      "Skipping video '49188' as landmarks file already exists.\n",
      "Skipping video '56563' as landmarks file already exists.\n",
      "Skipping video '69429' as landmarks file already exists.\n",
      "Skipping video '07070' as landmarks file already exists.\n",
      "Skipping video '66643' as landmarks file already exists.\n",
      "Skipping video '05728' as landmarks file already exists.\n",
      "Skipping video '69317' as landmarks file already exists.\n",
      "Skipping video '64281' as landmarks file already exists.\n",
      "Skipping video '51503' as landmarks file already exists.\n",
      "Skipping video '06002' as landmarks file already exists.\n",
      "Skipping video '06334' as landmarks file already exists.\n",
      "Skipping video '01724' as landmarks file already exists.\n",
      "Skipping video '60574' as landmarks file already exists.\n"
     ]
    },
    {
     "name": "stderr",
     "output_type": "stream",
     "text": [
      "Processing videos:  43%|█████████████████████████▍                                 | 259/600 [00:03<00:04, 80.09it/s]"
     ]
    },
    {
     "name": "stdout",
     "output_type": "stream",
     "text": [
      "Skipping video '56978' as landmarks file already exists.\n",
      "Skipping video '52867' as landmarks file already exists.\n",
      "Skipping video '20634' as landmarks file already exists.\n",
      "Skipping video '66740' as landmarks file already exists.\n",
      "Skipping video '65668' as landmarks file already exists.\n",
      "Skipping video '13696' as landmarks file already exists.\n",
      "Skipping video '42966' as landmarks file already exists.\n",
      "Skipping video '05682' as landmarks file already exists.\n",
      "Skipping video '65132' as landmarks file already exists.\n",
      "Skipping video '36783' as landmarks file already exists.\n",
      "Skipping video '51059' as landmarks file already exists.\n",
      "Skipping video '26860' as landmarks file already exists.\n",
      "Skipping video '65267' as landmarks file already exists.\n",
      "Skipping video '02587' as landmarks file already exists.\n",
      "Skipping video '24973' as landmarks file already exists.\n",
      "Skipping video '65507' as landmarks file already exists.\n",
      "Skipping video '03003' as landmarks file already exists.\n",
      "Skipping video '32337' as landmarks file already exists.\n"
     ]
    },
    {
     "name": "stderr",
     "output_type": "stream",
     "text": [
      "Processing videos:  46%|███████████████████████████▏                               | 276/600 [00:03<00:04, 74.13it/s]"
     ]
    },
    {
     "name": "stdout",
     "output_type": "stream",
     "text": [
      "Skipping video '49432' as landmarks file already exists.\n",
      "Skipping video '69239' as landmarks file already exists.\n",
      "Skipping video '06477' as landmarks file already exists.\n",
      "Skipping video '48050' as landmarks file already exists.\n",
      "Skipping video '39635' as landmarks file already exists.\n",
      "Skipping video '65540' as landmarks file already exists.\n",
      "Skipping video '24583' as landmarks file already exists.\n",
      "Skipping video '66709' as landmarks file already exists.\n",
      "Skipping video '64305' as landmarks file already exists.\n",
      "Skipping video '05629' as landmarks file already exists.\n",
      "Skipping video '05742' as landmarks file already exists.\n",
      "Skipping video '17582' as landmarks file already exists.\n",
      "Skipping video '33286' as landmarks file already exists.\n",
      "Skipping video '45759' as landmarks file already exists.\n"
     ]
    },
    {
     "name": "stderr",
     "output_type": "stream",
     "text": [
      "Processing videos:  47%|███████████████████████████▉                               | 284/600 [00:03<00:04, 69.51it/s]"
     ]
    },
    {
     "name": "stdout",
     "output_type": "stream",
     "text": [
      "Skipping video '14566' as landmarks file already exists.\n",
      "Skipping video '10587' as landmarks file already exists.\n",
      "Skipping video '32325' as landmarks file already exists.\n",
      "Skipping video '69302' as landmarks file already exists.\n",
      "Skipping video '66562' as landmarks file already exists.\n",
      "Skipping video '30834' as landmarks file already exists.\n",
      "Skipping video '63292' as landmarks file already exists.\n",
      "Skipping video '06478' as landmarks file already exists.\n",
      "Skipping video '27377' as landmarks file already exists.\n",
      "Skipping video '38530' as landmarks file already exists.\n",
      "Skipping video '11035' as landmarks file already exists.\n",
      "Skipping video '41902' as landmarks file already exists.\n",
      "Skipping video '25508' as landmarks file already exists.\n"
     ]
    },
    {
     "name": "stderr",
     "output_type": "stream",
     "text": [
      "Processing videos:  50%|█████████████████████████████▌                             | 300/600 [00:04<00:04, 69.25it/s]"
     ]
    },
    {
     "name": "stdout",
     "output_type": "stream",
     "text": [
      "Skipping video '69366' as landmarks file already exists.\n",
      "Skipping video '40659' as landmarks file already exists.\n",
      "Skipping video '59548' as landmarks file already exists.\n",
      "Skipping video '66552' as landmarks file already exists.\n",
      "Skipping video '26942' as landmarks file already exists.\n",
      "Skipping video '69510' as landmarks file already exists.\n",
      "Skipping video '08107' as landmarks file already exists.\n",
      "Skipping video '33454' as landmarks file already exists.\n",
      "Skipping video '37612' as landmarks file already exists.\n",
      "Skipping video '28379' as landmarks file already exists.\n",
      "Skipping video '40121' as landmarks file already exists.\n",
      "Skipping video '02826' as landmarks file already exists.\n",
      "Skipping video '02999' as landmarks file already exists.\n",
      "Skipping video '24589' as landmarks file already exists.\n",
      "Skipping video '34839' as landmarks file already exists.\n",
      "Skipping video '43222' as landmarks file already exists.\n",
      "Skipping video '51064' as landmarks file already exists.\n"
     ]
    },
    {
     "name": "stderr",
     "output_type": "stream",
     "text": [
      "Processing videos:  53%|███████████████████████████████▎                           | 318/600 [00:04<00:03, 75.09it/s]"
     ]
    },
    {
     "name": "stdout",
     "output_type": "stream",
     "text": [
      "Skipping video '21941' as landmarks file already exists.\n",
      "Skipping video '42239' as landmarks file already exists.\n",
      "Skipping video '66015' as landmarks file already exists.\n",
      "Skipping video '39627' as landmarks file already exists.\n",
      "Skipping video '19049' as landmarks file already exists.\n",
      "Skipping video '46731' as landmarks file already exists.\n",
      "Skipping video '17585' as landmarks file already exists.\n",
      "Skipping video '39953' as landmarks file already exists.\n",
      "Skipping video '09774' as landmarks file already exists.\n",
      "Skipping video '69283' as landmarks file already exists.\n",
      "Skipping video '43522' as landmarks file already exists.\n",
      "Skipping video '33456' as landmarks file already exists.\n",
      "Skipping video '17721' as landmarks file already exists.\n",
      "Skipping video '17722' as landmarks file already exists.\n",
      "Skipping video '22994' as landmarks file already exists.\n",
      "Skipping video '24548' as landmarks file already exists.\n",
      "Skipping video '14481' as landmarks file already exists.\n"
     ]
    },
    {
     "name": "stderr",
     "output_type": "stream",
     "text": [
      "Processing videos:  56%|█████████████████████████████████▏                         | 337/600 [00:04<00:03, 81.60it/s]"
     ]
    },
    {
     "name": "stdout",
     "output_type": "stream",
     "text": [
      "Skipping video '66405' as landmarks file already exists.\n",
      "Skipping video '34827' as landmarks file already exists.\n",
      "Skipping video '10453' as landmarks file already exists.\n",
      "Skipping video '64306' as landmarks file already exists.\n",
      "Skipping video '52617' as landmarks file already exists.\n",
      "Skipping video '08942' as landmarks file already exists.\n",
      "Skipping video '63287' as landmarks file already exists.\n",
      "Skipping video '17091' as landmarks file already exists.\n",
      "Skipping video '28377' as landmarks file already exists.\n",
      "Skipping video '52623' as landmarks file already exists.\n",
      "Skipping video '11037' as landmarks file already exists.\n",
      "Skipping video '26946' as landmarks file already exists.\n",
      "Skipping video '14477' as landmarks file already exists.\n",
      "Skipping video '25687' as landmarks file already exists.\n",
      "Skipping video '66767' as landmarks file already exists.\n",
      "Skipping video '36791' as landmarks file already exists.\n",
      "Skipping video '46737' as landmarks file already exists.\n",
      "Skipping video '38337' as landmarks file already exists.\n"
     ]
    },
    {
     "name": "stderr",
     "output_type": "stream",
     "text": [
      "Processing videos:  60%|███████████████████████████████████                        | 357/600 [00:04<00:02, 89.98it/s]"
     ]
    },
    {
     "name": "stdout",
     "output_type": "stream",
     "text": [
      "Skipping video '66822' as landmarks file already exists.\n",
      "Skipping video '62499' as landmarks file already exists.\n",
      "Skipping video '17935' as landmarks file already exists.\n",
      "Skipping video '60571' as landmarks file already exists.\n",
      "Skipping video '28381' as landmarks file already exists.\n",
      "Skipping video '21101' as landmarks file already exists.\n",
      "Skipping video '25423' as landmarks file already exists.\n",
      "Skipping video '34832' as landmarks file already exists.\n",
      "Skipping video '24641' as landmarks file already exists.\n",
      "Skipping video '34375' as landmarks file already exists.\n",
      "Skipping video '27412' as landmarks file already exists.\n",
      "Skipping video '14188' as landmarks file already exists.\n",
      "Skipping video '33274' as landmarks file already exists.\n",
      "Skipping video '21858' as landmarks file already exists.\n",
      "Skipping video '65372' as landmarks file already exists.\n",
      "Skipping video '57973' as landmarks file already exists.\n",
      "Skipping video '19843' as landmarks file already exists.\n",
      "Skipping video '17720' as landmarks file already exists.\n",
      "Skipping video '55804' as landmarks file already exists.\n",
      "Skipping video '06933' as landmarks file already exists.\n"
     ]
    },
    {
     "name": "stderr",
     "output_type": "stream",
     "text": [
      "Processing videos:  63%|█████████████████████████████████████▏                     | 378/600 [00:05<00:02, 86.62it/s]"
     ]
    },
    {
     "name": "stdout",
     "output_type": "stream",
     "text": [
      "Skipping video '34370' as landmarks file already exists.\n",
      "Skipping video '22548' as landmarks file already exists.\n",
      "Skipping video '69258' as landmarks file already exists.\n",
      "Skipping video '34087' as landmarks file already exists.\n",
      "Skipping video '57827' as landmarks file already exists.\n",
      "Skipping video '20699' as landmarks file already exists.\n",
      "Skipping video '63280' as landmarks file already exists.\n",
      "Skipping video '40477' as landmarks file already exists.\n",
      "Skipping video '51331' as landmarks file already exists.\n",
      "Skipping video '52349' as landmarks file already exists.\n",
      "Skipping video '06839' as landmarks file already exists.\n",
      "Skipping video '22558' as landmarks file already exists.\n",
      "Skipping video '66415' as landmarks file already exists.\n",
      "Skipping video '33269' as landmarks file already exists.\n",
      "Skipping video '22996' as landmarks file already exists.\n",
      "Skipping video '10447' as landmarks file already exists.\n",
      "Skipping video '17589' as landmarks file already exists.\n",
      "Skipping video '59058' as landmarks file already exists.\n"
     ]
    },
    {
     "name": "stderr",
     "output_type": "stream",
     "text": [
      "Processing videos:  64%|██████████████████████████████████████                     | 387/600 [00:05<00:02, 82.58it/s]"
     ]
    },
    {
     "name": "stdout",
     "output_type": "stream",
     "text": [
      "Skipping video '69236' as landmarks file already exists.\n",
      "Skipping video '56557' as landmarks file already exists.\n",
      "Skipping video '26717' as landmarks file already exists.\n",
      "Skipping video '21853' as landmarks file already exists.\n",
      "Skipping video '34734' as landmarks file already exists.\n",
      "Skipping video '26710' as landmarks file already exists.\n",
      "Skipping video '24606' as landmarks file already exists.\n",
      "Skipping video '22120' as landmarks file already exists.\n",
      "Skipping video '08938' as landmarks file already exists.\n",
      "Skipping video '31749' as landmarks file already exists.\n",
      "Skipping video '52859' as landmarks file already exists.\n",
      "Skipping video '05732' as landmarks file already exists.\n",
      "Skipping video '36046' as landmarks file already exists.\n",
      "Skipping video '69460' as landmarks file already exists.\n"
     ]
    },
    {
     "name": "stderr",
     "output_type": "stream",
     "text": [
      "Processing videos:  67%|███████████████████████████████████████▋                   | 404/600 [00:05<00:02, 67.19it/s]"
     ]
    },
    {
     "name": "stdout",
     "output_type": "stream",
     "text": [
      "Skipping video '11036' as landmarks file already exists.\n",
      "Skipping video '38524' as landmarks file already exists.\n",
      "Skipping video '69206' as landmarks file already exists.\n",
      "Skipping video '21863' as landmarks file already exists.\n",
      "Skipping video '65354' as landmarks file already exists.\n",
      "Skipping video '11034' as landmarks file already exists.\n",
      "Skipping video '60907' as landmarks file already exists.\n",
      "Skipping video '58447' as landmarks file already exists.\n",
      "Skipping video '69360' as landmarks file already exists.\n",
      "Skipping video '46732' as landmarks file already exists.\n",
      "Skipping video '42961' as landmarks file already exists.\n",
      "Skipping video '52686' as landmarks file already exists.\n"
     ]
    },
    {
     "name": "stderr",
     "output_type": "stream",
     "text": [
      "Processing videos:  70%|█████████████████████████████████████████▏                 | 419/600 [00:05<00:02, 70.66it/s]"
     ]
    },
    {
     "name": "stdout",
     "output_type": "stream",
     "text": [
      "Skipping video '17933' as landmarks file already exists.\n",
      "Skipping video '46272' as landmarks file already exists.\n",
      "Skipping video '69545' as landmarks file already exists.\n",
      "Skipping video '48514' as landmarks file already exists.\n",
      "Skipping video '57826' as landmarks file already exists.\n",
      "Skipping video '17097' as landmarks file already exists.\n",
      "Skipping video '41907' as landmarks file already exists.\n",
      "Skipping video '58503' as landmarks file already exists.\n",
      "Skipping video '69213' as landmarks file already exists.\n",
      "Skipping video '48044' as landmarks file already exists.\n",
      "Skipping video '21187' as landmarks file already exists.\n",
      "Skipping video '37063' as landmarks file already exists.\n",
      "Skipping video '05638' as landmarks file already exists.\n",
      "Skipping video '63653' as landmarks file already exists.\n",
      "Skipping video '36605' as landmarks file already exists.\n"
     ]
    },
    {
     "name": "stderr",
     "output_type": "stream",
     "text": [
      "Processing videos:  71%|█████████████████████████████████████████▉                 | 427/600 [00:05<00:02, 71.25it/s]"
     ]
    },
    {
     "name": "stdout",
     "output_type": "stream",
     "text": [
      "Skipping video '42969' as landmarks file already exists.\n",
      "Skipping video '38861' as landmarks file already exists.\n",
      "Skipping video '26166' as landmarks file already exists.\n",
      "Skipping video '09235' as landmarks file already exists.\n",
      "Skipping video '45994' as landmarks file already exists.\n",
      "Skipping video '36606' as landmarks file already exists.\n",
      "Skipping video '39841' as landmarks file already exists.\n",
      "Skipping video '34578' as landmarks file already exists.\n",
      "Skipping video '56813' as landmarks file already exists.\n",
      "Skipping video '60457' as landmarks file already exists.\n",
      "Skipping video '60575' as landmarks file already exists.\n",
      "Skipping video '26714' as landmarks file already exists.\n"
     ]
    },
    {
     "name": "stderr",
     "output_type": "stream",
     "text": [
      "Processing videos:  74%|███████████████████████████████████████████▋               | 444/600 [00:06<00:02, 70.97it/s]"
     ]
    },
    {
     "name": "stdout",
     "output_type": "stream",
     "text": [
      "Skipping video '22280' as landmarks file already exists.\n",
      "Skipping video '50128' as landmarks file already exists.\n",
      "Skipping video '26773' as landmarks file already exists.\n",
      "Skipping video '03008' as landmarks file already exists.\n",
      "Skipping video '17431' as landmarks file already exists.\n",
      "Skipping video '43226' as landmarks file already exists.\n",
      "Skipping video '07937' as landmarks file already exists.\n",
      "Skipping video '41905' as landmarks file already exists.\n",
      "Skipping video '14180' as landmarks file already exists.\n",
      "Skipping video '04718' as landmarks file already exists.\n",
      "Skipping video '66656' as landmarks file already exists.\n",
      "Skipping video '17932' as landmarks file already exists.\n",
      "Skipping video '45912' as landmarks file already exists.\n",
      "Skipping video '02010' as landmarks file already exists.\n",
      "Skipping video '65721' as landmarks file already exists.\n",
      "Skipping video '08944' as landmarks file already exists.\n",
      "Skipping video '65544' as landmarks file already exists.\n",
      "Skipping video '54554' as landmarks file already exists.\n"
     ]
    },
    {
     "name": "stderr",
     "output_type": "stream",
     "text": [
      "Processing videos:  77%|█████████████████████████████████████████████▍             | 462/600 [00:06<00:01, 79.03it/s]"
     ]
    },
    {
     "name": "stdout",
     "output_type": "stream",
     "text": [
      "Skipping video '69342' as landmarks file already exists.\n",
      "Skipping video '52320' as landmarks file already exists.\n",
      "Skipping video '06787' as landmarks file already exists.\n",
      "Skipping video '63205' as landmarks file already exists.\n",
      "Skipping video '14466' as landmarks file already exists.\n",
      "Skipping video '05688' as landmarks file already exists.\n",
      "Skipping video '65073' as landmarks file already exists.\n",
      "Skipping video '06486' as landmarks file already exists.\n",
      "Skipping video '11379' as landmarks file already exists.\n",
      "Skipping video '57975' as landmarks file already exists.\n",
      "Skipping video '17951' as landmarks file already exists.\n",
      "Skipping video '38527' as landmarks file already exists.\n",
      "Skipping video '05637' as landmarks file already exists.\n",
      "Skipping video '69522' as landmarks file already exists.\n",
      "Skipping video '46268' as landmarks file already exists.\n",
      "Skipping video '13697' as landmarks file already exists.\n"
     ]
    },
    {
     "name": "stderr",
     "output_type": "stream",
     "text": [
      "Processing videos:  80%|███████████████████████████████████████████████▏           | 480/600 [00:06<00:01, 72.34it/s]"
     ]
    },
    {
     "name": "stdout",
     "output_type": "stream",
     "text": [
      "Skipping video '46276' as landmarks file already exists.\n",
      "Skipping video '44424' as landmarks file already exists.\n",
      "Skipping video '01421' as landmarks file already exists.\n",
      "Skipping video '69399' as landmarks file already exists.\n",
      "Skipping video '18779' as landmarks file already exists.\n",
      "Skipping video '17145' as landmarks file already exists.\n",
      "Skipping video '28376' as landmarks file already exists.\n",
      "Skipping video '69245' as landmarks file already exists.\n",
      "Skipping video '42225' as landmarks file already exists.\n",
      "Skipping video '09234' as landmarks file already exists.\n",
      "Skipping video '54567' as landmarks file already exists.\n",
      "Skipping video '54966' as landmarks file already exists.\n",
      "Skipping video '17828' as landmarks file already exists.\n",
      "Skipping video '58806' as landmarks file already exists.\n"
     ]
    },
    {
     "name": "stderr",
     "output_type": "stream",
     "text": [
      "Processing videos:  83%|████████████████████████████████████████████████▊          | 496/600 [00:06<00:01, 72.50it/s]"
     ]
    },
    {
     "name": "stdout",
     "output_type": "stream",
     "text": [
      "Skipping video '40469' as landmarks file already exists.\n",
      "Skipping video '22553' as landmarks file already exists.\n",
      "Skipping video '66365' as landmarks file already exists.\n",
      "Skipping video '63231' as landmarks file already exists.\n",
      "Skipping video '17930' as landmarks file already exists.\n",
      "Skipping video '65161' as landmarks file already exists.\n",
      "Skipping video '48513' as landmarks file already exists.\n",
      "Skipping video '05656' as landmarks file already exists.\n",
      "Skipping video '22098' as landmarks file already exists.\n",
      "Skipping video '25427' as landmarks file already exists.\n",
      "Skipping video '52857' as landmarks file already exists.\n",
      "Skipping video '66615' as landmarks file already exists.\n",
      "Skipping video '05596' as landmarks file already exists.\n",
      "Skipping video '63082' as landmarks file already exists.\n",
      "Skipping video '48521' as landmarks file already exists.\n",
      "Skipping video '69259' as landmarks file already exists.\n"
     ]
    },
    {
     "name": "stderr",
     "output_type": "stream",
     "text": [
      "Processing videos:  84%|█████████████████████████████████████████████████▌         | 504/600 [00:06<00:01, 70.00it/s]"
     ]
    },
    {
     "name": "stdout",
     "output_type": "stream",
     "text": [
      "Skipping video '54965' as landmarks file already exists.\n",
      "Skipping video '44426' as landmarks file already exists.\n",
      "Skipping video '46742' as landmarks file already exists.\n",
      "Skipping video '14478' as landmarks file already exists.\n",
      "Skipping video '56830' as landmarks file already exists.\n",
      "Skipping video '48974' as landmarks file already exists.\n",
      "Skipping video '36782' as landmarks file already exists.\n",
      "Skipping video '09775' as landmarks file already exists.\n",
      "Skipping video '05599' as landmarks file already exists.\n",
      "Skipping video '28739' as landmarks file already exists.\n",
      "Skipping video '38858' as landmarks file already exists.\n",
      "Skipping video '17712' as landmarks file already exists.\n",
      "Skipping video '64288' as landmarks file already exists.\n",
      "Skipping video '19845' as landmarks file already exists.\n"
     ]
    },
    {
     "name": "stderr",
     "output_type": "stream",
     "text": [
      "Processing videos:  87%|███████████████████████████████████████████████████▏       | 521/600 [00:07<00:01, 74.95it/s]"
     ]
    },
    {
     "name": "stdout",
     "output_type": "stream",
     "text": [
      "Skipping video '08935' as landmarks file already exists.\n",
      "Skipping video '58895' as landmarks file already exists.\n",
      "Skipping video '16411' as landmarks file already exists.\n",
      "Skipping video '11262' as landmarks file already exists.\n",
      "Skipping video '09851' as landmarks file already exists.\n",
      "Skipping video '21951' as landmarks file already exists.\n",
      "Skipping video '65730' as landmarks file already exists.\n",
      "Skipping video '17820' as landmarks file already exists.\n",
      "Skipping video '30832' as landmarks file already exists.\n",
      "Skipping video '43218' as landmarks file already exists.\n",
      "Skipping video '38999' as landmarks file already exists.\n",
      "Skipping video '26531' as landmarks file already exists.\n",
      "Skipping video '34733' as landmarks file already exists.\n",
      "Skipping video '22549' as landmarks file already exists.\n",
      "Skipping video '38729' as landmarks file already exists.\n",
      "Skipping video '24609' as landmarks file already exists.\n",
      "Skipping video '63208' as landmarks file already exists.\n"
     ]
    },
    {
     "name": "stderr",
     "output_type": "stream",
     "text": [
      "Processing videos:  90%|█████████████████████████████████████████████████████      | 540/600 [00:07<00:00, 82.62it/s]"
     ]
    },
    {
     "name": "stdout",
     "output_type": "stream",
     "text": [
      "Skipping video '34579' as landmarks file already exists.\n",
      "Skipping video '56972' as landmarks file already exists.\n",
      "Skipping video '54302' as landmarks file already exists.\n",
      "Skipping video '17146' as landmarks file already exists.\n",
      "Skipping video '36860' as landmarks file already exists.\n",
      "Skipping video '17144' as landmarks file already exists.\n",
      "Skipping video '65187' as landmarks file already exists.\n",
      "Skipping video '54766' as landmarks file already exists.\n",
      "Skipping video '64264' as landmarks file already exists.\n",
      "Skipping video '58445' as landmarks file already exists.\n",
      "Skipping video '19842' as landmarks file already exists.\n",
      "Skipping video '06331' as landmarks file already exists.\n",
      "Skipping video '39006' as landmarks file already exists.\n",
      "Skipping video '07462' as landmarks file already exists.\n",
      "Skipping video '11384' as landmarks file already exists.\n",
      "Skipping video '11268' as landmarks file already exists.\n",
      "Skipping video '17733' as landmarks file already exists.\n"
     ]
    },
    {
     "name": "stderr",
     "output_type": "stream",
     "text": [
      "Processing videos:  93%|██████████████████████████████████████████████████████▊    | 557/600 [00:07<00:00, 69.75it/s]"
     ]
    },
    {
     "name": "stdout",
     "output_type": "stream",
     "text": [
      "Skipping video '20633' as landmarks file already exists.\n",
      "Skipping video '02701' as landmarks file already exists.\n",
      "Skipping video '42958' as landmarks file already exists.\n",
      "Skipping video '06343' as landmarks file already exists.\n",
      "Skipping video '69330' as landmarks file already exists.\n",
      "Skipping video '38860' as landmarks file already exists.\n",
      "Skipping video '09306' as landmarks file already exists.\n",
      "Skipping video '01986' as landmarks file already exists.\n",
      "Skipping video '65485' as landmarks file already exists.\n",
      "Skipping video '54555' as landmarks file already exists.\n",
      "Skipping video '69311' as landmarks file already exists.\n",
      "Skipping video '28116' as landmarks file already exists.\n",
      "Skipping video '05727' as landmarks file already exists.\n",
      "Skipping video '65179' as landmarks file already exists.\n"
     ]
    },
    {
     "name": "stderr",
     "output_type": "stream",
     "text": [
      "Processing videos:  94%|███████████████████████████████████████████████████████▌   | 565/600 [00:07<00:00, 70.40it/s]"
     ]
    },
    {
     "name": "stdout",
     "output_type": "stream",
     "text": [
      "Skipping video '66599' as landmarks file already exists.\n",
      "Skipping video '65850' as landmarks file already exists.\n",
      "Skipping video '24607' as landmarks file already exists.\n",
      "Skipping video '27376' as landmarks file already exists.\n",
      "Skipping video '05636' as landmarks file already exists.\n",
      "Skipping video '14175' as landmarks file already exists.\n",
      "Skipping video '65079' as landmarks file already exists.\n",
      "Skipping video '36050' as landmarks file already exists.\n",
      "Skipping video '66778' as landmarks file already exists.\n",
      "Skipping video '65685' as landmarks file already exists.\n",
      "Skipping video '64291' as landmarks file already exists.\n",
      "Skipping video '51061' as landmarks file already exists.\n",
      "Skipping video '38336' as landmarks file already exists.\n",
      "Skipping video '58450' as landmarks file already exists.\n",
      "Skipping video '14451' as landmarks file already exists.\n",
      "Skipping video '16407' as landmarks file already exists.\n"
     ]
    },
    {
     "name": "stderr",
     "output_type": "stream",
     "text": [
      "Processing videos:  97%|█████████████████████████████████████████████████████████▎ | 583/600 [00:07<00:00, 74.28it/s]"
     ]
    },
    {
     "name": "stdout",
     "output_type": "stream",
     "text": [
      "Skipping video '52317' as landmarks file already exists.\n",
      "Skipping video '32323' as landmarks file already exists.\n",
      "Skipping video '11287' as landmarks file already exists.\n",
      "Skipping video '66098' as landmarks file already exists.\n",
      "Skipping video '39626' as landmarks file already exists.\n",
      "Skipping video '14183' as landmarks file already exists.\n",
      "Skipping video '42977' as landmarks file already exists.\n",
      "Skipping video '63285' as landmarks file already exists.\n",
      "Skipping video '19057' as landmarks file already exists.\n",
      "Skipping video '27151' as landmarks file already exists.\n",
      "Skipping video '55808' as landmarks file already exists.\n",
      "Skipping video '09525' as landmarks file already exists.\n",
      "Skipping video '21099' as landmarks file already exists.\n",
      "Skipping video '24946' as landmarks file already exists.\n",
      "Skipping video '38868' as landmarks file already exists.\n"
     ]
    },
    {
     "name": "stderr",
     "output_type": "stream",
     "text": [
      "Processing videos: 100%|███████████████████████████████████████████████████████████| 600/600 [00:08<00:00, 73.19it/s]"
     ]
    },
    {
     "name": "stdout",
     "output_type": "stream",
     "text": [
      "Skipping video '28109' as landmarks file already exists.\n",
      "Skipping video '65164' as landmarks file already exists.\n",
      "Skipping video '51056' as landmarks file already exists.\n",
      "Skipping video '58452' as landmarks file already exists.\n",
      "Skipping video '33268' as landmarks file already exists.\n",
      "Skipping video '65506' as landmarks file already exists.\n",
      "Skipping video '22094' as landmarks file already exists.\n",
      "Skipping video '57677' as landmarks file already exists.\n",
      "Skipping video '05740' as landmarks file already exists.\n",
      "Skipping video '26767' as landmarks file already exists.\n",
      "Skipping video '52318' as landmarks file already exists.\n"
     ]
    },
    {
     "name": "stderr",
     "output_type": "stream",
     "text": [
      "\n"
     ]
    }
   ],
   "source": [
    "process_video_sequential(test_videos.video_path)"
   ]
  },
  {
   "cell_type": "code",
   "execution_count": 16,
   "id": "3357d085-aebc-4704-9bdf-2d71704742e1",
   "metadata": {
    "execution": {
     "iopub.execute_input": "2024-03-28T08:18:09.250939Z",
     "iopub.status.busy": "2024-03-28T08:18:09.249789Z",
     "iopub.status.idle": "2024-03-28T08:18:09.357383Z",
     "shell.execute_reply": "2024-03-28T08:18:09.355201Z",
     "shell.execute_reply.started": "2024-03-28T08:18:09.250889Z"
    },
    "tags": []
   },
   "outputs": [
    {
     "data": {
      "text/html": [
       "<div>\n",
       "<style scoped>\n",
       "    .dataframe tbody tr th:only-of-type {\n",
       "        vertical-align: middle;\n",
       "    }\n",
       "\n",
       "    .dataframe tbody tr th {\n",
       "        vertical-align: top;\n",
       "    }\n",
       "\n",
       "    .dataframe thead th {\n",
       "        text-align: right;\n",
       "    }\n",
       "</style>\n",
       "<table border=\"1\" class=\"dataframe\">\n",
       "  <thead>\n",
       "    <tr style=\"text-align: right;\">\n",
       "      <th></th>\n",
       "      <th>sign</th>\n",
       "      <th>bbox</th>\n",
       "      <th>fps</th>\n",
       "      <th>frame_end</th>\n",
       "      <th>frame_start</th>\n",
       "      <th>instance_id</th>\n",
       "      <th>signer_id</th>\n",
       "      <th>source</th>\n",
       "      <th>split</th>\n",
       "      <th>url</th>\n",
       "      <th>variation_id</th>\n",
       "      <th>video_id</th>\n",
       "      <th>video_path</th>\n",
       "      <th>json_path</th>\n",
       "    </tr>\n",
       "  </thead>\n",
       "  <tbody>\n",
       "    <tr>\n",
       "      <th>1125</th>\n",
       "      <td>on</td>\n",
       "      <td>[29, 0, 267, 240]</td>\n",
       "      <td>25</td>\n",
       "      <td>-1</td>\n",
       "      <td>1</td>\n",
       "      <td>3</td>\n",
       "      <td>37</td>\n",
       "      <td>spreadthesign</td>\n",
       "      <td>train</td>\n",
       "      <td>https://media.spreadthesign.com/video/mp4/13/4...</td>\n",
       "      <td>0</td>\n",
       "      <td>39839</td>\n",
       "      <td>/home/bfrisque/code/benoitfrisque/signlens/raw...</td>\n",
       "      <td>/home/bfrisque/code/benoitfrisque/signlens/pro...</td>\n",
       "    </tr>\n",
       "    <tr>\n",
       "      <th>184</th>\n",
       "      <td>white</td>\n",
       "      <td>[183, 52, 544, 400]</td>\n",
       "      <td>25</td>\n",
       "      <td>-1</td>\n",
       "      <td>1</td>\n",
       "      <td>16</td>\n",
       "      <td>12</td>\n",
       "      <td>aslsearch</td>\n",
       "      <td>train</td>\n",
       "      <td>http://www.aslsearch.com/signs/videos/white.mp4</td>\n",
       "      <td>0</td>\n",
       "      <td>63214</td>\n",
       "      <td>/home/bfrisque/code/benoitfrisque/signlens/raw...</td>\n",
       "      <td>/home/bfrisque/code/benoitfrisque/signlens/pro...</td>\n",
       "    </tr>\n",
       "    <tr>\n",
       "      <th>1226</th>\n",
       "      <td>water</td>\n",
       "      <td>[89, 22, 204, 192]</td>\n",
       "      <td>25</td>\n",
       "      <td>-1</td>\n",
       "      <td>1</td>\n",
       "      <td>6</td>\n",
       "      <td>10</td>\n",
       "      <td>signingsavvy</td>\n",
       "      <td>train</td>\n",
       "      <td>https://www.signingsavvy.com/signs/mp4/22/2297...</td>\n",
       "      <td>0</td>\n",
       "      <td>62506</td>\n",
       "      <td>/home/bfrisque/code/benoitfrisque/signlens/raw...</td>\n",
       "      <td>/home/bfrisque/code/benoitfrisque/signlens/pro...</td>\n",
       "    </tr>\n",
       "    <tr>\n",
       "      <th>67</th>\n",
       "      <td>jump</td>\n",
       "      <td>[167, 16, 480, 370]</td>\n",
       "      <td>25</td>\n",
       "      <td>-1</td>\n",
       "      <td>1</td>\n",
       "      <td>1</td>\n",
       "      <td>90</td>\n",
       "      <td>aslsignbank</td>\n",
       "      <td>train</td>\n",
       "      <td>https://aslsignbank.haskins.yale.edu/dictionar...</td>\n",
       "      <td>0</td>\n",
       "      <td>65983</td>\n",
       "      <td>/home/bfrisque/code/benoitfrisque/signlens/raw...</td>\n",
       "      <td>/home/bfrisque/code/benoitfrisque/signlens/pro...</td>\n",
       "    </tr>\n",
       "    <tr>\n",
       "      <th>220</th>\n",
       "      <td>yes</td>\n",
       "      <td>[168, 14, 461, 370]</td>\n",
       "      <td>25</td>\n",
       "      <td>-1</td>\n",
       "      <td>1</td>\n",
       "      <td>13</td>\n",
       "      <td>88</td>\n",
       "      <td>aslsignbank</td>\n",
       "      <td>train</td>\n",
       "      <td>https://aslsignbank.haskins.yale.edu/dictionar...</td>\n",
       "      <td>0</td>\n",
       "      <td>66820</td>\n",
       "      <td>/home/bfrisque/code/benoitfrisque/signlens/raw...</td>\n",
       "      <td>/home/bfrisque/code/benoitfrisque/signlens/pro...</td>\n",
       "    </tr>\n",
       "  </tbody>\n",
       "</table>\n",
       "</div>"
      ],
      "text/plain": [
       "       sign                 bbox  fps  frame_end  frame_start  instance_id  \\\n",
       "1125     on    [29, 0, 267, 240]   25         -1            1            3   \n",
       "184   white  [183, 52, 544, 400]   25         -1            1           16   \n",
       "1226  water   [89, 22, 204, 192]   25         -1            1            6   \n",
       "67     jump  [167, 16, 480, 370]   25         -1            1            1   \n",
       "220     yes  [168, 14, 461, 370]   25         -1            1           13   \n",
       "\n",
       "      signer_id         source  split  \\\n",
       "1125         37  spreadthesign  train   \n",
       "184          12      aslsearch  train   \n",
       "1226         10   signingsavvy  train   \n",
       "67           90    aslsignbank  train   \n",
       "220          88    aslsignbank  train   \n",
       "\n",
       "                                                    url  variation_id  \\\n",
       "1125  https://media.spreadthesign.com/video/mp4/13/4...             0   \n",
       "184     http://www.aslsearch.com/signs/videos/white.mp4             0   \n",
       "1226  https://www.signingsavvy.com/signs/mp4/22/2297...             0   \n",
       "67    https://aslsignbank.haskins.yale.edu/dictionar...             0   \n",
       "220   https://aslsignbank.haskins.yale.edu/dictionar...             0   \n",
       "\n",
       "     video_id                                         video_path  \\\n",
       "1125    39839  /home/bfrisque/code/benoitfrisque/signlens/raw...   \n",
       "184     63214  /home/bfrisque/code/benoitfrisque/signlens/raw...   \n",
       "1226    62506  /home/bfrisque/code/benoitfrisque/signlens/raw...   \n",
       "67      65983  /home/bfrisque/code/benoitfrisque/signlens/raw...   \n",
       "220     66820  /home/bfrisque/code/benoitfrisque/signlens/raw...   \n",
       "\n",
       "                                              json_path  \n",
       "1125  /home/bfrisque/code/benoitfrisque/signlens/pro...  \n",
       "184   /home/bfrisque/code/benoitfrisque/signlens/pro...  \n",
       "1226  /home/bfrisque/code/benoitfrisque/signlens/pro...  \n",
       "67    /home/bfrisque/code/benoitfrisque/signlens/pro...  \n",
       "220   /home/bfrisque/code/benoitfrisque/signlens/pro...  "
      ]
     },
     "execution_count": 16,
     "metadata": {},
     "output_type": "execute_result"
    }
   ],
   "source": [
    "# create json_path column\n",
    "test_videos['json_path'] = test_videos['video_path'].apply(lambda x: os.path.join(LANDMARKS_VIDEO_DIR, f'{os.path.splitext(os.path.basename(x))[0]}_landmarks.json'))\n",
    "test_videos.head()"
   ]
  },
  {
   "cell_type": "markdown",
   "id": "e3e145d4-7d3f-4bab-b232-09880312f456",
   "metadata": {},
   "source": [
    "### Preprocess json"
   ]
  },
  {
   "cell_type": "code",
   "execution_count": 17,
   "id": "239532d4-2b96-40fe-a29d-ea8c46d6e7e8",
   "metadata": {
    "execution": {
     "iopub.execute_input": "2024-03-28T08:18:09.360938Z",
     "iopub.status.busy": "2024-03-28T08:18:09.360210Z",
     "iopub.status.idle": "2024-03-28T08:18:09.474090Z",
     "shell.execute_reply": "2024-03-28T08:18:09.472179Z",
     "shell.execute_reply.started": "2024-03-28T08:18:09.360847Z"
    },
    "tags": []
   },
   "outputs": [],
   "source": [
    "json_path = test_videos.json_path.iloc[0]\n",
    "\n",
    "with open(json_path) as f:\n",
    "    json_data = json.load(f)\n",
    "\n",
    "data_processed_tf = preprocess_data_from_json_data(json_data)"
   ]
  },
  {
   "cell_type": "code",
   "execution_count": 18,
   "id": "5c9a17e9-16ba-4aec-bc24-5ed1a815d0d2",
   "metadata": {
    "execution": {
     "iopub.execute_input": "2024-03-28T08:18:09.476898Z",
     "iopub.status.busy": "2024-03-28T08:18:09.476396Z",
     "iopub.status.idle": "2024-03-28T08:18:30.087119Z",
     "shell.execute_reply": "2024-03-28T08:18:30.085645Z",
     "shell.execute_reply.started": "2024-03-28T08:18:09.476852Z"
    },
    "tags": []
   },
   "outputs": [
    {
     "name": "stderr",
     "output_type": "stream",
     "text": [
      "100%|██████████████████████████████████████████████████████████████████████████████| 600/600 [00:20<00:00, 29.29it/s]\n"
     ]
    }
   ],
   "source": [
    "# Initialize an empty list to store processed data\n",
    "processed_data_list = []\n",
    "\n",
    "# Assuming test_videos is a DataFrame with column json_path\n",
    "for json_path in tqdm(test_videos['json_path']):\n",
    "    with open(json_path) as f:\n",
    "        json_data = json.load(f)\n",
    "\n",
    "    data_processed_tf = preprocess_data_from_json_data(json_data)\n",
    "    processed_data_list.append(data_processed_tf)\n",
    "\n",
    "X_test_videos = tf.concat(processed_data_list, axis=0)\n"
   ]
  },
  {
   "cell_type": "markdown",
   "id": "729b81db-48ea-4b3f-9a45-c1b0de5c2a1a",
   "metadata": {},
   "source": [
    "### Model prediction"
   ]
  },
  {
   "cell_type": "code",
   "execution_count": 19,
   "id": "8112f056-0765-40c5-8263-a7a86e9c2a6d",
   "metadata": {
    "execution": {
     "iopub.execute_input": "2024-03-28T08:18:30.089565Z",
     "iopub.status.busy": "2024-03-28T08:18:30.089099Z",
     "iopub.status.idle": "2024-03-28T08:18:30.159045Z",
     "shell.execute_reply": "2024-03-28T08:18:30.157358Z",
     "shell.execute_reply.started": "2024-03-28T08:18:30.089510Z"
    },
    "tags": []
   },
   "outputs": [],
   "source": [
    "y_test_videos = encode_labels(test_videos.sign)"
   ]
  },
  {
   "cell_type": "code",
   "execution_count": 20,
   "id": "8b3bff35-6914-4bb2-b24a-9d575868a6e2",
   "metadata": {
    "execution": {
     "iopub.execute_input": "2024-03-28T08:18:30.162144Z",
     "iopub.status.busy": "2024-03-28T08:18:30.161102Z",
     "iopub.status.idle": "2024-03-28T08:18:30.232395Z",
     "shell.execute_reply": "2024-03-28T08:18:30.230611Z",
     "shell.execute_reply.started": "2024-03-28T08:18:30.162079Z"
    },
    "tags": []
   },
   "outputs": [
    {
     "data": {
      "text/plain": [
       "1125        on\n",
       "184      white\n",
       "1226     water\n",
       "67        jump\n",
       "220        yes\n",
       "         ...  \n",
       "594      first\n",
       "858       that\n",
       "741     before\n",
       "1197      have\n",
       "601      sleep\n",
       "Name: sign, Length: 600, dtype: object"
      ]
     },
     "execution_count": 20,
     "metadata": {},
     "output_type": "execute_result"
    }
   ],
   "source": [
    "test_videos.sign"
   ]
  },
  {
   "cell_type": "code",
   "execution_count": 21,
   "id": "2b4a0e4f-1c85-4477-a9ae-6dc0756577d3",
   "metadata": {
    "execution": {
     "iopub.execute_input": "2024-03-28T08:18:30.236347Z",
     "iopub.status.busy": "2024-03-28T08:18:30.234534Z",
     "iopub.status.idle": "2024-03-28T08:18:30.300896Z",
     "shell.execute_reply": "2024-03-28T08:18:30.299019Z",
     "shell.execute_reply.started": "2024-03-28T08:18:30.236296Z"
    },
    "tags": []
   },
   "outputs": [
    {
     "data": {
      "text/plain": [
       "(600, 250)"
      ]
     },
     "execution_count": 21,
     "metadata": {},
     "output_type": "execute_result"
    }
   ],
   "source": [
    "y_test_videos.shape"
   ]
  },
  {
   "cell_type": "code",
   "execution_count": 22,
   "id": "850bba24-5bd5-40e2-84ec-91aa014a893a",
   "metadata": {
    "execution": {
     "iopub.execute_input": "2024-03-28T08:18:30.311704Z",
     "iopub.status.busy": "2024-03-28T08:18:30.311156Z",
     "iopub.status.idle": "2024-03-28T08:18:35.667881Z",
     "shell.execute_reply": "2024-03-28T08:18:35.665304Z",
     "shell.execute_reply.started": "2024-03-28T08:18:30.311656Z"
    },
    "tags": []
   },
   "outputs": [
    {
     "name": "stdout",
     "output_type": "stream",
     "text": [
      "\u001b[34m\n",
      "Evaluating model on 600 rows...\u001b[0m\n",
      "✅ Model evaluated, accuracy: 21.5%\n"
     ]
    },
    {
     "data": {
      "text/plain": [
       "{'accuracy': 0.2150000035762787, 'loss': 7.896070957183838}"
      ]
     },
     "execution_count": 22,
     "metadata": {},
     "output_type": "execute_result"
    }
   ],
   "source": [
    "evaluate_model(model, X_test_videos, y_test_videos)"
   ]
  },
  {
   "cell_type": "markdown",
   "id": "61b8b162-3230-47ef-a400-758a045eb111",
   "metadata": {},
   "source": [
    "### Second trial of preprocessing\n"
   ]
  },
  {
   "cell_type": "markdown",
   "id": "6b4ba684-4f00-49b7-9da2-72810fca3095",
   "metadata": {
    "tags": []
   },
   "source": [
    "#### From parquet"
   ]
  },
  {
   "cell_type": "code",
   "execution_count": 23,
   "id": "cf71d6d2-ffac-476a-b9e1-fde54944e1c6",
   "metadata": {
    "execution": {
     "iopub.execute_input": "2024-03-28T08:18:35.673193Z",
     "iopub.status.busy": "2024-03-28T08:18:35.671599Z",
     "iopub.status.idle": "2024-03-28T08:18:35.775256Z",
     "shell.execute_reply": "2024-03-28T08:18:35.771973Z",
     "shell.execute_reply.started": "2024-03-28T08:18:35.673122Z"
    },
    "tags": []
   },
   "outputs": [
    {
     "data": {
      "text/plain": [
       "'/home/bfrisque/code/benoitfrisque/signlens/raw_data/asl-signs/train_landmark_files_noface/55372/964553686.parquet'"
      ]
     },
     "execution_count": 23,
     "metadata": {},
     "output_type": "execute_result"
    }
   ],
   "source": [
    "X_test_files.loc[0]"
   ]
  },
  {
   "cell_type": "code",
   "execution_count": 24,
   "id": "eff6057c-5378-4888-b21d-8f313529a85b",
   "metadata": {
    "execution": {
     "iopub.execute_input": "2024-03-28T08:18:35.782113Z",
     "iopub.status.busy": "2024-03-28T08:18:35.779142Z",
     "iopub.status.idle": "2024-03-28T08:18:35.962694Z",
     "shell.execute_reply": "2024-03-28T08:18:35.960335Z",
     "shell.execute_reply.started": "2024-03-28T08:18:35.782043Z"
    },
    "tags": []
   },
   "outputs": [
    {
     "data": {
      "text/html": [
       "<div>\n",
       "<style scoped>\n",
       "    .dataframe tbody tr th:only-of-type {\n",
       "        vertical-align: middle;\n",
       "    }\n",
       "\n",
       "    .dataframe tbody tr th {\n",
       "        vertical-align: top;\n",
       "    }\n",
       "\n",
       "    .dataframe thead th {\n",
       "        text-align: right;\n",
       "    }\n",
       "</style>\n",
       "<table border=\"1\" class=\"dataframe\">\n",
       "  <thead>\n",
       "    <tr style=\"text-align: right;\">\n",
       "      <th></th>\n",
       "      <th>frame</th>\n",
       "      <th>row_id</th>\n",
       "      <th>type</th>\n",
       "      <th>landmark_index</th>\n",
       "      <th>x</th>\n",
       "      <th>y</th>\n",
       "      <th>z</th>\n",
       "    </tr>\n",
       "  </thead>\n",
       "  <tbody>\n",
       "    <tr>\n",
       "      <th>468</th>\n",
       "      <td>97</td>\n",
       "      <td>97-left_hand-0</td>\n",
       "      <td>left_hand</td>\n",
       "      <td>0</td>\n",
       "      <td>0.753712</td>\n",
       "      <td>0.440771</td>\n",
       "      <td>-3.072535e-07</td>\n",
       "    </tr>\n",
       "    <tr>\n",
       "      <th>469</th>\n",
       "      <td>97</td>\n",
       "      <td>97-left_hand-1</td>\n",
       "      <td>left_hand</td>\n",
       "      <td>1</td>\n",
       "      <td>0.710808</td>\n",
       "      <td>0.387376</td>\n",
       "      <td>1.541814e-02</td>\n",
       "    </tr>\n",
       "    <tr>\n",
       "      <th>470</th>\n",
       "      <td>97</td>\n",
       "      <td>97-left_hand-2</td>\n",
       "      <td>left_hand</td>\n",
       "      <td>2</td>\n",
       "      <td>0.684510</td>\n",
       "      <td>0.326742</td>\n",
       "      <td>5.668570e-03</td>\n",
       "    </tr>\n",
       "    <tr>\n",
       "      <th>471</th>\n",
       "      <td>97</td>\n",
       "      <td>97-left_hand-3</td>\n",
       "      <td>left_hand</td>\n",
       "      <td>3</td>\n",
       "      <td>0.661984</td>\n",
       "      <td>0.284918</td>\n",
       "      <td>-9.025068e-03</td>\n",
       "    </tr>\n",
       "    <tr>\n",
       "      <th>472</th>\n",
       "      <td>97</td>\n",
       "      <td>97-left_hand-4</td>\n",
       "      <td>left_hand</td>\n",
       "      <td>4</td>\n",
       "      <td>0.633150</td>\n",
       "      <td>0.261813</td>\n",
       "      <td>-2.736259e-02</td>\n",
       "    </tr>\n",
       "    <tr>\n",
       "      <th>...</th>\n",
       "      <td>...</td>\n",
       "      <td>...</td>\n",
       "      <td>...</td>\n",
       "      <td>...</td>\n",
       "      <td>...</td>\n",
       "      <td>...</td>\n",
       "      <td>...</td>\n",
       "    </tr>\n",
       "    <tr>\n",
       "      <th>15199</th>\n",
       "      <td>124</td>\n",
       "      <td>124-right_hand-16</td>\n",
       "      <td>right_hand</td>\n",
       "      <td>16</td>\n",
       "      <td>NaN</td>\n",
       "      <td>NaN</td>\n",
       "      <td>NaN</td>\n",
       "    </tr>\n",
       "    <tr>\n",
       "      <th>15200</th>\n",
       "      <td>124</td>\n",
       "      <td>124-right_hand-17</td>\n",
       "      <td>right_hand</td>\n",
       "      <td>17</td>\n",
       "      <td>NaN</td>\n",
       "      <td>NaN</td>\n",
       "      <td>NaN</td>\n",
       "    </tr>\n",
       "    <tr>\n",
       "      <th>15201</th>\n",
       "      <td>124</td>\n",
       "      <td>124-right_hand-18</td>\n",
       "      <td>right_hand</td>\n",
       "      <td>18</td>\n",
       "      <td>NaN</td>\n",
       "      <td>NaN</td>\n",
       "      <td>NaN</td>\n",
       "    </tr>\n",
       "    <tr>\n",
       "      <th>15202</th>\n",
       "      <td>124</td>\n",
       "      <td>124-right_hand-19</td>\n",
       "      <td>right_hand</td>\n",
       "      <td>19</td>\n",
       "      <td>NaN</td>\n",
       "      <td>NaN</td>\n",
       "      <td>NaN</td>\n",
       "    </tr>\n",
       "    <tr>\n",
       "      <th>15203</th>\n",
       "      <td>124</td>\n",
       "      <td>124-right_hand-20</td>\n",
       "      <td>right_hand</td>\n",
       "      <td>20</td>\n",
       "      <td>NaN</td>\n",
       "      <td>NaN</td>\n",
       "      <td>NaN</td>\n",
       "    </tr>\n",
       "  </tbody>\n",
       "</table>\n",
       "<p>2100 rows × 7 columns</p>\n",
       "</div>"
      ],
      "text/plain": [
       "       frame             row_id        type  landmark_index         x  \\\n",
       "468       97     97-left_hand-0   left_hand               0  0.753712   \n",
       "469       97     97-left_hand-1   left_hand               1  0.710808   \n",
       "470       97     97-left_hand-2   left_hand               2  0.684510   \n",
       "471       97     97-left_hand-3   left_hand               3  0.661984   \n",
       "472       97     97-left_hand-4   left_hand               4  0.633150   \n",
       "...      ...                ...         ...             ...       ...   \n",
       "15199    124  124-right_hand-16  right_hand              16       NaN   \n",
       "15200    124  124-right_hand-17  right_hand              17       NaN   \n",
       "15201    124  124-right_hand-18  right_hand              18       NaN   \n",
       "15202    124  124-right_hand-19  right_hand              19       NaN   \n",
       "15203    124  124-right_hand-20  right_hand              20       NaN   \n",
       "\n",
       "              y             z  \n",
       "468    0.440771 -3.072535e-07  \n",
       "469    0.387376  1.541814e-02  \n",
       "470    0.326742  5.668570e-03  \n",
       "471    0.284918 -9.025068e-03  \n",
       "472    0.261813 -2.736259e-02  \n",
       "...         ...           ...  \n",
       "15199       NaN           NaN  \n",
       "15200       NaN           NaN  \n",
       "15201       NaN           NaN  \n",
       "15202       NaN           NaN  \n",
       "15203       NaN           NaN  \n",
       "\n",
       "[2100 rows x 7 columns]"
      ]
     },
     "execution_count": 24,
     "metadata": {},
     "output_type": "execute_result"
    }
   ],
   "source": [
    "pq_df = pd.read_parquet(X_test_files.loc[0])\n",
    "pq_df"
   ]
  },
  {
   "cell_type": "code",
   "execution_count": 25,
   "id": "cb74999a-8ce7-4bdf-b4aa-efd9b482dd55",
   "metadata": {
    "execution": {
     "iopub.execute_input": "2024-03-28T08:18:35.967471Z",
     "iopub.status.busy": "2024-03-28T08:18:35.965690Z",
     "iopub.status.idle": "2024-03-28T08:18:36.080099Z",
     "shell.execute_reply": "2024-03-28T08:18:36.077515Z",
     "shell.execute_reply.started": "2024-03-28T08:18:35.967364Z"
    }
   },
   "outputs": [
    {
     "data": {
      "text/html": [
       "<div>\n",
       "<style scoped>\n",
       "    .dataframe tbody tr th:only-of-type {\n",
       "        vertical-align: middle;\n",
       "    }\n",
       "\n",
       "    .dataframe tbody tr th {\n",
       "        vertical-align: top;\n",
       "    }\n",
       "\n",
       "    .dataframe thead th {\n",
       "        text-align: right;\n",
       "    }\n",
       "</style>\n",
       "<table border=\"1\" class=\"dataframe\">\n",
       "  <thead>\n",
       "    <tr style=\"text-align: right;\">\n",
       "      <th></th>\n",
       "      <th>frame</th>\n",
       "      <th>row_id</th>\n",
       "      <th>type</th>\n",
       "      <th>landmark_index</th>\n",
       "      <th>x</th>\n",
       "      <th>y</th>\n",
       "      <th>z</th>\n",
       "    </tr>\n",
       "  </thead>\n",
       "  <tbody>\n",
       "    <tr>\n",
       "      <th>489</th>\n",
       "      <td>97</td>\n",
       "      <td>97-pose-0</td>\n",
       "      <td>pose</td>\n",
       "      <td>0</td>\n",
       "      <td>0.486289</td>\n",
       "      <td>0.378977</td>\n",
       "      <td>-1.222383</td>\n",
       "    </tr>\n",
       "    <tr>\n",
       "      <th>490</th>\n",
       "      <td>97</td>\n",
       "      <td>97-pose-1</td>\n",
       "      <td>pose</td>\n",
       "      <td>1</td>\n",
       "      <td>0.515095</td>\n",
       "      <td>0.311778</td>\n",
       "      <td>-1.133345</td>\n",
       "    </tr>\n",
       "    <tr>\n",
       "      <th>491</th>\n",
       "      <td>97</td>\n",
       "      <td>97-pose-2</td>\n",
       "      <td>pose</td>\n",
       "      <td>2</td>\n",
       "      <td>0.539201</td>\n",
       "      <td>0.312966</td>\n",
       "      <td>-1.132728</td>\n",
       "    </tr>\n",
       "    <tr>\n",
       "      <th>492</th>\n",
       "      <td>97</td>\n",
       "      <td>97-pose-3</td>\n",
       "      <td>pose</td>\n",
       "      <td>3</td>\n",
       "      <td>0.562195</td>\n",
       "      <td>0.314196</td>\n",
       "      <td>-1.132530</td>\n",
       "    </tr>\n",
       "    <tr>\n",
       "      <th>493</th>\n",
       "      <td>97</td>\n",
       "      <td>97-pose-4</td>\n",
       "      <td>pose</td>\n",
       "      <td>4</td>\n",
       "      <td>0.438257</td>\n",
       "      <td>0.307604</td>\n",
       "      <td>-1.181726</td>\n",
       "    </tr>\n",
       "    <tr>\n",
       "      <th>...</th>\n",
       "      <td>...</td>\n",
       "      <td>...</td>\n",
       "      <td>...</td>\n",
       "      <td>...</td>\n",
       "      <td>...</td>\n",
       "      <td>...</td>\n",
       "      <td>...</td>\n",
       "    </tr>\n",
       "    <tr>\n",
       "      <th>15178</th>\n",
       "      <td>124</td>\n",
       "      <td>124-pose-28</td>\n",
       "      <td>pose</td>\n",
       "      <td>28</td>\n",
       "      <td>0.274367</td>\n",
       "      <td>2.496219</td>\n",
       "      <td>1.476208</td>\n",
       "    </tr>\n",
       "    <tr>\n",
       "      <th>15179</th>\n",
       "      <td>124</td>\n",
       "      <td>124-pose-29</td>\n",
       "      <td>pose</td>\n",
       "      <td>29</td>\n",
       "      <td>0.690214</td>\n",
       "      <td>2.568291</td>\n",
       "      <td>1.342841</td>\n",
       "    </tr>\n",
       "    <tr>\n",
       "      <th>15180</th>\n",
       "      <td>124</td>\n",
       "      <td>124-pose-30</td>\n",
       "      <td>pose</td>\n",
       "      <td>30</td>\n",
       "      <td>0.257715</td>\n",
       "      <td>2.570974</td>\n",
       "      <td>1.555213</td>\n",
       "    </tr>\n",
       "    <tr>\n",
       "      <th>15181</th>\n",
       "      <td>124</td>\n",
       "      <td>124-pose-31</td>\n",
       "      <td>pose</td>\n",
       "      <td>31</td>\n",
       "      <td>0.662896</td>\n",
       "      <td>2.661493</td>\n",
       "      <td>0.384620</td>\n",
       "    </tr>\n",
       "    <tr>\n",
       "      <th>15182</th>\n",
       "      <td>124</td>\n",
       "      <td>124-pose-32</td>\n",
       "      <td>pose</td>\n",
       "      <td>32</td>\n",
       "      <td>0.385328</td>\n",
       "      <td>2.658655</td>\n",
       "      <td>0.532984</td>\n",
       "    </tr>\n",
       "  </tbody>\n",
       "</table>\n",
       "<p>924 rows × 7 columns</p>\n",
       "</div>"
      ],
      "text/plain": [
       "       frame       row_id  type  landmark_index         x         y         z\n",
       "489       97    97-pose-0  pose               0  0.486289  0.378977 -1.222383\n",
       "490       97    97-pose-1  pose               1  0.515095  0.311778 -1.133345\n",
       "491       97    97-pose-2  pose               2  0.539201  0.312966 -1.132728\n",
       "492       97    97-pose-3  pose               3  0.562195  0.314196 -1.132530\n",
       "493       97    97-pose-4  pose               4  0.438257  0.307604 -1.181726\n",
       "...      ...          ...   ...             ...       ...       ...       ...\n",
       "15178    124  124-pose-28  pose              28  0.274367  2.496219  1.476208\n",
       "15179    124  124-pose-29  pose              29  0.690214  2.568291  1.342841\n",
       "15180    124  124-pose-30  pose              30  0.257715  2.570974  1.555213\n",
       "15181    124  124-pose-31  pose              31  0.662896  2.661493  0.384620\n",
       "15182    124  124-pose-32  pose              32  0.385328  2.658655  0.532984\n",
       "\n",
       "[924 rows x 7 columns]"
      ]
     },
     "execution_count": 25,
     "metadata": {},
     "output_type": "execute_result"
    }
   ],
   "source": [
    "pq_df[pq_df.type=='pose']"
   ]
  },
  {
   "cell_type": "code",
   "execution_count": 26,
   "id": "c83dbd35-c3ee-4489-a1ec-1c71be6f9ca1",
   "metadata": {
    "execution": {
     "iopub.execute_input": "2024-03-28T08:18:36.083424Z",
     "iopub.status.busy": "2024-03-28T08:18:36.082853Z",
     "iopub.status.idle": "2024-03-28T08:18:36.196472Z",
     "shell.execute_reply": "2024-03-28T08:18:36.194245Z",
     "shell.execute_reply.started": "2024-03-28T08:18:36.083371Z"
    }
   },
   "outputs": [
    {
     "data": {
      "text/html": [
       "<div>\n",
       "<style scoped>\n",
       "    .dataframe tbody tr th:only-of-type {\n",
       "        vertical-align: middle;\n",
       "    }\n",
       "\n",
       "    .dataframe tbody tr th {\n",
       "        vertical-align: top;\n",
       "    }\n",
       "\n",
       "    .dataframe thead th {\n",
       "        text-align: right;\n",
       "    }\n",
       "</style>\n",
       "<table border=\"1\" class=\"dataframe\">\n",
       "  <thead>\n",
       "    <tr style=\"text-align: right;\">\n",
       "      <th></th>\n",
       "      <th>frame</th>\n",
       "      <th>landmark_index</th>\n",
       "      <th>x</th>\n",
       "      <th>y</th>\n",
       "      <th>z</th>\n",
       "    </tr>\n",
       "  </thead>\n",
       "  <tbody>\n",
       "    <tr>\n",
       "      <th>count</th>\n",
       "      <td>2100.000000</td>\n",
       "      <td>2100.000000</td>\n",
       "      <td>1449.000000</td>\n",
       "      <td>1449.000000</td>\n",
       "      <td>1449.000000</td>\n",
       "    </tr>\n",
       "    <tr>\n",
       "      <th>mean</th>\n",
       "      <td>110.500000</td>\n",
       "      <td>12.640000</td>\n",
       "      <td>0.520995</td>\n",
       "      <td>0.810090</td>\n",
       "      <td>-0.323313</td>\n",
       "    </tr>\n",
       "    <tr>\n",
       "      <th>std</th>\n",
       "      <td>8.079671</td>\n",
       "      <td>8.326469</td>\n",
       "      <td>0.242960</td>\n",
       "      <td>0.778027</td>\n",
       "      <td>0.668098</td>\n",
       "    </tr>\n",
       "    <tr>\n",
       "      <th>min</th>\n",
       "      <td>97.000000</td>\n",
       "      <td>0.000000</td>\n",
       "      <td>-0.125702</td>\n",
       "      <td>0.097004</td>\n",
       "      <td>-1.879110</td>\n",
       "    </tr>\n",
       "    <tr>\n",
       "      <th>25%</th>\n",
       "      <td>103.750000</td>\n",
       "      <td>6.000000</td>\n",
       "      <td>0.406232</td>\n",
       "      <td>0.306133</td>\n",
       "      <td>-0.963419</td>\n",
       "    </tr>\n",
       "    <tr>\n",
       "      <th>50%</th>\n",
       "      <td>110.500000</td>\n",
       "      <td>12.000000</td>\n",
       "      <td>0.615779</td>\n",
       "      <td>0.369245</td>\n",
       "      <td>-0.089416</td>\n",
       "    </tr>\n",
       "    <tr>\n",
       "      <th>75%</th>\n",
       "      <td>117.250000</td>\n",
       "      <td>18.000000</td>\n",
       "      <td>0.685205</td>\n",
       "      <td>1.357148</td>\n",
       "      <td>-0.003270</td>\n",
       "    </tr>\n",
       "    <tr>\n",
       "      <th>max</th>\n",
       "      <td>124.000000</td>\n",
       "      <td>32.000000</td>\n",
       "      <td>0.980260</td>\n",
       "      <td>2.663223</td>\n",
       "      <td>1.594750</td>\n",
       "    </tr>\n",
       "  </tbody>\n",
       "</table>\n",
       "</div>"
      ],
      "text/plain": [
       "             frame  landmark_index            x            y            z\n",
       "count  2100.000000     2100.000000  1449.000000  1449.000000  1449.000000\n",
       "mean    110.500000       12.640000     0.520995     0.810090    -0.323313\n",
       "std       8.079671        8.326469     0.242960     0.778027     0.668098\n",
       "min      97.000000        0.000000    -0.125702     0.097004    -1.879110\n",
       "25%     103.750000        6.000000     0.406232     0.306133    -0.963419\n",
       "50%     110.500000       12.000000     0.615779     0.369245    -0.089416\n",
       "75%     117.250000       18.000000     0.685205     1.357148    -0.003270\n",
       "max     124.000000       32.000000     0.980260     2.663223     1.594750"
      ]
     },
     "execution_count": 26,
     "metadata": {},
     "output_type": "execute_result"
    }
   ],
   "source": [
    "pq_df.describe()"
   ]
  },
  {
   "cell_type": "code",
   "execution_count": 27,
   "id": "3af37e72-1e45-4d8e-95c1-23289c371553",
   "metadata": {
    "execution": {
     "iopub.execute_input": "2024-03-28T08:18:36.199634Z",
     "iopub.status.busy": "2024-03-28T08:18:36.199073Z",
     "iopub.status.idle": "2024-03-28T08:18:36.318477Z",
     "shell.execute_reply": "2024-03-28T08:18:36.316113Z",
     "shell.execute_reply.started": "2024-03-28T08:18:36.199585Z"
    }
   },
   "outputs": [
    {
     "name": "stderr",
     "output_type": "stream",
     "text": [
      "/tmp/ipykernel_22357/1063850012.py:13: SettingWithCopyWarning: \n",
      "A value is trying to be set on a copy of a slice from a DataFrame.\n",
      "Try using .loc[row_indexer,col_indexer] = value instead\n",
      "\n",
      "See the caveats in the documentation: https://pandas.pydata.org/pandas-docs/stable/user_guide/indexing.html#returning-a-view-versus-a-copy\n",
      "  landmarks_df['type'] = pd.Categorical(landmarks_df['type'], categories=type_order, ordered=True)\n",
      "/tmp/ipykernel_22357/1063850012.py:16: SettingWithCopyWarning: \n",
      "A value is trying to be set on a copy of a slice from a DataFrame\n",
      "\n",
      "See the caveats in the documentation: https://pandas.pydata.org/pandas-docs/stable/user_guide/indexing.html#returning-a-view-versus-a-copy\n",
      "  landmarks_df.sort_values(by=['frame', 'type', 'landmark_index'], inplace=True)\n"
     ]
    },
    {
     "data": {
      "text/html": [
       "<div>\n",
       "<style scoped>\n",
       "    .dataframe tbody tr th:only-of-type {\n",
       "        vertical-align: middle;\n",
       "    }\n",
       "\n",
       "    .dataframe tbody tr th {\n",
       "        vertical-align: top;\n",
       "    }\n",
       "\n",
       "    .dataframe thead th {\n",
       "        text-align: right;\n",
       "    }\n",
       "</style>\n",
       "<table border=\"1\" class=\"dataframe\">\n",
       "  <thead>\n",
       "    <tr style=\"text-align: right;\">\n",
       "      <th></th>\n",
       "      <th>frame</th>\n",
       "      <th>type</th>\n",
       "      <th>landmark_index</th>\n",
       "      <th>x</th>\n",
       "      <th>y</th>\n",
       "      <th>z</th>\n",
       "    </tr>\n",
       "  </thead>\n",
       "  <tbody>\n",
       "    <tr>\n",
       "      <th>489</th>\n",
       "      <td>97</td>\n",
       "      <td>pose</td>\n",
       "      <td>0</td>\n",
       "      <td>0.486289</td>\n",
       "      <td>0.378977</td>\n",
       "      <td>-1.222383</td>\n",
       "    </tr>\n",
       "    <tr>\n",
       "      <th>490</th>\n",
       "      <td>97</td>\n",
       "      <td>pose</td>\n",
       "      <td>1</td>\n",
       "      <td>0.515095</td>\n",
       "      <td>0.311778</td>\n",
       "      <td>-1.133345</td>\n",
       "    </tr>\n",
       "    <tr>\n",
       "      <th>491</th>\n",
       "      <td>97</td>\n",
       "      <td>pose</td>\n",
       "      <td>2</td>\n",
       "      <td>0.539201</td>\n",
       "      <td>0.312966</td>\n",
       "      <td>-1.132728</td>\n",
       "    </tr>\n",
       "    <tr>\n",
       "      <th>492</th>\n",
       "      <td>97</td>\n",
       "      <td>pose</td>\n",
       "      <td>3</td>\n",
       "      <td>0.562195</td>\n",
       "      <td>0.314196</td>\n",
       "      <td>-1.132530</td>\n",
       "    </tr>\n",
       "    <tr>\n",
       "      <th>493</th>\n",
       "      <td>97</td>\n",
       "      <td>pose</td>\n",
       "      <td>4</td>\n",
       "      <td>0.438257</td>\n",
       "      <td>0.307604</td>\n",
       "      <td>-1.181726</td>\n",
       "    </tr>\n",
       "    <tr>\n",
       "      <th>...</th>\n",
       "      <td>...</td>\n",
       "      <td>...</td>\n",
       "      <td>...</td>\n",
       "      <td>...</td>\n",
       "      <td>...</td>\n",
       "      <td>...</td>\n",
       "    </tr>\n",
       "    <tr>\n",
       "      <th>15199</th>\n",
       "      <td>124</td>\n",
       "      <td>right_hand</td>\n",
       "      <td>16</td>\n",
       "      <td>NaN</td>\n",
       "      <td>NaN</td>\n",
       "      <td>NaN</td>\n",
       "    </tr>\n",
       "    <tr>\n",
       "      <th>15200</th>\n",
       "      <td>124</td>\n",
       "      <td>right_hand</td>\n",
       "      <td>17</td>\n",
       "      <td>NaN</td>\n",
       "      <td>NaN</td>\n",
       "      <td>NaN</td>\n",
       "    </tr>\n",
       "    <tr>\n",
       "      <th>15201</th>\n",
       "      <td>124</td>\n",
       "      <td>right_hand</td>\n",
       "      <td>18</td>\n",
       "      <td>NaN</td>\n",
       "      <td>NaN</td>\n",
       "      <td>NaN</td>\n",
       "    </tr>\n",
       "    <tr>\n",
       "      <th>15202</th>\n",
       "      <td>124</td>\n",
       "      <td>right_hand</td>\n",
       "      <td>19</td>\n",
       "      <td>NaN</td>\n",
       "      <td>NaN</td>\n",
       "      <td>NaN</td>\n",
       "    </tr>\n",
       "    <tr>\n",
       "      <th>15203</th>\n",
       "      <td>124</td>\n",
       "      <td>right_hand</td>\n",
       "      <td>20</td>\n",
       "      <td>NaN</td>\n",
       "      <td>NaN</td>\n",
       "      <td>NaN</td>\n",
       "    </tr>\n",
       "  </tbody>\n",
       "</table>\n",
       "<p>1876 rows × 6 columns</p>\n",
       "</div>"
      ],
      "text/plain": [
       "       frame        type  landmark_index         x         y         z\n",
       "489       97        pose               0  0.486289  0.378977 -1.222383\n",
       "490       97        pose               1  0.515095  0.311778 -1.133345\n",
       "491       97        pose               2  0.539201  0.312966 -1.132728\n",
       "492       97        pose               3  0.562195  0.314196 -1.132530\n",
       "493       97        pose               4  0.438257  0.307604 -1.181726\n",
       "...      ...         ...             ...       ...       ...       ...\n",
       "15199    124  right_hand              16       NaN       NaN       NaN\n",
       "15200    124  right_hand              17       NaN       NaN       NaN\n",
       "15201    124  right_hand              18       NaN       NaN       NaN\n",
       "15202    124  right_hand              19       NaN       NaN       NaN\n",
       "15203    124  right_hand              20       NaN       NaN       NaN\n",
       "\n",
       "[1876 rows x 6 columns]"
      ]
     },
     "execution_count": 27,
     "metadata": {},
     "output_type": "execute_result"
    }
   ],
   "source": [
    "landmarks_df = pq_df\n",
    "\n",
    "noface = True\n",
    "n_coordinates = 2\n",
    "\n",
    "# Keep only the defined columns\n",
    "landmarks_df = landmarks_df[['frame', 'type','landmark_index', 'x', 'y', 'z']]\n",
    "\n",
    "# Define the order of the 'type' column\n",
    "type_order = ['face', 'pose', 'left_hand', 'right_hand']\n",
    "\n",
    "# Convert the 'type' column to a categorical type with the specified order\n",
    "landmarks_df['type'] = pd.Categorical(landmarks_df['type'], categories=type_order, ordered=True)\n",
    "\n",
    "# Sort the DataFrame by 'frame', 'type' and 'landmark_index', to ensure the correct order of landmarks\n",
    "landmarks_df.sort_values(by=['frame', 'type', 'landmark_index'], inplace=True)\n",
    "\n",
    "n_landmarks_per_frame = N_LANDMARKS_ALL\n",
    "\n",
    "landmark_types_to_remove = []\n",
    "\n",
    "if noface:\n",
    "    # Exclude rows where 'type' is 'face' and some portion of 'pose'\n",
    "    landmark_types_to_remove.append('face')\n",
    "\n",
    "    # Calculate the number of rows per frame after removing 'face' landmarks\n",
    "    n_landmarks_per_frame -= N_LANDMARKS_FACE\n",
    "\n",
    "if N_LANDMARKS_POSE_TO_TAKE_OFF > 0:\n",
    "    landmark_types_to_remove.append('pose')\n",
    "\n",
    "    # Calculate the number of rows per frame after removing 'pose' landmarks\n",
    "    n_landmarks_per_frame -= N_LANDMARKS_POSE_TO_TAKE_OFF\n",
    "\n",
    "for landmark_type in landmark_types_to_remove:\n",
    "    if landmark_type == 'pose' and N_LANDMARKS_POSE_TO_TAKE_OFF > 0:\n",
    "        landmarks_df = landmarks_df[~((landmarks_df['type'] == 'pose') &\n",
    "                                      (landmarks_df['landmark_index'].\\\n",
    "                                          between(N_LANDMARKS_MIN_POSE_TO_TAKE_OFF, N_LANDMARKS_MAX_POSE_TO_TAKE_OFF)))\n",
    "                                    ]\n",
    "    else:\n",
    "        landmarks_df = landmarks_df[landmarks_df['type'] != landmark_type]\n",
    "\n",
    "# If the model uses 2D data, drop the 'z' dimension\n",
    "if n_coordinates == 2:\n",
    "    data_columns = ['x', 'y']\n",
    "else:\n",
    "    # If the model uses 3D data, keep the 'z' dimension\n",
    "    data_columns = ['x', 'y', 'z']\n",
    "\n",
    "pq_df_filtered = landmarks_df\n",
    "pq_df_filtered"
   ]
  },
  {
   "cell_type": "code",
   "execution_count": 28,
   "id": "fb3c06b3-3091-47c3-a728-b7e9f29367b2",
   "metadata": {
    "execution": {
     "iopub.execute_input": "2024-03-28T08:18:36.321367Z",
     "iopub.status.busy": "2024-03-28T08:18:36.320838Z",
     "iopub.status.idle": "2024-03-28T08:18:36.415724Z",
     "shell.execute_reply": "2024-03-28T08:18:36.413724Z",
     "shell.execute_reply.started": "2024-03-28T08:18:36.321318Z"
    },
    "tags": []
   },
   "outputs": [
    {
     "name": "stderr",
     "output_type": "stream",
     "text": [
      "/home/bfrisque/code/benoitfrisque/signlens/signlens/preprocessing/preprocess.py:210: SettingWithCopyWarning: \n",
      "A value is trying to be set on a copy of a slice from a DataFrame.\n",
      "Try using .loc[row_indexer,col_indexer] = value instead\n",
      "\n",
      "See the caveats in the documentation: https://pandas.pydata.org/pandas-docs/stable/user_guide/indexing.html#returning-a-view-versus-a-copy\n",
      "  landmarks_df['type'] = pd.Categorical(landmarks_df['type'], categories=type_order, ordered=True)\n",
      "/home/bfrisque/code/benoitfrisque/signlens/signlens/preprocessing/preprocess.py:213: SettingWithCopyWarning: \n",
      "A value is trying to be set on a copy of a slice from a DataFrame\n",
      "\n",
      "See the caveats in the documentation: https://pandas.pydata.org/pandas-docs/stable/user_guide/indexing.html#returning-a-view-versus-a-copy\n",
      "  landmarks_df.sort_values(by=['frame', 'type', 'landmark_index'], inplace=True)\n"
     ]
    },
    {
     "data": {
      "text/plain": [
       "(28, 67, 2)"
      ]
     },
     "execution_count": 28,
     "metadata": {},
     "output_type": "execute_result"
    }
   ],
   "source": [
    "landmarks_array = filter_relevant_landmarks_and_coordinates(pq_df)\n",
    "landmarks_array.shape"
   ]
  },
  {
   "cell_type": "markdown",
   "id": "f7ca3d3b-29f4-4534-bcbe-fddcf7629b7a",
   "metadata": {},
   "source": [
    "### From json"
   ]
  },
  {
   "cell_type": "code",
   "execution_count": 29,
   "id": "2c450a92-c492-4e93-bcc1-0f4bb9b85e34",
   "metadata": {
    "execution": {
     "iopub.execute_input": "2024-03-28T08:18:36.419032Z",
     "iopub.status.busy": "2024-03-28T08:18:36.418242Z",
     "iopub.status.idle": "2024-03-28T08:18:36.491591Z",
     "shell.execute_reply": "2024-03-28T08:18:36.489514Z",
     "shell.execute_reply.started": "2024-03-28T08:18:36.418971Z"
    },
    "tags": []
   },
   "outputs": [],
   "source": [
    "from signlens.preprocessing.preprocess import convert_landmarks_json_data_to_df"
   ]
  },
  {
   "cell_type": "code",
   "execution_count": 30,
   "id": "58792228-0b10-40c0-83a8-b4861658b4ce",
   "metadata": {
    "execution": {
     "iopub.execute_input": "2024-03-28T08:18:36.495073Z",
     "iopub.status.busy": "2024-03-28T08:18:36.494371Z",
     "iopub.status.idle": "2024-03-28T08:18:36.607162Z",
     "shell.execute_reply": "2024-03-28T08:18:36.605317Z",
     "shell.execute_reply.started": "2024-03-28T08:18:36.495020Z"
    },
    "tags": []
   },
   "outputs": [
    {
     "data": {
      "text/html": [
       "<div>\n",
       "<style scoped>\n",
       "    .dataframe tbody tr th:only-of-type {\n",
       "        vertical-align: middle;\n",
       "    }\n",
       "\n",
       "    .dataframe tbody tr th {\n",
       "        vertical-align: top;\n",
       "    }\n",
       "\n",
       "    .dataframe thead th {\n",
       "        text-align: right;\n",
       "    }\n",
       "</style>\n",
       "<table border=\"1\" class=\"dataframe\">\n",
       "  <thead>\n",
       "    <tr style=\"text-align: right;\">\n",
       "      <th></th>\n",
       "      <th>frame</th>\n",
       "      <th>type</th>\n",
       "      <th>landmark_index</th>\n",
       "      <th>x</th>\n",
       "      <th>y</th>\n",
       "      <th>z</th>\n",
       "    </tr>\n",
       "  </thead>\n",
       "  <tbody>\n",
       "    <tr>\n",
       "      <th>0</th>\n",
       "      <td>0</td>\n",
       "      <td>pose</td>\n",
       "      <td>0</td>\n",
       "      <td>0.500277</td>\n",
       "      <td>0.241630</td>\n",
       "      <td>-0.819381</td>\n",
       "    </tr>\n",
       "    <tr>\n",
       "      <th>1</th>\n",
       "      <td>0</td>\n",
       "      <td>pose</td>\n",
       "      <td>1</td>\n",
       "      <td>0.523893</td>\n",
       "      <td>0.202014</td>\n",
       "      <td>-0.776747</td>\n",
       "    </tr>\n",
       "    <tr>\n",
       "      <th>2</th>\n",
       "      <td>0</td>\n",
       "      <td>pose</td>\n",
       "      <td>2</td>\n",
       "      <td>0.536773</td>\n",
       "      <td>0.200921</td>\n",
       "      <td>-0.776917</td>\n",
       "    </tr>\n",
       "    <tr>\n",
       "      <th>3</th>\n",
       "      <td>0</td>\n",
       "      <td>pose</td>\n",
       "      <td>3</td>\n",
       "      <td>0.550744</td>\n",
       "      <td>0.200229</td>\n",
       "      <td>-0.776974</td>\n",
       "    </tr>\n",
       "    <tr>\n",
       "      <th>4</th>\n",
       "      <td>0</td>\n",
       "      <td>pose</td>\n",
       "      <td>4</td>\n",
       "      <td>0.477402</td>\n",
       "      <td>0.203587</td>\n",
       "      <td>-0.779479</td>\n",
       "    </tr>\n",
       "    <tr>\n",
       "      <th>...</th>\n",
       "      <td>...</td>\n",
       "      <td>...</td>\n",
       "      <td>...</td>\n",
       "      <td>...</td>\n",
       "      <td>...</td>\n",
       "      <td>...</td>\n",
       "    </tr>\n",
       "    <tr>\n",
       "      <th>6587</th>\n",
       "      <td>87</td>\n",
       "      <td>right_hand</td>\n",
       "      <td>16</td>\n",
       "      <td>NaN</td>\n",
       "      <td>NaN</td>\n",
       "      <td>NaN</td>\n",
       "    </tr>\n",
       "    <tr>\n",
       "      <th>6588</th>\n",
       "      <td>87</td>\n",
       "      <td>right_hand</td>\n",
       "      <td>17</td>\n",
       "      <td>NaN</td>\n",
       "      <td>NaN</td>\n",
       "      <td>NaN</td>\n",
       "    </tr>\n",
       "    <tr>\n",
       "      <th>6589</th>\n",
       "      <td>87</td>\n",
       "      <td>right_hand</td>\n",
       "      <td>18</td>\n",
       "      <td>NaN</td>\n",
       "      <td>NaN</td>\n",
       "      <td>NaN</td>\n",
       "    </tr>\n",
       "    <tr>\n",
       "      <th>6590</th>\n",
       "      <td>87</td>\n",
       "      <td>right_hand</td>\n",
       "      <td>19</td>\n",
       "      <td>NaN</td>\n",
       "      <td>NaN</td>\n",
       "      <td>NaN</td>\n",
       "    </tr>\n",
       "    <tr>\n",
       "      <th>6591</th>\n",
       "      <td>87</td>\n",
       "      <td>right_hand</td>\n",
       "      <td>20</td>\n",
       "      <td>NaN</td>\n",
       "      <td>NaN</td>\n",
       "      <td>NaN</td>\n",
       "    </tr>\n",
       "  </tbody>\n",
       "</table>\n",
       "<p>6592 rows × 6 columns</p>\n",
       "</div>"
      ],
      "text/plain": [
       "      frame        type  landmark_index         x         y         z\n",
       "0         0        pose               0  0.500277  0.241630 -0.819381\n",
       "1         0        pose               1  0.523893  0.202014 -0.776747\n",
       "2         0        pose               2  0.536773  0.200921 -0.776917\n",
       "3         0        pose               3  0.550744  0.200229 -0.776974\n",
       "4         0        pose               4  0.477402  0.203587 -0.779479\n",
       "...     ...         ...             ...       ...       ...       ...\n",
       "6587     87  right_hand              16       NaN       NaN       NaN\n",
       "6588     87  right_hand              17       NaN       NaN       NaN\n",
       "6589     87  right_hand              18       NaN       NaN       NaN\n",
       "6590     87  right_hand              19       NaN       NaN       NaN\n",
       "6591     87  right_hand              20       NaN       NaN       NaN\n",
       "\n",
       "[6592 rows x 6 columns]"
      ]
     },
     "execution_count": 30,
     "metadata": {},
     "output_type": "execute_result"
    }
   ],
   "source": [
    "json_df = convert_landmarks_json_data_to_df(json_data)\n",
    "json_df"
   ]
  },
  {
   "cell_type": "code",
   "execution_count": 31,
   "id": "612bd989-295a-4e91-9a64-a89ae4008414",
   "metadata": {
    "execution": {
     "iopub.execute_input": "2024-03-28T08:18:36.609836Z",
     "iopub.status.busy": "2024-03-28T08:18:36.609242Z",
     "iopub.status.idle": "2024-03-28T08:18:36.721482Z",
     "shell.execute_reply": "2024-03-28T08:18:36.718284Z",
     "shell.execute_reply.started": "2024-03-28T08:18:36.609789Z"
    }
   },
   "outputs": [
    {
     "data": {
      "text/html": [
       "<div>\n",
       "<style scoped>\n",
       "    .dataframe tbody tr th:only-of-type {\n",
       "        vertical-align: middle;\n",
       "    }\n",
       "\n",
       "    .dataframe tbody tr th {\n",
       "        vertical-align: top;\n",
       "    }\n",
       "\n",
       "    .dataframe thead th {\n",
       "        text-align: right;\n",
       "    }\n",
       "</style>\n",
       "<table border=\"1\" class=\"dataframe\">\n",
       "  <thead>\n",
       "    <tr style=\"text-align: right;\">\n",
       "      <th></th>\n",
       "      <th>frame</th>\n",
       "      <th>landmark_index</th>\n",
       "      <th>x</th>\n",
       "      <th>y</th>\n",
       "      <th>z</th>\n",
       "    </tr>\n",
       "  </thead>\n",
       "  <tbody>\n",
       "    <tr>\n",
       "      <th>count</th>\n",
       "      <td>6592.000000</td>\n",
       "      <td>6592.000000</td>\n",
       "      <td>4257.000000</td>\n",
       "      <td>4257.000000</td>\n",
       "      <td>4257.000000</td>\n",
       "    </tr>\n",
       "    <tr>\n",
       "      <th>mean</th>\n",
       "      <td>43.447209</td>\n",
       "      <td>12.620752</td>\n",
       "      <td>0.496357</td>\n",
       "      <td>0.754882</td>\n",
       "      <td>-0.313627</td>\n",
       "    </tr>\n",
       "    <tr>\n",
       "      <th>std</th>\n",
       "      <td>25.373836</td>\n",
       "      <td>8.311416</td>\n",
       "      <td>0.095192</td>\n",
       "      <td>0.633905</td>\n",
       "      <td>0.551877</td>\n",
       "    </tr>\n",
       "    <tr>\n",
       "      <th>min</th>\n",
       "      <td>0.000000</td>\n",
       "      <td>0.000000</td>\n",
       "      <td>0.277233</td>\n",
       "      <td>0.073954</td>\n",
       "      <td>-1.978260</td>\n",
       "    </tr>\n",
       "    <tr>\n",
       "      <th>25%</th>\n",
       "      <td>21.000000</td>\n",
       "      <td>6.000000</td>\n",
       "      <td>0.427348</td>\n",
       "      <td>0.258638</td>\n",
       "      <td>-0.637832</td>\n",
       "    </tr>\n",
       "    <tr>\n",
       "      <th>50%</th>\n",
       "      <td>43.000000</td>\n",
       "      <td>12.000000</td>\n",
       "      <td>0.473865</td>\n",
       "      <td>0.456491</td>\n",
       "      <td>-0.062060</td>\n",
       "    </tr>\n",
       "    <tr>\n",
       "      <th>75%</th>\n",
       "      <td>65.000000</td>\n",
       "      <td>18.000000</td>\n",
       "      <td>0.554626</td>\n",
       "      <td>1.199271</td>\n",
       "      <td>-0.006266</td>\n",
       "    </tr>\n",
       "    <tr>\n",
       "      <th>max</th>\n",
       "      <td>87.000000</td>\n",
       "      <td>32.000000</td>\n",
       "      <td>0.720620</td>\n",
       "      <td>2.234679</td>\n",
       "      <td>0.978589</td>\n",
       "    </tr>\n",
       "  </tbody>\n",
       "</table>\n",
       "</div>"
      ],
      "text/plain": [
       "             frame  landmark_index            x            y            z\n",
       "count  6592.000000     6592.000000  4257.000000  4257.000000  4257.000000\n",
       "mean     43.447209       12.620752     0.496357     0.754882    -0.313627\n",
       "std      25.373836        8.311416     0.095192     0.633905     0.551877\n",
       "min       0.000000        0.000000     0.277233     0.073954    -1.978260\n",
       "25%      21.000000        6.000000     0.427348     0.258638    -0.637832\n",
       "50%      43.000000       12.000000     0.473865     0.456491    -0.062060\n",
       "75%      65.000000       18.000000     0.554626     1.199271    -0.006266\n",
       "max      87.000000       32.000000     0.720620     2.234679     0.978589"
      ]
     },
     "execution_count": 31,
     "metadata": {},
     "output_type": "execute_result"
    }
   ],
   "source": [
    "json_df.describe()"
   ]
  },
  {
   "cell_type": "code",
   "execution_count": 32,
   "id": "6c9fbb70-e367-4b6d-a611-945544e6eaa1",
   "metadata": {
    "execution": {
     "iopub.execute_input": "2024-03-28T08:18:36.726515Z",
     "iopub.status.busy": "2024-03-28T08:18:36.724614Z",
     "iopub.status.idle": "2024-03-28T08:18:36.844522Z",
     "shell.execute_reply": "2024-03-28T08:18:36.841898Z",
     "shell.execute_reply.started": "2024-03-28T08:18:36.726456Z"
    },
    "tags": []
   },
   "outputs": [
    {
     "data": {
      "text/html": [
       "<div>\n",
       "<style scoped>\n",
       "    .dataframe tbody tr th:only-of-type {\n",
       "        vertical-align: middle;\n",
       "    }\n",
       "\n",
       "    .dataframe tbody tr th {\n",
       "        vertical-align: top;\n",
       "    }\n",
       "\n",
       "    .dataframe thead th {\n",
       "        text-align: right;\n",
       "    }\n",
       "</style>\n",
       "<table border=\"1\" class=\"dataframe\">\n",
       "  <thead>\n",
       "    <tr style=\"text-align: right;\">\n",
       "      <th></th>\n",
       "      <th>frame</th>\n",
       "      <th>type</th>\n",
       "      <th>landmark_index</th>\n",
       "      <th>x</th>\n",
       "      <th>y</th>\n",
       "      <th>z</th>\n",
       "    </tr>\n",
       "  </thead>\n",
       "  <tbody>\n",
       "    <tr>\n",
       "      <th>0</th>\n",
       "      <td>0</td>\n",
       "      <td>pose</td>\n",
       "      <td>0</td>\n",
       "      <td>0.500277</td>\n",
       "      <td>0.241630</td>\n",
       "      <td>-0.819381</td>\n",
       "    </tr>\n",
       "    <tr>\n",
       "      <th>1</th>\n",
       "      <td>0</td>\n",
       "      <td>pose</td>\n",
       "      <td>1</td>\n",
       "      <td>0.523893</td>\n",
       "      <td>0.202014</td>\n",
       "      <td>-0.776747</td>\n",
       "    </tr>\n",
       "    <tr>\n",
       "      <th>2</th>\n",
       "      <td>0</td>\n",
       "      <td>pose</td>\n",
       "      <td>2</td>\n",
       "      <td>0.536773</td>\n",
       "      <td>0.200921</td>\n",
       "      <td>-0.776917</td>\n",
       "    </tr>\n",
       "    <tr>\n",
       "      <th>3</th>\n",
       "      <td>0</td>\n",
       "      <td>pose</td>\n",
       "      <td>3</td>\n",
       "      <td>0.550744</td>\n",
       "      <td>0.200229</td>\n",
       "      <td>-0.776974</td>\n",
       "    </tr>\n",
       "    <tr>\n",
       "      <th>4</th>\n",
       "      <td>0</td>\n",
       "      <td>pose</td>\n",
       "      <td>4</td>\n",
       "      <td>0.477402</td>\n",
       "      <td>0.203587</td>\n",
       "      <td>-0.779479</td>\n",
       "    </tr>\n",
       "    <tr>\n",
       "      <th>...</th>\n",
       "      <td>...</td>\n",
       "      <td>...</td>\n",
       "      <td>...</td>\n",
       "      <td>...</td>\n",
       "      <td>...</td>\n",
       "      <td>...</td>\n",
       "    </tr>\n",
       "    <tr>\n",
       "      <th>6587</th>\n",
       "      <td>87</td>\n",
       "      <td>right_hand</td>\n",
       "      <td>16</td>\n",
       "      <td>NaN</td>\n",
       "      <td>NaN</td>\n",
       "      <td>NaN</td>\n",
       "    </tr>\n",
       "    <tr>\n",
       "      <th>6588</th>\n",
       "      <td>87</td>\n",
       "      <td>right_hand</td>\n",
       "      <td>17</td>\n",
       "      <td>NaN</td>\n",
       "      <td>NaN</td>\n",
       "      <td>NaN</td>\n",
       "    </tr>\n",
       "    <tr>\n",
       "      <th>6589</th>\n",
       "      <td>87</td>\n",
       "      <td>right_hand</td>\n",
       "      <td>18</td>\n",
       "      <td>NaN</td>\n",
       "      <td>NaN</td>\n",
       "      <td>NaN</td>\n",
       "    </tr>\n",
       "    <tr>\n",
       "      <th>6590</th>\n",
       "      <td>87</td>\n",
       "      <td>right_hand</td>\n",
       "      <td>19</td>\n",
       "      <td>NaN</td>\n",
       "      <td>NaN</td>\n",
       "      <td>NaN</td>\n",
       "    </tr>\n",
       "    <tr>\n",
       "      <th>6591</th>\n",
       "      <td>87</td>\n",
       "      <td>right_hand</td>\n",
       "      <td>20</td>\n",
       "      <td>NaN</td>\n",
       "      <td>NaN</td>\n",
       "      <td>NaN</td>\n",
       "    </tr>\n",
       "  </tbody>\n",
       "</table>\n",
       "<p>5896 rows × 6 columns</p>\n",
       "</div>"
      ],
      "text/plain": [
       "      frame        type  landmark_index         x         y         z\n",
       "0         0        pose               0  0.500277  0.241630 -0.819381\n",
       "1         0        pose               1  0.523893  0.202014 -0.776747\n",
       "2         0        pose               2  0.536773  0.200921 -0.776917\n",
       "3         0        pose               3  0.550744  0.200229 -0.776974\n",
       "4         0        pose               4  0.477402  0.203587 -0.779479\n",
       "...     ...         ...             ...       ...       ...       ...\n",
       "6587     87  right_hand              16       NaN       NaN       NaN\n",
       "6588     87  right_hand              17       NaN       NaN       NaN\n",
       "6589     87  right_hand              18       NaN       NaN       NaN\n",
       "6590     87  right_hand              19       NaN       NaN       NaN\n",
       "6591     87  right_hand              20       NaN       NaN       NaN\n",
       "\n",
       "[5896 rows x 6 columns]"
      ]
     },
     "execution_count": 32,
     "metadata": {},
     "output_type": "execute_result"
    }
   ],
   "source": [
    "landmarks_df = json_df\n",
    "\n",
    "noface = True\n",
    "n_coordinates = 2\n",
    "\n",
    "# Keep only the defined columns\n",
    "landmarks_df = landmarks_df[['frame', 'type','landmark_index', 'x', 'y', 'z']]\n",
    "\n",
    "# Define the order of the 'type' column\n",
    "type_order = ['face', 'pose', 'left_hand', 'right_hand']\n",
    "\n",
    "# Convert the 'type' column to a categorical type with the specified order\n",
    "landmarks_df['type'] = pd.Categorical(landmarks_df['type'], categories=type_order, ordered=True)\n",
    "\n",
    "# Sort the DataFrame by 'frame', 'type' and 'landmark_index', to ensure the correct order of landmarks\n",
    "landmarks_df.sort_values(by=['frame', 'type', 'landmark_index'], inplace=True)\n",
    "\n",
    "n_landmarks_per_frame = N_LANDMARKS_ALL\n",
    "\n",
    "landmark_types_to_remove = []\n",
    "\n",
    "if noface:\n",
    "    # Exclude rows where 'type' is 'face' and some portion of 'pose'\n",
    "    landmark_types_to_remove.append('face')\n",
    "\n",
    "    # Calculate the number of rows per frame after removing 'face' landmarks\n",
    "    n_landmarks_per_frame -= N_LANDMARKS_FACE\n",
    "\n",
    "if N_LANDMARKS_POSE_TO_TAKE_OFF > 0:\n",
    "    landmark_types_to_remove.append('pose')\n",
    "\n",
    "    # Calculate the number of rows per frame after removing 'pose' landmarks\n",
    "    n_landmarks_per_frame -= N_LANDMARKS_POSE_TO_TAKE_OFF\n",
    "\n",
    "for landmark_type in landmark_types_to_remove:\n",
    "    if landmark_type == 'pose' and N_LANDMARKS_POSE_TO_TAKE_OFF > 0:\n",
    "        landmarks_df = landmarks_df[~((landmarks_df['type'] == 'pose') &\n",
    "                                      (landmarks_df['landmark_index'].\\\n",
    "                                          between(N_LANDMARKS_MIN_POSE_TO_TAKE_OFF, N_LANDMARKS_MAX_POSE_TO_TAKE_OFF)))\n",
    "                                    ]\n",
    "    else:\n",
    "        landmarks_df = landmarks_df[landmarks_df['type'] != landmark_type]\n",
    "\n",
    "# If the model uses 2D data, drop the 'z' dimension\n",
    "if n_coordinates == 2:\n",
    "    data_columns = ['x', 'y']\n",
    "else:\n",
    "    # If the model uses 3D data, keep the 'z' dimension\n",
    "    data_columns = ['x', 'y', 'z']\n",
    "\n",
    "json_df_filtered = landmarks_df\n",
    "json_df_filtered"
   ]
  },
  {
   "cell_type": "code",
   "execution_count": 33,
   "id": "7fbcb7ae-5c07-47e5-8bf8-9257b7c77e57",
   "metadata": {
    "execution": {
     "iopub.execute_input": "2024-03-28T08:18:36.849596Z",
     "iopub.status.busy": "2024-03-28T08:18:36.848203Z",
     "iopub.status.idle": "2024-03-28T08:18:36.946663Z",
     "shell.execute_reply": "2024-03-28T08:18:36.944536Z",
     "shell.execute_reply.started": "2024-03-28T08:18:36.849541Z"
    },
    "tags": []
   },
   "outputs": [
    {
     "data": {
      "text/plain": [
       "array([[[0.5002772 , 0.24163002],\n",
       "        [0.52389276, 0.20201373],\n",
       "        [0.5367728 , 0.20092052],\n",
       "        ...,\n",
       "        [       nan,        nan],\n",
       "        [       nan,        nan],\n",
       "        [       nan,        nan]],\n",
       "\n",
       "       [[0.5002266 , 0.24465053],\n",
       "        [0.52411956, 0.20562889],\n",
       "        [0.53825974, 0.20565483],\n",
       "        ...,\n",
       "        [       nan,        nan],\n",
       "        [       nan,        nan],\n",
       "        [       nan,        nan]],\n",
       "\n",
       "       [[0.49976858, 0.24701318],\n",
       "        [0.5241101 , 0.20794415],\n",
       "        [0.53887725, 0.2082071 ],\n",
       "        ...,\n",
       "        [       nan,        nan],\n",
       "        [       nan,        nan],\n",
       "        [       nan,        nan]],\n",
       "\n",
       "       ...,\n",
       "\n",
       "       [[0.51805407, 0.24005097],\n",
       "        [0.54111457, 0.20181601],\n",
       "        [0.5575814 , 0.20250034],\n",
       "        ...,\n",
       "        [       nan,        nan],\n",
       "        [       nan,        nan],\n",
       "        [       nan,        nan]],\n",
       "\n",
       "       [[0.5178125 , 0.24015513],\n",
       "        [0.54079664, 0.20201138],\n",
       "        [0.55711925, 0.2028787 ],\n",
       "        ...,\n",
       "        [       nan,        nan],\n",
       "        [       nan,        nan],\n",
       "        [       nan,        nan]],\n",
       "\n",
       "       [[       nan,        nan],\n",
       "        [       nan,        nan],\n",
       "        [       nan,        nan],\n",
       "        ...,\n",
       "        [       nan,        nan],\n",
       "        [       nan,        nan],\n",
       "        [       nan,        nan]]], dtype=float32)"
      ]
     },
     "execution_count": 33,
     "metadata": {},
     "output_type": "execute_result"
    }
   ],
   "source": [
    "filtered_json_landmarks = filter_relevant_landmarks_and_coordinates(json_df)\n",
    "filtered_json_landmarks"
   ]
  },
  {
   "cell_type": "markdown",
   "id": "e5368d7a-6719-4d60-bfbf-3f7b63787a1d",
   "metadata": {},
   "source": [
    "### Compare filtering and sorting"
   ]
  },
  {
   "cell_type": "code",
   "execution_count": 34,
   "id": "6cf6f297-76d4-4df2-a6f1-e4456469dc38",
   "metadata": {
    "execution": {
     "iopub.execute_input": "2024-03-28T08:18:36.949728Z",
     "iopub.status.busy": "2024-03-28T08:18:36.949216Z",
     "iopub.status.idle": "2024-03-28T08:18:37.038208Z",
     "shell.execute_reply": "2024-03-28T08:18:37.035869Z",
     "shell.execute_reply.started": "2024-03-28T08:18:36.949681Z"
    },
    "tags": []
   },
   "outputs": [
    {
     "data": {
      "text/html": [
       "<div>\n",
       "<style scoped>\n",
       "    .dataframe tbody tr th:only-of-type {\n",
       "        vertical-align: middle;\n",
       "    }\n",
       "\n",
       "    .dataframe tbody tr th {\n",
       "        vertical-align: top;\n",
       "    }\n",
       "\n",
       "    .dataframe thead th {\n",
       "        text-align: right;\n",
       "    }\n",
       "</style>\n",
       "<table border=\"1\" class=\"dataframe\">\n",
       "  <thead>\n",
       "    <tr style=\"text-align: right;\">\n",
       "      <th></th>\n",
       "      <th>type</th>\n",
       "      <th>landmark_index</th>\n",
       "    </tr>\n",
       "  </thead>\n",
       "  <tbody>\n",
       "    <tr>\n",
       "      <th>0</th>\n",
       "      <td>pose</td>\n",
       "      <td>0</td>\n",
       "    </tr>\n",
       "    <tr>\n",
       "      <th>1</th>\n",
       "      <td>pose</td>\n",
       "      <td>1</td>\n",
       "    </tr>\n",
       "    <tr>\n",
       "      <th>2</th>\n",
       "      <td>pose</td>\n",
       "      <td>2</td>\n",
       "    </tr>\n",
       "    <tr>\n",
       "      <th>3</th>\n",
       "      <td>pose</td>\n",
       "      <td>3</td>\n",
       "    </tr>\n",
       "    <tr>\n",
       "      <th>4</th>\n",
       "      <td>pose</td>\n",
       "      <td>4</td>\n",
       "    </tr>\n",
       "    <tr>\n",
       "      <th>...</th>\n",
       "      <td>...</td>\n",
       "      <td>...</td>\n",
       "    </tr>\n",
       "    <tr>\n",
       "      <th>62</th>\n",
       "      <td>right_hand</td>\n",
       "      <td>16</td>\n",
       "    </tr>\n",
       "    <tr>\n",
       "      <th>63</th>\n",
       "      <td>right_hand</td>\n",
       "      <td>17</td>\n",
       "    </tr>\n",
       "    <tr>\n",
       "      <th>64</th>\n",
       "      <td>right_hand</td>\n",
       "      <td>18</td>\n",
       "    </tr>\n",
       "    <tr>\n",
       "      <th>65</th>\n",
       "      <td>right_hand</td>\n",
       "      <td>19</td>\n",
       "    </tr>\n",
       "    <tr>\n",
       "      <th>66</th>\n",
       "      <td>right_hand</td>\n",
       "      <td>20</td>\n",
       "    </tr>\n",
       "  </tbody>\n",
       "</table>\n",
       "<p>67 rows × 2 columns</p>\n",
       "</div>"
      ],
      "text/plain": [
       "          type  landmark_index\n",
       "0         pose               0\n",
       "1         pose               1\n",
       "2         pose               2\n",
       "3         pose               3\n",
       "4         pose               4\n",
       "..         ...             ...\n",
       "62  right_hand              16\n",
       "63  right_hand              17\n",
       "64  right_hand              18\n",
       "65  right_hand              19\n",
       "66  right_hand              20\n",
       "\n",
       "[67 rows x 2 columns]"
      ]
     },
     "execution_count": 34,
     "metadata": {},
     "output_type": "execute_result"
    }
   ],
   "source": [
    "order_pq = pq_df_filtered[pq_df_filtered.frame==97][['type', 'landmark_index']].reset_index(drop=True)\n",
    "order_pq"
   ]
  },
  {
   "cell_type": "code",
   "execution_count": 35,
   "id": "0fc1c50c-c8a3-498a-90d8-50d836f06b7a",
   "metadata": {
    "execution": {
     "iopub.execute_input": "2024-03-28T08:18:37.041361Z",
     "iopub.status.busy": "2024-03-28T08:18:37.040829Z",
     "iopub.status.idle": "2024-03-28T08:18:37.131788Z",
     "shell.execute_reply": "2024-03-28T08:18:37.129225Z",
     "shell.execute_reply.started": "2024-03-28T08:18:37.041311Z"
    },
    "tags": []
   },
   "outputs": [
    {
     "data": {
      "text/html": [
       "<div>\n",
       "<style scoped>\n",
       "    .dataframe tbody tr th:only-of-type {\n",
       "        vertical-align: middle;\n",
       "    }\n",
       "\n",
       "    .dataframe tbody tr th {\n",
       "        vertical-align: top;\n",
       "    }\n",
       "\n",
       "    .dataframe thead th {\n",
       "        text-align: right;\n",
       "    }\n",
       "</style>\n",
       "<table border=\"1\" class=\"dataframe\">\n",
       "  <thead>\n",
       "    <tr style=\"text-align: right;\">\n",
       "      <th></th>\n",
       "      <th>type</th>\n",
       "      <th>landmark_index</th>\n",
       "    </tr>\n",
       "  </thead>\n",
       "  <tbody>\n",
       "    <tr>\n",
       "      <th>0</th>\n",
       "      <td>pose</td>\n",
       "      <td>0</td>\n",
       "    </tr>\n",
       "    <tr>\n",
       "      <th>1</th>\n",
       "      <td>pose</td>\n",
       "      <td>1</td>\n",
       "    </tr>\n",
       "    <tr>\n",
       "      <th>2</th>\n",
       "      <td>pose</td>\n",
       "      <td>2</td>\n",
       "    </tr>\n",
       "    <tr>\n",
       "      <th>3</th>\n",
       "      <td>pose</td>\n",
       "      <td>3</td>\n",
       "    </tr>\n",
       "    <tr>\n",
       "      <th>4</th>\n",
       "      <td>pose</td>\n",
       "      <td>4</td>\n",
       "    </tr>\n",
       "    <tr>\n",
       "      <th>...</th>\n",
       "      <td>...</td>\n",
       "      <td>...</td>\n",
       "    </tr>\n",
       "    <tr>\n",
       "      <th>62</th>\n",
       "      <td>right_hand</td>\n",
       "      <td>16</td>\n",
       "    </tr>\n",
       "    <tr>\n",
       "      <th>63</th>\n",
       "      <td>right_hand</td>\n",
       "      <td>17</td>\n",
       "    </tr>\n",
       "    <tr>\n",
       "      <th>64</th>\n",
       "      <td>right_hand</td>\n",
       "      <td>18</td>\n",
       "    </tr>\n",
       "    <tr>\n",
       "      <th>65</th>\n",
       "      <td>right_hand</td>\n",
       "      <td>19</td>\n",
       "    </tr>\n",
       "    <tr>\n",
       "      <th>66</th>\n",
       "      <td>right_hand</td>\n",
       "      <td>20</td>\n",
       "    </tr>\n",
       "  </tbody>\n",
       "</table>\n",
       "<p>67 rows × 2 columns</p>\n",
       "</div>"
      ],
      "text/plain": [
       "          type  landmark_index\n",
       "0         pose               0\n",
       "1         pose               1\n",
       "2         pose               2\n",
       "3         pose               3\n",
       "4         pose               4\n",
       "..         ...             ...\n",
       "62  right_hand              16\n",
       "63  right_hand              17\n",
       "64  right_hand              18\n",
       "65  right_hand              19\n",
       "66  right_hand              20\n",
       "\n",
       "[67 rows x 2 columns]"
      ]
     },
     "execution_count": 35,
     "metadata": {},
     "output_type": "execute_result"
    }
   ],
   "source": [
    "order_json = json_df_filtered[json_df_filtered.frame==0][['type', 'landmark_index']].reset_index(drop=True)\n",
    "order_json "
   ]
  },
  {
   "cell_type": "code",
   "execution_count": 36,
   "id": "2069f8a1-b40a-4d1a-a788-9201f2409e66",
   "metadata": {
    "execution": {
     "iopub.execute_input": "2024-03-28T08:18:37.134487Z",
     "iopub.status.busy": "2024-03-28T08:18:37.133898Z",
     "iopub.status.idle": "2024-03-28T08:18:37.214218Z",
     "shell.execute_reply": "2024-03-28T08:18:37.212163Z",
     "shell.execute_reply.started": "2024-03-28T08:18:37.134435Z"
    },
    "tags": []
   },
   "outputs": [
    {
     "data": {
      "text/plain": [
       "type              67\n",
       "landmark_index    67\n",
       "dtype: int64"
      ]
     },
     "execution_count": 36,
     "metadata": {},
     "output_type": "execute_result"
    }
   ],
   "source": [
    "(order_pq == order_json).sum()"
   ]
  }
 ],
 "metadata": {
  "kernelspec": {
   "display_name": "Python 3 (ipykernel)",
   "language": "python",
   "name": "python3"
  },
  "language_info": {
   "codemirror_mode": {
    "name": "ipython",
    "version": 3
   },
   "file_extension": ".py",
   "mimetype": "text/x-python",
   "name": "python",
   "nbconvert_exporter": "python",
   "pygments_lexer": "ipython3",
   "version": "3.10.6"
  }
 },
 "nbformat": 4,
 "nbformat_minor": 5
}

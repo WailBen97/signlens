{
 "cells": [
  {
   "cell_type": "code",
   "execution_count": 57,
   "id": "35e25198-78a1-478e-bc7e-188e1d7c7401",
   "metadata": {
    "execution": {
     "iopub.execute_input": "2024-03-29T06:33:13.396440Z",
     "iopub.status.busy": "2024-03-29T06:33:13.395696Z",
     "iopub.status.idle": "2024-03-29T06:33:13.449397Z",
     "shell.execute_reply": "2024-03-29T06:33:13.447646Z",
     "shell.execute_reply.started": "2024-03-29T06:33:13.396412Z"
    },
    "tags": []
   },
   "outputs": [
    {
     "name": "stdout",
     "output_type": "stream",
     "text": [
      "The autoreload extension is already loaded. To reload it, use:\n",
      "  %reload_ext autoreload\n"
     ]
    }
   ],
   "source": [
    "import os\n",
    "import numpy as np\n",
    "import pandas as pd\n",
    "from tqdm import tqdm\n",
    "import json\n",
    "import tensorflow as tf\n",
    "\n",
    "import matplotlib.pyplot as plt\n",
    "\n",
    "from signlens.params import *\n",
    "from signlens.preprocessing.glossary import load_glossary, write_glossary, load_glossary_decoding\n",
    "from signlens.preprocessing.data import load_data_subset_csv , load_video_list_json\n",
    "from signlens.preprocessing.preprocess import encode_labels, decode_labels, pad_and_preprocess_sequences_from_pq_file_path_df, preprocess_data_from_json_data, pad_and_preprocess_landmarks_array, reshape_processed_data_to_tf, convert_landmarks_json_data_to_df, filter_relevant_landmarks_and_coordinates\n",
    "from signlens.model.model_utils import load_model\n",
    "from signlens.model.model_architecture import evaluate_model\n",
    "from utils.video_utils import process_video_to_landmarks_json, draw_landmarks_on_image\n",
    "from utils.plot_landmarks import video_grid_landmarks_2D\n",
    "\n",
    "from colorama import Fore, Style\n",
    "\n",
    "%load_ext autoreload\n",
    "\n",
    "%autoreload 2\n"
   ]
  },
  {
   "cell_type": "markdown",
   "id": "d1fcd45f-0bb6-41d0-90f8-b772472718eb",
   "metadata": {},
   "source": [
    "## Glossary check"
   ]
  },
  {
   "cell_type": "code",
   "execution_count": 58,
   "id": "f80fb549-c301-46f8-90ae-9651dc7cd640",
   "metadata": {
    "execution": {
     "iopub.execute_input": "2024-03-29T06:33:14.206256Z",
     "iopub.status.busy": "2024-03-29T06:33:14.205061Z",
     "iopub.status.idle": "2024-03-29T06:33:14.248650Z",
     "shell.execute_reply": "2024-03-29T06:33:14.247364Z",
     "shell.execute_reply.started": "2024-03-29T06:33:14.206221Z"
    },
    "tags": []
   },
   "outputs": [],
   "source": [
    "#write_glossary()"
   ]
  },
  {
   "cell_type": "code",
   "execution_count": 59,
   "id": "7f33c045-0941-45cd-b799-e0b60db72f9c",
   "metadata": {
    "execution": {
     "iopub.execute_input": "2024-03-29T06:33:14.395201Z",
     "iopub.status.busy": "2024-03-29T06:33:14.394822Z",
     "iopub.status.idle": "2024-03-29T06:33:14.443970Z",
     "shell.execute_reply": "2024-03-29T06:33:14.442576Z",
     "shell.execute_reply.started": "2024-03-29T06:33:14.395172Z"
    },
    "tags": []
   },
   "outputs": [],
   "source": [
    "glossary = load_glossary()"
   ]
  },
  {
   "cell_type": "code",
   "execution_count": 60,
   "id": "891bc065-8518-4dd8-b96f-2812c7e4bd8a",
   "metadata": {
    "execution": {
     "iopub.execute_input": "2024-03-29T06:33:14.580375Z",
     "iopub.status.busy": "2024-03-29T06:33:14.580005Z",
     "iopub.status.idle": "2024-03-29T06:33:14.628828Z",
     "shell.execute_reply": "2024-03-29T06:33:14.627572Z",
     "shell.execute_reply.started": "2024-03-29T06:33:14.580346Z"
    },
    "tags": []
   },
   "outputs": [
    {
     "data": {
      "text/plain": [
       "250"
      ]
     },
     "execution_count": 60,
     "metadata": {},
     "output_type": "execute_result"
    }
   ],
   "source": [
    "len(glossary.index.unique())"
   ]
  },
  {
   "cell_type": "code",
   "execution_count": 61,
   "id": "dbe05726-fcf4-4b45-9643-c33eb5cdc40a",
   "metadata": {
    "execution": {
     "iopub.execute_input": "2024-03-29T06:33:14.746883Z",
     "iopub.status.busy": "2024-03-29T06:33:14.746076Z",
     "iopub.status.idle": "2024-03-29T06:33:14.805816Z",
     "shell.execute_reply": "2024-03-29T06:33:14.803474Z",
     "shell.execute_reply.started": "2024-03-29T06:33:14.746850Z"
    },
    "tags": []
   },
   "outputs": [
    {
     "data": {
      "text/html": [
       "<div>\n",
       "<style scoped>\n",
       "    .dataframe tbody tr th:only-of-type {\n",
       "        vertical-align: middle;\n",
       "    }\n",
       "\n",
       "    .dataframe tbody tr th {\n",
       "        vertical-align: top;\n",
       "    }\n",
       "\n",
       "    .dataframe thead th {\n",
       "        text-align: right;\n",
       "    }\n",
       "</style>\n",
       "<table border=\"1\" class=\"dataframe\">\n",
       "  <thead>\n",
       "    <tr style=\"text-align: right;\">\n",
       "      <th></th>\n",
       "      <th>sign</th>\n",
       "    </tr>\n",
       "  </thead>\n",
       "  <tbody>\n",
       "    <tr>\n",
       "      <th>0</th>\n",
       "      <td>book</td>\n",
       "    </tr>\n",
       "    <tr>\n",
       "      <th>1</th>\n",
       "      <td>drink</td>\n",
       "    </tr>\n",
       "    <tr>\n",
       "      <th>2</th>\n",
       "      <td>before</td>\n",
       "    </tr>\n",
       "    <tr>\n",
       "      <th>3</th>\n",
       "      <td>chair</td>\n",
       "    </tr>\n",
       "    <tr>\n",
       "      <th>4</th>\n",
       "      <td>go</td>\n",
       "    </tr>\n",
       "  </tbody>\n",
       "</table>\n",
       "</div>"
      ],
      "text/plain": [
       "     sign\n",
       "0    book\n",
       "1   drink\n",
       "2  before\n",
       "3   chair\n",
       "4      go"
      ]
     },
     "execution_count": 61,
     "metadata": {},
     "output_type": "execute_result"
    }
   ],
   "source": [
    "glossary_decoding = load_glossary_decoding()\n",
    "glossary_decoding.head()"
   ]
  },
  {
   "cell_type": "markdown",
   "id": "f5b6c25e-0bd0-4293-a8df-3686e57de175",
   "metadata": {},
   "source": [
    "## Prediction on parquet files"
   ]
  },
  {
   "cell_type": "code",
   "execution_count": 62,
   "id": "9b7067ce-7b65-4064-a64e-54d040483446",
   "metadata": {
    "execution": {
     "iopub.execute_input": "2024-03-29T06:33:15.430181Z",
     "iopub.status.busy": "2024-03-29T06:33:15.429729Z",
     "iopub.status.idle": "2024-03-29T06:33:16.048556Z",
     "shell.execute_reply": "2024-03-29T06:33:16.047344Z",
     "shell.execute_reply.started": "2024-03-29T06:33:15.430151Z"
    },
    "tags": []
   },
   "outputs": [],
   "source": [
    "# Load model\n",
    "model_file = \"model_v6_250signs_filtered_pose_epoch_60.keras\"\n",
    "model_path = os.path.join('/home/bfrisque/code/benoitfrisque/signlens/', 'models_api', model_file)\n",
    "model = load_model(mode='from_path', model_path=model_path)\n"
   ]
  },
  {
   "cell_type": "code",
   "execution_count": 63,
   "id": "6a98b8b0-1ec5-4c98-b4c8-9d5bce707883",
   "metadata": {
    "execution": {
     "iopub.execute_input": "2024-03-29T06:33:16.054004Z",
     "iopub.status.busy": "2024-03-29T06:33:16.053626Z",
     "iopub.status.idle": "2024-03-29T06:33:34.331100Z",
     "shell.execute_reply": "2024-03-29T06:33:34.328622Z",
     "shell.execute_reply.started": "2024-03-29T06:33:16.053975Z"
    },
    "tags": []
   },
   "outputs": [
    {
     "name": "stdout",
     "output_type": "stream",
     "text": [
      "\u001b[34mLoading data subset from train_test.csv\u001b[0m\n",
      "    ℹ️ Random state set for data loading : 42\n",
      "    ℹ️ Filtered sequences with missing frames. Size reduced from 17233 to 17233 (100.00%)\n",
      "    ℹ️ Filtered on n_frames = 100. Size reduced from 17233 to 17233 (100.00%)\n",
      "    ℹ️ Filtered on n_classes = 250. Size reduced from 17233 to 17233 (100.00%)\n",
      "    ℹ️ Balanced data, with average of 6.9 elements per class. Size reduced from 17233 to 1723 (10.00%)\n",
      "✅ Loaded 1723 rows (10.00% of the original 17233 rows) from the dataset.\n",
      "\u001b[34m\n",
      "Preprocessing 1723 testing files...\u001b[0m\n"
     ]
    },
    {
     "name": "stderr",
     "output_type": "stream",
     "text": [
      "/home/bfrisque/.pyenv/versions/3.10.6/lib/python3.10/multiprocessing/popen_fork.py:66: RuntimeWarning: os.fork() was called. os.fork() is incompatible with multithreaded code, and JAX is multithreaded, so this will likely lead to a deadlock.\n",
      "  self.pid = os.fork()\n",
      "\n",
      "  0%|                                                                                             | 0/1723 [00:00<?, ?it/s]\u001b[A\n",
      "  0%|                                                                                     | 2/1723 [00:00<01:34, 18.21it/s]\u001b[A\n",
      "  2%|█▉                                                                                 | 41/1723 [00:00<00:07, 225.82it/s]\u001b[A\n",
      "  4%|███▍                                                                               | 72/1723 [00:00<00:06, 254.50it/s]\u001b[A\n",
      "  6%|█████▎                                                                            | 111/1723 [00:00<00:05, 303.61it/s]\u001b[A\n",
      "  8%|██████▊                                                                           | 144/1723 [00:00<00:05, 303.32it/s]\u001b[A\n",
      " 11%|████████▊                                                                         | 186/1723 [00:00<00:04, 324.47it/s]\u001b[A\n",
      " 13%|██████████▍                                                                       | 220/1723 [00:00<00:04, 322.05it/s]\u001b[A\n",
      " 15%|████████████                                                                      | 254/1723 [00:00<00:04, 324.51it/s]\u001b[A\n",
      " 17%|█████████████▋                                                                    | 287/1723 [00:00<00:04, 314.10it/s]\u001b[A\n",
      " 19%|███████████████▎                                                                  | 321/1723 [00:01<00:04, 310.92it/s]\u001b[A\n",
      " 20%|████████████████▊                                                                 | 353/1723 [00:01<00:04, 308.14it/s]\u001b[A\n",
      " 22%|██████████████████▎                                                               | 384/1723 [00:01<00:04, 294.80it/s]\u001b[A\n",
      " 24%|███████████████████▉                                                              | 419/1723 [00:01<00:04, 309.95it/s]\u001b[A\n",
      " 26%|█████████████████████▌                                                            | 453/1723 [00:01<00:04, 310.06it/s]\u001b[A\n",
      " 28%|███████████████████████                                                           | 485/1723 [00:01<00:04, 299.61it/s]\u001b[A\n",
      " 30%|████████████████████████▋                                                         | 519/1723 [00:01<00:03, 307.69it/s]\u001b[A\n",
      " 32%|██████████████████████████▏                                                       | 550/1723 [00:01<00:03, 307.06it/s]\u001b[A\n",
      " 34%|███████████████████████████▋                                                      | 581/1723 [00:01<00:03, 303.71it/s]\u001b[A\n",
      " 36%|█████████████████████████████▌                                                    | 621/1723 [00:02<00:03, 331.43it/s]\u001b[A\n",
      " 38%|███████████████████████████████▏                                                  | 655/1723 [00:02<00:03, 326.89it/s]\u001b[A\n",
      " 41%|█████████████████████████████████▍                                                | 702/1723 [00:02<00:02, 366.74it/s]\u001b[A\n",
      " 43%|███████████████████████████████████▏                                              | 739/1723 [00:02<00:02, 359.72it/s]\u001b[A\n",
      " 45%|████████████████████████████████████▉                                             | 776/1723 [00:02<00:02, 346.96it/s]\u001b[A\n",
      " 47%|██████████████████████████████████████▌                                           | 811/1723 [00:02<00:02, 327.34it/s]\u001b[A\n",
      " 49%|████████████████████████████████████████▏                                         | 845/1723 [00:02<00:02, 316.45it/s]\u001b[A\n",
      " 51%|█████████████████████████████████████████▉                                        | 881/1723 [00:02<00:02, 326.28it/s]\u001b[A\n",
      " 53%|███████████████████████████████████████████▋                                      | 917/1723 [00:02<00:02, 329.42it/s]\u001b[A\n",
      " 55%|█████████████████████████████████████████████▎                                    | 951/1723 [00:03<00:02, 309.90it/s]\u001b[A\n",
      " 57%|██████████████████████████████████████████████▊                                   | 983/1723 [00:03<00:02, 311.86it/s]\u001b[A\n",
      " 59%|███████████████████████████████████████████████▊                                 | 1016/1723 [00:03<00:02, 305.07it/s]\u001b[A\n",
      " 61%|█████████████████████████████████████████████████▎                               | 1050/1723 [00:03<00:02, 301.19it/s]\u001b[A\n",
      " 63%|██████████████████████████████████████████████████▊                              | 1081/1723 [00:03<00:02, 289.93it/s]\u001b[A\n",
      " 65%|████████████████████████████████████████████████████▎                            | 1112/1723 [00:03<00:02, 291.55it/s]\u001b[A\n",
      " 67%|█████████████████████████████████████████████████████▊                           | 1146/1723 [00:03<00:01, 297.99it/s]\u001b[A\n",
      " 69%|███████████████████████████████████████████████████████▌                         | 1181/1723 [00:03<00:01, 307.23it/s]\u001b[A\n",
      " 71%|█████████████████████████████████████████████████████████▏                       | 1217/1723 [00:03<00:01, 321.54it/s]\u001b[A\n",
      " 73%|██████████████████████████████████████████████████████████▊                      | 1252/1723 [00:04<00:01, 323.26it/s]\u001b[A\n",
      " 75%|████████████████████████████████████████████████████████████▍                    | 1286/1723 [00:04<00:01, 319.76it/s]\u001b[A\n",
      " 77%|██████████████████████████████████████████████████████████████                   | 1319/1723 [00:04<00:01, 305.59it/s]\u001b[A\n",
      " 78%|███████████████████████████████████████████████████████████████▍                 | 1350/1723 [00:04<00:01, 306.06it/s]\u001b[A\n",
      " 80%|████████████████████████████████████████████████████████████████▉                | 1381/1723 [00:04<00:01, 296.98it/s]\u001b[A\n",
      " 82%|██████████████████████████████████████████████████████████████████▌              | 1416/1723 [00:04<00:01, 302.75it/s]\u001b[A\n",
      " 84%|████████████████████████████████████████████████████████████████████             | 1447/1723 [00:04<00:00, 301.04it/s]\u001b[A\n",
      " 86%|█████████████████████████████████████████████████████████████████████▌           | 1479/1723 [00:04<00:00, 298.28it/s]\u001b[A\n",
      " 88%|███████████████████████████████████████████████████████████████████████▎         | 1518/1723 [00:04<00:00, 319.42it/s]\u001b[A\n",
      " 90%|████████████████████████████████████████████████████████████████████████▉        | 1551/1723 [00:05<00:00, 300.06it/s]\u001b[A\n",
      " 92%|██████████████████████████████████████████████████████████████████████████▋      | 1588/1723 [00:05<00:00, 313.89it/s]\u001b[A\n",
      " 94%|████████████████████████████████████████████████████████████████████████████▍    | 1625/1723 [00:05<00:00, 325.73it/s]\u001b[A\n",
      " 96%|█████████████████████████████████████████████████████████████████████████████▉   | 1658/1723 [00:05<00:00, 315.15it/s]\u001b[A\n",
      "100%|█████████████████████████████████████████████████████████████████████████████████| 1723/1723 [00:05<00:00, 310.41it/s]\u001b[A\n"
     ]
    },
    {
     "name": "stdout",
     "output_type": "stream",
     "text": [
      "\u001b[34m\n",
      "Evaluating model on 1723 rows...\u001b[0m\n",
      "✅ Model evaluated, accuracy: 55.7%\n"
     ]
    }
   ],
   "source": [
    "test_data = load_data_subset_csv(balanced=True, csv_path=TRAIN_TEST_CSV_PATH, random_state=42, frac=0.1)\n",
    "X_test_files = test_data.file_path\n",
    "\n",
    "# Preprocessing\n",
    "print(Fore.BLUE + f\"\\nPreprocessing {len(X_test_files)} testing files...\" + Style.RESET_ALL)\n",
    "X_test = pad_and_preprocess_sequences_from_pq_file_path_df(X_test_files)\n",
    "y_test = encode_labels(test_data.sign)\n",
    "\n",
    "\n",
    "metrics_dict = evaluate_model(model, X_test, y_test)\n",
    "accuracy = metrics_dict['accuracy']\n"
   ]
  },
  {
   "cell_type": "markdown",
   "id": "b18a8fb6-9ebc-408c-88ff-a597e8e4f17d",
   "metadata": {},
   "source": [
    "### Check of parquet file landmarks"
   ]
  },
  {
   "cell_type": "code",
   "execution_count": 72,
   "id": "906b0edf-66d5-4901-9ba3-bdc6621ba987",
   "metadata": {
    "execution": {
     "iopub.execute_input": "2024-03-29T06:41:07.177018Z",
     "iopub.status.busy": "2024-03-29T06:41:07.176672Z",
     "iopub.status.idle": "2024-03-29T06:41:07.243544Z",
     "shell.execute_reply": "2024-03-29T06:41:07.241863Z",
     "shell.execute_reply.started": "2024-03-29T06:41:07.176992Z"
    },
    "tags": []
   },
   "outputs": [
    {
     "name": "stdout",
     "output_type": "stream",
     "text": [
      "2100\n",
      "588\n",
      "588\n",
      "924\n",
      "28\n",
      "21\n"
     ]
    }
   ],
   "source": [
    "data_columns = ['frame', 'type', 'x', 'y', 'z']\n",
    "data = pd.read_parquet(X_test_files[0], columns=data_columns)\n",
    "print(len(data))\n",
    "print(len(data[data.type == 'left_hand']))\n",
    "print(len(data[data.type == 'right_hand']))\n",
    "print(len(data[data.type == 'pose']))\n",
    "\n",
    "n_frames = data.frame.nunique()\n",
    "print(n_frames)\n",
    "print(N_LANDMARKS_HAND)\n",
    "data_left_hand = data[data.type == 'left_hand'][[\n",
    "    'x', 'y', 'z']].values.reshape(n_frames, N_LANDMARKS_HAND, 3)\n",
    "data_right_hand = data[data.type == 'right_hand'][[\n",
    "    'x', 'y', 'z']].values.reshape(n_frames, N_LANDMARKS_HAND, 3)"
   ]
  },
  {
   "cell_type": "code",
   "execution_count": 80,
   "id": "3a8f0d94-5ea4-4c25-9fd0-13a8d4319af3",
   "metadata": {
    "execution": {
     "iopub.execute_input": "2024-03-29T06:44:05.998535Z",
     "iopub.status.busy": "2024-03-29T06:44:05.997490Z",
     "iopub.status.idle": "2024-03-29T06:44:06.043890Z",
     "shell.execute_reply": "2024-03-29T06:44:06.042680Z",
     "shell.execute_reply.started": "2024-03-29T06:44:05.998501Z"
    },
    "tags": []
   },
   "outputs": [],
   "source": [
    "data_pose = data[data.type == 'pose'][['x', 'y', 'z']\n",
    "                                          ].values.reshape(n_frames, N_LANDMARKS_POSE_TOTAL, 3)"
   ]
  },
  {
   "cell_type": "code",
   "execution_count": null,
   "id": "357f4737-c572-43aa-8edb-5140bc3004cd",
   "metadata": {},
   "outputs": [],
   "source": []
  },
  {
   "cell_type": "code",
   "execution_count": 78,
   "id": "d0c30488-e3c2-458c-9bf7-e561bb7aba5f",
   "metadata": {
    "execution": {
     "iopub.execute_input": "2024-03-29T06:43:28.081977Z",
     "iopub.status.busy": "2024-03-29T06:43:28.081171Z",
     "iopub.status.idle": "2024-03-29T06:43:28.373845Z",
     "shell.execute_reply": "2024-03-29T06:43:28.372363Z",
     "shell.execute_reply.started": "2024-03-29T06:43:28.081943Z"
    },
    "tags": []
   },
   "outputs": [
    {
     "name": "stdout",
     "output_type": "stream",
     "text": [
      "--------------------\n",
      "dad\n",
      "--------------------\n"
     ]
    },
    {
     "data": {
      "application/vnd.jupyter.widget-view+json": {
       "model_id": "75863855c0754131af98fc6191b90de9",
       "version_major": 2,
       "version_minor": 0
      },
      "text/plain": [
       "GridspecLayout(children=(Output(layout=Layout(grid_area='widget001')), Output(layout=Layout(grid_area='widget0…"
      ]
     },
     "metadata": {},
     "output_type": "display_data"
    }
   ],
   "source": [
    "video_grid_landmarks_2D(test_data, sign=\"dad\", n_videos=3)"
   ]
  },
  {
   "cell_type": "markdown",
   "id": "88300cd4-a2cd-4289-a725-6e534ef24f9e",
   "metadata": {},
   "source": [
    "## Prediction on json from videos"
   ]
  },
  {
   "cell_type": "markdown",
   "id": "9a045f14-fa7a-4ac3-a58e-0c252d121a58",
   "metadata": {
    "tags": []
   },
   "source": [
    "### Select test set"
   ]
  },
  {
   "cell_type": "code",
   "execution_count": 10,
   "id": "3e665a18-a5f7-4b29-b83e-bc6aae5d9514",
   "metadata": {
    "execution": {
     "iopub.execute_input": "2024-03-29T06:19:25.619207Z",
     "iopub.status.busy": "2024-03-29T06:19:25.618172Z",
     "iopub.status.idle": "2024-03-29T06:19:27.163772Z",
     "shell.execute_reply": "2024-03-29T06:19:27.162484Z",
     "shell.execute_reply.started": "2024-03-29T06:19:25.619151Z"
    },
    "tags": []
   },
   "outputs": [],
   "source": [
    "videos = load_video_list_json(filter_glossary=True)"
   ]
  },
  {
   "cell_type": "code",
   "execution_count": 19,
   "id": "5fb1c130-2c6d-4573-bb32-4c05791d863e",
   "metadata": {
    "execution": {
     "iopub.execute_input": "2024-03-29T06:19:34.168966Z",
     "iopub.status.busy": "2024-03-29T06:19:34.168349Z",
     "iopub.status.idle": "2024-03-29T06:19:34.226942Z",
     "shell.execute_reply": "2024-03-29T06:19:34.225445Z",
     "shell.execute_reply.started": "2024-03-29T06:19:34.168929Z"
    },
    "tags": []
   },
   "outputs": [],
   "source": [
    "# test_videos = videos.sample(n=500, random_state=42)\n",
    "test_videos = videos.sample(n=30, random_state=42)"
   ]
  },
  {
   "cell_type": "code",
   "execution_count": 20,
   "id": "cfebc2dc-f908-4e11-b5ad-9ea4bd4e371e",
   "metadata": {
    "execution": {
     "iopub.execute_input": "2024-03-29T06:19:34.229205Z",
     "iopub.status.busy": "2024-03-29T06:19:34.228583Z",
     "iopub.status.idle": "2024-03-29T06:19:34.313089Z",
     "shell.execute_reply": "2024-03-29T06:19:34.311437Z",
     "shell.execute_reply.started": "2024-03-29T06:19:34.229169Z"
    },
    "tags": []
   },
   "outputs": [
    {
     "data": {
      "text/html": [
       "<div>\n",
       "<style scoped>\n",
       "    .dataframe tbody tr th:only-of-type {\n",
       "        vertical-align: middle;\n",
       "    }\n",
       "\n",
       "    .dataframe tbody tr th {\n",
       "        vertical-align: top;\n",
       "    }\n",
       "\n",
       "    .dataframe thead th {\n",
       "        text-align: right;\n",
       "    }\n",
       "</style>\n",
       "<table border=\"1\" class=\"dataframe\">\n",
       "  <thead>\n",
       "    <tr style=\"text-align: right;\">\n",
       "      <th></th>\n",
       "      <th>sign</th>\n",
       "      <th>bbox</th>\n",
       "      <th>fps</th>\n",
       "      <th>frame_end</th>\n",
       "      <th>frame_start</th>\n",
       "      <th>instance_id</th>\n",
       "      <th>signer_id</th>\n",
       "      <th>source</th>\n",
       "      <th>split</th>\n",
       "      <th>url</th>\n",
       "      <th>variation_id</th>\n",
       "      <th>video_id</th>\n",
       "      <th>video_path</th>\n",
       "    </tr>\n",
       "  </thead>\n",
       "  <tbody>\n",
       "    <tr>\n",
       "      <th>1125</th>\n",
       "      <td>on</td>\n",
       "      <td>[29, 0, 267, 240]</td>\n",
       "      <td>25</td>\n",
       "      <td>-1</td>\n",
       "      <td>1</td>\n",
       "      <td>3</td>\n",
       "      <td>37</td>\n",
       "      <td>spreadthesign</td>\n",
       "      <td>train</td>\n",
       "      <td>https://media.spreadthesign.com/video/mp4/13/4...</td>\n",
       "      <td>0</td>\n",
       "      <td>39839</td>\n",
       "      <td>/home/bfrisque/code/benoitfrisque/signlens/raw...</td>\n",
       "    </tr>\n",
       "    <tr>\n",
       "      <th>184</th>\n",
       "      <td>white</td>\n",
       "      <td>[183, 52, 544, 400]</td>\n",
       "      <td>25</td>\n",
       "      <td>-1</td>\n",
       "      <td>1</td>\n",
       "      <td>16</td>\n",
       "      <td>12</td>\n",
       "      <td>aslsearch</td>\n",
       "      <td>train</td>\n",
       "      <td>http://www.aslsearch.com/signs/videos/white.mp4</td>\n",
       "      <td>0</td>\n",
       "      <td>63214</td>\n",
       "      <td>/home/bfrisque/code/benoitfrisque/signlens/raw...</td>\n",
       "    </tr>\n",
       "    <tr>\n",
       "      <th>1226</th>\n",
       "      <td>water</td>\n",
       "      <td>[89, 22, 204, 192]</td>\n",
       "      <td>25</td>\n",
       "      <td>-1</td>\n",
       "      <td>1</td>\n",
       "      <td>6</td>\n",
       "      <td>10</td>\n",
       "      <td>signingsavvy</td>\n",
       "      <td>train</td>\n",
       "      <td>https://www.signingsavvy.com/signs/mp4/22/2297...</td>\n",
       "      <td>0</td>\n",
       "      <td>62506</td>\n",
       "      <td>/home/bfrisque/code/benoitfrisque/signlens/raw...</td>\n",
       "    </tr>\n",
       "    <tr>\n",
       "      <th>67</th>\n",
       "      <td>jump</td>\n",
       "      <td>[167, 16, 480, 370]</td>\n",
       "      <td>25</td>\n",
       "      <td>-1</td>\n",
       "      <td>1</td>\n",
       "      <td>1</td>\n",
       "      <td>90</td>\n",
       "      <td>aslsignbank</td>\n",
       "      <td>train</td>\n",
       "      <td>https://aslsignbank.haskins.yale.edu/dictionar...</td>\n",
       "      <td>0</td>\n",
       "      <td>65983</td>\n",
       "      <td>/home/bfrisque/code/benoitfrisque/signlens/raw...</td>\n",
       "    </tr>\n",
       "    <tr>\n",
       "      <th>220</th>\n",
       "      <td>yes</td>\n",
       "      <td>[168, 14, 461, 370]</td>\n",
       "      <td>25</td>\n",
       "      <td>-1</td>\n",
       "      <td>1</td>\n",
       "      <td>13</td>\n",
       "      <td>88</td>\n",
       "      <td>aslsignbank</td>\n",
       "      <td>train</td>\n",
       "      <td>https://aslsignbank.haskins.yale.edu/dictionar...</td>\n",
       "      <td>0</td>\n",
       "      <td>66820</td>\n",
       "      <td>/home/bfrisque/code/benoitfrisque/signlens/raw...</td>\n",
       "    </tr>\n",
       "    <tr>\n",
       "      <th>903</th>\n",
       "      <td>sick</td>\n",
       "      <td>[250, 30, 912, 720]</td>\n",
       "      <td>25</td>\n",
       "      <td>-1</td>\n",
       "      <td>1</td>\n",
       "      <td>1</td>\n",
       "      <td>118</td>\n",
       "      <td>aslbrick</td>\n",
       "      <td>test</td>\n",
       "      <td>http://aslbricks.org/New/ASL-Videos/sick.mp4</td>\n",
       "      <td>0</td>\n",
       "      <td>69470</td>\n",
       "      <td>/home/bfrisque/code/benoitfrisque/signlens/raw...</td>\n",
       "    </tr>\n",
       "    <tr>\n",
       "      <th>430</th>\n",
       "      <td>read</td>\n",
       "      <td>[42, 0, 252, 240]</td>\n",
       "      <td>25</td>\n",
       "      <td>-1</td>\n",
       "      <td>1</td>\n",
       "      <td>8</td>\n",
       "      <td>37</td>\n",
       "      <td>spreadthesign</td>\n",
       "      <td>train</td>\n",
       "      <td>https://media.spreadthesign.com/video/mp4/13/4...</td>\n",
       "      <td>0</td>\n",
       "      <td>46266</td>\n",
       "      <td>/home/bfrisque/code/benoitfrisque/signlens/raw...</td>\n",
       "    </tr>\n",
       "    <tr>\n",
       "      <th>240</th>\n",
       "      <td>fish</td>\n",
       "      <td>[98, 12, 236, 180]</td>\n",
       "      <td>25</td>\n",
       "      <td>-1</td>\n",
       "      <td>1</td>\n",
       "      <td>16</td>\n",
       "      <td>19</td>\n",
       "      <td>elementalasl</td>\n",
       "      <td>val</td>\n",
       "      <td>https://elementalaslconcepts.weebly.com/upload...</td>\n",
       "      <td>1</td>\n",
       "      <td>22113</td>\n",
       "      <td>/home/bfrisque/code/benoitfrisque/signlens/raw...</td>\n",
       "    </tr>\n",
       "    <tr>\n",
       "      <th>218</th>\n",
       "      <td>apple</td>\n",
       "      <td>[212, 17, 526, 414]</td>\n",
       "      <td>25</td>\n",
       "      <td>-1</td>\n",
       "      <td>1</td>\n",
       "      <td>17</td>\n",
       "      <td>36</td>\n",
       "      <td>startasl</td>\n",
       "      <td>train</td>\n",
       "      <td>https://s3-us-west-1.amazonaws.com/files.start...</td>\n",
       "      <td>0</td>\n",
       "      <td>03002</td>\n",
       "      <td>/home/bfrisque/code/benoitfrisque/signlens/raw...</td>\n",
       "    </tr>\n",
       "    <tr>\n",
       "      <th>49</th>\n",
       "      <td>hello</td>\n",
       "      <td>[34, 11, 536, 480]</td>\n",
       "      <td>25</td>\n",
       "      <td>-1</td>\n",
       "      <td>1</td>\n",
       "      <td>12</td>\n",
       "      <td>21</td>\n",
       "      <td>asldeafined</td>\n",
       "      <td>train</td>\n",
       "      <td>https://media.asldeafined.com/vocabulary/14685...</td>\n",
       "      <td>0</td>\n",
       "      <td>27173</td>\n",
       "      <td>/home/bfrisque/code/benoitfrisque/signlens/raw...</td>\n",
       "    </tr>\n",
       "    <tr>\n",
       "      <th>816</th>\n",
       "      <td>make</td>\n",
       "      <td>[716, 69, 1635, 1080]</td>\n",
       "      <td>25</td>\n",
       "      <td>-1</td>\n",
       "      <td>1</td>\n",
       "      <td>15</td>\n",
       "      <td>4</td>\n",
       "      <td>signschool</td>\n",
       "      <td>train</td>\n",
       "      <td>https://signstock.blob.core.windows.net/signsc...</td>\n",
       "      <td>0</td>\n",
       "      <td>34580</td>\n",
       "      <td>/home/bfrisque/code/benoitfrisque/signlens/raw...</td>\n",
       "    </tr>\n",
       "    <tr>\n",
       "      <th>844</th>\n",
       "      <td>can</td>\n",
       "      <td>[69, 17, 552, 480]</td>\n",
       "      <td>25</td>\n",
       "      <td>-1</td>\n",
       "      <td>1</td>\n",
       "      <td>11</td>\n",
       "      <td>59</td>\n",
       "      <td>asldeafined</td>\n",
       "      <td>train</td>\n",
       "      <td>https://media.asldeafined.com/vocabulary/14667...</td>\n",
       "      <td>0</td>\n",
       "      <td>08937</td>\n",
       "      <td>/home/bfrisque/code/benoitfrisque/signlens/raw...</td>\n",
       "    </tr>\n",
       "    <tr>\n",
       "      <th>619</th>\n",
       "      <td>drop</td>\n",
       "      <td>[180, 64, 545, 400]</td>\n",
       "      <td>25</td>\n",
       "      <td>-1</td>\n",
       "      <td>1</td>\n",
       "      <td>10</td>\n",
       "      <td>12</td>\n",
       "      <td>aslsearch</td>\n",
       "      <td>val</td>\n",
       "      <td>http://www.aslsearch.com/signs/videos/drop.mp4</td>\n",
       "      <td>1</td>\n",
       "      <td>17832</td>\n",
       "      <td>/home/bfrisque/code/benoitfrisque/signlens/raw...</td>\n",
       "    </tr>\n",
       "    <tr>\n",
       "      <th>361</th>\n",
       "      <td>green</td>\n",
       "      <td>[233, 17, 526, 414]</td>\n",
       "      <td>25</td>\n",
       "      <td>-1</td>\n",
       "      <td>1</td>\n",
       "      <td>12</td>\n",
       "      <td>36</td>\n",
       "      <td>startasl</td>\n",
       "      <td>train</td>\n",
       "      <td>https://s3-us-west-1.amazonaws.com/files.start...</td>\n",
       "      <td>0</td>\n",
       "      <td>25686</td>\n",
       "      <td>/home/bfrisque/code/benoitfrisque/signlens/raw...</td>\n",
       "    </tr>\n",
       "    <tr>\n",
       "      <th>1429</th>\n",
       "      <td>drink</td>\n",
       "      <td>[68, 18, 220, 192]</td>\n",
       "      <td>25</td>\n",
       "      <td>-1</td>\n",
       "      <td>1</td>\n",
       "      <td>34</td>\n",
       "      <td>11</td>\n",
       "      <td>signingsavvy</td>\n",
       "      <td>val</td>\n",
       "      <td>https://www.signingsavvy.com/signs/mp4/7/7796.mp4</td>\n",
       "      <td>0</td>\n",
       "      <td>17724</td>\n",
       "      <td>/home/bfrisque/code/benoitfrisque/signlens/raw...</td>\n",
       "    </tr>\n",
       "    <tr>\n",
       "      <th>873</th>\n",
       "      <td>open</td>\n",
       "      <td>[45, 6, 255, 240]</td>\n",
       "      <td>25</td>\n",
       "      <td>-1</td>\n",
       "      <td>1</td>\n",
       "      <td>4</td>\n",
       "      <td>0</td>\n",
       "      <td>spreadthesign</td>\n",
       "      <td>train</td>\n",
       "      <td>https://media.spreadthesign.com/video/mp4/13/5...</td>\n",
       "      <td>0</td>\n",
       "      <td>39951</td>\n",
       "      <td>/home/bfrisque/code/benoitfrisque/signlens/raw...</td>\n",
       "    </tr>\n",
       "    <tr>\n",
       "      <th>1439</th>\n",
       "      <td>bedroom</td>\n",
       "      <td>[173, 51, 534, 400]</td>\n",
       "      <td>25</td>\n",
       "      <td>-1</td>\n",
       "      <td>1</td>\n",
       "      <td>6</td>\n",
       "      <td>12</td>\n",
       "      <td>aslsearch</td>\n",
       "      <td>train</td>\n",
       "      <td>http://www.aslsearch.com/signs/videos/bedroom.mp4</td>\n",
       "      <td>0</td>\n",
       "      <td>05661</td>\n",
       "      <td>/home/bfrisque/code/benoitfrisque/signlens/raw...</td>\n",
       "    </tr>\n",
       "    <tr>\n",
       "      <th>754</th>\n",
       "      <td>hair</td>\n",
       "      <td>[150, 47, 565, 400]</td>\n",
       "      <td>25</td>\n",
       "      <td>-1</td>\n",
       "      <td>1</td>\n",
       "      <td>4</td>\n",
       "      <td>12</td>\n",
       "      <td>aslsearch</td>\n",
       "      <td>val</td>\n",
       "      <td>http://www.aslsearch.com/signs/videos/hair.mp4</td>\n",
       "      <td>0</td>\n",
       "      <td>26174</td>\n",
       "      <td>/home/bfrisque/code/benoitfrisque/signlens/raw...</td>\n",
       "    </tr>\n",
       "    <tr>\n",
       "      <th>271</th>\n",
       "      <td>tooth</td>\n",
       "      <td>[74, 13, 242, 240]</td>\n",
       "      <td>25</td>\n",
       "      <td>-1</td>\n",
       "      <td>1</td>\n",
       "      <td>1</td>\n",
       "      <td>26</td>\n",
       "      <td>spreadthesign</td>\n",
       "      <td>train</td>\n",
       "      <td>https://media.spreadthesign.com/video/mp4/13/3...</td>\n",
       "      <td>0</td>\n",
       "      <td>58908</td>\n",
       "      <td>/home/bfrisque/code/benoitfrisque/signlens/raw...</td>\n",
       "    </tr>\n",
       "    <tr>\n",
       "      <th>522</th>\n",
       "      <td>awake</td>\n",
       "      <td>[63, 11, 219, 192]</td>\n",
       "      <td>25</td>\n",
       "      <td>-1</td>\n",
       "      <td>1</td>\n",
       "      <td>5</td>\n",
       "      <td>11</td>\n",
       "      <td>signingsavvy</td>\n",
       "      <td>val</td>\n",
       "      <td>https://www.signingsavvy.com/signs/mp4/9/9364.mp4</td>\n",
       "      <td>0</td>\n",
       "      <td>04358</td>\n",
       "      <td>/home/bfrisque/code/benoitfrisque/signlens/raw...</td>\n",
       "    </tr>\n",
       "    <tr>\n",
       "      <th>259</th>\n",
       "      <td>listen</td>\n",
       "      <td>[241, 47, 491, 400]</td>\n",
       "      <td>25</td>\n",
       "      <td>-1</td>\n",
       "      <td>1</td>\n",
       "      <td>7</td>\n",
       "      <td>41</td>\n",
       "      <td>aslsearch</td>\n",
       "      <td>train</td>\n",
       "      <td>http://www.aslsearch.com/signs/videos/listen.mp4</td>\n",
       "      <td>0</td>\n",
       "      <td>33466</td>\n",
       "      <td>/home/bfrisque/code/benoitfrisque/signlens/raw...</td>\n",
       "    </tr>\n",
       "    <tr>\n",
       "      <th>428</th>\n",
       "      <td>police</td>\n",
       "      <td>[199, 10, 471, 370]</td>\n",
       "      <td>25</td>\n",
       "      <td>-1</td>\n",
       "      <td>1</td>\n",
       "      <td>8</td>\n",
       "      <td>101</td>\n",
       "      <td>aslsignbank</td>\n",
       "      <td>val</td>\n",
       "      <td>https://aslsignbank.haskins.yale.edu/dictionar...</td>\n",
       "      <td>0</td>\n",
       "      <td>66306</td>\n",
       "      <td>/home/bfrisque/code/benoitfrisque/signlens/raw...</td>\n",
       "    </tr>\n",
       "    <tr>\n",
       "      <th>1167</th>\n",
       "      <td>because</td>\n",
       "      <td>[651, 60, 1692, 1070]</td>\n",
       "      <td>25</td>\n",
       "      <td>-1</td>\n",
       "      <td>1</td>\n",
       "      <td>2</td>\n",
       "      <td>4</td>\n",
       "      <td>signschool</td>\n",
       "      <td>train</td>\n",
       "      <td>https://signstock.blob.core.windows.net/signsc...</td>\n",
       "      <td>0</td>\n",
       "      <td>05598</td>\n",
       "      <td>/home/bfrisque/code/benoitfrisque/signlens/raw...</td>\n",
       "    </tr>\n",
       "    <tr>\n",
       "      <th>277</th>\n",
       "      <td>because</td>\n",
       "      <td>[154, 13, 470, 370]</td>\n",
       "      <td>25</td>\n",
       "      <td>-1</td>\n",
       "      <td>1</td>\n",
       "      <td>8</td>\n",
       "      <td>88</td>\n",
       "      <td>aslsignbank</td>\n",
       "      <td>train</td>\n",
       "      <td>https://aslsignbank.haskins.yale.edu/dictionar...</td>\n",
       "      <td>0</td>\n",
       "      <td>65158</td>\n",
       "      <td>/home/bfrisque/code/benoitfrisque/signlens/raw...</td>\n",
       "    </tr>\n",
       "    <tr>\n",
       "      <th>968</th>\n",
       "      <td>rain</td>\n",
       "      <td>[184, 55, 567, 400]</td>\n",
       "      <td>25</td>\n",
       "      <td>-1</td>\n",
       "      <td>1</td>\n",
       "      <td>3</td>\n",
       "      <td>12</td>\n",
       "      <td>aslsearch</td>\n",
       "      <td>train</td>\n",
       "      <td>http://www.aslsearch.com/signs/videos/precipit...</td>\n",
       "      <td>0</td>\n",
       "      <td>46001</td>\n",
       "      <td>/home/bfrisque/code/benoitfrisque/signlens/raw...</td>\n",
       "    </tr>\n",
       "    <tr>\n",
       "      <th>570</th>\n",
       "      <td>book</td>\n",
       "      <td>[82, 11, 212, 192]</td>\n",
       "      <td>25</td>\n",
       "      <td>-1</td>\n",
       "      <td>1</td>\n",
       "      <td>29</td>\n",
       "      <td>11</td>\n",
       "      <td>signingsavvy</td>\n",
       "      <td>train</td>\n",
       "      <td>https://www.signingsavvy.com/signs/mp4/14/1432...</td>\n",
       "      <td>0</td>\n",
       "      <td>07074</td>\n",
       "      <td>/home/bfrisque/code/benoitfrisque/signlens/raw...</td>\n",
       "    </tr>\n",
       "    <tr>\n",
       "      <th>672</th>\n",
       "      <td>snack</td>\n",
       "      <td>[82, 4, 212, 192]</td>\n",
       "      <td>25</td>\n",
       "      <td>-1</td>\n",
       "      <td>1</td>\n",
       "      <td>6</td>\n",
       "      <td>11</td>\n",
       "      <td>signingsavvy</td>\n",
       "      <td>val</td>\n",
       "      <td>https://www.signingsavvy.com/signs/mp4/14/1488...</td>\n",
       "      <td>0</td>\n",
       "      <td>52691</td>\n",
       "      <td>/home/bfrisque/code/benoitfrisque/signlens/raw...</td>\n",
       "    </tr>\n",
       "    <tr>\n",
       "      <th>621</th>\n",
       "      <td>cloud</td>\n",
       "      <td>[0, 0, 320, 240]</td>\n",
       "      <td>25</td>\n",
       "      <td>-1</td>\n",
       "      <td>1</td>\n",
       "      <td>6</td>\n",
       "      <td>56</td>\n",
       "      <td>spreadthesign</td>\n",
       "      <td>train</td>\n",
       "      <td>https://media.spreadthesign.com/video/mp4/13/5...</td>\n",
       "      <td>1</td>\n",
       "      <td>11358</td>\n",
       "      <td>/home/bfrisque/code/benoitfrisque/signlens/raw...</td>\n",
       "    </tr>\n",
       "    <tr>\n",
       "      <th>1049</th>\n",
       "      <td>dance</td>\n",
       "      <td>[333, 54, 820, 720]</td>\n",
       "      <td>25</td>\n",
       "      <td>-1</td>\n",
       "      <td>1</td>\n",
       "      <td>16</td>\n",
       "      <td>38</td>\n",
       "      <td>startasl</td>\n",
       "      <td>train</td>\n",
       "      <td>https://s3-us-west-1.amazonaws.com/files.start...</td>\n",
       "      <td>0</td>\n",
       "      <td>14623</td>\n",
       "      <td>/home/bfrisque/code/benoitfrisque/signlens/raw...</td>\n",
       "    </tr>\n",
       "    <tr>\n",
       "      <th>247</th>\n",
       "      <td>arm</td>\n",
       "      <td>[738, 73, 1592, 1080]</td>\n",
       "      <td>25</td>\n",
       "      <td>-1</td>\n",
       "      <td>1</td>\n",
       "      <td>6</td>\n",
       "      <td>32</td>\n",
       "      <td>signschool</td>\n",
       "      <td>train</td>\n",
       "      <td>https://signstock.blob.core.windows.net/signsc...</td>\n",
       "      <td>0</td>\n",
       "      <td>03338</td>\n",
       "      <td>/home/bfrisque/code/benoitfrisque/signlens/raw...</td>\n",
       "    </tr>\n",
       "  </tbody>\n",
       "</table>\n",
       "</div>"
      ],
      "text/plain": [
       "         sign                   bbox  fps  frame_end  frame_start  \\\n",
       "1125       on      [29, 0, 267, 240]   25         -1            1   \n",
       "184     white    [183, 52, 544, 400]   25         -1            1   \n",
       "1226    water     [89, 22, 204, 192]   25         -1            1   \n",
       "67       jump    [167, 16, 480, 370]   25         -1            1   \n",
       "220       yes    [168, 14, 461, 370]   25         -1            1   \n",
       "903      sick    [250, 30, 912, 720]   25         -1            1   \n",
       "430      read      [42, 0, 252, 240]   25         -1            1   \n",
       "240      fish     [98, 12, 236, 180]   25         -1            1   \n",
       "218     apple    [212, 17, 526, 414]   25         -1            1   \n",
       "49      hello     [34, 11, 536, 480]   25         -1            1   \n",
       "816      make  [716, 69, 1635, 1080]   25         -1            1   \n",
       "844       can     [69, 17, 552, 480]   25         -1            1   \n",
       "619      drop    [180, 64, 545, 400]   25         -1            1   \n",
       "361     green    [233, 17, 526, 414]   25         -1            1   \n",
       "1429    drink     [68, 18, 220, 192]   25         -1            1   \n",
       "873      open      [45, 6, 255, 240]   25         -1            1   \n",
       "1439  bedroom    [173, 51, 534, 400]   25         -1            1   \n",
       "754      hair    [150, 47, 565, 400]   25         -1            1   \n",
       "271     tooth     [74, 13, 242, 240]   25         -1            1   \n",
       "522     awake     [63, 11, 219, 192]   25         -1            1   \n",
       "259    listen    [241, 47, 491, 400]   25         -1            1   \n",
       "428    police    [199, 10, 471, 370]   25         -1            1   \n",
       "1167  because  [651, 60, 1692, 1070]   25         -1            1   \n",
       "277   because    [154, 13, 470, 370]   25         -1            1   \n",
       "968      rain    [184, 55, 567, 400]   25         -1            1   \n",
       "570      book     [82, 11, 212, 192]   25         -1            1   \n",
       "672     snack      [82, 4, 212, 192]   25         -1            1   \n",
       "621     cloud       [0, 0, 320, 240]   25         -1            1   \n",
       "1049    dance    [333, 54, 820, 720]   25         -1            1   \n",
       "247       arm  [738, 73, 1592, 1080]   25         -1            1   \n",
       "\n",
       "      instance_id  signer_id         source  split  \\\n",
       "1125            3         37  spreadthesign  train   \n",
       "184            16         12      aslsearch  train   \n",
       "1226            6         10   signingsavvy  train   \n",
       "67              1         90    aslsignbank  train   \n",
       "220            13         88    aslsignbank  train   \n",
       "903             1        118       aslbrick   test   \n",
       "430             8         37  spreadthesign  train   \n",
       "240            16         19   elementalasl    val   \n",
       "218            17         36       startasl  train   \n",
       "49             12         21    asldeafined  train   \n",
       "816            15          4     signschool  train   \n",
       "844            11         59    asldeafined  train   \n",
       "619            10         12      aslsearch    val   \n",
       "361            12         36       startasl  train   \n",
       "1429           34         11   signingsavvy    val   \n",
       "873             4          0  spreadthesign  train   \n",
       "1439            6         12      aslsearch  train   \n",
       "754             4         12      aslsearch    val   \n",
       "271             1         26  spreadthesign  train   \n",
       "522             5         11   signingsavvy    val   \n",
       "259             7         41      aslsearch  train   \n",
       "428             8        101    aslsignbank    val   \n",
       "1167            2          4     signschool  train   \n",
       "277             8         88    aslsignbank  train   \n",
       "968             3         12      aslsearch  train   \n",
       "570            29         11   signingsavvy  train   \n",
       "672             6         11   signingsavvy    val   \n",
       "621             6         56  spreadthesign  train   \n",
       "1049           16         38       startasl  train   \n",
       "247             6         32     signschool  train   \n",
       "\n",
       "                                                    url  variation_id  \\\n",
       "1125  https://media.spreadthesign.com/video/mp4/13/4...             0   \n",
       "184     http://www.aslsearch.com/signs/videos/white.mp4             0   \n",
       "1226  https://www.signingsavvy.com/signs/mp4/22/2297...             0   \n",
       "67    https://aslsignbank.haskins.yale.edu/dictionar...             0   \n",
       "220   https://aslsignbank.haskins.yale.edu/dictionar...             0   \n",
       "903        http://aslbricks.org/New/ASL-Videos/sick.mp4             0   \n",
       "430   https://media.spreadthesign.com/video/mp4/13/4...             0   \n",
       "240   https://elementalaslconcepts.weebly.com/upload...             1   \n",
       "218   https://s3-us-west-1.amazonaws.com/files.start...             0   \n",
       "49    https://media.asldeafined.com/vocabulary/14685...             0   \n",
       "816   https://signstock.blob.core.windows.net/signsc...             0   \n",
       "844   https://media.asldeafined.com/vocabulary/14667...             0   \n",
       "619      http://www.aslsearch.com/signs/videos/drop.mp4             1   \n",
       "361   https://s3-us-west-1.amazonaws.com/files.start...             0   \n",
       "1429  https://www.signingsavvy.com/signs/mp4/7/7796.mp4             0   \n",
       "873   https://media.spreadthesign.com/video/mp4/13/5...             0   \n",
       "1439  http://www.aslsearch.com/signs/videos/bedroom.mp4             0   \n",
       "754      http://www.aslsearch.com/signs/videos/hair.mp4             0   \n",
       "271   https://media.spreadthesign.com/video/mp4/13/3...             0   \n",
       "522   https://www.signingsavvy.com/signs/mp4/9/9364.mp4             0   \n",
       "259    http://www.aslsearch.com/signs/videos/listen.mp4             0   \n",
       "428   https://aslsignbank.haskins.yale.edu/dictionar...             0   \n",
       "1167  https://signstock.blob.core.windows.net/signsc...             0   \n",
       "277   https://aslsignbank.haskins.yale.edu/dictionar...             0   \n",
       "968   http://www.aslsearch.com/signs/videos/precipit...             0   \n",
       "570   https://www.signingsavvy.com/signs/mp4/14/1432...             0   \n",
       "672   https://www.signingsavvy.com/signs/mp4/14/1488...             0   \n",
       "621   https://media.spreadthesign.com/video/mp4/13/5...             1   \n",
       "1049  https://s3-us-west-1.amazonaws.com/files.start...             0   \n",
       "247   https://signstock.blob.core.windows.net/signsc...             0   \n",
       "\n",
       "     video_id                                         video_path  \n",
       "1125    39839  /home/bfrisque/code/benoitfrisque/signlens/raw...  \n",
       "184     63214  /home/bfrisque/code/benoitfrisque/signlens/raw...  \n",
       "1226    62506  /home/bfrisque/code/benoitfrisque/signlens/raw...  \n",
       "67      65983  /home/bfrisque/code/benoitfrisque/signlens/raw...  \n",
       "220     66820  /home/bfrisque/code/benoitfrisque/signlens/raw...  \n",
       "903     69470  /home/bfrisque/code/benoitfrisque/signlens/raw...  \n",
       "430     46266  /home/bfrisque/code/benoitfrisque/signlens/raw...  \n",
       "240     22113  /home/bfrisque/code/benoitfrisque/signlens/raw...  \n",
       "218     03002  /home/bfrisque/code/benoitfrisque/signlens/raw...  \n",
       "49      27173  /home/bfrisque/code/benoitfrisque/signlens/raw...  \n",
       "816     34580  /home/bfrisque/code/benoitfrisque/signlens/raw...  \n",
       "844     08937  /home/bfrisque/code/benoitfrisque/signlens/raw...  \n",
       "619     17832  /home/bfrisque/code/benoitfrisque/signlens/raw...  \n",
       "361     25686  /home/bfrisque/code/benoitfrisque/signlens/raw...  \n",
       "1429    17724  /home/bfrisque/code/benoitfrisque/signlens/raw...  \n",
       "873     39951  /home/bfrisque/code/benoitfrisque/signlens/raw...  \n",
       "1439    05661  /home/bfrisque/code/benoitfrisque/signlens/raw...  \n",
       "754     26174  /home/bfrisque/code/benoitfrisque/signlens/raw...  \n",
       "271     58908  /home/bfrisque/code/benoitfrisque/signlens/raw...  \n",
       "522     04358  /home/bfrisque/code/benoitfrisque/signlens/raw...  \n",
       "259     33466  /home/bfrisque/code/benoitfrisque/signlens/raw...  \n",
       "428     66306  /home/bfrisque/code/benoitfrisque/signlens/raw...  \n",
       "1167    05598  /home/bfrisque/code/benoitfrisque/signlens/raw...  \n",
       "277     65158  /home/bfrisque/code/benoitfrisque/signlens/raw...  \n",
       "968     46001  /home/bfrisque/code/benoitfrisque/signlens/raw...  \n",
       "570     07074  /home/bfrisque/code/benoitfrisque/signlens/raw...  \n",
       "672     52691  /home/bfrisque/code/benoitfrisque/signlens/raw...  \n",
       "621     11358  /home/bfrisque/code/benoitfrisque/signlens/raw...  \n",
       "1049    14623  /home/bfrisque/code/benoitfrisque/signlens/raw...  \n",
       "247     03338  /home/bfrisque/code/benoitfrisque/signlens/raw...  "
      ]
     },
     "execution_count": 20,
     "metadata": {},
     "output_type": "execute_result"
    }
   ],
   "source": [
    "test_videos "
   ]
  },
  {
   "cell_type": "code",
   "execution_count": 21,
   "id": "b686b3ca-5d71-44b9-977c-2c39a91087a8",
   "metadata": {
    "execution": {
     "iopub.execute_input": "2024-03-29T06:19:34.317998Z",
     "iopub.status.busy": "2024-03-29T06:19:34.316631Z",
     "iopub.status.idle": "2024-03-29T06:19:34.378729Z",
     "shell.execute_reply": "2024-03-29T06:19:34.377141Z",
     "shell.execute_reply.started": "2024-03-29T06:19:34.317952Z"
    },
    "tags": []
   },
   "outputs": [
    {
     "data": {
      "text/plain": [
       "1125         on\n",
       "184       white\n",
       "1226      water\n",
       "67         jump\n",
       "220         yes\n",
       "903        sick\n",
       "430        read\n",
       "240        fish\n",
       "218       apple\n",
       "49        hello\n",
       "816        make\n",
       "844         can\n",
       "619        drop\n",
       "361       green\n",
       "1429      drink\n",
       "873        open\n",
       "1439    bedroom\n",
       "754        hair\n",
       "271       tooth\n",
       "522       awake\n",
       "259      listen\n",
       "428      police\n",
       "1167    because\n",
       "277     because\n",
       "968        rain\n",
       "570        book\n",
       "672       snack\n",
       "621       cloud\n",
       "1049      dance\n",
       "247         arm\n",
       "Name: sign, dtype: object"
      ]
     },
     "execution_count": 21,
     "metadata": {},
     "output_type": "execute_result"
    }
   ],
   "source": [
    "test_videos['sign']"
   ]
  },
  {
   "cell_type": "code",
   "execution_count": 22,
   "id": "34628ace-3b6a-46bb-b69c-57d1707c105f",
   "metadata": {
    "execution": {
     "iopub.execute_input": "2024-03-29T06:19:34.380874Z",
     "iopub.status.busy": "2024-03-29T06:19:34.380306Z",
     "iopub.status.idle": "2024-03-29T06:19:34.459579Z",
     "shell.execute_reply": "2024-03-29T06:19:34.457395Z",
     "shell.execute_reply.started": "2024-03-29T06:19:34.380810Z"
    },
    "tags": []
   },
   "outputs": [
    {
     "data": {
      "text/plain": [
       "29"
      ]
     },
     "execution_count": 22,
     "metadata": {},
     "output_type": "execute_result"
    }
   ],
   "source": [
    "test_videos['sign'].nunique()"
   ]
  },
  {
   "cell_type": "code",
   "execution_count": 23,
   "id": "d42b8404-3cbe-4e31-afae-8827a84e1c85",
   "metadata": {
    "execution": {
     "iopub.execute_input": "2024-03-29T06:19:34.462765Z",
     "iopub.status.busy": "2024-03-29T06:19:34.462036Z",
     "iopub.status.idle": "2024-03-29T06:19:34.545013Z",
     "shell.execute_reply": "2024-03-29T06:19:34.543436Z",
     "shell.execute_reply.started": "2024-03-29T06:19:34.462681Z"
    },
    "tags": []
   },
   "outputs": [
    {
     "data": {
      "text/plain": [
       "sign\n",
       "because    2\n",
       "on         1\n",
       "open       1\n",
       "dance      1\n",
       "cloud      1\n",
       "snack      1\n",
       "book       1\n",
       "rain       1\n",
       "police     1\n",
       "listen     1\n",
       "awake      1\n",
       "tooth      1\n",
       "hair       1\n",
       "bedroom    1\n",
       "drink      1\n",
       "white      1\n",
       "green      1\n",
       "drop       1\n",
       "can        1\n",
       "make       1\n",
       "hello      1\n",
       "apple      1\n",
       "fish       1\n",
       "read       1\n",
       "sick       1\n",
       "yes        1\n",
       "jump       1\n",
       "water      1\n",
       "arm        1\n",
       "Name: count, dtype: int64"
      ]
     },
     "execution_count": 23,
     "metadata": {},
     "output_type": "execute_result"
    }
   ],
   "source": [
    "test_videos['sign'].value_counts()"
   ]
  },
  {
   "cell_type": "code",
   "execution_count": 24,
   "id": "07acd375-f681-4e72-808d-34053278d8f3",
   "metadata": {
    "execution": {
     "iopub.execute_input": "2024-03-29T06:19:34.547814Z",
     "iopub.status.busy": "2024-03-29T06:19:34.547064Z",
     "iopub.status.idle": "2024-03-29T06:19:34.897277Z",
     "shell.execute_reply": "2024-03-29T06:19:34.895369Z",
     "shell.execute_reply.started": "2024-03-29T06:19:34.547774Z"
    },
    "tags": []
   },
   "outputs": [
    {
     "data": {
      "image/png": "[encoded data removed]",
      "text/plain": [
       "<Figure size 640x480 with 1 Axes>"
      ]
     },
     "metadata": {},
     "output_type": "display_data"
    }
   ],
   "source": [
    "plt.hist(test_videos['sign'].value_counts());"
   ]
  },
  {
   "cell_type": "markdown",
   "id": "2767d956-2b31-4323-820e-e36cc4b9324f",
   "metadata": {
    "tags": []
   },
   "source": [
    "### Convert videos to json"
   ]
  },
  {
   "cell_type": "code",
   "execution_count": 47,
   "id": "e17e2c60-f54c-44d6-a4fa-8f56b7524287",
   "metadata": {
    "execution": {
     "iopub.execute_input": "2024-03-29T06:24:11.147606Z",
     "iopub.status.busy": "2024-03-29T06:24:11.147282Z",
     "iopub.status.idle": "2024-03-29T06:24:11.222275Z",
     "shell.execute_reply": "2024-03-29T06:24:11.220629Z",
     "shell.execute_reply.started": "2024-03-29T06:24:11.147579Z"
    },
    "tags": []
   },
   "outputs": [],
   "source": [
    "import os\n",
    "import json\n",
    "import numpy as np\n",
    "import mediapipe as mp\n",
    "import cv2\n",
    "import math\n",
    "from google.protobuf.json_format import MessageToDict\n",
    "from mediapipe.framework.formats import landmark_pb2\n",
    "from mediapipe import solutions\n",
    "\n",
    "mp_pose = mp.solutions.pose\n",
    "mp_hands = mp.solutions.hands\n",
    "\n",
    "# Constants for drawing landmarks on the image\n",
    "MARGIN = 10  # pixels\n",
    "FONT_SIZE = 1\n",
    "FONT_THICKNESS = 1\n",
    "HANDEDNESS_TEXT_COLOR = (88, 205, 54)  # vibrant green\n",
    "\n",
    "\n",
    "def serialize_landmarks(landmark_list):\n",
    "    \"\"\"\n",
    "    Serialize a list of landmarks into a dictionary format.\n",
    "\n",
    "    Args:\n",
    "        landmark_list (list): A list of landmarks.\n",
    "\n",
    "    Returns:\n",
    "        list: A list of dictionaries, where each dictionary represents a landmark and contains the following keys:\n",
    "            - 'landmark_index': The index of the landmark in the list.\n",
    "            - 'x': The x-coordinate of the landmark. If the value is NaN, it is set to None.\n",
    "            - 'y': The y-coordinate of the landmark. If the value is NaN, it is set to None.\n",
    "            - 'z': The z-coordinate of the landmark. If the value is NaN, it is set to None.\n",
    "    \"\"\"\n",
    "    landmarks = []\n",
    "    for idx, landmark in enumerate(landmark_list.landmark):\n",
    "        landmarks.append({\n",
    "            'landmark_index': idx,\n",
    "            'x': None if math.isnan(landmark.x) else landmark.x,\n",
    "            'y': None if math.isnan(landmark.y) else landmark.y,\n",
    "            'z': None if math.isnan(landmark.z) else landmark.z\n",
    "        })\n",
    "    return landmarks\n",
    "\n",
    "\n",
    "def process_video_to_landmarks_json2(video_path, json_output=True, save_annotated_video=False, show_preview=True, frame_interval=1, frame_limit=None, rear_camera=True, output_dir=LANDMARKS_VIDEO_DIR, skip_existing=False):\n",
    "    \"\"\"\n",
    "    Process a video file and extract landmarks from each frame, then save the landmarks as JSON.\n",
    "    Inspired from https://github.com/google/mediapipe/blob/master/docs/solutions/hands.md\n",
    "\n",
    "    Args:\n",
    "        video_path (str): The path to the video file.\n",
    "        json_output (bool, optional): Whether to save the landmarks as JSON. Defaults to True.\n",
    "        show_preview (bool, optional): Whether to show a preview of the processed frames. Defaults to True.\n",
    "        frame_interval (int, optional): The interval between processed frames. Defaults to 1.\n",
    "        frame_limit (int, optional): The maximum number of frames to process. Defaults to None.\n",
    "        rear_camera (bool, optional): Whether the video was recorded with a rear camera. Defaults to True.\n",
    "        output_dir (str, optional): The directory to save the landmarks JSON file. Defaults to LANDMARKS_VIDEO_DIR.\n",
    "\n",
    "    Returns:\n",
    "        list: A list of dictionaries containing the extracted landmarks for each frame.\n",
    "\n",
    "    Raises:\n",
    "        FileNotFoundError: If the video file specified by `video_path` does not exist.\n",
    "\n",
    "    Example:\n",
    "        video_path = '/path/to/video.mp4'\n",
    "        landmarks = process_video_to_landmarks_json(video_path, output=True, frame_interval=2, frame_limit=100)\n",
    "        print(landmarks)\n",
    "    \"\"\"\n",
    "    filename = os.path.splitext(os.path.basename(video_path))[0]\n",
    "\n",
    "    # Open video file\n",
    "    if not os.path.exists(video_path):\n",
    "        raise FileNotFoundError(f\"Video file '{video_path}' not found.\")\n",
    "\n",
    "    cap = cv2.VideoCapture(video_path)\n",
    "    if not cap.isOpened():\n",
    "        print(f\"Error opening video file '{video_path}'\")\n",
    "        return\n",
    "\n",
    "    json_data = []\n",
    "    frame_number = 0\n",
    "    processed_frames = 0\n",
    "    loop_complete = False\n",
    "\n",
    "    # Prepare JSON file\n",
    "    os.makedirs(output_dir, exist_ok=True)\n",
    "    json_path = os.path.join(output_dir, f'{filename}_landmarks.json')\n",
    "\n",
    "    if os.path.exists(json_path) and skip_existing:\n",
    "        print(f\"Skipping video '{filename}' as landmarks file already exists.\")\n",
    "        return\n",
    "\n",
    "    # Get the fps of the original video\n",
    "    fps = cap.get(cv2.CAP_PROP_FPS)\n",
    "\n",
    "    # Get the frame width and height\n",
    "    frame_width = int(cap.get(cv2.CAP_PROP_FRAME_WIDTH))\n",
    "    frame_height = int(cap.get(cv2.CAP_PROP_FRAME_HEIGHT))\n",
    "\n",
    "    try:\n",
    "        if json_output:\n",
    "            json_file = open(json_path, 'w', encoding='UTF8')\n",
    "\n",
    "        # Initialize preview window\n",
    "        if show_preview:\n",
    "            cv2_window_name = f\"Video {filename}\"\n",
    "            cv2.namedWindow(cv2_window_name, cv2.WINDOW_NORMAL) # create empty window\n",
    "            move_window_to_center(cv2_window_name, frame_width, frame_height)\n",
    "\n",
    "        # Initialize video writer\n",
    "        if save_annotated_video:\n",
    "            fourcc = cv2.VideoWriter_fourcc(*'mp4v')  # or use 'XVID'\n",
    "            annotated_video_path = os.path.join(output_dir, f'{filename}_annotated.mp4')\n",
    "            out = cv2.VideoWriter(annotated_video_path, fourcc, fps, (frame_width, frame_height))\n",
    "\n",
    "        # Initialize an empty NormalizedLandmarkList for hand and pose\n",
    "        empty_hand_landmark_list = create_empty_landmark_list(N_LANDMARKS_HAND)\n",
    "        empty_pose_landmark_list = create_empty_landmark_list(N_LANDMARKS_POSE)\n",
    "\n",
    "        # Initialize mediapipe instances\n",
    "        with mp_pose.Pose(static_image_mode=False) as pose, \\\n",
    "                mp_hands.Hands(static_image_mode=False, max_num_hands=2) as hands:\n",
    "            while cap.isOpened():\n",
    "                success, frame = cap.read()\n",
    "                if not success:\n",
    "                    break\n",
    "\n",
    "                # Skip frames based on frame_interval\n",
    "                if frame_number % frame_interval != 0:\n",
    "                    frame_number += 1\n",
    "                    continue\n",
    "\n",
    "                # Convert the BGR image to RGB\n",
    "                image_rgb = cv2.cvtColor(frame, cv2.COLOR_BGR2RGB)\n",
    "\n",
    "                # Process the image and extract landmarks\n",
    "                results_pose = pose.process(image_rgb)\n",
    "                results_hands = hands.process(image_rgb)\n",
    "\n",
    "                if show_preview or save_annotated_video:\n",
    "                    # Draw landmarks on the image\n",
    "                    annotated_image = draw_landmarks_on_image(image_rgb, results_pose, results_hands, rear_camera)\n",
    "                    annotated_image_color = cv2.cvtColor(annotated_image, cv2.COLOR_RGB2BGR)\n",
    "\n",
    "                    if show_preview:\n",
    "                        cv2.imshow(cv2_window_name, annotated_image_color)\n",
    "                        if cv2.waitKey(1) & 0xFF == ord('q'):\n",
    "                            break\n",
    "\n",
    "                    if save_annotated_video:\n",
    "                        out.write(annotated_image_color)\n",
    "\n",
    "                # Extract landmarks for pose, left hand, and right hand\n",
    "                landmarks_pose = results_pose.pose_landmarks\n",
    "\n",
    "                # Check if there are any pose landmarks detected\n",
    "                if landmarks_pose is None:\n",
    "                    landmarks_pose = empty_pose_landmark_list\n",
    "\n",
    "                # Initialize empty hand landmarkks, then overwrite if it finds it\n",
    "                landmarks_left_hand = empty_hand_landmark_list\n",
    "                landmarks_right_hand = empty_hand_landmark_list\n",
    "\n",
    "                # Check if there are any hand landmarks detected\n",
    "                if results_hands.multi_hand_landmarks:\n",
    "                    # Get handedness of each hand\n",
    "                    for idx, handedness in enumerate(results_hands.multi_handedness):\n",
    "                        hand_side = get_hand_side(handedness, rear_camera)\n",
    "\n",
    "                        if hand_side == 'left':\n",
    "                            landmarks_left_hand = results_hands.multi_hand_landmarks[idx]\n",
    "                        elif hand_side == 'right':\n",
    "                            landmarks_right_hand = results_hands.multi_hand_landmarks[idx]\n",
    "\n",
    "                serialized_pose = serialize_landmarks(landmarks_pose)\n",
    "                serialized_left_hand = serialize_landmarks(landmarks_left_hand)\n",
    "                serialized_right_hand = serialize_landmarks(landmarks_right_hand)\n",
    "\n",
    "                # Write serialized landmarks to JSON\n",
    "                json_data.append({\n",
    "                    'frame_number': frame_number,\n",
    "                    'pose': serialized_pose,\n",
    "                    'left_hand': serialized_left_hand,\n",
    "                    'right_hand': serialized_right_hand\n",
    "                })\n",
    "\n",
    "                frame_number += 1\n",
    "                processed_frames += 1\n",
    "\n",
    "                # Stop processing if frame_limit is reached\n",
    "                if frame_limit is not None and processed_frames >= frame_limit:\n",
    "                    break\n",
    "\n",
    "        if json_output:\n",
    "            # Write JSON data to file\n",
    "            json.dump(json_data, json_file, indent=4)\n",
    "            print(f\"✅ Landmarks saved to '{json_path}'\")\n",
    "\n",
    "        loop_complete = True\n",
    "\n",
    "    except KeyboardInterrupt:\n",
    "        print(\"Process interrupted by user.\")\n",
    "    except Exception as e:\n",
    "        print(f\"An error occurred: {e}\")\n",
    "    finally:\n",
    "\n",
    "        cap.release()  # Close video file\n",
    "\n",
    "        if show_preview and cv2.getWindowProperty(cv2_window_name, 0) >= 0:\n",
    "            cv2.destroyWindow(cv2_window_name)  # close preview window\n",
    "\n",
    "        if json_output and json_file is not None:\n",
    "            # Close file\n",
    "            json_file.close()\n",
    "\n",
    "        if json_output and not loop_complete:\n",
    "            # Remove JSON file if loop was not completed\n",
    "            os.remove(json_path)\n",
    "            print(f\"❌ Landmarks file '{json_path}' not written properly.\")\n",
    "\n",
    "        if save_annotated_video:\n",
    "            out.release()\n",
    "            print(f\"✅ Annotated video saved to '{annotated_video_path}'\")\n",
    "\n",
    "    return json_data\n",
    "\n",
    "def create_empty_landmark_list(n_landmarks):\n",
    "    \"\"\"\n",
    "    Create an empty NormalizedLandmarkList.\n",
    "\n",
    "    Args:\n",
    "        n_landmarks (int): The number of landmarks to create.\n",
    "\n",
    "    Returns:\n",
    "        landmark_pb2.NormalizedLandmarkList: An empty NormalizedLandmarkList.\n",
    "\n",
    "    \"\"\"\n",
    "    # Initialize an empty NormalizedLandmarkList for hand\n",
    "    empty_landmark_list = landmark_pb2.NormalizedLandmarkList()\n",
    "\n",
    "    # Add empty landmarks to the list\n",
    "    for _ in range(n_landmarks):\n",
    "        landmark = empty_landmark_list.landmark.add()\n",
    "        landmark.x = np.nan  # We use nan and not None because it doesn't work with None\n",
    "        landmark.y = np.nan\n",
    "        landmark.z = np.nan\n",
    "\n",
    "    return empty_landmark_list\n",
    "\n",
    "\n",
    "def get_hand_side(handedness, rear_camera):\n",
    "    \"\"\"\n",
    "    Determines the side of the hand based on the handedness classification.\n",
    "\n",
    "    Args:\n",
    "        handedness (protobuf message): The handedness classification message.\n",
    "        rear_camera (bool): Flag indicating whether the input image is taken with a rear camera.\n",
    "\n",
    "    Returns:\n",
    "        str: The side of the hand ('left' or 'right').\n",
    "\n",
    "    Notes:\n",
    "        By default, mediapipe assumes the input image is mirrored, i.e., taken with a front-facing/selfie camera with images flipped horizontally.\n",
    "        If you want to process images taken with a webcam/selfie, you can set rear_camera = False.\n",
    "    \"\"\"\n",
    "    handedness_dict = MessageToDict(handedness)\n",
    "    hand_side = handedness_dict['classification'][0]['label'].lower()\n",
    "\n",
    "    if rear_camera:\n",
    "        if hand_side == 'left':\n",
    "            hand_side = 'right'\n",
    "        elif hand_side == 'right':\n",
    "            hand_side = 'left'\n",
    "\n",
    "    return hand_side\n",
    "\n",
    "\n",
    "def draw_landmarks_on_image(rgb_image, results_pose, results_hands, rear_camera):\n",
    "    \"\"\"\n",
    "    Draws landmarks on the given RGB image based on the detected hand landmarks.\n",
    "\n",
    "    Args:\n",
    "            rgb_image (numpy.ndarray): The RGB image on which to draw the landmarks.\n",
    "            results_pose (mediapipe.python.solution_base.SolutionOutputs): The output of the pose detection model.\n",
    "            results_hands (mediapipe.python.solution_base.SolutionOutputs): The output of the hand detection model.\n",
    "            rear_camera (bool): Flag indicating whether the camera is rear-facing or not.\n",
    "\n",
    "    Returns:\n",
    "            numpy.ndarray: The annotated image with landmarks drawn.\n",
    "\n",
    "    Note:\n",
    "            It is normal to see the left hand on the right side and the right hand on the left side if rear_camera=True.\n",
    "    \"\"\"\n",
    "\n",
    "    annotated_image = np.copy(rgb_image)\n",
    "\n",
    "    if results_hands.multi_hand_landmarks is None and results_pose is None:\n",
    "        return annotated_image\n",
    "\n",
    "    if results_hands.multi_hand_landmarks is not None:\n",
    "        # Loop through the detected hands to visualize.\n",
    "        for idx in range(len(results_hands.multi_hand_landmarks)):\n",
    "            hand_landmarks = results_hands.multi_hand_landmarks[idx].landmark\n",
    "            handedness = results_hands.multi_handedness[idx]\n",
    "            hand_side = get_hand_side(handedness, rear_camera)\n",
    "\n",
    "            hand_landmarks_proto = landmark_pb2.NormalizedLandmarkList()\n",
    "            hand_landmarks_proto.landmark.extend([\n",
    "                landmark_pb2.NormalizedLandmark(x=landmark.x, y=landmark.y, z=landmark.z) for landmark in hand_landmarks\n",
    "            ])\n",
    "\n",
    "            # Draw the hand landmarks.\n",
    "            solutions.drawing_utils.draw_landmarks(\n",
    "                annotated_image,\n",
    "                hand_landmarks_proto,\n",
    "                solutions.hands.HAND_CONNECTIONS,\n",
    "                solutions.drawing_styles.get_default_hand_landmarks_style(),\n",
    "                solutions.drawing_styles.get_default_hand_connections_style())\n",
    "\n",
    "            # Get the top left corner of the detected hand's bounding box.\n",
    "            height, width, _ = annotated_image.shape\n",
    "            x_coordinates = [landmark.x for landmark in hand_landmarks]\n",
    "            y_coordinates = [landmark.y for landmark in hand_landmarks]\n",
    "            text_x = int(min(x_coordinates) * width)\n",
    "            text_y = int(min(y_coordinates) * height) - MARGIN\n",
    "\n",
    "            # Draw handedness (left or right hand) on the image.\n",
    "            cv2.putText(annotated_image, f\"{hand_side}\",\n",
    "                        (text_x, text_y), cv2.FONT_HERSHEY_DUPLEX,\n",
    "                        FONT_SIZE, HANDEDNESS_TEXT_COLOR, FONT_THICKNESS, cv2.LINE_AA)\n",
    "\n",
    "        if results_pose is not None:\n",
    "            pose_landmarks = results_pose.pose_landmarks.landmark\n",
    "\n",
    "            pose_landmarks_proto = landmark_pb2.NormalizedLandmarkList()\n",
    "            pose_landmarks_proto.landmark.extend([\n",
    "                landmark_pb2.NormalizedLandmark(x=landmark.x, y=landmark.y, z=landmark.z) for landmark in pose_landmarks\n",
    "            ])\n",
    "\n",
    "          # Draw the pose landmarks.\n",
    "            solutions.drawing_utils.draw_landmarks(\n",
    "                annotated_image,\n",
    "                pose_landmarks_proto,\n",
    "                solutions.pose.POSE_CONNECTIONS,\n",
    "                solutions.drawing_styles.get_default_pose_landmarks_style())\n",
    "\n",
    "    return annotated_image\n",
    "\n",
    "\n",
    "def move_window_to_center(cv2_window_name, frame_width, frame_height):\n",
    "\n",
    "    if cv2.getWindowProperty(cv2_window_name, 0) >= 0: # Check if the window is still open\n",
    "\n",
    "        try:\n",
    "            # Get the screen size\n",
    "            from screeninfo import get_monitors\n",
    "            screen_width = get_monitors()[0].width\n",
    "            screen_height = get_monitors()[0].height\n",
    "        except ImportError:\n",
    "            print(\"screeninfo module not found, using default screen size.\")\n",
    "            screen_width = 800\n",
    "            screen_height = 600\n",
    "\n",
    "        # Calculate the position to place the window in the middle of the screen\n",
    "        window_x = screen_width // 2 - frame_width // 2\n",
    "        window_y = screen_height // 2 - frame_height // 2\n",
    "\n",
    "        # Move the window to the calculated position\n",
    "        cv2.moveWindow(cv2_window_name, window_x, window_y)\n",
    "        cv2.resizeWindow(cv2_window_name, frame_width, frame_height)\n"
   ]
  },
  {
   "cell_type": "code",
   "execution_count": 48,
   "id": "894624f0-80d0-424c-90e3-8a169bb2dd1b",
   "metadata": {
    "execution": {
     "iopub.execute_input": "2024-03-29T06:24:11.957827Z",
     "iopub.status.busy": "2024-03-29T06:24:11.956872Z",
     "iopub.status.idle": "2024-03-29T06:24:11.998946Z",
     "shell.execute_reply": "2024-03-29T06:24:11.997466Z",
     "shell.execute_reply.started": "2024-03-29T06:24:11.957794Z"
    },
    "tags": []
   },
   "outputs": [],
   "source": [
    "def process_video_sequential(video_path_df):\n",
    "    # Initialize a list to store the results\n",
    "    results = []\n",
    "\n",
    "    # Create a progress bar\n",
    "    progress_bar = tqdm(total=len(video_path_df), desc=\"Processing videos\")\n",
    "\n",
    "    # Iterate over the video paths\n",
    "    for video_path in video_path_df:\n",
    "        # Process the video and store the result\n",
    "        process_video_to_landmarks_json2(video_path, json_output=True, show_preview=False, save_annotated_video=True, frame_interval=1, rear_camera=True, skip_existing=False)\n",
    "\n",
    "        # Update the progress bar\n",
    "        progress_bar.update(1)\n"
   ]
  },
  {
   "cell_type": "code",
   "execution_count": 49,
   "id": "1e787f97-1b33-42f6-974a-f0bf31d974ee",
   "metadata": {
    "execution": {
     "iopub.execute_input": "2024-03-29T06:24:12.244604Z",
     "iopub.status.busy": "2024-03-29T06:24:12.244243Z",
     "iopub.status.idle": "2024-03-29T06:27:31.251174Z",
     "shell.execute_reply": "2024-03-29T06:27:31.249354Z",
     "shell.execute_reply.started": "2024-03-29T06:24:12.244577Z"
    },
    "tags": []
   },
   "outputs": [
    {
     "name": "stderr",
     "output_type": "stream",
     "text": [
      "\n",
      "Processing videos:   0%|                                                                            | 0/30 [00:00<?, ?it/s]\u001b[AINFO: Created TensorFlow Lite XNNPACK delegate for CPU.\n",
      "\n",
      "Processing videos:   3%|██▎                                                                 | 1/30 [00:05<02:27,  5.09s/it]\u001b[A"
     ]
    },
    {
     "name": "stdout",
     "output_type": "stream",
     "text": [
      "✅ Landmarks saved to '/home/bfrisque/code/benoitfrisque/signlens/processed_data/landmarks_videos/39839_landmarks.json'\n",
      "✅ Annotated video saved to '/home/bfrisque/code/benoitfrisque/signlens/processed_data/landmarks_videos/39839_annotated.mp4'\n"
     ]
    },
    {
     "name": "stderr",
     "output_type": "stream",
     "text": [
      "\n",
      "Processing videos:   7%|████▌                                                               | 2/30 [00:12<03:03,  6.56s/it]\u001b[A"
     ]
    },
    {
     "name": "stdout",
     "output_type": "stream",
     "text": [
      "✅ Landmarks saved to '/home/bfrisque/code/benoitfrisque/signlens/processed_data/landmarks_videos/63214_landmarks.json'\n",
      "✅ Annotated video saved to '/home/bfrisque/code/benoitfrisque/signlens/processed_data/landmarks_videos/63214_annotated.mp4'\n"
     ]
    },
    {
     "name": "stderr",
     "output_type": "stream",
     "text": [
      "\n",
      "Processing videos:  10%|██████▊                                                             | 3/30 [00:17<02:36,  5.81s/it]\u001b[A"
     ]
    },
    {
     "name": "stdout",
     "output_type": "stream",
     "text": [
      "✅ Landmarks saved to '/home/bfrisque/code/benoitfrisque/signlens/processed_data/landmarks_videos/62506_landmarks.json'\n",
      "✅ Annotated video saved to '/home/bfrisque/code/benoitfrisque/signlens/processed_data/landmarks_videos/62506_annotated.mp4'\n"
     ]
    },
    {
     "name": "stderr",
     "output_type": "stream",
     "text": [
      "\n",
      "Processing videos:  13%|█████████                                                           | 4/30 [00:23<02:29,  5.74s/it]\u001b[A"
     ]
    },
    {
     "name": "stdout",
     "output_type": "stream",
     "text": [
      "✅ Landmarks saved to '/home/bfrisque/code/benoitfrisque/signlens/processed_data/landmarks_videos/65983_landmarks.json'\n",
      "✅ Annotated video saved to '/home/bfrisque/code/benoitfrisque/signlens/processed_data/landmarks_videos/65983_annotated.mp4'\n"
     ]
    },
    {
     "name": "stderr",
     "output_type": "stream",
     "text": [
      "\n",
      "Processing videos:  17%|███████████▎                                                        | 5/30 [00:27<02:08,  5.15s/it]\u001b[A"
     ]
    },
    {
     "name": "stdout",
     "output_type": "stream",
     "text": [
      "✅ Landmarks saved to '/home/bfrisque/code/benoitfrisque/signlens/processed_data/landmarks_videos/66820_landmarks.json'\n",
      "✅ Annotated video saved to '/home/bfrisque/code/benoitfrisque/signlens/processed_data/landmarks_videos/66820_annotated.mp4'\n"
     ]
    },
    {
     "name": "stderr",
     "output_type": "stream",
     "text": [
      "\n",
      "Processing videos:  20%|█████████████▌                                                      | 6/30 [00:33<02:14,  5.62s/it]\u001b[A"
     ]
    },
    {
     "name": "stdout",
     "output_type": "stream",
     "text": [
      "✅ Landmarks saved to '/home/bfrisque/code/benoitfrisque/signlens/processed_data/landmarks_videos/69470_landmarks.json'\n",
      "✅ Annotated video saved to '/home/bfrisque/code/benoitfrisque/signlens/processed_data/landmarks_videos/69470_annotated.mp4'\n"
     ]
    },
    {
     "name": "stderr",
     "output_type": "stream",
     "text": [
      "\n",
      "Processing videos:  23%|███████████████▊                                                    | 7/30 [00:40<02:13,  5.80s/it]\u001b[A"
     ]
    },
    {
     "name": "stdout",
     "output_type": "stream",
     "text": [
      "✅ Landmarks saved to '/home/bfrisque/code/benoitfrisque/signlens/processed_data/landmarks_videos/46266_landmarks.json'\n",
      "✅ Annotated video saved to '/home/bfrisque/code/benoitfrisque/signlens/processed_data/landmarks_videos/46266_annotated.mp4'\n"
     ]
    },
    {
     "name": "stderr",
     "output_type": "stream",
     "text": [
      "\n",
      "Processing videos:  27%|██████████████████▏                                                 | 8/30 [00:50<02:38,  7.20s/it]\u001b[A"
     ]
    },
    {
     "name": "stdout",
     "output_type": "stream",
     "text": [
      "✅ Landmarks saved to '/home/bfrisque/code/benoitfrisque/signlens/processed_data/landmarks_videos/22113_landmarks.json'\n",
      "✅ Annotated video saved to '/home/bfrisque/code/benoitfrisque/signlens/processed_data/landmarks_videos/22113_annotated.mp4'\n"
     ]
    },
    {
     "name": "stderr",
     "output_type": "stream",
     "text": [
      "\n",
      "Processing videos:  30%|████████████████████▍                                               | 9/30 [00:56<02:22,  6.78s/it]\u001b[A"
     ]
    },
    {
     "name": "stdout",
     "output_type": "stream",
     "text": [
      "✅ Landmarks saved to '/home/bfrisque/code/benoitfrisque/signlens/processed_data/landmarks_videos/03002_landmarks.json'\n",
      "✅ Annotated video saved to '/home/bfrisque/code/benoitfrisque/signlens/processed_data/landmarks_videos/03002_annotated.mp4'\n"
     ]
    },
    {
     "name": "stderr",
     "output_type": "stream",
     "text": [
      "\n",
      "Processing videos:  33%|██████████████████████▎                                            | 10/30 [01:03<02:20,  7.05s/it]\u001b[A"
     ]
    },
    {
     "name": "stdout",
     "output_type": "stream",
     "text": [
      "✅ Landmarks saved to '/home/bfrisque/code/benoitfrisque/signlens/processed_data/landmarks_videos/27173_landmarks.json'\n",
      "✅ Annotated video saved to '/home/bfrisque/code/benoitfrisque/signlens/processed_data/landmarks_videos/27173_annotated.mp4'\n"
     ]
    },
    {
     "name": "stderr",
     "output_type": "stream",
     "text": [
      "\n",
      "Processing videos:  37%|████████████████████████▌                                          | 11/30 [01:09<02:07,  6.73s/it]\u001b[A"
     ]
    },
    {
     "name": "stdout",
     "output_type": "stream",
     "text": [
      "✅ Landmarks saved to '/home/bfrisque/code/benoitfrisque/signlens/processed_data/landmarks_videos/34580_landmarks.json'\n",
      "✅ Annotated video saved to '/home/bfrisque/code/benoitfrisque/signlens/processed_data/landmarks_videos/34580_annotated.mp4'\n"
     ]
    },
    {
     "name": "stderr",
     "output_type": "stream",
     "text": [
      "\n",
      "Processing videos:  40%|██████████████████████████▊                                        | 12/30 [01:20<02:22,  7.94s/it]\u001b[A"
     ]
    },
    {
     "name": "stdout",
     "output_type": "stream",
     "text": [
      "✅ Landmarks saved to '/home/bfrisque/code/benoitfrisque/signlens/processed_data/landmarks_videos/08937_landmarks.json'\n",
      "✅ Annotated video saved to '/home/bfrisque/code/benoitfrisque/signlens/processed_data/landmarks_videos/08937_annotated.mp4'\n"
     ]
    },
    {
     "name": "stderr",
     "output_type": "stream",
     "text": [
      "\n",
      "Processing videos:  43%|█████████████████████████████                                      | 13/30 [01:28<02:15,  7.95s/it]\u001b[A"
     ]
    },
    {
     "name": "stdout",
     "output_type": "stream",
     "text": [
      "✅ Landmarks saved to '/home/bfrisque/code/benoitfrisque/signlens/processed_data/landmarks_videos/17832_landmarks.json'\n",
      "✅ Annotated video saved to '/home/bfrisque/code/benoitfrisque/signlens/processed_data/landmarks_videos/17832_annotated.mp4'\n"
     ]
    },
    {
     "name": "stderr",
     "output_type": "stream",
     "text": [
      "\n",
      "Processing videos:  47%|███████████████████████████████▎                                   | 14/30 [01:39<02:19,  8.74s/it]\u001b[A"
     ]
    },
    {
     "name": "stdout",
     "output_type": "stream",
     "text": [
      "✅ Landmarks saved to '/home/bfrisque/code/benoitfrisque/signlens/processed_data/landmarks_videos/25686_landmarks.json'\n",
      "✅ Annotated video saved to '/home/bfrisque/code/benoitfrisque/signlens/processed_data/landmarks_videos/25686_annotated.mp4'\n"
     ]
    },
    {
     "name": "stderr",
     "output_type": "stream",
     "text": [
      "\n",
      "Processing videos:  50%|█████████████████████████████████▌                                 | 15/30 [01:43<01:52,  7.51s/it]\u001b[A"
     ]
    },
    {
     "name": "stdout",
     "output_type": "stream",
     "text": [
      "✅ Landmarks saved to '/home/bfrisque/code/benoitfrisque/signlens/processed_data/landmarks_videos/17724_landmarks.json'\n",
      "✅ Annotated video saved to '/home/bfrisque/code/benoitfrisque/signlens/processed_data/landmarks_videos/17724_annotated.mp4'\n"
     ]
    },
    {
     "name": "stderr",
     "output_type": "stream",
     "text": [
      "\n",
      "Processing videos:  53%|███████████████████████████████████▋                               | 16/30 [01:52<01:51,  7.94s/it]\u001b[A"
     ]
    },
    {
     "name": "stdout",
     "output_type": "stream",
     "text": [
      "✅ Landmarks saved to '/home/bfrisque/code/benoitfrisque/signlens/processed_data/landmarks_videos/39951_landmarks.json'\n",
      "✅ Annotated video saved to '/home/bfrisque/code/benoitfrisque/signlens/processed_data/landmarks_videos/39951_annotated.mp4'\n"
     ]
    },
    {
     "name": "stderr",
     "output_type": "stream",
     "text": [
      "\n",
      "Processing videos:  57%|█████████████████████████████████████▉                             | 17/30 [02:01<01:45,  8.14s/it]\u001b[A"
     ]
    },
    {
     "name": "stdout",
     "output_type": "stream",
     "text": [
      "✅ Landmarks saved to '/home/bfrisque/code/benoitfrisque/signlens/processed_data/landmarks_videos/05661_landmarks.json'\n",
      "✅ Annotated video saved to '/home/bfrisque/code/benoitfrisque/signlens/processed_data/landmarks_videos/05661_annotated.mp4'\n"
     ]
    },
    {
     "name": "stderr",
     "output_type": "stream",
     "text": [
      "\n",
      "Processing videos:  60%|████████████████████████████████████████▏                          | 18/30 [02:07<01:32,  7.68s/it]\u001b[A"
     ]
    },
    {
     "name": "stdout",
     "output_type": "stream",
     "text": [
      "✅ Landmarks saved to '/home/bfrisque/code/benoitfrisque/signlens/processed_data/landmarks_videos/26174_landmarks.json'\n",
      "✅ Annotated video saved to '/home/bfrisque/code/benoitfrisque/signlens/processed_data/landmarks_videos/26174_annotated.mp4'\n"
     ]
    },
    {
     "name": "stderr",
     "output_type": "stream",
     "text": [
      "\n",
      "Processing videos:  63%|██████████████████████████████████████████▍                        | 19/30 [02:15<01:23,  7.57s/it]\u001b[A"
     ]
    },
    {
     "name": "stdout",
     "output_type": "stream",
     "text": [
      "✅ Landmarks saved to '/home/bfrisque/code/benoitfrisque/signlens/processed_data/landmarks_videos/58908_landmarks.json'\n",
      "✅ Annotated video saved to '/home/bfrisque/code/benoitfrisque/signlens/processed_data/landmarks_videos/58908_annotated.mp4'\n"
     ]
    },
    {
     "name": "stderr",
     "output_type": "stream",
     "text": [
      "\n",
      "Processing videos:  67%|████████████████████████████████████████████▋                      | 20/30 [02:17<00:59,  5.99s/it]\u001b[A"
     ]
    },
    {
     "name": "stdout",
     "output_type": "stream",
     "text": [
      "✅ Landmarks saved to '/home/bfrisque/code/benoitfrisque/signlens/processed_data/landmarks_videos/04358_landmarks.json'\n",
      "✅ Annotated video saved to '/home/bfrisque/code/benoitfrisque/signlens/processed_data/landmarks_videos/04358_annotated.mp4'\n"
     ]
    },
    {
     "name": "stderr",
     "output_type": "stream",
     "text": [
      "\n",
      "Processing videos:  70%|██████████████████████████████████████████████▉                    | 21/30 [02:25<01:00,  6.74s/it]\u001b[A"
     ]
    },
    {
     "name": "stdout",
     "output_type": "stream",
     "text": [
      "✅ Landmarks saved to '/home/bfrisque/code/benoitfrisque/signlens/processed_data/landmarks_videos/33466_landmarks.json'\n",
      "✅ Annotated video saved to '/home/bfrisque/code/benoitfrisque/signlens/processed_data/landmarks_videos/33466_annotated.mp4'\n"
     ]
    },
    {
     "name": "stderr",
     "output_type": "stream",
     "text": [
      "\n",
      "Processing videos:  73%|█████████████████████████████████████████████████▏                 | 22/30 [02:31<00:51,  6.42s/it]\u001b[A"
     ]
    },
    {
     "name": "stdout",
     "output_type": "stream",
     "text": [
      "✅ Landmarks saved to '/home/bfrisque/code/benoitfrisque/signlens/processed_data/landmarks_videos/66306_landmarks.json'\n",
      "✅ Annotated video saved to '/home/bfrisque/code/benoitfrisque/signlens/processed_data/landmarks_videos/66306_annotated.mp4'\n"
     ]
    },
    {
     "name": "stderr",
     "output_type": "stream",
     "text": [
      "\n",
      "Processing videos:  77%|███████████████████████████████████████████████████▎               | 23/30 [02:35<00:39,  5.64s/it]\u001b[A"
     ]
    },
    {
     "name": "stdout",
     "output_type": "stream",
     "text": [
      "✅ Landmarks saved to '/home/bfrisque/code/benoitfrisque/signlens/processed_data/landmarks_videos/05598_landmarks.json'\n",
      "✅ Annotated video saved to '/home/bfrisque/code/benoitfrisque/signlens/processed_data/landmarks_videos/05598_annotated.mp4'\n"
     ]
    },
    {
     "name": "stderr",
     "output_type": "stream",
     "text": [
      "\n",
      "Processing videos:  80%|█████████████████████████████████████████████████████▌             | 24/30 [02:40<00:32,  5.50s/it]\u001b[A"
     ]
    },
    {
     "name": "stdout",
     "output_type": "stream",
     "text": [
      "✅ Landmarks saved to '/home/bfrisque/code/benoitfrisque/signlens/processed_data/landmarks_videos/65158_landmarks.json'\n",
      "✅ Annotated video saved to '/home/bfrisque/code/benoitfrisque/signlens/processed_data/landmarks_videos/65158_annotated.mp4'\n"
     ]
    },
    {
     "name": "stderr",
     "output_type": "stream",
     "text": [
      "\n",
      "Processing videos:  83%|███████████████████████████████████████████████████████▊           | 25/30 [02:48<00:30,  6.17s/it]\u001b[A"
     ]
    },
    {
     "name": "stdout",
     "output_type": "stream",
     "text": [
      "✅ Landmarks saved to '/home/bfrisque/code/benoitfrisque/signlens/processed_data/landmarks_videos/46001_landmarks.json'\n",
      "✅ Annotated video saved to '/home/bfrisque/code/benoitfrisque/signlens/processed_data/landmarks_videos/46001_annotated.mp4'\n"
     ]
    },
    {
     "name": "stderr",
     "output_type": "stream",
     "text": [
      "\n",
      "Processing videos:  87%|██████████████████████████████████████████████████████████         | 26/30 [02:51<00:21,  5.36s/it]\u001b[A"
     ]
    },
    {
     "name": "stdout",
     "output_type": "stream",
     "text": [
      "✅ Landmarks saved to '/home/bfrisque/code/benoitfrisque/signlens/processed_data/landmarks_videos/07074_landmarks.json'\n",
      "✅ Annotated video saved to '/home/bfrisque/code/benoitfrisque/signlens/processed_data/landmarks_videos/07074_annotated.mp4'\n"
     ]
    },
    {
     "name": "stderr",
     "output_type": "stream",
     "text": [
      "\n",
      "Processing videos:  90%|████████████████████████████████████████████████████████████▎      | 27/30 [02:56<00:15,  5.19s/it]\u001b[A"
     ]
    },
    {
     "name": "stdout",
     "output_type": "stream",
     "text": [
      "✅ Landmarks saved to '/home/bfrisque/code/benoitfrisque/signlens/processed_data/landmarks_videos/52691_landmarks.json'\n",
      "✅ Annotated video saved to '/home/bfrisque/code/benoitfrisque/signlens/processed_data/landmarks_videos/52691_annotated.mp4'\n"
     ]
    },
    {
     "name": "stderr",
     "output_type": "stream",
     "text": [
      "\n",
      "Processing videos:  93%|██████████████████████████████████████████████████████████████▌    | 28/30 [03:04<00:12,  6.06s/it]\u001b[A"
     ]
    },
    {
     "name": "stdout",
     "output_type": "stream",
     "text": [
      "✅ Landmarks saved to '/home/bfrisque/code/benoitfrisque/signlens/processed_data/landmarks_videos/11358_landmarks.json'\n",
      "✅ Annotated video saved to '/home/bfrisque/code/benoitfrisque/signlens/processed_data/landmarks_videos/11358_annotated.mp4'\n"
     ]
    },
    {
     "name": "stderr",
     "output_type": "stream",
     "text": [
      "\n",
      "Processing videos:  97%|████████████████████████████████████████████████████████████████▊  | 29/30 [03:14<00:07,  7.24s/it]\u001b[A"
     ]
    },
    {
     "name": "stdout",
     "output_type": "stream",
     "text": [
      "✅ Landmarks saved to '/home/bfrisque/code/benoitfrisque/signlens/processed_data/landmarks_videos/14623_landmarks.json'\n",
      "✅ Annotated video saved to '/home/bfrisque/code/benoitfrisque/signlens/processed_data/landmarks_videos/14623_annotated.mp4'\n"
     ]
    },
    {
     "name": "stderr",
     "output_type": "stream",
     "text": [
      "\n",
      "Processing videos: 100%|███████████████████████████████████████████████████████████████████| 30/30 [03:18<00:00,  6.63s/it]\u001b[A"
     ]
    },
    {
     "name": "stdout",
     "output_type": "stream",
     "text": [
      "✅ Landmarks saved to '/home/bfrisque/code/benoitfrisque/signlens/processed_data/landmarks_videos/03338_landmarks.json'\n",
      "✅ Annotated video saved to '/home/bfrisque/code/benoitfrisque/signlens/processed_data/landmarks_videos/03338_annotated.mp4'\n"
     ]
    },
    {
     "name": "stderr",
     "output_type": "stream",
     "text": [
      "\n"
     ]
    }
   ],
   "source": [
    "process_video_sequential(test_videos.video_path)"
   ]
  },
  {
   "cell_type": "code",
   "execution_count": 45,
   "id": "3357d085-aebc-4704-9bdf-2d71704742e1",
   "metadata": {
    "execution": {
     "iopub.execute_input": "2024-03-29T06:23:15.702676Z",
     "iopub.status.busy": "2024-03-29T06:23:15.701073Z",
     "iopub.status.idle": "2024-03-29T06:23:15.810114Z",
     "shell.execute_reply": "2024-03-29T06:23:15.808241Z",
     "shell.execute_reply.started": "2024-03-29T06:23:15.702603Z"
    },
    "tags": []
   },
   "outputs": [
    {
     "data": {
      "text/html": [
       "<div>\n",
       "<style scoped>\n",
       "    .dataframe tbody tr th:only-of-type {\n",
       "        vertical-align: middle;\n",
       "    }\n",
       "\n",
       "    .dataframe tbody tr th {\n",
       "        vertical-align: top;\n",
       "    }\n",
       "\n",
       "    .dataframe thead th {\n",
       "        text-align: right;\n",
       "    }\n",
       "</style>\n",
       "<table border=\"1\" class=\"dataframe\">\n",
       "  <thead>\n",
       "    <tr style=\"text-align: right;\">\n",
       "      <th></th>\n",
       "      <th>sign</th>\n",
       "      <th>bbox</th>\n",
       "      <th>fps</th>\n",
       "      <th>frame_end</th>\n",
       "      <th>frame_start</th>\n",
       "      <th>instance_id</th>\n",
       "      <th>signer_id</th>\n",
       "      <th>source</th>\n",
       "      <th>split</th>\n",
       "      <th>url</th>\n",
       "      <th>variation_id</th>\n",
       "      <th>video_id</th>\n",
       "      <th>video_path</th>\n",
       "      <th>json_path</th>\n",
       "    </tr>\n",
       "  </thead>\n",
       "  <tbody>\n",
       "    <tr>\n",
       "      <th>1125</th>\n",
       "      <td>on</td>\n",
       "      <td>[29, 0, 267, 240]</td>\n",
       "      <td>25</td>\n",
       "      <td>-1</td>\n",
       "      <td>1</td>\n",
       "      <td>3</td>\n",
       "      <td>37</td>\n",
       "      <td>spreadthesign</td>\n",
       "      <td>train</td>\n",
       "      <td>https://media.spreadthesign.com/video/mp4/13/4...</td>\n",
       "      <td>0</td>\n",
       "      <td>39839</td>\n",
       "      <td>/home/bfrisque/code/benoitfrisque/signlens/raw...</td>\n",
       "      <td>/home/bfrisque/code/benoitfrisque/signlens/pro...</td>\n",
       "    </tr>\n",
       "    <tr>\n",
       "      <th>184</th>\n",
       "      <td>white</td>\n",
       "      <td>[183, 52, 544, 400]</td>\n",
       "      <td>25</td>\n",
       "      <td>-1</td>\n",
       "      <td>1</td>\n",
       "      <td>16</td>\n",
       "      <td>12</td>\n",
       "      <td>aslsearch</td>\n",
       "      <td>train</td>\n",
       "      <td>http://www.aslsearch.com/signs/videos/white.mp4</td>\n",
       "      <td>0</td>\n",
       "      <td>63214</td>\n",
       "      <td>/home/bfrisque/code/benoitfrisque/signlens/raw...</td>\n",
       "      <td>/home/bfrisque/code/benoitfrisque/signlens/pro...</td>\n",
       "    </tr>\n",
       "    <tr>\n",
       "      <th>1226</th>\n",
       "      <td>water</td>\n",
       "      <td>[89, 22, 204, 192]</td>\n",
       "      <td>25</td>\n",
       "      <td>-1</td>\n",
       "      <td>1</td>\n",
       "      <td>6</td>\n",
       "      <td>10</td>\n",
       "      <td>signingsavvy</td>\n",
       "      <td>train</td>\n",
       "      <td>https://www.signingsavvy.com/signs/mp4/22/2297...</td>\n",
       "      <td>0</td>\n",
       "      <td>62506</td>\n",
       "      <td>/home/bfrisque/code/benoitfrisque/signlens/raw...</td>\n",
       "      <td>/home/bfrisque/code/benoitfrisque/signlens/pro...</td>\n",
       "    </tr>\n",
       "    <tr>\n",
       "      <th>67</th>\n",
       "      <td>jump</td>\n",
       "      <td>[167, 16, 480, 370]</td>\n",
       "      <td>25</td>\n",
       "      <td>-1</td>\n",
       "      <td>1</td>\n",
       "      <td>1</td>\n",
       "      <td>90</td>\n",
       "      <td>aslsignbank</td>\n",
       "      <td>train</td>\n",
       "      <td>https://aslsignbank.haskins.yale.edu/dictionar...</td>\n",
       "      <td>0</td>\n",
       "      <td>65983</td>\n",
       "      <td>/home/bfrisque/code/benoitfrisque/signlens/raw...</td>\n",
       "      <td>/home/bfrisque/code/benoitfrisque/signlens/pro...</td>\n",
       "    </tr>\n",
       "    <tr>\n",
       "      <th>220</th>\n",
       "      <td>yes</td>\n",
       "      <td>[168, 14, 461, 370]</td>\n",
       "      <td>25</td>\n",
       "      <td>-1</td>\n",
       "      <td>1</td>\n",
       "      <td>13</td>\n",
       "      <td>88</td>\n",
       "      <td>aslsignbank</td>\n",
       "      <td>train</td>\n",
       "      <td>https://aslsignbank.haskins.yale.edu/dictionar...</td>\n",
       "      <td>0</td>\n",
       "      <td>66820</td>\n",
       "      <td>/home/bfrisque/code/benoitfrisque/signlens/raw...</td>\n",
       "      <td>/home/bfrisque/code/benoitfrisque/signlens/pro...</td>\n",
       "    </tr>\n",
       "  </tbody>\n",
       "</table>\n",
       "</div>"
      ],
      "text/plain": [
       "       sign                 bbox  fps  frame_end  frame_start  instance_id  \\\n",
       "1125     on    [29, 0, 267, 240]   25         -1            1            3   \n",
       "184   white  [183, 52, 544, 400]   25         -1            1           16   \n",
       "1226  water   [89, 22, 204, 192]   25         -1            1            6   \n",
       "67     jump  [167, 16, 480, 370]   25         -1            1            1   \n",
       "220     yes  [168, 14, 461, 370]   25         -1            1           13   \n",
       "\n",
       "      signer_id         source  split  \\\n",
       "1125         37  spreadthesign  train   \n",
       "184          12      aslsearch  train   \n",
       "1226         10   signingsavvy  train   \n",
       "67           90    aslsignbank  train   \n",
       "220          88    aslsignbank  train   \n",
       "\n",
       "                                                    url  variation_id  \\\n",
       "1125  https://media.spreadthesign.com/video/mp4/13/4...             0   \n",
       "184     http://www.aslsearch.com/signs/videos/white.mp4             0   \n",
       "1226  https://www.signingsavvy.com/signs/mp4/22/2297...             0   \n",
       "67    https://aslsignbank.haskins.yale.edu/dictionar...             0   \n",
       "220   https://aslsignbank.haskins.yale.edu/dictionar...             0   \n",
       "\n",
       "     video_id                                         video_path  \\\n",
       "1125    39839  /home/bfrisque/code/benoitfrisque/signlens/raw...   \n",
       "184     63214  /home/bfrisque/code/benoitfrisque/signlens/raw...   \n",
       "1226    62506  /home/bfrisque/code/benoitfrisque/signlens/raw...   \n",
       "67      65983  /home/bfrisque/code/benoitfrisque/signlens/raw...   \n",
       "220     66820  /home/bfrisque/code/benoitfrisque/signlens/raw...   \n",
       "\n",
       "                                              json_path  \n",
       "1125  /home/bfrisque/code/benoitfrisque/signlens/pro...  \n",
       "184   /home/bfrisque/code/benoitfrisque/signlens/pro...  \n",
       "1226  /home/bfrisque/code/benoitfrisque/signlens/pro...  \n",
       "67    /home/bfrisque/code/benoitfrisque/signlens/pro...  \n",
       "220   /home/bfrisque/code/benoitfrisque/signlens/pro...  "
      ]
     },
     "execution_count": 45,
     "metadata": {},
     "output_type": "execute_result"
    }
   ],
   "source": [
    "# create json_path column\n",
    "test_videos['json_path'] = test_videos['video_path'].apply(lambda x: os.path.join(LANDMARKS_VIDEO_DIR, f'{os.path.splitext(os.path.basename(x))[0]}_landmarks.json'))\n",
    "test_videos.head()"
   ]
  },
  {
   "cell_type": "markdown",
   "id": "e3e145d4-7d3f-4bab-b232-09880312f456",
   "metadata": {},
   "source": [
    "### Preprocess json"
   ]
  },
  {
   "cell_type": "code",
   "execution_count": 28,
   "id": "239532d4-2b96-40fe-a29d-ea8c46d6e7e8",
   "metadata": {
    "execution": {
     "iopub.execute_input": "2024-03-29T06:19:35.473427Z",
     "iopub.status.busy": "2024-03-29T06:19:35.472899Z",
     "iopub.status.idle": "2024-03-29T06:19:35.585892Z",
     "shell.execute_reply": "2024-03-29T06:19:35.582404Z",
     "shell.execute_reply.started": "2024-03-29T06:19:35.473381Z"
    },
    "tags": []
   },
   "outputs": [],
   "source": [
    "json_path = test_videos.json_path.iloc[0]\n",
    "\n",
    "with open(json_path) as f:\n",
    "    json_data = json.load(f)\n",
    "\n",
    "data_processed_tf = preprocess_data_from_json_data(json_data)"
   ]
  },
  {
   "cell_type": "code",
   "execution_count": 29,
   "id": "5c9a17e9-16ba-4aec-bc24-5ed1a815d0d2",
   "metadata": {
    "execution": {
     "iopub.execute_input": "2024-03-29T06:19:35.929468Z",
     "iopub.status.busy": "2024-03-29T06:19:35.928357Z",
     "iopub.status.idle": "2024-03-29T06:19:36.924159Z",
     "shell.execute_reply": "2024-03-29T06:19:36.922551Z",
     "shell.execute_reply.started": "2024-03-29T06:19:35.929424Z"
    },
    "tags": []
   },
   "outputs": [
    {
     "name": "stderr",
     "output_type": "stream",
     "text": [
      "100%|███████████████████████████████████████████████████████████████████████████████████████████████████████████████| 30/30 [00:00<00:00, 33.15it/s]\n"
     ]
    }
   ],
   "source": [
    "# Initialize an empty list to store processed data\n",
    "processed_data_list = []\n",
    "\n",
    "# Assuming test_videos is a DataFrame with column json_path\n",
    "for json_path in tqdm(test_videos['json_path']):\n",
    "    with open(json_path) as f:\n",
    "        json_data = json.load(f)\n",
    "\n",
    "    data_processed_tf = preprocess_data_from_json_data(json_data)\n",
    "    processed_data_list.append(data_processed_tf)\n",
    "\n",
    "X_test_videos = tf.concat(processed_data_list, axis=0)\n"
   ]
  },
  {
   "cell_type": "markdown",
   "id": "729b81db-48ea-4b3f-9a45-c1b0de5c2a1a",
   "metadata": {},
   "source": [
    "### Model prediction"
   ]
  },
  {
   "cell_type": "code",
   "execution_count": 30,
   "id": "8112f056-0765-40c5-8263-a7a86e9c2a6d",
   "metadata": {
    "execution": {
     "iopub.execute_input": "2024-03-29T06:19:39.653133Z",
     "iopub.status.busy": "2024-03-29T06:19:39.652264Z",
     "iopub.status.idle": "2024-03-29T06:19:39.714653Z",
     "shell.execute_reply": "2024-03-29T06:19:39.713154Z",
     "shell.execute_reply.started": "2024-03-29T06:19:39.653098Z"
    },
    "tags": []
   },
   "outputs": [],
   "source": [
    "y_test_videos = encode_labels(test_videos.sign)"
   ]
  },
  {
   "cell_type": "code",
   "execution_count": 31,
   "id": "8b3bff35-6914-4bb2-b24a-9d575868a6e2",
   "metadata": {
    "execution": {
     "iopub.execute_input": "2024-03-29T06:19:40.348490Z",
     "iopub.status.busy": "2024-03-29T06:19:40.348089Z",
     "iopub.status.idle": "2024-03-29T06:19:40.407077Z",
     "shell.execute_reply": "2024-03-29T06:19:40.405542Z",
     "shell.execute_reply.started": "2024-03-29T06:19:40.348457Z"
    },
    "tags": []
   },
   "outputs": [
    {
     "data": {
      "text/plain": [
       "1125         on\n",
       "184       white\n",
       "1226      water\n",
       "67         jump\n",
       "220         yes\n",
       "903        sick\n",
       "430        read\n",
       "240        fish\n",
       "218       apple\n",
       "49        hello\n",
       "816        make\n",
       "844         can\n",
       "619        drop\n",
       "361       green\n",
       "1429      drink\n",
       "873        open\n",
       "1439    bedroom\n",
       "754        hair\n",
       "271       tooth\n",
       "522       awake\n",
       "259      listen\n",
       "428      police\n",
       "1167    because\n",
       "277     because\n",
       "968        rain\n",
       "570        book\n",
       "672       snack\n",
       "621       cloud\n",
       "1049      dance\n",
       "247         arm\n",
       "Name: sign, dtype: object"
      ]
     },
     "execution_count": 31,
     "metadata": {},
     "output_type": "execute_result"
    }
   ],
   "source": [
    "test_videos.sign"
   ]
  },
  {
   "cell_type": "code",
   "execution_count": 32,
   "id": "2b4a0e4f-1c85-4477-a9ae-6dc0756577d3",
   "metadata": {
    "execution": {
     "iopub.execute_input": "2024-03-29T06:19:41.213023Z",
     "iopub.status.busy": "2024-03-29T06:19:41.211626Z",
     "iopub.status.idle": "2024-03-29T06:19:41.276489Z",
     "shell.execute_reply": "2024-03-29T06:19:41.272791Z",
     "shell.execute_reply.started": "2024-03-29T06:19:41.212980Z"
    },
    "tags": []
   },
   "outputs": [
    {
     "data": {
      "text/plain": [
       "(30, 250)"
      ]
     },
     "execution_count": 32,
     "metadata": {},
     "output_type": "execute_result"
    }
   ],
   "source": [
    "y_test_videos.shape"
   ]
  },
  {
   "cell_type": "code",
   "execution_count": 22,
   "id": "850bba24-5bd5-40e2-84ec-91aa014a893a",
   "metadata": {
    "execution": {
     "iopub.execute_input": "2024-03-28T08:18:30.311704Z",
     "iopub.status.busy": "2024-03-28T08:18:30.311156Z",
     "iopub.status.idle": "2024-03-28T08:18:35.667881Z",
     "shell.execute_reply": "2024-03-28T08:18:35.665304Z",
     "shell.execute_reply.started": "2024-03-28T08:18:30.311656Z"
    },
    "tags": []
   },
   "outputs": [
    {
     "name": "stdout",
     "output_type": "stream",
     "text": [
      "\u001b[34m\n",
      "Evaluating model on 600 rows...\u001b[0m\n",
      "✅ Model evaluated, accuracy: 21.5%\n"
     ]
    },
    {
     "data": {
      "text/plain": [
       "{'accuracy': 0.2150000035762787, 'loss': 7.896070957183838}"
      ]
     },
     "execution_count": 22,
     "metadata": {},
     "output_type": "execute_result"
    }
   ],
   "source": [
    "evaluate_model(model, X_test_videos, y_test_videos)"
   ]
  },
  {
   "cell_type": "markdown",
   "id": "61b8b162-3230-47ef-a400-758a045eb111",
   "metadata": {},
   "source": [
    "### Second trial of preprocessing\n"
   ]
  },
  {
   "cell_type": "markdown",
   "id": "6b4ba684-4f00-49b7-9da2-72810fca3095",
   "metadata": {
    "tags": []
   },
   "source": [
    "#### From parquet"
   ]
  },
  {
   "cell_type": "code",
   "execution_count": 23,
   "id": "cf71d6d2-ffac-476a-b9e1-fde54944e1c6",
   "metadata": {
    "execution": {
     "iopub.execute_input": "2024-03-28T08:18:35.673193Z",
     "iopub.status.busy": "2024-03-28T08:18:35.671599Z",
     "iopub.status.idle": "2024-03-28T08:18:35.775256Z",
     "shell.execute_reply": "2024-03-28T08:18:35.771973Z",
     "shell.execute_reply.started": "2024-03-28T08:18:35.673122Z"
    },
    "tags": []
   },
   "outputs": [
    {
     "data": {
      "text/plain": [
       "'/home/bfrisque/code/benoitfrisque/signlens/raw_data/asl-signs/train_landmark_files_noface/55372/964553686.parquet'"
      ]
     },
     "execution_count": 23,
     "metadata": {},
     "output_type": "execute_result"
    }
   ],
   "source": [
    "X_test_files.loc[0]"
   ]
  },
  {
   "cell_type": "code",
   "execution_count": 24,
   "id": "eff6057c-5378-4888-b21d-8f313529a85b",
   "metadata": {
    "execution": {
     "iopub.execute_input": "2024-03-28T08:18:35.782113Z",
     "iopub.status.busy": "2024-03-28T08:18:35.779142Z",
     "iopub.status.idle": "2024-03-28T08:18:35.962694Z",
     "shell.execute_reply": "2024-03-28T08:18:35.960335Z",
     "shell.execute_reply.started": "2024-03-28T08:18:35.782043Z"
    },
    "tags": []
   },
   "outputs": [
    {
     "data": {
      "text/html": [
       "<div>\n",
       "<style scoped>\n",
       "    .dataframe tbody tr th:only-of-type {\n",
       "        vertical-align: middle;\n",
       "    }\n",
       "\n",
       "    .dataframe tbody tr th {\n",
       "        vertical-align: top;\n",
       "    }\n",
       "\n",
       "    .dataframe thead th {\n",
       "        text-align: right;\n",
       "    }\n",
       "</style>\n",
       "<table border=\"1\" class=\"dataframe\">\n",
       "  <thead>\n",
       "    <tr style=\"text-align: right;\">\n",
       "      <th></th>\n",
       "      <th>frame</th>\n",
       "      <th>row_id</th>\n",
       "      <th>type</th>\n",
       "      <th>landmark_index</th>\n",
       "      <th>x</th>\n",
       "      <th>y</th>\n",
       "      <th>z</th>\n",
       "    </tr>\n",
       "  </thead>\n",
       "  <tbody>\n",
       "    <tr>\n",
       "      <th>468</th>\n",
       "      <td>97</td>\n",
       "      <td>97-left_hand-0</td>\n",
       "      <td>left_hand</td>\n",
       "      <td>0</td>\n",
       "      <td>0.753712</td>\n",
       "      <td>0.440771</td>\n",
       "      <td>-3.072535e-07</td>\n",
       "    </tr>\n",
       "    <tr>\n",
       "      <th>469</th>\n",
       "      <td>97</td>\n",
       "      <td>97-left_hand-1</td>\n",
       "      <td>left_hand</td>\n",
       "      <td>1</td>\n",
       "      <td>0.710808</td>\n",
       "      <td>0.387376</td>\n",
       "      <td>1.541814e-02</td>\n",
       "    </tr>\n",
       "    <tr>\n",
       "      <th>470</th>\n",
       "      <td>97</td>\n",
       "      <td>97-left_hand-2</td>\n",
       "      <td>left_hand</td>\n",
       "      <td>2</td>\n",
       "      <td>0.684510</td>\n",
       "      <td>0.326742</td>\n",
       "      <td>5.668570e-03</td>\n",
       "    </tr>\n",
       "    <tr>\n",
       "      <th>471</th>\n",
       "      <td>97</td>\n",
       "      <td>97-left_hand-3</td>\n",
       "      <td>left_hand</td>\n",
       "      <td>3</td>\n",
       "      <td>0.661984</td>\n",
       "      <td>0.284918</td>\n",
       "      <td>-9.025068e-03</td>\n",
       "    </tr>\n",
       "    <tr>\n",
       "      <th>472</th>\n",
       "      <td>97</td>\n",
       "      <td>97-left_hand-4</td>\n",
       "      <td>left_hand</td>\n",
       "      <td>4</td>\n",
       "      <td>0.633150</td>\n",
       "      <td>0.261813</td>\n",
       "      <td>-2.736259e-02</td>\n",
       "    </tr>\n",
       "    <tr>\n",
       "      <th>...</th>\n",
       "      <td>...</td>\n",
       "      <td>...</td>\n",
       "      <td>...</td>\n",
       "      <td>...</td>\n",
       "      <td>...</td>\n",
       "      <td>...</td>\n",
       "      <td>...</td>\n",
       "    </tr>\n",
       "    <tr>\n",
       "      <th>15199</th>\n",
       "      <td>124</td>\n",
       "      <td>124-right_hand-16</td>\n",
       "      <td>right_hand</td>\n",
       "      <td>16</td>\n",
       "      <td>NaN</td>\n",
       "      <td>NaN</td>\n",
       "      <td>NaN</td>\n",
       "    </tr>\n",
       "    <tr>\n",
       "      <th>15200</th>\n",
       "      <td>124</td>\n",
       "      <td>124-right_hand-17</td>\n",
       "      <td>right_hand</td>\n",
       "      <td>17</td>\n",
       "      <td>NaN</td>\n",
       "      <td>NaN</td>\n",
       "      <td>NaN</td>\n",
       "    </tr>\n",
       "    <tr>\n",
       "      <th>15201</th>\n",
       "      <td>124</td>\n",
       "      <td>124-right_hand-18</td>\n",
       "      <td>right_hand</td>\n",
       "      <td>18</td>\n",
       "      <td>NaN</td>\n",
       "      <td>NaN</td>\n",
       "      <td>NaN</td>\n",
       "    </tr>\n",
       "    <tr>\n",
       "      <th>15202</th>\n",
       "      <td>124</td>\n",
       "      <td>124-right_hand-19</td>\n",
       "      <td>right_hand</td>\n",
       "      <td>19</td>\n",
       "      <td>NaN</td>\n",
       "      <td>NaN</td>\n",
       "      <td>NaN</td>\n",
       "    </tr>\n",
       "    <tr>\n",
       "      <th>15203</th>\n",
       "      <td>124</td>\n",
       "      <td>124-right_hand-20</td>\n",
       "      <td>right_hand</td>\n",
       "      <td>20</td>\n",
       "      <td>NaN</td>\n",
       "      <td>NaN</td>\n",
       "      <td>NaN</td>\n",
       "    </tr>\n",
       "  </tbody>\n",
       "</table>\n",
       "<p>2100 rows × 7 columns</p>\n",
       "</div>"
      ],
      "text/plain": [
       "       frame             row_id        type  landmark_index         x  \\\n",
       "468       97     97-left_hand-0   left_hand               0  0.753712   \n",
       "469       97     97-left_hand-1   left_hand               1  0.710808   \n",
       "470       97     97-left_hand-2   left_hand               2  0.684510   \n",
       "471       97     97-left_hand-3   left_hand               3  0.661984   \n",
       "472       97     97-left_hand-4   left_hand               4  0.633150   \n",
       "...      ...                ...         ...             ...       ...   \n",
       "15199    124  124-right_hand-16  right_hand              16       NaN   \n",
       "15200    124  124-right_hand-17  right_hand              17       NaN   \n",
       "15201    124  124-right_hand-18  right_hand              18       NaN   \n",
       "15202    124  124-right_hand-19  right_hand              19       NaN   \n",
       "15203    124  124-right_hand-20  right_hand              20       NaN   \n",
       "\n",
       "              y             z  \n",
       "468    0.440771 -3.072535e-07  \n",
       "469    0.387376  1.541814e-02  \n",
       "470    0.326742  5.668570e-03  \n",
       "471    0.284918 -9.025068e-03  \n",
       "472    0.261813 -2.736259e-02  \n",
       "...         ...           ...  \n",
       "15199       NaN           NaN  \n",
       "15200       NaN           NaN  \n",
       "15201       NaN           NaN  \n",
       "15202       NaN           NaN  \n",
       "15203       NaN           NaN  \n",
       "\n",
       "[2100 rows x 7 columns]"
      ]
     },
     "execution_count": 24,
     "metadata": {},
     "output_type": "execute_result"
    }
   ],
   "source": [
    "pq_df = pd.read_parquet(X_test_files.loc[0])\n",
    "pq_df"
   ]
  },
  {
   "cell_type": "code",
   "execution_count": 25,
   "id": "cb74999a-8ce7-4bdf-b4aa-efd9b482dd55",
   "metadata": {
    "execution": {
     "iopub.execute_input": "2024-03-28T08:18:35.967471Z",
     "iopub.status.busy": "2024-03-28T08:18:35.965690Z",
     "iopub.status.idle": "2024-03-28T08:18:36.080099Z",
     "shell.execute_reply": "2024-03-28T08:18:36.077515Z",
     "shell.execute_reply.started": "2024-03-28T08:18:35.967364Z"
    }
   },
   "outputs": [
    {
     "data": {
      "text/html": [
       "<div>\n",
       "<style scoped>\n",
       "    .dataframe tbody tr th:only-of-type {\n",
       "        vertical-align: middle;\n",
       "    }\n",
       "\n",
       "    .dataframe tbody tr th {\n",
       "        vertical-align: top;\n",
       "    }\n",
       "\n",
       "    .dataframe thead th {\n",
       "        text-align: right;\n",
       "    }\n",
       "</style>\n",
       "<table border=\"1\" class=\"dataframe\">\n",
       "  <thead>\n",
       "    <tr style=\"text-align: right;\">\n",
       "      <th></th>\n",
       "      <th>frame</th>\n",
       "      <th>row_id</th>\n",
       "      <th>type</th>\n",
       "      <th>landmark_index</th>\n",
       "      <th>x</th>\n",
       "      <th>y</th>\n",
       "      <th>z</th>\n",
       "    </tr>\n",
       "  </thead>\n",
       "  <tbody>\n",
       "    <tr>\n",
       "      <th>489</th>\n",
       "      <td>97</td>\n",
       "      <td>97-pose-0</td>\n",
       "      <td>pose</td>\n",
       "      <td>0</td>\n",
       "      <td>0.486289</td>\n",
       "      <td>0.378977</td>\n",
       "      <td>-1.222383</td>\n",
       "    </tr>\n",
       "    <tr>\n",
       "      <th>490</th>\n",
       "      <td>97</td>\n",
       "      <td>97-pose-1</td>\n",
       "      <td>pose</td>\n",
       "      <td>1</td>\n",
       "      <td>0.515095</td>\n",
       "      <td>0.311778</td>\n",
       "      <td>-1.133345</td>\n",
       "    </tr>\n",
       "    <tr>\n",
       "      <th>491</th>\n",
       "      <td>97</td>\n",
       "      <td>97-pose-2</td>\n",
       "      <td>pose</td>\n",
       "      <td>2</td>\n",
       "      <td>0.539201</td>\n",
       "      <td>0.312966</td>\n",
       "      <td>-1.132728</td>\n",
       "    </tr>\n",
       "    <tr>\n",
       "      <th>492</th>\n",
       "      <td>97</td>\n",
       "      <td>97-pose-3</td>\n",
       "      <td>pose</td>\n",
       "      <td>3</td>\n",
       "      <td>0.562195</td>\n",
       "      <td>0.314196</td>\n",
       "      <td>-1.132530</td>\n",
       "    </tr>\n",
       "    <tr>\n",
       "      <th>493</th>\n",
       "      <td>97</td>\n",
       "      <td>97-pose-4</td>\n",
       "      <td>pose</td>\n",
       "      <td>4</td>\n",
       "      <td>0.438257</td>\n",
       "      <td>0.307604</td>\n",
       "      <td>-1.181726</td>\n",
       "    </tr>\n",
       "    <tr>\n",
       "      <th>...</th>\n",
       "      <td>...</td>\n",
       "      <td>...</td>\n",
       "      <td>...</td>\n",
       "      <td>...</td>\n",
       "      <td>...</td>\n",
       "      <td>...</td>\n",
       "      <td>...</td>\n",
       "    </tr>\n",
       "    <tr>\n",
       "      <th>15178</th>\n",
       "      <td>124</td>\n",
       "      <td>124-pose-28</td>\n",
       "      <td>pose</td>\n",
       "      <td>28</td>\n",
       "      <td>0.274367</td>\n",
       "      <td>2.496219</td>\n",
       "      <td>1.476208</td>\n",
       "    </tr>\n",
       "    <tr>\n",
       "      <th>15179</th>\n",
       "      <td>124</td>\n",
       "      <td>124-pose-29</td>\n",
       "      <td>pose</td>\n",
       "      <td>29</td>\n",
       "      <td>0.690214</td>\n",
       "      <td>2.568291</td>\n",
       "      <td>1.342841</td>\n",
       "    </tr>\n",
       "    <tr>\n",
       "      <th>15180</th>\n",
       "      <td>124</td>\n",
       "      <td>124-pose-30</td>\n",
       "      <td>pose</td>\n",
       "      <td>30</td>\n",
       "      <td>0.257715</td>\n",
       "      <td>2.570974</td>\n",
       "      <td>1.555213</td>\n",
       "    </tr>\n",
       "    <tr>\n",
       "      <th>15181</th>\n",
       "      <td>124</td>\n",
       "      <td>124-pose-31</td>\n",
       "      <td>pose</td>\n",
       "      <td>31</td>\n",
       "      <td>0.662896</td>\n",
       "      <td>2.661493</td>\n",
       "      <td>0.384620</td>\n",
       "    </tr>\n",
       "    <tr>\n",
       "      <th>15182</th>\n",
       "      <td>124</td>\n",
       "      <td>124-pose-32</td>\n",
       "      <td>pose</td>\n",
       "      <td>32</td>\n",
       "      <td>0.385328</td>\n",
       "      <td>2.658655</td>\n",
       "      <td>0.532984</td>\n",
       "    </tr>\n",
       "  </tbody>\n",
       "</table>\n",
       "<p>924 rows × 7 columns</p>\n",
       "</div>"
      ],
      "text/plain": [
       "       frame       row_id  type  landmark_index         x         y         z\n",
       "489       97    97-pose-0  pose               0  0.486289  0.378977 -1.222383\n",
       "490       97    97-pose-1  pose               1  0.515095  0.311778 -1.133345\n",
       "491       97    97-pose-2  pose               2  0.539201  0.312966 -1.132728\n",
       "492       97    97-pose-3  pose               3  0.562195  0.314196 -1.132530\n",
       "493       97    97-pose-4  pose               4  0.438257  0.307604 -1.181726\n",
       "...      ...          ...   ...             ...       ...       ...       ...\n",
       "15178    124  124-pose-28  pose              28  0.274367  2.496219  1.476208\n",
       "15179    124  124-pose-29  pose              29  0.690214  2.568291  1.342841\n",
       "15180    124  124-pose-30  pose              30  0.257715  2.570974  1.555213\n",
       "15181    124  124-pose-31  pose              31  0.662896  2.661493  0.384620\n",
       "15182    124  124-pose-32  pose              32  0.385328  2.658655  0.532984\n",
       "\n",
       "[924 rows x 7 columns]"
      ]
     },
     "execution_count": 25,
     "metadata": {},
     "output_type": "execute_result"
    }
   ],
   "source": [
    "pq_df[pq_df.type=='pose']"
   ]
  },
  {
   "cell_type": "code",
   "execution_count": 26,
   "id": "c83dbd35-c3ee-4489-a1ec-1c71be6f9ca1",
   "metadata": {
    "execution": {
     "iopub.execute_input": "2024-03-28T08:18:36.083424Z",
     "iopub.status.busy": "2024-03-28T08:18:36.082853Z",
     "iopub.status.idle": "2024-03-28T08:18:36.196472Z",
     "shell.execute_reply": "2024-03-28T08:18:36.194245Z",
     "shell.execute_reply.started": "2024-03-28T08:18:36.083371Z"
    }
   },
   "outputs": [
    {
     "data": {
      "text/html": [
       "<div>\n",
       "<style scoped>\n",
       "    .dataframe tbody tr th:only-of-type {\n",
       "        vertical-align: middle;\n",
       "    }\n",
       "\n",
       "    .dataframe tbody tr th {\n",
       "        vertical-align: top;\n",
       "    }\n",
       "\n",
       "    .dataframe thead th {\n",
       "        text-align: right;\n",
       "    }\n",
       "</style>\n",
       "<table border=\"1\" class=\"dataframe\">\n",
       "  <thead>\n",
       "    <tr style=\"text-align: right;\">\n",
       "      <th></th>\n",
       "      <th>frame</th>\n",
       "      <th>landmark_index</th>\n",
       "      <th>x</th>\n",
       "      <th>y</th>\n",
       "      <th>z</th>\n",
       "    </tr>\n",
       "  </thead>\n",
       "  <tbody>\n",
       "    <tr>\n",
       "      <th>count</th>\n",
       "      <td>2100.000000</td>\n",
       "      <td>2100.000000</td>\n",
       "      <td>1449.000000</td>\n",
       "      <td>1449.000000</td>\n",
       "      <td>1449.000000</td>\n",
       "    </tr>\n",
       "    <tr>\n",
       "      <th>mean</th>\n",
       "      <td>110.500000</td>\n",
       "      <td>12.640000</td>\n",
       "      <td>0.520995</td>\n",
       "      <td>0.810090</td>\n",
       "      <td>-0.323313</td>\n",
       "    </tr>\n",
       "    <tr>\n",
       "      <th>std</th>\n",
       "      <td>8.079671</td>\n",
       "      <td>8.326469</td>\n",
       "      <td>0.242960</td>\n",
       "      <td>0.778027</td>\n",
       "      <td>0.668098</td>\n",
       "    </tr>\n",
       "    <tr>\n",
       "      <th>min</th>\n",
       "      <td>97.000000</td>\n",
       "      <td>0.000000</td>\n",
       "      <td>-0.125702</td>\n",
       "      <td>0.097004</td>\n",
       "      <td>-1.879110</td>\n",
       "    </tr>\n",
       "    <tr>\n",
       "      <th>25%</th>\n",
       "      <td>103.750000</td>\n",
       "      <td>6.000000</td>\n",
       "      <td>0.406232</td>\n",
       "      <td>0.306133</td>\n",
       "      <td>-0.963419</td>\n",
       "    </tr>\n",
       "    <tr>\n",
       "      <th>50%</th>\n",
       "      <td>110.500000</td>\n",
       "      <td>12.000000</td>\n",
       "      <td>0.615779</td>\n",
       "      <td>0.369245</td>\n",
       "      <td>-0.089416</td>\n",
       "    </tr>\n",
       "    <tr>\n",
       "      <th>75%</th>\n",
       "      <td>117.250000</td>\n",
       "      <td>18.000000</td>\n",
       "      <td>0.685205</td>\n",
       "      <td>1.357148</td>\n",
       "      <td>-0.003270</td>\n",
       "    </tr>\n",
       "    <tr>\n",
       "      <th>max</th>\n",
       "      <td>124.000000</td>\n",
       "      <td>32.000000</td>\n",
       "      <td>0.980260</td>\n",
       "      <td>2.663223</td>\n",
       "      <td>1.594750</td>\n",
       "    </tr>\n",
       "  </tbody>\n",
       "</table>\n",
       "</div>"
      ],
      "text/plain": [
       "             frame  landmark_index            x            y            z\n",
       "count  2100.000000     2100.000000  1449.000000  1449.000000  1449.000000\n",
       "mean    110.500000       12.640000     0.520995     0.810090    -0.323313\n",
       "std       8.079671        8.326469     0.242960     0.778027     0.668098\n",
       "min      97.000000        0.000000    -0.125702     0.097004    -1.879110\n",
       "25%     103.750000        6.000000     0.406232     0.306133    -0.963419\n",
       "50%     110.500000       12.000000     0.615779     0.369245    -0.089416\n",
       "75%     117.250000       18.000000     0.685205     1.357148    -0.003270\n",
       "max     124.000000       32.000000     0.980260     2.663223     1.594750"
      ]
     },
     "execution_count": 26,
     "metadata": {},
     "output_type": "execute_result"
    }
   ],
   "source": [
    "pq_df.describe()"
   ]
  },
  {
   "cell_type": "code",
   "execution_count": 27,
   "id": "3af37e72-1e45-4d8e-95c1-23289c371553",
   "metadata": {
    "execution": {
     "iopub.execute_input": "2024-03-28T08:18:36.199634Z",
     "iopub.status.busy": "2024-03-28T08:18:36.199073Z",
     "iopub.status.idle": "2024-03-28T08:18:36.318477Z",
     "shell.execute_reply": "2024-03-28T08:18:36.316113Z",
     "shell.execute_reply.started": "2024-03-28T08:18:36.199585Z"
    }
   },
   "outputs": [
    {
     "name": "stderr",
     "output_type": "stream",
     "text": [
      "/tmp/ipykernel_22357/1063850012.py:13: SettingWithCopyWarning: \n",
      "A value is trying to be set on a copy of a slice from a DataFrame.\n",
      "Try using .loc[row_indexer,col_indexer] = value instead\n",
      "\n",
      "See the caveats in the documentation: https://pandas.pydata.org/pandas-docs/stable/user_guide/indexing.html#returning-a-view-versus-a-copy\n",
      "  landmarks_df['type'] = pd.Categorical(landmarks_df['type'], categories=type_order, ordered=True)\n",
      "/tmp/ipykernel_22357/1063850012.py:16: SettingWithCopyWarning: \n",
      "A value is trying to be set on a copy of a slice from a DataFrame\n",
      "\n",
      "See the caveats in the documentation: https://pandas.pydata.org/pandas-docs/stable/user_guide/indexing.html#returning-a-view-versus-a-copy\n",
      "  landmarks_df.sort_values(by=['frame', 'type', 'landmark_index'], inplace=True)\n"
     ]
    },
    {
     "data": {
      "text/html": [
       "<div>\n",
       "<style scoped>\n",
       "    .dataframe tbody tr th:only-of-type {\n",
       "        vertical-align: middle;\n",
       "    }\n",
       "\n",
       "    .dataframe tbody tr th {\n",
       "        vertical-align: top;\n",
       "    }\n",
       "\n",
       "    .dataframe thead th {\n",
       "        text-align: right;\n",
       "    }\n",
       "</style>\n",
       "<table border=\"1\" class=\"dataframe\">\n",
       "  <thead>\n",
       "    <tr style=\"text-align: right;\">\n",
       "      <th></th>\n",
       "      <th>frame</th>\n",
       "      <th>type</th>\n",
       "      <th>landmark_index</th>\n",
       "      <th>x</th>\n",
       "      <th>y</th>\n",
       "      <th>z</th>\n",
       "    </tr>\n",
       "  </thead>\n",
       "  <tbody>\n",
       "    <tr>\n",
       "      <th>489</th>\n",
       "      <td>97</td>\n",
       "      <td>pose</td>\n",
       "      <td>0</td>\n",
       "      <td>0.486289</td>\n",
       "      <td>0.378977</td>\n",
       "      <td>-1.222383</td>\n",
       "    </tr>\n",
       "    <tr>\n",
       "      <th>490</th>\n",
       "      <td>97</td>\n",
       "      <td>pose</td>\n",
       "      <td>1</td>\n",
       "      <td>0.515095</td>\n",
       "      <td>0.311778</td>\n",
       "      <td>-1.133345</td>\n",
       "    </tr>\n",
       "    <tr>\n",
       "      <th>491</th>\n",
       "      <td>97</td>\n",
       "      <td>pose</td>\n",
       "      <td>2</td>\n",
       "      <td>0.539201</td>\n",
       "      <td>0.312966</td>\n",
       "      <td>-1.132728</td>\n",
       "    </tr>\n",
       "    <tr>\n",
       "      <th>492</th>\n",
       "      <td>97</td>\n",
       "      <td>pose</td>\n",
       "      <td>3</td>\n",
       "      <td>0.562195</td>\n",
       "      <td>0.314196</td>\n",
       "      <td>-1.132530</td>\n",
       "    </tr>\n",
       "    <tr>\n",
       "      <th>493</th>\n",
       "      <td>97</td>\n",
       "      <td>pose</td>\n",
       "      <td>4</td>\n",
       "      <td>0.438257</td>\n",
       "      <td>0.307604</td>\n",
       "      <td>-1.181726</td>\n",
       "    </tr>\n",
       "    <tr>\n",
       "      <th>...</th>\n",
       "      <td>...</td>\n",
       "      <td>...</td>\n",
       "      <td>...</td>\n",
       "      <td>...</td>\n",
       "      <td>...</td>\n",
       "      <td>...</td>\n",
       "    </tr>\n",
       "    <tr>\n",
       "      <th>15199</th>\n",
       "      <td>124</td>\n",
       "      <td>right_hand</td>\n",
       "      <td>16</td>\n",
       "      <td>NaN</td>\n",
       "      <td>NaN</td>\n",
       "      <td>NaN</td>\n",
       "    </tr>\n",
       "    <tr>\n",
       "      <th>15200</th>\n",
       "      <td>124</td>\n",
       "      <td>right_hand</td>\n",
       "      <td>17</td>\n",
       "      <td>NaN</td>\n",
       "      <td>NaN</td>\n",
       "      <td>NaN</td>\n",
       "    </tr>\n",
       "    <tr>\n",
       "      <th>15201</th>\n",
       "      <td>124</td>\n",
       "      <td>right_hand</td>\n",
       "      <td>18</td>\n",
       "      <td>NaN</td>\n",
       "      <td>NaN</td>\n",
       "      <td>NaN</td>\n",
       "    </tr>\n",
       "    <tr>\n",
       "      <th>15202</th>\n",
       "      <td>124</td>\n",
       "      <td>right_hand</td>\n",
       "      <td>19</td>\n",
       "      <td>NaN</td>\n",
       "      <td>NaN</td>\n",
       "      <td>NaN</td>\n",
       "    </tr>\n",
       "    <tr>\n",
       "      <th>15203</th>\n",
       "      <td>124</td>\n",
       "      <td>right_hand</td>\n",
       "      <td>20</td>\n",
       "      <td>NaN</td>\n",
       "      <td>NaN</td>\n",
       "      <td>NaN</td>\n",
       "    </tr>\n",
       "  </tbody>\n",
       "</table>\n",
       "<p>1876 rows × 6 columns</p>\n",
       "</div>"
      ],
      "text/plain": [
       "       frame        type  landmark_index         x         y         z\n",
       "489       97        pose               0  0.486289  0.378977 -1.222383\n",
       "490       97        pose               1  0.515095  0.311778 -1.133345\n",
       "491       97        pose               2  0.539201  0.312966 -1.132728\n",
       "492       97        pose               3  0.562195  0.314196 -1.132530\n",
       "493       97        pose               4  0.438257  0.307604 -1.181726\n",
       "...      ...         ...             ...       ...       ...       ...\n",
       "15199    124  right_hand              16       NaN       NaN       NaN\n",
       "15200    124  right_hand              17       NaN       NaN       NaN\n",
       "15201    124  right_hand              18       NaN       NaN       NaN\n",
       "15202    124  right_hand              19       NaN       NaN       NaN\n",
       "15203    124  right_hand              20       NaN       NaN       NaN\n",
       "\n",
       "[1876 rows x 6 columns]"
      ]
     },
     "execution_count": 27,
     "metadata": {},
     "output_type": "execute_result"
    }
   ],
   "source": [
    "landmarks_df = pq_df\n",
    "\n",
    "noface = True\n",
    "n_coordinates = 2\n",
    "\n",
    "# Keep only the defined columns\n",
    "landmarks_df = landmarks_df[['frame', 'type','landmark_index', 'x', 'y', 'z']]\n",
    "\n",
    "# Define the order of the 'type' column\n",
    "type_order = ['face', 'pose', 'left_hand', 'right_hand']\n",
    "\n",
    "# Convert the 'type' column to a categorical type with the specified order\n",
    "landmarks_df['type'] = pd.Categorical(landmarks_df['type'], categories=type_order, ordered=True)\n",
    "\n",
    "# Sort the DataFrame by 'frame', 'type' and 'landmark_index', to ensure the correct order of landmarks\n",
    "landmarks_df.sort_values(by=['frame', 'type', 'landmark_index'], inplace=True)\n",
    "\n",
    "n_landmarks_per_frame = N_LANDMARKS_ALL\n",
    "\n",
    "landmark_types_to_remove = []\n",
    "\n",
    "if noface:\n",
    "    # Exclude rows where 'type' is 'face' and some portion of 'pose'\n",
    "    landmark_types_to_remove.append('face')\n",
    "\n",
    "    # Calculate the number of rows per frame after removing 'face' landmarks\n",
    "    n_landmarks_per_frame -= N_LANDMARKS_FACE\n",
    "\n",
    "if N_LANDMARKS_POSE_TO_TAKE_OFF > 0:\n",
    "    landmark_types_to_remove.append('pose')\n",
    "\n",
    "    # Calculate the number of rows per frame after removing 'pose' landmarks\n",
    "    n_landmarks_per_frame -= N_LANDMARKS_POSE_TO_TAKE_OFF\n",
    "\n",
    "for landmark_type in landmark_types_to_remove:\n",
    "    if landmark_type == 'pose' and N_LANDMARKS_POSE_TO_TAKE_OFF > 0:\n",
    "        landmarks_df = landmarks_df[~((landmarks_df['type'] == 'pose') &\n",
    "                                      (landmarks_df['landmark_index'].\\\n",
    "                                          between(N_LANDMARKS_MIN_POSE_TO_TAKE_OFF, N_LANDMARKS_MAX_POSE_TO_TAKE_OFF)))\n",
    "                                    ]\n",
    "    else:\n",
    "        landmarks_df = landmarks_df[landmarks_df['type'] != landmark_type]\n",
    "\n",
    "# If the model uses 2D data, drop the 'z' dimension\n",
    "if n_coordinates == 2:\n",
    "    data_columns = ['x', 'y']\n",
    "else:\n",
    "    # If the model uses 3D data, keep the 'z' dimension\n",
    "    data_columns = ['x', 'y', 'z']\n",
    "\n",
    "pq_df_filtered = landmarks_df\n",
    "pq_df_filtered"
   ]
  },
  {
   "cell_type": "code",
   "execution_count": 28,
   "id": "fb3c06b3-3091-47c3-a728-b7e9f29367b2",
   "metadata": {
    "execution": {
     "iopub.execute_input": "2024-03-28T08:18:36.321367Z",
     "iopub.status.busy": "2024-03-28T08:18:36.320838Z",
     "iopub.status.idle": "2024-03-28T08:18:36.415724Z",
     "shell.execute_reply": "2024-03-28T08:18:36.413724Z",
     "shell.execute_reply.started": "2024-03-28T08:18:36.321318Z"
    },
    "tags": []
   },
   "outputs": [
    {
     "name": "stderr",
     "output_type": "stream",
     "text": [
      "/home/bfrisque/code/benoitfrisque/signlens/signlens/preprocessing/preprocess.py:210: SettingWithCopyWarning: \n",
      "A value is trying to be set on a copy of a slice from a DataFrame.\n",
      "Try using .loc[row_indexer,col_indexer] = value instead\n",
      "\n",
      "See the caveats in the documentation: https://pandas.pydata.org/pandas-docs/stable/user_guide/indexing.html#returning-a-view-versus-a-copy\n",
      "  landmarks_df['type'] = pd.Categorical(landmarks_df['type'], categories=type_order, ordered=True)\n",
      "/home/bfrisque/code/benoitfrisque/signlens/signlens/preprocessing/preprocess.py:213: SettingWithCopyWarning: \n",
      "A value is trying to be set on a copy of a slice from a DataFrame\n",
      "\n",
      "See the caveats in the documentation: https://pandas.pydata.org/pandas-docs/stable/user_guide/indexing.html#returning-a-view-versus-a-copy\n",
      "  landmarks_df.sort_values(by=['frame', 'type', 'landmark_index'], inplace=True)\n"
     ]
    },
    {
     "data": {
      "text/plain": [
       "(28, 67, 2)"
      ]
     },
     "execution_count": 28,
     "metadata": {},
     "output_type": "execute_result"
    }
   ],
   "source": [
    "landmarks_array = filter_relevant_landmarks_and_coordinates(pq_df)\n",
    "landmarks_array.shape"
   ]
  },
  {
   "cell_type": "markdown",
   "id": "f7ca3d3b-29f4-4534-bcbe-fddcf7629b7a",
   "metadata": {},
   "source": [
    "### From json"
   ]
  },
  {
   "cell_type": "code",
   "execution_count": 29,
   "id": "2c450a92-c492-4e93-bcc1-0f4bb9b85e34",
   "metadata": {
    "execution": {
     "iopub.execute_input": "2024-03-28T08:18:36.419032Z",
     "iopub.status.busy": "2024-03-28T08:18:36.418242Z",
     "iopub.status.idle": "2024-03-28T08:18:36.491591Z",
     "shell.execute_reply": "2024-03-28T08:18:36.489514Z",
     "shell.execute_reply.started": "2024-03-28T08:18:36.418971Z"
    },
    "tags": []
   },
   "outputs": [],
   "source": [
    "from signlens.preprocessing.preprocess import convert_landmarks_json_data_to_df"
   ]
  },
  {
   "cell_type": "code",
   "execution_count": 30,
   "id": "58792228-0b10-40c0-83a8-b4861658b4ce",
   "metadata": {
    "execution": {
     "iopub.execute_input": "2024-03-28T08:18:36.495073Z",
     "iopub.status.busy": "2024-03-28T08:18:36.494371Z",
     "iopub.status.idle": "2024-03-28T08:18:36.607162Z",
     "shell.execute_reply": "2024-03-28T08:18:36.605317Z",
     "shell.execute_reply.started": "2024-03-28T08:18:36.495020Z"
    },
    "tags": []
   },
   "outputs": [
    {
     "data": {
      "text/html": [
       "<div>\n",
       "<style scoped>\n",
       "    .dataframe tbody tr th:only-of-type {\n",
       "        vertical-align: middle;\n",
       "    }\n",
       "\n",
       "    .dataframe tbody tr th {\n",
       "        vertical-align: top;\n",
       "    }\n",
       "\n",
       "    .dataframe thead th {\n",
       "        text-align: right;\n",
       "    }\n",
       "</style>\n",
       "<table border=\"1\" class=\"dataframe\">\n",
       "  <thead>\n",
       "    <tr style=\"text-align: right;\">\n",
       "      <th></th>\n",
       "      <th>frame</th>\n",
       "      <th>type</th>\n",
       "      <th>landmark_index</th>\n",
       "      <th>x</th>\n",
       "      <th>y</th>\n",
       "      <th>z</th>\n",
       "    </tr>\n",
       "  </thead>\n",
       "  <tbody>\n",
       "    <tr>\n",
       "      <th>0</th>\n",
       "      <td>0</td>\n",
       "      <td>pose</td>\n",
       "      <td>0</td>\n",
       "      <td>0.500277</td>\n",
       "      <td>0.241630</td>\n",
       "      <td>-0.819381</td>\n",
       "    </tr>\n",
       "    <tr>\n",
       "      <th>1</th>\n",
       "      <td>0</td>\n",
       "      <td>pose</td>\n",
       "      <td>1</td>\n",
       "      <td>0.523893</td>\n",
       "      <td>0.202014</td>\n",
       "      <td>-0.776747</td>\n",
       "    </tr>\n",
       "    <tr>\n",
       "      <th>2</th>\n",
       "      <td>0</td>\n",
       "      <td>pose</td>\n",
       "      <td>2</td>\n",
       "      <td>0.536773</td>\n",
       "      <td>0.200921</td>\n",
       "      <td>-0.776917</td>\n",
       "    </tr>\n",
       "    <tr>\n",
       "      <th>3</th>\n",
       "      <td>0</td>\n",
       "      <td>pose</td>\n",
       "      <td>3</td>\n",
       "      <td>0.550744</td>\n",
       "      <td>0.200229</td>\n",
       "      <td>-0.776974</td>\n",
       "    </tr>\n",
       "    <tr>\n",
       "      <th>4</th>\n",
       "      <td>0</td>\n",
       "      <td>pose</td>\n",
       "      <td>4</td>\n",
       "      <td>0.477402</td>\n",
       "      <td>0.203587</td>\n",
       "      <td>-0.779479</td>\n",
       "    </tr>\n",
       "    <tr>\n",
       "      <th>...</th>\n",
       "      <td>...</td>\n",
       "      <td>...</td>\n",
       "      <td>...</td>\n",
       "      <td>...</td>\n",
       "      <td>...</td>\n",
       "      <td>...</td>\n",
       "    </tr>\n",
       "    <tr>\n",
       "      <th>6587</th>\n",
       "      <td>87</td>\n",
       "      <td>right_hand</td>\n",
       "      <td>16</td>\n",
       "      <td>NaN</td>\n",
       "      <td>NaN</td>\n",
       "      <td>NaN</td>\n",
       "    </tr>\n",
       "    <tr>\n",
       "      <th>6588</th>\n",
       "      <td>87</td>\n",
       "      <td>right_hand</td>\n",
       "      <td>17</td>\n",
       "      <td>NaN</td>\n",
       "      <td>NaN</td>\n",
       "      <td>NaN</td>\n",
       "    </tr>\n",
       "    <tr>\n",
       "      <th>6589</th>\n",
       "      <td>87</td>\n",
       "      <td>right_hand</td>\n",
       "      <td>18</td>\n",
       "      <td>NaN</td>\n",
       "      <td>NaN</td>\n",
       "      <td>NaN</td>\n",
       "    </tr>\n",
       "    <tr>\n",
       "      <th>6590</th>\n",
       "      <td>87</td>\n",
       "      <td>right_hand</td>\n",
       "      <td>19</td>\n",
       "      <td>NaN</td>\n",
       "      <td>NaN</td>\n",
       "      <td>NaN</td>\n",
       "    </tr>\n",
       "    <tr>\n",
       "      <th>6591</th>\n",
       "      <td>87</td>\n",
       "      <td>right_hand</td>\n",
       "      <td>20</td>\n",
       "      <td>NaN</td>\n",
       "      <td>NaN</td>\n",
       "      <td>NaN</td>\n",
       "    </tr>\n",
       "  </tbody>\n",
       "</table>\n",
       "<p>6592 rows × 6 columns</p>\n",
       "</div>"
      ],
      "text/plain": [
       "      frame        type  landmark_index         x         y         z\n",
       "0         0        pose               0  0.500277  0.241630 -0.819381\n",
       "1         0        pose               1  0.523893  0.202014 -0.776747\n",
       "2         0        pose               2  0.536773  0.200921 -0.776917\n",
       "3         0        pose               3  0.550744  0.200229 -0.776974\n",
       "4         0        pose               4  0.477402  0.203587 -0.779479\n",
       "...     ...         ...             ...       ...       ...       ...\n",
       "6587     87  right_hand              16       NaN       NaN       NaN\n",
       "6588     87  right_hand              17       NaN       NaN       NaN\n",
       "6589     87  right_hand              18       NaN       NaN       NaN\n",
       "6590     87  right_hand              19       NaN       NaN       NaN\n",
       "6591     87  right_hand              20       NaN       NaN       NaN\n",
       "\n",
       "[6592 rows x 6 columns]"
      ]
     },
     "execution_count": 30,
     "metadata": {},
     "output_type": "execute_result"
    }
   ],
   "source": [
    "json_df = convert_landmarks_json_data_to_df(json_data)\n",
    "json_df"
   ]
  },
  {
   "cell_type": "code",
   "execution_count": 31,
   "id": "612bd989-295a-4e91-9a64-a89ae4008414",
   "metadata": {
    "execution": {
     "iopub.execute_input": "2024-03-28T08:18:36.609836Z",
     "iopub.status.busy": "2024-03-28T08:18:36.609242Z",
     "iopub.status.idle": "2024-03-28T08:18:36.721482Z",
     "shell.execute_reply": "2024-03-28T08:18:36.718284Z",
     "shell.execute_reply.started": "2024-03-28T08:18:36.609789Z"
    }
   },
   "outputs": [
    {
     "data": {
      "text/html": [
       "<div>\n",
       "<style scoped>\n",
       "    .dataframe tbody tr th:only-of-type {\n",
       "        vertical-align: middle;\n",
       "    }\n",
       "\n",
       "    .dataframe tbody tr th {\n",
       "        vertical-align: top;\n",
       "    }\n",
       "\n",
       "    .dataframe thead th {\n",
       "        text-align: right;\n",
       "    }\n",
       "</style>\n",
       "<table border=\"1\" class=\"dataframe\">\n",
       "  <thead>\n",
       "    <tr style=\"text-align: right;\">\n",
       "      <th></th>\n",
       "      <th>frame</th>\n",
       "      <th>landmark_index</th>\n",
       "      <th>x</th>\n",
       "      <th>y</th>\n",
       "      <th>z</th>\n",
       "    </tr>\n",
       "  </thead>\n",
       "  <tbody>\n",
       "    <tr>\n",
       "      <th>count</th>\n",
       "      <td>6592.000000</td>\n",
       "      <td>6592.000000</td>\n",
       "      <td>4257.000000</td>\n",
       "      <td>4257.000000</td>\n",
       "      <td>4257.000000</td>\n",
       "    </tr>\n",
       "    <tr>\n",
       "      <th>mean</th>\n",
       "      <td>43.447209</td>\n",
       "      <td>12.620752</td>\n",
       "      <td>0.496357</td>\n",
       "      <td>0.754882</td>\n",
       "      <td>-0.313627</td>\n",
       "    </tr>\n",
       "    <tr>\n",
       "      <th>std</th>\n",
       "      <td>25.373836</td>\n",
       "      <td>8.311416</td>\n",
       "      <td>0.095192</td>\n",
       "      <td>0.633905</td>\n",
       "      <td>0.551877</td>\n",
       "    </tr>\n",
       "    <tr>\n",
       "      <th>min</th>\n",
       "      <td>0.000000</td>\n",
       "      <td>0.000000</td>\n",
       "      <td>0.277233</td>\n",
       "      <td>0.073954</td>\n",
       "      <td>-1.978260</td>\n",
       "    </tr>\n",
       "    <tr>\n",
       "      <th>25%</th>\n",
       "      <td>21.000000</td>\n",
       "      <td>6.000000</td>\n",
       "      <td>0.427348</td>\n",
       "      <td>0.258638</td>\n",
       "      <td>-0.637832</td>\n",
       "    </tr>\n",
       "    <tr>\n",
       "      <th>50%</th>\n",
       "      <td>43.000000</td>\n",
       "      <td>12.000000</td>\n",
       "      <td>0.473865</td>\n",
       "      <td>0.456491</td>\n",
       "      <td>-0.062060</td>\n",
       "    </tr>\n",
       "    <tr>\n",
       "      <th>75%</th>\n",
       "      <td>65.000000</td>\n",
       "      <td>18.000000</td>\n",
       "      <td>0.554626</td>\n",
       "      <td>1.199271</td>\n",
       "      <td>-0.006266</td>\n",
       "    </tr>\n",
       "    <tr>\n",
       "      <th>max</th>\n",
       "      <td>87.000000</td>\n",
       "      <td>32.000000</td>\n",
       "      <td>0.720620</td>\n",
       "      <td>2.234679</td>\n",
       "      <td>0.978589</td>\n",
       "    </tr>\n",
       "  </tbody>\n",
       "</table>\n",
       "</div>"
      ],
      "text/plain": [
       "             frame  landmark_index            x            y            z\n",
       "count  6592.000000     6592.000000  4257.000000  4257.000000  4257.000000\n",
       "mean     43.447209       12.620752     0.496357     0.754882    -0.313627\n",
       "std      25.373836        8.311416     0.095192     0.633905     0.551877\n",
       "min       0.000000        0.000000     0.277233     0.073954    -1.978260\n",
       "25%      21.000000        6.000000     0.427348     0.258638    -0.637832\n",
       "50%      43.000000       12.000000     0.473865     0.456491    -0.062060\n",
       "75%      65.000000       18.000000     0.554626     1.199271    -0.006266\n",
       "max      87.000000       32.000000     0.720620     2.234679     0.978589"
      ]
     },
     "execution_count": 31,
     "metadata": {},
     "output_type": "execute_result"
    }
   ],
   "source": [
    "json_df.describe()"
   ]
  },
  {
   "cell_type": "code",
   "execution_count": 32,
   "id": "6c9fbb70-e367-4b6d-a611-945544e6eaa1",
   "metadata": {
    "execution": {
     "iopub.execute_input": "2024-03-28T08:18:36.726515Z",
     "iopub.status.busy": "2024-03-28T08:18:36.724614Z",
     "iopub.status.idle": "2024-03-28T08:18:36.844522Z",
     "shell.execute_reply": "2024-03-28T08:18:36.841898Z",
     "shell.execute_reply.started": "2024-03-28T08:18:36.726456Z"
    },
    "tags": []
   },
   "outputs": [
    {
     "data": {
      "text/html": [
       "<div>\n",
       "<style scoped>\n",
       "    .dataframe tbody tr th:only-of-type {\n",
       "        vertical-align: middle;\n",
       "    }\n",
       "\n",
       "    .dataframe tbody tr th {\n",
       "        vertical-align: top;\n",
       "    }\n",
       "\n",
       "    .dataframe thead th {\n",
       "        text-align: right;\n",
       "    }\n",
       "</style>\n",
       "<table border=\"1\" class=\"dataframe\">\n",
       "  <thead>\n",
       "    <tr style=\"text-align: right;\">\n",
       "      <th></th>\n",
       "      <th>frame</th>\n",
       "      <th>type</th>\n",
       "      <th>landmark_index</th>\n",
       "      <th>x</th>\n",
       "      <th>y</th>\n",
       "      <th>z</th>\n",
       "    </tr>\n",
       "  </thead>\n",
       "  <tbody>\n",
       "    <tr>\n",
       "      <th>0</th>\n",
       "      <td>0</td>\n",
       "      <td>pose</td>\n",
       "      <td>0</td>\n",
       "      <td>0.500277</td>\n",
       "      <td>0.241630</td>\n",
       "      <td>-0.819381</td>\n",
       "    </tr>\n",
       "    <tr>\n",
       "      <th>1</th>\n",
       "      <td>0</td>\n",
       "      <td>pose</td>\n",
       "      <td>1</td>\n",
       "      <td>0.523893</td>\n",
       "      <td>0.202014</td>\n",
       "      <td>-0.776747</td>\n",
       "    </tr>\n",
       "    <tr>\n",
       "      <th>2</th>\n",
       "      <td>0</td>\n",
       "      <td>pose</td>\n",
       "      <td>2</td>\n",
       "      <td>0.536773</td>\n",
       "      <td>0.200921</td>\n",
       "      <td>-0.776917</td>\n",
       "    </tr>\n",
       "    <tr>\n",
       "      <th>3</th>\n",
       "      <td>0</td>\n",
       "      <td>pose</td>\n",
       "      <td>3</td>\n",
       "      <td>0.550744</td>\n",
       "      <td>0.200229</td>\n",
       "      <td>-0.776974</td>\n",
       "    </tr>\n",
       "    <tr>\n",
       "      <th>4</th>\n",
       "      <td>0</td>\n",
       "      <td>pose</td>\n",
       "      <td>4</td>\n",
       "      <td>0.477402</td>\n",
       "      <td>0.203587</td>\n",
       "      <td>-0.779479</td>\n",
       "    </tr>\n",
       "    <tr>\n",
       "      <th>...</th>\n",
       "      <td>...</td>\n",
       "      <td>...</td>\n",
       "      <td>...</td>\n",
       "      <td>...</td>\n",
       "      <td>...</td>\n",
       "      <td>...</td>\n",
       "    </tr>\n",
       "    <tr>\n",
       "      <th>6587</th>\n",
       "      <td>87</td>\n",
       "      <td>right_hand</td>\n",
       "      <td>16</td>\n",
       "      <td>NaN</td>\n",
       "      <td>NaN</td>\n",
       "      <td>NaN</td>\n",
       "    </tr>\n",
       "    <tr>\n",
       "      <th>6588</th>\n",
       "      <td>87</td>\n",
       "      <td>right_hand</td>\n",
       "      <td>17</td>\n",
       "      <td>NaN</td>\n",
       "      <td>NaN</td>\n",
       "      <td>NaN</td>\n",
       "    </tr>\n",
       "    <tr>\n",
       "      <th>6589</th>\n",
       "      <td>87</td>\n",
       "      <td>right_hand</td>\n",
       "      <td>18</td>\n",
       "      <td>NaN</td>\n",
       "      <td>NaN</td>\n",
       "      <td>NaN</td>\n",
       "    </tr>\n",
       "    <tr>\n",
       "      <th>6590</th>\n",
       "      <td>87</td>\n",
       "      <td>right_hand</td>\n",
       "      <td>19</td>\n",
       "      <td>NaN</td>\n",
       "      <td>NaN</td>\n",
       "      <td>NaN</td>\n",
       "    </tr>\n",
       "    <tr>\n",
       "      <th>6591</th>\n",
       "      <td>87</td>\n",
       "      <td>right_hand</td>\n",
       "      <td>20</td>\n",
       "      <td>NaN</td>\n",
       "      <td>NaN</td>\n",
       "      <td>NaN</td>\n",
       "    </tr>\n",
       "  </tbody>\n",
       "</table>\n",
       "<p>5896 rows × 6 columns</p>\n",
       "</div>"
      ],
      "text/plain": [
       "      frame        type  landmark_index         x         y         z\n",
       "0         0        pose               0  0.500277  0.241630 -0.819381\n",
       "1         0        pose               1  0.523893  0.202014 -0.776747\n",
       "2         0        pose               2  0.536773  0.200921 -0.776917\n",
       "3         0        pose               3  0.550744  0.200229 -0.776974\n",
       "4         0        pose               4  0.477402  0.203587 -0.779479\n",
       "...     ...         ...             ...       ...       ...       ...\n",
       "6587     87  right_hand              16       NaN       NaN       NaN\n",
       "6588     87  right_hand              17       NaN       NaN       NaN\n",
       "6589     87  right_hand              18       NaN       NaN       NaN\n",
       "6590     87  right_hand              19       NaN       NaN       NaN\n",
       "6591     87  right_hand              20       NaN       NaN       NaN\n",
       "\n",
       "[5896 rows x 6 columns]"
      ]
     },
     "execution_count": 32,
     "metadata": {},
     "output_type": "execute_result"
    }
   ],
   "source": [
    "landmarks_df = json_df\n",
    "\n",
    "noface = True\n",
    "n_coordinates = 2\n",
    "\n",
    "# Keep only the defined columns\n",
    "landmarks_df = landmarks_df[['frame', 'type','landmark_index', 'x', 'y', 'z']]\n",
    "\n",
    "# Define the order of the 'type' column\n",
    "type_order = ['face', 'pose', 'left_hand', 'right_hand']\n",
    "\n",
    "# Convert the 'type' column to a categorical type with the specified order\n",
    "landmarks_df['type'] = pd.Categorical(landmarks_df['type'], categories=type_order, ordered=True)\n",
    "\n",
    "# Sort the DataFrame by 'frame', 'type' and 'landmark_index', to ensure the correct order of landmarks\n",
    "landmarks_df.sort_values(by=['frame', 'type', 'landmark_index'], inplace=True)\n",
    "\n",
    "n_landmarks_per_frame = N_LANDMARKS_ALL\n",
    "\n",
    "landmark_types_to_remove = []\n",
    "\n",
    "if noface:\n",
    "    # Exclude rows where 'type' is 'face' and some portion of 'pose'\n",
    "    landmark_types_to_remove.append('face')\n",
    "\n",
    "    # Calculate the number of rows per frame after removing 'face' landmarks\n",
    "    n_landmarks_per_frame -= N_LANDMARKS_FACE\n",
    "\n",
    "if N_LANDMARKS_POSE_TO_TAKE_OFF > 0:\n",
    "    landmark_types_to_remove.append('pose')\n",
    "\n",
    "    # Calculate the number of rows per frame after removing 'pose' landmarks\n",
    "    n_landmarks_per_frame -= N_LANDMARKS_POSE_TO_TAKE_OFF\n",
    "\n",
    "for landmark_type in landmark_types_to_remove:\n",
    "    if landmark_type == 'pose' and N_LANDMARKS_POSE_TO_TAKE_OFF > 0:\n",
    "        landmarks_df = landmarks_df[~((landmarks_df['type'] == 'pose') &\n",
    "                                      (landmarks_df['landmark_index'].\\\n",
    "                                          between(N_LANDMARKS_MIN_POSE_TO_TAKE_OFF, N_LANDMARKS_MAX_POSE_TO_TAKE_OFF)))\n",
    "                                    ]\n",
    "    else:\n",
    "        landmarks_df = landmarks_df[landmarks_df['type'] != landmark_type]\n",
    "\n",
    "# If the model uses 2D data, drop the 'z' dimension\n",
    "if n_coordinates == 2:\n",
    "    data_columns = ['x', 'y']\n",
    "else:\n",
    "    # If the model uses 3D data, keep the 'z' dimension\n",
    "    data_columns = ['x', 'y', 'z']\n",
    "\n",
    "json_df_filtered = landmarks_df\n",
    "json_df_filtered"
   ]
  },
  {
   "cell_type": "code",
   "execution_count": 33,
   "id": "7fbcb7ae-5c07-47e5-8bf8-9257b7c77e57",
   "metadata": {
    "execution": {
     "iopub.execute_input": "2024-03-28T08:18:36.849596Z",
     "iopub.status.busy": "2024-03-28T08:18:36.848203Z",
     "iopub.status.idle": "2024-03-28T08:18:36.946663Z",
     "shell.execute_reply": "2024-03-28T08:18:36.944536Z",
     "shell.execute_reply.started": "2024-03-28T08:18:36.849541Z"
    },
    "tags": []
   },
   "outputs": [
    {
     "data": {
      "text/plain": [
       "array([[[0.5002772 , 0.24163002],\n",
       "        [0.52389276, 0.20201373],\n",
       "        [0.5367728 , 0.20092052],\n",
       "        ...,\n",
       "        [       nan,        nan],\n",
       "        [       nan,        nan],\n",
       "        [       nan,        nan]],\n",
       "\n",
       "       [[0.5002266 , 0.24465053],\n",
       "        [0.52411956, 0.20562889],\n",
       "        [0.53825974, 0.20565483],\n",
       "        ...,\n",
       "        [       nan,        nan],\n",
       "        [       nan,        nan],\n",
       "        [       nan,        nan]],\n",
       "\n",
       "       [[0.49976858, 0.24701318],\n",
       "        [0.5241101 , 0.20794415],\n",
       "        [0.53887725, 0.2082071 ],\n",
       "        ...,\n",
       "        [       nan,        nan],\n",
       "        [       nan,        nan],\n",
       "        [       nan,        nan]],\n",
       "\n",
       "       ...,\n",
       "\n",
       "       [[0.51805407, 0.24005097],\n",
       "        [0.54111457, 0.20181601],\n",
       "        [0.5575814 , 0.20250034],\n",
       "        ...,\n",
       "        [       nan,        nan],\n",
       "        [       nan,        nan],\n",
       "        [       nan,        nan]],\n",
       "\n",
       "       [[0.5178125 , 0.24015513],\n",
       "        [0.54079664, 0.20201138],\n",
       "        [0.55711925, 0.2028787 ],\n",
       "        ...,\n",
       "        [       nan,        nan],\n",
       "        [       nan,        nan],\n",
       "        [       nan,        nan]],\n",
       "\n",
       "       [[       nan,        nan],\n",
       "        [       nan,        nan],\n",
       "        [       nan,        nan],\n",
       "        ...,\n",
       "        [       nan,        nan],\n",
       "        [       nan,        nan],\n",
       "        [       nan,        nan]]], dtype=float32)"
      ]
     },
     "execution_count": 33,
     "metadata": {},
     "output_type": "execute_result"
    }
   ],
   "source": [
    "filtered_json_landmarks = filter_relevant_landmarks_and_coordinates(json_df)\n",
    "filtered_json_landmarks"
   ]
  },
  {
   "cell_type": "markdown",
   "id": "e5368d7a-6719-4d60-bfbf-3f7b63787a1d",
   "metadata": {},
   "source": [
    "### Compare filtering and sorting"
   ]
  },
  {
   "cell_type": "code",
   "execution_count": 34,
   "id": "6cf6f297-76d4-4df2-a6f1-e4456469dc38",
   "metadata": {
    "execution": {
     "iopub.execute_input": "2024-03-28T08:18:36.949728Z",
     "iopub.status.busy": "2024-03-28T08:18:36.949216Z",
     "iopub.status.idle": "2024-03-28T08:18:37.038208Z",
     "shell.execute_reply": "2024-03-28T08:18:37.035869Z",
     "shell.execute_reply.started": "2024-03-28T08:18:36.949681Z"
    },
    "tags": []
   },
   "outputs": [
    {
     "data": {
      "text/html": [
       "<div>\n",
       "<style scoped>\n",
       "    .dataframe tbody tr th:only-of-type {\n",
       "        vertical-align: middle;\n",
       "    }\n",
       "\n",
       "    .dataframe tbody tr th {\n",
       "        vertical-align: top;\n",
       "    }\n",
       "\n",
       "    .dataframe thead th {\n",
       "        text-align: right;\n",
       "    }\n",
       "</style>\n",
       "<table border=\"1\" class=\"dataframe\">\n",
       "  <thead>\n",
       "    <tr style=\"text-align: right;\">\n",
       "      <th></th>\n",
       "      <th>type</th>\n",
       "      <th>landmark_index</th>\n",
       "    </tr>\n",
       "  </thead>\n",
       "  <tbody>\n",
       "    <tr>\n",
       "      <th>0</th>\n",
       "      <td>pose</td>\n",
       "      <td>0</td>\n",
       "    </tr>\n",
       "    <tr>\n",
       "      <th>1</th>\n",
       "      <td>pose</td>\n",
       "      <td>1</td>\n",
       "    </tr>\n",
       "    <tr>\n",
       "      <th>2</th>\n",
       "      <td>pose</td>\n",
       "      <td>2</td>\n",
       "    </tr>\n",
       "    <tr>\n",
       "      <th>3</th>\n",
       "      <td>pose</td>\n",
       "      <td>3</td>\n",
       "    </tr>\n",
       "    <tr>\n",
       "      <th>4</th>\n",
       "      <td>pose</td>\n",
       "      <td>4</td>\n",
       "    </tr>\n",
       "    <tr>\n",
       "      <th>...</th>\n",
       "      <td>...</td>\n",
       "      <td>...</td>\n",
       "    </tr>\n",
       "    <tr>\n",
       "      <th>62</th>\n",
       "      <td>right_hand</td>\n",
       "      <td>16</td>\n",
       "    </tr>\n",
       "    <tr>\n",
       "      <th>63</th>\n",
       "      <td>right_hand</td>\n",
       "      <td>17</td>\n",
       "    </tr>\n",
       "    <tr>\n",
       "      <th>64</th>\n",
       "      <td>right_hand</td>\n",
       "      <td>18</td>\n",
       "    </tr>\n",
       "    <tr>\n",
       "      <th>65</th>\n",
       "      <td>right_hand</td>\n",
       "      <td>19</td>\n",
       "    </tr>\n",
       "    <tr>\n",
       "      <th>66</th>\n",
       "      <td>right_hand</td>\n",
       "      <td>20</td>\n",
       "    </tr>\n",
       "  </tbody>\n",
       "</table>\n",
       "<p>67 rows × 2 columns</p>\n",
       "</div>"
      ],
      "text/plain": [
       "          type  landmark_index\n",
       "0         pose               0\n",
       "1         pose               1\n",
       "2         pose               2\n",
       "3         pose               3\n",
       "4         pose               4\n",
       "..         ...             ...\n",
       "62  right_hand              16\n",
       "63  right_hand              17\n",
       "64  right_hand              18\n",
       "65  right_hand              19\n",
       "66  right_hand              20\n",
       "\n",
       "[67 rows x 2 columns]"
      ]
     },
     "execution_count": 34,
     "metadata": {},
     "output_type": "execute_result"
    }
   ],
   "source": [
    "order_pq = pq_df_filtered[pq_df_filtered.frame==97][['type', 'landmark_index']].reset_index(drop=True)\n",
    "order_pq"
   ]
  },
  {
   "cell_type": "code",
   "execution_count": 35,
   "id": "0fc1c50c-c8a3-498a-90d8-50d836f06b7a",
   "metadata": {
    "execution": {
     "iopub.execute_input": "2024-03-28T08:18:37.041361Z",
     "iopub.status.busy": "2024-03-28T08:18:37.040829Z",
     "iopub.status.idle": "2024-03-28T08:18:37.131788Z",
     "shell.execute_reply": "2024-03-28T08:18:37.129225Z",
     "shell.execute_reply.started": "2024-03-28T08:18:37.041311Z"
    },
    "tags": []
   },
   "outputs": [
    {
     "data": {
      "text/html": [
       "<div>\n",
       "<style scoped>\n",
       "    .dataframe tbody tr th:only-of-type {\n",
       "        vertical-align: middle;\n",
       "    }\n",
       "\n",
       "    .dataframe tbody tr th {\n",
       "        vertical-align: top;\n",
       "    }\n",
       "\n",
       "    .dataframe thead th {\n",
       "        text-align: right;\n",
       "    }\n",
       "</style>\n",
       "<table border=\"1\" class=\"dataframe\">\n",
       "  <thead>\n",
       "    <tr style=\"text-align: right;\">\n",
       "      <th></th>\n",
       "      <th>type</th>\n",
       "      <th>landmark_index</th>\n",
       "    </tr>\n",
       "  </thead>\n",
       "  <tbody>\n",
       "    <tr>\n",
       "      <th>0</th>\n",
       "      <td>pose</td>\n",
       "      <td>0</td>\n",
       "    </tr>\n",
       "    <tr>\n",
       "      <th>1</th>\n",
       "      <td>pose</td>\n",
       "      <td>1</td>\n",
       "    </tr>\n",
       "    <tr>\n",
       "      <th>2</th>\n",
       "      <td>pose</td>\n",
       "      <td>2</td>\n",
       "    </tr>\n",
       "    <tr>\n",
       "      <th>3</th>\n",
       "      <td>pose</td>\n",
       "      <td>3</td>\n",
       "    </tr>\n",
       "    <tr>\n",
       "      <th>4</th>\n",
       "      <td>pose</td>\n",
       "      <td>4</td>\n",
       "    </tr>\n",
       "    <tr>\n",
       "      <th>...</th>\n",
       "      <td>...</td>\n",
       "      <td>...</td>\n",
       "    </tr>\n",
       "    <tr>\n",
       "      <th>62</th>\n",
       "      <td>right_hand</td>\n",
       "      <td>16</td>\n",
       "    </tr>\n",
       "    <tr>\n",
       "      <th>63</th>\n",
       "      <td>right_hand</td>\n",
       "      <td>17</td>\n",
       "    </tr>\n",
       "    <tr>\n",
       "      <th>64</th>\n",
       "      <td>right_hand</td>\n",
       "      <td>18</td>\n",
       "    </tr>\n",
       "    <tr>\n",
       "      <th>65</th>\n",
       "      <td>right_hand</td>\n",
       "      <td>19</td>\n",
       "    </tr>\n",
       "    <tr>\n",
       "      <th>66</th>\n",
       "      <td>right_hand</td>\n",
       "      <td>20</td>\n",
       "    </tr>\n",
       "  </tbody>\n",
       "</table>\n",
       "<p>67 rows × 2 columns</p>\n",
       "</div>"
      ],
      "text/plain": [
       "          type  landmark_index\n",
       "0         pose               0\n",
       "1         pose               1\n",
       "2         pose               2\n",
       "3         pose               3\n",
       "4         pose               4\n",
       "..         ...             ...\n",
       "62  right_hand              16\n",
       "63  right_hand              17\n",
       "64  right_hand              18\n",
       "65  right_hand              19\n",
       "66  right_hand              20\n",
       "\n",
       "[67 rows x 2 columns]"
      ]
     },
     "execution_count": 35,
     "metadata": {},
     "output_type": "execute_result"
    }
   ],
   "source": [
    "order_json = json_df_filtered[json_df_filtered.frame==0][['type', 'landmark_index']].reset_index(drop=True)\n",
    "order_json "
   ]
  },
  {
   "cell_type": "code",
   "execution_count": 36,
   "id": "2069f8a1-b40a-4d1a-a788-9201f2409e66",
   "metadata": {
    "execution": {
     "iopub.execute_input": "2024-03-28T08:18:37.134487Z",
     "iopub.status.busy": "2024-03-28T08:18:37.133898Z",
     "iopub.status.idle": "2024-03-28T08:18:37.214218Z",
     "shell.execute_reply": "2024-03-28T08:18:37.212163Z",
     "shell.execute_reply.started": "2024-03-28T08:18:37.134435Z"
    },
    "tags": []
   },
   "outputs": [
    {
     "data": {
      "text/plain": [
       "type              67\n",
       "landmark_index    67\n",
       "dtype: int64"
      ]
     },
     "execution_count": 36,
     "metadata": {},
     "output_type": "execute_result"
    }
   ],
   "source": [
    "(order_pq == order_json).sum()"
   ]
  }
 ],
 "metadata": {
  "kernelspec": {
   "display_name": "Python 3 (ipykernel)",
   "language": "python",
   "name": "python3"
  },
  "language_info": {
   "codemirror_mode": {
    "name": "ipython",
    "version": 3
   },
   "file_extension": ".py",
   "mimetype": "text/x-python",
   "name": "python",
   "nbconvert_exporter": "python",
   "pygments_lexer": "ipython3",
   "version": "3.10.6"
  }
 },
 "nbformat": 4,
 "nbformat_minor": 5
}

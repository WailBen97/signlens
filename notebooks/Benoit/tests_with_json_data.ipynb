{
 "cells": [
  {
   "cell_type": "code",
   "execution_count": 22,
   "id": "35e25198-78a1-478e-bc7e-188e1d7c7401",
   "metadata": {
    "execution": {
     "iopub.execute_input": "2024-03-27T10:02:59.792454Z",
     "iopub.status.busy": "2024-03-27T10:02:59.791589Z",
     "iopub.status.idle": "2024-03-27T10:02:59.871180Z",
     "shell.execute_reply": "2024-03-27T10:02:59.869302Z",
     "shell.execute_reply.started": "2024-03-27T10:02:59.792420Z"
    },
    "tags": []
   },
   "outputs": [
    {
     "name": "stdout",
     "output_type": "stream",
     "text": [
      "The autoreload extension is already loaded. To reload it, use:\n",
      "  %reload_ext autoreload\n"
     ]
    }
   ],
   "source": [
    "import os\n",
    "import numpy as np\n",
    "import pandas as pd\n",
    "\n",
    "from signlens.params import *\n",
    "from signlens.preprocessing.glossary import load_glossary, write_glossary\n",
    "from signlens.preprocessing.data import load_data_subset_csv , load_video_list_json\n",
    "from signlens.preprocessing.preprocess import encode_labels, decode_labels\n",
    "from signlens.model.model_utils import load_model\n",
    "from utils.video_utils import process_video_to_landmarks_json, draw_landmarks_on_image\n",
    "\n",
    "%load_ext autoreload\n",
    "\n",
    "%autoreload 2\n"
   ]
  },
  {
   "cell_type": "code",
   "execution_count": 23,
   "id": "c9d09221-baa6-4506-b91d-0ce18c111224",
   "metadata": {
    "execution": {
     "iopub.execute_input": "2024-03-27T10:03:02.074871Z",
     "iopub.status.busy": "2024-03-27T10:03:02.073486Z",
     "iopub.status.idle": "2024-03-27T10:03:03.389346Z",
     "shell.execute_reply": "2024-03-27T10:03:03.387311Z",
     "shell.execute_reply.started": "2024-03-27T10:03:02.074815Z"
    },
    "tags": []
   },
   "outputs": [
    {
     "data": {
      "text/html": [
       "<div>\n",
       "<style scoped>\n",
       "    .dataframe tbody tr th:only-of-type {\n",
       "        vertical-align: middle;\n",
       "    }\n",
       "\n",
       "    .dataframe tbody tr th {\n",
       "        vertical-align: top;\n",
       "    }\n",
       "\n",
       "    .dataframe thead th {\n",
       "        text-align: right;\n",
       "    }\n",
       "</style>\n",
       "<table border=\"1\" class=\"dataframe\">\n",
       "  <thead>\n",
       "    <tr style=\"text-align: right;\">\n",
       "      <th></th>\n",
       "      <th>sign</th>\n",
       "      <th>bbox</th>\n",
       "      <th>fps</th>\n",
       "      <th>frame_end</th>\n",
       "      <th>frame_start</th>\n",
       "      <th>instance_id</th>\n",
       "      <th>signer_id</th>\n",
       "      <th>source</th>\n",
       "      <th>split</th>\n",
       "      <th>url</th>\n",
       "      <th>variation_id</th>\n",
       "      <th>video_id</th>\n",
       "      <th>video_path</th>\n",
       "    </tr>\n",
       "  </thead>\n",
       "  <tbody>\n",
       "    <tr>\n",
       "      <th>0</th>\n",
       "      <td>airplane</td>\n",
       "      <td>[605, 21, 1721, 1076]</td>\n",
       "      <td>25</td>\n",
       "      <td>-1</td>\n",
       "      <td>1</td>\n",
       "      <td>10</td>\n",
       "      <td>4</td>\n",
       "      <td>signschool</td>\n",
       "      <td>train</td>\n",
       "      <td>https://signstock.blob.core.windows.net/signsc...</td>\n",
       "      <td>0</td>\n",
       "      <td>01726</td>\n",
       "      <td>/home/bfrisque/code/benoitfrisque/signlens/raw...</td>\n",
       "    </tr>\n",
       "    <tr>\n",
       "      <th>1</th>\n",
       "      <td>table</td>\n",
       "      <td>[374, 52, 810, 720]</td>\n",
       "      <td>25</td>\n",
       "      <td>-1</td>\n",
       "      <td>1</td>\n",
       "      <td>13</td>\n",
       "      <td>38</td>\n",
       "      <td>startasl</td>\n",
       "      <td>train</td>\n",
       "      <td>https://s3-us-west-1.amazonaws.com/files.start...</td>\n",
       "      <td>0</td>\n",
       "      <td>56556</td>\n",
       "      <td>/home/bfrisque/code/benoitfrisque/signlens/raw...</td>\n",
       "    </tr>\n",
       "    <tr>\n",
       "      <th>2</th>\n",
       "      <td>see</td>\n",
       "      <td>[85, 15, 230, 192]</td>\n",
       "      <td>25</td>\n",
       "      <td>-1</td>\n",
       "      <td>1</td>\n",
       "      <td>8</td>\n",
       "      <td>11</td>\n",
       "      <td>signingsavvy</td>\n",
       "      <td>train</td>\n",
       "      <td>https://www.signingsavvy.com/signs/mp4/8/8396.mp4</td>\n",
       "      <td>0</td>\n",
       "      <td>50125</td>\n",
       "      <td>/home/bfrisque/code/benoitfrisque/signlens/raw...</td>\n",
       "    </tr>\n",
       "    <tr>\n",
       "      <th>3</th>\n",
       "      <td>who</td>\n",
       "      <td>[165, 4, 472, 370]</td>\n",
       "      <td>25</td>\n",
       "      <td>-1</td>\n",
       "      <td>1</td>\n",
       "      <td>14</td>\n",
       "      <td>88</td>\n",
       "      <td>aslsignbank</td>\n",
       "      <td>train</td>\n",
       "      <td>https://aslsignbank.haskins.yale.edu/dictionar...</td>\n",
       "      <td>0</td>\n",
       "      <td>66778</td>\n",
       "      <td>/home/bfrisque/code/benoitfrisque/signlens/raw...</td>\n",
       "    </tr>\n",
       "    <tr>\n",
       "      <th>4</th>\n",
       "      <td>dog</td>\n",
       "      <td>[417, 61, 834, 720]</td>\n",
       "      <td>25</td>\n",
       "      <td>-1</td>\n",
       "      <td>1</td>\n",
       "      <td>7</td>\n",
       "      <td>38</td>\n",
       "      <td>startasl</td>\n",
       "      <td>train</td>\n",
       "      <td>https://s3-us-west-1.amazonaws.com/files.start...</td>\n",
       "      <td>1</td>\n",
       "      <td>17086</td>\n",
       "      <td>/home/bfrisque/code/benoitfrisque/signlens/raw...</td>\n",
       "    </tr>\n",
       "    <tr>\n",
       "      <th>...</th>\n",
       "      <td>...</td>\n",
       "      <td>...</td>\n",
       "      <td>...</td>\n",
       "      <td>...</td>\n",
       "      <td>...</td>\n",
       "      <td>...</td>\n",
       "      <td>...</td>\n",
       "      <td>...</td>\n",
       "      <td>...</td>\n",
       "      <td>...</td>\n",
       "      <td>...</td>\n",
       "      <td>...</td>\n",
       "      <td>...</td>\n",
       "    </tr>\n",
       "    <tr>\n",
       "      <th>1471</th>\n",
       "      <td>arm</td>\n",
       "      <td>[205, 37, 489, 370]</td>\n",
       "      <td>25</td>\n",
       "      <td>-1</td>\n",
       "      <td>1</td>\n",
       "      <td>3</td>\n",
       "      <td>89</td>\n",
       "      <td>aslsignbank</td>\n",
       "      <td>val</td>\n",
       "      <td>https://aslsignbank.haskins.yale.edu/dictionar...</td>\n",
       "      <td>0</td>\n",
       "      <td>65094</td>\n",
       "      <td>/home/bfrisque/code/benoitfrisque/signlens/raw...</td>\n",
       "    </tr>\n",
       "    <tr>\n",
       "      <th>1472</th>\n",
       "      <td>say</td>\n",
       "      <td>[104, 0, 528, 480]</td>\n",
       "      <td>25</td>\n",
       "      <td>-1</td>\n",
       "      <td>1</td>\n",
       "      <td>4</td>\n",
       "      <td>13</td>\n",
       "      <td>asldeafined</td>\n",
       "      <td>val</td>\n",
       "      <td>https://media.asldeafined.com/vocabulary/14687...</td>\n",
       "      <td>0</td>\n",
       "      <td>49430</td>\n",
       "      <td>/home/bfrisque/code/benoitfrisque/signlens/raw...</td>\n",
       "    </tr>\n",
       "    <tr>\n",
       "      <th>1473</th>\n",
       "      <td>ear</td>\n",
       "      <td>[296, 36, 879, 720]</td>\n",
       "      <td>25</td>\n",
       "      <td>-1</td>\n",
       "      <td>1</td>\n",
       "      <td>1</td>\n",
       "      <td>118</td>\n",
       "      <td>aslbrick</td>\n",
       "      <td>train</td>\n",
       "      <td>http://aslbricks.org/New/ASL-Videos/ear.mp4</td>\n",
       "      <td>0</td>\n",
       "      <td>69306</td>\n",
       "      <td>/home/bfrisque/code/benoitfrisque/signlens/raw...</td>\n",
       "    </tr>\n",
       "    <tr>\n",
       "      <th>1474</th>\n",
       "      <td>closet</td>\n",
       "      <td>[64, 14, 260, 240]</td>\n",
       "      <td>25</td>\n",
       "      <td>-1</td>\n",
       "      <td>1</td>\n",
       "      <td>6</td>\n",
       "      <td>26</td>\n",
       "      <td>spreadthesign</td>\n",
       "      <td>train</td>\n",
       "      <td>https://media.spreadthesign.com/video/mp4/13/3...</td>\n",
       "      <td>0</td>\n",
       "      <td>11284</td>\n",
       "      <td>/home/bfrisque/code/benoitfrisque/signlens/raw...</td>\n",
       "    </tr>\n",
       "    <tr>\n",
       "      <th>1475</th>\n",
       "      <td>airplane</td>\n",
       "      <td>[101, 23, 503, 480]</td>\n",
       "      <td>25</td>\n",
       "      <td>-1</td>\n",
       "      <td>1</td>\n",
       "      <td>11</td>\n",
       "      <td>13</td>\n",
       "      <td>asldeafined</td>\n",
       "      <td>train</td>\n",
       "      <td>https://media.asldeafined.com/vocabulary/14661...</td>\n",
       "      <td>0</td>\n",
       "      <td>01727</td>\n",
       "      <td>/home/bfrisque/code/benoitfrisque/signlens/raw...</td>\n",
       "    </tr>\n",
       "  </tbody>\n",
       "</table>\n",
       "<p>1476 rows × 13 columns</p>\n",
       "</div>"
      ],
      "text/plain": [
       "          sign                   bbox  fps  frame_end  frame_start  \\\n",
       "0     airplane  [605, 21, 1721, 1076]   25         -1            1   \n",
       "1        table    [374, 52, 810, 720]   25         -1            1   \n",
       "2          see     [85, 15, 230, 192]   25         -1            1   \n",
       "3          who     [165, 4, 472, 370]   25         -1            1   \n",
       "4          dog    [417, 61, 834, 720]   25         -1            1   \n",
       "...        ...                    ...  ...        ...          ...   \n",
       "1471       arm    [205, 37, 489, 370]   25         -1            1   \n",
       "1472       say     [104, 0, 528, 480]   25         -1            1   \n",
       "1473       ear    [296, 36, 879, 720]   25         -1            1   \n",
       "1474    closet     [64, 14, 260, 240]   25         -1            1   \n",
       "1475  airplane    [101, 23, 503, 480]   25         -1            1   \n",
       "\n",
       "      instance_id  signer_id         source  split  \\\n",
       "0              10          4     signschool  train   \n",
       "1              13         38       startasl  train   \n",
       "2               8         11   signingsavvy  train   \n",
       "3              14         88    aslsignbank  train   \n",
       "4               7         38       startasl  train   \n",
       "...           ...        ...            ...    ...   \n",
       "1471            3         89    aslsignbank    val   \n",
       "1472            4         13    asldeafined    val   \n",
       "1473            1        118       aslbrick  train   \n",
       "1474            6         26  spreadthesign  train   \n",
       "1475           11         13    asldeafined  train   \n",
       "\n",
       "                                                    url  variation_id  \\\n",
       "0     https://signstock.blob.core.windows.net/signsc...             0   \n",
       "1     https://s3-us-west-1.amazonaws.com/files.start...             0   \n",
       "2     https://www.signingsavvy.com/signs/mp4/8/8396.mp4             0   \n",
       "3     https://aslsignbank.haskins.yale.edu/dictionar...             0   \n",
       "4     https://s3-us-west-1.amazonaws.com/files.start...             1   \n",
       "...                                                 ...           ...   \n",
       "1471  https://aslsignbank.haskins.yale.edu/dictionar...             0   \n",
       "1472  https://media.asldeafined.com/vocabulary/14687...             0   \n",
       "1473        http://aslbricks.org/New/ASL-Videos/ear.mp4             0   \n",
       "1474  https://media.spreadthesign.com/video/mp4/13/3...             0   \n",
       "1475  https://media.asldeafined.com/vocabulary/14661...             0   \n",
       "\n",
       "     video_id                                         video_path  \n",
       "0       01726  /home/bfrisque/code/benoitfrisque/signlens/raw...  \n",
       "1       56556  /home/bfrisque/code/benoitfrisque/signlens/raw...  \n",
       "2       50125  /home/bfrisque/code/benoitfrisque/signlens/raw...  \n",
       "3       66778  /home/bfrisque/code/benoitfrisque/signlens/raw...  \n",
       "4       17086  /home/bfrisque/code/benoitfrisque/signlens/raw...  \n",
       "...       ...                                                ...  \n",
       "1471    65094  /home/bfrisque/code/benoitfrisque/signlens/raw...  \n",
       "1472    49430  /home/bfrisque/code/benoitfrisque/signlens/raw...  \n",
       "1473    69306  /home/bfrisque/code/benoitfrisque/signlens/raw...  \n",
       "1474    11284  /home/bfrisque/code/benoitfrisque/signlens/raw...  \n",
       "1475    01727  /home/bfrisque/code/benoitfrisque/signlens/raw...  \n",
       "\n",
       "[1476 rows x 13 columns]"
      ]
     },
     "execution_count": 23,
     "metadata": {},
     "output_type": "execute_result"
    }
   ],
   "source": [
    "videos = load_video_list_json()\n",
    "videos"
   ]
  },
  {
   "cell_type": "code",
   "execution_count": 24,
   "id": "f80fb549-c301-46f8-90ae-9651dc7cd640",
   "metadata": {
    "execution": {
     "iopub.execute_input": "2024-03-27T10:03:08.557922Z",
     "iopub.status.busy": "2024-03-27T10:03:08.556486Z",
     "iopub.status.idle": "2024-03-27T10:03:10.256200Z",
     "shell.execute_reply": "2024-03-27T10:03:10.254593Z",
     "shell.execute_reply.started": "2024-03-27T10:03:08.557871Z"
    },
    "tags": []
   },
   "outputs": [
    {
     "name": "stdin",
     "output_type": "stream",
     "text": [
      "Glossary already exists, are you sure you want to overwrite it? (y/n)  y\n"
     ]
    },
    {
     "name": "stdout",
     "output_type": "stream",
     "text": [
      "Overwriting the glossary...\n",
      "✅ Glossary written to /home/bfrisque/code/benoitfrisque/signlens/processed_data/glossary.csv\n"
     ]
    }
   ],
   "source": [
    "write_glossary()"
   ]
  },
  {
   "cell_type": "code",
   "execution_count": 25,
   "id": "7f33c045-0941-45cd-b799-e0b60db72f9c",
   "metadata": {
    "execution": {
     "iopub.execute_input": "2024-03-27T10:04:12.986138Z",
     "iopub.status.busy": "2024-03-27T10:04:12.984589Z",
     "iopub.status.idle": "2024-03-27T10:04:13.081662Z",
     "shell.execute_reply": "2024-03-27T10:04:13.079714Z",
     "shell.execute_reply.started": "2024-03-27T10:04:12.986080Z"
    },
    "tags": []
   },
   "outputs": [],
   "source": [
    "glossary = load_glossary()"
   ]
  },
  {
   "cell_type": "code",
   "execution_count": 29,
   "id": "891bc065-8518-4dd8-b96f-2812c7e4bd8a",
   "metadata": {
    "execution": {
     "iopub.execute_input": "2024-03-27T10:04:36.523799Z",
     "iopub.status.busy": "2024-03-27T10:04:36.522868Z",
     "iopub.status.idle": "2024-03-27T10:04:36.579036Z",
     "shell.execute_reply": "2024-03-27T10:04:36.577488Z",
     "shell.execute_reply.started": "2024-03-27T10:04:36.523758Z"
    },
    "tags": []
   },
   "outputs": [
    {
     "data": {
      "text/plain": [
       "250"
      ]
     },
     "execution_count": 29,
     "metadata": {},
     "output_type": "execute_result"
    }
   ],
   "source": [
    "len(glossary.index.unique())"
   ]
  },
  {
   "cell_type": "code",
   "execution_count": 1,
   "id": "16c35404-a6e2-4b8e-8def-d419eee43c18",
   "metadata": {
    "execution": {
     "iopub.execute_input": "2024-03-27T09:53:02.277358Z",
     "iopub.status.busy": "2024-03-27T09:53:02.276526Z",
     "iopub.status.idle": "2024-03-27T09:53:02.298057Z",
     "shell.execute_reply": "2024-03-27T09:53:02.294929Z",
     "shell.execute_reply.started": "2024-03-27T09:53:02.277317Z"
    },
    "tags": []
   },
   "outputs": [
    {
     "ename": "SyntaxError",
     "evalue": "invalid syntax (3320194516.py, line 1)",
     "output_type": "error",
     "traceback": [
      "\u001b[0;36m  Cell \u001b[0;32mIn[1], line 1\u001b[0;36m\u001b[0m\n\u001b[0;31m    for video_path in\u001b[0m\n\u001b[0m                      ^\u001b[0m\n\u001b[0;31mSyntaxError\u001b[0m\u001b[0;31m:\u001b[0m invalid syntax\n"
     ]
    }
   ],
   "source": [
    "for video_path in videos.video_path.iloc[0:10]\n",
    "    json_data = process_video_to_landmarks_json(video_path, json_output=True, show_preview=False, save_annotated_video=True, frame_interval=1, rear_camera=True)"
   ]
  },
  {
   "cell_type": "code",
   "execution_count": 2,
   "id": "a2009374-f5a2-4bd3-bd6a-0c7dcdb75edc",
   "metadata": {
    "execution": {
     "iopub.execute_input": "2024-03-27T09:53:34.087139Z",
     "iopub.status.busy": "2024-03-27T09:53:34.086414Z",
     "iopub.status.idle": "2024-03-27T09:53:34.505693Z",
     "shell.execute_reply": "2024-03-27T09:53:34.502344Z",
     "shell.execute_reply.started": "2024-03-27T09:53:34.087093Z"
    }
   },
   "outputs": [
    {
     "ename": "NameError",
     "evalue": "name 'videos' is not defined",
     "output_type": "error",
     "traceback": [
      "\u001b[0;31m---------------------------------------------------------------------------\u001b[0m",
      "\u001b[0;31mNameError\u001b[0m                                 Traceback (most recent call last)",
      "Cell \u001b[0;32mIn[2], line 1\u001b[0m\n\u001b[0;32m----> 1\u001b[0m \u001b[43mvideos\u001b[49m\u001b[38;5;241m.\u001b[39mvideo_path\u001b[38;5;241m.\u001b[39miloc[\u001b[38;5;241m0\u001b[39m:\u001b[38;5;241m10\u001b[39m]\n",
      "\u001b[0;31mNameError\u001b[0m: name 'videos' is not defined"
     ]
    }
   ],
   "source": [
    "videos.video_path.iloc[0:10]"
   ]
  },
  {
   "cell_type": "code",
   "execution_count": null,
   "id": "68e7d750-58f1-4c6e-b055-29db694e5bb6",
   "metadata": {},
   "outputs": [],
   "source": []
  }
 ],
 "metadata": {
  "kernelspec": {
   "display_name": "Python 3 (ipykernel)",
   "language": "python",
   "name": "python3"
  },
  "language_info": {
   "codemirror_mode": {
    "name": "ipython",
    "version": 3
   },
   "file_extension": ".py",
   "mimetype": "text/x-python",
   "name": "python",
   "nbconvert_exporter": "python",
   "pygments_lexer": "ipython3",
   "version": "3.10.6"
  }
 },
 "nbformat": 4,
 "nbformat_minor": 5
}

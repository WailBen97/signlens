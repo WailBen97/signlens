{
 "cells": [
  {
   "cell_type": "code",
   "execution_count": 2,
   "id": "c24e262e-0a00-4aa8-8818-38c260b2f404",
   "metadata": {
    "execution": {
     "iopub.execute_input": "2024-03-22T17:09:16.664898Z",
     "iopub.status.busy": "2024-03-22T17:09:16.664468Z",
     "iopub.status.idle": "2024-03-22T17:09:16.748858Z",
     "shell.execute_reply": "2024-03-22T17:09:16.747159Z",
     "shell.execute_reply.started": "2024-03-22T17:09:16.664869Z"
    },
    "tags": []
   },
   "outputs": [],
   "source": [
    "import os\n",
    "import numpy as np\n",
    "from utils import model_utils\n",
    "\n",
    "from signlens.params import *\n",
    "from signlens.preprocessing.data import load_data_subset_csv, load_glossary\n",
    "from signlens.preprocessing.preprocess import group_pad_sequences, decode_labels\n",
    "\n",
    "\n",
    "# from signlens.preprocessing.registry import load_model # to be deleted\n",
    "%load_ext autoreload\n",
    "\n",
    "%autoreload 2\n"
   ]
  },
  {
   "cell_type": "code",
   "execution_count": 3,
   "id": "11a3fdeb-cc5a-4656-9ca2-155cc84d07ad",
   "metadata": {
    "execution": {
     "iopub.execute_input": "2024-03-22T17:09:18.132848Z",
     "iopub.status.busy": "2024-03-22T17:09:18.132092Z",
     "iopub.status.idle": "2024-03-22T17:09:18.254671Z",
     "shell.execute_reply": "2024-03-22T17:09:18.253378Z",
     "shell.execute_reply.started": "2024-03-22T17:09:18.132810Z"
    },
    "tags": []
   },
   "outputs": [
    {
     "name": "stdout",
     "output_type": "stream",
     "text": [
      "\u001b[34mLoading data subset from train_test.csv\u001b[0m\n",
      "✅ Filtered on n_frames = 100. Size reduced from 17233 to 17233 (100.0%)\n",
      "✅ Filtered on n_classes = 10. Size reduced from 17233 to 690 (4.0%)\n",
      "✅ Balanced data, with average of 69.0 elements per class. Size reduced from 690 to 690 (100.0%)\n",
      "✅ Loaded 690 rows (4.0% of the original 17233 rows) from the dataset.\n"
     ]
    }
   ],
   "source": [
    "test_data = load_data_subset_csv(balanced=True, csv_path=TRAIN_TEST_CSV_PATH)\n"
   ]
  },
  {
   "cell_type": "code",
   "execution_count": 4,
   "id": "bdef6b21-48d8-4416-b643-77e5ada9c227",
   "metadata": {
    "execution": {
     "iopub.execute_input": "2024-03-22T17:09:18.527208Z",
     "iopub.status.busy": "2024-03-22T17:09:18.526070Z",
     "iopub.status.idle": "2024-03-22T17:09:18.598939Z",
     "shell.execute_reply": "2024-03-22T17:09:18.597549Z",
     "shell.execute_reply.started": "2024-03-22T17:09:18.527170Z"
    },
    "tags": []
   },
   "outputs": [
    {
     "data": {
      "text/html": [
       "<div>\n",
       "<style scoped>\n",
       "    .dataframe tbody tr th:only-of-type {\n",
       "        vertical-align: middle;\n",
       "    }\n",
       "\n",
       "    .dataframe tbody tr th {\n",
       "        vertical-align: top;\n",
       "    }\n",
       "\n",
       "    .dataframe thead th {\n",
       "        text-align: right;\n",
       "    }\n",
       "</style>\n",
       "<table border=\"1\" class=\"dataframe\">\n",
       "  <thead>\n",
       "    <tr style=\"text-align: right;\">\n",
       "      <th></th>\n",
       "      <th>path</th>\n",
       "      <th>participant_id</th>\n",
       "      <th>sequence_id</th>\n",
       "      <th>sign</th>\n",
       "      <th>n_frames</th>\n",
       "      <th>n_frames2</th>\n",
       "      <th>file_path</th>\n",
       "    </tr>\n",
       "  </thead>\n",
       "  <tbody>\n",
       "    <tr>\n",
       "      <th>2</th>\n",
       "      <td>train_landmark_files_noface/22343/1963578447.p...</td>\n",
       "      <td>22343</td>\n",
       "      <td>1963578447</td>\n",
       "      <td>book</td>\n",
       "      <td>27.0</td>\n",
       "      <td>27.0</td>\n",
       "      <td>/home/bfrisque/code/benoitfrisque/signlens/raw...</td>\n",
       "    </tr>\n",
       "    <tr>\n",
       "      <th>10</th>\n",
       "      <td>train_landmark_files_noface/32319/2058774192.p...</td>\n",
       "      <td>32319</td>\n",
       "      <td>2058774192</td>\n",
       "      <td>book</td>\n",
       "      <td>6.0</td>\n",
       "      <td>6.0</td>\n",
       "      <td>/home/bfrisque/code/benoitfrisque/signlens/raw...</td>\n",
       "    </tr>\n",
       "    <tr>\n",
       "      <th>19</th>\n",
       "      <td>train_landmark_files_noface/62590/2405315892.p...</td>\n",
       "      <td>62590</td>\n",
       "      <td>2405315892</td>\n",
       "      <td>book</td>\n",
       "      <td>7.0</td>\n",
       "      <td>7.0</td>\n",
       "      <td>/home/bfrisque/code/benoitfrisque/signlens/raw...</td>\n",
       "    </tr>\n",
       "    <tr>\n",
       "      <th>29</th>\n",
       "      <td>train_landmark_files_noface/27610/40068588.par...</td>\n",
       "      <td>27610</td>\n",
       "      <td>40068588</td>\n",
       "      <td>book</td>\n",
       "      <td>6.0</td>\n",
       "      <td>6.0</td>\n",
       "      <td>/home/bfrisque/code/benoitfrisque/signlens/raw...</td>\n",
       "    </tr>\n",
       "    <tr>\n",
       "      <th>42</th>\n",
       "      <td>train_landmark_files_noface/34503/2067083603.p...</td>\n",
       "      <td>34503</td>\n",
       "      <td>2067083603</td>\n",
       "      <td>book</td>\n",
       "      <td>8.0</td>\n",
       "      <td>8.0</td>\n",
       "      <td>/home/bfrisque/code/benoitfrisque/signlens/raw...</td>\n",
       "    </tr>\n",
       "    <tr>\n",
       "      <th>...</th>\n",
       "      <td>...</td>\n",
       "      <td>...</td>\n",
       "      <td>...</td>\n",
       "      <td>...</td>\n",
       "      <td>...</td>\n",
       "      <td>...</td>\n",
       "      <td>...</td>\n",
       "    </tr>\n",
       "    <tr>\n",
       "      <th>630</th>\n",
       "      <td>train_landmark_files_noface/62590/279698882.pa...</td>\n",
       "      <td>62590</td>\n",
       "      <td>279698882</td>\n",
       "      <td>book</td>\n",
       "      <td>15.0</td>\n",
       "      <td>15.0</td>\n",
       "      <td>/home/bfrisque/code/benoitfrisque/signlens/raw...</td>\n",
       "    </tr>\n",
       "    <tr>\n",
       "      <th>657</th>\n",
       "      <td>train_landmark_files_noface/16069/405329692.pa...</td>\n",
       "      <td>16069</td>\n",
       "      <td>405329692</td>\n",
       "      <td>book</td>\n",
       "      <td>21.0</td>\n",
       "      <td>21.0</td>\n",
       "      <td>/home/bfrisque/code/benoitfrisque/signlens/raw...</td>\n",
       "    </tr>\n",
       "    <tr>\n",
       "      <th>669</th>\n",
       "      <td>train_landmark_files_noface/26734/2197755065.p...</td>\n",
       "      <td>26734</td>\n",
       "      <td>2197755065</td>\n",
       "      <td>book</td>\n",
       "      <td>6.0</td>\n",
       "      <td>6.0</td>\n",
       "      <td>/home/bfrisque/code/benoitfrisque/signlens/raw...</td>\n",
       "    </tr>\n",
       "    <tr>\n",
       "      <th>673</th>\n",
       "      <td>train_landmark_files_noface/26734/2757335993.p...</td>\n",
       "      <td>26734</td>\n",
       "      <td>2757335993</td>\n",
       "      <td>book</td>\n",
       "      <td>28.0</td>\n",
       "      <td>28.0</td>\n",
       "      <td>/home/bfrisque/code/benoitfrisque/signlens/raw...</td>\n",
       "    </tr>\n",
       "    <tr>\n",
       "      <th>680</th>\n",
       "      <td>train_landmark_files_noface/16069/4183378425.p...</td>\n",
       "      <td>16069</td>\n",
       "      <td>4183378425</td>\n",
       "      <td>book</td>\n",
       "      <td>77.0</td>\n",
       "      <td>77.0</td>\n",
       "      <td>/home/bfrisque/code/benoitfrisque/signlens/raw...</td>\n",
       "    </tr>\n",
       "  </tbody>\n",
       "</table>\n",
       "<p>69 rows × 7 columns</p>\n",
       "</div>"
      ],
      "text/plain": [
       "                                                  path  participant_id  \\\n",
       "2    train_landmark_files_noface/22343/1963578447.p...           22343   \n",
       "10   train_landmark_files_noface/32319/2058774192.p...           32319   \n",
       "19   train_landmark_files_noface/62590/2405315892.p...           62590   \n",
       "29   train_landmark_files_noface/27610/40068588.par...           27610   \n",
       "42   train_landmark_files_noface/34503/2067083603.p...           34503   \n",
       "..                                                 ...             ...   \n",
       "630  train_landmark_files_noface/62590/279698882.pa...           62590   \n",
       "657  train_landmark_files_noface/16069/405329692.pa...           16069   \n",
       "669  train_landmark_files_noface/26734/2197755065.p...           26734   \n",
       "673  train_landmark_files_noface/26734/2757335993.p...           26734   \n",
       "680  train_landmark_files_noface/16069/4183378425.p...           16069   \n",
       "\n",
       "     sequence_id  sign  n_frames  n_frames2  \\\n",
       "2     1963578447  book      27.0       27.0   \n",
       "10    2058774192  book       6.0        6.0   \n",
       "19    2405315892  book       7.0        7.0   \n",
       "29      40068588  book       6.0        6.0   \n",
       "42    2067083603  book       8.0        8.0   \n",
       "..           ...   ...       ...        ...   \n",
       "630    279698882  book      15.0       15.0   \n",
       "657    405329692  book      21.0       21.0   \n",
       "669   2197755065  book       6.0        6.0   \n",
       "673   2757335993  book      28.0       28.0   \n",
       "680   4183378425  book      77.0       77.0   \n",
       "\n",
       "                                             file_path  \n",
       "2    /home/bfrisque/code/benoitfrisque/signlens/raw...  \n",
       "10   /home/bfrisque/code/benoitfrisque/signlens/raw...  \n",
       "19   /home/bfrisque/code/benoitfrisque/signlens/raw...  \n",
       "29   /home/bfrisque/code/benoitfrisque/signlens/raw...  \n",
       "42   /home/bfrisque/code/benoitfrisque/signlens/raw...  \n",
       "..                                                 ...  \n",
       "630  /home/bfrisque/code/benoitfrisque/signlens/raw...  \n",
       "657  /home/bfrisque/code/benoitfrisque/signlens/raw...  \n",
       "669  /home/bfrisque/code/benoitfrisque/signlens/raw...  \n",
       "673  /home/bfrisque/code/benoitfrisque/signlens/raw...  \n",
       "680  /home/bfrisque/code/benoitfrisque/signlens/raw...  \n",
       "\n",
       "[69 rows x 7 columns]"
      ]
     },
     "execution_count": 4,
     "metadata": {},
     "output_type": "execute_result"
    }
   ],
   "source": [
    "test_data[test_data.sign == 'book']"
   ]
  },
  {
   "cell_type": "code",
   "execution_count": 5,
   "id": "56aadcfc-8e4f-472d-9a2e-5ec980057877",
   "metadata": {
    "execution": {
     "iopub.execute_input": "2024-03-22T17:09:18.698616Z",
     "iopub.status.busy": "2024-03-22T17:09:18.696886Z",
     "iopub.status.idle": "2024-03-22T17:09:18.761002Z",
     "shell.execute_reply": "2024-03-22T17:09:18.759447Z",
     "shell.execute_reply.started": "2024-03-22T17:09:18.698572Z"
    },
    "tags": []
   },
   "outputs": [
    {
     "data": {
      "text/html": [
       "<div>\n",
       "<style scoped>\n",
       "    .dataframe tbody tr th:only-of-type {\n",
       "        vertical-align: middle;\n",
       "    }\n",
       "\n",
       "    .dataframe tbody tr th {\n",
       "        vertical-align: top;\n",
       "    }\n",
       "\n",
       "    .dataframe thead th {\n",
       "        text-align: right;\n",
       "    }\n",
       "</style>\n",
       "<table border=\"1\" class=\"dataframe\">\n",
       "  <thead>\n",
       "    <tr style=\"text-align: right;\">\n",
       "      <th></th>\n",
       "      <th>path</th>\n",
       "      <th>participant_id</th>\n",
       "      <th>sequence_id</th>\n",
       "      <th>sign</th>\n",
       "      <th>n_frames</th>\n",
       "      <th>n_frames2</th>\n",
       "      <th>file_path</th>\n",
       "    </tr>\n",
       "  </thead>\n",
       "  <tbody>\n",
       "    <tr>\n",
       "      <th>0</th>\n",
       "      <td>train_landmark_files_noface/36257/2228955138.p...</td>\n",
       "      <td>36257</td>\n",
       "      <td>2228955138</td>\n",
       "      <td>chair</td>\n",
       "      <td>42.0</td>\n",
       "      <td>42.0</td>\n",
       "      <td>/home/bfrisque/code/benoitfrisque/signlens/raw...</td>\n",
       "    </tr>\n",
       "    <tr>\n",
       "      <th>1</th>\n",
       "      <td>train_landmark_files_noface/2044/1158372807.pa...</td>\n",
       "      <td>2044</td>\n",
       "      <td>1158372807</td>\n",
       "      <td>go</td>\n",
       "      <td>6.0</td>\n",
       "      <td>6.0</td>\n",
       "      <td>/home/bfrisque/code/benoitfrisque/signlens/raw...</td>\n",
       "    </tr>\n",
       "  </tbody>\n",
       "</table>\n",
       "</div>"
      ],
      "text/plain": [
       "                                                path  participant_id  \\\n",
       "0  train_landmark_files_noface/36257/2228955138.p...           36257   \n",
       "1  train_landmark_files_noface/2044/1158372807.pa...            2044   \n",
       "\n",
       "   sequence_id   sign  n_frames  n_frames2  \\\n",
       "0   2228955138  chair      42.0       42.0   \n",
       "1   1158372807     go       6.0        6.0   \n",
       "\n",
       "                                           file_path  \n",
       "0  /home/bfrisque/code/benoitfrisque/signlens/raw...  \n",
       "1  /home/bfrisque/code/benoitfrisque/signlens/raw...  "
      ]
     },
     "execution_count": 5,
     "metadata": {},
     "output_type": "execute_result"
    }
   ],
   "source": [
    "test_subset = test_data.iloc[0:2]\n",
    "test_subset"
   ]
  },
  {
   "cell_type": "code",
   "execution_count": 6,
   "id": "8efd9bb6-99da-4aff-8ea2-30155754ff47",
   "metadata": {
    "execution": {
     "iopub.execute_input": "2024-03-22T17:09:18.850376Z",
     "iopub.status.busy": "2024-03-22T17:09:18.849434Z",
     "iopub.status.idle": "2024-03-22T17:09:21.393265Z",
     "shell.execute_reply": "2024-03-22T17:09:21.391455Z",
     "shell.execute_reply.started": "2024-03-22T17:09:18.850319Z"
    },
    "tags": []
   },
   "outputs": [
    {
     "name": "stderr",
     "output_type": "stream",
     "text": [
      "/home/bfrisque/.pyenv/versions/3.10.6/lib/python3.10/multiprocessing/popen_fork.py:66: RuntimeWarning: os.fork() was called. os.fork() is incompatible with multithreaded code, and JAX is multithreaded, so this will likely lead to a deadlock.\n",
      "  self.pid = os.fork()\n",
      "2024-03-22 18:09:20.558278: I external/local_xla/xla/stream_executor/cuda/cuda_executor.cc:984] could not open file to read NUMA node: /sys/bus/pci/devices/0000:01:00.0/numa_node\n",
      "Your kernel may have been built without NUMA support.\n",
      "2024-03-22 18:09:20.558960: W tensorflow/core/common_runtime/gpu/gpu_device.cc:2251] Cannot dlopen some GPU libraries. Please make sure the missing libraries mentioned above are installed properly if you would like to use GPU. Follow the guide at https://www.tensorflow.org/install/gpu for how to download and setup the required libraries for your platform.\n",
      "Skipping registering GPU devices...\n"
     ]
    },
    {
     "name": "stdout",
     "output_type": "stream",
     "text": [
      "\u001b[34m\n",
      "Load latest model from local registry...\u001b[0m\n",
      "\u001b[34m\n",
      "Load latest model from disk...\u001b[0m\n",
      "✅ Model loaded from local disk /home/bfrisque/code/benoitfrisque/signlens/training_outputs/model 20240322-145823\n",
      "\u001b[1m1/1\u001b[0m \u001b[32m━━━━━━━━━━━━━━━━━━━━\u001b[0m\u001b[37m\u001b[0m \u001b[1m0s\u001b[0m 442ms/step\n"
     ]
    },
    {
     "data": {
      "text/plain": [
       "array([[0.08138052, 0.16202429, 0.11876995, 0.13367637, 0.03784593,\n",
       "        0.07303199, 0.15496674, 0.10007465, 0.04038617, 0.09784337],\n",
       "       [0.1038068 , 0.14089708, 0.11039874, 0.12503351, 0.03557088,\n",
       "        0.07659918, 0.14540334, 0.10983478, 0.0354893 , 0.11696641]],\n",
       "      dtype=float32)"
      ]
     },
     "execution_count": 6,
     "metadata": {},
     "output_type": "execute_result"
    }
   ],
   "source": [
    "model_path = '../../training_outputs/model 20240322-145823/model/model_20240322-150323.keras'\n",
    "model_name_folder = 'model 20240322-145823'\n",
    "\n",
    "\n",
    "X_pred = group_pad_sequences(test_subset.file_path)\n",
    "\n",
    "\n",
    "model = model_utils.load_model(model_name_folder=model_name_folder)\n",
    "model = model[0]\n",
    "\n",
    "y_pred =  model.predict(X_pred)\n",
    "y_pred\n"
   ]
  },
  {
   "cell_type": "code",
   "execution_count": 7,
   "id": "a1717be8-dc2e-4b3f-a94f-7a5d2dc3b6e9",
   "metadata": {
    "execution": {
     "iopub.execute_input": "2024-03-22T17:09:21.396332Z",
     "iopub.status.busy": "2024-03-22T17:09:21.395897Z",
     "iopub.status.idle": "2024-03-22T17:09:21.472136Z",
     "shell.execute_reply": "2024-03-22T17:09:21.468919Z",
     "shell.execute_reply.started": "2024-03-22T17:09:21.396293Z"
    },
    "tags": []
   },
   "outputs": [
    {
     "data": {
      "text/plain": [
       "array([[0.08138052, 0.16202429, 0.11876995, 0.13367637, 0.03784593,\n",
       "        0.07303199, 0.15496674, 0.10007465, 0.04038617, 0.09784337],\n",
       "       [0.1038068 , 0.14089708, 0.11039874, 0.12503351, 0.03557088,\n",
       "        0.07659918, 0.14540334, 0.10983478, 0.0354893 , 0.11696641]],\n",
       "      dtype=float32)"
      ]
     },
     "execution_count": 7,
     "metadata": {},
     "output_type": "execute_result"
    }
   ],
   "source": [
    "y_pred "
   ]
  },
  {
   "cell_type": "code",
   "execution_count": 8,
   "id": "a1433763-e4f0-4f05-ab37-dc9bffb63016",
   "metadata": {
    "execution": {
     "iopub.execute_input": "2024-03-22T17:09:21.474624Z",
     "iopub.status.busy": "2024-03-22T17:09:21.474154Z",
     "iopub.status.idle": "2024-03-22T17:09:21.546389Z",
     "shell.execute_reply": "2024-03-22T17:09:21.544238Z",
     "shell.execute_reply.started": "2024-03-22T17:09:21.474584Z"
    },
    "tags": []
   },
   "outputs": [
    {
     "data": {
      "text/plain": [
       "(['drink', 'fine'], array([0.16202429, 0.14540334], dtype=float32))"
      ]
     },
     "execution_count": 8,
     "metadata": {},
     "output_type": "execute_result"
    }
   ],
   "source": [
    "decode_labels(y_pred)"
   ]
  }
 ],
 "metadata": {
  "kernelspec": {
   "display_name": "Python 3 (ipykernel)",
   "language": "python",
   "name": "python3"
  },
  "language_info": {
   "codemirror_mode": {
    "name": "ipython",
    "version": 3
   },
   "file_extension": ".py",
   "mimetype": "text/x-python",
   "name": "python",
   "nbconvert_exporter": "python",
   "pygments_lexer": "ipython3",
   "version": "3.10.6"
  }
 },
 "nbformat": 4,
 "nbformat_minor": 5
}

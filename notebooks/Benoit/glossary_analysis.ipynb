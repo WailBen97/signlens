{
 "cells": [
  {
   "cell_type": "code",
   "execution_count": 1,
   "id": "9cb77028-aede-49b7-88b7-1315e96701c9",
   "metadata": {
    "execution": {
     "iopub.execute_input": "2024-03-21T14:48:08.166385Z",
     "iopub.status.busy": "2024-03-21T14:48:08.165536Z",
     "iopub.status.idle": "2024-03-21T14:48:21.843702Z",
     "shell.execute_reply": "2024-03-21T14:48:21.841045Z",
     "shell.execute_reply.started": "2024-03-21T14:48:08.166317Z"
    },
    "tags": []
   },
   "outputs": [
    {
     "name": "stderr",
     "output_type": "stream",
     "text": [
      "2024-03-21 15:48:15.302801: I tensorflow/core/platform/cpu_feature_guard.cc:210] This TensorFlow binary is optimized to use available CPU instructions in performance-critical operations.\n",
      "To enable the following instructions: AVX2 FMA, in other operations, rebuild TensorFlow with the appropriate compiler flags.\n",
      "2024-03-21 15:48:18.101711: W tensorflow/compiler/tf2tensorrt/utils/py_utils.cc:38] TF-TRT Warning: Could not find TensorRT\n"
     ]
    }
   ],
   "source": [
    "import pandas as pd\n",
    "from pathlib import Path\n",
    "\n",
    "from signlens.params import *\n",
    "from signlens.preprocessing import data, preprocess\n",
    "from utils import plot_landmarks\n",
    "\n",
    "\n",
    "# reload automatically python functions outside notebook\n",
    "%load_ext autoreload\n",
    "%autoreload 2"
   ]
  },
  {
   "cell_type": "markdown",
   "id": "8d74ecea-689d-450f-8f90-e6d0030bb906",
   "metadata": {},
   "source": [
    "## Data from landmarks"
   ]
  },
  {
   "cell_type": "code",
   "execution_count": 2,
   "id": "b8e5eece-c84d-4443-9873-01aacdf199e5",
   "metadata": {
    "execution": {
     "iopub.execute_input": "2024-03-21T14:48:21.852432Z",
     "iopub.status.busy": "2024-03-21T14:48:21.849703Z",
     "iopub.status.idle": "2024-03-21T14:48:22.764207Z",
     "shell.execute_reply": "2024-03-21T14:48:22.761742Z",
     "shell.execute_reply.started": "2024-03-21T14:48:21.852342Z"
    },
    "tags": []
   },
   "outputs": [
    {
     "name": "stdout",
     "output_type": "stream",
     "text": [
      "✅ File with frames already exists, loaded matching 'sequence_id' rows.\n",
      "✅ Filtered on n_frames = 100. Size reduced from 94477 to 86168 (91.2%)\n",
      "✅ Filtered on n_classes = 250. Size reduced from 86168 to 86168 (100.0%)\n",
      "✅ Loaded 86168 rows (91.2% of the original 94477 rows) from the dataset.\n"
     ]
    }
   ],
   "source": [
    "data_landmarks = data.load_data_subset_csv(frac=1, n_classes=250)"
   ]
  },
  {
   "cell_type": "code",
   "execution_count": 3,
   "id": "4d3f1b31-c15f-49a2-b3e2-69de8b74f268",
   "metadata": {
    "execution": {
     "iopub.execute_input": "2024-03-21T14:48:22.768331Z",
     "iopub.status.busy": "2024-03-21T14:48:22.767069Z",
     "iopub.status.idle": "2024-03-21T14:48:22.928563Z",
     "shell.execute_reply": "2024-03-21T14:48:22.925066Z",
     "shell.execute_reply.started": "2024-03-21T14:48:22.768271Z"
    },
    "tags": []
   },
   "outputs": [
    {
     "data": {
      "text/html": [
       "<div>\n",
       "<style scoped>\n",
       "    .dataframe tbody tr th:only-of-type {\n",
       "        vertical-align: middle;\n",
       "    }\n",
       "\n",
       "    .dataframe tbody tr th {\n",
       "        vertical-align: top;\n",
       "    }\n",
       "\n",
       "    .dataframe thead th {\n",
       "        text-align: right;\n",
       "    }\n",
       "</style>\n",
       "<table border=\"1\" class=\"dataframe\">\n",
       "  <thead>\n",
       "    <tr style=\"text-align: right;\">\n",
       "      <th></th>\n",
       "      <th>sign</th>\n",
       "    </tr>\n",
       "  </thead>\n",
       "  <tbody>\n",
       "    <tr>\n",
       "      <th>0</th>\n",
       "      <td>after</td>\n",
       "    </tr>\n",
       "    <tr>\n",
       "      <th>1</th>\n",
       "      <td>airplane</td>\n",
       "    </tr>\n",
       "    <tr>\n",
       "      <th>2</th>\n",
       "      <td>all</td>\n",
       "    </tr>\n",
       "    <tr>\n",
       "      <th>3</th>\n",
       "      <td>alligator</td>\n",
       "    </tr>\n",
       "    <tr>\n",
       "      <th>4</th>\n",
       "      <td>animal</td>\n",
       "    </tr>\n",
       "    <tr>\n",
       "      <th>...</th>\n",
       "      <td>...</td>\n",
       "    </tr>\n",
       "    <tr>\n",
       "      <th>245</th>\n",
       "      <td>yesterday</td>\n",
       "    </tr>\n",
       "    <tr>\n",
       "      <th>246</th>\n",
       "      <td>yourself</td>\n",
       "    </tr>\n",
       "    <tr>\n",
       "      <th>247</th>\n",
       "      <td>yucky</td>\n",
       "    </tr>\n",
       "    <tr>\n",
       "      <th>248</th>\n",
       "      <td>zebra</td>\n",
       "    </tr>\n",
       "    <tr>\n",
       "      <th>249</th>\n",
       "      <td>zipper</td>\n",
       "    </tr>\n",
       "  </tbody>\n",
       "</table>\n",
       "<p>250 rows × 1 columns</p>\n",
       "</div>"
      ],
      "text/plain": [
       "          sign\n",
       "0        after\n",
       "1     airplane\n",
       "2          all\n",
       "3    alligator\n",
       "4       animal\n",
       "..         ...\n",
       "245  yesterday\n",
       "246   yourself\n",
       "247      yucky\n",
       "248      zebra\n",
       "249     zipper\n",
       "\n",
       "[250 rows x 1 columns]"
      ]
     },
     "execution_count": 3,
     "metadata": {},
     "output_type": "execute_result"
    }
   ],
   "source": [
    "gloss_landmarks = pd.DataFrame(data_landmarks['sign'].unique())\\\n",
    "            .rename(columns={0:'sign'})\n",
    "gloss_landmarks['sign'] = gloss_landmarks['sign'].str.lower()\n",
    "gloss_landmarks.sort_values(by='sign', inplace=True, ignore_index=True)\n",
    "gloss_landmarks\n"
   ]
  },
  {
   "cell_type": "markdown",
   "id": "a5f32b87-74c3-4715-a250-070f00c47b8b",
   "metadata": {},
   "source": [
    "## Data from videos"
   ]
  },
  {
   "cell_type": "code",
   "execution_count": 4,
   "id": "7619bacd-d40b-480d-a7f9-26c5447cc8fc",
   "metadata": {
    "execution": {
     "iopub.execute_input": "2024-03-21T14:48:22.934165Z",
     "iopub.status.busy": "2024-03-21T14:48:22.932610Z",
     "iopub.status.idle": "2024-03-21T14:48:23.364639Z",
     "shell.execute_reply": "2024-03-21T14:48:23.361891Z",
     "shell.execute_reply.started": "2024-03-21T14:48:22.933907Z"
    },
    "tags": []
   },
   "outputs": [],
   "source": [
    "WLASL_DIR = Path('../../raw_data/WLASL')\n",
    "WLASL_JSON_PATH = WLASL_DIR/'WLASL_v0.3.json'\n",
    "WLASL_VIDEO_DIR = WLASL_DIR/'videos'\n",
    "\n",
    "data_videos = pd.read_json(WLASL_JSON_PATH)"
   ]
  },
  {
   "cell_type": "code",
   "execution_count": 5,
   "id": "8ae394d2-5f8c-42e1-bdaa-8d5872211197",
   "metadata": {
    "execution": {
     "iopub.execute_input": "2024-03-21T14:48:23.368372Z",
     "iopub.status.busy": "2024-03-21T14:48:23.367677Z",
     "iopub.status.idle": "2024-03-21T14:48:23.513968Z",
     "shell.execute_reply": "2024-03-21T14:48:23.510262Z",
     "shell.execute_reply.started": "2024-03-21T14:48:23.368310Z"
    },
    "tags": []
   },
   "outputs": [
    {
     "data": {
      "text/html": [
       "<div>\n",
       "<style scoped>\n",
       "    .dataframe tbody tr th:only-of-type {\n",
       "        vertical-align: middle;\n",
       "    }\n",
       "\n",
       "    .dataframe tbody tr th {\n",
       "        vertical-align: top;\n",
       "    }\n",
       "\n",
       "    .dataframe thead th {\n",
       "        text-align: right;\n",
       "    }\n",
       "</style>\n",
       "<table border=\"1\" class=\"dataframe\">\n",
       "  <thead>\n",
       "    <tr style=\"text-align: right;\">\n",
       "      <th></th>\n",
       "      <th>sign_videos</th>\n",
       "    </tr>\n",
       "  </thead>\n",
       "  <tbody>\n",
       "    <tr>\n",
       "      <th>0</th>\n",
       "      <td>book</td>\n",
       "    </tr>\n",
       "    <tr>\n",
       "      <th>1</th>\n",
       "      <td>drink</td>\n",
       "    </tr>\n",
       "    <tr>\n",
       "      <th>2</th>\n",
       "      <td>computer</td>\n",
       "    </tr>\n",
       "    <tr>\n",
       "      <th>3</th>\n",
       "      <td>before</td>\n",
       "    </tr>\n",
       "    <tr>\n",
       "      <th>4</th>\n",
       "      <td>chair</td>\n",
       "    </tr>\n",
       "    <tr>\n",
       "      <th>...</th>\n",
       "      <td>...</td>\n",
       "    </tr>\n",
       "    <tr>\n",
       "      <th>1995</th>\n",
       "      <td>washington</td>\n",
       "    </tr>\n",
       "    <tr>\n",
       "      <th>1996</th>\n",
       "      <td>waterfall</td>\n",
       "    </tr>\n",
       "    <tr>\n",
       "      <th>1997</th>\n",
       "      <td>weigh</td>\n",
       "    </tr>\n",
       "    <tr>\n",
       "      <th>1998</th>\n",
       "      <td>wheelchair</td>\n",
       "    </tr>\n",
       "    <tr>\n",
       "      <th>1999</th>\n",
       "      <td>whistle</td>\n",
       "    </tr>\n",
       "  </tbody>\n",
       "</table>\n",
       "<p>2000 rows × 1 columns</p>\n",
       "</div>"
      ],
      "text/plain": [
       "     sign_videos\n",
       "0           book\n",
       "1          drink\n",
       "2       computer\n",
       "3         before\n",
       "4          chair\n",
       "...          ...\n",
       "1995  washington\n",
       "1996   waterfall\n",
       "1997       weigh\n",
       "1998  wheelchair\n",
       "1999     whistle\n",
       "\n",
       "[2000 rows x 1 columns]"
      ]
     },
     "execution_count": 5,
     "metadata": {},
     "output_type": "execute_result"
    }
   ],
   "source": [
    "gloss_videos = pd.DataFrame(data_videos['gloss'].unique())\\\n",
    "            .rename(columns={0:'sign_videos'})\n",
    "gloss_videos['sign_videos'] = gloss_videos['sign_videos'].str.lower()\n",
    "gloss_videos\n"
   ]
  },
  {
   "cell_type": "markdown",
   "id": "95a08f3e-4f76-452e-86bc-b00ae4c6211a",
   "metadata": {},
   "source": [
    "## Merge"
   ]
  },
  {
   "cell_type": "code",
   "execution_count": 6,
   "id": "63ad2037-fc58-4eb2-ad9a-46f60dd7d1e9",
   "metadata": {
    "execution": {
     "iopub.execute_input": "2024-03-21T14:48:23.518632Z",
     "iopub.status.busy": "2024-03-21T14:48:23.517989Z",
     "iopub.status.idle": "2024-03-21T14:48:23.686314Z",
     "shell.execute_reply": "2024-03-21T14:48:23.683804Z",
     "shell.execute_reply.started": "2024-03-21T14:48:23.518573Z"
    },
    "tags": []
   },
   "outputs": [
    {
     "data": {
      "text/html": [
       "<div>\n",
       "<style scoped>\n",
       "    .dataframe tbody tr th:only-of-type {\n",
       "        vertical-align: middle;\n",
       "    }\n",
       "\n",
       "    .dataframe tbody tr th {\n",
       "        vertical-align: top;\n",
       "    }\n",
       "\n",
       "    .dataframe thead th {\n",
       "        text-align: right;\n",
       "    }\n",
       "</style>\n",
       "<table border=\"1\" class=\"dataframe\">\n",
       "  <thead>\n",
       "    <tr style=\"text-align: right;\">\n",
       "      <th></th>\n",
       "      <th>sign_videos</th>\n",
       "      <th>sign</th>\n",
       "    </tr>\n",
       "  </thead>\n",
       "  <tbody>\n",
       "    <tr>\n",
       "      <th>0</th>\n",
       "      <td>book</td>\n",
       "      <td>book</td>\n",
       "    </tr>\n",
       "    <tr>\n",
       "      <th>1</th>\n",
       "      <td>drink</td>\n",
       "      <td>drink</td>\n",
       "    </tr>\n",
       "    <tr>\n",
       "      <th>2</th>\n",
       "      <td>before</td>\n",
       "      <td>before</td>\n",
       "    </tr>\n",
       "    <tr>\n",
       "      <th>3</th>\n",
       "      <td>chair</td>\n",
       "      <td>chair</td>\n",
       "    </tr>\n",
       "    <tr>\n",
       "      <th>4</th>\n",
       "      <td>go</td>\n",
       "      <td>go</td>\n",
       "    </tr>\n",
       "    <tr>\n",
       "      <th>...</th>\n",
       "      <td>...</td>\n",
       "      <td>...</td>\n",
       "    </tr>\n",
       "    <tr>\n",
       "      <th>196</th>\n",
       "      <td>gift</td>\n",
       "      <td>gift</td>\n",
       "    </tr>\n",
       "    <tr>\n",
       "      <th>197</th>\n",
       "      <td>lamp</td>\n",
       "      <td>lamp</td>\n",
       "    </tr>\n",
       "    <tr>\n",
       "      <th>198</th>\n",
       "      <td>penny</td>\n",
       "      <td>penny</td>\n",
       "    </tr>\n",
       "    <tr>\n",
       "      <th>199</th>\n",
       "      <td>stuck</td>\n",
       "      <td>stuck</td>\n",
       "    </tr>\n",
       "    <tr>\n",
       "      <th>200</th>\n",
       "      <td>tv</td>\n",
       "      <td>tv</td>\n",
       "    </tr>\n",
       "  </tbody>\n",
       "</table>\n",
       "<p>201 rows × 2 columns</p>\n",
       "</div>"
      ],
      "text/plain": [
       "    sign_videos    sign\n",
       "0          book    book\n",
       "1         drink   drink\n",
       "2        before  before\n",
       "3         chair   chair\n",
       "4            go      go\n",
       "..          ...     ...\n",
       "196        gift    gift\n",
       "197        lamp    lamp\n",
       "198       penny   penny\n",
       "199       stuck   stuck\n",
       "200          tv      tv\n",
       "\n",
       "[201 rows x 2 columns]"
      ]
     },
     "execution_count": 6,
     "metadata": {},
     "output_type": "execute_result"
    }
   ],
   "source": [
    "# Merge df with videos and df from landmarks to take only the matchin elements (the sign videos should be sorted by most used asl signs)\n",
    "merged_df = gloss_videos.merge(gloss_landmarks, left_on='sign_videos', right_on='sign')\n",
    "merged_df"
   ]
  },
  {
   "cell_type": "code",
   "execution_count": 7,
   "id": "99716370-20c1-423b-821f-9983bad1e378",
   "metadata": {
    "execution": {
     "iopub.execute_input": "2024-03-21T14:48:23.697732Z",
     "iopub.status.busy": "2024-03-21T14:48:23.695542Z",
     "iopub.status.idle": "2024-03-21T14:48:23.828320Z",
     "shell.execute_reply": "2024-03-21T14:48:23.823358Z",
     "shell.execute_reply.started": "2024-03-21T14:48:23.697666Z"
    },
    "tags": []
   },
   "outputs": [
    {
     "data": {
      "text/plain": [
       "0        book\n",
       "1       drink\n",
       "2      before\n",
       "3       chair\n",
       "4          go\n",
       "        ...  \n",
       "196      gift\n",
       "197      lamp\n",
       "198     penny\n",
       "199     stuck\n",
       "200        tv\n",
       "Name: sign, Length: 201, dtype: object"
      ]
     },
     "execution_count": 7,
     "metadata": {},
     "output_type": "execute_result"
    }
   ],
   "source": [
    "most_used_signs = merged_df.sign\n",
    "most_used_signs"
   ]
  },
  {
   "cell_type": "code",
   "execution_count": 17,
   "id": "90d25b4b-a2a3-4235-8cb2-c8d1565d096c",
   "metadata": {
    "execution": {
     "iopub.execute_input": "2024-03-21T14:50:23.478723Z",
     "iopub.status.busy": "2024-03-21T14:50:23.476748Z",
     "iopub.status.idle": "2024-03-21T14:50:23.568978Z",
     "shell.execute_reply": "2024-03-21T14:50:23.566555Z",
     "shell.execute_reply.started": "2024-03-21T14:50:23.478635Z"
    },
    "tags": []
   },
   "outputs": [
    {
     "data": {
      "text/html": [
       "<div>\n",
       "<style scoped>\n",
       "    .dataframe tbody tr th:only-of-type {\n",
       "        vertical-align: middle;\n",
       "    }\n",
       "\n",
       "    .dataframe tbody tr th {\n",
       "        vertical-align: top;\n",
       "    }\n",
       "\n",
       "    .dataframe thead th {\n",
       "        text-align: right;\n",
       "    }\n",
       "</style>\n",
       "<table border=\"1\" class=\"dataframe\">\n",
       "  <thead>\n",
       "    <tr style=\"text-align: right;\">\n",
       "      <th></th>\n",
       "      <th>sign</th>\n",
       "    </tr>\n",
       "  </thead>\n",
       "  <tbody>\n",
       "    <tr>\n",
       "      <th>11</th>\n",
       "      <td>backyard</td>\n",
       "    </tr>\n",
       "    <tr>\n",
       "      <th>33</th>\n",
       "      <td>callonphone</td>\n",
       "    </tr>\n",
       "    <tr>\n",
       "      <th>40</th>\n",
       "      <td>cheek</td>\n",
       "    </tr>\n",
       "    <tr>\n",
       "      <th>42</th>\n",
       "      <td>chin</td>\n",
       "    </tr>\n",
       "    <tr>\n",
       "      <th>50</th>\n",
       "      <td>cowboy</td>\n",
       "    </tr>\n",
       "  </tbody>\n",
       "</table>\n",
       "</div>"
      ],
      "text/plain": [
       "           sign\n",
       "11     backyard\n",
       "33  callonphone\n",
       "40        cheek\n",
       "42         chin\n",
       "50       cowboy"
      ]
     },
     "execution_count": 17,
     "metadata": {},
     "output_type": "execute_result"
    }
   ],
   "source": [
    "# take the missing signs from the landmarks glossary to append them\n",
    "missing_signs = gloss_landmarks[~gloss_landmarks.sign.isin(most_used_signs)]\n",
    "missing_signs.head()"
   ]
  },
  {
   "cell_type": "code",
   "execution_count": 18,
   "id": "d88ce7c3-8268-46c1-af53-6e82ae237579",
   "metadata": {
    "execution": {
     "iopub.execute_input": "2024-03-21T14:50:25.209453Z",
     "iopub.status.busy": "2024-03-21T14:50:25.208047Z",
     "iopub.status.idle": "2024-03-21T14:50:25.292701Z",
     "shell.execute_reply": "2024-03-21T14:50:25.290505Z",
     "shell.execute_reply.started": "2024-03-21T14:50:25.209390Z"
    },
    "tags": []
   },
   "outputs": [
    {
     "data": {
      "text/plain": [
       "(49, 1)"
      ]
     },
     "execution_count": 18,
     "metadata": {},
     "output_type": "execute_result"
    }
   ],
   "source": [
    "missing_signs.shape"
   ]
  },
  {
   "cell_type": "code",
   "execution_count": 19,
   "id": "e589733d-934d-4330-921a-baaa0acdc5c1",
   "metadata": {
    "execution": {
     "iopub.execute_input": "2024-03-21T14:50:44.764939Z",
     "iopub.status.busy": "2024-03-21T14:50:44.763709Z",
     "iopub.status.idle": "2024-03-21T14:50:44.829981Z",
     "shell.execute_reply": "2024-03-21T14:50:44.828460Z",
     "shell.execute_reply.started": "2024-03-21T14:50:44.764900Z"
    },
    "tags": []
   },
   "outputs": [
    {
     "data": {
      "text/html": [
       "<div>\n",
       "<style scoped>\n",
       "    .dataframe tbody tr th:only-of-type {\n",
       "        vertical-align: middle;\n",
       "    }\n",
       "\n",
       "    .dataframe tbody tr th {\n",
       "        vertical-align: top;\n",
       "    }\n",
       "\n",
       "    .dataframe thead th {\n",
       "        text-align: right;\n",
       "    }\n",
       "</style>\n",
       "<table border=\"1\" class=\"dataframe\">\n",
       "  <thead>\n",
       "    <tr style=\"text-align: right;\">\n",
       "      <th></th>\n",
       "      <th>sign</th>\n",
       "    </tr>\n",
       "  </thead>\n",
       "  <tbody>\n",
       "    <tr>\n",
       "      <th>0</th>\n",
       "      <td>book</td>\n",
       "    </tr>\n",
       "    <tr>\n",
       "      <th>1</th>\n",
       "      <td>drink</td>\n",
       "    </tr>\n",
       "    <tr>\n",
       "      <th>2</th>\n",
       "      <td>before</td>\n",
       "    </tr>\n",
       "    <tr>\n",
       "      <th>3</th>\n",
       "      <td>chair</td>\n",
       "    </tr>\n",
       "    <tr>\n",
       "      <th>4</th>\n",
       "      <td>go</td>\n",
       "    </tr>\n",
       "    <tr>\n",
       "      <th>...</th>\n",
       "      <td>...</td>\n",
       "    </tr>\n",
       "    <tr>\n",
       "      <th>233</th>\n",
       "      <td>wake</td>\n",
       "    </tr>\n",
       "    <tr>\n",
       "      <th>236</th>\n",
       "      <td>weus</td>\n",
       "    </tr>\n",
       "    <tr>\n",
       "      <th>247</th>\n",
       "      <td>yucky</td>\n",
       "    </tr>\n",
       "    <tr>\n",
       "      <th>248</th>\n",
       "      <td>zebra</td>\n",
       "    </tr>\n",
       "    <tr>\n",
       "      <th>249</th>\n",
       "      <td>zipper</td>\n",
       "    </tr>\n",
       "  </tbody>\n",
       "</table>\n",
       "<p>250 rows × 1 columns</p>\n",
       "</div>"
      ],
      "text/plain": [
       "       sign\n",
       "0      book\n",
       "1     drink\n",
       "2    before\n",
       "3     chair\n",
       "4        go\n",
       "..      ...\n",
       "233    wake\n",
       "236    weus\n",
       "247   yucky\n",
       "248   zebra\n",
       "249  zipper\n",
       "\n",
       "[250 rows x 1 columns]"
      ]
     },
     "execution_count": 19,
     "metadata": {},
     "output_type": "execute_result"
    }
   ],
   "source": [
    "all_signs = pd.concat([most_used_signs, missing_signs])\n",
    "all_signs"
   ]
  },
  {
   "cell_type": "code",
   "execution_count": 24,
   "id": "0525cb11-a85a-4305-9f88-8c90084d6c00",
   "metadata": {
    "execution": {
     "iopub.execute_input": "2024-03-21T15:19:09.949089Z",
     "iopub.status.busy": "2024-03-21T15:19:09.948321Z",
     "iopub.status.idle": "2024-03-21T15:19:10.043471Z",
     "shell.execute_reply": "2024-03-21T15:19:10.039886Z",
     "shell.execute_reply.started": "2024-03-21T15:19:09.949044Z"
    },
    "tags": []
   },
   "outputs": [
    {
     "data": {
      "text/plain": [
       "'/home/bfrisque/code/benoitfrisque/signlens/raw_data/asl-signs/glossary.csv'"
      ]
     },
     "execution_count": 24,
     "metadata": {},
     "output_type": "execute_result"
    }
   ],
   "source": [
    "glossary_csv_path = TRAIN_DATA_DIR + '/glossary.csv'\n",
    "glossary_csv_path "
   ]
  },
  {
   "cell_type": "code",
   "execution_count": 27,
   "id": "1bf37b04-a095-4f03-938a-a99486402517",
   "metadata": {
    "execution": {
     "iopub.execute_input": "2024-03-21T15:20:17.214959Z",
     "iopub.status.busy": "2024-03-21T15:20:17.213911Z",
     "iopub.status.idle": "2024-03-21T15:20:17.276516Z",
     "shell.execute_reply": "2024-03-21T15:20:17.274774Z",
     "shell.execute_reply.started": "2024-03-21T15:20:17.214923Z"
    },
    "tags": []
   },
   "outputs": [],
   "source": [
    "all_signs.to_csv(csv_path, index=False)"
   ]
  },
  {
   "cell_type": "code",
   "execution_count": 28,
   "id": "61b7a965-ec0c-4647-9d92-b097da8e12e5",
   "metadata": {
    "execution": {
     "iopub.execute_input": "2024-03-21T15:20:18.729362Z",
     "iopub.status.busy": "2024-03-21T15:20:18.728287Z",
     "iopub.status.idle": "2024-03-21T15:20:18.799850Z",
     "shell.execute_reply": "2024-03-21T15:20:18.798043Z",
     "shell.execute_reply.started": "2024-03-21T15:20:18.729329Z"
    },
    "tags": []
   },
   "outputs": [
    {
     "data": {
      "text/html": [
       "<div>\n",
       "<style scoped>\n",
       "    .dataframe tbody tr th:only-of-type {\n",
       "        vertical-align: middle;\n",
       "    }\n",
       "\n",
       "    .dataframe tbody tr th {\n",
       "        vertical-align: top;\n",
       "    }\n",
       "\n",
       "    .dataframe thead th {\n",
       "        text-align: right;\n",
       "    }\n",
       "</style>\n",
       "<table border=\"1\" class=\"dataframe\">\n",
       "  <thead>\n",
       "    <tr style=\"text-align: right;\">\n",
       "      <th></th>\n",
       "      <th>sign</th>\n",
       "    </tr>\n",
       "  </thead>\n",
       "  <tbody>\n",
       "    <tr>\n",
       "      <th>0</th>\n",
       "      <td>book</td>\n",
       "    </tr>\n",
       "    <tr>\n",
       "      <th>1</th>\n",
       "      <td>drink</td>\n",
       "    </tr>\n",
       "    <tr>\n",
       "      <th>2</th>\n",
       "      <td>before</td>\n",
       "    </tr>\n",
       "    <tr>\n",
       "      <th>3</th>\n",
       "      <td>chair</td>\n",
       "    </tr>\n",
       "    <tr>\n",
       "      <th>4</th>\n",
       "      <td>go</td>\n",
       "    </tr>\n",
       "    <tr>\n",
       "      <th>...</th>\n",
       "      <td>...</td>\n",
       "    </tr>\n",
       "    <tr>\n",
       "      <th>245</th>\n",
       "      <td>wake</td>\n",
       "    </tr>\n",
       "    <tr>\n",
       "      <th>246</th>\n",
       "      <td>weus</td>\n",
       "    </tr>\n",
       "    <tr>\n",
       "      <th>247</th>\n",
       "      <td>yucky</td>\n",
       "    </tr>\n",
       "    <tr>\n",
       "      <th>248</th>\n",
       "      <td>zebra</td>\n",
       "    </tr>\n",
       "    <tr>\n",
       "      <th>249</th>\n",
       "      <td>zipper</td>\n",
       "    </tr>\n",
       "  </tbody>\n",
       "</table>\n",
       "<p>250 rows × 1 columns</p>\n",
       "</div>"
      ],
      "text/plain": [
       "       sign\n",
       "0      book\n",
       "1     drink\n",
       "2    before\n",
       "3     chair\n",
       "4        go\n",
       "..      ...\n",
       "245    wake\n",
       "246    weus\n",
       "247   yucky\n",
       "248   zebra\n",
       "249  zipper\n",
       "\n",
       "[250 rows x 1 columns]"
      ]
     },
     "execution_count": 28,
     "metadata": {},
     "output_type": "execute_result"
    }
   ],
   "source": [
    "pd.read_csv(csv_path)"
   ]
  },
  {
   "cell_type": "code",
   "execution_count": null,
   "id": "161e0d2a-7a97-40c7-86e3-26caabac5bea",
   "metadata": {},
   "outputs": [],
   "source": []
  }
 ],
 "metadata": {
  "kernelspec": {
   "display_name": "Python 3 (ipykernel)",
   "language": "python",
   "name": "python3"
  },
  "language_info": {
   "codemirror_mode": {
    "name": "ipython",
    "version": 3
   },
   "file_extension": ".py",
   "mimetype": "text/x-python",
   "name": "python",
   "nbconvert_exporter": "python",
   "pygments_lexer": "ipython3",
   "version": "3.10.6"
  }
 },
 "nbformat": 4,
 "nbformat_minor": 5
}

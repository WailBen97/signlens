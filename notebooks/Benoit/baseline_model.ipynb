{
 "cells": [
  {
   "cell_type": "markdown",
   "id": "ec810a73-ca9c-46aa-8e9d-57e438858f79",
   "metadata": {},
   "source": [
    "## Imports"
   ]
  },
  {
   "cell_type": "code",
   "execution_count": 2,
   "id": "071acfd0-88a8-4a6c-ad6c-43a45b2855e4",
   "metadata": {
    "execution": {
     "iopub.execute_input": "2024-03-20T16:26:59.315626Z",
     "iopub.status.busy": "2024-03-20T16:26:59.313352Z",
     "iopub.status.idle": "2024-03-20T16:27:08.498371Z",
     "shell.execute_reply": "2024-03-20T16:27:08.496456Z",
     "shell.execute_reply.started": "2024-03-20T16:26:59.315555Z"
    }
   },
   "outputs": [
    {
     "name": "stderr",
     "output_type": "stream",
     "text": [
      "2024-03-20 17:27:01.914641: I tensorflow/core/platform/cpu_feature_guard.cc:210] This TensorFlow binary is optimized to use available CPU instructions in performance-critical operations.\n",
      "To enable the following instructions: AVX2 FMA, in other operations, rebuild TensorFlow with the appropriate compiler flags.\n",
      "2024-03-20 17:27:04.694352: W tensorflow/compiler/tf2tensorrt/utils/py_utils.cc:38] TF-TRT Warning: Could not find TensorRT\n"
     ]
    }
   ],
   "source": [
    "import pandas as pd\n",
    "import numpy as np\n",
    "import seaborn as sns\n",
    "import os\n",
    "import sklearn\n",
    "\n",
    "import matplotlib.pyplot as plt\n",
    "from matplotlib.animation import FuncAnimation\n",
    "\n",
    "from pathlib import Path\n",
    "from IPython.display import Image, display, Video, HTML\n",
    "from ipywidgets import interact, widgets\n",
    "\n",
    "from signlens.params import *\n",
    "from signlens.preprocessing import data, preprocess\n",
    "from utils import plot_landmarks\n",
    "\n",
    "# reload automatically python functions outside notebook\n",
    "%load_ext autoreload\n",
    "%autoreload 2"
   ]
  },
  {
   "cell_type": "markdown",
   "id": "2cdbc4f1-1997-41e9-b2e5-1cd528ae3b4e",
   "metadata": {},
   "source": [
    "## Fetch data"
   ]
  },
  {
   "cell_type": "code",
   "execution_count": 11,
   "id": "accaff0b-5973-46d4-887d-47ca07b0bb3f",
   "metadata": {
    "execution": {
     "iopub.execute_input": "2024-03-20T16:49:22.868017Z",
     "iopub.status.busy": "2024-03-20T16:49:22.867588Z",
     "iopub.status.idle": "2024-03-20T16:49:22.917037Z",
     "shell.execute_reply": "2024-03-20T16:49:22.915320Z",
     "shell.execute_reply.started": "2024-03-20T16:49:22.867990Z"
    }
   },
   "outputs": [],
   "source": [
    "DATA_FRAC"
   ]
  },
  {
   "cell_type": "code",
   "execution_count": 8,
   "id": "374e08cd-2c48-441f-b22d-e7b4ec0ef05e",
   "metadata": {
    "execution": {
     "iopub.execute_input": "2024-03-20T16:49:11.658922Z",
     "iopub.status.busy": "2024-03-20T16:49:11.657936Z",
     "iopub.status.idle": "2024-03-20T16:49:11.725755Z",
     "shell.execute_reply": "2024-03-20T16:49:11.723715Z",
     "shell.execute_reply.started": "2024-03-20T16:49:11.658880Z"
    }
   },
   "outputs": [],
   "source": [
    "NUM_CLASSES\n",
    "MAX_SEQ_LEN\n",
    "DATA_FRAC"
   ]
  },
  {
   "cell_type": "code",
   "execution_count": 2,
   "id": "f7d98495-329b-47a1-a5fe-83d934816b19",
   "metadata": {
    "execution": {
     "iopub.execute_input": "2024-03-20T15:27:40.265918Z",
     "iopub.status.busy": "2024-03-20T15:27:40.265165Z",
     "iopub.status.idle": "2024-03-20T15:27:40.335053Z",
     "shell.execute_reply": "2024-03-20T15:27:40.332344Z",
     "shell.execute_reply.started": "2024-03-20T15:27:40.265876Z"
    }
   },
   "outputs": [],
   "source": [
    "NUM_SIGNS = 10\n",
    "MAX_SEQ_LEN = 100\n",
    "FRAC_DATA = 0.01"
   ]
  },
  {
   "cell_type": "code",
   "execution_count": 36,
   "id": "5d64e0c8-6924-4235-8979-e458d6b54383",
   "metadata": {
    "execution": {
     "iopub.execute_input": "2024-03-20T15:41:05.838523Z",
     "iopub.status.busy": "2024-03-20T15:41:05.837113Z",
     "iopub.status.idle": "2024-03-20T15:41:06.461868Z",
     "shell.execute_reply": "2024-03-20T15:41:06.459490Z",
     "shell.execute_reply.started": "2024-03-20T15:41:05.838466Z"
    }
   },
   "outputs": [
    {
     "name": "stdout",
     "output_type": "stream",
     "text": [
      "Size reduced from 94477 to 944 (1.0%)\n",
      "File already exists, loaded matching 'sequence_id' rows.\n"
     ]
    },
    {
     "data": {
      "text/html": [
       "<div>\n",
       "<style scoped>\n",
       "    .dataframe tbody tr th:only-of-type {\n",
       "        vertical-align: middle;\n",
       "    }\n",
       "\n",
       "    .dataframe tbody tr th {\n",
       "        vertical-align: top;\n",
       "    }\n",
       "\n",
       "    .dataframe thead th {\n",
       "        text-align: right;\n",
       "    }\n",
       "</style>\n",
       "<table border=\"1\" class=\"dataframe\">\n",
       "  <thead>\n",
       "    <tr style=\"text-align: right;\">\n",
       "      <th></th>\n",
       "      <th>path</th>\n",
       "      <th>participant_id</th>\n",
       "      <th>sequence_id</th>\n",
       "      <th>sign</th>\n",
       "      <th>file_path</th>\n",
       "      <th>frame_parquet</th>\n",
       "    </tr>\n",
       "  </thead>\n",
       "  <tbody>\n",
       "    <tr>\n",
       "      <th>0</th>\n",
       "      <td>train_landmark_files_noface/22343/1000638205.p...</td>\n",
       "      <td>22343</td>\n",
       "      <td>1000638205</td>\n",
       "      <td>puzzle</td>\n",
       "      <td>../../raw_data/asl-signs/train_landmark_files_...</td>\n",
       "      <td>19.0</td>\n",
       "    </tr>\n",
       "    <tr>\n",
       "      <th>1</th>\n",
       "      <td>train_landmark_files_noface/32319/1001958254.p...</td>\n",
       "      <td>32319</td>\n",
       "      <td>1001958254</td>\n",
       "      <td>go</td>\n",
       "      <td>../../raw_data/asl-signs/train_landmark_files_...</td>\n",
       "      <td>24.0</td>\n",
       "    </tr>\n",
       "    <tr>\n",
       "      <th>2</th>\n",
       "      <td>train_landmark_files_noface/2044/1004782423.pa...</td>\n",
       "      <td>2044</td>\n",
       "      <td>1004782423</td>\n",
       "      <td>look</td>\n",
       "      <td>../../raw_data/asl-signs/train_landmark_files_...</td>\n",
       "      <td>24.0</td>\n",
       "    </tr>\n",
       "    <tr>\n",
       "      <th>3</th>\n",
       "      <td>train_landmark_files_noface/36257/1030751383.p...</td>\n",
       "      <td>36257</td>\n",
       "      <td>1030751383</td>\n",
       "      <td>tongue</td>\n",
       "      <td>../../raw_data/asl-signs/train_landmark_files_...</td>\n",
       "      <td>12.0</td>\n",
       "    </tr>\n",
       "    <tr>\n",
       "      <th>4</th>\n",
       "      <td>train_landmark_files_noface/49445/104061906.pa...</td>\n",
       "      <td>49445</td>\n",
       "      <td>104061906</td>\n",
       "      <td>puzzle</td>\n",
       "      <td>../../raw_data/asl-signs/train_landmark_files_...</td>\n",
       "      <td>48.0</td>\n",
       "    </tr>\n",
       "  </tbody>\n",
       "</table>\n",
       "</div>"
      ],
      "text/plain": [
       "                                                path  participant_id  \\\n",
       "0  train_landmark_files_noface/22343/1000638205.p...           22343   \n",
       "1  train_landmark_files_noface/32319/1001958254.p...           32319   \n",
       "2  train_landmark_files_noface/2044/1004782423.pa...            2044   \n",
       "3  train_landmark_files_noface/36257/1030751383.p...           36257   \n",
       "4  train_landmark_files_noface/49445/104061906.pa...           49445   \n",
       "\n",
       "   sequence_id    sign                                          file_path  \\\n",
       "0   1000638205  puzzle  ../../raw_data/asl-signs/train_landmark_files_...   \n",
       "1   1001958254      go  ../../raw_data/asl-signs/train_landmark_files_...   \n",
       "2   1004782423    look  ../../raw_data/asl-signs/train_landmark_files_...   \n",
       "3   1030751383  tongue  ../../raw_data/asl-signs/train_landmark_files_...   \n",
       "4    104061906  puzzle  ../../raw_data/asl-signs/train_landmark_files_...   \n",
       "\n",
       "   frame_parquet  \n",
       "0           19.0  \n",
       "1           24.0  \n",
       "2           24.0  \n",
       "3           12.0  \n",
       "4           48.0  "
      ]
     },
     "execution_count": 36,
     "metadata": {},
     "output_type": "execute_result"
    }
   ],
   "source": [
    "sequences_data = data.load_data_subset_csv(noface=True, frac=FRAC_DATA, balanced=True, num_signs=NUM_CLASSES)\n",
    "sequences_data = data.load_frame_number_parquet(sequences_data)\n",
    "sequences_data = preprocess.filter_out_parquet_frame(sequences_data, MAX_SEQ_LEN)\n",
    "sequences_data.head()"
   ]
  },
  {
   "cell_type": "code",
   "execution_count": 60,
   "id": "72f55457-83f6-4904-a13e-3c27fa9b829a",
   "metadata": {
    "execution": {
     "iopub.execute_input": "2024-03-20T15:58:00.457235Z",
     "iopub.status.busy": "2024-03-20T15:58:00.456014Z",
     "iopub.status.idle": "2024-03-20T15:58:00.522061Z",
     "shell.execute_reply": "2024-03-20T15:58:00.519425Z",
     "shell.execute_reply.started": "2024-03-20T15:58:00.457201Z"
    }
   },
   "outputs": [
    {
     "data": {
      "text/plain": [
       "sign\n",
       "on          92\n",
       "thirsty     90\n",
       "scissors    89\n",
       "go          88\n",
       "look        88\n",
       "tongue      88\n",
       "owl         86\n",
       "green       85\n",
       "rain        82\n",
       "puzzle      77\n",
       "Name: count, dtype: int64"
      ]
     },
     "execution_count": 60,
     "metadata": {},
     "output_type": "execute_result"
    }
   ],
   "source": [
    "sequences_data.sign.value_counts()"
   ]
  },
  {
   "cell_type": "code",
   "execution_count": 46,
   "id": "ae724751-4a3d-4be1-ada1-984e33f2e35e",
   "metadata": {
    "execution": {
     "iopub.execute_input": "2024-03-20T15:43:50.593443Z",
     "iopub.status.busy": "2024-03-20T15:43:50.592637Z",
     "iopub.status.idle": "2024-03-20T15:43:50.676935Z",
     "shell.execute_reply": "2024-03-20T15:43:50.674911Z",
     "shell.execute_reply.started": "2024-03-20T15:43:50.593403Z"
    }
   },
   "outputs": [
    {
     "data": {
      "text/plain": [
       "0      180\n",
       "1       97\n",
       "2      136\n",
       "3      222\n",
       "4      180\n",
       "      ... \n",
       "860    160\n",
       "861    102\n",
       "862    222\n",
       "863    160\n",
       "864     97\n",
       "Name: sign_encoded, Length: 865, dtype: int64"
      ]
     },
     "execution_count": 46,
     "metadata": {},
     "output_type": "execute_result"
    }
   ],
   "source": [
    "y =  preprocess.label_dictionnary_not_encoded(sequences_data) # encode the labels to numbers\n",
    "y"
   ]
  },
  {
   "cell_type": "code",
   "execution_count": 61,
   "id": "db889e22-efef-4eab-89bb-6ccadbd835e7",
   "metadata": {
    "execution": {
     "iopub.execute_input": "2024-03-20T15:58:13.401913Z",
     "iopub.status.busy": "2024-03-20T15:58:13.401189Z",
     "iopub.status.idle": "2024-03-20T15:58:13.460966Z",
     "shell.execute_reply": "2024-03-20T15:58:13.459282Z",
     "shell.execute_reply.started": "2024-03-20T15:58:13.401877Z"
    }
   },
   "outputs": [
    {
     "data": {
      "text/plain": [
       "(865, 10)"
      ]
     },
     "execution_count": 61,
     "metadata": {},
     "output_type": "execute_result"
    }
   ],
   "source": [
    "y.shape\n"
   ]
  },
  {
   "cell_type": "code",
   "execution_count": 62,
   "id": "ccd21672-8f8e-47e5-9e99-e027cb1fe378",
   "metadata": {
    "execution": {
     "iopub.execute_input": "2024-03-20T15:58:14.949263Z",
     "iopub.status.busy": "2024-03-20T15:58:14.948427Z",
     "iopub.status.idle": "2024-03-20T15:58:15.026661Z",
     "shell.execute_reply": "2024-03-20T15:58:15.025268Z",
     "shell.execute_reply.started": "2024-03-20T15:58:14.949229Z"
    }
   },
   "outputs": [],
   "source": [
    "from sklearn.model_selection import train_test_split\n",
    "\n",
    "X_files = sequences_data.file_path\n",
    "y = preprocess.label_dictionnary(sequences_data) # not very clean... needs to be iomrpoved\n",
    "\n",
    "# Train test split\n",
    "X_train_files, X_test_files, y_train, y_test = train_test_split(X_files, y, test_size=0.3, stratify=y)\n",
    "\n",
    "# Train split into train and val\n",
    "X_train_files, X_val_files, y_train, y_val = train_test_split(X_train_files, y_train, test_size=0.3, stratify=y_train)"
   ]
  },
  {
   "cell_type": "code",
   "execution_count": 73,
   "id": "46f96880-4afe-4ba4-bd42-1c45cd428086",
   "metadata": {
    "execution": {
     "iopub.execute_input": "2024-03-20T16:02:48.137866Z",
     "iopub.status.busy": "2024-03-20T16:02:48.136901Z",
     "iopub.status.idle": "2024-03-20T16:03:03.398151Z",
     "shell.execute_reply": "2024-03-20T16:03:03.396488Z",
     "shell.execute_reply.started": "2024-03-20T16:02:48.137829Z"
    }
   },
   "outputs": [],
   "source": [
    "X_train = preprocess.group_pad_sequences(pd.DataFrame(X_train_files), frame=MAX_SEQ_LEN)\n",
    "X_val = preprocess.group_pad_sequences(pd.DataFrame(X_val_files), frame=MAX_SEQ_LEN)\n",
    "X_test = preprocess.group_pad_sequences(pd.DataFrame(X_test_files), frame=MAX_SEQ_LEN)\n",
    "\n",
    "\n"
   ]
  },
  {
   "cell_type": "code",
   "execution_count": 65,
   "id": "8dd894b2-e70c-472a-b95e-0b3d79f83b28",
   "metadata": {
    "execution": {
     "iopub.execute_input": "2024-03-20T15:58:34.085528Z",
     "iopub.status.busy": "2024-03-20T15:58:34.084117Z",
     "iopub.status.idle": "2024-03-20T15:58:34.143818Z",
     "shell.execute_reply": "2024-03-20T15:58:34.141255Z",
     "shell.execute_reply.started": "2024-03-20T15:58:34.085469Z"
    }
   },
   "outputs": [],
   "source": [
    "# X_train = X_train.reshape(*X_train.shape[:-2], -1)\n",
    "# X_val = X_val.reshape(*X_val.shape[:-2], -1)\n",
    "# X_test = X_test.reshape(*X_test.shape[:-2], -1)\n"
   ]
  },
  {
   "cell_type": "code",
   "execution_count": 66,
   "id": "b6567bb5-478b-4dee-ab69-70de3004fed0",
   "metadata": {
    "execution": {
     "iopub.execute_input": "2024-03-20T15:58:36.232141Z",
     "iopub.status.busy": "2024-03-20T15:58:36.231507Z",
     "iopub.status.idle": "2024-03-20T15:58:36.279250Z",
     "shell.execute_reply": "2024-03-20T15:58:36.277692Z",
     "shell.execute_reply.started": "2024-03-20T15:58:36.232109Z"
    }
   },
   "outputs": [
    {
     "data": {
      "text/plain": [
       "(423, 100, 225)"
      ]
     },
     "execution_count": 66,
     "metadata": {},
     "output_type": "execute_result"
    }
   ],
   "source": [
    "X_train.shape"
   ]
  },
  {
   "cell_type": "markdown",
   "id": "93685323-13ec-4986-92ba-f9c1ac31c44e",
   "metadata": {},
   "source": [
    "## Model"
   ]
  },
  {
   "cell_type": "code",
   "execution_count": 72,
   "id": "2fd649ce-d54c-4e04-b0ac-e5c9f53c70af",
   "metadata": {
    "execution": {
     "iopub.execute_input": "2024-03-20T16:00:30.351288Z",
     "iopub.status.busy": "2024-03-20T16:00:30.349964Z",
     "iopub.status.idle": "2024-03-20T16:00:30.408239Z",
     "shell.execute_reply": "2024-03-20T16:00:30.406681Z",
     "shell.execute_reply.started": "2024-03-20T16:00:30.351253Z"
    }
   },
   "outputs": [
    {
     "data": {
      "text/plain": [
       "(865, 10)"
      ]
     },
     "execution_count": 72,
     "metadata": {},
     "output_type": "execute_result"
    }
   ],
   "source": [
    "y.shape"
   ]
  },
  {
   "cell_type": "code",
   "execution_count": 67,
   "id": "ca62629a-d3f6-48a7-bb9c-cdc03b1d6cfa",
   "metadata": {
    "execution": {
     "iopub.execute_input": "2024-03-20T15:58:39.151577Z",
     "iopub.status.busy": "2024-03-20T15:58:39.149990Z",
     "iopub.status.idle": "2024-03-20T15:58:39.225547Z",
     "shell.execute_reply": "2024-03-20T15:58:39.221564Z",
     "shell.execute_reply.started": "2024-03-20T15:58:39.151523Z"
    }
   },
   "outputs": [],
   "source": [
    "from tensorflow.keras import Model, Sequential\n",
    "from tensorflow.keras.callbacks import EarlyStopping\n",
    "from tensorflow.keras import models, layers, regularizers\n",
    "\n",
    "from tensorflow.keras.utils import to_categorical"
   ]
  },
  {
   "cell_type": "code",
   "execution_count": 69,
   "id": "1836c36f-02f8-468c-976a-6f2a32716c03",
   "metadata": {
    "execution": {
     "iopub.execute_input": "2024-03-20T15:59:57.860535Z",
     "iopub.status.busy": "2024-03-20T15:59:57.859358Z",
     "iopub.status.idle": "2024-03-20T16:00:14.969869Z",
     "shell.execute_reply": "2024-03-20T16:00:14.967050Z",
     "shell.execute_reply.started": "2024-03-20T15:59:57.860499Z"
    }
   },
   "outputs": [
    {
     "name": "stdout",
     "output_type": "stream",
     "text": [
      "Epoch 1/10\n",
      "\u001b[1m14/14\u001b[0m \u001b[32m━━━━━━━━━━━━━━━━━━━━\u001b[0m\u001b[37m\u001b[0m \u001b[1m5s\u001b[0m 191ms/step - accuracy: 0.0822 - loss: 0.6101 - val_accuracy: 0.1044 - val_loss: 0.3595\n",
      "Epoch 2/10\n",
      "\u001b[1m14/14\u001b[0m \u001b[32m━━━━━━━━━━━━━━━━━━━━\u001b[0m\u001b[37m\u001b[0m \u001b[1m1s\u001b[0m 81ms/step - accuracy: 0.0806 - loss: 0.3500 - val_accuracy: 0.1044 - val_loss: 0.3322\n",
      "Epoch 3/10\n",
      "\u001b[1m14/14\u001b[0m \u001b[32m━━━━━━━━━━━━━━━━━━━━\u001b[0m\u001b[37m\u001b[0m \u001b[1m1s\u001b[0m 93ms/step - accuracy: 0.0842 - loss: 0.3303 - val_accuracy: 0.1154 - val_loss: 0.3281\n",
      "Epoch 4/10\n",
      "\u001b[1m14/14\u001b[0m \u001b[32m━━━━━━━━━━━━━━━━━━━━\u001b[0m\u001b[37m\u001b[0m \u001b[1m1s\u001b[0m 81ms/step - accuracy: 0.1020 - loss: 0.3271 - val_accuracy: 0.1099 - val_loss: 0.3278\n",
      "Epoch 5/10\n",
      "\u001b[1m14/14\u001b[0m \u001b[32m━━━━━━━━━━━━━━━━━━━━\u001b[0m\u001b[37m\u001b[0m \u001b[1m1s\u001b[0m 81ms/step - accuracy: 0.0931 - loss: 0.3264 - val_accuracy: 0.1099 - val_loss: 0.3257\n",
      "Epoch 6/10\n",
      "\u001b[1m14/14\u001b[0m \u001b[32m━━━━━━━━━━━━━━━━━━━━\u001b[0m\u001b[37m\u001b[0m \u001b[1m1s\u001b[0m 89ms/step - accuracy: 0.1171 - loss: 0.3260 - val_accuracy: 0.1044 - val_loss: 0.3272\n",
      "Epoch 7/10\n",
      "\u001b[1m14/14\u001b[0m \u001b[32m━━━━━━━━━━━━━━━━━━━━\u001b[0m\u001b[37m\u001b[0m \u001b[1m1s\u001b[0m 93ms/step - accuracy: 0.0897 - loss: 0.3271 - val_accuracy: 0.1044 - val_loss: 0.3268\n",
      "Epoch 8/10\n",
      "\u001b[1m14/14\u001b[0m \u001b[32m━━━━━━━━━━━━━━━━━━━━\u001b[0m\u001b[37m\u001b[0m \u001b[1m1s\u001b[0m 101ms/step - accuracy: 0.1184 - loss: 0.3260 - val_accuracy: 0.1044 - val_loss: 0.3258\n",
      "Epoch 9/10\n",
      "\u001b[1m14/14\u001b[0m \u001b[32m━━━━━━━━━━━━━━━━━━━━\u001b[0m\u001b[37m\u001b[0m \u001b[1m1s\u001b[0m 95ms/step - accuracy: 0.0741 - loss: 0.3262 - val_accuracy: 0.0989 - val_loss: 0.3257\n",
      "Epoch 10/10\n",
      "\u001b[1m14/14\u001b[0m \u001b[32m━━━━━━━━━━━━━━━━━━━━\u001b[0m\u001b[37m\u001b[0m \u001b[1m1s\u001b[0m 91ms/step - accuracy: 0.0845 - loss: 0.3260 - val_accuracy: 0.1044 - val_loss: 0.3254\n"
     ]
    }
   ],
   "source": [
    "# 1- RNN Architecture\n",
    "model = Sequential()\n",
    "model.add(Reshape((MAX_SEQ_LEN, N_LANDMARKS_NO_FACE*3), input_shape=(MAX_SEQ_LEN, N_LANDMARKS_NO_FACE, 3)))\n",
    "model.add(layers.SimpleRNN(units=40, activation='tanh', input_shape=(MAX_SEQ_LEN, N_LANDMARKS_NO_FACE * 3)))\n",
    "model.add(layers.Dense(20, activation=\"linear\"))\n",
    "model.add(layers.Dense(20, activation=\"linear\"))\n",
    "model.add(layers.Dense(NUM_SIGNS, activation='softmax'))\n",
    "\n",
    "\n",
    "y_cat = to_categorical(y)\n",
    "\n",
    "model.compile(loss='binary_crossentropy',\n",
    "              optimizer='rmsprop',\n",
    "              metrics=['accuracy'])\n",
    "\n",
    "es = EarlyStopping(patience=10, restore_best_weights=True)\n",
    "\n",
    "history = model.fit(X_train, y_train,\n",
    "\t\t\t\tvalidation_data=(X_val, y_val),\n",
    "\t\t\t    epochs=10,\n",
    "\t\t\t    batch_size=32, \n",
    "\t\t\t    verbose=1, \n",
    "\t\t\t    callbacks = [es] # This will call the Early Stopping Criterion for each epoch\n",
    "\t\t\t)"
   ]
  },
  {
   "cell_type": "code",
   "execution_count": null,
   "id": "d2960f54-be83-4bc9-a283-65c48cee61ba",
   "metadata": {},
   "outputs": [],
   "source": [
    "model = Sequential()\n",
    "model.add(TimeDistributed(Flatten(), input_shape=(MAX_SEQ_LEN, N_LANDMARKS_NO_FACE, 3)))\n",
    "model.add(LSTM(units=128))\n",
    "model.add(Dense(num_classes, activation='softmax'))"
   ]
  }
 ],
 "metadata": {
  "kernelspec": {
   "display_name": "Python 3 (ipykernel)",
   "language": "python",
   "name": "python3"
  },
  "language_info": {
   "codemirror_mode": {
    "name": "ipython",
    "version": 3
   },
   "file_extension": ".py",
   "mimetype": "text/x-python",
   "name": "python",
   "nbconvert_exporter": "python",
   "pygments_lexer": "ipython3",
   "version": "3.10.6"
  }
 },
 "nbformat": 4,
 "nbformat_minor": 5
}

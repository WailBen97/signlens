{
 "cells": [
  {
   "cell_type": "markdown",
   "id": "ec810a73-ca9c-46aa-8e9d-57e438858f79",
   "metadata": {},
   "source": [
    "## Imports"
   ]
  },
  {
   "cell_type": "code",
   "execution_count": 1,
   "id": "071acfd0-88a8-4a6c-ad6c-43a45b2855e4",
   "metadata": {
    "execution": {
     "iopub.execute_input": "2024-03-21T09:40:06.207490Z",
     "iopub.status.busy": "2024-03-21T09:40:06.204790Z",
     "iopub.status.idle": "2024-03-21T09:40:27.237664Z",
     "shell.execute_reply": "2024-03-21T09:40:27.232244Z",
     "shell.execute_reply.started": "2024-03-21T09:40:06.207339Z"
    },
    "tags": []
   },
   "outputs": [
    {
     "name": "stderr",
     "output_type": "stream",
     "text": [
      "2024-03-21 10:40:16.013947: I tensorflow/core/platform/cpu_feature_guard.cc:210] This TensorFlow binary is optimized to use available CPU instructions in performance-critical operations.\n",
      "To enable the following instructions: AVX2 FMA, in other operations, rebuild TensorFlow with the appropriate compiler flags.\n",
      "2024-03-21 10:40:20.841413: W tensorflow/compiler/tf2tensorrt/utils/py_utils.cc:38] TF-TRT Warning: Could not find TensorRT\n"
     ]
    }
   ],
   "source": [
    "import pandas as pd\n",
    "import numpy as np\n",
    "import seaborn as sns\n",
    "import os\n",
    "import sklearn\n",
    "\n",
    "import matplotlib.pyplot as plt\n",
    "from matplotlib.animation import FuncAnimation\n",
    "\n",
    "from pathlib import Path\n",
    "from IPython.display import Image, display, Video, HTML\n",
    "from ipywidgets import interact, widgets\n",
    "\n",
    "from signlens.params import *\n",
    "from signlens.preprocessing import data, preprocess\n",
    "from utils import plot_landmarks\n",
    "\n",
    "# reload automatically python functions outside notebook\n",
    "%load_ext autoreload\n",
    "%autoreload 2"
   ]
  },
  {
   "cell_type": "markdown",
   "id": "2cdbc4f1-1997-41e9-b2e5-1cd528ae3b4e",
   "metadata": {},
   "source": [
    "## Fetch data"
   ]
  },
  {
   "cell_type": "code",
   "execution_count": 2,
   "id": "accaff0b-5973-46d4-887d-47ca07b0bb3f",
   "metadata": {
    "execution": {
     "iopub.execute_input": "2024-03-21T09:40:27.244938Z",
     "iopub.status.busy": "2024-03-21T09:40:27.243196Z",
     "iopub.status.idle": "2024-03-21T09:40:27.405995Z",
     "shell.execute_reply": "2024-03-21T09:40:27.403117Z",
     "shell.execute_reply.started": "2024-03-21T09:40:27.244825Z"
    },
    "tags": []
   },
   "outputs": [
    {
     "name": "stdout",
     "output_type": "stream",
     "text": [
      "DATA_FRAC : 0.05\n",
      "NUM_CLASSES : 10\n",
      "MAX_SEQ_LEN : 100\n"
     ]
    }
   ],
   "source": [
    "# variables loaded from .env\n",
    "print(f\"DATA_FRAC : {DATA_FRAC}\")\n",
    "print(f\"NUM_CLASSES : {NUM_CLASSES}\")\n",
    "print(f\"MAX_SEQ_LEN : {MAX_SEQ_LEN}\")"
   ]
  },
  {
   "cell_type": "code",
   "execution_count": 3,
   "id": "5d64e0c8-6924-4235-8979-e458d6b54383",
   "metadata": {
    "execution": {
     "iopub.execute_input": "2024-03-21T09:40:27.411789Z",
     "iopub.status.busy": "2024-03-21T09:40:27.410144Z",
     "iopub.status.idle": "2024-03-21T09:40:29.324267Z",
     "shell.execute_reply": "2024-03-21T09:40:29.320704Z",
     "shell.execute_reply.started": "2024-03-21T09:40:27.411710Z"
    },
    "tags": []
   },
   "outputs": [
    {
     "name": "stdout",
     "output_type": "stream",
     "text": [
      "Warning: total size smaller than requested, with 355 per sign instead of 472\n",
      "Size reduced from 94477 to 3550 (3.8%)\n",
      "File already exists, loaded matching 'sequence_id' rows.\n"
     ]
    },
    {
     "data": {
      "text/html": [
       "<div>\n",
       "<style scoped>\n",
       "    .dataframe tbody tr th:only-of-type {\n",
       "        vertical-align: middle;\n",
       "    }\n",
       "\n",
       "    .dataframe tbody tr th {\n",
       "        vertical-align: top;\n",
       "    }\n",
       "\n",
       "    .dataframe thead th {\n",
       "        text-align: right;\n",
       "    }\n",
       "</style>\n",
       "<table border=\"1\" class=\"dataframe\">\n",
       "  <thead>\n",
       "    <tr style=\"text-align: right;\">\n",
       "      <th></th>\n",
       "      <th>path</th>\n",
       "      <th>participant_id</th>\n",
       "      <th>sequence_id</th>\n",
       "      <th>sign</th>\n",
       "      <th>file_path</th>\n",
       "      <th>frame_parquet</th>\n",
       "    </tr>\n",
       "  </thead>\n",
       "  <tbody>\n",
       "    <tr>\n",
       "      <th>0</th>\n",
       "      <td>train_landmark_files_noface/62590/1000240708.p...</td>\n",
       "      <td>62590</td>\n",
       "      <td>1000240708</td>\n",
       "      <td>owie</td>\n",
       "      <td>../../raw_data/asl-signs/train_landmark_files_...</td>\n",
       "      <td>18.0</td>\n",
       "    </tr>\n",
       "    <tr>\n",
       "      <th>1</th>\n",
       "      <td>train_landmark_files_noface/36257/1000536928.p...</td>\n",
       "      <td>36257</td>\n",
       "      <td>1000536928</td>\n",
       "      <td>apple</td>\n",
       "      <td>../../raw_data/asl-signs/train_landmark_files_...</td>\n",
       "      <td>13.0</td>\n",
       "    </tr>\n",
       "    <tr>\n",
       "      <th>2</th>\n",
       "      <td>train_landmark_files_noface/26734/1001284511.p...</td>\n",
       "      <td>26734</td>\n",
       "      <td>1001284511</td>\n",
       "      <td>clean</td>\n",
       "      <td>../../raw_data/asl-signs/train_landmark_files_...</td>\n",
       "      <td>12.0</td>\n",
       "    </tr>\n",
       "    <tr>\n",
       "      <th>3</th>\n",
       "      <td>train_landmark_files_noface/53618/1001379621.p...</td>\n",
       "      <td>53618</td>\n",
       "      <td>1001379621</td>\n",
       "      <td>brother</td>\n",
       "      <td>../../raw_data/asl-signs/train_landmark_files_...</td>\n",
       "      <td>14.0</td>\n",
       "    </tr>\n",
       "    <tr>\n",
       "      <th>4</th>\n",
       "      <td>train_landmark_files_noface/37055/1003705747.p...</td>\n",
       "      <td>37055</td>\n",
       "      <td>1003705747</td>\n",
       "      <td>brother</td>\n",
       "      <td>../../raw_data/asl-signs/train_landmark_files_...</td>\n",
       "      <td>63.0</td>\n",
       "    </tr>\n",
       "  </tbody>\n",
       "</table>\n",
       "</div>"
      ],
      "text/plain": [
       "                                                path  participant_id  \\\n",
       "0  train_landmark_files_noface/62590/1000240708.p...           62590   \n",
       "1  train_landmark_files_noface/36257/1000536928.p...           36257   \n",
       "2  train_landmark_files_noface/26734/1001284511.p...           26734   \n",
       "3  train_landmark_files_noface/53618/1001379621.p...           53618   \n",
       "4  train_landmark_files_noface/37055/1003705747.p...           37055   \n",
       "\n",
       "   sequence_id     sign                                          file_path  \\\n",
       "0   1000240708     owie  ../../raw_data/asl-signs/train_landmark_files_...   \n",
       "1   1000536928    apple  ../../raw_data/asl-signs/train_landmark_files_...   \n",
       "2   1001284511    clean  ../../raw_data/asl-signs/train_landmark_files_...   \n",
       "3   1001379621  brother  ../../raw_data/asl-signs/train_landmark_files_...   \n",
       "4   1003705747  brother  ../../raw_data/asl-signs/train_landmark_files_...   \n",
       "\n",
       "   frame_parquet  \n",
       "0           18.0  \n",
       "1           13.0  \n",
       "2           12.0  \n",
       "3           14.0  \n",
       "4           63.0  "
      ]
     },
     "execution_count": 3,
     "metadata": {},
     "output_type": "execute_result"
    }
   ],
   "source": [
    "sequences_data = data.load_data_subset_csv(noface=True, balanced=True)\n",
    "sequences_data = data.load_frame_number_parquet(sequences_data)  # TODO: not very clean... needs to be improved\n",
    "sequences_data = preprocess.filter_out_parquet_frame(sequences_data, MAX_SEQ_LEN)  # TODO: not very clean... needs to be improved\n",
    "sequences_data.head()"
   ]
  },
  {
   "cell_type": "code",
   "execution_count": 4,
   "id": "72f55457-83f6-4904-a13e-3c27fa9b829a",
   "metadata": {
    "execution": {
     "iopub.execute_input": "2024-03-21T09:40:36.025950Z",
     "iopub.status.busy": "2024-03-21T09:40:36.024026Z",
     "iopub.status.idle": "2024-03-21T09:40:36.223016Z",
     "shell.execute_reply": "2024-03-21T09:40:36.217301Z",
     "shell.execute_reply.started": "2024-03-21T09:40:36.025871Z"
    },
    "tags": []
   },
   "outputs": [
    {
     "data": {
      "text/plain": [
       "sign\n",
       "clean      332\n",
       "red        330\n",
       "brother    328\n",
       "where      327\n",
       "lion       323\n",
       "talk       323\n",
       "tooth      321\n",
       "owie       315\n",
       "apple      311\n",
       "please     308\n",
       "Name: count, dtype: int64"
      ]
     },
     "execution_count": 4,
     "metadata": {},
     "output_type": "execute_result"
    }
   ],
   "source": [
    "sequences_data.sign.value_counts()"
   ]
  },
  {
   "cell_type": "code",
   "execution_count": 8,
   "id": "ccd21672-8f8e-47e5-9e99-e027cb1fe378",
   "metadata": {
    "execution": {
     "iopub.execute_input": "2024-03-21T09:42:25.927992Z",
     "iopub.status.busy": "2024-03-21T09:42:25.923744Z",
     "iopub.status.idle": "2024-03-21T09:42:26.166187Z",
     "shell.execute_reply": "2024-03-21T09:42:26.161328Z",
     "shell.execute_reply.started": "2024-03-21T09:42:25.927813Z"
    },
    "tags": []
   },
   "outputs": [],
   "source": [
    "from sklearn.model_selection import train_test_split\n",
    "\n",
    "X_files = sequences_data.file_path\n",
    "y = preprocess.label_dictionnary(sequences_data°\n",
    "\n",
    "# Train test split\n",
    "X_train_files, X_test_files, y_train, y_test = train_test_split(X_files, y, test_size=0.3, stratify=y)\n",
    "\n",
    "# Train split into train and val\n",
    "X_train_files, X_val_files, y_train, y_val = train_test_split(X_train_files, y_train, test_size=0.3, stratify=y_train)"
   ]
  },
  {
   "cell_type": "code",
   "execution_count": 6,
   "id": "ff95a6da-fbb8-4261-a278-73f0f228df44",
   "metadata": {
    "execution": {
     "iopub.execute_input": "2024-03-21T09:41:00.123708Z",
     "iopub.status.busy": "2024-03-21T09:41:00.121738Z",
     "iopub.status.idle": "2024-03-21T09:41:00.330381Z",
     "shell.execute_reply": "2024-03-21T09:41:00.324421Z",
     "shell.execute_reply.started": "2024-03-21T09:41:00.123606Z"
    },
    "tags": []
   },
   "outputs": [
    {
     "data": {
      "text/plain": [
       "74      ../../raw_data/asl-signs/train_landmark_files_...\n",
       "532     ../../raw_data/asl-signs/train_landmark_files_...\n",
       "1387    ../../raw_data/asl-signs/train_landmark_files_...\n",
       "1781    ../../raw_data/asl-signs/train_landmark_files_...\n",
       "3183    ../../raw_data/asl-signs/train_landmark_files_...\n",
       "                              ...                        \n",
       "343     ../../raw_data/asl-signs/train_landmark_files_...\n",
       "782     ../../raw_data/asl-signs/train_landmark_files_...\n",
       "2103    ../../raw_data/asl-signs/train_landmark_files_...\n",
       "610     ../../raw_data/asl-signs/train_landmark_files_...\n",
       "1469    ../../raw_data/asl-signs/train_landmark_files_...\n",
       "Name: file_path, Length: 1576, dtype: object"
      ]
     },
     "execution_count": 10,
     "metadata": {},
     "output_type": "execute_result"
    }
   ],
   "source": [
    "X_train_files"
   ]
  },
  {
   "cell_type": "code",
   "execution_count": 8,
   "id": "46f96880-4afe-4ba4-bd42-1c45cd428086",
   "metadata": {
    "execution": {
     "iopub.execute_input": "2024-03-20T21:21:22.833470Z",
     "iopub.status.busy": "2024-03-20T21:21:22.833010Z",
     "iopub.status.idle": "2024-03-20T21:21:47.678661Z",
     "shell.execute_reply": "2024-03-20T21:21:47.677635Z",
     "shell.execute_reply.started": "2024-03-20T21:21:22.833445Z"
    },
    "scrolled": true,
    "tags": []
   },
   "outputs": [],
   "source": [
    "# TODO: rewrite group_pad_sequences to allow taking numpy dataframe\n",
    "\n",
    "X_train = preprocess.group_pad_sequences(pd.DataFrame(X_train_files))\n",
    "X_val = preprocess.group_pad_sequences(pd.DataFrame(X_val_files))\n",
    "X_test = preprocess.group_pad_sequences(pd.DataFrame(X_test_files))\n"
   ]
  },
  {
   "cell_type": "code",
   "execution_count": 9,
   "id": "8dd894b2-e70c-472a-b95e-0b3d79f83b28",
   "metadata": {
    "execution": {
     "iopub.execute_input": "2024-03-20T21:21:47.679685Z",
     "iopub.status.busy": "2024-03-20T21:21:47.679441Z",
     "iopub.status.idle": "2024-03-20T21:21:47.725260Z",
     "shell.execute_reply": "2024-03-20T21:21:47.723836Z",
     "shell.execute_reply.started": "2024-03-20T21:21:47.679660Z"
    },
    "tags": []
   },
   "outputs": [],
   "source": [
    "# X_train = X_train.reshape(*X_train.shape[:-2], -1)\n",
    "# X_val = X_val.reshape(*X_val.shape[:-2], -1)\n",
    "# X_test = X_test.reshape(*X_test.shape[:-2], -1)\n"
   ]
  },
  {
   "cell_type": "code",
   "execution_count": 10,
   "id": "b6567bb5-478b-4dee-ab69-70de3004fed0",
   "metadata": {
    "execution": {
     "iopub.execute_input": "2024-03-20T21:21:47.731563Z",
     "iopub.status.busy": "2024-03-20T21:21:47.729939Z",
     "iopub.status.idle": "2024-03-20T21:21:47.776576Z",
     "shell.execute_reply": "2024-03-20T21:21:47.775498Z",
     "shell.execute_reply.started": "2024-03-20T21:21:47.731514Z"
    },
    "tags": []
   },
   "outputs": [
    {
     "data": {
      "text/plain": [
       "(1500, 100, 75, 3)"
      ]
     },
     "execution_count": 10,
     "metadata": {},
     "output_type": "execute_result"
    }
   ],
   "source": [
    "X_train.shape"
   ]
  },
  {
   "cell_type": "code",
   "execution_count": 11,
   "id": "2fd649ce-d54c-4e04-b0ac-e5c9f53c70af",
   "metadata": {
    "execution": {
     "iopub.execute_input": "2024-03-20T21:21:47.778091Z",
     "iopub.status.busy": "2024-03-20T21:21:47.777788Z",
     "iopub.status.idle": "2024-03-20T21:21:47.821468Z",
     "shell.execute_reply": "2024-03-20T21:21:47.820301Z",
     "shell.execute_reply.started": "2024-03-20T21:21:47.778062Z"
    },
    "tags": []
   },
   "outputs": [
    {
     "data": {
      "text/plain": [
       "(1500, 10)"
      ]
     },
     "execution_count": 11,
     "metadata": {},
     "output_type": "execute_result"
    }
   ],
   "source": [
    "y_train.shape"
   ]
  },
  {
   "cell_type": "markdown",
   "id": "93685323-13ec-4986-92ba-f9c1ac31c44e",
   "metadata": {},
   "source": [
    "## Model"
   ]
  },
  {
   "cell_type": "code",
   "execution_count": 12,
   "id": "ca62629a-d3f6-48a7-bb9c-cdc03b1d6cfa",
   "metadata": {
    "execution": {
     "iopub.execute_input": "2024-03-20T21:21:47.823048Z",
     "iopub.status.busy": "2024-03-20T21:21:47.822734Z",
     "iopub.status.idle": "2024-03-20T21:21:47.869877Z",
     "shell.execute_reply": "2024-03-20T21:21:47.868584Z",
     "shell.execute_reply.started": "2024-03-20T21:21:47.823020Z"
    },
    "tags": []
   },
   "outputs": [],
   "source": [
    "from tensorflow.keras import Model, Sequential\n",
    "from tensorflow.keras.callbacks import EarlyStopping\n",
    "from tensorflow.keras import models, layers, regularizers\n",
    "\n",
    "from tensorflow.keras.utils import to_categorical"
   ]
  },
  {
   "cell_type": "code",
   "execution_count": 13,
   "id": "1836c36f-02f8-468c-976a-6f2a32716c03",
   "metadata": {
    "execution": {
     "iopub.execute_input": "2024-03-20T21:21:47.872903Z",
     "iopub.status.busy": "2024-03-20T21:21:47.871833Z",
     "iopub.status.idle": "2024-03-20T21:21:49.367122Z",
     "shell.execute_reply": "2024-03-20T21:21:49.365957Z",
     "shell.execute_reply.started": "2024-03-20T21:21:47.872865Z"
    },
    "tags": []
   },
   "outputs": [
    {
     "name": "stderr",
     "output_type": "stream",
     "text": [
      "/home/bfrisque/.pyenv/versions/3.10.6/envs/signlens/lib/python3.10/site-packages/keras/src/layers/reshaping/reshape.py:39: UserWarning: Do not pass an `input_shape`/`input_dim` argument to a layer. When using Sequential models, prefer using an `Input(shape)` object as the first layer in the model instead.\n",
      "  super().__init__(**kwargs)\n",
      "2024-03-20 22:21:49.248905: I external/local_xla/xla/stream_executor/cuda/cuda_executor.cc:984] could not open file to read NUMA node: /sys/bus/pci/devices/0000:01:00.0/numa_node\n",
      "Your kernel may have been built without NUMA support.\n",
      "2024-03-20 22:21:49.249422: W tensorflow/core/common_runtime/gpu/gpu_device.cc:2251] Cannot dlopen some GPU libraries. Please make sure the missing libraries mentioned above are installed properly if you would like to use GPU. Follow the guide at https://www.tensorflow.org/install/gpu for how to download and setup the required libraries for your platform.\n",
      "Skipping registering GPU devices...\n",
      "/home/bfrisque/.pyenv/versions/3.10.6/envs/signlens/lib/python3.10/site-packages/keras/src/layers/rnn/rnn.py:205: UserWarning: Do not pass an `input_shape`/`input_dim` argument to a layer. When using Sequential models, prefer using an `Input(shape)` object as the first layer in the model instead.\n",
      "  super().__init__(**kwargs)\n"
     ]
    },
    {
     "data": {
      "text/html": [
       "<pre style=\"white-space:pre;overflow-x:auto;line-height:normal;font-family:Menlo,'DejaVu Sans Mono',consolas,'Courier New',monospace\"><span style=\"font-weight: bold\">Model: \"sequential\"</span>\n",
       "</pre>\n"
      ],
      "text/plain": [
       "\u001b[1mModel: \"sequential\"\u001b[0m\n"
      ]
     },
     "metadata": {},
     "output_type": "display_data"
    },
    {
     "data": {
      "text/html": [
       "<pre style=\"white-space:pre;overflow-x:auto;line-height:normal;font-family:Menlo,'DejaVu Sans Mono',consolas,'Courier New',monospace\">┏━━━━━━━━━━━━━━━━━━━━━━━━━━━━━━━━━┳━━━━━━━━━━━━━━━━━━━━━━━━┳━━━━━━━━━━━━━━━┓\n",
       "┃<span style=\"font-weight: bold\"> Layer (type)                    </span>┃<span style=\"font-weight: bold\"> Output Shape           </span>┃<span style=\"font-weight: bold\">       Param # </span>┃\n",
       "┡━━━━━━━━━━━━━━━━━━━━━━━━━━━━━━━━━╇━━━━━━━━━━━━━━━━━━━━━━━━╇━━━━━━━━━━━━━━━┩\n",
       "│ reshape (<span style=\"color: #0087ff; text-decoration-color: #0087ff\">Reshape</span>)               │ (<span style=\"color: #00d7ff; text-decoration-color: #00d7ff\">None</span>, <span style=\"color: #00af00; text-decoration-color: #00af00\">100</span>, <span style=\"color: #00af00; text-decoration-color: #00af00\">225</span>)       │             <span style=\"color: #00af00; text-decoration-color: #00af00\">0</span> │\n",
       "├─────────────────────────────────┼────────────────────────┼───────────────┤\n",
       "│ masking (<span style=\"color: #0087ff; text-decoration-color: #0087ff\">Masking</span>)               │ (<span style=\"color: #00d7ff; text-decoration-color: #00d7ff\">None</span>, <span style=\"color: #00af00; text-decoration-color: #00af00\">100</span>, <span style=\"color: #00af00; text-decoration-color: #00af00\">225</span>)       │             <span style=\"color: #00af00; text-decoration-color: #00af00\">0</span> │\n",
       "├─────────────────────────────────┼────────────────────────┼───────────────┤\n",
       "│ simple_rnn (<span style=\"color: #0087ff; text-decoration-color: #0087ff\">SimpleRNN</span>)          │ (<span style=\"color: #00d7ff; text-decoration-color: #00d7ff\">None</span>, <span style=\"color: #00af00; text-decoration-color: #00af00\">40</span>)             │        <span style=\"color: #00af00; text-decoration-color: #00af00\">10,640</span> │\n",
       "├─────────────────────────────────┼────────────────────────┼───────────────┤\n",
       "│ dense (<span style=\"color: #0087ff; text-decoration-color: #0087ff\">Dense</span>)                   │ (<span style=\"color: #00d7ff; text-decoration-color: #00d7ff\">None</span>, <span style=\"color: #00af00; text-decoration-color: #00af00\">20</span>)             │           <span style=\"color: #00af00; text-decoration-color: #00af00\">820</span> │\n",
       "├─────────────────────────────────┼────────────────────────┼───────────────┤\n",
       "│ dense_1 (<span style=\"color: #0087ff; text-decoration-color: #0087ff\">Dense</span>)                 │ (<span style=\"color: #00d7ff; text-decoration-color: #00d7ff\">None</span>, <span style=\"color: #00af00; text-decoration-color: #00af00\">20</span>)             │           <span style=\"color: #00af00; text-decoration-color: #00af00\">420</span> │\n",
       "├─────────────────────────────────┼────────────────────────┼───────────────┤\n",
       "│ dense_2 (<span style=\"color: #0087ff; text-decoration-color: #0087ff\">Dense</span>)                 │ (<span style=\"color: #00d7ff; text-decoration-color: #00d7ff\">None</span>, <span style=\"color: #00af00; text-decoration-color: #00af00\">10</span>)             │           <span style=\"color: #00af00; text-decoration-color: #00af00\">210</span> │\n",
       "└─────────────────────────────────┴────────────────────────┴───────────────┘\n",
       "</pre>\n"
      ],
      "text/plain": [
       "┏━━━━━━━━━━━━━━━━━━━━━━━━━━━━━━━━━┳━━━━━━━━━━━━━━━━━━━━━━━━┳━━━━━━━━━━━━━━━┓\n",
       "┃\u001b[1m \u001b[0m\u001b[1mLayer (type)                   \u001b[0m\u001b[1m \u001b[0m┃\u001b[1m \u001b[0m\u001b[1mOutput Shape          \u001b[0m\u001b[1m \u001b[0m┃\u001b[1m \u001b[0m\u001b[1m      Param #\u001b[0m\u001b[1m \u001b[0m┃\n",
       "┡━━━━━━━━━━━━━━━━━━━━━━━━━━━━━━━━━╇━━━━━━━━━━━━━━━━━━━━━━━━╇━━━━━━━━━━━━━━━┩\n",
       "│ reshape (\u001b[38;5;33mReshape\u001b[0m)               │ (\u001b[38;5;45mNone\u001b[0m, \u001b[38;5;34m100\u001b[0m, \u001b[38;5;34m225\u001b[0m)       │             \u001b[38;5;34m0\u001b[0m │\n",
       "├─────────────────────────────────┼────────────────────────┼───────────────┤\n",
       "│ masking (\u001b[38;5;33mMasking\u001b[0m)               │ (\u001b[38;5;45mNone\u001b[0m, \u001b[38;5;34m100\u001b[0m, \u001b[38;5;34m225\u001b[0m)       │             \u001b[38;5;34m0\u001b[0m │\n",
       "├─────────────────────────────────┼────────────────────────┼───────────────┤\n",
       "│ simple_rnn (\u001b[38;5;33mSimpleRNN\u001b[0m)          │ (\u001b[38;5;45mNone\u001b[0m, \u001b[38;5;34m40\u001b[0m)             │        \u001b[38;5;34m10,640\u001b[0m │\n",
       "├─────────────────────────────────┼────────────────────────┼───────────────┤\n",
       "│ dense (\u001b[38;5;33mDense\u001b[0m)                   │ (\u001b[38;5;45mNone\u001b[0m, \u001b[38;5;34m20\u001b[0m)             │           \u001b[38;5;34m820\u001b[0m │\n",
       "├─────────────────────────────────┼────────────────────────┼───────────────┤\n",
       "│ dense_1 (\u001b[38;5;33mDense\u001b[0m)                 │ (\u001b[38;5;45mNone\u001b[0m, \u001b[38;5;34m20\u001b[0m)             │           \u001b[38;5;34m420\u001b[0m │\n",
       "├─────────────────────────────────┼────────────────────────┼───────────────┤\n",
       "│ dense_2 (\u001b[38;5;33mDense\u001b[0m)                 │ (\u001b[38;5;45mNone\u001b[0m, \u001b[38;5;34m10\u001b[0m)             │           \u001b[38;5;34m210\u001b[0m │\n",
       "└─────────────────────────────────┴────────────────────────┴───────────────┘\n"
      ]
     },
     "metadata": {},
     "output_type": "display_data"
    },
    {
     "data": {
      "text/html": [
       "<pre style=\"white-space:pre;overflow-x:auto;line-height:normal;font-family:Menlo,'DejaVu Sans Mono',consolas,'Courier New',monospace\"><span style=\"font-weight: bold\"> Total params: </span><span style=\"color: #00af00; text-decoration-color: #00af00\">12,090</span> (47.23 KB)\n",
       "</pre>\n"
      ],
      "text/plain": [
       "\u001b[1m Total params: \u001b[0m\u001b[38;5;34m12,090\u001b[0m (47.23 KB)\n"
      ]
     },
     "metadata": {},
     "output_type": "display_data"
    },
    {
     "data": {
      "text/html": [
       "<pre style=\"white-space:pre;overflow-x:auto;line-height:normal;font-family:Menlo,'DejaVu Sans Mono',consolas,'Courier New',monospace\"><span style=\"font-weight: bold\"> Trainable params: </span><span style=\"color: #00af00; text-decoration-color: #00af00\">12,090</span> (47.23 KB)\n",
       "</pre>\n"
      ],
      "text/plain": [
       "\u001b[1m Trainable params: \u001b[0m\u001b[38;5;34m12,090\u001b[0m (47.23 KB)\n"
      ]
     },
     "metadata": {},
     "output_type": "display_data"
    },
    {
     "data": {
      "text/html": [
       "<pre style=\"white-space:pre;overflow-x:auto;line-height:normal;font-family:Menlo,'DejaVu Sans Mono',consolas,'Courier New',monospace\"><span style=\"font-weight: bold\"> Non-trainable params: </span><span style=\"color: #00af00; text-decoration-color: #00af00\">0</span> (0.00 B)\n",
       "</pre>\n"
      ],
      "text/plain": [
       "\u001b[1m Non-trainable params: \u001b[0m\u001b[38;5;34m0\u001b[0m (0.00 B)\n"
      ]
     },
     "metadata": {},
     "output_type": "display_data"
    }
   ],
   "source": [
    "# 1- RNN Architecture\n",
    "model = Sequential()\n",
    "model.\n",
    "model.add(layers.Reshape((MAX_SEQ_LEN, N_LANDMARKS_NO_FACE*3), input_shape=(MAX_SEQ_LEN, N_LANDMARKS_NO_FACE, 3)))\n",
    "model.add(layers.Masking(mask_value=0.0))\n",
    "\n",
    "model.add(layers.SimpleRNN(units=40, activation='tanh', input_shape=(MAX_SEQ_LEN, N_LANDMARKS_NO_FACE * 3)))\n",
    "model.add(layers.Dense(20, activation=\"linear\"))\n",
    "model.add(layers.Dense(20, activation=\"linear\"))\n",
    "model.add(layers.Dense(NUM_CLASSES, activation='softmax'))\n",
    "\n",
    "\n",
    "y_cat = to_categorical(y)\n",
    "\n",
    "model.compile(loss='binary_crossentropy',\n",
    "              optimizer='rmsprop',\n",
    "              metrics=['accuracy'])\n",
    "\n",
    "model.summary()"
   ]
  },
  {
   "cell_type": "code",
   "execution_count": 14,
   "id": "3636205c-7066-4820-8ac1-59e1d506c84d",
   "metadata": {
    "execution": {
     "iopub.execute_input": "2024-03-20T21:21:49.369036Z",
     "iopub.status.busy": "2024-03-20T21:21:49.368525Z",
     "iopub.status.idle": "2024-03-20T21:23:48.084753Z",
     "shell.execute_reply": "2024-03-20T21:23:48.082572Z",
     "shell.execute_reply.started": "2024-03-20T21:21:49.369008Z"
    },
    "tags": []
   },
   "outputs": [
    {
     "name": "stdout",
     "output_type": "stream",
     "text": [
      "Epoch 1/100\n",
      "\u001b[1m47/47\u001b[0m \u001b[32m━━━━━━━━━━━━━━━━━━━━\u001b[0m\u001b[37m\u001b[0m \u001b[1m5s\u001b[0m 63ms/step - accuracy: 0.1109 - loss: 0.3740 - val_accuracy: 0.1087 - val_loss: 0.3272\n",
      "Epoch 2/100\n",
      "\u001b[1m47/47\u001b[0m \u001b[32m━━━━━━━━━━━━━━━━━━━━\u001b[0m\u001b[37m\u001b[0m \u001b[1m2s\u001b[0m 43ms/step - accuracy: 0.1448 - loss: 0.3245 - val_accuracy: 0.1258 - val_loss: 0.3310\n",
      "Epoch 3/100\n",
      "\u001b[1m47/47\u001b[0m \u001b[32m━━━━━━━━━━━━━━━━━━━━\u001b[0m\u001b[37m\u001b[0m \u001b[1m2s\u001b[0m 40ms/step - accuracy: 0.1668 - loss: 0.3203 - val_accuracy: 0.1630 - val_loss: 0.3209\n",
      "Epoch 4/100\n",
      "\u001b[1m47/47\u001b[0m \u001b[32m━━━━━━━━━━━━━━━━━━━━\u001b[0m\u001b[37m\u001b[0m \u001b[1m2s\u001b[0m 40ms/step - accuracy: 0.1722 - loss: 0.3170 - val_accuracy: 0.1770 - val_loss: 0.3203\n",
      "Epoch 5/100\n",
      "\u001b[1m47/47\u001b[0m \u001b[32m━━━━━━━━━━━━━━━━━━━━\u001b[0m\u001b[37m\u001b[0m \u001b[1m2s\u001b[0m 48ms/step - accuracy: 0.2022 - loss: 0.3105 - val_accuracy: 0.1755 - val_loss: 0.3195\n",
      "Epoch 6/100\n",
      "\u001b[1m47/47\u001b[0m \u001b[32m━━━━━━━━━━━━━━━━━━━━\u001b[0m\u001b[37m\u001b[0m \u001b[1m3s\u001b[0m 57ms/step - accuracy: 0.2106 - loss: 0.3108 - val_accuracy: 0.2143 - val_loss: 0.3119\n",
      "Epoch 7/100\n",
      "\u001b[1m47/47\u001b[0m \u001b[32m━━━━━━━━━━━━━━━━━━━━\u001b[0m\u001b[37m\u001b[0m \u001b[1m4s\u001b[0m 37ms/step - accuracy: 0.2250 - loss: 0.3011 - val_accuracy: 0.2516 - val_loss: 0.3062\n",
      "Epoch 8/100\n",
      "\u001b[1m47/47\u001b[0m \u001b[32m━━━━━━━━━━━━━━━━━━━━\u001b[0m\u001b[37m\u001b[0m \u001b[1m3s\u001b[0m 57ms/step - accuracy: 0.2642 - loss: 0.2987 - val_accuracy: 0.1801 - val_loss: 0.3144\n",
      "Epoch 9/100\n",
      "\u001b[1m47/47\u001b[0m \u001b[32m━━━━━━━━━━━━━━━━━━━━\u001b[0m\u001b[37m\u001b[0m \u001b[1m2s\u001b[0m 48ms/step - accuracy: 0.2755 - loss: 0.2934 - val_accuracy: 0.2360 - val_loss: 0.3057\n",
      "Epoch 10/100\n",
      "\u001b[1m47/47\u001b[0m \u001b[32m━━━━━━━━━━━━━━━━━━━━\u001b[0m\u001b[37m\u001b[0m \u001b[1m2s\u001b[0m 50ms/step - accuracy: 0.2880 - loss: 0.2921 - val_accuracy: 0.2624 - val_loss: 0.2995\n",
      "Epoch 11/100\n",
      "\u001b[1m47/47\u001b[0m \u001b[32m━━━━━━━━━━━━━━━━━━━━\u001b[0m\u001b[37m\u001b[0m \u001b[1m2s\u001b[0m 44ms/step - accuracy: 0.3011 - loss: 0.2877 - val_accuracy: 0.2267 - val_loss: 0.3035\n",
      "Epoch 12/100\n",
      "\u001b[1m47/47\u001b[0m \u001b[32m━━━━━━━━━━━━━━━━━━━━\u001b[0m\u001b[37m\u001b[0m \u001b[1m2s\u001b[0m 46ms/step - accuracy: 0.2804 - loss: 0.2918 - val_accuracy: 0.2438 - val_loss: 0.3034\n",
      "Epoch 13/100\n",
      "\u001b[1m47/47\u001b[0m \u001b[32m━━━━━━━━━━━━━━━━━━━━\u001b[0m\u001b[37m\u001b[0m \u001b[1m2s\u001b[0m 44ms/step - accuracy: 0.3155 - loss: 0.2844 - val_accuracy: 0.1661 - val_loss: 0.3296\n",
      "Epoch 14/100\n",
      "\u001b[1m47/47\u001b[0m \u001b[32m━━━━━━━━━━━━━━━━━━━━\u001b[0m\u001b[37m\u001b[0m \u001b[1m2s\u001b[0m 42ms/step - accuracy: 0.3094 - loss: 0.2845 - val_accuracy: 0.2345 - val_loss: 0.3076\n",
      "Epoch 15/100\n",
      "\u001b[1m47/47\u001b[0m \u001b[32m━━━━━━━━━━━━━━━━━━━━\u001b[0m\u001b[37m\u001b[0m \u001b[1m3s\u001b[0m 54ms/step - accuracy: 0.3078 - loss: 0.2838 - val_accuracy: 0.2096 - val_loss: 0.3145\n",
      "Epoch 16/100\n",
      "\u001b[1m47/47\u001b[0m \u001b[32m━━━━━━━━━━━━━━━━━━━━\u001b[0m\u001b[37m\u001b[0m \u001b[1m3s\u001b[0m 64ms/step - accuracy: 0.3121 - loss: 0.2852 - val_accuracy: 0.2376 - val_loss: 0.3022\n",
      "Epoch 17/100\n",
      "\u001b[1m47/47\u001b[0m \u001b[32m━━━━━━━━━━━━━━━━━━━━\u001b[0m\u001b[37m\u001b[0m \u001b[1m3s\u001b[0m 56ms/step - accuracy: 0.3428 - loss: 0.2734 - val_accuracy: 0.2624 - val_loss: 0.2991\n",
      "Epoch 18/100\n",
      "\u001b[1m47/47\u001b[0m \u001b[32m━━━━━━━━━━━━━━━━━━━━\u001b[0m\u001b[37m\u001b[0m \u001b[1m2s\u001b[0m 50ms/step - accuracy: 0.3256 - loss: 0.2809 - val_accuracy: 0.2842 - val_loss: 0.2914\n",
      "Epoch 19/100\n",
      "\u001b[1m47/47\u001b[0m \u001b[32m━━━━━━━━━━━━━━━━━━━━\u001b[0m\u001b[37m\u001b[0m \u001b[1m2s\u001b[0m 43ms/step - accuracy: 0.3429 - loss: 0.2719 - val_accuracy: 0.2950 - val_loss: 0.2884\n",
      "Epoch 20/100\n",
      "\u001b[1m47/47\u001b[0m \u001b[32m━━━━━━━━━━━━━━━━━━━━\u001b[0m\u001b[37m\u001b[0m \u001b[1m3s\u001b[0m 53ms/step - accuracy: 0.3551 - loss: 0.2719 - val_accuracy: 0.2811 - val_loss: 0.2991\n",
      "Epoch 21/100\n",
      "\u001b[1m47/47\u001b[0m \u001b[32m━━━━━━━━━━━━━━━━━━━━\u001b[0m\u001b[37m\u001b[0m \u001b[1m3s\u001b[0m 66ms/step - accuracy: 0.3509 - loss: 0.2719 - val_accuracy: 0.2811 - val_loss: 0.3006\n",
      "Epoch 22/100\n",
      "\u001b[1m47/47\u001b[0m \u001b[32m━━━━━━━━━━━━━━━━━━━━\u001b[0m\u001b[37m\u001b[0m \u001b[1m2s\u001b[0m 49ms/step - accuracy: 0.3619 - loss: 0.2682 - val_accuracy: 0.2842 - val_loss: 0.2920\n",
      "Epoch 23/100\n",
      "\u001b[1m47/47\u001b[0m \u001b[32m━━━━━━━━━━━━━━━━━━━━\u001b[0m\u001b[37m\u001b[0m \u001b[1m2s\u001b[0m 47ms/step - accuracy: 0.3579 - loss: 0.2662 - val_accuracy: 0.2640 - val_loss: 0.3014\n",
      "Epoch 24/100\n",
      "\u001b[1m47/47\u001b[0m \u001b[32m━━━━━━━━━━━━━━━━━━━━\u001b[0m\u001b[37m\u001b[0m \u001b[1m2s\u001b[0m 40ms/step - accuracy: 0.3662 - loss: 0.2711 - val_accuracy: 0.3121 - val_loss: 0.2884\n",
      "Epoch 25/100\n",
      "\u001b[1m47/47\u001b[0m \u001b[32m━━━━━━━━━━━━━━━━━━━━\u001b[0m\u001b[37m\u001b[0m \u001b[1m2s\u001b[0m 41ms/step - accuracy: 0.3932 - loss: 0.2619 - val_accuracy: 0.2842 - val_loss: 0.2912\n",
      "Epoch 26/100\n",
      "\u001b[1m47/47\u001b[0m \u001b[32m━━━━━━━━━━━━━━━━━━━━\u001b[0m\u001b[37m\u001b[0m \u001b[1m2s\u001b[0m 40ms/step - accuracy: 0.3795 - loss: 0.2624 - val_accuracy: 0.2904 - val_loss: 0.2909\n",
      "Epoch 27/100\n",
      "\u001b[1m47/47\u001b[0m \u001b[32m━━━━━━━━━━━━━━━━━━━━\u001b[0m\u001b[37m\u001b[0m \u001b[1m2s\u001b[0m 41ms/step - accuracy: 0.4000 - loss: 0.2592 - val_accuracy: 0.2935 - val_loss: 0.3012\n",
      "Epoch 28/100\n",
      "\u001b[1m47/47\u001b[0m \u001b[32m━━━━━━━━━━━━━━━━━━━━\u001b[0m\u001b[37m\u001b[0m \u001b[1m2s\u001b[0m 40ms/step - accuracy: 0.4010 - loss: 0.2586 - val_accuracy: 0.3121 - val_loss: 0.2949\n",
      "Epoch 29/100\n",
      "\u001b[1m47/47\u001b[0m \u001b[32m━━━━━━━━━━━━━━━━━━━━\u001b[0m\u001b[37m\u001b[0m \u001b[1m2s\u001b[0m 41ms/step - accuracy: 0.3986 - loss: 0.2613 - val_accuracy: 0.3090 - val_loss: 0.2879\n",
      "Epoch 30/100\n",
      "\u001b[1m47/47\u001b[0m \u001b[32m━━━━━━━━━━━━━━━━━━━━\u001b[0m\u001b[37m\u001b[0m \u001b[1m2s\u001b[0m 41ms/step - accuracy: 0.4008 - loss: 0.2558 - val_accuracy: 0.2919 - val_loss: 0.2938\n",
      "Epoch 31/100\n",
      "\u001b[1m47/47\u001b[0m \u001b[32m━━━━━━━━━━━━━━━━━━━━\u001b[0m\u001b[37m\u001b[0m \u001b[1m2s\u001b[0m 45ms/step - accuracy: 0.4257 - loss: 0.2578 - val_accuracy: 0.2562 - val_loss: 0.3062\n",
      "Epoch 32/100\n",
      "\u001b[1m47/47\u001b[0m \u001b[32m━━━━━━━━━━━━━━━━━━━━\u001b[0m\u001b[37m\u001b[0m \u001b[1m2s\u001b[0m 41ms/step - accuracy: 0.3923 - loss: 0.2611 - val_accuracy: 0.3168 - val_loss: 0.2843\n",
      "Epoch 33/100\n",
      "\u001b[1m47/47\u001b[0m \u001b[32m━━━━━━━━━━━━━━━━━━━━\u001b[0m\u001b[37m\u001b[0m \u001b[1m2s\u001b[0m 40ms/step - accuracy: 0.3955 - loss: 0.2604 - val_accuracy: 0.2562 - val_loss: 0.3153\n",
      "Epoch 34/100\n",
      "\u001b[1m47/47\u001b[0m \u001b[32m━━━━━━━━━━━━━━━━━━━━\u001b[0m\u001b[37m\u001b[0m \u001b[1m2s\u001b[0m 42ms/step - accuracy: 0.4603 - loss: 0.2484 - val_accuracy: 0.3245 - val_loss: 0.2840\n",
      "Epoch 35/100\n",
      "\u001b[1m47/47\u001b[0m \u001b[32m━━━━━━━━━━━━━━━━━━━━\u001b[0m\u001b[37m\u001b[0m \u001b[1m2s\u001b[0m 47ms/step - accuracy: 0.4335 - loss: 0.2539 - val_accuracy: 0.3199 - val_loss: 0.2823\n",
      "Epoch 36/100\n",
      "\u001b[1m47/47\u001b[0m \u001b[32m━━━━━━━━━━━━━━━━━━━━\u001b[0m\u001b[37m\u001b[0m \u001b[1m2s\u001b[0m 47ms/step - accuracy: 0.4422 - loss: 0.2483 - val_accuracy: 0.3385 - val_loss: 0.2859\n",
      "Epoch 37/100\n",
      "\u001b[1m47/47\u001b[0m \u001b[32m━━━━━━━━━━━━━━━━━━━━\u001b[0m\u001b[37m\u001b[0m \u001b[1m2s\u001b[0m 42ms/step - accuracy: 0.4409 - loss: 0.2494 - val_accuracy: 0.3385 - val_loss: 0.2808\n",
      "Epoch 38/100\n",
      "\u001b[1m47/47\u001b[0m \u001b[32m━━━━━━━━━━━━━━━━━━━━\u001b[0m\u001b[37m\u001b[0m \u001b[1m2s\u001b[0m 43ms/step - accuracy: 0.4596 - loss: 0.2446 - val_accuracy: 0.3199 - val_loss: 0.2795\n",
      "Epoch 39/100\n",
      "\u001b[1m47/47\u001b[0m \u001b[32m━━━━━━━━━━━━━━━━━━━━\u001b[0m\u001b[37m\u001b[0m \u001b[1m2s\u001b[0m 42ms/step - accuracy: 0.4247 - loss: 0.2509 - val_accuracy: 0.3509 - val_loss: 0.2826\n",
      "Epoch 40/100\n",
      "\u001b[1m47/47\u001b[0m \u001b[32m━━━━━━━━━━━━━━━━━━━━\u001b[0m\u001b[37m\u001b[0m \u001b[1m2s\u001b[0m 42ms/step - accuracy: 0.4348 - loss: 0.2543 - val_accuracy: 0.3168 - val_loss: 0.2803\n",
      "Epoch 41/100\n",
      "\u001b[1m47/47\u001b[0m \u001b[32m━━━━━━━━━━━━━━━━━━━━\u001b[0m\u001b[37m\u001b[0m \u001b[1m2s\u001b[0m 42ms/step - accuracy: 0.4470 - loss: 0.2472 - val_accuracy: 0.3183 - val_loss: 0.2879\n",
      "Epoch 42/100\n",
      "\u001b[1m47/47\u001b[0m \u001b[32m━━━━━━━━━━━━━━━━━━━━\u001b[0m\u001b[37m\u001b[0m \u001b[1m2s\u001b[0m 42ms/step - accuracy: 0.4771 - loss: 0.2380 - val_accuracy: 0.3634 - val_loss: 0.2761\n",
      "Epoch 43/100\n",
      "\u001b[1m47/47\u001b[0m \u001b[32m━━━━━━━━━━━━━━━━━━━━\u001b[0m\u001b[37m\u001b[0m \u001b[1m2s\u001b[0m 43ms/step - accuracy: 0.4545 - loss: 0.2400 - val_accuracy: 0.3525 - val_loss: 0.2769\n",
      "Epoch 44/100\n",
      "\u001b[1m47/47\u001b[0m \u001b[32m━━━━━━━━━━━━━━━━━━━━\u001b[0m\u001b[37m\u001b[0m \u001b[1m2s\u001b[0m 42ms/step - accuracy: 0.4721 - loss: 0.2374 - val_accuracy: 0.2950 - val_loss: 0.3036\n",
      "Epoch 45/100\n",
      "\u001b[1m47/47\u001b[0m \u001b[32m━━━━━━━━━━━━━━━━━━━━\u001b[0m\u001b[37m\u001b[0m \u001b[1m2s\u001b[0m 44ms/step - accuracy: 0.4771 - loss: 0.2352 - val_accuracy: 0.3370 - val_loss: 0.2787\n",
      "Epoch 46/100\n",
      "\u001b[1m47/47\u001b[0m \u001b[32m━━━━━━━━━━━━━━━━━━━━\u001b[0m\u001b[37m\u001b[0m \u001b[1m2s\u001b[0m 43ms/step - accuracy: 0.4757 - loss: 0.2338 - val_accuracy: 0.3276 - val_loss: 0.2807\n",
      "Epoch 47/100\n",
      "\u001b[1m47/47\u001b[0m \u001b[32m━━━━━━━━━━━━━━━━━━━━\u001b[0m\u001b[37m\u001b[0m \u001b[1m2s\u001b[0m 43ms/step - accuracy: 0.4878 - loss: 0.2340 - val_accuracy: 0.3851 - val_loss: 0.2778\n",
      "Epoch 48/100\n",
      "\u001b[1m47/47\u001b[0m \u001b[32m━━━━━━━━━━━━━━━━━━━━\u001b[0m\u001b[37m\u001b[0m \u001b[1m2s\u001b[0m 44ms/step - accuracy: 0.4785 - loss: 0.2367 - val_accuracy: 0.3261 - val_loss: 0.2906\n",
      "Epoch 49/100\n",
      "\u001b[1m47/47\u001b[0m \u001b[32m━━━━━━━━━━━━━━━━━━━━\u001b[0m\u001b[37m\u001b[0m \u001b[1m2s\u001b[0m 43ms/step - accuracy: 0.4698 - loss: 0.2322 - val_accuracy: 0.3540 - val_loss: 0.2801\n",
      "Epoch 50/100\n",
      "\u001b[1m47/47\u001b[0m \u001b[32m━━━━━━━━━━━━━━━━━━━━\u001b[0m\u001b[37m\u001b[0m \u001b[1m2s\u001b[0m 44ms/step - accuracy: 0.4431 - loss: 0.2453 - val_accuracy: 0.3090 - val_loss: 0.3000\n",
      "Epoch 51/100\n",
      "\u001b[1m47/47\u001b[0m \u001b[32m━━━━━━━━━━━━━━━━━━━━\u001b[0m\u001b[37m\u001b[0m \u001b[1m2s\u001b[0m 43ms/step - accuracy: 0.4871 - loss: 0.2292 - val_accuracy: 0.3540 - val_loss: 0.2852\n",
      "Epoch 52/100\n",
      "\u001b[1m47/47\u001b[0m \u001b[32m━━━━━━━━━━━━━━━━━━━━\u001b[0m\u001b[37m\u001b[0m \u001b[1m2s\u001b[0m 45ms/step - accuracy: 0.5049 - loss: 0.2293 - val_accuracy: 0.3618 - val_loss: 0.2804\n"
     ]
    }
   ],
   "source": [
    "# Fit model\n",
    "\n",
    "es = EarlyStopping(patience=10, restore_best_weights=True)\n",
    "\n",
    "history = model.fit(X_train, y_train,\n",
    "                    validation_data=(X_val, y_val),\n",
    "                    epochs=100,\n",
    "                    batch_size=32, \n",
    "                    verbose=1, \n",
    "                    callbacks = [es] # This will call the Early Stopping Criterion for each epoch\n",
    "                   )\n"
   ]
  },
  {
   "cell_type": "code",
   "execution_count": 18,
   "id": "c35c6599-99dd-4809-b394-f459a59f801c",
   "metadata": {
    "execution": {
     "iopub.execute_input": "2024-03-20T21:24:57.013360Z",
     "iopub.status.busy": "2024-03-20T21:24:57.012779Z",
     "iopub.status.idle": "2024-03-20T21:24:57.392650Z",
     "shell.execute_reply": "2024-03-20T21:24:57.391469Z",
     "shell.execute_reply.started": "2024-03-20T21:24:57.013332Z"
    },
    "tags": []
   },
   "outputs": [
    {
     "data": {
      "image/png": "[encoded data removed]",
      "text/plain": [
       "<Figure size 1300x400 with 2 Axes>"
      ]
     },
     "metadata": {},
     "output_type": "display_data"
    }
   ],
   "source": [
    "from utils import model_utils\n",
    "\n",
    "model_utils.plot_history(history)"
   ]
  },
  {
   "cell_type": "code",
   "execution_count": 25,
   "id": "66e7e167-b40c-4fa3-874d-0e71e2ecef25",
   "metadata": {
    "execution": {
     "iopub.execute_input": "2024-03-20T21:27:37.123472Z",
     "iopub.status.busy": "2024-03-20T21:27:37.123147Z",
     "iopub.status.idle": "2024-03-20T21:27:37.449674Z",
     "shell.execute_reply": "2024-03-20T21:27:37.448525Z",
     "shell.execute_reply.started": "2024-03-20T21:27:37.123448Z"
    },
    "tags": []
   },
   "outputs": [
    {
     "data": {
      "application/vnd.jupyter.widget-view+json": {
       "model_id": "ad61ea1a43474b9fa1ff75455aa8185d",
       "version_major": 2,
       "version_minor": 0
      },
      "text/plain": [
       "interactive(children=(FloatSlider(value=0.0, continuous_update=False, description='Y Min:', max=1.0), FloatSli…"
      ]
     },
     "metadata": {},
     "output_type": "display_data"
    }
   ],
   "source": [
    "from utils import model_utils\n",
    "\n",
    "model_utils.plot_history_interactive(history);"
   ]
  }
 ],
 "metadata": {
  "kernelspec": {
   "display_name": "Python 3 (ipykernel)",
   "language": "python",
   "name": "python3"
  },
  "language_info": {
   "codemirror_mode": {
    "name": "ipython",
    "version": 3
   },
   "file_extension": ".py",
   "mimetype": "text/x-python",
   "name": "python",
   "nbconvert_exporter": "python",
   "pygments_lexer": "ipython3",
   "version": "3.10.6"
  }
 },
 "nbformat": 4,
 "nbformat_minor": 5
}

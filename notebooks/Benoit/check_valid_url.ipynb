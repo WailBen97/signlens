{
 "cells": [
  {
   "cell_type": "code",
   "execution_count": 8,
   "id": "4a35e3d7-f584-4f00-9adf-c7db267f567b",
   "metadata": {
    "execution": {
     "iopub.execute_input": "2024-03-27T07:36:04.686972Z",
     "iopub.status.busy": "2024-03-27T07:36:04.686459Z",
     "iopub.status.idle": "2024-03-27T07:36:04.700669Z",
     "shell.execute_reply": "2024-03-27T07:36:04.699640Z",
     "shell.execute_reply.started": "2024-03-27T07:36:04.686944Z"
    },
    "tags": []
   },
   "outputs": [],
   "source": [
    "import os\n",
    "import requests\n",
    "import pandas as pd\n",
    "from tqdm import tqdm\n",
    "import concurrent.futures\n",
    "\n"
   ]
  },
  {
   "cell_type": "code",
   "execution_count": 9,
   "id": "7f5e4315-89e1-4feb-bd44-19cfd79cc3f9",
   "metadata": {
    "execution": {
     "iopub.execute_input": "2024-03-27T07:36:05.159400Z",
     "iopub.status.busy": "2024-03-27T07:36:05.159090Z",
     "iopub.status.idle": "2024-03-27T07:36:05.174429Z",
     "shell.execute_reply": "2024-03-27T07:36:05.173025Z",
     "shell.execute_reply.started": "2024-03-27T07:36:05.159376Z"
    },
    "tags": []
   },
   "outputs": [
    {
     "data": {
      "text/html": [
       "<div>\n",
       "<style scoped>\n",
       "    .dataframe tbody tr th:only-of-type {\n",
       "        vertical-align: middle;\n",
       "    }\n",
       "\n",
       "    .dataframe tbody tr th {\n",
       "        vertical-align: top;\n",
       "    }\n",
       "\n",
       "    .dataframe thead th {\n",
       "        text-align: right;\n",
       "    }\n",
       "</style>\n",
       "<table border=\"1\" class=\"dataframe\">\n",
       "  <thead>\n",
       "    <tr style=\"text-align: right;\">\n",
       "      <th></th>\n",
       "      <th>sign</th>\n",
       "      <th>url</th>\n",
       "    </tr>\n",
       "  </thead>\n",
       "  <tbody>\n",
       "    <tr>\n",
       "      <th>0</th>\n",
       "      <td>book</td>\n",
       "      <td>https://media.asldeafined.com/vocabulary/14666...</td>\n",
       "    </tr>\n",
       "    <tr>\n",
       "      <th>1</th>\n",
       "      <td>book</td>\n",
       "      <td>https://www.signingsavvy.com/signs/mp4/14/1432...</td>\n",
       "    </tr>\n",
       "    <tr>\n",
       "      <th>2</th>\n",
       "      <td>book</td>\n",
       "      <td>https://s3-us-west-1.amazonaws.com/files.start...</td>\n",
       "    </tr>\n",
       "    <tr>\n",
       "      <th>3</th>\n",
       "      <td>book</td>\n",
       "      <td>http://aslbricks.org/New/ASL-Videos/book.mp4</td>\n",
       "    </tr>\n",
       "    <tr>\n",
       "      <th>4</th>\n",
       "      <td>book</td>\n",
       "      <td>http://www.aslsearch.com/signs/videos/book.mp4</td>\n",
       "    </tr>\n",
       "    <tr>\n",
       "      <th>...</th>\n",
       "      <td>...</td>\n",
       "      <td>...</td>\n",
       "    </tr>\n",
       "    <tr>\n",
       "      <th>1471</th>\n",
       "      <td>penny</td>\n",
       "      <td>http://www.aslsearch.com/signs/videos/one-cent...</td>\n",
       "    </tr>\n",
       "    <tr>\n",
       "      <th>1472</th>\n",
       "      <td>stuck</td>\n",
       "      <td>http://www.aslsearch.com/signs/videos/stuck.mp4</td>\n",
       "    </tr>\n",
       "    <tr>\n",
       "      <th>1473</th>\n",
       "      <td>stuck</td>\n",
       "      <td>https://media.asldeafined.com/vocabulary/14688...</td>\n",
       "    </tr>\n",
       "    <tr>\n",
       "      <th>1474</th>\n",
       "      <td>stuck</td>\n",
       "      <td>https://www.signingsavvy.com/signs/mp4/8/8099.mp4</td>\n",
       "    </tr>\n",
       "    <tr>\n",
       "      <th>1475</th>\n",
       "      <td>stuck</td>\n",
       "      <td>https://signstock.blob.core.windows.net/signsc...</td>\n",
       "    </tr>\n",
       "  </tbody>\n",
       "</table>\n",
       "<p>1476 rows × 2 columns</p>\n",
       "</div>"
      ],
      "text/plain": [
       "       sign                                                url\n",
       "0      book  https://media.asldeafined.com/vocabulary/14666...\n",
       "1      book  https://www.signingsavvy.com/signs/mp4/14/1432...\n",
       "2      book  https://s3-us-west-1.amazonaws.com/files.start...\n",
       "3      book       http://aslbricks.org/New/ASL-Videos/book.mp4\n",
       "4      book     http://www.aslsearch.com/signs/videos/book.mp4\n",
       "...     ...                                                ...\n",
       "1471  penny  http://www.aslsearch.com/signs/videos/one-cent...\n",
       "1472  stuck    http://www.aslsearch.com/signs/videos/stuck.mp4\n",
       "1473  stuck  https://media.asldeafined.com/vocabulary/14688...\n",
       "1474  stuck  https://www.signingsavvy.com/signs/mp4/8/8099.mp4\n",
       "1475  stuck  https://signstock.blob.core.windows.net/signsc...\n",
       "\n",
       "[1476 rows x 2 columns]"
      ]
     },
     "execution_count": 9,
     "metadata": {},
     "output_type": "execute_result"
    }
   ],
   "source": [
    "videos_url_csv_path = '/home/bfrisque/code/benoitfrisque/signlens/processed_data/videos_learning_platform.csv'\n",
    "\n",
    "df = pd.read_csv(videos_url_csv_path)\n",
    "df"
   ]
  },
  {
   "cell_type": "code",
   "execution_count": 10,
   "id": "c0d57274-3706-4f39-9708-1ea60ad63eac",
   "metadata": {
    "execution": {
     "iopub.execute_input": "2024-03-27T07:36:05.580221Z",
     "iopub.status.busy": "2024-03-27T07:36:05.579804Z",
     "iopub.status.idle": "2024-03-27T07:36:05.586756Z",
     "shell.execute_reply": "2024-03-27T07:36:05.585495Z",
     "shell.execute_reply.started": "2024-03-27T07:36:05.580186Z"
    }
   },
   "outputs": [],
   "source": [
    "def check_url(url):\n",
    "    try:\n",
    "        response = requests.head(url, timeout=5)\n",
    "        return response.status_code == 200, url\n",
    "    except requests.RequestException:\n",
    "        return False, url"
   ]
  },
  {
   "cell_type": "code",
   "execution_count": 11,
   "id": "ef058599-60db-4721-95d9-2e8580bb01af",
   "metadata": {
    "execution": {
     "iopub.execute_input": "2024-03-27T07:36:06.540102Z",
     "iopub.status.busy": "2024-03-27T07:36:06.539488Z",
     "iopub.status.idle": "2024-03-27T07:37:53.283015Z",
     "shell.execute_reply": "2024-03-27T07:37:53.281906Z",
     "shell.execute_reply.started": "2024-03-27T07:36:06.540065Z"
    },
    "tags": []
   },
   "outputs": [
    {
     "name": "stderr",
     "output_type": "stream",
     "text": [
      "Checking URLs:  99%|██████████████████████████████████████████████████████████████████████████▍| 1466/1476 [01:46<00:00, 13.79it/s]\n",
      "\n",
      "KeyboardInterrupt\n",
      "\n"
     ]
    }
   ],
   "source": [
    "# Check valid url  \n",
    "with concurrent.futures.ThreadPoolExecutor(max_workers=20) as executor:\n",
    "    future_to_url = {executor.submit(check_url, url): url for url in df['url']}\n",
    "    for future in tqdm(concurrent.futures.as_completed(future_to_url), total=len(future_to_url), desc=\"Checking URLs\"):\n",
    "        url = future_to_url[future]\n",
    "        try:\n",
    "            data = future.result()\n",
    "        except Exception as exc:\n",
    "            print('%r generated an exception: %s' % (url, exc))\n",
    "        else:\n",
    "            if data[0]:\n",
    "                df.loc[df['url'] == data[1], 'valid'] = True\n"
   ]
  },
  {
   "cell_type": "code",
   "execution_count": 14,
   "id": "bc922504-4d9d-468e-a0d0-fdf2cb86e34d",
   "metadata": {
    "execution": {
     "iopub.execute_input": "2024-03-27T07:38:45.156626Z",
     "iopub.status.busy": "2024-03-27T07:38:45.155830Z",
     "iopub.status.idle": "2024-03-27T07:38:45.167383Z",
     "shell.execute_reply": "2024-03-27T07:38:45.165876Z",
     "shell.execute_reply.started": "2024-03-27T07:38:45.156594Z"
    },
    "tags": []
   },
   "outputs": [
    {
     "data": {
      "text/plain": [
       "valid\n",
       "True    0.821816\n",
       "Name: count, dtype: float64"
      ]
     },
     "execution_count": 14,
     "metadata": {},
     "output_type": "execute_result"
    }
   ],
   "source": [
    "df.valid.value_counts() / len(df)"
   ]
  },
  {
   "cell_type": "code",
   "execution_count": 15,
   "id": "73f542e7-4c3e-41d4-adb6-e427f87c3514",
   "metadata": {
    "execution": {
     "iopub.execute_input": "2024-03-27T07:38:54.806328Z",
     "iopub.status.busy": "2024-03-27T07:38:54.805695Z",
     "iopub.status.idle": "2024-03-27T07:38:54.813564Z",
     "shell.execute_reply": "2024-03-27T07:38:54.811916Z",
     "shell.execute_reply.started": "2024-03-27T07:38:54.806302Z"
    }
   },
   "outputs": [],
   "source": [
    "df = df[df['valid'] == True].reset_index(drop=True)"
   ]
  },
  {
   "cell_type": "code",
   "execution_count": 16,
   "id": "d43530ad-7f41-48d7-8eb7-f5e187cebc6c",
   "metadata": {
    "execution": {
     "iopub.execute_input": "2024-03-27T07:39:37.881183Z",
     "iopub.status.busy": "2024-03-27T07:39:37.880483Z",
     "iopub.status.idle": "2024-03-27T07:39:37.894016Z",
     "shell.execute_reply": "2024-03-27T07:39:37.892768Z",
     "shell.execute_reply.started": "2024-03-27T07:39:37.881151Z"
    }
   },
   "outputs": [],
   "source": [
    "videos_url_csv_path_new = '/home/bfrisque/code/benoitfrisque/signlens/processed_data/videos_learning_platform_new.csv'\n",
    "\n",
    "df.to_csv(videos_url_csv_path_new)"
   ]
  },
  {
   "cell_type": "code",
   "execution_count": null,
   "id": "0d34bb92-4a5b-461e-8ff0-e8e4bfd4dff8",
   "metadata": {},
   "outputs": [],
   "source": []
  }
 ],
 "metadata": {
  "kernelspec": {
   "display_name": "Python 3 (ipykernel)",
   "language": "python",
   "name": "python3"
  },
  "language_info": {
   "codemirror_mode": {
    "name": "ipython",
    "version": 3
   },
   "file_extension": ".py",
   "mimetype": "text/x-python",
   "name": "python",
   "nbconvert_exporter": "python",
   "pygments_lexer": "ipython3",
   "version": "3.10.6"
  }
 },
 "nbformat": 4,
 "nbformat_minor": 5
}

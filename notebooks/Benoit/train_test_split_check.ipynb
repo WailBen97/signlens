{
 "cells": [
  {
   "cell_type": "markdown",
   "id": "ec810a73-ca9c-46aa-8e9d-57e438858f79",
   "metadata": {},
   "source": [
    "## Imports"
   ]
  },
  {
   "cell_type": "code",
   "execution_count": 1,
   "id": "071acfd0-88a8-4a6c-ad6c-43a45b2855e4",
   "metadata": {
    "execution": {
     "iopub.execute_input": "2024-03-22T09:04:34.736780Z",
     "iopub.status.busy": "2024-03-22T09:04:34.736414Z",
     "iopub.status.idle": "2024-03-22T09:04:40.097759Z",
     "shell.execute_reply": "2024-03-22T09:04:40.096375Z",
     "shell.execute_reply.started": "2024-03-22T09:04:34.736745Z"
    },
    "tags": []
   },
   "outputs": [
    {
     "name": "stderr",
     "output_type": "stream",
     "text": [
      "2024-03-22 10:04:37.467950: I tensorflow/core/platform/cpu_feature_guard.cc:210] This TensorFlow binary is optimized to use available CPU instructions in performance-critical operations.\n",
      "To enable the following instructions: AVX2 FMA, in other operations, rebuild TensorFlow with the appropriate compiler flags.\n",
      "2024-03-22 10:04:38.673727: W tensorflow/compiler/tf2tensorrt/utils/py_utils.cc:38] TF-TRT Warning: Could not find TensorRT\n"
     ]
    }
   ],
   "source": [
    "import pandas as pd\n",
    "import numpy as np\n",
    "import seaborn as sns\n",
    "import os\n",
    "import sklearn\n",
    "\n",
    "import matplotlib.pyplot as plt\n",
    "from matplotlib.animation import FuncAnimation\n",
    "\n",
    "from pathlib import Path\n",
    "from IPython.display import Image, display, Video, HTML\n",
    "from ipywidgets import interact, widgets\n",
    "\n",
    "from signlens.params import *\n",
    "from signlens.preprocessing import data, preprocess\n",
    "from utils import plot_landmarks, model_utils\n",
    "\n",
    "# reload automatically python functions outside notebook\n",
    "%load_ext autoreload\n",
    "%autoreload 2"
   ]
  },
  {
   "cell_type": "markdown",
   "id": "2cdbc4f1-1997-41e9-b2e5-1cd528ae3b4e",
   "metadata": {},
   "source": [
    "## Fetch data"
   ]
  },
  {
   "cell_type": "code",
   "execution_count": 2,
   "id": "27492fd1-f725-4d62-8a31-b426245a8a64",
   "metadata": {
    "execution": {
     "iopub.execute_input": "2024-03-22T09:04:40.109016Z",
     "iopub.status.busy": "2024-03-22T09:04:40.108391Z",
     "iopub.status.idle": "2024-03-22T09:04:50.971143Z",
     "shell.execute_reply": "2024-03-22T09:04:50.969570Z",
     "shell.execute_reply.started": "2024-03-22T09:04:40.108980Z"
    },
    "tags": []
   },
   "outputs": [
    {
     "name": "stdout",
     "output_type": "stream",
     "text": [
      "\u001b[34mLoading unqiue test set with test_size=0.2\u001b[0m\n",
      "/home/bfrisque/code/benoitfrisque/signlens/raw_data/asl-signs/train.csv\n",
      "✅ File with frames already exists, loaded matching 'sequence_id' rows.\n",
      "> \u001b[0;32m/home/bfrisque/code/benoitfrisque/signlens/signlens/preprocessing/data.py\u001b[0m(53)\u001b[0;36mload_data_subset_csv\u001b[0;34m()\u001b[0m\n",
      "\u001b[0;32m     52 \u001b[0;31m    \u001b[0;32mimport\u001b[0m \u001b[0mipdb\u001b[0m\u001b[0;34m;\u001b[0m \u001b[0mipdb\u001b[0m\u001b[0;34m.\u001b[0m\u001b[0mset_trace\u001b[0m\u001b[0;34m(\u001b[0m\u001b[0;34m)\u001b[0m\u001b[0;34m\u001b[0m\u001b[0;34m\u001b[0m\u001b[0m\n",
      "\u001b[0m\u001b[0;32m---> 53 \u001b[0;31m    \u001b[0mtrain\u001b[0m \u001b[0;34m=\u001b[0m \u001b[0mfilter_sequences_with_missing_frames\u001b[0m\u001b[0;34m(\u001b[0m\u001b[0mtrain\u001b[0m\u001b[0;34m)\u001b[0m \u001b[0;31m# Filter out sequences with missing frames\u001b[0m\u001b[0;34m\u001b[0m\u001b[0;34m\u001b[0m\u001b[0m\n",
      "\u001b[0m\u001b[0;32m     54 \u001b[0;31m\u001b[0;34m\u001b[0m\u001b[0m\n",
      "\u001b[0m\n"
     ]
    },
    {
     "name": "stdin",
     "output_type": "stream",
     "text": [
      "ipdb>  c\n"
     ]
    },
    {
     "name": "stdout",
     "output_type": "stream",
     "text": [
      "✅ Filtered on n_frames = 100. Size reduced from 94477 to 86168 (91.2%)\n",
      "✅ Filtered on n_classes = 250. Size reduced from 86168 to 86168 (100.0%)\n",
      "✅ Balanced data, with average of 68.932 elements per class. Size reduced from 86168 to 17233 (20.0%)\n",
      "✅ Loaded 86168 rows (18.2% of the original 94477 rows) from the dataset.\n",
      "\u001b[34m\n",
      "Loading training test set\u001b[0m\n",
      "/home/bfrisque/code/benoitfrisque/signlens/raw_data/asl-signs/train.csv\n",
      "✅ File with frames already exists, loaded matching 'sequence_id' rows.\n",
      "> \u001b[0;32m/home/bfrisque/code/benoitfrisque/signlens/signlens/preprocessing/data.py\u001b[0m(53)\u001b[0;36mload_data_subset_csv\u001b[0;34m()\u001b[0m\n",
      "\u001b[0;32m     52 \u001b[0;31m    \u001b[0;32mimport\u001b[0m \u001b[0mipdb\u001b[0m\u001b[0;34m;\u001b[0m \u001b[0mipdb\u001b[0m\u001b[0;34m.\u001b[0m\u001b[0mset_trace\u001b[0m\u001b[0;34m(\u001b[0m\u001b[0;34m)\u001b[0m\u001b[0;34m\u001b[0m\u001b[0;34m\u001b[0m\u001b[0m\n",
      "\u001b[0m\u001b[0;32m---> 53 \u001b[0;31m    \u001b[0mtrain\u001b[0m \u001b[0;34m=\u001b[0m \u001b[0mfilter_sequences_with_missing_frames\u001b[0m\u001b[0;34m(\u001b[0m\u001b[0mtrain\u001b[0m\u001b[0;34m)\u001b[0m \u001b[0;31m# Filter out sequences with missing frames\u001b[0m\u001b[0;34m\u001b[0m\u001b[0;34m\u001b[0m\u001b[0m\n",
      "\u001b[0m\u001b[0;32m     54 \u001b[0;31m\u001b[0;34m\u001b[0m\u001b[0m\n",
      "\u001b[0m\n"
     ]
    },
    {
     "name": "stdin",
     "output_type": "stream",
     "text": [
      "ipdb>  c\n"
     ]
    },
    {
     "name": "stdout",
     "output_type": "stream",
     "text": [
      "✅ Filtered on n_classes = 250. Size reduced from 94477 to 94461 (100.0%)\n",
      "✅ Loaded 94461 rows (100.0% of the original 94477 rows) from the dataset.\n",
      "\u001b[34m\n",
      "Total loaded rows : 94461         \n",
      "Total training rows : 94461 (100.0%)         \n",
      "Total test rows : 17233 (18.2%)\u001b[0m\n",
      "\u001b[34m\n",
      "Train and test data saved at /home/bfrisque/code/benoitfrisque/signlens/raw_data/asl-signs/train_train.csv and /home/bfrisque/code/benoitfrisque/signlens/raw_data/asl-signs/train_test.csv\u001b[0m\n"
     ]
    }
   ],
   "source": [
    "preprocess.unique_train_test_split()"
   ]
  },
  {
   "cell_type": "code",
   "execution_count": 9,
   "id": "63a3d211-0efb-4c82-8910-09aa17a91a9b",
   "metadata": {
    "execution": {
     "iopub.execute_input": "2024-03-22T09:08:54.403013Z",
     "iopub.status.busy": "2024-03-22T09:08:54.402133Z",
     "iopub.status.idle": "2024-03-22T09:08:54.681764Z",
     "shell.execute_reply": "2024-03-22T09:08:54.680412Z",
     "shell.execute_reply.started": "2024-03-22T09:08:54.402977Z"
    },
    "tags": []
   },
   "outputs": [
    {
     "name": "stdout",
     "output_type": "stream",
     "text": [
      "\u001b[34mLoading data subset from train_train.csv\u001b[0m\n",
      "✅ Filtered on n_frames = 100. Size reduced from 94461 to 85625 (90.6%)\n",
      "✅ Filtered on n_classes = 10. Size reduced from 85625 to 1738 (2.0%)\n",
      "✅ Loaded 1738 rows (1.8% of the original 94461 rows) from the dataset.\n"
     ]
    },
    {
     "data": {
      "text/html": [
       "<div>\n",
       "<style scoped>\n",
       "    .dataframe tbody tr th:only-of-type {\n",
       "        vertical-align: middle;\n",
       "    }\n",
       "\n",
       "    .dataframe tbody tr th {\n",
       "        vertical-align: top;\n",
       "    }\n",
       "\n",
       "    .dataframe thead th {\n",
       "        text-align: right;\n",
       "    }\n",
       "</style>\n",
       "<table border=\"1\" class=\"dataframe\">\n",
       "  <thead>\n",
       "    <tr style=\"text-align: right;\">\n",
       "      <th></th>\n",
       "      <th>path</th>\n",
       "      <th>participant_id</th>\n",
       "      <th>sequence_id</th>\n",
       "      <th>sign</th>\n",
       "      <th>n_frames</th>\n",
       "      <th>n_frames2</th>\n",
       "      <th>file_path</th>\n",
       "    </tr>\n",
       "  </thead>\n",
       "  <tbody>\n",
       "    <tr>\n",
       "      <th>0</th>\n",
       "      <td>train_landmark_files_noface/29302/3215874043.p...</td>\n",
       "      <td>29302.0</td>\n",
       "      <td>3215874043</td>\n",
       "      <td>grandpa</td>\n",
       "      <td>52.0</td>\n",
       "      <td>52.0</td>\n",
       "      <td>/home/bfrisque/code/benoitfrisque/signlens/raw...</td>\n",
       "    </tr>\n",
       "    <tr>\n",
       "      <th>1</th>\n",
       "      <td>train_landmark_files_noface/27610/3908234863.p...</td>\n",
       "      <td>27610.0</td>\n",
       "      <td>3908234863</td>\n",
       "      <td>find</td>\n",
       "      <td>52.0</td>\n",
       "      <td>52.0</td>\n",
       "      <td>/home/bfrisque/code/benoitfrisque/signlens/raw...</td>\n",
       "    </tr>\n",
       "    <tr>\n",
       "      <th>2</th>\n",
       "      <td>train_landmark_files_noface/37779/905455681.pa...</td>\n",
       "      <td>37779.0</td>\n",
       "      <td>905455681</td>\n",
       "      <td>potty</td>\n",
       "      <td>6.0</td>\n",
       "      <td>6.0</td>\n",
       "      <td>/home/bfrisque/code/benoitfrisque/signlens/raw...</td>\n",
       "    </tr>\n",
       "    <tr>\n",
       "      <th>3</th>\n",
       "      <td>train_landmark_files_noface/32319/3409155932.p...</td>\n",
       "      <td>32319.0</td>\n",
       "      <td>3409155932</td>\n",
       "      <td>grandpa</td>\n",
       "      <td>55.0</td>\n",
       "      <td>55.0</td>\n",
       "      <td>/home/bfrisque/code/benoitfrisque/signlens/raw...</td>\n",
       "    </tr>\n",
       "    <tr>\n",
       "      <th>4</th>\n",
       "      <td>train_landmark_files_noface/30680/1401028871.p...</td>\n",
       "      <td>30680.0</td>\n",
       "      <td>1401028871</td>\n",
       "      <td>scissors</td>\n",
       "      <td>30.0</td>\n",
       "      <td>30.0</td>\n",
       "      <td>/home/bfrisque/code/benoitfrisque/signlens/raw...</td>\n",
       "    </tr>\n",
       "    <tr>\n",
       "      <th>...</th>\n",
       "      <td>...</td>\n",
       "      <td>...</td>\n",
       "      <td>...</td>\n",
       "      <td>...</td>\n",
       "      <td>...</td>\n",
       "      <td>...</td>\n",
       "      <td>...</td>\n",
       "    </tr>\n",
       "    <tr>\n",
       "      <th>1733</th>\n",
       "      <td>train_landmark_files_noface/2044/2278613168.pa...</td>\n",
       "      <td>2044.0</td>\n",
       "      <td>2278613168</td>\n",
       "      <td>hot</td>\n",
       "      <td>9.0</td>\n",
       "      <td>9.0</td>\n",
       "      <td>/home/bfrisque/code/benoitfrisque/signlens/raw...</td>\n",
       "    </tr>\n",
       "    <tr>\n",
       "      <th>1734</th>\n",
       "      <td>train_landmark_files_noface/30680/3074254078.p...</td>\n",
       "      <td>30680.0</td>\n",
       "      <td>3074254078</td>\n",
       "      <td>scissors</td>\n",
       "      <td>4.0</td>\n",
       "      <td>6.0</td>\n",
       "      <td>/home/bfrisque/code/benoitfrisque/signlens/raw...</td>\n",
       "    </tr>\n",
       "    <tr>\n",
       "      <th>1735</th>\n",
       "      <td>train_landmark_files_noface/36257/2267290870.p...</td>\n",
       "      <td>36257.0</td>\n",
       "      <td>2267290870</td>\n",
       "      <td>mitten</td>\n",
       "      <td>20.0</td>\n",
       "      <td>20.0</td>\n",
       "      <td>/home/bfrisque/code/benoitfrisque/signlens/raw...</td>\n",
       "    </tr>\n",
       "    <tr>\n",
       "      <th>1736</th>\n",
       "      <td>train_landmark_files_noface/22343/4279148451.p...</td>\n",
       "      <td>22343.0</td>\n",
       "      <td>4279148451</td>\n",
       "      <td>grass</td>\n",
       "      <td>16.0</td>\n",
       "      <td>16.0</td>\n",
       "      <td>/home/bfrisque/code/benoitfrisque/signlens/raw...</td>\n",
       "    </tr>\n",
       "    <tr>\n",
       "      <th>1737</th>\n",
       "      <td>train_landmark_files_noface/27610/3376476697.p...</td>\n",
       "      <td>27610.0</td>\n",
       "      <td>3376476697</td>\n",
       "      <td>grandpa</td>\n",
       "      <td>73.0</td>\n",
       "      <td>73.0</td>\n",
       "      <td>/home/bfrisque/code/benoitfrisque/signlens/raw...</td>\n",
       "    </tr>\n",
       "  </tbody>\n",
       "</table>\n",
       "<p>1738 rows × 7 columns</p>\n",
       "</div>"
      ],
      "text/plain": [
       "                                                   path  participant_id  \\\n",
       "0     train_landmark_files_noface/29302/3215874043.p...         29302.0   \n",
       "1     train_landmark_files_noface/27610/3908234863.p...         27610.0   \n",
       "2     train_landmark_files_noface/37779/905455681.pa...         37779.0   \n",
       "3     train_landmark_files_noface/32319/3409155932.p...         32319.0   \n",
       "4     train_landmark_files_noface/30680/1401028871.p...         30680.0   \n",
       "...                                                 ...             ...   \n",
       "1733  train_landmark_files_noface/2044/2278613168.pa...          2044.0   \n",
       "1734  train_landmark_files_noface/30680/3074254078.p...         30680.0   \n",
       "1735  train_landmark_files_noface/36257/2267290870.p...         36257.0   \n",
       "1736  train_landmark_files_noface/22343/4279148451.p...         22343.0   \n",
       "1737  train_landmark_files_noface/27610/3376476697.p...         27610.0   \n",
       "\n",
       "      sequence_id      sign  n_frames  n_frames2  \\\n",
       "0      3215874043   grandpa      52.0       52.0   \n",
       "1      3908234863      find      52.0       52.0   \n",
       "2       905455681     potty       6.0        6.0   \n",
       "3      3409155932   grandpa      55.0       55.0   \n",
       "4      1401028871  scissors      30.0       30.0   \n",
       "...           ...       ...       ...        ...   \n",
       "1733   2278613168       hot       9.0        9.0   \n",
       "1734   3074254078  scissors       4.0        6.0   \n",
       "1735   2267290870    mitten      20.0       20.0   \n",
       "1736   4279148451     grass      16.0       16.0   \n",
       "1737   3376476697   grandpa      73.0       73.0   \n",
       "\n",
       "                                              file_path  \n",
       "0     /home/bfrisque/code/benoitfrisque/signlens/raw...  \n",
       "1     /home/bfrisque/code/benoitfrisque/signlens/raw...  \n",
       "2     /home/bfrisque/code/benoitfrisque/signlens/raw...  \n",
       "3     /home/bfrisque/code/benoitfrisque/signlens/raw...  \n",
       "4     /home/bfrisque/code/benoitfrisque/signlens/raw...  \n",
       "...                                                 ...  \n",
       "1733  /home/bfrisque/code/benoitfrisque/signlens/raw...  \n",
       "1734  /home/bfrisque/code/benoitfrisque/signlens/raw...  \n",
       "1735  /home/bfrisque/code/benoitfrisque/signlens/raw...  \n",
       "1736  /home/bfrisque/code/benoitfrisque/signlens/raw...  \n",
       "1737  /home/bfrisque/code/benoitfrisque/signlens/raw...  \n",
       "\n",
       "[1738 rows x 7 columns]"
      ]
     },
     "execution_count": 9,
     "metadata": {},
     "output_type": "execute_result"
    }
   ],
   "source": [
    "preprocess.load_data_subset_csv()"
   ]
  },
  {
   "cell_type": "code",
   "execution_count": null,
   "id": "caea76bc-cb4c-4c46-9886-6071226ca7a7",
   "metadata": {},
   "outputs": [],
   "source": []
  }
 ],
 "metadata": {
  "kernelspec": {
   "display_name": "Python 3 (ipykernel)",
   "language": "python",
   "name": "python3"
  },
  "language_info": {
   "codemirror_mode": {
    "name": "ipython",
    "version": 3
   },
   "file_extension": ".py",
   "mimetype": "text/x-python",
   "name": "python",
   "nbconvert_exporter": "python",
   "pygments_lexer": "ipython3",
   "version": "3.10.6"
  }
 },
 "nbformat": 4,
 "nbformat_minor": 5
}

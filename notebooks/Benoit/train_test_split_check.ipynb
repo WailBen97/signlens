{
 "cells": [
  {
   "cell_type": "markdown",
   "id": "ec810a73-ca9c-46aa-8e9d-57e438858f79",
   "metadata": {},
   "source": [
    "## Imports"
   ]
  },
  {
   "cell_type": "code",
   "execution_count": 1,
   "id": "071acfd0-88a8-4a6c-ad6c-43a45b2855e4",
   "metadata": {
    "execution": {
     "iopub.execute_input": "2024-03-22T09:04:34.736780Z",
     "iopub.status.busy": "2024-03-22T09:04:34.736414Z",
     "iopub.status.idle": "2024-03-22T09:04:40.097759Z",
     "shell.execute_reply": "2024-03-22T09:04:40.096375Z",
     "shell.execute_reply.started": "2024-03-22T09:04:34.736745Z"
    },
    "tags": []
   },
   "outputs": [
    {
     "name": "stderr",
     "output_type": "stream",
     "text": [
      "2024-03-22 10:04:37.467950: I tensorflow/core/platform/cpu_feature_guard.cc:210] This TensorFlow binary is optimized to use available CPU instructions in performance-critical operations.\n",
      "To enable the following instructions: AVX2 FMA, in other operations, rebuild TensorFlow with the appropriate compiler flags.\n",
      "2024-03-22 10:04:38.673727: W tensorflow/compiler/tf2tensorrt/utils/py_utils.cc:38] TF-TRT Warning: Could not find TensorRT\n"
     ]
    }
   ],
   "source": [
    "import pandas as pd\n",
    "import numpy as np\n",
    "import seaborn as sns\n",
    "import os\n",
    "import sklearn\n",
    "\n",
    "import matplotlib.pyplot as plt\n",
    "from matplotlib.animation import FuncAnimation\n",
    "\n",
    "from pathlib import Path\n",
    "from IPython.display import Image, display, Video, HTML\n",
    "from ipywidgets import interact, widgets\n",
    "\n",
    "from signlens.params import *\n",
    "from signlens.preprocessing import data, preprocess\n",
    "from utils import plot_landmarks, model_utils\n",
    "\n",
    "# reload automatically python functions outside notebook\n",
    "%load_ext autoreload\n",
    "%autoreload 2"
   ]
  },
  {
   "cell_type": "markdown",
   "id": "2cdbc4f1-1997-41e9-b2e5-1cd528ae3b4e",
   "metadata": {},
   "source": [
    "## Fetch data"
   ]
  },
  {
   "cell_type": "code",
   "execution_count": 2,
   "id": "27492fd1-f725-4d62-8a31-b426245a8a64",
   "metadata": {
    "execution": {
     "iopub.execute_input": "2024-03-22T09:04:40.109016Z",
     "iopub.status.busy": "2024-03-22T09:04:40.108391Z",
     "iopub.status.idle": "2024-03-22T09:04:50.971143Z",
     "shell.execute_reply": "2024-03-22T09:04:50.969570Z",
     "shell.execute_reply.started": "2024-03-22T09:04:40.108980Z"
    },
    "tags": []
   },
   "outputs": [
    {
     "name": "stdout",
     "output_type": "stream",
     "text": [
      "\u001b[34mLoading unqiue test set with test_size=0.2\u001b[0m\n",
      "/home/bfrisque/code/benoitfrisque/signlens/raw_data/asl-signs/train.csv\n",
      "✅ File with frames already exists, loaded matching 'sequence_id' rows.\n",
      "> \u001b[0;32m/home/bfrisque/code/benoitfrisque/signlens/signlens/preprocessing/data.py\u001b[0m(53)\u001b[0;36mload_data_subset_csv\u001b[0;34m()\u001b[0m\n",
      "\u001b[0;32m     52 \u001b[0;31m    \u001b[0;32mimport\u001b[0m \u001b[0mipdb\u001b[0m\u001b[0;34m;\u001b[0m \u001b[0mipdb\u001b[0m\u001b[0;34m.\u001b[0m\u001b[0mset_trace\u001b[0m\u001b[0;34m(\u001b[0m\u001b[0;34m)\u001b[0m\u001b[0;34m\u001b[0m\u001b[0;34m\u001b[0m\u001b[0m\n",
      "\u001b[0m\u001b[0;32m---> 53 \u001b[0;31m    \u001b[0mtrain\u001b[0m \u001b[0;34m=\u001b[0m \u001b[0mfilter_sequences_with_missing_frames\u001b[0m\u001b[0;34m(\u001b[0m\u001b[0mtrain\u001b[0m\u001b[0;34m)\u001b[0m \u001b[0;31m# Filter out sequences with missing frames\u001b[0m\u001b[0;34m\u001b[0m\u001b[0;34m\u001b[0m\u001b[0m\n",
      "\u001b[0m\u001b[0;32m     54 \u001b[0;31m\u001b[0;34m\u001b[0m\u001b[0m\n",
      "\u001b[0m\n"
     ]
    },
    {
     "name": "stdin",
     "output_type": "stream",
     "text": [
      "ipdb>  c\n"
     ]
    },
    {
     "name": "stdout",
     "output_type": "stream",
     "text": [
      "✅ Filtered on n_frames = 100. Size reduced from 94477 to 86168 (91.2%)\n",
      "✅ Filtered on n_classes = 250. Size reduced from 86168 to 86168 (100.0%)\n",
      "✅ Balanced data, with average of 68.932 elements per class. Size reduced from 86168 to 17233 (20.0%)\n",
      "✅ Loaded 86168 rows (18.2% of the original 94477 rows) from the dataset.\n",
      "\u001b[34m\n",
      "Loading training test set\u001b[0m\n",
      "/home/bfrisque/code/benoitfrisque/signlens/raw_data/asl-signs/train.csv\n",
      "✅ File with frames already exists, loaded matching 'sequence_id' rows.\n",
      "> \u001b[0;32m/home/bfrisque/code/benoitfrisque/signlens/signlens/preprocessing/data.py\u001b[0m(53)\u001b[0;36mload_data_subset_csv\u001b[0;34m()\u001b[0m\n",
      "\u001b[0;32m     52 \u001b[0;31m    \u001b[0;32mimport\u001b[0m \u001b[0mipdb\u001b[0m\u001b[0;34m;\u001b[0m \u001b[0mipdb\u001b[0m\u001b[0;34m.\u001b[0m\u001b[0mset_trace\u001b[0m\u001b[0;34m(\u001b[0m\u001b[0;34m)\u001b[0m\u001b[0;34m\u001b[0m\u001b[0;34m\u001b[0m\u001b[0m\n",
      "\u001b[0m\u001b[0;32m---> 53 \u001b[0;31m    \u001b[0mtrain\u001b[0m \u001b[0;34m=\u001b[0m \u001b[0mfilter_sequences_with_missing_frames\u001b[0m\u001b[0;34m(\u001b[0m\u001b[0mtrain\u001b[0m\u001b[0;34m)\u001b[0m \u001b[0;31m# Filter out sequences with missing frames\u001b[0m\u001b[0;34m\u001b[0m\u001b[0;34m\u001b[0m\u001b[0m\n",
      "\u001b[0m\u001b[0;32m     54 \u001b[0;31m\u001b[0;34m\u001b[0m\u001b[0m\n",
      "\u001b[0m\n"
     ]
    },
    {
     "name": "stdin",
     "output_type": "stream",
     "text": [
      "ipdb>  c\n"
     ]
    },
    {
     "name": "stdout",
     "output_type": "stream",
     "text": [
      "✅ Filtered on n_classes = 250. Size reduced from 94477 to 94461 (100.0%)\n",
      "✅ Loaded 94461 rows (100.0% of the original 94477 rows) from the dataset.\n",
      "\u001b[34m\n",
      "Total loaded rows : 94461         \n",
      "Total training rows : 94461 (100.0%)         \n",
      "Total test rows : 17233 (18.2%)\u001b[0m\n",
      "\u001b[34m\n",
      "Train and test data saved at /home/bfrisque/code/benoitfrisque/signlens/raw_data/asl-signs/train_train.csv and /home/bfrisque/code/benoitfrisque/signlens/raw_data/asl-signs/train_test.csv\u001b[0m\n"
     ]
    }
   ],
   "source": [
    "preprocess.unique_train_test_split()"
   ]
  },
  {
   "cell_type": "code",
   "execution_count": 8,
   "id": "63a3d211-0efb-4c82-8910-09aa17a91a9b",
   "metadata": {
    "execution": {
     "iopub.execute_input": "2024-03-22T09:08:25.298394Z",
     "iopub.status.busy": "2024-03-22T09:08:25.297524Z",
     "iopub.status.idle": "2024-03-22T09:08:25.579841Z",
     "shell.execute_reply": "2024-03-22T09:08:25.578482Z",
     "shell.execute_reply.started": "2024-03-22T09:08:25.298348Z"
    },
    "tags": []
   },
   "outputs": [
    {
     "name": "stdout",
     "output_type": "stream",
     "text": [
      "\u001b[34mLoading data subset from /home/bfrisque/code/benoitfrisque/signlens/raw_data/asl-signs/train_train.csv\u001b[0m\n",
      "✅ Filtered on n_frames = 100. Size reduced from 94461 to 85625 (90.6%)\n",
      "✅ Filtered on n_classes = 10. Size reduced from 85625 to 1692 (2.0%)\n",
      "✅ Loaded 1692 rows (1.8% of the original 94461 rows) from the dataset.\n"
     ]
    },
    {
     "data": {
      "text/html": [
       "<div>\n",
       "<style scoped>\n",
       "    .dataframe tbody tr th:only-of-type {\n",
       "        vertical-align: middle;\n",
       "    }\n",
       "\n",
       "    .dataframe tbody tr th {\n",
       "        vertical-align: top;\n",
       "    }\n",
       "\n",
       "    .dataframe thead th {\n",
       "        text-align: right;\n",
       "    }\n",
       "</style>\n",
       "<table border=\"1\" class=\"dataframe\">\n",
       "  <thead>\n",
       "    <tr style=\"text-align: right;\">\n",
       "      <th></th>\n",
       "      <th>path</th>\n",
       "      <th>participant_id</th>\n",
       "      <th>sequence_id</th>\n",
       "      <th>sign</th>\n",
       "      <th>n_frames</th>\n",
       "      <th>n_frames2</th>\n",
       "      <th>file_path</th>\n",
       "    </tr>\n",
       "  </thead>\n",
       "  <tbody>\n",
       "    <tr>\n",
       "      <th>0</th>\n",
       "      <td>train_landmark_files_noface/30680/3035157699.p...</td>\n",
       "      <td>30680.0</td>\n",
       "      <td>3035157699</td>\n",
       "      <td>happy</td>\n",
       "      <td>27.0</td>\n",
       "      <td>27.0</td>\n",
       "      <td>/home/bfrisque/code/benoitfrisque/signlens/raw...</td>\n",
       "    </tr>\n",
       "    <tr>\n",
       "      <th>1</th>\n",
       "      <td>train_landmark_files_noface/26734/3393348350.p...</td>\n",
       "      <td>26734.0</td>\n",
       "      <td>3393348350</td>\n",
       "      <td>puppy</td>\n",
       "      <td>25.0</td>\n",
       "      <td>25.0</td>\n",
       "      <td>/home/bfrisque/code/benoitfrisque/signlens/raw...</td>\n",
       "    </tr>\n",
       "    <tr>\n",
       "      <th>2</th>\n",
       "      <td>train_landmark_files_noface/16069/1356797963.p...</td>\n",
       "      <td>16069.0</td>\n",
       "      <td>1356797963</td>\n",
       "      <td>garbage</td>\n",
       "      <td>6.0</td>\n",
       "      <td>6.0</td>\n",
       "      <td>/home/bfrisque/code/benoitfrisque/signlens/raw...</td>\n",
       "    </tr>\n",
       "    <tr>\n",
       "      <th>3</th>\n",
       "      <td>train_landmark_files_noface/27610/1304982824.p...</td>\n",
       "      <td>NaN</td>\n",
       "      <td>1304982824</td>\n",
       "      <td>boy</td>\n",
       "      <td>11.0</td>\n",
       "      <td>11.0</td>\n",
       "      <td>/home/bfrisque/code/benoitfrisque/signlens/raw...</td>\n",
       "    </tr>\n",
       "    <tr>\n",
       "      <th>4</th>\n",
       "      <td>train_landmark_files_noface/4718/1419429881.pa...</td>\n",
       "      <td>4718.0</td>\n",
       "      <td>1419429881</td>\n",
       "      <td>cowboy</td>\n",
       "      <td>21.0</td>\n",
       "      <td>21.0</td>\n",
       "      <td>/home/bfrisque/code/benoitfrisque/signlens/raw...</td>\n",
       "    </tr>\n",
       "    <tr>\n",
       "      <th>...</th>\n",
       "      <td>...</td>\n",
       "      <td>...</td>\n",
       "      <td>...</td>\n",
       "      <td>...</td>\n",
       "      <td>...</td>\n",
       "      <td>...</td>\n",
       "      <td>...</td>\n",
       "    </tr>\n",
       "    <tr>\n",
       "      <th>1687</th>\n",
       "      <td>train_landmark_files_noface/27610/2059280586.p...</td>\n",
       "      <td>27610.0</td>\n",
       "      <td>2059280586</td>\n",
       "      <td>think</td>\n",
       "      <td>6.0</td>\n",
       "      <td>6.0</td>\n",
       "      <td>/home/bfrisque/code/benoitfrisque/signlens/raw...</td>\n",
       "    </tr>\n",
       "    <tr>\n",
       "      <th>1688</th>\n",
       "      <td>train_landmark_files_noface/61333/470105854.pa...</td>\n",
       "      <td>61333.0</td>\n",
       "      <td>470105854</td>\n",
       "      <td>happy</td>\n",
       "      <td>19.0</td>\n",
       "      <td>19.0</td>\n",
       "      <td>/home/bfrisque/code/benoitfrisque/signlens/raw...</td>\n",
       "    </tr>\n",
       "    <tr>\n",
       "      <th>1689</th>\n",
       "      <td>train_landmark_files_noface/27610/358598825.pa...</td>\n",
       "      <td>27610.0</td>\n",
       "      <td>358598825</td>\n",
       "      <td>happy</td>\n",
       "      <td>6.0</td>\n",
       "      <td>6.0</td>\n",
       "      <td>/home/bfrisque/code/benoitfrisque/signlens/raw...</td>\n",
       "    </tr>\n",
       "    <tr>\n",
       "      <th>1690</th>\n",
       "      <td>train_landmark_files_noface/22343/183263581.pa...</td>\n",
       "      <td>22343.0</td>\n",
       "      <td>183263581</td>\n",
       "      <td>garbage</td>\n",
       "      <td>23.0</td>\n",
       "      <td>23.0</td>\n",
       "      <td>/home/bfrisque/code/benoitfrisque/signlens/raw...</td>\n",
       "    </tr>\n",
       "    <tr>\n",
       "      <th>1691</th>\n",
       "      <td>train_landmark_files_noface/53618/1200378932.p...</td>\n",
       "      <td>53618.0</td>\n",
       "      <td>1200378932</td>\n",
       "      <td>radio</td>\n",
       "      <td>52.0</td>\n",
       "      <td>52.0</td>\n",
       "      <td>/home/bfrisque/code/benoitfrisque/signlens/raw...</td>\n",
       "    </tr>\n",
       "  </tbody>\n",
       "</table>\n",
       "<p>1692 rows × 7 columns</p>\n",
       "</div>"
      ],
      "text/plain": [
       "                                                   path  participant_id  \\\n",
       "0     train_landmark_files_noface/30680/3035157699.p...         30680.0   \n",
       "1     train_landmark_files_noface/26734/3393348350.p...         26734.0   \n",
       "2     train_landmark_files_noface/16069/1356797963.p...         16069.0   \n",
       "3     train_landmark_files_noface/27610/1304982824.p...             NaN   \n",
       "4     train_landmark_files_noface/4718/1419429881.pa...          4718.0   \n",
       "...                                                 ...             ...   \n",
       "1687  train_landmark_files_noface/27610/2059280586.p...         27610.0   \n",
       "1688  train_landmark_files_noface/61333/470105854.pa...         61333.0   \n",
       "1689  train_landmark_files_noface/27610/358598825.pa...         27610.0   \n",
       "1690  train_landmark_files_noface/22343/183263581.pa...         22343.0   \n",
       "1691  train_landmark_files_noface/53618/1200378932.p...         53618.0   \n",
       "\n",
       "      sequence_id     sign  n_frames  n_frames2  \\\n",
       "0      3035157699    happy      27.0       27.0   \n",
       "1      3393348350    puppy      25.0       25.0   \n",
       "2      1356797963  garbage       6.0        6.0   \n",
       "3      1304982824      boy      11.0       11.0   \n",
       "4      1419429881   cowboy      21.0       21.0   \n",
       "...           ...      ...       ...        ...   \n",
       "1687   2059280586    think       6.0        6.0   \n",
       "1688    470105854    happy      19.0       19.0   \n",
       "1689    358598825    happy       6.0        6.0   \n",
       "1690    183263581  garbage      23.0       23.0   \n",
       "1691   1200378932    radio      52.0       52.0   \n",
       "\n",
       "                                              file_path  \n",
       "0     /home/bfrisque/code/benoitfrisque/signlens/raw...  \n",
       "1     /home/bfrisque/code/benoitfrisque/signlens/raw...  \n",
       "2     /home/bfrisque/code/benoitfrisque/signlens/raw...  \n",
       "3     /home/bfrisque/code/benoitfrisque/signlens/raw...  \n",
       "4     /home/bfrisque/code/benoitfrisque/signlens/raw...  \n",
       "...                                                 ...  \n",
       "1687  /home/bfrisque/code/benoitfrisque/signlens/raw...  \n",
       "1688  /home/bfrisque/code/benoitfrisque/signlens/raw...  \n",
       "1689  /home/bfrisque/code/benoitfrisque/signlens/raw...  \n",
       "1690  /home/bfrisque/code/benoitfrisque/signlens/raw...  \n",
       "1691  /home/bfrisque/code/benoitfrisque/signlens/raw...  \n",
       "\n",
       "[1692 rows x 7 columns]"
      ]
     },
     "execution_count": 8,
     "metadata": {},
     "output_type": "execute_result"
    }
   ],
   "source": [
    "preprocess.load_data_subset_csv()"
   ]
  },
  {
   "cell_type": "code",
   "execution_count": null,
   "id": "caea76bc-cb4c-4c46-9886-6071226ca7a7",
   "metadata": {},
   "outputs": [],
   "source": []
  }
 ],
 "metadata": {
  "kernelspec": {
   "display_name": "Python 3 (ipykernel)",
   "language": "python",
   "name": "python3"
  },
  "language_info": {
   "codemirror_mode": {
    "name": "ipython",
    "version": 3
   },
   "file_extension": ".py",
   "mimetype": "text/x-python",
   "name": "python",
   "nbconvert_exporter": "python",
   "pygments_lexer": "ipython3",
   "version": "3.10.6"
  }
 },
 "nbformat": 4,
 "nbformat_minor": 5
}

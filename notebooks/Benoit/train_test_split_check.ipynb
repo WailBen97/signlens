{
 "cells": [
  {
   "cell_type": "markdown",
   "id": "ec810a73-ca9c-46aa-8e9d-57e438858f79",
   "metadata": {},
   "source": [
    "## Imports"
   ]
  },
  {
   "cell_type": "code",
   "execution_count": 1,
   "id": "071acfd0-88a8-4a6c-ad6c-43a45b2855e4",
   "metadata": {
    "execution": {
     "iopub.execute_input": "2024-03-23T11:14:25.391772Z",
     "iopub.status.busy": "2024-03-23T11:14:25.390297Z",
     "iopub.status.idle": "2024-03-23T11:14:35.742716Z",
     "shell.execute_reply": "2024-03-23T11:14:35.741372Z",
     "shell.execute_reply.started": "2024-03-23T11:14:25.391720Z"
    },
    "tags": []
   },
   "outputs": [
    {
     "name": "stderr",
     "output_type": "stream",
     "text": [
      "2024-03-23 12:14:29.892079: I tensorflow/core/platform/cpu_feature_guard.cc:210] This TensorFlow binary is optimized to use available CPU instructions in performance-critical operations.\n",
      "To enable the following instructions: AVX2 FMA, in other operations, rebuild TensorFlow with the appropriate compiler flags.\n",
      "2024-03-23 12:14:32.008704: W tensorflow/compiler/tf2tensorrt/utils/py_utils.cc:38] TF-TRT Warning: Could not find TensorRT\n"
     ]
    }
   ],
   "source": [
    "import pandas as pd\n",
    "import numpy as np\n",
    "import seaborn as sns\n",
    "import os\n",
    "import sklearn\n",
    "\n",
    "import matplotlib.pyplot as plt\n",
    "from matplotlib.animation import FuncAnimation\n",
    "\n",
    "from pathlib import Path\n",
    "from IPython.display import Image, display, Video, HTML\n",
    "from ipywidgets import interact, widgets\n",
    "\n",
    "from signlens.params import *\n",
    "from signlens.preprocessing import data, preprocess\n",
    "from utils import plot_landmarks, model_utils\n",
    "\n",
    "# reload automatically python functions outside notebook\n",
    "%load_ext autoreload\n",
    "%autoreload 2"
   ]
  },
  {
   "cell_type": "markdown",
   "id": "2cdbc4f1-1997-41e9-b2e5-1cd528ae3b4e",
   "metadata": {},
   "source": [
    "## Fetch data"
   ]
  },
  {
   "cell_type": "code",
   "execution_count": 177,
   "id": "63a3d211-0efb-4c82-8910-09aa17a91a9b",
   "metadata": {
    "execution": {
     "iopub.execute_input": "2024-03-23T12:59:57.015966Z",
     "iopub.status.busy": "2024-03-23T12:59:57.015619Z",
     "iopub.status.idle": "2024-03-23T12:59:57.199730Z",
     "shell.execute_reply": "2024-03-23T12:59:57.198682Z",
     "shell.execute_reply.started": "2024-03-23T12:59:57.015938Z"
    },
    "tags": []
   },
   "outputs": [
    {
     "name": "stdout",
     "output_type": "stream",
     "text": [
      "\u001b[34mLoading data subset from train_train.csv\u001b[0m\n",
      "    ℹ️ Filtered sequences with missing frames. Size reduced from 77228 to 77228 (100.00%)\n",
      "    ℹ️ Filtered on n_frames = 100. Size reduced from 77228 to 68935 (89.26%)\n",
      "    ℹ️ Filtered on n_classes = 10. Size reduced from 68935 to 2801 (4.06%)\n",
      "✅ Loaded 2801 rows (89.26% of the original 77228 rows) from the dataset.\n"
     ]
    }
   ],
   "source": [
    "random_state = 42\n",
    "frac = 1\n",
    "balanced = False\n",
    "n_frames = 100\n",
    "noface = True\n",
    "n_classes = 10\n",
    "\n",
    "# compare 2 methods\n",
    "data1 = data.load_data_subset_csv(random_state=random_state, frac=frac, balanced=balanced, n_frames=n_frames, noface=noface, n_classes=n_classes)"
   ]
  },
  {
   "cell_type": "code",
   "execution_count": 178,
   "id": "c2af2288-07db-4f87-b37d-8c86ebb501c2",
   "metadata": {
    "execution": {
     "iopub.execute_input": "2024-03-23T13:00:03.721741Z",
     "iopub.status.busy": "2024-03-23T13:00:03.720922Z",
     "iopub.status.idle": "2024-03-23T13:00:03.926719Z",
     "shell.execute_reply": "2024-03-23T13:00:03.925872Z",
     "shell.execute_reply.started": "2024-03-23T13:00:03.721714Z"
    },
    "tags": []
   },
   "outputs": [
    {
     "name": "stdout",
     "output_type": "stream",
     "text": [
      "\u001b[34mLoading data subset from train_train.csv\u001b[0m\n",
      "    ℹ️ Filtered sequences with missing frames. Size reduced from 77228 to 77228 (100.00%)\n",
      "    ℹ️ Filtered on n_frames = 100. Size reduced from 77228 to 68935 (89.26%)\n",
      "    ℹ️ Filtered on n_classes = 10. Size reduced from 68935 to 2801 (4.06%)\n",
      "    ⚠️ Total size smaller than requested, with 263 per sign instead of 280\n",
      "    ℹ️ Balanced data, with average of 263.0 elements per class. Size reduced from 2801 to 2630 (93.90%)\n",
      "✅ Loaded 2630 rows (3.41% of the original 77228 rows) from the dataset.\n"
     ]
    }
   ],
   "source": [
    "random_state = 42\n",
    "frac = 1\n",
    "balanced = True\n",
    "n_frames = 100\n",
    "noface = True\n",
    "n_classes = 10\n",
    "\n",
    "# compare 2 methods\n",
    "data1 = data.load_data_subset_csv(random_state=random_state, frac=frac, balanced=balanced, n_frames=n_frames, noface=noface, n_classes=n_classes)"
   ]
  },
  {
   "cell_type": "code",
   "execution_count": 144,
   "id": "fb6a32a8-90cb-4abc-ad4b-401bf59b7525",
   "metadata": {
    "execution": {
     "iopub.execute_input": "2024-03-23T12:44:45.047089Z",
     "iopub.status.busy": "2024-03-23T12:44:45.046552Z",
     "iopub.status.idle": "2024-03-23T12:44:45.108752Z",
     "shell.execute_reply": "2024-03-23T12:44:45.107529Z",
     "shell.execute_reply.started": "2024-03-23T12:44:45.047062Z"
    }
   },
   "outputs": [
    {
     "data": {
      "text/html": [
       "<div>\n",
       "<style scoped>\n",
       "    .dataframe tbody tr th:only-of-type {\n",
       "        vertical-align: middle;\n",
       "    }\n",
       "\n",
       "    .dataframe tbody tr th {\n",
       "        vertical-align: top;\n",
       "    }\n",
       "\n",
       "    .dataframe thead th {\n",
       "        text-align: right;\n",
       "    }\n",
       "</style>\n",
       "<table border=\"1\" class=\"dataframe\">\n",
       "  <thead>\n",
       "    <tr style=\"text-align: right;\">\n",
       "      <th></th>\n",
       "      <th>path</th>\n",
       "      <th>participant_id</th>\n",
       "      <th>sequence_id</th>\n",
       "      <th>sign</th>\n",
       "      <th>n_frames</th>\n",
       "      <th>n_frames2</th>\n",
       "      <th>file_path</th>\n",
       "    </tr>\n",
       "  </thead>\n",
       "  <tbody>\n",
       "    <tr>\n",
       "      <th>0</th>\n",
       "      <td>train_landmark_files/29302/3139450686.parquet</td>\n",
       "      <td>29302</td>\n",
       "      <td>3139450686</td>\n",
       "      <td>book</td>\n",
       "      <td>6</td>\n",
       "      <td>6</td>\n",
       "      <td>/home/bfrisque/code/benoitfrisque/signlens/raw...</td>\n",
       "    </tr>\n",
       "    <tr>\n",
       "      <th>1</th>\n",
       "      <td>train_landmark_files/18796/4028026583.parquet</td>\n",
       "      <td>18796</td>\n",
       "      <td>4028026583</td>\n",
       "      <td>book</td>\n",
       "      <td>6</td>\n",
       "      <td>6</td>\n",
       "      <td>/home/bfrisque/code/benoitfrisque/signlens/raw...</td>\n",
       "    </tr>\n",
       "    <tr>\n",
       "      <th>2</th>\n",
       "      <td>train_landmark_files/28656/3236765669.parquet</td>\n",
       "      <td>28656</td>\n",
       "      <td>3236765669</td>\n",
       "      <td>book</td>\n",
       "      <td>203</td>\n",
       "      <td>203</td>\n",
       "      <td>/home/bfrisque/code/benoitfrisque/signlens/raw...</td>\n",
       "    </tr>\n",
       "    <tr>\n",
       "      <th>3</th>\n",
       "      <td>train_landmark_files/2044/3779884319.parquet</td>\n",
       "      <td>2044</td>\n",
       "      <td>3779884319</td>\n",
       "      <td>book</td>\n",
       "      <td>11</td>\n",
       "      <td>11</td>\n",
       "      <td>/home/bfrisque/code/benoitfrisque/signlens/raw...</td>\n",
       "    </tr>\n",
       "    <tr>\n",
       "      <th>4</th>\n",
       "      <td>train_landmark_files/49445/1531731799.parquet</td>\n",
       "      <td>49445</td>\n",
       "      <td>1531731799</td>\n",
       "      <td>book</td>\n",
       "      <td>40</td>\n",
       "      <td>40</td>\n",
       "      <td>/home/bfrisque/code/benoitfrisque/signlens/raw...</td>\n",
       "    </tr>\n",
       "    <tr>\n",
       "      <th>...</th>\n",
       "      <td>...</td>\n",
       "      <td>...</td>\n",
       "      <td>...</td>\n",
       "      <td>...</td>\n",
       "      <td>...</td>\n",
       "      <td>...</td>\n",
       "      <td>...</td>\n",
       "    </tr>\n",
       "    <tr>\n",
       "      <th>12145</th>\n",
       "      <td>train_landmark_files/61333/1185031115.parquet</td>\n",
       "      <td>61333</td>\n",
       "      <td>1185031115</td>\n",
       "      <td>red</td>\n",
       "      <td>10</td>\n",
       "      <td>10</td>\n",
       "      <td>/home/bfrisque/code/benoitfrisque/signlens/raw...</td>\n",
       "    </tr>\n",
       "    <tr>\n",
       "      <th>12146</th>\n",
       "      <td>train_landmark_files/34503/1281552174.parquet</td>\n",
       "      <td>34503</td>\n",
       "      <td>1281552174</td>\n",
       "      <td>red</td>\n",
       "      <td>11</td>\n",
       "      <td>11</td>\n",
       "      <td>/home/bfrisque/code/benoitfrisque/signlens/raw...</td>\n",
       "    </tr>\n",
       "    <tr>\n",
       "      <th>12147</th>\n",
       "      <td>train_landmark_files/29302/3975162469.parquet</td>\n",
       "      <td>29302</td>\n",
       "      <td>3975162469</td>\n",
       "      <td>red</td>\n",
       "      <td>28</td>\n",
       "      <td>28</td>\n",
       "      <td>/home/bfrisque/code/benoitfrisque/signlens/raw...</td>\n",
       "    </tr>\n",
       "    <tr>\n",
       "      <th>12148</th>\n",
       "      <td>train_landmark_files/18796/2763858681.parquet</td>\n",
       "      <td>18796</td>\n",
       "      <td>2763858681</td>\n",
       "      <td>red</td>\n",
       "      <td>20</td>\n",
       "      <td>20</td>\n",
       "      <td>/home/bfrisque/code/benoitfrisque/signlens/raw...</td>\n",
       "    </tr>\n",
       "    <tr>\n",
       "      <th>12149</th>\n",
       "      <td>train_landmark_files/55372/3555040192.parquet</td>\n",
       "      <td>55372</td>\n",
       "      <td>3555040192</td>\n",
       "      <td>red</td>\n",
       "      <td>18</td>\n",
       "      <td>18</td>\n",
       "      <td>/home/bfrisque/code/benoitfrisque/signlens/raw...</td>\n",
       "    </tr>\n",
       "  </tbody>\n",
       "</table>\n",
       "<p>12150 rows × 7 columns</p>\n",
       "</div>"
      ],
      "text/plain": [
       "                                                path  participant_id  \\\n",
       "0      train_landmark_files/29302/3139450686.parquet           29302   \n",
       "1      train_landmark_files/18796/4028026583.parquet           18796   \n",
       "2      train_landmark_files/28656/3236765669.parquet           28656   \n",
       "3       train_landmark_files/2044/3779884319.parquet            2044   \n",
       "4      train_landmark_files/49445/1531731799.parquet           49445   \n",
       "...                                              ...             ...   \n",
       "12145  train_landmark_files/61333/1185031115.parquet           61333   \n",
       "12146  train_landmark_files/34503/1281552174.parquet           34503   \n",
       "12147  train_landmark_files/29302/3975162469.parquet           29302   \n",
       "12148  train_landmark_files/18796/2763858681.parquet           18796   \n",
       "12149  train_landmark_files/55372/3555040192.parquet           55372   \n",
       "\n",
       "       sequence_id  sign  n_frames  n_frames2  \\\n",
       "0       3139450686  book         6          6   \n",
       "1       4028026583  book         6          6   \n",
       "2       3236765669  book       203        203   \n",
       "3       3779884319  book        11         11   \n",
       "4       1531731799  book        40         40   \n",
       "...            ...   ...       ...        ...   \n",
       "12145   1185031115   red        10         10   \n",
       "12146   1281552174   red        11         11   \n",
       "12147   3975162469   red        28         28   \n",
       "12148   2763858681   red        20         20   \n",
       "12149   3555040192   red        18         18   \n",
       "\n",
       "                                               file_path  \n",
       "0      /home/bfrisque/code/benoitfrisque/signlens/raw...  \n",
       "1      /home/bfrisque/code/benoitfrisque/signlens/raw...  \n",
       "2      /home/bfrisque/code/benoitfrisque/signlens/raw...  \n",
       "3      /home/bfrisque/code/benoitfrisque/signlens/raw...  \n",
       "4      /home/bfrisque/code/benoitfrisque/signlens/raw...  \n",
       "...                                                  ...  \n",
       "12145  /home/bfrisque/code/benoitfrisque/signlens/raw...  \n",
       "12146  /home/bfrisque/code/benoitfrisque/signlens/raw...  \n",
       "12147  /home/bfrisque/code/benoitfrisque/signlens/raw...  \n",
       "12148  /home/bfrisque/code/benoitfrisque/signlens/raw...  \n",
       "12149  /home/bfrisque/code/benoitfrisque/signlens/raw...  \n",
       "\n",
       "[12150 rows x 7 columns]"
      ]
     },
     "execution_count": 144,
     "metadata": {},
     "output_type": "execute_result"
    }
   ],
   "source": [
    "data2"
   ]
  },
  {
   "cell_type": "code",
   "execution_count": 101,
   "id": "6cd72bb3-b6c5-49c9-9dd9-d7fc523eb0a3",
   "metadata": {
    "execution": {
     "iopub.execute_input": "2024-03-23T12:08:55.650680Z",
     "iopub.status.busy": "2024-03-23T12:08:55.649993Z",
     "iopub.status.idle": "2024-03-23T12:08:55.719315Z",
     "shell.execute_reply": "2024-03-23T12:08:55.717962Z",
     "shell.execute_reply.started": "2024-03-23T12:08:55.650649Z"
    }
   },
   "outputs": [
    {
     "data": {
      "text/html": [
       "<div>\n",
       "<style scoped>\n",
       "    .dataframe tbody tr th:only-of-type {\n",
       "        vertical-align: middle;\n",
       "    }\n",
       "\n",
       "    .dataframe tbody tr th {\n",
       "        vertical-align: top;\n",
       "    }\n",
       "\n",
       "    .dataframe thead th {\n",
       "        text-align: right;\n",
       "    }\n",
       "</style>\n",
       "<table border=\"1\" class=\"dataframe\">\n",
       "  <thead>\n",
       "    <tr style=\"text-align: right;\">\n",
       "      <th></th>\n",
       "      <th>sign</th>\n",
       "    </tr>\n",
       "  </thead>\n",
       "  <tbody>\n",
       "    <tr>\n",
       "      <th>0</th>\n",
       "      <td>book</td>\n",
       "    </tr>\n",
       "    <tr>\n",
       "      <th>1</th>\n",
       "      <td>drink</td>\n",
       "    </tr>\n",
       "    <tr>\n",
       "      <th>2</th>\n",
       "      <td>before</td>\n",
       "    </tr>\n",
       "    <tr>\n",
       "      <th>3</th>\n",
       "      <td>chair</td>\n",
       "    </tr>\n",
       "    <tr>\n",
       "      <th>4</th>\n",
       "      <td>go</td>\n",
       "    </tr>\n",
       "    <tr>\n",
       "      <th>...</th>\n",
       "      <td>...</td>\n",
       "    </tr>\n",
       "    <tr>\n",
       "      <th>233</th>\n",
       "      <td>wake</td>\n",
       "    </tr>\n",
       "    <tr>\n",
       "      <th>236</th>\n",
       "      <td>weus</td>\n",
       "    </tr>\n",
       "    <tr>\n",
       "      <th>247</th>\n",
       "      <td>yucky</td>\n",
       "    </tr>\n",
       "    <tr>\n",
       "      <th>248</th>\n",
       "      <td>zebra</td>\n",
       "    </tr>\n",
       "    <tr>\n",
       "      <th>249</th>\n",
       "      <td>zipper</td>\n",
       "    </tr>\n",
       "  </tbody>\n",
       "</table>\n",
       "<p>250 rows × 1 columns</p>\n",
       "</div>"
      ],
      "text/plain": [
       "       sign\n",
       "0      book\n",
       "1     drink\n",
       "2    before\n",
       "3     chair\n",
       "4        go\n",
       "..      ...\n",
       "233    wake\n",
       "236    weus\n",
       "247   yucky\n",
       "248   zebra\n",
       "249  zipper\n",
       "\n",
       "[250 rows x 1 columns]"
      ]
     },
     "execution_count": 101,
     "metadata": {},
     "output_type": "execute_result"
    }
   ],
   "source": [
    "from signlens.preprocessing import glossary\n",
    "\n",
    "glossary.load_glossary()"
   ]
  },
  {
   "cell_type": "code",
   "execution_count": 179,
   "id": "a3f0f1fe-2edf-435c-a8d2-0ef0691fa5b5",
   "metadata": {
    "execution": {
     "iopub.execute_input": "2024-03-23T13:00:37.847817Z",
     "iopub.status.busy": "2024-03-23T13:00:37.847477Z",
     "iopub.status.idle": "2024-03-23T13:00:40.054119Z",
     "shell.execute_reply": "2024-03-23T13:00:40.053237Z",
     "shell.execute_reply.started": "2024-03-23T13:00:37.847791Z"
    }
   },
   "outputs": [
    {
     "name": "stdout",
     "output_type": "stream",
     "text": [
      "\u001b[34m\u001b[1m\n",
      "Creating unique test set with test_size = 0.2\u001b[0m\n",
      "\u001b[34mLoading data subset from train.csv\u001b[0m\n",
      "    ℹ File with frames already exists, loaded matching 'sequence_id' rows.\n",
      "    ℹ️ Filtered sequences with missing frames. Size reduced from 94477 to 94461 (99.98%)\n",
      "    ℹ️ Filtered on n_frames = 100. Size reduced from 94461 to 86168 (91.22%)\n",
      "    ℹ️ Filtered on n_classes = 250. Size reduced from 86168 to 86168 (100.00%)\n",
      "    ℹ️ Balanced data, with average of 68.9 elements per class. Size reduced from 86168 to 17233 (20.00%)\n",
      "✅ Loaded 17233 rows (18.24% of the original 94477 rows) from the dataset.\n",
      "\u001b[34m\u001b[1m\n",
      "Creating training set\u001b[0m\n",
      "\u001b[34mLoading data subset from train.csv\u001b[0m\n",
      "    ℹ File with frames already exists, loaded matching 'sequence_id' rows.\n",
      "    ℹ️ Filtered sequences with missing frames. Size reduced from 94477 to 94461 (99.98%)\n",
      "    ℹ️ Filtered on n_classes = 250. Size reduced from 94461 to 94461 (100.00%)\n",
      "✅ Loaded 94461 rows (99.98% of the original 94477 rows) from the dataset.\n",
      "\u001b[34m\n",
      "Total loaded rows : 94461         \n",
      "Total training rows : 77228 (81.76%)         \n",
      "Total test rows : 17233 (18.24%)\u001b[0m\n",
      "\u001b[34m\n",
      "Train and test data saved at /home/bfrisque/code/benoitfrisque/signlens/processed_data/train_train.csv and /home/bfrisque/code/benoitfrisque/signlens/processed_data/train_test.csv\u001b[0m\n"
     ]
    }
   ],
   "source": [
    "data.unique_train_test_split(force_rewrite=True)"
   ]
  },
  {
   "cell_type": "code",
   "execution_count": null,
   "id": "5c374859-05e4-4cf2-8f95-15f2a1b733d7",
   "metadata": {},
   "outputs": [],
   "source": []
  }
 ],
 "metadata": {
  "kernelspec": {
   "display_name": "Python 3 (ipykernel)",
   "language": "python",
   "name": "python3"
  },
  "language_info": {
   "codemirror_mode": {
    "name": "ipython",
    "version": 3
   },
   "file_extension": ".py",
   "mimetype": "text/x-python",
   "name": "python",
   "nbconvert_exporter": "python",
   "pygments_lexer": "ipython3",
   "version": "3.10.6"
  }
 },
 "nbformat": 4,
 "nbformat_minor": 5
}

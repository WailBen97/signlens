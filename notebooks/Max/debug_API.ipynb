{
 "cells": [
  {
   "cell_type": "code",
   "execution_count": 1,
   "id": "c59e59e7-9800-47d6-9159-3d97e1f446fd",
   "metadata": {},
   "outputs": [
    {
     "name": "stderr",
     "output_type": "stream",
     "text": [
      "2024-03-25 12:24:06.959621: I tensorflow/core/platform/cpu_feature_guard.cc:210] This TensorFlow binary is optimized to use available CPU instructions in performance-critical operations.\n",
      "To enable the following instructions: AVX2 FMA, in other operations, rebuild TensorFlow with the appropriate compiler flags.\n"
     ]
    }
   ],
   "source": [
    "import pandas as pd\n",
    "import numpy as np\n",
    "from fastapi import FastAPI, UploadFile, File, HTTPException\n",
    "from fastapi.middleware.cors import CORSMiddleware\n",
    "\n",
    "from signlens.preprocessing.preprocess import group_pad_sequences, decode_labels, pad_and_preprocess_sequence, reshape_processed_data_to_tf\n",
    "from signlens.preprocessing.data import load_relevant_data_subset, load_data_subset_csv, load_video_list_json, load_landmarks_json\n",
    "from utils.model_utils import load_model\n",
    "from utils.video_utils import process_video_to_landmarks_json"
   ]
  },
  {
   "cell_type": "markdown",
   "id": "ce6c86d8-8bb7-4ab5-83cc-e8d1e9114251",
   "metadata": {
    "jp-MarkdownHeadingCollapsed": true
   },
   "source": [
    "## Debug with Parquet files "
   ]
  },
  {
   "cell_type": "code",
   "execution_count": 2,
   "id": "c4a8d0a0-e2df-412d-8788-052de2cb4a51",
   "metadata": {},
   "outputs": [],
   "source": [
    "pq_path = '/Users/max/code/benoitfrisque/signlens/raw_data/asl-signs/train_landmark_files_noface/22343/1130422569.parquet'"
   ]
  },
  {
   "cell_type": "code",
   "execution_count": 3,
   "id": "a78a87f9-f832-4699-94d4-58020c254ec8",
   "metadata": {},
   "outputs": [
    {
     "data": {
      "text/html": [
       "<div>\n",
       "<style scoped>\n",
       "    .dataframe tbody tr th:only-of-type {\n",
       "        vertical-align: middle;\n",
       "    }\n",
       "\n",
       "    .dataframe tbody tr th {\n",
       "        vertical-align: top;\n",
       "    }\n",
       "\n",
       "    .dataframe thead th {\n",
       "        text-align: right;\n",
       "    }\n",
       "</style>\n",
       "<table border=\"1\" class=\"dataframe\">\n",
       "  <thead>\n",
       "    <tr style=\"text-align: right;\">\n",
       "      <th></th>\n",
       "      <th>frame</th>\n",
       "      <th>row_id</th>\n",
       "      <th>type</th>\n",
       "      <th>landmark_index</th>\n",
       "      <th>x</th>\n",
       "      <th>y</th>\n",
       "      <th>z</th>\n",
       "    </tr>\n",
       "  </thead>\n",
       "  <tbody>\n",
       "    <tr>\n",
       "      <th>468</th>\n",
       "      <td>61</td>\n",
       "      <td>61-left_hand-0</td>\n",
       "      <td>left_hand</td>\n",
       "      <td>0</td>\n",
       "      <td>NaN</td>\n",
       "      <td>NaN</td>\n",
       "      <td>NaN</td>\n",
       "    </tr>\n",
       "    <tr>\n",
       "      <th>469</th>\n",
       "      <td>61</td>\n",
       "      <td>61-left_hand-1</td>\n",
       "      <td>left_hand</td>\n",
       "      <td>1</td>\n",
       "      <td>NaN</td>\n",
       "      <td>NaN</td>\n",
       "      <td>NaN</td>\n",
       "    </tr>\n",
       "    <tr>\n",
       "      <th>470</th>\n",
       "      <td>61</td>\n",
       "      <td>61-left_hand-2</td>\n",
       "      <td>left_hand</td>\n",
       "      <td>2</td>\n",
       "      <td>NaN</td>\n",
       "      <td>NaN</td>\n",
       "      <td>NaN</td>\n",
       "    </tr>\n",
       "    <tr>\n",
       "      <th>471</th>\n",
       "      <td>61</td>\n",
       "      <td>61-left_hand-3</td>\n",
       "      <td>left_hand</td>\n",
       "      <td>3</td>\n",
       "      <td>NaN</td>\n",
       "      <td>NaN</td>\n",
       "      <td>NaN</td>\n",
       "    </tr>\n",
       "    <tr>\n",
       "      <th>472</th>\n",
       "      <td>61</td>\n",
       "      <td>61-left_hand-4</td>\n",
       "      <td>left_hand</td>\n",
       "      <td>4</td>\n",
       "      <td>NaN</td>\n",
       "      <td>NaN</td>\n",
       "      <td>NaN</td>\n",
       "    </tr>\n",
       "    <tr>\n",
       "      <th>...</th>\n",
       "      <td>...</td>\n",
       "      <td>...</td>\n",
       "      <td>...</td>\n",
       "      <td>...</td>\n",
       "      <td>...</td>\n",
       "      <td>...</td>\n",
       "      <td>...</td>\n",
       "    </tr>\n",
       "    <tr>\n",
       "      <th>3253</th>\n",
       "      <td>66</td>\n",
       "      <td>66-right_hand-16</td>\n",
       "      <td>right_hand</td>\n",
       "      <td>16</td>\n",
       "      <td>NaN</td>\n",
       "      <td>NaN</td>\n",
       "      <td>NaN</td>\n",
       "    </tr>\n",
       "    <tr>\n",
       "      <th>3254</th>\n",
       "      <td>66</td>\n",
       "      <td>66-right_hand-17</td>\n",
       "      <td>right_hand</td>\n",
       "      <td>17</td>\n",
       "      <td>NaN</td>\n",
       "      <td>NaN</td>\n",
       "      <td>NaN</td>\n",
       "    </tr>\n",
       "    <tr>\n",
       "      <th>3255</th>\n",
       "      <td>66</td>\n",
       "      <td>66-right_hand-18</td>\n",
       "      <td>right_hand</td>\n",
       "      <td>18</td>\n",
       "      <td>NaN</td>\n",
       "      <td>NaN</td>\n",
       "      <td>NaN</td>\n",
       "    </tr>\n",
       "    <tr>\n",
       "      <th>3256</th>\n",
       "      <td>66</td>\n",
       "      <td>66-right_hand-19</td>\n",
       "      <td>right_hand</td>\n",
       "      <td>19</td>\n",
       "      <td>NaN</td>\n",
       "      <td>NaN</td>\n",
       "      <td>NaN</td>\n",
       "    </tr>\n",
       "    <tr>\n",
       "      <th>3257</th>\n",
       "      <td>66</td>\n",
       "      <td>66-right_hand-20</td>\n",
       "      <td>right_hand</td>\n",
       "      <td>20</td>\n",
       "      <td>NaN</td>\n",
       "      <td>NaN</td>\n",
       "      <td>NaN</td>\n",
       "    </tr>\n",
       "  </tbody>\n",
       "</table>\n",
       "<p>450 rows × 7 columns</p>\n",
       "</div>"
      ],
      "text/plain": [
       "      frame            row_id        type  landmark_index   x   y   z\n",
       "468      61    61-left_hand-0   left_hand               0 NaN NaN NaN\n",
       "469      61    61-left_hand-1   left_hand               1 NaN NaN NaN\n",
       "470      61    61-left_hand-2   left_hand               2 NaN NaN NaN\n",
       "471      61    61-left_hand-3   left_hand               3 NaN NaN NaN\n",
       "472      61    61-left_hand-4   left_hand               4 NaN NaN NaN\n",
       "...     ...               ...         ...             ...  ..  ..  ..\n",
       "3253     66  66-right_hand-16  right_hand              16 NaN NaN NaN\n",
       "3254     66  66-right_hand-17  right_hand              17 NaN NaN NaN\n",
       "3255     66  66-right_hand-18  right_hand              18 NaN NaN NaN\n",
       "3256     66  66-right_hand-19  right_hand              19 NaN NaN NaN\n",
       "3257     66  66-right_hand-20  right_hand              20 NaN NaN NaN\n",
       "\n",
       "[450 rows x 7 columns]"
      ]
     },
     "execution_count": 3,
     "metadata": {},
     "output_type": "execute_result"
    }
   ],
   "source": [
    "pd.read_parquet(pq_path)"
   ]
  },
  {
   "cell_type": "code",
   "execution_count": 4,
   "id": "aae69f04-e7f6-43ef-b29c-d8e68bc96c54",
   "metadata": {},
   "outputs": [
    {
     "data": {
      "text/plain": [
       "<tf.Tensor: shape=(1, 100, 225), dtype=float32, numpy=\n",
       "array([[[0., 0., 0., ..., 0., 0., 0.],\n",
       "        [0., 0., 0., ..., 0., 0., 0.],\n",
       "        [0., 0., 0., ..., 0., 0., 0.],\n",
       "        ...,\n",
       "        [0., 0., 0., ..., 0., 0., 0.],\n",
       "        [0., 0., 0., ..., 0., 0., 0.],\n",
       "        [0., 0., 0., ..., 0., 0., 0.]]], dtype=float32)>"
      ]
     },
     "execution_count": 4,
     "metadata": {},
     "output_type": "execute_result"
    }
   ],
   "source": [
    "processed_data = preprocess_and_pad_sequences_from_pq_list(pd.Series([pq_path]))\n",
    "processed_data"
   ]
  },
  {
   "cell_type": "code",
   "execution_count": 7,
   "id": "d0f35fb3-d0f7-4799-b880-58cbe7ae71dd",
   "metadata": {},
   "outputs": [
    {
     "name": "stdout",
     "output_type": "stream",
     "text": [
      "\u001b[34m\n",
      "Load latest model from local registry...\u001b[0m\n",
      "\u001b[34m\n",
      "Load latest model from disk...\u001b[0m\n",
      "✅ Model loaded from local disk /Users/max/code/benoitfrisque/signlens/training_outputs/model 20240322-173411\n",
      "\u001b[1m1/1\u001b[0m \u001b[32m━━━━━━━━━━━━━━━━━━━━\u001b[0m\u001b[37m\u001b[0m \u001b[1m2s\u001b[0m 2s/step\n"
     ]
    }
   ],
   "source": [
    "model_name = \"model 20240322-173411\"\n",
    "model = load_model(model_name)\n",
    "\n",
    "model = model[0]\n",
    "\n",
    "prediction = model.predict([processed_data])"
   ]
  },
  {
   "cell_type": "code",
   "execution_count": 6,
   "id": "0e16a794-7e81-45db-b7e8-b8800aef59ac",
   "metadata": {},
   "outputs": [
    {
     "data": {
      "text/plain": [
       "<tf.Tensor: shape=(1, 100, 225), dtype=float32, numpy=\n",
       "array([[[0., 0., 0., ..., 0., 0., 0.],\n",
       "        [0., 0., 0., ..., 0., 0., 0.],\n",
       "        [0., 0., 0., ..., 0., 0., 0.],\n",
       "        ...,\n",
       "        [0., 0., 0., ..., 0., 0., 0.],\n",
       "        [0., 0., 0., ..., 0., 0., 0.],\n",
       "        [0., 0., 0., ..., 0., 0., 0.]]], dtype=float32)>"
      ]
     },
     "execution_count": 6,
     "metadata": {},
     "output_type": "execute_result"
    }
   ],
   "source": [
    "processed_data"
   ]
  },
  {
   "cell_type": "code",
   "execution_count": 8,
   "id": "fe028acc-aae3-41a9-870f-5c89cc8632cd",
   "metadata": {},
   "outputs": [
    {
     "data": {
      "text/plain": [
       "array([[0.12294942, 0.05086957, 0.09900542, 0.14869675, 0.08723761,\n",
       "        0.05622363, 0.1207337 , 0.11545481, 0.08714273, 0.11168633]],\n",
       "      dtype=float32)"
      ]
     },
     "execution_count": 8,
     "metadata": {},
     "output_type": "execute_result"
    }
   ],
   "source": [
    "prediction"
   ]
  },
  {
   "cell_type": "code",
   "execution_count": 9,
   "id": "06b61dae-b823-4714-8bf3-f1108205658e",
   "metadata": {},
   "outputs": [
    {
     "data": {
      "text/plain": [
       "(['chair'], array([0.14869675], dtype=float32))"
      ]
     },
     "execution_count": 9,
     "metadata": {},
     "output_type": "execute_result"
    }
   ],
   "source": [
    "word = decode_labels(prediction)\n",
    "word"
   ]
  },
  {
   "cell_type": "markdown",
   "id": "df298c28-e483-413d-af22-b516df8c51cb",
   "metadata": {
    "jp-MarkdownHeadingCollapsed": true
   },
   "source": [
    "## Debug with JSON files "
   ]
  },
  {
   "cell_type": "code",
   "execution_count": 3,
   "id": "24785188-b64c-4ebc-96eb-453f59100a04",
   "metadata": {},
   "outputs": [],
   "source": [
    "videos = load_video_list_json()"
   ]
  },
  {
   "cell_type": "code",
   "execution_count": 4,
   "id": "ad70d5bb-6ae5-4442-8d9e-76001d26a467",
   "metadata": {},
   "outputs": [],
   "source": [
    "video_path = videos[videos.sign == 'book'].video_path.iloc[0]"
   ]
  },
  {
   "cell_type": "code",
   "execution_count": 8,
   "id": "24d52b06-8a00-46c7-8daf-c2042697eefa",
   "metadata": {},
   "outputs": [
    {
     "name": "stdout",
     "output_type": "stream",
     "text": [
      "An error occurred: ValidatedGraphConfig Initialization failed.\n",
      "ImageToTensorCalculator: ; RET_CHECK failure (mediapipe/calculators/tensor/image_to_tensor_calculator.cc:144) ValidateOptionOutputDims(options) returned INTERNAL: ; RET_CHECK failure (./mediapipe/calculators/tensor/image_to_tensor_utils.h:136) options.has_output_tensor_float_range() || options.has_output_tensor_int_range() || options.has_output_tensor_uint_range()Output tensor range is required. \n",
      "InferenceCalculatorCpu: ; RET_CHECK failure (mediapipe/calculators/tensor/inference_calculator_cpu.cc:63) !options.model_path().empty() ^ kSideInModel(cc).IsConnected()Either model as side packet or model path in options is required.\n",
      "SplitDetectionVectorCalculator: The number of output streams should match the number of ranges specified in the CalculatorOptions.\n",
      "ImageToTensorCalculator: ; RET_CHECK failure (mediapipe/calculators/tensor/image_to_tensor_calculator.cc:144) ValidateOptionOutputDims(options) returned INTERNAL: ; RET_CHECK failure (./mediapipe/calculators/tensor/image_to_tensor_utils.h:136) options.has_output_tensor_float_range() || options.has_output_tensor_int_range() || options.has_output_tensor_uint_range()Output tensor range is required. \n",
      "ConstantSidePacketCalculator: ; RET_CHECK failure (mediapipe/calculators/core/constant_side_packet_calculator.cc:64) (cc->OutputSidePackets().NumEntries(kPacketTag))==(options.packet_size())Number of output side packets has to be same as number of packets configured in options.\n",
      "ConstantSidePacketCalculator: ; RET_CHECK failure (mediapipe/calculators/core/constant_side_packet_calculator.cc:64) (cc->OutputSidePackets().NumEntries(kPacketTag))==(options.packet_size())Number of output side packets has to be same as number of packets configured in options.\n",
      "ConstantSidePacketCalculator: ; RET_CHECK failure (mediapipe/calculators/core/constant_side_packet_calculator.cc:64) (cc->OutputSidePackets().NumEntries(kPacketTag))==(options.packet_size())Number of output side packets has to be same as number of packets configured in options.\n",
      "SplitTensorVectorCalculator: The number of output streams should match the number of ranges specified in the CalculatorOptions.\n",
      "SplitNormalizedLandmarkListCalculator: The number of output streams should match the number of ranges specified in the CalculatorOptions.\n",
      "SplitLandmarkListCalculator: The number of output streams should match the number of ranges specified in the CalculatorOptions.\n"
     ]
    }
   ],
   "source": [
    "json_data = process_video_to_landmarks_json(video_path, json_output=False, save_annotated_video=False, show_preview=False, frame_interval=1, rear_camera=True)"
   ]
  },
  {
   "cell_type": "code",
   "execution_count": 9,
   "id": "6e008b09-bc24-437a-b958-f9c729b0dab7",
   "metadata": {},
   "outputs": [
    {
     "data": {
      "text/plain": [
       "[]"
      ]
     },
     "execution_count": 9,
     "metadata": {},
     "output_type": "execute_result"
    }
   ],
   "source": [
    "json_data"
   ]
  },
  {
   "cell_type": "markdown",
   "id": "14c06dcf-f311-4a55-a0f5-0f9d26fa8146",
   "metadata": {},
   "source": [
    "## Debug the output (return statement)"
   ]
  },
  {
   "cell_type": "markdown",
   "id": "c75c6356-7ae6-491c-bc00-02c6b1271634",
   "metadata": {},
   "source": [
    "JSON path is given, needs to return a dictionary as an output"
   ]
  },
  {
   "cell_type": "code",
   "execution_count": 2,
   "id": "7ce6c0cf-6005-4964-a75f-9ec6f8395cb7",
   "metadata": {},
   "outputs": [
    {
     "name": "stdout",
     "output_type": "stream",
     "text": [
      "\u001b[34m\n",
      "Load latest model from local registry...\u001b[0m\n",
      "\u001b[34m\n",
      "Load latest model from disk...\u001b[0m\n",
      "✅ Model loaded from local disk /Users/max/code/benoitfrisque/signlens/training_outputs/model 20240322-173411\n"
     ]
    }
   ],
   "source": [
    "model_name = \"model 20240322-173411\"\n",
    "model, _ = load_model(model_name)"
   ]
  },
  {
   "cell_type": "code",
   "execution_count": 3,
   "id": "423e3f24-5237-4c77-a02e-23924d380aae",
   "metadata": {},
   "outputs": [],
   "source": [
    "landmarks_json_path = '/Users/max/code/benoitfrisque/signlens/processed_data/07070_landmarks.json'"
   ]
  },
  {
   "cell_type": "code",
   "execution_count": 4,
   "id": "5769e66d-a3e8-412b-b0ff-b9461cb2ccc6",
   "metadata": {},
   "outputs": [
    {
     "data": {
      "text/plain": [
       "array([[[ 0.52077091,  0.28274578, -1.17921996],\n",
       "        [ 0.55038935,  0.24660993, -1.13354099],\n",
       "        [ 0.56552011,  0.24998254, -1.13373411],\n",
       "        ...,\n",
       "        [        nan,         nan,         nan],\n",
       "        [        nan,         nan,         nan],\n",
       "        [        nan,         nan,         nan]],\n",
       "\n",
       "       [[ 0.52837896,  0.28276762, -1.13102567],\n",
       "        [ 0.55374402,  0.24695426, -1.07339215],\n",
       "        [ 0.567366  ,  0.25036377, -1.07361257],\n",
       "        ...,\n",
       "        [        nan,         nan,         nan],\n",
       "        [        nan,         nan,         nan],\n",
       "        [        nan,         nan,         nan]],\n",
       "\n",
       "       [[ 0.53207505,  0.28231111, -1.14035559],\n",
       "        [ 0.55565143,  0.2469483 , -1.08670712],\n",
       "        [ 0.5685342 ,  0.25035664, -1.08691549],\n",
       "        ...,\n",
       "        [        nan,         nan,         nan],\n",
       "        [        nan,         nan,         nan],\n",
       "        [        nan,         nan,         nan]],\n",
       "\n",
       "       ...,\n",
       "\n",
       "       [[ 0.52725458,  0.27833903, -1.09706616],\n",
       "        [ 0.55240357,  0.24667977, -1.04499507],\n",
       "        [ 0.56474519,  0.25086477, -1.04514349],\n",
       "        ...,\n",
       "        [        nan,         nan,         nan],\n",
       "        [        nan,         nan,         nan],\n",
       "        [        nan,         nan,         nan]],\n",
       "\n",
       "       [[ 0.52475852,  0.27610579, -1.16304624],\n",
       "        [ 0.55016059,  0.24525717, -1.11460912],\n",
       "        [ 0.56287086,  0.24947141, -1.11483741],\n",
       "        ...,\n",
       "        [        nan,         nan,         nan],\n",
       "        [        nan,         nan,         nan],\n",
       "        [        nan,         nan,         nan]],\n",
       "\n",
       "       [[        nan,         nan,         nan],\n",
       "        [        nan,         nan,         nan],\n",
       "        [        nan,         nan,         nan],\n",
       "        ...,\n",
       "        [        nan,         nan,         nan],\n",
       "        [        nan,         nan,         nan],\n",
       "        [        nan,         nan,         nan]]])"
      ]
     },
     "execution_count": 4,
     "metadata": {},
     "output_type": "execute_result"
    }
   ],
   "source": [
    "landmarks = load_landmarks_json(landmarks_json_path)\n",
    "landmarks"
   ]
  },
  {
   "cell_type": "code",
   "execution_count": 5,
   "id": "f0b15862-f32b-4883-85b7-7071b613965a",
   "metadata": {},
   "outputs": [
    {
     "data": {
      "text/plain": [
       "array([[[ 0.52077091,  0.28274578, -1.17921996],\n",
       "        [ 0.55038935,  0.24660993, -1.13354099],\n",
       "        [ 0.56552011,  0.24998254, -1.13373411],\n",
       "        ...,\n",
       "        [ 0.        ,  0.        ,  0.        ],\n",
       "        [ 0.        ,  0.        ,  0.        ],\n",
       "        [ 0.        ,  0.        ,  0.        ]],\n",
       "\n",
       "       [[ 0.52837896,  0.28276762, -1.13102567],\n",
       "        [ 0.55374402,  0.24695426, -1.07339215],\n",
       "        [ 0.567366  ,  0.25036377, -1.07361257],\n",
       "        ...,\n",
       "        [ 0.        ,  0.        ,  0.        ],\n",
       "        [ 0.        ,  0.        ,  0.        ],\n",
       "        [ 0.        ,  0.        ,  0.        ]],\n",
       "\n",
       "       [[ 0.53207505,  0.28231111, -1.14035559],\n",
       "        [ 0.55565143,  0.2469483 , -1.08670712],\n",
       "        [ 0.5685342 ,  0.25035664, -1.08691549],\n",
       "        ...,\n",
       "        [ 0.        ,  0.        ,  0.        ],\n",
       "        [ 0.        ,  0.        ,  0.        ],\n",
       "        [ 0.        ,  0.        ,  0.        ]],\n",
       "\n",
       "       ...,\n",
       "\n",
       "       [[ 0.        ,  0.        ,  0.        ],\n",
       "        [ 0.        ,  0.        ,  0.        ],\n",
       "        [ 0.        ,  0.        ,  0.        ],\n",
       "        ...,\n",
       "        [ 0.        ,  0.        ,  0.        ],\n",
       "        [ 0.        ,  0.        ,  0.        ],\n",
       "        [ 0.        ,  0.        ,  0.        ]],\n",
       "\n",
       "       [[ 0.        ,  0.        ,  0.        ],\n",
       "        [ 0.        ,  0.        ,  0.        ],\n",
       "        [ 0.        ,  0.        ,  0.        ],\n",
       "        ...,\n",
       "        [ 0.        ,  0.        ,  0.        ],\n",
       "        [ 0.        ,  0.        ,  0.        ],\n",
       "        [ 0.        ,  0.        ,  0.        ]],\n",
       "\n",
       "       [[ 0.        ,  0.        ,  0.        ],\n",
       "        [ 0.        ,  0.        ,  0.        ],\n",
       "        [ 0.        ,  0.        ,  0.        ],\n",
       "        ...,\n",
       "        [ 0.        ,  0.        ,  0.        ],\n",
       "        [ 0.        ,  0.        ,  0.        ],\n",
       "        [ 0.        ,  0.        ,  0.        ]]])"
      ]
     },
     "execution_count": 5,
     "metadata": {},
     "output_type": "execute_result"
    }
   ],
   "source": [
    "data_processed = pad_and_preprocess_sequence (landmarks)\n",
    "data_processed"
   ]
  },
  {
   "cell_type": "code",
   "execution_count": 6,
   "id": "41e418d2-d4f0-4de7-8f1b-359acf16f1a5",
   "metadata": {},
   "outputs": [
    {
     "data": {
      "text/plain": [
       "<tf.Tensor: shape=(1, 100, 225), dtype=float64, numpy=\n",
       "array([[[ 0.52077091,  0.28274578, -1.17921996, ...,  0.        ,\n",
       "          0.        ,  0.        ],\n",
       "        [ 0.52837896,  0.28276762, -1.13102567, ...,  0.        ,\n",
       "          0.        ,  0.        ],\n",
       "        [ 0.53207505,  0.28231111, -1.14035559, ...,  0.        ,\n",
       "          0.        ,  0.        ],\n",
       "        ...,\n",
       "        [ 0.        ,  0.        ,  0.        , ...,  0.        ,\n",
       "          0.        ,  0.        ],\n",
       "        [ 0.        ,  0.        ,  0.        , ...,  0.        ,\n",
       "          0.        ,  0.        ],\n",
       "        [ 0.        ,  0.        ,  0.        , ...,  0.        ,\n",
       "          0.        ,  0.        ]]])>"
      ]
     },
     "execution_count": 6,
     "metadata": {},
     "output_type": "execute_result"
    }
   ],
   "source": [
    "data_tf = reshape_processed_data_to_tf(data_processed)\n",
    "data_tf"
   ]
  },
  {
   "cell_type": "code",
   "execution_count": 7,
   "id": "a87d712f-fe3f-4ecb-8cd1-3f934e784623",
   "metadata": {},
   "outputs": [
    {
     "name": "stdout",
     "output_type": "stream",
     "text": [
      "\u001b[1m1/1\u001b[0m \u001b[32m━━━━━━━━━━━━━━━━━━━━\u001b[0m\u001b[37m\u001b[0m \u001b[1m1s\u001b[0m 1s/step\n"
     ]
    },
    {
     "data": {
      "text/plain": [
       "array([[0.13047627, 0.04971163, 0.06018183, 0.09111148, 0.05924381,\n",
       "        0.18378511, 0.16353346, 0.08900592, 0.07050943, 0.10244113]],\n",
       "      dtype=float32)"
      ]
     },
     "execution_count": 7,
     "metadata": {},
     "output_type": "execute_result"
    }
   ],
   "source": [
    "prediction = model.predict(data_tf)\n",
    "prediction"
   ]
  },
  {
   "cell_type": "code",
   "execution_count": 32,
   "id": "a734bbe7-9e1c-44a5-aff6-6fcc5285fcae",
   "metadata": {},
   "outputs": [],
   "source": [
    "word, proba = decode_labels(prediction)"
   ]
  },
  {
   "cell_type": "code",
   "execution_count": 33,
   "id": "695dc350-cf44-4495-a050-07da154f528f",
   "metadata": {},
   "outputs": [
    {
     "data": {
      "text/plain": [
       "(['who'], array([0.18378511], dtype=float32))"
      ]
     },
     "execution_count": 33,
     "metadata": {},
     "output_type": "execute_result"
    }
   ],
   "source": [
    "word, proba"
   ]
  },
  {
   "cell_type": "code",
   "execution_count": 34,
   "id": "10e59acd-819d-4763-8440-9138aebe46ec",
   "metadata": {},
   "outputs": [
    {
     "data": {
      "text/plain": [
       "('who', 0.18378511)"
      ]
     },
     "execution_count": 34,
     "metadata": {},
     "output_type": "execute_result"
    }
   ],
   "source": [
    "word[0], proba[0]"
   ]
  },
  {
   "cell_type": "code",
   "execution_count": 35,
   "id": "2ea9f154-9b2b-4c9b-8531-80757998c915",
   "metadata": {},
   "outputs": [
    {
     "data": {
      "text/plain": [
       "numpy.ndarray"
      ]
     },
     "execution_count": 35,
     "metadata": {},
     "output_type": "execute_result"
    }
   ],
   "source": [
    "type(proba)"
   ]
  },
  {
   "cell_type": "code",
   "execution_count": 36,
   "id": "60196c75-ee39-4c8c-b6ed-2a5aa438d41a",
   "metadata": {},
   "outputs": [
    {
     "data": {
      "text/plain": [
       "list"
      ]
     },
     "execution_count": 36,
     "metadata": {},
     "output_type": "execute_result"
    }
   ],
   "source": [
    "type(word)"
   ]
  },
  {
   "cell_type": "code",
   "execution_count": 37,
   "id": "442d6d5c-98f6-49c7-9be4-9c245d8954a8",
   "metadata": {},
   "outputs": [
    {
     "data": {
      "text/plain": [
       "'who'"
      ]
     },
     "execution_count": 37,
     "metadata": {},
     "output_type": "execute_result"
    }
   ],
   "source": [
    "word = word[0]\n",
    "word"
   ]
  },
  {
   "cell_type": "code",
   "execution_count": 38,
   "id": "7bee79b5-502e-474f-a448-14a463fadf71",
   "metadata": {},
   "outputs": [],
   "source": [
    "proba = float(proba[0])"
   ]
  },
  {
   "cell_type": "code",
   "execution_count": 39,
   "id": "70ee3a7c-627c-466f-a27d-c7d82d57b90c",
   "metadata": {},
   "outputs": [
    {
     "data": {
      "text/plain": [
       "0.1837851107120514"
      ]
     },
     "execution_count": 39,
     "metadata": {},
     "output_type": "execute_result"
    }
   ],
   "source": [
    "proba"
   ]
  },
  {
   "cell_type": "code",
   "execution_count": null,
   "id": "08cc4252-f783-4a5d-a21d-b82b7714c62e",
   "metadata": {},
   "outputs": [],
   "source": []
  }
 ],
 "metadata": {
  "kernelspec": {
   "display_name": "Python 3 (ipykernel)",
   "language": "python",
   "name": "python3"
  },
  "language_info": {
   "codemirror_mode": {
    "name": "ipython",
    "version": 3
   },
   "file_extension": ".py",
   "mimetype": "text/x-python",
   "name": "python",
   "nbconvert_exporter": "python",
   "pygments_lexer": "ipython3",
   "version": "3.10.6"
  }
 },
 "nbformat": 4,
 "nbformat_minor": 5
}

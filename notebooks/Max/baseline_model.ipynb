{
 "cells": [
  {
   "cell_type": "code",
   "execution_count": 2,
   "metadata": {},
   "outputs": [],
   "source": [
    "# !pip install tqdm"
   ]
  },
  {
   "cell_type": "code",
   "execution_count": 21,
   "metadata": {},
   "outputs": [],
   "source": [
    "from signlens.preprocessing import data\n",
    "import pandas as pd"
   ]
  },
  {
   "cell_type": "code",
   "execution_count": 9,
   "metadata": {},
   "outputs": [
    {
     "name": "stdout",
     "output_type": "stream",
     "text": [
      "<class 'pandas.core.frame.DataFrame'>\n",
      "RangeIndex: 94477 entries, 0 to 94476\n",
      "Data columns (total 5 columns):\n",
      " #   Column          Non-Null Count  Dtype \n",
      "---  ------          --------------  ----- \n",
      " 0   path            94477 non-null  object\n",
      " 1   participant_id  94477 non-null  int64 \n",
      " 2   sequence_id     94477 non-null  int64 \n",
      " 3   sign            94477 non-null  object\n",
      " 4   file_path       94477 non-null  object\n",
      "dtypes: int64(2), object(3)\n",
      "memory usage: 3.6+ MB\n"
     ]
    }
   ],
   "source": [
    "full_ds = data.load_subset_data()\n",
    "full_ds.info()"
   ]
  },
  {
   "cell_type": "code",
   "execution_count": 25,
   "metadata": {},
   "outputs": [
    {
     "data": {
      "text/plain": [
       "path              0\n",
       "participant_id    0\n",
       "sequence_id       0\n",
       "sign              0\n",
       "file_path         0\n",
       "dtype: int64"
      ]
     },
     "execution_count": 25,
     "metadata": {},
     "output_type": "execute_result"
    }
   ],
   "source": [
    "missing_data = full_ds.isnull().sum()\n",
    "missing_data"
   ]
  },
  {
   "cell_type": "code",
   "execution_count": 32,
   "metadata": {},
   "outputs": [
    {
     "data": {
      "text/html": [
       "<div>\n",
       "<style scoped>\n",
       "    .dataframe tbody tr th:only-of-type {\n",
       "        vertical-align: middle;\n",
       "    }\n",
       "\n",
       "    .dataframe tbody tr th {\n",
       "        vertical-align: top;\n",
       "    }\n",
       "\n",
       "    .dataframe thead th {\n",
       "        text-align: right;\n",
       "    }\n",
       "</style>\n",
       "<table border=\"1\" class=\"dataframe\">\n",
       "  <thead>\n",
       "    <tr style=\"text-align: right;\">\n",
       "      <th></th>\n",
       "      <th>path</th>\n",
       "      <th>participant_id</th>\n",
       "      <th>sequence_id</th>\n",
       "      <th>sign</th>\n",
       "      <th>file_path</th>\n",
       "    </tr>\n",
       "  </thead>\n",
       "  <tbody>\n",
       "    <tr>\n",
       "      <th>0</th>\n",
       "      <td>train_landmark_files_noface/26734/1000035562.p...</td>\n",
       "      <td>26734</td>\n",
       "      <td>1000035562</td>\n",
       "      <td>blow</td>\n",
       "      <td>../../raw_data/asl-signs/train_landmark_files_...</td>\n",
       "    </tr>\n",
       "    <tr>\n",
       "      <th>1</th>\n",
       "      <td>train_landmark_files_noface/28656/1000106739.p...</td>\n",
       "      <td>28656</td>\n",
       "      <td>1000106739</td>\n",
       "      <td>wait</td>\n",
       "      <td>../../raw_data/asl-signs/train_landmark_files_...</td>\n",
       "    </tr>\n",
       "    <tr>\n",
       "      <th>2</th>\n",
       "      <td>train_landmark_files_noface/16069/100015657.pa...</td>\n",
       "      <td>16069</td>\n",
       "      <td>100015657</td>\n",
       "      <td>cloud</td>\n",
       "      <td>../../raw_data/asl-signs/train_landmark_files_...</td>\n",
       "    </tr>\n",
       "    <tr>\n",
       "      <th>3</th>\n",
       "      <td>train_landmark_files_noface/25571/1000210073.p...</td>\n",
       "      <td>25571</td>\n",
       "      <td>1000210073</td>\n",
       "      <td>bird</td>\n",
       "      <td>../../raw_data/asl-signs/train_landmark_files_...</td>\n",
       "    </tr>\n",
       "    <tr>\n",
       "      <th>4</th>\n",
       "      <td>train_landmark_files_noface/62590/1000240708.p...</td>\n",
       "      <td>62590</td>\n",
       "      <td>1000240708</td>\n",
       "      <td>owie</td>\n",
       "      <td>../../raw_data/asl-signs/train_landmark_files_...</td>\n",
       "    </tr>\n",
       "  </tbody>\n",
       "</table>\n",
       "</div>"
      ],
      "text/plain": [
       "                                                path  participant_id  \\\n",
       "0  train_landmark_files_noface/26734/1000035562.p...           26734   \n",
       "1  train_landmark_files_noface/28656/1000106739.p...           28656   \n",
       "2  train_landmark_files_noface/16069/100015657.pa...           16069   \n",
       "3  train_landmark_files_noface/25571/1000210073.p...           25571   \n",
       "4  train_landmark_files_noface/62590/1000240708.p...           62590   \n",
       "\n",
       "   sequence_id   sign                                          file_path  \n",
       "0   1000035562   blow  ../../raw_data/asl-signs/train_landmark_files_...  \n",
       "1   1000106739   wait  ../../raw_data/asl-signs/train_landmark_files_...  \n",
       "2    100015657  cloud  ../../raw_data/asl-signs/train_landmark_files_...  \n",
       "3   1000210073   bird  ../../raw_data/asl-signs/train_landmark_files_...  \n",
       "4   1000240708   owie  ../../raw_data/asl-signs/train_landmark_files_...  "
      ]
     },
     "execution_count": 32,
     "metadata": {},
     "output_type": "execute_result"
    }
   ],
   "source": [
    "full_ds = full_ds.drop_duplicates()\n",
    "full_ds.head()"
   ]
  },
  {
   "cell_type": "code",
   "execution_count": 33,
   "metadata": {},
   "outputs": [
    {
     "data": {
      "text/html": [
       "<div>\n",
       "<style scoped>\n",
       "    .dataframe tbody tr th:only-of-type {\n",
       "        vertical-align: middle;\n",
       "    }\n",
       "\n",
       "    .dataframe tbody tr th {\n",
       "        vertical-align: top;\n",
       "    }\n",
       "\n",
       "    .dataframe thead th {\n",
       "        text-align: right;\n",
       "    }\n",
       "</style>\n",
       "<table border=\"1\" class=\"dataframe\">\n",
       "  <thead>\n",
       "    <tr style=\"text-align: right;\">\n",
       "      <th></th>\n",
       "      <th>path</th>\n",
       "      <th>participant_id</th>\n",
       "      <th>sequence_id</th>\n",
       "      <th>sign</th>\n",
       "      <th>file_path</th>\n",
       "    </tr>\n",
       "  </thead>\n",
       "  <tbody>\n",
       "    <tr>\n",
       "      <th>0</th>\n",
       "      <td>train_landmark_files_noface/36257/503530219.pa...</td>\n",
       "      <td>36257</td>\n",
       "      <td>503530219</td>\n",
       "      <td>TV</td>\n",
       "      <td>../../raw_data/asl-signs/train_landmark_files_...</td>\n",
       "    </tr>\n",
       "    <tr>\n",
       "      <th>1</th>\n",
       "      <td>train_landmark_files_noface/37055/1076094322.p...</td>\n",
       "      <td>37055</td>\n",
       "      <td>1076094322</td>\n",
       "      <td>TV</td>\n",
       "      <td>../../raw_data/asl-signs/train_landmark_files_...</td>\n",
       "    </tr>\n",
       "    <tr>\n",
       "      <th>2</th>\n",
       "      <td>train_landmark_files_noface/55372/478059710.pa...</td>\n",
       "      <td>55372</td>\n",
       "      <td>478059710</td>\n",
       "      <td>TV</td>\n",
       "      <td>../../raw_data/asl-signs/train_landmark_files_...</td>\n",
       "    </tr>\n",
       "    <tr>\n",
       "      <th>3</th>\n",
       "      <td>train_landmark_files_noface/28656/3164995133.p...</td>\n",
       "      <td>28656</td>\n",
       "      <td>3164995133</td>\n",
       "      <td>TV</td>\n",
       "      <td>../../raw_data/asl-signs/train_landmark_files_...</td>\n",
       "    </tr>\n",
       "    <tr>\n",
       "      <th>4</th>\n",
       "      <td>train_landmark_files_noface/37055/382855041.pa...</td>\n",
       "      <td>37055</td>\n",
       "      <td>382855041</td>\n",
       "      <td>TV</td>\n",
       "      <td>../../raw_data/asl-signs/train_landmark_files_...</td>\n",
       "    </tr>\n",
       "    <tr>\n",
       "      <th>...</th>\n",
       "      <td>...</td>\n",
       "      <td>...</td>\n",
       "      <td>...</td>\n",
       "      <td>...</td>\n",
       "      <td>...</td>\n",
       "    </tr>\n",
       "    <tr>\n",
       "      <th>74745</th>\n",
       "      <td>train_landmark_files_noface/36257/3569323983.p...</td>\n",
       "      <td>36257</td>\n",
       "      <td>3569323983</td>\n",
       "      <td>zipper</td>\n",
       "      <td>../../raw_data/asl-signs/train_landmark_files_...</td>\n",
       "    </tr>\n",
       "    <tr>\n",
       "      <th>74746</th>\n",
       "      <td>train_landmark_files_noface/36257/4085941753.p...</td>\n",
       "      <td>36257</td>\n",
       "      <td>4085941753</td>\n",
       "      <td>zipper</td>\n",
       "      <td>../../raw_data/asl-signs/train_landmark_files_...</td>\n",
       "    </tr>\n",
       "    <tr>\n",
       "      <th>74747</th>\n",
       "      <td>train_landmark_files_noface/30680/2043897529.p...</td>\n",
       "      <td>30680</td>\n",
       "      <td>2043897529</td>\n",
       "      <td>zipper</td>\n",
       "      <td>../../raw_data/asl-signs/train_landmark_files_...</td>\n",
       "    </tr>\n",
       "    <tr>\n",
       "      <th>74748</th>\n",
       "      <td>train_landmark_files_noface/61333/2136873399.p...</td>\n",
       "      <td>61333</td>\n",
       "      <td>2136873399</td>\n",
       "      <td>zipper</td>\n",
       "      <td>../../raw_data/asl-signs/train_landmark_files_...</td>\n",
       "    </tr>\n",
       "    <tr>\n",
       "      <th>74749</th>\n",
       "      <td>train_landmark_files_noface/34503/503186706.pa...</td>\n",
       "      <td>34503</td>\n",
       "      <td>503186706</td>\n",
       "      <td>zipper</td>\n",
       "      <td>../../raw_data/asl-signs/train_landmark_files_...</td>\n",
       "    </tr>\n",
       "  </tbody>\n",
       "</table>\n",
       "<p>74750 rows × 5 columns</p>\n",
       "</div>"
      ],
      "text/plain": [
       "                                                    path  participant_id  \\\n",
       "0      train_landmark_files_noface/36257/503530219.pa...           36257   \n",
       "1      train_landmark_files_noface/37055/1076094322.p...           37055   \n",
       "2      train_landmark_files_noface/55372/478059710.pa...           55372   \n",
       "3      train_landmark_files_noface/28656/3164995133.p...           28656   \n",
       "4      train_landmark_files_noface/37055/382855041.pa...           37055   \n",
       "...                                                  ...             ...   \n",
       "74745  train_landmark_files_noface/36257/3569323983.p...           36257   \n",
       "74746  train_landmark_files_noface/36257/4085941753.p...           36257   \n",
       "74747  train_landmark_files_noface/30680/2043897529.p...           30680   \n",
       "74748  train_landmark_files_noface/61333/2136873399.p...           61333   \n",
       "74749  train_landmark_files_noface/34503/503186706.pa...           34503   \n",
       "\n",
       "       sequence_id    sign                                          file_path  \n",
       "0        503530219      TV  ../../raw_data/asl-signs/train_landmark_files_...  \n",
       "1       1076094322      TV  ../../raw_data/asl-signs/train_landmark_files_...  \n",
       "2        478059710      TV  ../../raw_data/asl-signs/train_landmark_files_...  \n",
       "3       3164995133      TV  ../../raw_data/asl-signs/train_landmark_files_...  \n",
       "4        382855041      TV  ../../raw_data/asl-signs/train_landmark_files_...  \n",
       "...            ...     ...                                                ...  \n",
       "74745   3569323983  zipper  ../../raw_data/asl-signs/train_landmark_files_...  \n",
       "74746   4085941753  zipper  ../../raw_data/asl-signs/train_landmark_files_...  \n",
       "74747   2043897529  zipper  ../../raw_data/asl-signs/train_landmark_files_...  \n",
       "74748   2136873399  zipper  ../../raw_data/asl-signs/train_landmark_files_...  \n",
       "74749    503186706  zipper  ../../raw_data/asl-signs/train_landmark_files_...  \n",
       "\n",
       "[74750 rows x 5 columns]"
      ]
     },
     "execution_count": 33,
     "metadata": {},
     "output_type": "execute_result"
    }
   ],
   "source": [
    "full_balanced_ds = data.balance_data(full_ds)\n",
    "full_balanced_ds"
   ]
  },
  {
   "cell_type": "code",
   "execution_count": 34,
   "metadata": {},
   "outputs": [
    {
     "data": {
      "text/plain": [
       "94477"
      ]
     },
     "execution_count": 34,
     "metadata": {},
     "output_type": "execute_result"
    }
   ],
   "source": []
  },
  {
   "cell_type": "code",
   "execution_count": null,
   "metadata": {},
   "outputs": [],
   "source": []
  }
 ],
 "metadata": {
  "kernelspec": {
   "display_name": "signlens",
   "language": "python",
   "name": "python3"
  },
  "language_info": {
   "codemirror_mode": {
    "name": "ipython",
    "version": 3
   },
   "file_extension": ".py",
   "mimetype": "text/x-python",
   "name": "python",
   "nbconvert_exporter": "python",
   "pygments_lexer": "ipython3",
   "version": "3.10.6"
  }
 },
 "nbformat": 4,
 "nbformat_minor": 2
}

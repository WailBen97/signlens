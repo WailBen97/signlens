{
 "cells": [
  {
   "cell_type": "code",
   "execution_count": 1,
   "metadata": {},
   "outputs": [],
   "source": [
    "%load_ext autoreload\n",
    "%autoreload 2\n"
   ]
  },
  {
   "cell_type": "code",
   "execution_count": 2,
   "metadata": {},
   "outputs": [
    {
     "name": "stderr",
     "output_type": "stream",
     "text": [
      "2024-03-22 10:22:55.181476: I tensorflow/core/util/port.cc:113] oneDNN custom operations are on. You may see slightly different numerical results due to floating-point round-off errors from different computation orders. To turn them off, set the environment variable `TF_ENABLE_ONEDNN_OPTS=0`.\n",
      "2024-03-22 10:22:55.231993: I tensorflow/core/platform/cpu_feature_guard.cc:210] This TensorFlow binary is optimized to use available CPU instructions in performance-critical operations.\n",
      "To enable the following instructions: AVX2 AVX512F AVX512_VNNI FMA, in other operations, rebuild TensorFlow with the appropriate compiler flags.\n",
      "2024-03-22 10:22:56.336373: W tensorflow/compiler/tf2tensorrt/utils/py_utils.cc:38] TF-TRT Warning: Could not find TensorRT\n"
     ]
    }
   ],
   "source": [
    "import pandas as pd\n",
    "from signlens.preprocessing.data import *\n",
    "from signlens.preprocessing.preprocess import *\n",
    "from sklearn.model_selection import train_test_split\n",
    "from signlens.model.model import *\n",
    "from tensorflow.keras.optimizers import Adam\n",
    "from signlens.params import *\n",
    "from utils.model_utils import *"
   ]
  },
  {
   "cell_type": "code",
   "execution_count": 12,
   "metadata": {},
   "outputs": [
    {
     "name": "stdout",
     "output_type": "stream",
     "text": [
      "\u001b[34mLoading data subset from train_train.csv\u001b[0m\n",
      "✅ Filtered on n_frames = 100. Size reduced from 94461 to 85629 (90.7%)\n",
      "✅ Filtered on n_classes = 10. Size reduced from 85629 to 3460 (4.0%)\n",
      "⚠️ Total size smaller than requested, with 329 per sign instead of 346\n",
      "✅ Balanced data, with average of 329.0 elements per class. Size reduced from 3460 to 3290 (95.1%)\n",
      "✅ Loaded 3460 rows (3.5% of the original 94461 rows) from the dataset.\n"
     ]
    }
   ],
   "source": [
    "train=load_data_subset_csv(balanced=True)"
   ]
  },
  {
   "cell_type": "code",
   "execution_count": null,
   "metadata": {},
   "outputs": [],
   "source": []
  },
  {
   "cell_type": "code",
   "execution_count": 10,
   "metadata": {},
   "outputs": [
    {
     "name": "stderr",
     "output_type": "stream",
     "text": [
      "WARNING:absl:Compiled the loaded model, but the compiled metrics have yet to be built. `model.compile_metrics` will be empty until you train or evaluate the model.\n"
     ]
    },
    {
     "name": "stdout",
     "output_type": "stream",
     "text": [
      "\u001b[34m\n",
      "Load latest model from local registry...\u001b[0m\n",
      "\u001b[34m\n",
      "Load latest model from disk...\u001b[0m\n",
      "✅ Model loaded from local disk /home/wailmouro/code/benoitfrisque/signlens/training_outputs/models/20240322-104614.h5\n"
     ]
    }
   ],
   "source": [
    "model =load_model()\n"
   ]
  },
  {
   "cell_type": "code",
   "execution_count": 8,
   "metadata": {},
   "outputs": [
    {
     "name": "stdout",
     "output_type": "stream",
     "text": [
      "\u001b[34mLoading unqiue test set with test_size=0.2\u001b[0m\n",
      "\u001b[34mLoading data subset from train.csv\u001b[0m\n",
      "✅ File with frames already exists, loaded matching 'sequence_id' rows.\n",
      "✅ Filtered on n_frames = 100. Size reduced from 94477 to 86168 (91.2%)\n",
      "✅ Filtered on n_classes = 250. Size reduced from 86168 to 86168 (100.0%)\n",
      "✅ Balanced data, with average of 68.932 elements per class. Size reduced from 86168 to 17233 (20.0%)\n",
      "✅ Loaded 86168 rows (18.2% of the original 94477 rows) from the dataset.\n",
      "\u001b[34m\n",
      "Loading training test set\u001b[0m\n",
      "\u001b[34mLoading data subset from train.csv\u001b[0m\n",
      "✅ File with frames already exists, loaded matching 'sequence_id' rows.\n",
      "✅ Filtered on n_classes = 250. Size reduced from 94477 to 94461 (100.0%)\n",
      "✅ Loaded 94461 rows (100.0% of the original 94477 rows) from the dataset.\n",
      "\u001b[34m\n",
      "Total loaded rows : 94461         \n",
      "Total training rows : 94461 (100.0%)         \n",
      "Total test rows : 17233 (18.2%)\u001b[0m\n",
      "\u001b[34m\n",
      "Train and test data saved at /home/wailmouro/code/benoitfrisque/signlens/raw_data/asl-signs/train_train.csv and /home/wailmouro/code/benoitfrisque/signlens/raw_data/asl-signs/train_test.csv\u001b[0m\n"
     ]
    }
   ],
   "source": [
    "unique_train_test_split()\n"
   ]
  },
  {
   "cell_type": "code",
   "execution_count": 74,
   "metadata": {},
   "outputs": [
    {
     "name": "stdout",
     "output_type": "stream",
     "text": [
      "\u001b[34m\n",
      "Evaluating model on 2344 rows...\u001b[0m\n",
      "✅ Model evaluated, loss: 3.69\n"
     ]
    }
   ],
   "source": [
    "metrics_dict = evaluate_model(model=model, X=X_test, y=y_test)"
   ]
  },
  {
   "cell_type": "code",
   "execution_count": 76,
   "metadata": {},
   "outputs": [
    {
     "data": {
      "text/plain": [
       "0.03242320939898491"
      ]
     },
     "execution_count": 76,
     "metadata": {},
     "output_type": "execute_result"
    }
   ],
   "source": [
    "metrics_dict[\"accuracy\"]"
   ]
  },
  {
   "cell_type": "code",
   "execution_count": 73,
   "metadata": {},
   "outputs": [
    {
     "name": "stdout",
     "output_type": "stream",
     "text": [
      "\u001b[34m\n",
      "Evaluating model on 9376 rows...\u001b[0m\n"
     ]
    },
    {
     "ename": "ValueError",
     "evalue": "Data cardinality is ambiguous. Make sure all arrays contain the same number of samples.'x' sizes: 9376\n'y' sizes: 11720\n",
     "output_type": "error",
     "traceback": [
      "\u001b[0;31m---------------------------------------------------------------------------\u001b[0m",
      "\u001b[0;31mValueError\u001b[0m                                Traceback (most recent call last)",
      "Cell \u001b[0;32mIn[73], line 5\u001b[0m\n\u001b[1;32m      2\u001b[0m local_model_paths \u001b[38;5;241m=\u001b[39m glob\u001b[38;5;241m.\u001b[39mglob(\u001b[38;5;124mf\u001b[39m\u001b[38;5;124m\"\u001b[39m\u001b[38;5;132;01m{\u001b[39;00mMODEL_DIR\u001b[38;5;132;01m}\u001b[39;00m\u001b[38;5;124m/*.h5\u001b[39m\u001b[38;5;124m\"\u001b[39m)\n\u001b[1;32m      3\u001b[0m most_recent_model_path_on_disk \u001b[38;5;241m=\u001b[39m \u001b[38;5;28msorted\u001b[39m(local_model_paths)[\u001b[38;5;241m-\u001b[39m\u001b[38;5;241m1\u001b[39m]\n\u001b[0;32m----> 5\u001b[0m metrics_dict \u001b[38;5;241m=\u001b[39m \u001b[43mevaluate_model\u001b[49m\u001b[43m(\u001b[49m\u001b[43mmodel\u001b[49m\u001b[38;5;241;43m=\u001b[39;49m\u001b[43mmodel\u001b[49m\u001b[43m,\u001b[49m\u001b[43m \u001b[49m\u001b[43mX\u001b[49m\u001b[38;5;241;43m=\u001b[39;49m\u001b[43mX\u001b[49m\u001b[43m,\u001b[49m\u001b[43m \u001b[49m\u001b[43my\u001b[49m\u001b[38;5;241;43m=\u001b[39;49m\u001b[43my\u001b[49m\u001b[43m)\u001b[49m\n",
      "File \u001b[0;32m~/code/benoitfrisque/signlens/signlens/model/model.py:107\u001b[0m, in \u001b[0;36mevaluate_model\u001b[0;34m(model, X, y, batch_size, verbose)\u001b[0m\n\u001b[1;32m    104\u001b[0m     \u001b[38;5;28mprint\u001b[39m(\u001b[38;5;124mf\u001b[39m\u001b[38;5;124m\"\u001b[39m\u001b[38;5;130;01m\\n\u001b[39;00m\u001b[38;5;124m❌ No model to evaluate\u001b[39m\u001b[38;5;124m\"\u001b[39m)\n\u001b[1;32m    105\u001b[0m     \u001b[38;5;28;01mreturn\u001b[39;00m \u001b[38;5;28;01mNone\u001b[39;00m\n\u001b[0;32m--> 107\u001b[0m metrics \u001b[38;5;241m=\u001b[39m \u001b[43mmodel\u001b[49m\u001b[38;5;241;43m.\u001b[39;49m\u001b[43mevaluate\u001b[49m\u001b[43m(\u001b[49m\n\u001b[1;32m    108\u001b[0m \u001b[43m    \u001b[49m\u001b[43mx\u001b[49m\u001b[38;5;241;43m=\u001b[39;49m\u001b[43mX\u001b[49m\u001b[43m,\u001b[49m\n\u001b[1;32m    109\u001b[0m \u001b[43m    \u001b[49m\u001b[43my\u001b[49m\u001b[38;5;241;43m=\u001b[39;49m\u001b[43my\u001b[49m\u001b[43m,\u001b[49m\n\u001b[1;32m    110\u001b[0m \u001b[43m    \u001b[49m\u001b[43mbatch_size\u001b[49m\u001b[38;5;241;43m=\u001b[39;49m\u001b[43mbatch_size\u001b[49m\u001b[43m,\u001b[49m\n\u001b[1;32m    111\u001b[0m \u001b[43m    \u001b[49m\u001b[43mverbose\u001b[49m\u001b[38;5;241;43m=\u001b[39;49m\u001b[43mverbose\u001b[49m\u001b[43m,\u001b[49m\n\u001b[1;32m    112\u001b[0m \u001b[43m    \u001b[49m\u001b[38;5;66;43;03m# callbacks=None,\u001b[39;49;00m\n\u001b[1;32m    113\u001b[0m \u001b[43m    \u001b[49m\u001b[43mreturn_dict\u001b[49m\u001b[38;5;241;43m=\u001b[39;49m\u001b[38;5;28;43;01mTrue\u001b[39;49;00m\n\u001b[1;32m    114\u001b[0m \u001b[43m\u001b[49m\u001b[43m)\u001b[49m\n\u001b[1;32m    116\u001b[0m loss \u001b[38;5;241m=\u001b[39m metrics[\u001b[38;5;124m\"\u001b[39m\u001b[38;5;124mloss\u001b[39m\u001b[38;5;124m\"\u001b[39m]\n\u001b[1;32m    119\u001b[0m \u001b[38;5;28mprint\u001b[39m(\u001b[38;5;124mf\u001b[39m\u001b[38;5;124m\"\u001b[39m\u001b[38;5;124m✅ Model evaluated, loss: \u001b[39m\u001b[38;5;132;01m{\u001b[39;00m\u001b[38;5;28mround\u001b[39m(loss,\u001b[38;5;250m \u001b[39m\u001b[38;5;241m2\u001b[39m)\u001b[38;5;132;01m}\u001b[39;00m\u001b[38;5;124m\"\u001b[39m)\n",
      "File \u001b[0;32m~/.pyenv/versions/3.10.6/envs/signlens/lib/python3.10/site-packages/keras/src/utils/traceback_utils.py:122\u001b[0m, in \u001b[0;36mfilter_traceback.<locals>.error_handler\u001b[0;34m(*args, **kwargs)\u001b[0m\n\u001b[1;32m    119\u001b[0m     filtered_tb \u001b[38;5;241m=\u001b[39m _process_traceback_frames(e\u001b[38;5;241m.\u001b[39m__traceback__)\n\u001b[1;32m    120\u001b[0m     \u001b[38;5;66;03m# To get the full stack trace, call:\u001b[39;00m\n\u001b[1;32m    121\u001b[0m     \u001b[38;5;66;03m# `keras.config.disable_traceback_filtering()`\u001b[39;00m\n\u001b[0;32m--> 122\u001b[0m     \u001b[38;5;28;01mraise\u001b[39;00m e\u001b[38;5;241m.\u001b[39mwith_traceback(filtered_tb) \u001b[38;5;28;01mfrom\u001b[39;00m \u001b[38;5;28;01mNone\u001b[39;00m\n\u001b[1;32m    123\u001b[0m \u001b[38;5;28;01mfinally\u001b[39;00m:\n\u001b[1;32m    124\u001b[0m     \u001b[38;5;28;01mdel\u001b[39;00m filtered_tb\n",
      "File \u001b[0;32m~/.pyenv/versions/3.10.6/envs/signlens/lib/python3.10/site-packages/keras/src/trainers/data_adapters/data_adapter_utils.py:114\u001b[0m, in \u001b[0;36mcheck_data_cardinality\u001b[0;34m(data)\u001b[0m\n\u001b[1;32m    110\u001b[0m     sizes \u001b[38;5;241m=\u001b[39m \u001b[38;5;124m\"\u001b[39m\u001b[38;5;124m, \u001b[39m\u001b[38;5;124m\"\u001b[39m\u001b[38;5;241m.\u001b[39mjoin(\n\u001b[1;32m    111\u001b[0m         \u001b[38;5;28mstr\u001b[39m(i\u001b[38;5;241m.\u001b[39mshape[\u001b[38;5;241m0\u001b[39m]) \u001b[38;5;28;01mfor\u001b[39;00m i \u001b[38;5;129;01min\u001b[39;00m tree\u001b[38;5;241m.\u001b[39mflatten(single_data)\n\u001b[1;32m    112\u001b[0m     )\n\u001b[1;32m    113\u001b[0m     msg \u001b[38;5;241m+\u001b[39m\u001b[38;5;241m=\u001b[39m \u001b[38;5;124mf\u001b[39m\u001b[38;5;124m\"\u001b[39m\u001b[38;5;124m'\u001b[39m\u001b[38;5;132;01m{\u001b[39;00mlabel\u001b[38;5;132;01m}\u001b[39;00m\u001b[38;5;124m'\u001b[39m\u001b[38;5;124m sizes: \u001b[39m\u001b[38;5;132;01m{\u001b[39;00msizes\u001b[38;5;132;01m}\u001b[39;00m\u001b[38;5;130;01m\\n\u001b[39;00m\u001b[38;5;124m\"\u001b[39m\n\u001b[0;32m--> 114\u001b[0m \u001b[38;5;28;01mraise\u001b[39;00m \u001b[38;5;167;01mValueError\u001b[39;00m(msg)\n",
      "\u001b[0;31mValueError\u001b[0m: Data cardinality is ambiguous. Make sure all arrays contain the same number of samples.'x' sizes: 9376\n'y' sizes: 11720\n"
     ]
    }
   ],
   "source": [
    "local_model_directory = os.path.join(MODEL_DIR)\n",
    "local_model_paths = glob.glob(f\"{MODEL_DIR}/*.h5\")\n",
    "most_recent_model_path_on_disk = sorted(local_model_paths)[-1]\n"
   ]
  },
  {
   "cell_type": "code",
   "execution_count": 72,
   "metadata": {},
   "outputs": [
    {
     "data": {
      "text/plain": [
       "'/home/wailmouro/code/benoitfrisque/signlens/training_outputs/models/20240321-181047.h5'"
      ]
     },
     "execution_count": 72,
     "metadata": {},
     "output_type": "execute_result"
    }
   ],
   "source": [
    "most_recent_model_path_on_disk"
   ]
  },
  {
   "cell_type": "code",
   "execution_count": 57,
   "metadata": {},
   "outputs": [
    {
     "name": "stdout",
     "output_type": "stream",
     "text": [
      "\u001b[34m\n",
      "Load latest model from local registry...\u001b[0m\n",
      "\u001b[34m\n",
      "Load latest model from disk...\u001b[0m\n"
     ]
    },
    {
     "ename": "ValueError",
     "evalue": "File format not supported: filepath=/home/wailmouro/code/benoitfrisque/signlens/training_outputs/models/model_fit_at_1711040746. Keras 3 only supports V3 `.keras` files and legacy H5 format files (`.h5` extension). Note that the legacy SavedModel format is not supported by `load_model()` in Keras 3. In order to reload a TensorFlow SavedModel as an inference-only layer in Keras 3, use `keras.layers.TFSMLayer(/home/wailmouro/code/benoitfrisque/signlens/training_outputs/models/model_fit_at_1711040746, call_endpoint='serving_default')` (note that your `call_endpoint` might have a different name).",
     "output_type": "error",
     "traceback": [
      "\u001b[0;31m---------------------------------------------------------------------------\u001b[0m",
      "\u001b[0;31mValueError\u001b[0m                                Traceback (most recent call last)",
      "Cell \u001b[0;32mIn[57], line 1\u001b[0m\n\u001b[0;32m----> 1\u001b[0m \u001b[43mload_model\u001b[49m\u001b[43m(\u001b[49m\u001b[43m)\u001b[49m\n",
      "File \u001b[0;32m~/code/benoitfrisque/signlens/utils/model_utils.py:67\u001b[0m, in \u001b[0;36mload_model\u001b[0;34m()\u001b[0m\n\u001b[1;32m     63\u001b[0m most_recent_model_path_on_disk \u001b[38;5;241m=\u001b[39m \u001b[38;5;28msorted\u001b[39m(local_model_paths)[\u001b[38;5;241m-\u001b[39m\u001b[38;5;241m1\u001b[39m]\n\u001b[1;32m     65\u001b[0m \u001b[38;5;28mprint\u001b[39m(Fore\u001b[38;5;241m.\u001b[39mBLUE \u001b[38;5;241m+\u001b[39m \u001b[38;5;124mf\u001b[39m\u001b[38;5;124m\"\u001b[39m\u001b[38;5;130;01m\\n\u001b[39;00m\u001b[38;5;124mLoad latest model from disk...\u001b[39m\u001b[38;5;124m\"\u001b[39m \u001b[38;5;241m+\u001b[39m Style\u001b[38;5;241m.\u001b[39mRESET_ALL)\n\u001b[0;32m---> 67\u001b[0m latest_model \u001b[38;5;241m=\u001b[39m \u001b[43mkeras\u001b[49m\u001b[38;5;241;43m.\u001b[39;49m\u001b[43mmodels\u001b[49m\u001b[38;5;241;43m.\u001b[39;49m\u001b[43mload_model\u001b[49m\u001b[43m(\u001b[49m\u001b[43mmost_recent_model_path_on_disk\u001b[49m\u001b[43m)\u001b[49m\n\u001b[1;32m     69\u001b[0m \u001b[38;5;28mprint\u001b[39m(\u001b[38;5;124m\"\u001b[39m\u001b[38;5;124m✅ Model loaded from local disk\u001b[39m\u001b[38;5;124m\"\u001b[39m)\n\u001b[1;32m     71\u001b[0m \u001b[38;5;28;01mreturn\u001b[39;00m latest_model\n",
      "File \u001b[0;32m~/.pyenv/versions/3.10.6/envs/signlens/lib/python3.10/site-packages/keras/src/saving/saving_api.py:191\u001b[0m, in \u001b[0;36mload_model\u001b[0;34m(filepath, custom_objects, compile, safe_mode)\u001b[0m\n\u001b[1;32m    185\u001b[0m     \u001b[38;5;28;01mraise\u001b[39;00m \u001b[38;5;167;01mValueError\u001b[39;00m(\n\u001b[1;32m    186\u001b[0m         \u001b[38;5;124mf\u001b[39m\u001b[38;5;124m\"\u001b[39m\u001b[38;5;124mFile not found: filepath=\u001b[39m\u001b[38;5;132;01m{\u001b[39;00mfilepath\u001b[38;5;132;01m}\u001b[39;00m\u001b[38;5;124m. \u001b[39m\u001b[38;5;124m\"\u001b[39m\n\u001b[1;32m    187\u001b[0m         \u001b[38;5;124m\"\u001b[39m\u001b[38;5;124mPlease ensure the file is an accessible `.keras` \u001b[39m\u001b[38;5;124m\"\u001b[39m\n\u001b[1;32m    188\u001b[0m         \u001b[38;5;124m\"\u001b[39m\u001b[38;5;124mzip file.\u001b[39m\u001b[38;5;124m\"\u001b[39m\n\u001b[1;32m    189\u001b[0m     )\n\u001b[1;32m    190\u001b[0m \u001b[38;5;28;01melse\u001b[39;00m:\n\u001b[0;32m--> 191\u001b[0m     \u001b[38;5;28;01mraise\u001b[39;00m \u001b[38;5;167;01mValueError\u001b[39;00m(\n\u001b[1;32m    192\u001b[0m         \u001b[38;5;124mf\u001b[39m\u001b[38;5;124m\"\u001b[39m\u001b[38;5;124mFile format not supported: filepath=\u001b[39m\u001b[38;5;132;01m{\u001b[39;00mfilepath\u001b[38;5;132;01m}\u001b[39;00m\u001b[38;5;124m. \u001b[39m\u001b[38;5;124m\"\u001b[39m\n\u001b[1;32m    193\u001b[0m         \u001b[38;5;124m\"\u001b[39m\u001b[38;5;124mKeras 3 only supports V3 `.keras` files and \u001b[39m\u001b[38;5;124m\"\u001b[39m\n\u001b[1;32m    194\u001b[0m         \u001b[38;5;124m\"\u001b[39m\u001b[38;5;124mlegacy H5 format files (`.h5` extension). \u001b[39m\u001b[38;5;124m\"\u001b[39m\n\u001b[1;32m    195\u001b[0m         \u001b[38;5;124m\"\u001b[39m\u001b[38;5;124mNote that the legacy SavedModel format is not \u001b[39m\u001b[38;5;124m\"\u001b[39m\n\u001b[1;32m    196\u001b[0m         \u001b[38;5;124m\"\u001b[39m\u001b[38;5;124msupported by `load_model()` in Keras 3. In \u001b[39m\u001b[38;5;124m\"\u001b[39m\n\u001b[1;32m    197\u001b[0m         \u001b[38;5;124m\"\u001b[39m\u001b[38;5;124morder to reload a TensorFlow SavedModel as an \u001b[39m\u001b[38;5;124m\"\u001b[39m\n\u001b[1;32m    198\u001b[0m         \u001b[38;5;124m\"\u001b[39m\u001b[38;5;124minference-only layer in Keras 3, use \u001b[39m\u001b[38;5;124m\"\u001b[39m\n\u001b[1;32m    199\u001b[0m         \u001b[38;5;124m\"\u001b[39m\u001b[38;5;124m`keras.layers.TFSMLayer(\u001b[39m\u001b[38;5;124m\"\u001b[39m\n\u001b[1;32m    200\u001b[0m         \u001b[38;5;124mf\u001b[39m\u001b[38;5;124m\"\u001b[39m\u001b[38;5;132;01m{\u001b[39;00mfilepath\u001b[38;5;132;01m}\u001b[39;00m\u001b[38;5;124m, call_endpoint=\u001b[39m\u001b[38;5;124m'\u001b[39m\u001b[38;5;124mserving_default\u001b[39m\u001b[38;5;124m'\u001b[39m\u001b[38;5;124m)` \u001b[39m\u001b[38;5;124m\"\u001b[39m\n\u001b[1;32m    201\u001b[0m         \u001b[38;5;124m\"\u001b[39m\u001b[38;5;124m(note that your `call_endpoint` \u001b[39m\u001b[38;5;124m\"\u001b[39m\n\u001b[1;32m    202\u001b[0m         \u001b[38;5;124m\"\u001b[39m\u001b[38;5;124mmight have a different name).\u001b[39m\u001b[38;5;124m\"\u001b[39m\n\u001b[1;32m    203\u001b[0m     )\n",
      "\u001b[0;31mValueError\u001b[0m: File format not supported: filepath=/home/wailmouro/code/benoitfrisque/signlens/training_outputs/models/model_fit_at_1711040746. Keras 3 only supports V3 `.keras` files and legacy H5 format files (`.h5` extension). Note that the legacy SavedModel format is not supported by `load_model()` in Keras 3. In order to reload a TensorFlow SavedModel as an inference-only layer in Keras 3, use `keras.layers.TFSMLayer(/home/wailmouro/code/benoitfrisque/signlens/training_outputs/models/model_fit_at_1711040746, call_endpoint='serving_default')` (note that your `call_endpoint` might have a different name)."
     ]
    }
   ],
   "source": [
    "load_model()"
   ]
  },
  {
   "cell_type": "code",
   "execution_count": 21,
   "metadata": {},
   "outputs": [
    {
     "name": "stdout",
     "output_type": "stream",
     "text": [
      "\u001b[34mLoading data subset from train_train.csv\u001b[0m\n",
      "✅ Filtered on n_frames = 100. Size reduced from 94461 to 85670 (90.7%)\n",
      "✅ Filtered on n_classes = 10. Size reduced from 85670 to 3466 (4.0%)\n",
      "⚠️ Total size smaller than requested, with 332 per sign instead of 346\n",
      "✅ Balanced data, with average of 332.0 elements per class. Size reduced from 3466 to 3320 (95.8%)\n",
      "✅ Loaded 3466 rows (3.5% of the original 94461 rows) from the dataset.\n"
     ]
    },
    {
     "data": {
      "text/html": [
       "<div>\n",
       "<style scoped>\n",
       "    .dataframe tbody tr th:only-of-type {\n",
       "        vertical-align: middle;\n",
       "    }\n",
       "\n",
       "    .dataframe tbody tr th {\n",
       "        vertical-align: top;\n",
       "    }\n",
       "\n",
       "    .dataframe thead th {\n",
       "        text-align: right;\n",
       "    }\n",
       "</style>\n",
       "<table border=\"1\" class=\"dataframe\">\n",
       "  <thead>\n",
       "    <tr style=\"text-align: right;\">\n",
       "      <th></th>\n",
       "      <th>path</th>\n",
       "      <th>participant_id</th>\n",
       "      <th>sequence_id</th>\n",
       "      <th>sign</th>\n",
       "      <th>n_frames</th>\n",
       "      <th>n_frames2</th>\n",
       "      <th>file_path</th>\n",
       "    </tr>\n",
       "  </thead>\n",
       "  <tbody>\n",
       "    <tr>\n",
       "      <th>0</th>\n",
       "      <td>train_landmark_files_noface/26734/787679090.pa...</td>\n",
       "      <td>26734.0</td>\n",
       "      <td>787679090</td>\n",
       "      <td>before</td>\n",
       "      <td>10.0</td>\n",
       "      <td>10.0</td>\n",
       "      <td>/home/wailmouro/code/benoitfrisque/signlens/ra...</td>\n",
       "    </tr>\n",
       "    <tr>\n",
       "      <th>1</th>\n",
       "      <td>train_landmark_files_noface/55372/4212350669.p...</td>\n",
       "      <td>55372.0</td>\n",
       "      <td>4212350669</td>\n",
       "      <td>yes</td>\n",
       "      <td>20.0</td>\n",
       "      <td>20.0</td>\n",
       "      <td>/home/wailmouro/code/benoitfrisque/signlens/ra...</td>\n",
       "    </tr>\n",
       "    <tr>\n",
       "      <th>2</th>\n",
       "      <td>train_landmark_files_noface/34503/1428365339.p...</td>\n",
       "      <td>34503.0</td>\n",
       "      <td>1428365339</td>\n",
       "      <td>no</td>\n",
       "      <td>46.0</td>\n",
       "      <td>46.0</td>\n",
       "      <td>/home/wailmouro/code/benoitfrisque/signlens/ra...</td>\n",
       "    </tr>\n",
       "    <tr>\n",
       "      <th>3</th>\n",
       "      <td>train_landmark_files_noface/37779/2267514415.p...</td>\n",
       "      <td>37779.0</td>\n",
       "      <td>2267514415</td>\n",
       "      <td>chair</td>\n",
       "      <td>8.0</td>\n",
       "      <td>8.0</td>\n",
       "      <td>/home/wailmouro/code/benoitfrisque/signlens/ra...</td>\n",
       "    </tr>\n",
       "    <tr>\n",
       "      <th>4</th>\n",
       "      <td>train_landmark_files_noface/26734/948253829.pa...</td>\n",
       "      <td>26734.0</td>\n",
       "      <td>948253829</td>\n",
       "      <td>chair</td>\n",
       "      <td>65.0</td>\n",
       "      <td>65.0</td>\n",
       "      <td>/home/wailmouro/code/benoitfrisque/signlens/ra...</td>\n",
       "    </tr>\n",
       "    <tr>\n",
       "      <th>...</th>\n",
       "      <td>...</td>\n",
       "      <td>...</td>\n",
       "      <td>...</td>\n",
       "      <td>...</td>\n",
       "      <td>...</td>\n",
       "      <td>...</td>\n",
       "      <td>...</td>\n",
       "    </tr>\n",
       "    <tr>\n",
       "      <th>3315</th>\n",
       "      <td>train_landmark_files_noface/34503/2067083603.p...</td>\n",
       "      <td>34503.0</td>\n",
       "      <td>2067083603</td>\n",
       "      <td>book</td>\n",
       "      <td>8.0</td>\n",
       "      <td>8.0</td>\n",
       "      <td>/home/wailmouro/code/benoitfrisque/signlens/ra...</td>\n",
       "    </tr>\n",
       "    <tr>\n",
       "      <th>3316</th>\n",
       "      <td>train_landmark_files_noface/26734/1418650900.p...</td>\n",
       "      <td>26734.0</td>\n",
       "      <td>1418650900</td>\n",
       "      <td>chair</td>\n",
       "      <td>6.0</td>\n",
       "      <td>6.0</td>\n",
       "      <td>/home/wailmouro/code/benoitfrisque/signlens/ra...</td>\n",
       "    </tr>\n",
       "    <tr>\n",
       "      <th>3317</th>\n",
       "      <td>train_landmark_files_noface/55372/4041937502.p...</td>\n",
       "      <td>55372.0</td>\n",
       "      <td>4041937502</td>\n",
       "      <td>no</td>\n",
       "      <td>9.0</td>\n",
       "      <td>9.0</td>\n",
       "      <td>/home/wailmouro/code/benoitfrisque/signlens/ra...</td>\n",
       "    </tr>\n",
       "    <tr>\n",
       "      <th>3318</th>\n",
       "      <td>train_landmark_files_noface/4718/733897403.par...</td>\n",
       "      <td>4718.0</td>\n",
       "      <td>733897403</td>\n",
       "      <td>who</td>\n",
       "      <td>98.0</td>\n",
       "      <td>98.0</td>\n",
       "      <td>/home/wailmouro/code/benoitfrisque/signlens/ra...</td>\n",
       "    </tr>\n",
       "    <tr>\n",
       "      <th>3319</th>\n",
       "      <td>train_landmark_files_noface/62590/486473327.pa...</td>\n",
       "      <td>62590.0</td>\n",
       "      <td>486473327</td>\n",
       "      <td>fine</td>\n",
       "      <td>11.0</td>\n",
       "      <td>11.0</td>\n",
       "      <td>/home/wailmouro/code/benoitfrisque/signlens/ra...</td>\n",
       "    </tr>\n",
       "  </tbody>\n",
       "</table>\n",
       "<p>3320 rows × 7 columns</p>\n",
       "</div>"
      ],
      "text/plain": [
       "                                                   path  participant_id  \\\n",
       "0     train_landmark_files_noface/26734/787679090.pa...         26734.0   \n",
       "1     train_landmark_files_noface/55372/4212350669.p...         55372.0   \n",
       "2     train_landmark_files_noface/34503/1428365339.p...         34503.0   \n",
       "3     train_landmark_files_noface/37779/2267514415.p...         37779.0   \n",
       "4     train_landmark_files_noface/26734/948253829.pa...         26734.0   \n",
       "...                                                 ...             ...   \n",
       "3315  train_landmark_files_noface/34503/2067083603.p...         34503.0   \n",
       "3316  train_landmark_files_noface/26734/1418650900.p...         26734.0   \n",
       "3317  train_landmark_files_noface/55372/4041937502.p...         55372.0   \n",
       "3318  train_landmark_files_noface/4718/733897403.par...          4718.0   \n",
       "3319  train_landmark_files_noface/62590/486473327.pa...         62590.0   \n",
       "\n",
       "      sequence_id    sign  n_frames  n_frames2  \\\n",
       "0       787679090  before      10.0       10.0   \n",
       "1      4212350669     yes      20.0       20.0   \n",
       "2      1428365339      no      46.0       46.0   \n",
       "3      2267514415   chair       8.0        8.0   \n",
       "4       948253829   chair      65.0       65.0   \n",
       "...           ...     ...       ...        ...   \n",
       "3315   2067083603    book       8.0        8.0   \n",
       "3316   1418650900   chair       6.0        6.0   \n",
       "3317   4041937502      no       9.0        9.0   \n",
       "3318    733897403     who      98.0       98.0   \n",
       "3319    486473327    fine      11.0       11.0   \n",
       "\n",
       "                                              file_path  \n",
       "0     /home/wailmouro/code/benoitfrisque/signlens/ra...  \n",
       "1     /home/wailmouro/code/benoitfrisque/signlens/ra...  \n",
       "2     /home/wailmouro/code/benoitfrisque/signlens/ra...  \n",
       "3     /home/wailmouro/code/benoitfrisque/signlens/ra...  \n",
       "4     /home/wailmouro/code/benoitfrisque/signlens/ra...  \n",
       "...                                                 ...  \n",
       "3315  /home/wailmouro/code/benoitfrisque/signlens/ra...  \n",
       "3316  /home/wailmouro/code/benoitfrisque/signlens/ra...  \n",
       "3317  /home/wailmouro/code/benoitfrisque/signlens/ra...  \n",
       "3318  /home/wailmouro/code/benoitfrisque/signlens/ra...  \n",
       "3319  /home/wailmouro/code/benoitfrisque/signlens/ra...  \n",
       "\n",
       "[3320 rows x 7 columns]"
      ]
     },
     "execution_count": 21,
     "metadata": {},
     "output_type": "execute_result"
    }
   ],
   "source": [
    "train=load_data_subset_csv(balanced=True)\n",
    "train"
   ]
  },
  {
   "cell_type": "code",
   "execution_count": 28,
   "metadata": {},
   "outputs": [
    {
     "data": {
      "text/plain": [
       "['all', 'before', 'book', 'chair', 'drink', 'fine', 'go', 'no', 'who', 'yes']"
      ]
     },
     "execution_count": 28,
     "metadata": {},
     "output_type": "execute_result"
    }
   ],
   "source": [
    "y_unique_sign=sorted(train[\"sign\"].unique())\n",
    "y_unique_sign"
   ]
  },
  {
   "cell_type": "code",
   "execution_count": 26,
   "metadata": {},
   "outputs": [
    {
     "data": {
      "text/plain": [
       "['all', 'before', 'book', 'chair', 'drink', 'fine', 'go', 'no', 'who', 'yes']"
      ]
     },
     "execution_count": 26,
     "metadata": {},
     "output_type": "execute_result"
    }
   ],
   "source": [
    "y_unique_sign=sorted(test[\"sign\"].unique())\n",
    "y_unique_sign"
   ]
  },
  {
   "cell_type": "code",
   "execution_count": 17,
   "metadata": {},
   "outputs": [
    {
     "name": "stdout",
     "output_type": "stream",
     "text": [
      "\u001b[34mLoading data subset from train_test.csv\u001b[0m\n",
      "✅ Filtered on n_frames = 100. Size reduced from 17233 to 17233 (100.0%)\n",
      "✅ Filtered on n_classes = 10. Size reduced from 17233 to 690 (4.0%)\n",
      "✅ Balanced data, with average of 69.0 elements per class. Size reduced from 690 to 690 (100.0%)\n",
      "✅ Loaded 690 rows (4.0% of the original 17233 rows) from the dataset.\n"
     ]
    },
    {
     "data": {
      "text/html": [
       "<div>\n",
       "<style scoped>\n",
       "    .dataframe tbody tr th:only-of-type {\n",
       "        vertical-align: middle;\n",
       "    }\n",
       "\n",
       "    .dataframe tbody tr th {\n",
       "        vertical-align: top;\n",
       "    }\n",
       "\n",
       "    .dataframe thead th {\n",
       "        text-align: right;\n",
       "    }\n",
       "</style>\n",
       "<table border=\"1\" class=\"dataframe\">\n",
       "  <thead>\n",
       "    <tr style=\"text-align: right;\">\n",
       "      <th></th>\n",
       "      <th>path</th>\n",
       "      <th>participant_id</th>\n",
       "      <th>sequence_id</th>\n",
       "      <th>sign</th>\n",
       "      <th>n_frames</th>\n",
       "      <th>n_frames2</th>\n",
       "      <th>file_path</th>\n",
       "    </tr>\n",
       "  </thead>\n",
       "  <tbody>\n",
       "    <tr>\n",
       "      <th>0</th>\n",
       "      <td>train_landmark_files_noface/61333/3243872811.p...</td>\n",
       "      <td>61333</td>\n",
       "      <td>3243872811</td>\n",
       "      <td>no</td>\n",
       "      <td>20.0</td>\n",
       "      <td>20.0</td>\n",
       "      <td>/home/wailmouro/code/benoitfrisque/signlens/ra...</td>\n",
       "    </tr>\n",
       "    <tr>\n",
       "      <th>1</th>\n",
       "      <td>train_landmark_files_noface/32319/2163418116.p...</td>\n",
       "      <td>32319</td>\n",
       "      <td>2163418116</td>\n",
       "      <td>yes</td>\n",
       "      <td>24.0</td>\n",
       "      <td>24.0</td>\n",
       "      <td>/home/wailmouro/code/benoitfrisque/signlens/ra...</td>\n",
       "    </tr>\n",
       "    <tr>\n",
       "      <th>2</th>\n",
       "      <td>train_landmark_files_noface/26734/844570025.pa...</td>\n",
       "      <td>26734</td>\n",
       "      <td>844570025</td>\n",
       "      <td>who</td>\n",
       "      <td>26.0</td>\n",
       "      <td>26.0</td>\n",
       "      <td>/home/wailmouro/code/benoitfrisque/signlens/ra...</td>\n",
       "    </tr>\n",
       "    <tr>\n",
       "      <th>3</th>\n",
       "      <td>train_landmark_files_noface/62590/750243503.pa...</td>\n",
       "      <td>62590</td>\n",
       "      <td>750243503</td>\n",
       "      <td>go</td>\n",
       "      <td>8.0</td>\n",
       "      <td>8.0</td>\n",
       "      <td>/home/wailmouro/code/benoitfrisque/signlens/ra...</td>\n",
       "    </tr>\n",
       "    <tr>\n",
       "      <th>4</th>\n",
       "      <td>train_landmark_files_noface/30680/3043344504.p...</td>\n",
       "      <td>30680</td>\n",
       "      <td>3043344504</td>\n",
       "      <td>no</td>\n",
       "      <td>7.0</td>\n",
       "      <td>7.0</td>\n",
       "      <td>/home/wailmouro/code/benoitfrisque/signlens/ra...</td>\n",
       "    </tr>\n",
       "    <tr>\n",
       "      <th>...</th>\n",
       "      <td>...</td>\n",
       "      <td>...</td>\n",
       "      <td>...</td>\n",
       "      <td>...</td>\n",
       "      <td>...</td>\n",
       "      <td>...</td>\n",
       "      <td>...</td>\n",
       "    </tr>\n",
       "    <tr>\n",
       "      <th>685</th>\n",
       "      <td>train_landmark_files_noface/49445/854246737.pa...</td>\n",
       "      <td>49445</td>\n",
       "      <td>854246737</td>\n",
       "      <td>no</td>\n",
       "      <td>53.0</td>\n",
       "      <td>53.0</td>\n",
       "      <td>/home/wailmouro/code/benoitfrisque/signlens/ra...</td>\n",
       "    </tr>\n",
       "    <tr>\n",
       "      <th>686</th>\n",
       "      <td>train_landmark_files_noface/32319/2058774192.p...</td>\n",
       "      <td>32319</td>\n",
       "      <td>2058774192</td>\n",
       "      <td>book</td>\n",
       "      <td>6.0</td>\n",
       "      <td>6.0</td>\n",
       "      <td>/home/wailmouro/code/benoitfrisque/signlens/ra...</td>\n",
       "    </tr>\n",
       "    <tr>\n",
       "      <th>687</th>\n",
       "      <td>train_landmark_files_noface/53618/1533865155.p...</td>\n",
       "      <td>53618</td>\n",
       "      <td>1533865155</td>\n",
       "      <td>go</td>\n",
       "      <td>6.0</td>\n",
       "      <td>6.0</td>\n",
       "      <td>/home/wailmouro/code/benoitfrisque/signlens/ra...</td>\n",
       "    </tr>\n",
       "    <tr>\n",
       "      <th>688</th>\n",
       "      <td>train_landmark_files_noface/22343/1210283400.p...</td>\n",
       "      <td>22343</td>\n",
       "      <td>1210283400</td>\n",
       "      <td>yes</td>\n",
       "      <td>23.0</td>\n",
       "      <td>23.0</td>\n",
       "      <td>/home/wailmouro/code/benoitfrisque/signlens/ra...</td>\n",
       "    </tr>\n",
       "    <tr>\n",
       "      <th>689</th>\n",
       "      <td>train_landmark_files_noface/2044/3533246866.pa...</td>\n",
       "      <td>2044</td>\n",
       "      <td>3533246866</td>\n",
       "      <td>who</td>\n",
       "      <td>17.0</td>\n",
       "      <td>17.0</td>\n",
       "      <td>/home/wailmouro/code/benoitfrisque/signlens/ra...</td>\n",
       "    </tr>\n",
       "  </tbody>\n",
       "</table>\n",
       "<p>690 rows × 7 columns</p>\n",
       "</div>"
      ],
      "text/plain": [
       "                                                  path  participant_id  \\\n",
       "0    train_landmark_files_noface/61333/3243872811.p...           61333   \n",
       "1    train_landmark_files_noface/32319/2163418116.p...           32319   \n",
       "2    train_landmark_files_noface/26734/844570025.pa...           26734   \n",
       "3    train_landmark_files_noface/62590/750243503.pa...           62590   \n",
       "4    train_landmark_files_noface/30680/3043344504.p...           30680   \n",
       "..                                                 ...             ...   \n",
       "685  train_landmark_files_noface/49445/854246737.pa...           49445   \n",
       "686  train_landmark_files_noface/32319/2058774192.p...           32319   \n",
       "687  train_landmark_files_noface/53618/1533865155.p...           53618   \n",
       "688  train_landmark_files_noface/22343/1210283400.p...           22343   \n",
       "689  train_landmark_files_noface/2044/3533246866.pa...            2044   \n",
       "\n",
       "     sequence_id  sign  n_frames  n_frames2  \\\n",
       "0     3243872811    no      20.0       20.0   \n",
       "1     2163418116   yes      24.0       24.0   \n",
       "2      844570025   who      26.0       26.0   \n",
       "3      750243503    go       8.0        8.0   \n",
       "4     3043344504    no       7.0        7.0   \n",
       "..           ...   ...       ...        ...   \n",
       "685    854246737    no      53.0       53.0   \n",
       "686   2058774192  book       6.0        6.0   \n",
       "687   1533865155    go       6.0        6.0   \n",
       "688   1210283400   yes      23.0       23.0   \n",
       "689   3533246866   who      17.0       17.0   \n",
       "\n",
       "                                             file_path  \n",
       "0    /home/wailmouro/code/benoitfrisque/signlens/ra...  \n",
       "1    /home/wailmouro/code/benoitfrisque/signlens/ra...  \n",
       "2    /home/wailmouro/code/benoitfrisque/signlens/ra...  \n",
       "3    /home/wailmouro/code/benoitfrisque/signlens/ra...  \n",
       "4    /home/wailmouro/code/benoitfrisque/signlens/ra...  \n",
       "..                                                 ...  \n",
       "685  /home/wailmouro/code/benoitfrisque/signlens/ra...  \n",
       "686  /home/wailmouro/code/benoitfrisque/signlens/ra...  \n",
       "687  /home/wailmouro/code/benoitfrisque/signlens/ra...  \n",
       "688  /home/wailmouro/code/benoitfrisque/signlens/ra...  \n",
       "689  /home/wailmouro/code/benoitfrisque/signlens/ra...  \n",
       "\n",
       "[690 rows x 7 columns]"
      ]
     },
     "execution_count": 17,
     "metadata": {},
     "output_type": "execute_result"
    }
   ],
   "source": [
    "test=load_data_subset_csv(balanced=True,csv_path=TRAIN_TEST_CSV_PATH)\n",
    "test"
   ]
  },
  {
   "cell_type": "code",
   "execution_count": 43,
   "metadata": {},
   "outputs": [
    {
     "data": {
      "text/plain": [
       "{'model_save_path': '/home/wailmouro/code/benoitfrisque/signlens/training_outputs/model 20240322-125550/model',\n",
       " 'model_save_epoch_path': '/home/wailmouro/code/benoitfrisque/signlens/training_outputs/model 20240322-125550/model/model each epoch',\n",
       " 'model_save_plot_path': '/home/wailmouro/code/benoitfrisque/signlens/training_outputs/model 20240322-125550/model/plot',\n",
       " 'log_path': '/home/wailmouro/code/benoitfrisque/signlens/training_outputs/model 20240322-125550/log',\n",
       " 'metrics_path': '/home/wailmouro/code/benoitfrisque/signlens/training_outputs/model 20240322-125550/metrics',\n",
       " 'params_path': '/home/wailmouro/code/benoitfrisque/signlens/training_outputs/model 20240322-125550/params'}"
      ]
     },
     "execution_count": 43,
     "metadata": {},
     "output_type": "execute_result"
    }
   ],
   "source": [
    "create_folder_model()"
   ]
  },
  {
   "cell_type": "code",
   "execution_count": 15,
   "metadata": {},
   "outputs": [],
   "source": [
    "aX, X_test, y_t, y_test = train_test_split(train.file_path, y, test_size=0.2, random_state=42, stratify=y)"
   ]
  },
  {
   "cell_type": "code",
   "execution_count": 16,
   "metadata": {},
   "outputs": [],
   "source": [
    "X_train, X_val, y_train, y_val = train_test_split(X, y_t, test_size=0.2, random_state=42, stratify=y_t)"
   ]
  },
  {
   "cell_type": "code",
   "execution_count": 62,
   "metadata": {},
   "outputs": [
    {
     "data": {
      "text/plain": [
       "<Sequential name=sequential, built=True>"
      ]
     },
     "execution_count": 62,
     "metadata": {},
     "output_type": "execute_result"
    }
   ],
   "source": [
    "keras.models.load_model(\"/home/wailmouro/code/benoitfrisque/signlens/training_outputs/model 20240322-132441/model/model_20240322-132500.keras\")"
   ]
  },
  {
   "cell_type": "code",
   "execution_count": 59,
   "metadata": {},
   "outputs": [
    {
     "data": {
      "text/plain": [
       "['/home/wailmouro/code/benoitfrisque/signlens/training_outputs/model 20240322-131156',\n",
       " '/home/wailmouro/code/benoitfrisque/signlens/training_outputs/model 2024']"
      ]
     },
     "execution_count": 59,
     "metadata": {},
     "output_type": "execute_result"
    }
   ],
   "source": [
    "sorted(glob.glob(os.path.join(TRAIN_OUTPUT_DIR, \"model*\")),key=os.path.getctime)\n"
   ]
  },
  {
   "cell_type": "code",
   "execution_count": 52,
   "metadata": {},
   "outputs": [
    {
     "data": {
      "text/plain": [
       "['/home/wailmouro/code/benoitfrisque/signlens/training_outputs/model 20240322-131156/model/model_20240322-131216.keras']"
      ]
     },
     "execution_count": 52,
     "metadata": {},
     "output_type": "execute_result"
    }
   ],
   "source": [
    "keras_files = glob.glob(os.path.join(model_directory, \"*.keras\"))"
   ]
  },
  {
   "cell_type": "code",
   "execution_count": 50,
   "metadata": {},
   "outputs": [
    {
     "data": {
      "text/plain": [
       "<Sequential name=sequential, built=True>"
      ]
     },
     "execution_count": 50,
     "metadata": {},
     "output_type": "execute_result"
    }
   ],
   "source": [
    "keras.models.load_model(\"/home/wailmouro/code/benoitfrisque/signlens/training_outputs/model 20240322-131156/model/model_20240322-131216.keras\")"
   ]
  },
  {
   "cell_type": "code",
   "execution_count": 17,
   "metadata": {},
   "outputs": [],
   "source": [
    "X_train=group_pad_sequences(X_train)\n",
    "X_val=group_pad_sequences(X_val)\n",
    "X_test=group_pad_sequences(X_test)\n"
   ]
  },
  {
   "cell_type": "code",
   "execution_count": 18,
   "metadata": {},
   "outputs": [
    {
     "name": "stderr",
     "output_type": "stream",
     "text": [
      "/home/wailmouro/.pyenv/versions/3.10.6/envs/signlens/lib/python3.10/site-packages/keras/src/layers/reshaping/reshape.py:39: UserWarning: Do not pass an `input_shape`/`input_dim` argument to a layer. When using Sequential models, prefer using an `Input(shape)` object as the first layer in the model instead.\n",
      "  super().__init__(**kwargs)\n",
      "2024-03-21 17:29:58.408771: I external/local_xla/xla/stream_executor/cuda/cuda_executor.cc:984] could not open file to read NUMA node: /sys/bus/pci/devices/0000:01:00.0/numa_node\n",
      "Your kernel may have been built without NUMA support.\n",
      "2024-03-21 17:29:58.409248: W tensorflow/core/common_runtime/gpu/gpu_device.cc:2251] Cannot dlopen some GPU libraries. Please make sure the missing libraries mentioned above are installed properly if you would like to use GPU. Follow the guide at https://www.tensorflow.org/install/gpu for how to download and setup the required libraries for your platform.\n",
      "Skipping registering GPU devices...\n"
     ]
    }
   ],
   "source": [
    "\n",
    "model=initialize_model(num_classes=y.shape[1])\n",
    "model=compile_model(model)\n"
   ]
  },
  {
   "cell_type": "code",
   "execution_count": null,
   "metadata": {},
   "outputs": [],
   "source": []
  },
  {
   "cell_type": "code",
   "execution_count": 19,
   "metadata": {},
   "outputs": [
    {
     "data": {
      "text/plain": [
       "235"
      ]
     },
     "execution_count": 19,
     "metadata": {},
     "output_type": "execute_result"
    }
   ],
   "source": [
    "int(X_train.shape[0]/32)+1"
   ]
  },
  {
   "cell_type": "code",
   "execution_count": 20,
   "metadata": {},
   "outputs": [
    {
     "name": "stdout",
     "output_type": "stream",
     "text": [
      "\u001b[34m\n",
      "Training model...\u001b[0m\n",
      "Epoch 1/2\n"
     ]
    },
    {
     "name": "stderr",
     "output_type": "stream",
     "text": [
      "2024-03-21 17:30:40.608788: E tensorflow/core/util/util.cc:131] oneDNN supports DT_BOOL only on platforms with AVX-512. Falling back to the default Eigen-based implementation if present.\n"
     ]
    },
    {
     "name": "stdout",
     "output_type": "stream",
     "text": [
      "\u001b[1m235/235\u001b[0m \u001b[32m━━━━━━━━━━━━━━━━━━━━\u001b[0m\u001b[37m\u001b[0m \u001b[1m17s\u001b[0m 65ms/step - accuracy: 0.0251 - loss: 3.7262 - val_accuracy: 0.0251 - val_loss: 3.6893 - learning_rate: 0.0010\n",
      "Epoch 2/2\n",
      "\u001b[1m235/235\u001b[0m \u001b[32m━━━━━━━━━━━━━━━━━━━━\u001b[0m\u001b[37m\u001b[0m \u001b[1m15s\u001b[0m 64ms/step - accuracy: 0.0302 - loss: 3.6906 - val_accuracy: 0.0299 - val_loss: 3.6878 - learning_rate: 0.0010\n",
      "Restoring model weights from the end of the best epoch: 2.\n",
      "✅ Model trained on 7500 rows\n",
      "<keras.src.callbacks.history.History object at 0x7f5b5d76d5a0>\n"
     ]
    }
   ],
   "source": [
    "model_trained, history=train_model(model,X_train,y_train,patience=10,verbose=1,batch_size=32,validation_data=[X_val,y_val])"
   ]
  },
  {
   "cell_type": "code",
   "execution_count": 21,
   "metadata": {},
   "outputs": [
    {
     "data": {
      "image/png": "[encoded data removed]",
      "text/plain": [
       "<Figure size 1300x400 with 2 Axes>"
      ]
     },
     "metadata": {},
     "output_type": "display_data"
    }
   ],
   "source": [
    "plot_history(history)"
   ]
  },
  {
   "cell_type": "code",
   "execution_count": 31,
   "metadata": {},
   "outputs": [],
   "source": [
    "val_accuracy = np.max(history.history['val_accuracy'])\n",
    "val_loss = np.max(history.history['val_loss'])"
   ]
  },
  {
   "cell_type": "code",
   "execution_count": 32,
   "metadata": {},
   "outputs": [],
   "source": [
    "params = dict(\n",
    "        context=\"train\",\n",
    "        training_frac=DATA_FRAC,\n",
    "        row_count=len(X_train),\n",
    "    )"
   ]
  },
  {
   "cell_type": "code",
   "execution_count": 65,
   "metadata": {},
   "outputs": [
    {
     "data": {
      "text/plain": [
       "'training_20240322-133859.pickle'"
      ]
     },
     "execution_count": 65,
     "metadata": {},
     "output_type": "execute_result"
    }
   ],
   "source": [
    "timestamp = time.strftime(\"%Y%m%d-%H%M%S\")\n",
    "os.path.join(f\"training_{timestamp}.pickle\")"
   ]
  },
  {
   "cell_type": "code",
   "execution_count": 33,
   "metadata": {},
   "outputs": [
    {
     "name": "stdout",
     "output_type": "stream",
     "text": [
      "✅ Results saved locally\n"
     ]
    }
   ],
   "source": [
    "save_results(params=params, metrics=dict(val_accuracy=val_accuracy,val_loss=val_loss))"
   ]
  },
  {
   "cell_type": "code",
   "execution_count": 63,
   "metadata": {},
   "outputs": [],
   "source": [
    "from tensorflow.keras.models import load_model"
   ]
  },
  {
   "cell_type": "code",
   "execution_count": 67,
   "metadata": {},
   "outputs": [
    {
     "data": {
      "text/plain": [
       "<Sequential name=sequential_5, built=True>"
      ]
     },
     "execution_count": 67,
     "metadata": {},
     "output_type": "execute_result"
    }
   ],
   "source": [
    "load_model(\"/home/wailmouro/code/benoitfrisque/signlens/training_outputs/models/model_epoch_09.keras\")"
   ]
  }
 ],
 "metadata": {
  "kernelspec": {
   "display_name": "Python 3 (ipykernel)",
   "language": "python",
   "name": "python3"
  },
  "language_info": {
   "codemirror_mode": {
    "name": "ipython",
    "version": 3
   },
   "file_extension": ".py",
   "mimetype": "text/x-python",
   "name": "python",
   "nbconvert_exporter": "python",
   "pygments_lexer": "ipython3",
   "version": "3.10.6"
  }
 },
 "nbformat": 4,
 "nbformat_minor": 2
}

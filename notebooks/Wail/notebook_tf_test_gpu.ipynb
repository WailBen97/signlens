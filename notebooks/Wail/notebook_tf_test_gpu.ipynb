{
 "cells": [
  {
   "cell_type": "code",
   "execution_count": 1,
   "metadata": {},
   "outputs": [
    {
     "name": "stderr",
     "output_type": "stream",
     "text": [
      "2024-03-22 15:55:46.455384: I tensorflow/core/util/port.cc:113] oneDNN custom operations are on. You may see slightly different numerical results due to floating-point round-off errors from different computation orders. To turn them off, set the environment variable `TF_ENABLE_ONEDNN_OPTS=0`.\n",
      "2024-03-22 15:55:46.924121: I tensorflow/core/platform/cpu_feature_guard.cc:210] This TensorFlow binary is optimized to use available CPU instructions in performance-critical operations.\n",
      "To enable the following instructions: AVX2 AVX512F AVX512_VNNI FMA, in other operations, rebuild TensorFlow with the appropriate compiler flags.\n",
      "2024-03-22 15:55:48.103477: W tensorflow/compiler/tf2tensorrt/utils/py_utils.cc:38] TF-TRT Warning: Could not find TensorRT\n"
     ]
    }
   ],
   "source": [
    "import tensorflow as tf"
   ]
  },
  {
   "cell_type": "code",
   "execution_count": 1,
   "metadata": {},
   "outputs": [
    {
     "name": "stderr",
     "output_type": "stream",
     "text": [
      "2024-03-22 16:31:23.534688: I tensorflow/core/util/port.cc:113] oneDNN custom operations are on. You may see slightly different numerical results due to floating-point round-off errors from different computation orders. To turn them off, set the environment variable `TF_ENABLE_ONEDNN_OPTS=0`.\n",
      "2024-03-22 16:31:24.105975: I tensorflow/core/platform/cpu_feature_guard.cc:210] This TensorFlow binary is optimized to use available CPU instructions in performance-critical operations.\n",
      "To enable the following instructions: AVX2 AVX512F AVX512_VNNI FMA, in other operations, rebuild TensorFlow with the appropriate compiler flags.\n",
      "2024-03-22 16:31:26.537510: W tensorflow/compiler/tf2tensorrt/utils/py_utils.cc:38] TF-TRT Warning: Could not find TensorRT\n"
     ]
    },
    {
     "name": "stdout",
     "output_type": "stream",
     "text": [
      "Num GPUs Available:  0\n",
      "TensorFlow was built with CUDA\n",
      "Please install GPU version of TF\n"
     ]
    },
    {
     "name": "stderr",
     "output_type": "stream",
     "text": [
      "2024-03-22 16:31:29.045329: I external/local_xla/xla/stream_executor/cuda/cuda_executor.cc:984] could not open file to read NUMA node: /sys/bus/pci/devices/0000:01:00.0/numa_node\n",
      "Your kernel may have been built without NUMA support.\n",
      "2024-03-22 16:31:29.270352: W tensorflow/core/common_runtime/gpu/gpu_device.cc:2251] Cannot dlopen some GPU libraries. Please make sure the missing libraries mentioned above are installed properly if you would like to use GPU. Follow the guide at https://www.tensorflow.org/install/gpu for how to download and setup the required libraries for your platform.\n",
      "Skipping registering GPU devices...\n",
      "2024-03-22 16:31:29.273684: I external/local_xla/xla/stream_executor/cuda/cuda_executor.cc:984] could not open file to read NUMA node: /sys/bus/pci/devices/0000:01:00.0/numa_node\n",
      "Your kernel may have been built without NUMA support.\n",
      "2024-03-22 16:31:29.273710: W tensorflow/core/common_runtime/gpu/gpu_device.cc:2251] Cannot dlopen some GPU libraries. Please make sure the missing libraries mentioned above are installed properly if you would like to use GPU. Follow the guide at https://www.tensorflow.org/install/gpu for how to download and setup the required libraries for your platform.\n",
      "Skipping registering GPU devices...\n"
     ]
    }
   ],
   "source": [
    "import tensorflow as tf\n",
    "\n",
    "print(\"Num GPUs Available: \", len(tf.config.experimental.list_physical_devices('GPU')))\n",
    "if tf.test.is_built_with_cuda():\n",
    "    print(\"TensorFlow was built with CUDA\")\n",
    "else:\n",
    "    print(\"TensorFlow was not built with CUDA\")\n",
    "\n",
    "if tf.test.gpu_device_name():\n",
    "    print('Default GPU Device: {}'.format(tf.test.gpu_device_name()))\n",
    "else:\n",
    "    print(\"Please install GPU version of TF\")"
   ]
  },
  {
   "cell_type": "code",
   "execution_count": 4,
   "metadata": {},
   "outputs": [],
   "source": [
    "import glob\n",
    "import os"
   ]
  },
  {
   "cell_type": "code",
   "execution_count": 7,
   "metadata": {},
   "outputs": [
    {
     "data": {
      "text/plain": [
       "[]"
      ]
     },
     "execution_count": 7,
     "metadata": {},
     "output_type": "execute_result"
    }
   ],
   "source": [
    "m=\"/home/wailmouro/code/benoitfrisque/signlens/training_outputs/model 20240325-120044\"\n",
    "keras_files = glob.glob(os.path.join(m,'model', \"*.keras\"))\n",
    "keras_files"
   ]
  },
  {
   "cell_type": "code",
   "execution_count": 2,
   "metadata": {},
   "outputs": [
    {
     "name": "stdout",
     "output_type": "stream",
     "text": [
      "500\n"
     ]
    }
   ],
   "source": [
    "!echo $EPOCHS"
   ]
  },
  {
   "cell_type": "code",
   "execution_count": 1,
   "metadata": {},
   "outputs": [],
   "source": [
    "%load_ext autoreload\n",
    "%autoreload 2\n",
    "\n",
    "from signlens.preprocessing.data import load_data_subset_csv, unique_train_test_split,filter_out_landmarks,load_relevant_data_subset\n"
   ]
  },
  {
   "cell_type": "code",
   "execution_count": 2,
   "metadata": {},
   "outputs": [
    {
     "name": "stdout",
     "output_type": "stream",
     "text": [
      "\u001b[34mLoading data subset from train_train.csv\u001b[0m\n",
      "    ℹ️ Filtered sequences with missing frames. Size reduced from 77228 to 77228 (100.00%)\n",
      "    ℹ️ Filtered on n_frames = 100. Size reduced from 77228 to 68935 (89.26%)\n",
      "    ℹ️ Filtered on n_classes = 250. Size reduced from 68935 to 68935 (100.00%)\n",
      "    ℹ️ Balanced data, with average of 27.6 elements per class. Size reduced from 68935 to 6893 (10.00%)\n",
      "✅ Loaded 6893 rows (8.93% of the original 77228 rows) from the dataset.\n"
     ]
    }
   ],
   "source": [
    "train = load_data_subset_csv(balanced=True, random_state=None)"
   ]
  },
  {
   "cell_type": "code",
   "execution_count": 12,
   "metadata": {},
   "outputs": [],
   "source": [
    "from signlens.params import *\n",
    "from signlens.preprocessing.data import load_data_subset_csv, unique_train_test_split\n",
    "from signlens.preprocessing.preprocess import preprocess_and_pad_sequences_from_pq_list, encode_labels\n",
    "from signlens.model.model import initialize_model, compile_model, train_model, evaluate_model\n",
    "from utils.model_utils import save_results, save_model, load_model, create_model_folder\n",
    "from sklearn.model_selection import train_test_split"
   ]
  },
  {
   "cell_type": "code",
   "execution_count": 13,
   "metadata": {},
   "outputs": [
    {
     "data": {
      "text/html": [
       "<div>\n",
       "<style scoped>\n",
       "    .dataframe tbody tr th:only-of-type {\n",
       "        vertical-align: middle;\n",
       "    }\n",
       "\n",
       "    .dataframe tbody tr th {\n",
       "        vertical-align: top;\n",
       "    }\n",
       "\n",
       "    .dataframe thead th {\n",
       "        text-align: right;\n",
       "    }\n",
       "</style>\n",
       "<table border=\"1\" class=\"dataframe\">\n",
       "  <thead>\n",
       "    <tr style=\"text-align: right;\">\n",
       "      <th></th>\n",
       "      <th>path</th>\n",
       "      <th>participant_id</th>\n",
       "      <th>sequence_id</th>\n",
       "      <th>sign</th>\n",
       "      <th>n_frames</th>\n",
       "      <th>n_frames2</th>\n",
       "      <th>file_path</th>\n",
       "    </tr>\n",
       "  </thead>\n",
       "  <tbody>\n",
       "    <tr>\n",
       "      <th>0</th>\n",
       "      <td>train_landmark_files_noface/29302/192708374.pa...</td>\n",
       "      <td>29302</td>\n",
       "      <td>192708374</td>\n",
       "      <td>closet</td>\n",
       "      <td>34</td>\n",
       "      <td>34</td>\n",
       "      <td>/home/wailmouro/code/benoitfrisque/signlens/ra...</td>\n",
       "    </tr>\n",
       "    <tr>\n",
       "      <th>1</th>\n",
       "      <td>train_landmark_files_noface/49445/2771927098.p...</td>\n",
       "      <td>49445</td>\n",
       "      <td>2771927098</td>\n",
       "      <td>weus</td>\n",
       "      <td>53</td>\n",
       "      <td>53</td>\n",
       "      <td>/home/wailmouro/code/benoitfrisque/signlens/ra...</td>\n",
       "    </tr>\n",
       "    <tr>\n",
       "      <th>2</th>\n",
       "      <td>train_landmark_files_noface/53618/3591372939.p...</td>\n",
       "      <td>53618</td>\n",
       "      <td>3591372939</td>\n",
       "      <td>hungry</td>\n",
       "      <td>8</td>\n",
       "      <td>8</td>\n",
       "      <td>/home/wailmouro/code/benoitfrisque/signlens/ra...</td>\n",
       "    </tr>\n",
       "    <tr>\n",
       "      <th>3</th>\n",
       "      <td>train_landmark_files_noface/16069/1501987033.p...</td>\n",
       "      <td>16069</td>\n",
       "      <td>1501987033</td>\n",
       "      <td>helicopter</td>\n",
       "      <td>27</td>\n",
       "      <td>27</td>\n",
       "      <td>/home/wailmouro/code/benoitfrisque/signlens/ra...</td>\n",
       "    </tr>\n",
       "    <tr>\n",
       "      <th>4</th>\n",
       "      <td>train_landmark_files_noface/53618/2217436702.p...</td>\n",
       "      <td>53618</td>\n",
       "      <td>2217436702</td>\n",
       "      <td>cry</td>\n",
       "      <td>96</td>\n",
       "      <td>96</td>\n",
       "      <td>/home/wailmouro/code/benoitfrisque/signlens/ra...</td>\n",
       "    </tr>\n",
       "    <tr>\n",
       "      <th>...</th>\n",
       "      <td>...</td>\n",
       "      <td>...</td>\n",
       "      <td>...</td>\n",
       "      <td>...</td>\n",
       "      <td>...</td>\n",
       "      <td>...</td>\n",
       "      <td>...</td>\n",
       "    </tr>\n",
       "    <tr>\n",
       "      <th>6888</th>\n",
       "      <td>train_landmark_files_noface/53618/383752124.pa...</td>\n",
       "      <td>53618</td>\n",
       "      <td>383752124</td>\n",
       "      <td>underwear</td>\n",
       "      <td>14</td>\n",
       "      <td>14</td>\n",
       "      <td>/home/wailmouro/code/benoitfrisque/signlens/ra...</td>\n",
       "    </tr>\n",
       "    <tr>\n",
       "      <th>6889</th>\n",
       "      <td>train_landmark_files_noface/32319/286899901.pa...</td>\n",
       "      <td>32319</td>\n",
       "      <td>286899901</td>\n",
       "      <td>noisy</td>\n",
       "      <td>54</td>\n",
       "      <td>54</td>\n",
       "      <td>/home/wailmouro/code/benoitfrisque/signlens/ra...</td>\n",
       "    </tr>\n",
       "    <tr>\n",
       "      <th>6890</th>\n",
       "      <td>train_landmark_files_noface/37055/2293931034.p...</td>\n",
       "      <td>37055</td>\n",
       "      <td>2293931034</td>\n",
       "      <td>flower</td>\n",
       "      <td>14</td>\n",
       "      <td>14</td>\n",
       "      <td>/home/wailmouro/code/benoitfrisque/signlens/ra...</td>\n",
       "    </tr>\n",
       "    <tr>\n",
       "      <th>6891</th>\n",
       "      <td>train_landmark_files_noface/29302/2782983417.p...</td>\n",
       "      <td>29302</td>\n",
       "      <td>2782983417</td>\n",
       "      <td>nuts</td>\n",
       "      <td>37</td>\n",
       "      <td>37</td>\n",
       "      <td>/home/wailmouro/code/benoitfrisque/signlens/ra...</td>\n",
       "    </tr>\n",
       "    <tr>\n",
       "      <th>6892</th>\n",
       "      <td>train_landmark_files_noface/55372/1303759415.p...</td>\n",
       "      <td>55372</td>\n",
       "      <td>1303759415</td>\n",
       "      <td>potty</td>\n",
       "      <td>26</td>\n",
       "      <td>26</td>\n",
       "      <td>/home/wailmouro/code/benoitfrisque/signlens/ra...</td>\n",
       "    </tr>\n",
       "  </tbody>\n",
       "</table>\n",
       "<p>6893 rows × 7 columns</p>\n",
       "</div>"
      ],
      "text/plain": [
       "                                                   path  participant_id  \\\n",
       "0     train_landmark_files_noface/29302/192708374.pa...           29302   \n",
       "1     train_landmark_files_noface/49445/2771927098.p...           49445   \n",
       "2     train_landmark_files_noface/53618/3591372939.p...           53618   \n",
       "3     train_landmark_files_noface/16069/1501987033.p...           16069   \n",
       "4     train_landmark_files_noface/53618/2217436702.p...           53618   \n",
       "...                                                 ...             ...   \n",
       "6888  train_landmark_files_noface/53618/383752124.pa...           53618   \n",
       "6889  train_landmark_files_noface/32319/286899901.pa...           32319   \n",
       "6890  train_landmark_files_noface/37055/2293931034.p...           37055   \n",
       "6891  train_landmark_files_noface/29302/2782983417.p...           29302   \n",
       "6892  train_landmark_files_noface/55372/1303759415.p...           55372   \n",
       "\n",
       "      sequence_id        sign  n_frames  n_frames2  \\\n",
       "0       192708374      closet        34         34   \n",
       "1      2771927098        weus        53         53   \n",
       "2      3591372939      hungry         8          8   \n",
       "3      1501987033  helicopter        27         27   \n",
       "4      2217436702         cry        96         96   \n",
       "...           ...         ...       ...        ...   \n",
       "6888    383752124   underwear        14         14   \n",
       "6889    286899901       noisy        54         54   \n",
       "6890   2293931034      flower        14         14   \n",
       "6891   2782983417        nuts        37         37   \n",
       "6892   1303759415       potty        26         26   \n",
       "\n",
       "                                              file_path  \n",
       "0     /home/wailmouro/code/benoitfrisque/signlens/ra...  \n",
       "1     /home/wailmouro/code/benoitfrisque/signlens/ra...  \n",
       "2     /home/wailmouro/code/benoitfrisque/signlens/ra...  \n",
       "3     /home/wailmouro/code/benoitfrisque/signlens/ra...  \n",
       "4     /home/wailmouro/code/benoitfrisque/signlens/ra...  \n",
       "...                                                 ...  \n",
       "6888  /home/wailmouro/code/benoitfrisque/signlens/ra...  \n",
       "6889  /home/wailmouro/code/benoitfrisque/signlens/ra...  \n",
       "6890  /home/wailmouro/code/benoitfrisque/signlens/ra...  \n",
       "6891  /home/wailmouro/code/benoitfrisque/signlens/ra...  \n",
       "6892  /home/wailmouro/code/benoitfrisque/signlens/ra...  \n",
       "\n",
       "[6893 rows x 7 columns]"
      ]
     },
     "execution_count": 13,
     "metadata": {},
     "output_type": "execute_result"
    }
   ],
   "source": [
    "train"
   ]
  },
  {
   "cell_type": "code",
   "execution_count": 15,
   "metadata": {},
   "outputs": [],
   "source": [
    "X_files = train.file_path\n",
    "y = encode_labels(train.sign)\n",
    "X_train_files, X_val_files, y_train, y_val = train_test_split(X_files, y, test_size=0.2, stratify=y, random_state=None)"
   ]
  },
  {
   "cell_type": "code",
   "execution_count": 17,
   "metadata": {},
   "outputs": [
    {
     "ename": "NameError",
     "evalue": "name 'load_relevant_data_subset' is not defined",
     "output_type": "error",
     "traceback": [
      "\u001b[0;31m---------------------------------------------------------------------------\u001b[0m",
      "\u001b[0;31mNameError\u001b[0m                                 Traceback (most recent call last)",
      "Cell \u001b[0;32mIn[17], line 1\u001b[0m\n\u001b[0;32m----> 1\u001b[0m \u001b[43mload_relevant_data_subset\u001b[49m(X_train_files[\u001b[38;5;241m0\u001b[39m])\n",
      "\u001b[0;31mNameError\u001b[0m: name 'load_relevant_data_subset' is not defined"
     ]
    }
   ],
   "source": [
    "load_relevant_data_subset(X_train_files[0])"
   ]
  },
  {
   "cell_type": "code",
   "execution_count": 8,
   "metadata": {},
   "outputs": [
    {
     "name": "stdout",
     "output_type": "stream",
     "text": [
      "pose\n",
      "hey\n",
      "hey\n",
      "hey\n",
      "hey\n"
     ]
    },
    {
     "data": {
      "text/html": [
       "<div>\n",
       "<style scoped>\n",
       "    .dataframe tbody tr th:only-of-type {\n",
       "        vertical-align: middle;\n",
       "    }\n",
       "\n",
       "    .dataframe tbody tr th {\n",
       "        vertical-align: top;\n",
       "    }\n",
       "\n",
       "    .dataframe thead th {\n",
       "        text-align: right;\n",
       "    }\n",
       "</style>\n",
       "<table border=\"1\" class=\"dataframe\">\n",
       "  <thead>\n",
       "    <tr style=\"text-align: right;\">\n",
       "      <th></th>\n",
       "      <th>frame</th>\n",
       "      <th>row_id</th>\n",
       "      <th>type</th>\n",
       "      <th>landmark_index</th>\n",
       "      <th>x</th>\n",
       "      <th>y</th>\n",
       "      <th>z</th>\n",
       "    </tr>\n",
       "  </thead>\n",
       "  <tbody>\n",
       "    <tr>\n",
       "      <th>489</th>\n",
       "      <td>6</td>\n",
       "      <td>6-pose-0</td>\n",
       "      <td>pose</td>\n",
       "      <td>0</td>\n",
       "      <td>0.509889</td>\n",
       "      <td>0.399118</td>\n",
       "      <td>-1.545641</td>\n",
       "    </tr>\n",
       "    <tr>\n",
       "      <th>490</th>\n",
       "      <td>6</td>\n",
       "      <td>6-pose-1</td>\n",
       "      <td>pose</td>\n",
       "      <td>1</td>\n",
       "      <td>0.559853</td>\n",
       "      <td>0.356564</td>\n",
       "      <td>-1.509517</td>\n",
       "    </tr>\n",
       "    <tr>\n",
       "      <th>491</th>\n",
       "      <td>6</td>\n",
       "      <td>6-pose-2</td>\n",
       "      <td>pose</td>\n",
       "      <td>2</td>\n",
       "      <td>0.585243</td>\n",
       "      <td>0.359251</td>\n",
       "      <td>-1.509425</td>\n",
       "    </tr>\n",
       "    <tr>\n",
       "      <th>492</th>\n",
       "      <td>6</td>\n",
       "      <td>6-pose-3</td>\n",
       "      <td>pose</td>\n",
       "      <td>3</td>\n",
       "      <td>0.607828</td>\n",
       "      <td>0.362500</td>\n",
       "      <td>-1.509716</td>\n",
       "    </tr>\n",
       "    <tr>\n",
       "      <th>493</th>\n",
       "      <td>6</td>\n",
       "      <td>6-pose-4</td>\n",
       "      <td>pose</td>\n",
       "      <td>4</td>\n",
       "      <td>0.488029</td>\n",
       "      <td>0.353529</td>\n",
       "      <td>-1.491490</td>\n",
       "    </tr>\n",
       "    <tr>\n",
       "      <th>...</th>\n",
       "      <td>...</td>\n",
       "      <td>...</td>\n",
       "      <td>...</td>\n",
       "      <td>...</td>\n",
       "      <td>...</td>\n",
       "      <td>...</td>\n",
       "      <td>...</td>\n",
       "    </tr>\n",
       "    <tr>\n",
       "      <th>18426</th>\n",
       "      <td>39</td>\n",
       "      <td>39-pose-18</td>\n",
       "      <td>pose</td>\n",
       "      <td>18</td>\n",
       "      <td>0.240427</td>\n",
       "      <td>0.719300</td>\n",
       "      <td>-2.071481</td>\n",
       "    </tr>\n",
       "    <tr>\n",
       "      <th>18427</th>\n",
       "      <td>39</td>\n",
       "      <td>39-pose-19</td>\n",
       "      <td>pose</td>\n",
       "      <td>19</td>\n",
       "      <td>0.756227</td>\n",
       "      <td>0.576663</td>\n",
       "      <td>-1.208361</td>\n",
       "    </tr>\n",
       "    <tr>\n",
       "      <th>18428</th>\n",
       "      <td>39</td>\n",
       "      <td>39-pose-20</td>\n",
       "      <td>pose</td>\n",
       "      <td>20</td>\n",
       "      <td>0.269345</td>\n",
       "      <td>0.684207</td>\n",
       "      <td>-2.012549</td>\n",
       "    </tr>\n",
       "    <tr>\n",
       "      <th>18429</th>\n",
       "      <td>39</td>\n",
       "      <td>39-pose-21</td>\n",
       "      <td>pose</td>\n",
       "      <td>21</td>\n",
       "      <td>0.740706</td>\n",
       "      <td>0.605528</td>\n",
       "      <td>-1.176791</td>\n",
       "    </tr>\n",
       "    <tr>\n",
       "      <th>18430</th>\n",
       "      <td>39</td>\n",
       "      <td>39-pose-22</td>\n",
       "      <td>pose</td>\n",
       "      <td>22</td>\n",
       "      <td>0.283090</td>\n",
       "      <td>0.701160</td>\n",
       "      <td>-1.898627</td>\n",
       "    </tr>\n",
       "  </tbody>\n",
       "</table>\n",
       "<p>782 rows × 7 columns</p>\n",
       "</div>"
      ],
      "text/plain": [
       "       frame      row_id  type  landmark_index         x         y         z\n",
       "489        6    6-pose-0  pose               0  0.509889  0.399118 -1.545641\n",
       "490        6    6-pose-1  pose               1  0.559853  0.356564 -1.509517\n",
       "491        6    6-pose-2  pose               2  0.585243  0.359251 -1.509425\n",
       "492        6    6-pose-3  pose               3  0.607828  0.362500 -1.509716\n",
       "493        6    6-pose-4  pose               4  0.488029  0.353529 -1.491490\n",
       "...      ...         ...   ...             ...       ...       ...       ...\n",
       "18426     39  39-pose-18  pose              18  0.240427  0.719300 -2.071481\n",
       "18427     39  39-pose-19  pose              19  0.756227  0.576663 -1.208361\n",
       "18428     39  39-pose-20  pose              20  0.269345  0.684207 -2.012549\n",
       "18429     39  39-pose-21  pose              21  0.740706  0.605528 -1.176791\n",
       "18430     39  39-pose-22  pose              22  0.283090  0.701160 -1.898627\n",
       "\n",
       "[782 rows x 7 columns]"
      ]
     },
     "execution_count": 8,
     "metadata": {},
     "output_type": "execute_result"
    }
   ],
   "source": [
    "filter_out_landmarks(train.file_path[0],\"pose\")+\n"
   ]
  },
  {
   "cell_type": "code",
   "execution_count": null,
   "metadata": {},
   "outputs": [],
   "source": []
  }
 ],
 "metadata": {
  "kernelspec": {
   "display_name": "signlens",
   "language": "python",
   "name": "python3"
  },
  "language_info": {
   "codemirror_mode": {
    "name": "ipython",
    "version": 3
   },
   "file_extension": ".py",
   "mimetype": "text/x-python",
   "name": "python",
   "nbconvert_exporter": "python",
   "pygments_lexer": "ipython3",
   "version": "3.10.6"
  }
 },
 "nbformat": 4,
 "nbformat_minor": 2
}

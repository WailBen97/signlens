{
 "cells": [
  {
   "cell_type": "code",
   "execution_count": 1,
   "metadata": {},
   "outputs": [
    {
     "name": "stderr",
     "output_type": "stream",
     "text": [
      "2024-03-22 15:55:46.455384: I tensorflow/core/util/port.cc:113] oneDNN custom operations are on. You may see slightly different numerical results due to floating-point round-off errors from different computation orders. To turn them off, set the environment variable `TF_ENABLE_ONEDNN_OPTS=0`.\n",
      "2024-03-22 15:55:46.924121: I tensorflow/core/platform/cpu_feature_guard.cc:210] This TensorFlow binary is optimized to use available CPU instructions in performance-critical operations.\n",
      "To enable the following instructions: AVX2 AVX512F AVX512_VNNI FMA, in other operations, rebuild TensorFlow with the appropriate compiler flags.\n",
      "2024-03-22 15:55:48.103477: W tensorflow/compiler/tf2tensorrt/utils/py_utils.cc:38] TF-TRT Warning: Could not find TensorRT\n"
     ]
    }
   ],
   "source": [
    "import tensorflow as tf"
   ]
  },
  {
   "cell_type": "code",
   "execution_count": 1,
   "metadata": {},
   "outputs": [
    {
     "name": "stderr",
     "output_type": "stream",
     "text": [
      "2024-03-22 16:31:23.534688: I tensorflow/core/util/port.cc:113] oneDNN custom operations are on. You may see slightly different numerical results due to floating-point round-off errors from different computation orders. To turn them off, set the environment variable `TF_ENABLE_ONEDNN_OPTS=0`.\n",
      "2024-03-22 16:31:24.105975: I tensorflow/core/platform/cpu_feature_guard.cc:210] This TensorFlow binary is optimized to use available CPU instructions in performance-critical operations.\n",
      "To enable the following instructions: AVX2 AVX512F AVX512_VNNI FMA, in other operations, rebuild TensorFlow with the appropriate compiler flags.\n",
      "2024-03-22 16:31:26.537510: W tensorflow/compiler/tf2tensorrt/utils/py_utils.cc:38] TF-TRT Warning: Could not find TensorRT\n"
     ]
    },
    {
     "name": "stdout",
     "output_type": "stream",
     "text": [
      "Num GPUs Available:  0\n",
      "TensorFlow was built with CUDA\n",
      "Please install GPU version of TF\n"
     ]
    },
    {
     "name": "stderr",
     "output_type": "stream",
     "text": [
      "2024-03-22 16:31:29.045329: I external/local_xla/xla/stream_executor/cuda/cuda_executor.cc:984] could not open file to read NUMA node: /sys/bus/pci/devices/0000:01:00.0/numa_node\n",
      "Your kernel may have been built without NUMA support.\n",
      "2024-03-22 16:31:29.270352: W tensorflow/core/common_runtime/gpu/gpu_device.cc:2251] Cannot dlopen some GPU libraries. Please make sure the missing libraries mentioned above are installed properly if you would like to use GPU. Follow the guide at https://www.tensorflow.org/install/gpu for how to download and setup the required libraries for your platform.\n",
      "Skipping registering GPU devices...\n",
      "2024-03-22 16:31:29.273684: I external/local_xla/xla/stream_executor/cuda/cuda_executor.cc:984] could not open file to read NUMA node: /sys/bus/pci/devices/0000:01:00.0/numa_node\n",
      "Your kernel may have been built without NUMA support.\n",
      "2024-03-22 16:31:29.273710: W tensorflow/core/common_runtime/gpu/gpu_device.cc:2251] Cannot dlopen some GPU libraries. Please make sure the missing libraries mentioned above are installed properly if you would like to use GPU. Follow the guide at https://www.tensorflow.org/install/gpu for how to download and setup the required libraries for your platform.\n",
      "Skipping registering GPU devices...\n"
     ]
    }
   ],
   "source": [
    "import tensorflow as tf\n",
    "\n",
    "print(\"Num GPUs Available: \", len(tf.config.experimental.list_physical_devices('GPU')))\n",
    "if tf.test.is_built_with_cuda():\n",
    "    print(\"TensorFlow was built with CUDA\")\n",
    "else:\n",
    "    print(\"TensorFlow was not built with CUDA\")\n",
    "\n",
    "if tf.test.gpu_device_name():\n",
    "    print('Default GPU Device: {}'.format(tf.test.gpu_device_name()))\n",
    "else:\n",
    "    print(\"Please install GPU version of TF\")"
   ]
  },
  {
   "cell_type": "code",
   "execution_count": 4,
   "metadata": {},
   "outputs": [],
   "source": [
    "import glob\n",
    "import os"
   ]
  },
  {
   "cell_type": "code",
   "execution_count": 7,
   "metadata": {},
   "outputs": [
    {
     "data": {
      "text/plain": [
       "[]"
      ]
     },
     "execution_count": 7,
     "metadata": {},
     "output_type": "execute_result"
    }
   ],
   "source": [
    "m=\"/home/wailmouro/code/benoitfrisque/signlens/training_outputs/model 20240325-120044\"\n",
    "keras_files = glob.glob(os.path.join(m,'model', \"*.keras\"))\n",
    "keras_files"
   ]
  },
  {
   "cell_type": "code",
   "execution_count": 2,
   "metadata": {},
   "outputs": [
    {
     "name": "stdout",
     "output_type": "stream",
     "text": [
      "500\n"
     ]
    }
   ],
   "source": [
    "!echo $EPOCHS"
   ]
  },
  {
   "cell_type": "code",
   "execution_count": 1,
   "metadata": {},
   "outputs": [],
   "source": [
    "%load_ext autoreload\n",
    "%autoreload 2\n",
    "\n",
    "from signlens.preprocessing.data import load_data_subset_csv, unique_train_test_split,filter_out_landmarks,load_relevant_data_subset\n"
   ]
  },
  {
   "cell_type": "code",
   "execution_count": 48,
   "metadata": {},
   "outputs": [
    {
     "name": "stdout",
     "output_type": "stream",
     "text": [
      "\u001b[34mLoading data subset from train_train.csv\u001b[0m\n",
      "    ℹ️ Filtered sequences with missing frames. Size reduced from 77228 to 77228 (100.00%)\n",
      "    ℹ️ Filtered on n_frames = 100. Size reduced from 77228 to 68935 (89.26%)\n",
      "    ℹ️ Filtered on n_classes = 250. Size reduced from 68935 to 68935 (100.00%)\n",
      "    ℹ️ Balanced data, with average of 27.6 elements per class. Size reduced from 68935 to 6893 (10.00%)\n",
      "✅ Loaded 6893 rows (8.93% of the original 77228 rows) from the dataset.\n"
     ]
    }
   ],
   "source": [
    "train = load_data_subset_csv(balanced=True, random_state=None)"
   ]
  },
  {
   "cell_type": "code",
   "execution_count": 3,
   "metadata": {},
   "outputs": [
    {
     "name": "stderr",
     "output_type": "stream",
     "text": [
      "2024-03-26 09:23:50.950735: I tensorflow/core/util/port.cc:113] oneDNN custom operations are on. You may see slightly different numerical results due to floating-point round-off errors from different computation orders. To turn them off, set the environment variable `TF_ENABLE_ONEDNN_OPTS=0`.\n",
      "2024-03-26 09:23:50.990481: I tensorflow/core/platform/cpu_feature_guard.cc:210] This TensorFlow binary is optimized to use available CPU instructions in performance-critical operations.\n",
      "To enable the following instructions: AVX2 AVX512F AVX512_VNNI FMA, in other operations, rebuild TensorFlow with the appropriate compiler flags.\n",
      "2024-03-26 09:23:51.831637: W tensorflow/compiler/tf2tensorrt/utils/py_utils.cc:38] TF-TRT Warning: Could not find TensorRT\n"
     ]
    }
   ],
   "source": [
    "from signlens.params import *\n",
    "from signlens.preprocessing.data import load_data_subset_csv, unique_train_test_split,filter_out_landmarks\n",
    "from signlens.preprocessing.preprocess import preprocess_and_pad_sequences_from_pq_list, encode_labels\n",
    "from signlens.model.model import initialize_model, compile_model, train_model, evaluate_model\n",
    "from utils.model_utils import save_results, save_model, load_model, create_model_folder\n",
    "from sklearn.model_selection import train_test_split"
   ]
  },
  {
   "cell_type": "code",
   "execution_count": 46,
   "metadata": {},
   "outputs": [],
   "source": [
    "X_files = train.file_path\n",
    "y = encode_labels(train.sign)\n",
    "X_train_files, X_val_files, y_train, y_val = train_test_split(X_files, y, test_size=0.2, stratify=y, random_state=None)"
   ]
  },
  {
   "cell_type": "code",
   "execution_count": 7,
   "metadata": {},
   "outputs": [
    {
     "data": {
      "text/html": [
       "<div>\n",
       "<style scoped>\n",
       "    .dataframe tbody tr th:only-of-type {\n",
       "        vertical-align: middle;\n",
       "    }\n",
       "\n",
       "    .dataframe tbody tr th {\n",
       "        vertical-align: top;\n",
       "    }\n",
       "\n",
       "    .dataframe thead th {\n",
       "        text-align: right;\n",
       "    }\n",
       "</style>\n",
       "<table border=\"1\" class=\"dataframe\">\n",
       "  <thead>\n",
       "    <tr style=\"text-align: right;\">\n",
       "      <th></th>\n",
       "      <th>x</th>\n",
       "      <th>y</th>\n",
       "      <th>z</th>\n",
       "      <th>type</th>\n",
       "      <th>landmark_index</th>\n",
       "    </tr>\n",
       "  </thead>\n",
       "  <tbody>\n",
       "    <tr>\n",
       "      <th>489</th>\n",
       "      <td>0.414427</td>\n",
       "      <td>0.352999</td>\n",
       "      <td>-1.532562</td>\n",
       "      <td>pose</td>\n",
       "      <td>0</td>\n",
       "    </tr>\n",
       "    <tr>\n",
       "      <th>490</th>\n",
       "      <td>0.453646</td>\n",
       "      <td>0.296464</td>\n",
       "      <td>-1.466734</td>\n",
       "      <td>pose</td>\n",
       "      <td>1</td>\n",
       "    </tr>\n",
       "    <tr>\n",
       "      <th>491</th>\n",
       "      <td>0.480678</td>\n",
       "      <td>0.294072</td>\n",
       "      <td>-1.466874</td>\n",
       "      <td>pose</td>\n",
       "      <td>2</td>\n",
       "    </tr>\n",
       "    <tr>\n",
       "      <th>492</th>\n",
       "      <td>0.505012</td>\n",
       "      <td>0.292578</td>\n",
       "      <td>-1.466365</td>\n",
       "      <td>pose</td>\n",
       "      <td>3</td>\n",
       "    </tr>\n",
       "    <tr>\n",
       "      <th>493</th>\n",
       "      <td>0.369479</td>\n",
       "      <td>0.304016</td>\n",
       "      <td>-1.445349</td>\n",
       "      <td>pose</td>\n",
       "      <td>4</td>\n",
       "    </tr>\n",
       "    <tr>\n",
       "      <th>...</th>\n",
       "      <td>...</td>\n",
       "      <td>...</td>\n",
       "      <td>...</td>\n",
       "      <td>...</td>\n",
       "      <td>...</td>\n",
       "    </tr>\n",
       "    <tr>\n",
       "      <th>8654</th>\n",
       "      <td>-0.025172</td>\n",
       "      <td>0.881494</td>\n",
       "      <td>-2.307901</td>\n",
       "      <td>pose</td>\n",
       "      <td>20</td>\n",
       "    </tr>\n",
       "    <tr>\n",
       "      <th>8655</th>\n",
       "      <td>0.706267</td>\n",
       "      <td>0.719986</td>\n",
       "      <td>-1.503017</td>\n",
       "      <td>pose</td>\n",
       "      <td>21</td>\n",
       "    </tr>\n",
       "    <tr>\n",
       "      <th>8656</th>\n",
       "      <td>-0.000540</td>\n",
       "      <td>0.882726</td>\n",
       "      <td>-2.115515</td>\n",
       "      <td>pose</td>\n",
       "      <td>22</td>\n",
       "    </tr>\n",
       "    <tr>\n",
       "      <th>8657</th>\n",
       "      <td>0.653640</td>\n",
       "      <td>1.206206</td>\n",
       "      <td>-0.099809</td>\n",
       "      <td>pose</td>\n",
       "      <td>23</td>\n",
       "    </tr>\n",
       "    <tr>\n",
       "      <th>8658</th>\n",
       "      <td>0.223983</td>\n",
       "      <td>1.215228</td>\n",
       "      <td>0.106919</td>\n",
       "      <td>pose</td>\n",
       "      <td>24</td>\n",
       "    </tr>\n",
       "  </tbody>\n",
       "</table>\n",
       "<p>400 rows × 5 columns</p>\n",
       "</div>"
      ],
      "text/plain": [
       "             x         y         z  type  landmark_index\n",
       "489   0.414427  0.352999 -1.532562  pose               0\n",
       "490   0.453646  0.296464 -1.466734  pose               1\n",
       "491   0.480678  0.294072 -1.466874  pose               2\n",
       "492   0.505012  0.292578 -1.466365  pose               3\n",
       "493   0.369479  0.304016 -1.445349  pose               4\n",
       "...        ...       ...       ...   ...             ...\n",
       "8654 -0.025172  0.881494 -2.307901  pose              20\n",
       "8655  0.706267  0.719986 -1.503017  pose              21\n",
       "8656 -0.000540  0.882726 -2.115515  pose              22\n",
       "8657  0.653640  1.206206 -0.099809  pose              23\n",
       "8658  0.223983  1.215228  0.106919  pose              24\n",
       "\n",
       "[400 rows x 5 columns]"
      ]
     },
     "execution_count": 7,
     "metadata": {},
     "output_type": "execute_result"
    }
   ],
   "source": [
    "data_columns = ['x', 'y', 'z', 'type','landmark_index']\n",
    "data=filter_out_landmarks(train.file_path[0], landmark_types_to_remove=[\n",
    "                                    'face','pose'], data_columns=data_columns)\n",
    "\n",
    "data[data[\"type\"]==\"pose\"]\n"
   ]
  },
  {
   "cell_type": "code",
   "execution_count": 53,
   "metadata": {},
   "outputs": [
    {
     "name": "stderr",
     "output_type": "stream",
     "text": [
      "100%|██████████| 5514/5514 [00:09<00:00, 586.79it/s]\n",
      "2024-03-26 09:47:54.348720: I external/local_xla/xla/stream_executor/cuda/cuda_executor.cc:984] could not open file to read NUMA node: /sys/bus/pci/devices/0000:01:00.0/numa_node\n",
      "Your kernel may have been built without NUMA support.\n",
      "2024-03-26 09:47:54.349548: W tensorflow/core/common_runtime/gpu/gpu_device.cc:2251] Cannot dlopen some GPU libraries. Please make sure the missing libraries mentioned above are installed properly if you would like to use GPU. Follow the guide at https://www.tensorflow.org/install/gpu for how to download and setup the required libraries for your platform.\n",
      "Skipping registering GPU devices...\n"
     ]
    }
   ],
   "source": [
    "X_train = preprocess_and_pad_sequences_from_pq_list(X_train_files)"
   ]
  },
  {
   "cell_type": "code",
   "execution_count": 56,
   "metadata": {},
   "outputs": [
    {
     "data": {
      "text/plain": [
       "201"
      ]
     },
     "execution_count": 56,
     "metadata": {},
     "output_type": "execute_result"
    }
   ],
   "source": []
  },
  {
   "cell_type": "code",
   "execution_count": 43,
   "metadata": {},
   "outputs": [
    {
     "data": {
      "text/plain": [
       "7"
      ]
     },
     "execution_count": 43,
     "metadata": {},
     "output_type": "execute_result"
    }
   ],
   "source": [
    "(N_LANDMARKS_MAX_POSE_TO_TAKE_OFF-N_LANDMARKS_MIN_POSE_TO_TAKE_OFF)"
   ]
  },
  {
   "cell_type": "code",
   "execution_count": 35,
   "metadata": {},
   "outputs": [
    {
     "data": {
      "text/plain": [
       "1072"
      ]
     },
     "execution_count": 35,
     "metadata": {},
     "output_type": "execute_result"
    }
   ],
   "source": [
    "(75-8)*16\n"
   ]
  },
  {
   "cell_type": "code",
   "execution_count": 50,
   "metadata": {},
   "outputs": [
    {
     "data": {
      "text/plain": [
       "array([[[ 6.6529685e-01,  6.4861888e-01,  3.4730004e-07],\n",
       "        [ 6.6160381e-01,  5.7414860e-01,  5.8719395e-03],\n",
       "        [ 6.1040813e-01,  5.0696325e-01, -6.7626401e-03],\n",
       "        ...,\n",
       "        [           nan,            nan,            nan],\n",
       "        [           nan,            nan,            nan],\n",
       "        [           nan,            nan,            nan]],\n",
       "\n",
       "       [[           nan,            nan,            nan],\n",
       "        [           nan,            nan,            nan],\n",
       "        [           nan,            nan,            nan],\n",
       "        ...,\n",
       "        [           nan,            nan,            nan],\n",
       "        [           nan,            nan,            nan],\n",
       "        [           nan,            nan,            nan]],\n",
       "\n",
       "       [[           nan,            nan,            nan],\n",
       "        [           nan,            nan,            nan],\n",
       "        [           nan,            nan,            nan],\n",
       "        ...,\n",
       "        [           nan,            nan,            nan],\n",
       "        [           nan,            nan,            nan],\n",
       "        [           nan,            nan,            nan]],\n",
       "\n",
       "       ...,\n",
       "\n",
       "       [[           nan,            nan,            nan],\n",
       "        [           nan,            nan,            nan],\n",
       "        [           nan,            nan,            nan],\n",
       "        ...,\n",
       "        [           nan,            nan,            nan],\n",
       "        [           nan,            nan,            nan],\n",
       "        [           nan,            nan,            nan]],\n",
       "\n",
       "       [[           nan,            nan,            nan],\n",
       "        [           nan,            nan,            nan],\n",
       "        [           nan,            nan,            nan],\n",
       "        ...,\n",
       "        [           nan,            nan,            nan],\n",
       "        [           nan,            nan,            nan],\n",
       "        [           nan,            nan,            nan]],\n",
       "\n",
       "       [[ 6.8453729e-01,  8.2610130e-01,  9.7150325e-07],\n",
       "        [ 6.8012047e-01,  7.3429918e-01,  7.4867723e-03],\n",
       "        [ 6.3998431e-01,  6.6119820e-01,  1.9395632e-03],\n",
       "        ...,\n",
       "        [           nan,            nan,            nan],\n",
       "        [           nan,            nan,            nan],\n",
       "        [           nan,            nan,            nan]]], dtype=float32)"
      ]
     },
     "execution_count": 50,
     "metadata": {},
     "output_type": "execute_result"
    }
   ],
   "source": [
    "load_relevant_data_subset(train.file_path[0])\n"
   ]
  },
  {
   "cell_type": "code",
   "execution_count": 31,
   "metadata": {},
   "outputs": [
    {
     "data": {
      "text/html": [
       "<div>\n",
       "<style scoped>\n",
       "    .dataframe tbody tr th:only-of-type {\n",
       "        vertical-align: middle;\n",
       "    }\n",
       "\n",
       "    .dataframe tbody tr th {\n",
       "        vertical-align: top;\n",
       "    }\n",
       "\n",
       "    .dataframe thead th {\n",
       "        text-align: right;\n",
       "    }\n",
       "</style>\n",
       "<table border=\"1\" class=\"dataframe\">\n",
       "  <thead>\n",
       "    <tr style=\"text-align: right;\">\n",
       "      <th></th>\n",
       "      <th>frame</th>\n",
       "      <th>row_id</th>\n",
       "      <th>type</th>\n",
       "      <th>landmark_index</th>\n",
       "      <th>x</th>\n",
       "      <th>y</th>\n",
       "      <th>z</th>\n",
       "    </tr>\n",
       "  </thead>\n",
       "  <tbody>\n",
       "    <tr>\n",
       "      <th>468</th>\n",
       "      <td>19</td>\n",
       "      <td>19-left_hand-0</td>\n",
       "      <td>left_hand</td>\n",
       "      <td>0</td>\n",
       "      <td>0.812213</td>\n",
       "      <td>0.738550</td>\n",
       "      <td>-4.583143e-07</td>\n",
       "    </tr>\n",
       "    <tr>\n",
       "      <th>469</th>\n",
       "      <td>19</td>\n",
       "      <td>19-left_hand-1</td>\n",
       "      <td>left_hand</td>\n",
       "      <td>1</td>\n",
       "      <td>0.815377</td>\n",
       "      <td>0.664821</td>\n",
       "      <td>8.851855e-03</td>\n",
       "    </tr>\n",
       "    <tr>\n",
       "      <th>470</th>\n",
       "      <td>19</td>\n",
       "      <td>19-left_hand-2</td>\n",
       "      <td>left_hand</td>\n",
       "      <td>2</td>\n",
       "      <td>0.787713</td>\n",
       "      <td>0.590814</td>\n",
       "      <td>-6.002360e-03</td>\n",
       "    </tr>\n",
       "    <tr>\n",
       "      <th>471</th>\n",
       "      <td>19</td>\n",
       "      <td>19-left_hand-3</td>\n",
       "      <td>left_hand</td>\n",
       "      <td>3</td>\n",
       "      <td>0.745736</td>\n",
       "      <td>0.532715</td>\n",
       "      <td>-2.070161e-02</td>\n",
       "    </tr>\n",
       "    <tr>\n",
       "      <th>472</th>\n",
       "      <td>19</td>\n",
       "      <td>19-left_hand-4</td>\n",
       "      <td>left_hand</td>\n",
       "      <td>4</td>\n",
       "      <td>0.733460</td>\n",
       "      <td>0.490472</td>\n",
       "      <td>-3.522989e-02</td>\n",
       "    </tr>\n",
       "    <tr>\n",
       "      <th>...</th>\n",
       "      <td>...</td>\n",
       "      <td>...</td>\n",
       "      <td>...</td>\n",
       "      <td>...</td>\n",
       "      <td>...</td>\n",
       "      <td>...</td>\n",
       "      <td>...</td>\n",
       "    </tr>\n",
       "    <tr>\n",
       "      <th>8683</th>\n",
       "      <td>34</td>\n",
       "      <td>34-right_hand-16</td>\n",
       "      <td>right_hand</td>\n",
       "      <td>16</td>\n",
       "      <td>NaN</td>\n",
       "      <td>NaN</td>\n",
       "      <td>NaN</td>\n",
       "    </tr>\n",
       "    <tr>\n",
       "      <th>8684</th>\n",
       "      <td>34</td>\n",
       "      <td>34-right_hand-17</td>\n",
       "      <td>right_hand</td>\n",
       "      <td>17</td>\n",
       "      <td>NaN</td>\n",
       "      <td>NaN</td>\n",
       "      <td>NaN</td>\n",
       "    </tr>\n",
       "    <tr>\n",
       "      <th>8685</th>\n",
       "      <td>34</td>\n",
       "      <td>34-right_hand-18</td>\n",
       "      <td>right_hand</td>\n",
       "      <td>18</td>\n",
       "      <td>NaN</td>\n",
       "      <td>NaN</td>\n",
       "      <td>NaN</td>\n",
       "    </tr>\n",
       "    <tr>\n",
       "      <th>8686</th>\n",
       "      <td>34</td>\n",
       "      <td>34-right_hand-19</td>\n",
       "      <td>right_hand</td>\n",
       "      <td>19</td>\n",
       "      <td>NaN</td>\n",
       "      <td>NaN</td>\n",
       "      <td>NaN</td>\n",
       "    </tr>\n",
       "    <tr>\n",
       "      <th>8687</th>\n",
       "      <td>34</td>\n",
       "      <td>34-right_hand-20</td>\n",
       "      <td>right_hand</td>\n",
       "      <td>20</td>\n",
       "      <td>NaN</td>\n",
       "      <td>NaN</td>\n",
       "      <td>NaN</td>\n",
       "    </tr>\n",
       "  </tbody>\n",
       "</table>\n",
       "<p>1072 rows × 7 columns</p>\n",
       "</div>"
      ],
      "text/plain": [
       "      frame            row_id        type  landmark_index         x         y  \\\n",
       "468      19    19-left_hand-0   left_hand               0  0.812213  0.738550   \n",
       "469      19    19-left_hand-1   left_hand               1  0.815377  0.664821   \n",
       "470      19    19-left_hand-2   left_hand               2  0.787713  0.590814   \n",
       "471      19    19-left_hand-3   left_hand               3  0.745736  0.532715   \n",
       "472      19    19-left_hand-4   left_hand               4  0.733460  0.490472   \n",
       "...     ...               ...         ...             ...       ...       ...   \n",
       "8683     34  34-right_hand-16  right_hand              16       NaN       NaN   \n",
       "8684     34  34-right_hand-17  right_hand              17       NaN       NaN   \n",
       "8685     34  34-right_hand-18  right_hand              18       NaN       NaN   \n",
       "8686     34  34-right_hand-19  right_hand              19       NaN       NaN   \n",
       "8687     34  34-right_hand-20  right_hand              20       NaN       NaN   \n",
       "\n",
       "                 z  \n",
       "468  -4.583143e-07  \n",
       "469   8.851855e-03  \n",
       "470  -6.002360e-03  \n",
       "471  -2.070161e-02  \n",
       "472  -3.522989e-02  \n",
       "...            ...  \n",
       "8683           NaN  \n",
       "8684           NaN  \n",
       "8685           NaN  \n",
       "8686           NaN  \n",
       "8687           NaN  \n",
       "\n",
       "[1072 rows x 7 columns]"
      ]
     },
     "execution_count": 31,
     "metadata": {},
     "output_type": "execute_result"
    }
   ],
   "source": [
    "filter_out_landmarks(train.file_path[0],\"pose\")\n"
   ]
  },
  {
   "cell_type": "code",
   "execution_count": null,
   "metadata": {},
   "outputs": [],
   "source": []
  }
 ],
 "metadata": {
  "kernelspec": {
   "display_name": "signlens",
   "language": "python",
   "name": "python3"
  },
  "language_info": {
   "codemirror_mode": {
    "name": "ipython",
    "version": 3
   },
   "file_extension": ".py",
   "mimetype": "text/x-python",
   "name": "python",
   "nbconvert_exporter": "python",
   "pygments_lexer": "ipython3",
   "version": "3.10.6"
  }
 },
 "nbformat": 4,
 "nbformat_minor": 2
}

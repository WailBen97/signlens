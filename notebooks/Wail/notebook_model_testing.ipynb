{
 "cells": [
  {
   "cell_type": "code",
   "execution_count": 25,
   "metadata": {},
   "outputs": [
    {
     "name": "stdout",
     "output_type": "stream",
     "text": [
      "The autoreload extension is already loaded. To reload it, use:\n",
      "  %reload_ext autoreload\n"
     ]
    }
   ],
   "source": [
    "%load_ext autoreload\n",
    "%autoreload 2\n",
    "import pandas as pd\n",
    "from signlens.preprocessing.data import *\n",
    "from signlens.preprocessing.preprocess import *"
   ]
  },
  {
   "cell_type": "code",
   "execution_count": 3,
   "metadata": {},
   "outputs": [],
   "source": [
    "train=load_subset_data(frac=0.05)"
   ]
  },
  {
   "cell_type": "code",
   "execution_count": 23,
   "metadata": {},
   "outputs": [
    {
     "data": {
      "text/html": [
       "<div>\n",
       "<style scoped>\n",
       "    .dataframe tbody tr th:only-of-type {\n",
       "        vertical-align: middle;\n",
       "    }\n",
       "\n",
       "    .dataframe tbody tr th {\n",
       "        vertical-align: top;\n",
       "    }\n",
       "\n",
       "    .dataframe thead th {\n",
       "        text-align: right;\n",
       "    }\n",
       "</style>\n",
       "<table border=\"1\" class=\"dataframe\">\n",
       "  <thead>\n",
       "    <tr style=\"text-align: right;\">\n",
       "      <th></th>\n",
       "      <th>path</th>\n",
       "      <th>participant_id</th>\n",
       "      <th>sequence_id</th>\n",
       "      <th>sign</th>\n",
       "      <th>file_path</th>\n",
       "    </tr>\n",
       "  </thead>\n",
       "  <tbody>\n",
       "    <tr>\n",
       "      <th>0</th>\n",
       "      <td>train_landmark_files_noface/18796/1633742317.p...</td>\n",
       "      <td>18796</td>\n",
       "      <td>1633742317</td>\n",
       "      <td>balloon</td>\n",
       "      <td>../../raw_data/asl-signs/train_landmark_files_...</td>\n",
       "    </tr>\n",
       "    <tr>\n",
       "      <th>1</th>\n",
       "      <td>train_landmark_files_noface/32319/2649786734.p...</td>\n",
       "      <td>32319</td>\n",
       "      <td>2649786734</td>\n",
       "      <td>grandma</td>\n",
       "      <td>../../raw_data/asl-signs/train_landmark_files_...</td>\n",
       "    </tr>\n",
       "    <tr>\n",
       "      <th>2</th>\n",
       "      <td>train_landmark_files_noface/29302/2635589698.p...</td>\n",
       "      <td>29302</td>\n",
       "      <td>2635589698</td>\n",
       "      <td>pajamas</td>\n",
       "      <td>../../raw_data/asl-signs/train_landmark_files_...</td>\n",
       "    </tr>\n",
       "    <tr>\n",
       "      <th>3</th>\n",
       "      <td>train_landmark_files_noface/2044/1646679710.pa...</td>\n",
       "      <td>2044</td>\n",
       "      <td>1646679710</td>\n",
       "      <td>jeans</td>\n",
       "      <td>../../raw_data/asl-signs/train_landmark_files_...</td>\n",
       "    </tr>\n",
       "    <tr>\n",
       "      <th>4</th>\n",
       "      <td>train_landmark_files_noface/18796/2800137614.p...</td>\n",
       "      <td>18796</td>\n",
       "      <td>2800137614</td>\n",
       "      <td>tongue</td>\n",
       "      <td>../../raw_data/asl-signs/train_landmark_files_...</td>\n",
       "    </tr>\n",
       "    <tr>\n",
       "      <th>...</th>\n",
       "      <td>...</td>\n",
       "      <td>...</td>\n",
       "      <td>...</td>\n",
       "      <td>...</td>\n",
       "      <td>...</td>\n",
       "    </tr>\n",
       "    <tr>\n",
       "      <th>4719</th>\n",
       "      <td>train_landmark_files_noface/27610/543926830.pa...</td>\n",
       "      <td>27610</td>\n",
       "      <td>543926830</td>\n",
       "      <td>TV</td>\n",
       "      <td>../../raw_data/asl-signs/train_landmark_files_...</td>\n",
       "    </tr>\n",
       "    <tr>\n",
       "      <th>4720</th>\n",
       "      <td>train_landmark_files_noface/37055/2717208429.p...</td>\n",
       "      <td>37055</td>\n",
       "      <td>2717208429</td>\n",
       "      <td>cow</td>\n",
       "      <td>../../raw_data/asl-signs/train_landmark_files_...</td>\n",
       "    </tr>\n",
       "    <tr>\n",
       "      <th>4721</th>\n",
       "      <td>train_landmark_files_noface/16069/3432122141.p...</td>\n",
       "      <td>16069</td>\n",
       "      <td>3432122141</td>\n",
       "      <td>hen</td>\n",
       "      <td>../../raw_data/asl-signs/train_landmark_files_...</td>\n",
       "    </tr>\n",
       "    <tr>\n",
       "      <th>4722</th>\n",
       "      <td>train_landmark_files_noface/29302/1172247223.p...</td>\n",
       "      <td>29302</td>\n",
       "      <td>1172247223</td>\n",
       "      <td>hate</td>\n",
       "      <td>../../raw_data/asl-signs/train_landmark_files_...</td>\n",
       "    </tr>\n",
       "    <tr>\n",
       "      <th>4723</th>\n",
       "      <td>train_landmark_files_noface/4718/467340729.par...</td>\n",
       "      <td>4718</td>\n",
       "      <td>467340729</td>\n",
       "      <td>bedroom</td>\n",
       "      <td>../../raw_data/asl-signs/train_landmark_files_...</td>\n",
       "    </tr>\n",
       "  </tbody>\n",
       "</table>\n",
       "<p>4724 rows × 5 columns</p>\n",
       "</div>"
      ],
      "text/plain": [
       "                                                   path  participant_id  \\\n",
       "0     train_landmark_files_noface/18796/1633742317.p...           18796   \n",
       "1     train_landmark_files_noface/32319/2649786734.p...           32319   \n",
       "2     train_landmark_files_noface/29302/2635589698.p...           29302   \n",
       "3     train_landmark_files_noface/2044/1646679710.pa...            2044   \n",
       "4     train_landmark_files_noface/18796/2800137614.p...           18796   \n",
       "...                                                 ...             ...   \n",
       "4719  train_landmark_files_noface/27610/543926830.pa...           27610   \n",
       "4720  train_landmark_files_noface/37055/2717208429.p...           37055   \n",
       "4721  train_landmark_files_noface/16069/3432122141.p...           16069   \n",
       "4722  train_landmark_files_noface/29302/1172247223.p...           29302   \n",
       "4723  train_landmark_files_noface/4718/467340729.par...            4718   \n",
       "\n",
       "      sequence_id     sign                                          file_path  \n",
       "0      1633742317  balloon  ../../raw_data/asl-signs/train_landmark_files_...  \n",
       "1      2649786734  grandma  ../../raw_data/asl-signs/train_landmark_files_...  \n",
       "2      2635589698  pajamas  ../../raw_data/asl-signs/train_landmark_files_...  \n",
       "3      1646679710    jeans  ../../raw_data/asl-signs/train_landmark_files_...  \n",
       "4      2800137614   tongue  ../../raw_data/asl-signs/train_landmark_files_...  \n",
       "...           ...      ...                                                ...  \n",
       "4719    543926830       TV  ../../raw_data/asl-signs/train_landmark_files_...  \n",
       "4720   2717208429      cow  ../../raw_data/asl-signs/train_landmark_files_...  \n",
       "4721   3432122141      hen  ../../raw_data/asl-signs/train_landmark_files_...  \n",
       "4722   1172247223     hate  ../../raw_data/asl-signs/train_landmark_files_...  \n",
       "4723    467340729  bedroom  ../../raw_data/asl-signs/train_landmark_files_...  \n",
       "\n",
       "[4724 rows x 5 columns]"
      ]
     },
     "execution_count": 23,
     "metadata": {},
     "output_type": "execute_result"
    }
   ],
   "source": [
    "train"
   ]
  },
  {
   "cell_type": "code",
   "execution_count": 35,
   "metadata": {},
   "outputs": [],
   "source": [
    "y=label_dictionnary(train)"
   ]
  },
  {
   "cell_type": "code",
   "execution_count": 37,
   "metadata": {},
   "outputs": [
    {
     "data": {
      "text/plain": [
       "(4724, 250)"
      ]
     },
     "execution_count": 37,
     "metadata": {},
     "output_type": "execute_result"
    }
   ],
   "source": [
    "y.shape"
   ]
  },
  {
   "cell_type": "code",
   "execution_count": 4,
   "metadata": {},
   "outputs": [
    {
     "name": "stdout",
     "output_type": "stream",
     "text": [
      "File already exists, loaded matching 'sequence_id' rows.\n"
     ]
    }
   ],
   "source": [
    "train_parquet=load_frame_number_parquet(train)"
   ]
  },
  {
   "cell_type": "code",
   "execution_count": 5,
   "metadata": {},
   "outputs": [],
   "source": [
    "train_parquet_filter=filter_out_parquet_frame(train_parquet)\n"
   ]
  },
  {
   "cell_type": "code",
   "execution_count": 6,
   "metadata": {},
   "outputs": [],
   "source": [
    "data=group_pad_sequences(train_parquet_filter)"
   ]
  },
  {
   "cell_type": "code",
   "execution_count": 10,
   "metadata": {},
   "outputs": [],
   "source": [
    "from signlens.model.model import *"
   ]
  },
  {
   "cell_type": "code",
   "execution_count": 46,
   "metadata": {},
   "outputs": [],
   "source": [
    "from tensorflow.keras.optimizers import Adam"
   ]
  },
  {
   "cell_type": "code",
   "execution_count": 47,
   "metadata": {},
   "outputs": [],
   "source": [
    "adam=Adam(learning_rate=0.0001)"
   ]
  },
  {
   "cell_type": "code",
   "execution_count": 49,
   "metadata": {},
   "outputs": [],
   "source": [
    "model=Initialize_model()\n",
    "model.compile(optimizer=adam, loss='categorical_crossentropy', metrics=['accuracy'])\n"
   ]
  },
  {
   "cell_type": "code",
   "execution_count": 54,
   "metadata": {},
   "outputs": [
    {
     "name": "stdout",
     "output_type": "stream",
     "text": [
      "\u001b[34m\n",
      "Training model...\u001b[0m\n",
      "Epoch 1/100\n",
      "\u001b[1m12/12\u001b[0m \u001b[32m━━━━━━━━━━━━━━━━━━━━\u001b[0m\u001b[37m\u001b[0m \u001b[1m3s\u001b[0m 282ms/step - accuracy: 0.0065 - loss: 5.5185 - val_accuracy: 0.0046 - val_loss: 5.5214\n",
      "Epoch 2/100\n",
      "\u001b[1m12/12\u001b[0m \u001b[32m━━━━━━━━━━━━━━━━━━━━\u001b[0m\u001b[37m\u001b[0m \u001b[1m3s\u001b[0m 260ms/step - accuracy: 0.0078 - loss: 5.5178 - val_accuracy: 0.0046 - val_loss: 5.5214\n",
      "Epoch 3/100\n",
      "\u001b[1m12/12\u001b[0m \u001b[32m━━━━━━━━━━━━━━━━━━━━\u001b[0m\u001b[37m\u001b[0m \u001b[1m3s\u001b[0m 267ms/step - accuracy: 0.0091 - loss: 5.5168 - val_accuracy: 0.0046 - val_loss: 5.5214\n",
      "Epoch 4/100\n",
      "\u001b[1m12/12\u001b[0m \u001b[32m━━━━━━━━━━━━━━━━━━━━\u001b[0m\u001b[37m\u001b[0m \u001b[1m3s\u001b[0m 244ms/step - accuracy: 0.0070 - loss: 5.5162 - val_accuracy: 0.0046 - val_loss: 5.5214\n",
      "Epoch 5/100\n",
      "\u001b[1m12/12\u001b[0m \u001b[32m━━━━━━━━━━━━━━━━━━━━\u001b[0m\u001b[37m\u001b[0m \u001b[1m3s\u001b[0m 244ms/step - accuracy: 0.0084 - loss: 5.5144 - val_accuracy: 0.0046 - val_loss: 5.5215\n",
      "Epoch 6/100\n",
      "\u001b[1m12/12\u001b[0m \u001b[32m━━━━━━━━━━━━━━━━━━━━\u001b[0m\u001b[37m\u001b[0m \u001b[1m3s\u001b[0m 246ms/step - accuracy: 0.0084 - loss: 5.5121 - val_accuracy: 0.0046 - val_loss: 5.5215\n",
      "Epoch 6: early stopping\n",
      "Restoring model weights from the end of the best epoch: 1.\n",
      "✅ Model trained on 4319 rows\n",
      "<keras.src.callbacks.history.History object at 0x7fc2f459cd90>\n"
     ]
    }
   ],
   "source": [
    "model_trained, history=train_model(model,data,y,patience=5,verbose=1,batch_size=32)"
   ]
  },
  {
   "cell_type": "code",
   "execution_count": 57,
   "metadata": {},
   "outputs": [
    {
     "data": {
      "text/plain": [
       "16.87109375"
      ]
     },
     "execution_count": 57,
     "metadata": {},
     "output_type": "execute_result"
    }
   ],
   "source": [
    "4319/256"
   ]
  },
  {
   "cell_type": "code",
   "execution_count": 53,
   "metadata": {},
   "outputs": [
    {
     "data": {
      "text/plain": [
       "{'accuracy': [0.007277538999915123,\n",
       "  0.00661594420671463,\n",
       "  0.0069467416033148766,\n",
       "  0.007608335930854082,\n",
       "  0.007939132861793041,\n",
       "  0.007939132861793041,\n",
       "  0.008600727654993534,\n",
       "  0.008600727654993534,\n",
       "  0.00893152505159378,\n",
       "  0.007608335930854082,\n",
       "  0.0069467416033148766,\n",
       "  0.004961958155035973],\n",
       " 'loss': [5.520614147186279,\n",
       "  5.519506931304932,\n",
       "  5.518499374389648,\n",
       "  5.5172247886657715,\n",
       "  5.51593017578125,\n",
       "  5.514589786529541,\n",
       "  5.512722492218018,\n",
       "  5.510583400726318,\n",
       "  5.507897853851318,\n",
       "  5.504962921142578,\n",
       "  5.500286102294922,\n",
       "  5.4942779541015625],\n",
       " 'val_accuracy': [0.004629629664123058,\n",
       "  0.004629629664123058,\n",
       "  0.004629629664123058,\n",
       "  0.004629629664123058,\n",
       "  0.004629629664123058,\n",
       "  0.004629629664123058,\n",
       "  0.004629629664123058,\n",
       "  0.004629629664123058,\n",
       "  0.004629629664123058,\n",
       "  0.004629629664123058,\n",
       "  0.005401234608143568,\n",
       "  0.0038580247201025486],\n",
       " 'val_loss': [5.521360874176025,\n",
       "  5.521360397338867,\n",
       "  5.521378993988037,\n",
       "  5.521392345428467,\n",
       "  5.521435260772705,\n",
       "  5.521467685699463,\n",
       "  5.521646976470947,\n",
       "  5.5219950675964355,\n",
       "  5.52246618270874,\n",
       "  5.523599147796631,\n",
       "  5.52545166015625,\n",
       "  5.539310932159424]}"
      ]
     },
     "execution_count": 53,
     "metadata": {},
     "output_type": "execute_result"
    }
   ],
   "source": [
    "history.history"
   ]
  },
  {
   "cell_type": "code",
   "execution_count": 45,
   "metadata": {},
   "outputs": [
    {
     "data": {
      "text/html": [
       "<pre style=\"white-space:pre;overflow-x:auto;line-height:normal;font-family:Menlo,'DejaVu Sans Mono',consolas,'Courier New',monospace\"><span style=\"font-weight: bold\">Model: \"sequential_7\"</span>\n",
       "</pre>\n"
      ],
      "text/plain": [
       "\u001b[1mModel: \"sequential_7\"\u001b[0m\n"
      ]
     },
     "metadata": {},
     "output_type": "display_data"
    },
    {
     "data": {
      "text/html": [
       "<pre style=\"white-space:pre;overflow-x:auto;line-height:normal;font-family:Menlo,'DejaVu Sans Mono',consolas,'Courier New',monospace\">┏━━━━━━━━━━━━━━━━━━━━━━━━━━━━━━━━━┳━━━━━━━━━━━━━━━━━━━━━━━━┳━━━━━━━━━━━━━━━┓\n",
       "┃<span style=\"font-weight: bold\"> Layer (type)                    </span>┃<span style=\"font-weight: bold\"> Output Shape           </span>┃<span style=\"font-weight: bold\">       Param # </span>┃\n",
       "┡━━━━━━━━━━━━━━━━━━━━━━━━━━━━━━━━━╇━━━━━━━━━━━━━━━━━━━━━━━━╇━━━━━━━━━━━━━━━┩\n",
       "│ time_distributed_7              │ (<span style=\"color: #00d7ff; text-decoration-color: #00d7ff\">None</span>, <span style=\"color: #00af00; text-decoration-color: #00af00\">100</span>, <span style=\"color: #00af00; text-decoration-color: #00af00\">225</span>)       │             <span style=\"color: #00af00; text-decoration-color: #00af00\">0</span> │\n",
       "│ (<span style=\"color: #0087ff; text-decoration-color: #0087ff\">TimeDistributed</span>)               │                        │               │\n",
       "├─────────────────────────────────┼────────────────────────┼───────────────┤\n",
       "│ lstm_7 (<span style=\"color: #0087ff; text-decoration-color: #0087ff\">LSTM</span>)                   │ (<span style=\"color: #00d7ff; text-decoration-color: #00d7ff\">None</span>, <span style=\"color: #00af00; text-decoration-color: #00af00\">128</span>)            │       <span style=\"color: #00af00; text-decoration-color: #00af00\">181,248</span> │\n",
       "├─────────────────────────────────┼────────────────────────┼───────────────┤\n",
       "│ dense_7 (<span style=\"color: #0087ff; text-decoration-color: #0087ff\">Dense</span>)                 │ (<span style=\"color: #00d7ff; text-decoration-color: #00d7ff\">None</span>, <span style=\"color: #00af00; text-decoration-color: #00af00\">250</span>)            │        <span style=\"color: #00af00; text-decoration-color: #00af00\">32,250</span> │\n",
       "└─────────────────────────────────┴────────────────────────┴───────────────┘\n",
       "</pre>\n"
      ],
      "text/plain": [
       "┏━━━━━━━━━━━━━━━━━━━━━━━━━━━━━━━━━┳━━━━━━━━━━━━━━━━━━━━━━━━┳━━━━━━━━━━━━━━━┓\n",
       "┃\u001b[1m \u001b[0m\u001b[1mLayer (type)                   \u001b[0m\u001b[1m \u001b[0m┃\u001b[1m \u001b[0m\u001b[1mOutput Shape          \u001b[0m\u001b[1m \u001b[0m┃\u001b[1m \u001b[0m\u001b[1m      Param #\u001b[0m\u001b[1m \u001b[0m┃\n",
       "┡━━━━━━━━━━━━━━━━━━━━━━━━━━━━━━━━━╇━━━━━━━━━━━━━━━━━━━━━━━━╇━━━━━━━━━━━━━━━┩\n",
       "│ time_distributed_7              │ (\u001b[38;5;45mNone\u001b[0m, \u001b[38;5;34m100\u001b[0m, \u001b[38;5;34m225\u001b[0m)       │             \u001b[38;5;34m0\u001b[0m │\n",
       "│ (\u001b[38;5;33mTimeDistributed\u001b[0m)               │                        │               │\n",
       "├─────────────────────────────────┼────────────────────────┼───────────────┤\n",
       "│ lstm_7 (\u001b[38;5;33mLSTM\u001b[0m)                   │ (\u001b[38;5;45mNone\u001b[0m, \u001b[38;5;34m128\u001b[0m)            │       \u001b[38;5;34m181,248\u001b[0m │\n",
       "├─────────────────────────────────┼────────────────────────┼───────────────┤\n",
       "│ dense_7 (\u001b[38;5;33mDense\u001b[0m)                 │ (\u001b[38;5;45mNone\u001b[0m, \u001b[38;5;34m250\u001b[0m)            │        \u001b[38;5;34m32,250\u001b[0m │\n",
       "└─────────────────────────────────┴────────────────────────┴───────────────┘\n"
      ]
     },
     "metadata": {},
     "output_type": "display_data"
    },
    {
     "data": {
      "text/html": [
       "<pre style=\"white-space:pre;overflow-x:auto;line-height:normal;font-family:Menlo,'DejaVu Sans Mono',consolas,'Courier New',monospace\"><span style=\"font-weight: bold\"> Total params: </span><span style=\"color: #00af00; text-decoration-color: #00af00\">640,496</span> (2.44 MB)\n",
       "</pre>\n"
      ],
      "text/plain": [
       "\u001b[1m Total params: \u001b[0m\u001b[38;5;34m640,496\u001b[0m (2.44 MB)\n"
      ]
     },
     "metadata": {},
     "output_type": "display_data"
    },
    {
     "data": {
      "text/html": [
       "<pre style=\"white-space:pre;overflow-x:auto;line-height:normal;font-family:Menlo,'DejaVu Sans Mono',consolas,'Courier New',monospace\"><span style=\"font-weight: bold\"> Trainable params: </span><span style=\"color: #00af00; text-decoration-color: #00af00\">213,498</span> (833.98 KB)\n",
       "</pre>\n"
      ],
      "text/plain": [
       "\u001b[1m Trainable params: \u001b[0m\u001b[38;5;34m213,498\u001b[0m (833.98 KB)\n"
      ]
     },
     "metadata": {},
     "output_type": "display_data"
    },
    {
     "data": {
      "text/html": [
       "<pre style=\"white-space:pre;overflow-x:auto;line-height:normal;font-family:Menlo,'DejaVu Sans Mono',consolas,'Courier New',monospace\"><span style=\"font-weight: bold\"> Non-trainable params: </span><span style=\"color: #00af00; text-decoration-color: #00af00\">0</span> (0.00 B)\n",
       "</pre>\n"
      ],
      "text/plain": [
       "\u001b[1m Non-trainable params: \u001b[0m\u001b[38;5;34m0\u001b[0m (0.00 B)\n"
      ]
     },
     "metadata": {},
     "output_type": "display_data"
    },
    {
     "data": {
      "text/html": [
       "<pre style=\"white-space:pre;overflow-x:auto;line-height:normal;font-family:Menlo,'DejaVu Sans Mono',consolas,'Courier New',monospace\"><span style=\"font-weight: bold\"> Optimizer params: </span><span style=\"color: #00af00; text-decoration-color: #00af00\">426,998</span> (1.63 MB)\n",
       "</pre>\n"
      ],
      "text/plain": [
       "\u001b[1m Optimizer params: \u001b[0m\u001b[38;5;34m426,998\u001b[0m (1.63 MB)\n"
      ]
     },
     "metadata": {},
     "output_type": "display_data"
    }
   ],
   "source": [
    "model.summary()"
   ]
  }
 ],
 "metadata": {
  "kernelspec": {
   "display_name": "Python 3 (ipykernel)",
   "language": "python",
   "name": "python3"
  },
  "language_info": {
   "codemirror_mode": {
    "name": "ipython",
    "version": 3
   },
   "file_extension": ".py",
   "mimetype": "text/x-python",
   "name": "python",
   "nbconvert_exporter": "python",
   "pygments_lexer": "ipython3",
   "version": "3.10.6"
  }
 },
 "nbformat": 4,
 "nbformat_minor": 2
}
